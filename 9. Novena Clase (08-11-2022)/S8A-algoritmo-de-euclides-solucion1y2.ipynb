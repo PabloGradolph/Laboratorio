{
 "cells": [
  {
   "cell_type": "markdown",
   "metadata": {},
   "source": [
    "# Laboratorio 2021-22\n",
    "\n",
    "## Sesión 8A: El algoritmo de Euclides y algunas aplicaciones"
   ]
  },
  {
   "cell_type": "markdown",
   "metadata": {},
   "source": [
    "____________\n",
    "\n",
    "**Ejercicio 1** \n",
    "\n",
    "**a)** Implementa una función de Sagemath, $\\texttt{mcdEuclides}(a,b)$ que, dados $a,b\\in \\mathbb{N}$ devuelva $\\texttt{mcd}(a,b)$. Ten en cuenta que:\n",
    "\n",
    "- $m.\\texttt{mod}(n)$ calcula el resto de la división euclídea de $m$ entre $n$. **Importante**: si $n$ es positivo, este resto puede calcularse también con la instrucción $\\texttt{m}$%$\\texttt{n}$, pero si $n$ es negativo no, así que mejor que elijas la primera opción.\n",
    "\n",
    "- $(m-m.\\texttt{mod}(n))//n$ calcula el cociente de la división euclídea de $m$ entre $n$. **Importante**: si $n$ es positivo, este resto puede calcularse también con la instrucción $m//n$, pero si $n$ es negativo no, así que mejor que elijas la primera opción.\n",
    "\n",
    "\n",
    "**Sugerencia**.- Puedes usar dos variables, en las que vayas guardando el dividendo y el divisor de la división euclídea que toca hacer en cada paso, según el algoritmo, y usar una *asignación simultanea* para asignar a dichas variables los nuevos valores que deben tomar en el siguiente paso del algoritmo.\n",
    "\n",
    "*Observación:* Antes de comenzar este ejercicio deberías haber leído hasta la pregunta 6 del cuestionario."
   ]
  },
  {
   "cell_type": "code",
   "execution_count": null,
   "metadata": {},
   "outputs": [],
   "source": [
    "def mcdEuclides(a,b):\n",
    "    while b!=0:\n",
    "        a,b = b, a.mod(b)\n",
    "    return a\n",
    "\n",
    "for i in range(10):\n",
    "    a = floor(random()*10^6)\n",
    "    b = floor(random()*10^6)\n",
    "    print(mcdEuclides(a,b) == gcd(a,b))"
   ]
  },
  {
   "cell_type": "markdown",
   "metadata": {},
   "source": [
    "**b)** Utiliza la función que has creado para calcular $\\texttt{mcd}(A,B)$ , donde\n",
    "\n",
    "A=218642785123568873139682409674715388093959456164487337187488956673379356\\\n",
    "767683911984156651029778394931987024687851492334515679335911782357476206\\\n",
    "14982663417080369812889040177106484729433464665235053699\n",
    ",\n",
    "\n",
    "B=119976132398233094388696470435379953144947794792791371742797288237618367\\\n",
    "311805161691611633008753359414644839631837622023142114602546090710321767\\\n",
    "36353643010598584383754146657877123219026579974263168827\n",
    "\n"
   ]
  },
  {
   "cell_type": "code",
   "execution_count": null,
   "metadata": {},
   "outputs": [],
   "source": [
    "#Ejecuta para cargar A y B\n",
    "A=21864278512356887313968240967471538809395945616448733718748895667337935676768391198415665102977839493198702468785149233451567933591178235747620614982663417080369812889040177106484729433464665235053699\n",
    "B=11997613239823309438869647043537995314494779479279137174279728823761836731180516169161163300875335941464483963183762202314211460254609071032176736353643010598584383754146657877123219026579974263168827"
   ]
  },
  {
   "cell_type": "code",
   "execution_count": null,
   "metadata": {},
   "outputs": [],
   "source": [
    "mcdEuclides(A,B)"
   ]
  },
  {
   "cell_type": "markdown",
   "metadata": {},
   "source": [
    "**c)** Los $𝐴$  y  $𝐵$ del apartado anterior son cada uno de ellos producto de 2 primos de 100 cifras. Este el típo de números que se utilizan como claves en el criptosistema RSA (del que probablemente hablemos en otra sesión más adelante en el curso), cuya seguridad se basa en que es muy difícil factorizar números que son producto de dos primos grandes. Sin embargo, haber encontrado  $\\texttt{mcd}(A,B)$  hace muy sencillo factorizar  $𝐴$  y  $𝐵$ . Hazlo."
   ]
  },
  {
   "cell_type": "code",
   "execution_count": null,
   "metadata": {},
   "outputs": [],
   "source": [
    "factor(B//mcdEuclides(A,B))"
   ]
  },
  {
   "cell_type": "markdown",
   "metadata": {},
   "source": [
    "____________\n",
    "\n",
    "**Ejercicio 2** \n",
    "\n",
    "**a)** Implementa una función de Sagemath, $\\texttt{Bezout}(a,b)$ que, dados $a,b\\in \\mathbb{N}$ devuelva $d=\\texttt{mcd}(a,b)$ y los dos enteros $x,y$ tales que $ax+by=d$ que se calculan con el algoritmo de Euclides extendido, según el método 1 del documento que has leído previamente.\n",
    "\n",
    "**Sugerencia**.- Puedes usar dos variables en las que vayas guardando dos valores consecutivos de la lista de $x_i's$ descrita en el método 1 (los valores iniciales de dichas variables están descritos en el método), y usar una *asignación simultanea* para asignar a dichas variables los nuevos valores que deben tomar en el siguiente paso del algoritmo. Lo mismo aplica a los $y's$.\n",
    "\n",
    "*Observación:* Antes de comenzar este ejercicio deberías haber leído hasta la pregunta 9 del cuestionario."
   ]
  },
  {
   "cell_type": "code",
   "execution_count": null,
   "metadata": {},
   "outputs": [],
   "source": [
    "def Bezout(a,b):\n",
    "    q = (a - a.mod(b))//b\n",
    "    a,b = b, a.mod(b)\n",
    "    x0 = 0\n",
    "    x1 = 1\n",
    "    y0 = 1\n",
    "    y1 = -q\n",
    "    while b!=0:\n",
    "        q = (a - a.mod(b))//b\n",
    "        a,b = b, a.mod(b)\n",
    "        x0, x1 = x1, x0 - q*x1\n",
    "        y0, y1 = y1, y0 - q*y1\n",
    "    return a,x0,y0\n",
    "\n",
    "\n",
    "\n",
    "\n",
    "\n",
    "a = 45\n",
    "b = 34\n",
    "d,x,y = Bezout(a,b)\n",
    "print(a*x+b*y==d) \n",
    "    "
   ]
  },
  {
   "cell_type": "code",
   "execution_count": null,
   "metadata": {},
   "outputs": [],
   "source": []
  },
  {
   "cell_type": "markdown",
   "metadata": {},
   "source": [
    "**b)** Encuentra $D=\\texttt{mcd}(A,B)$ y enteros $X,Y$ tales que $D=AX+BY$ , donde\n",
    "A=218642785123568873139682409674715388093959456164487337187488956673379356\\\n",
    "767683911984156651029778394931987024687851492334515679335911782357476206\\\n",
    "14982663417080369812889040177106484729433464665235053699, \n",
    "\n",
    "B=119976132398233094388696470435379953144947794792791371742797288237618367\\\n",
    "311805161691611633008753359414644839631837622023142114602546090710321767\\\n",
    "36353643010598584383754146657877123219026579974263168827\n",
    "\n",
    "Comprueba tu resultado."
   ]
  },
  {
   "cell_type": "code",
   "execution_count": null,
   "metadata": {},
   "outputs": [],
   "source": [
    "#Ejecuta para cargar los valores\n",
    "A=21864278512356887313968240967471538809395945616448733718748895667337935676768391198415665102977839493198702468785149233451567933591178235747620614982663417080369812889040177106484729433464665235053699\n",
    "B=11997613239823309438869647043537995314494779479279137174279728823761836731180516169161163300875335941464483963183762202314211460254609071032176736353643010598584383754146657877123219026579974263168827\n"
   ]
  },
  {
   "cell_type": "code",
   "execution_count": null,
   "metadata": {},
   "outputs": [],
   "source": [
    "Bezout(A,B)"
   ]
  }
 ],
 "metadata": {
  "kernelspec": {
   "display_name": "SageMath 9.0",
   "language": "sage",
   "name": "sagemath"
  },
  "language_info": {
   "codemirror_mode": {
    "name": "ipython",
    "version": 3
   },
   "file_extension": ".py",
   "mimetype": "text/x-python",
   "name": "python",
   "nbconvert_exporter": "python",
   "pygments_lexer": "ipython3",
   "version": "3.7.6"
  }
 },
 "nbformat": 4,
 "nbformat_minor": 4
}
