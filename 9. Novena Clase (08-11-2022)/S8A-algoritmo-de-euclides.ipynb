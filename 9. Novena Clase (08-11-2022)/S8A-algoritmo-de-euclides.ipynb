{
 "cells": [
  {
   "cell_type": "markdown",
   "metadata": {},
   "source": [
    "# Laboratorio 2021-22\n",
    "\n",
    "## Sesión 8A: El algoritmo de Euclides y algunas aplicaciones"
   ]
  },
  {
   "cell_type": "markdown",
   "metadata": {},
   "source": [
    "____________\n",
    "\n",
    "**Ejercicio 1** \n",
    "\n",
    "**a)** Implementa una función de Sagemath, $\\texttt{mcdEuclides}(a,b)$ que, dados $a,b\\in \\mathbb{N}$ devuelva $\\texttt{mcd}(a,b)$. Ten en cuenta que:\n",
    "\n",
    "- $m.\\texttt{mod}(n)$ calcula el resto de la división euclídea de $m$ entre $n$. **Importante**: si $n$ es positivo, este resto puede calcularse también con la instrucción $\\texttt{m}$%$\\texttt{n}$, pero si $n$ es negativo no, así que mejor que elijas la primera opción.\n",
    "\n",
    "- $(m-m.\\texttt{mod}(n))//n$ calcula el cociente de la división euclídea de $m$ entre $n$. **Importante**: si $n$ es positivo, este resto puede calcularse también con la instrucción $m//n$, pero si $n$ es negativo no, así que mejor que elijas la primera opción.\n",
    "\n",
    "\n",
    "**Sugerencia**.- Puedes usar dos variables, en las que vayas guardando el dividendo y el divisor de la división euclídea que toca hacer en cada paso, según el algoritmo, y usar una *asignación simultanea* para asignar a dichas variables los nuevos valores que deben tomar en el siguiente paso del algoritmo.\n",
    "\n",
    "*Observación:* Antes de comenzar este ejercicio deberías haber leído hasta la pregunta 6 del cuestionario."
   ]
  },
  {
   "cell_type": "code",
   "execution_count": null,
   "metadata": {},
   "outputs": [],
   "source": []
  },
  {
   "cell_type": "markdown",
   "metadata": {},
   "source": [
    "**b)** Utiliza la función que has creado para calcular $\\texttt{mcd}(A,B)$ , donde\n",
    "\n",
    "A=218642785123568873139682409674715388093959456164487337187488956673379356\\\n",
    "767683911984156651029778394931987024687851492334515679335911782357476206\\\n",
    "14982663417080369812889040177106484729433464665235053699\n",
    ",\n",
    "\n",
    "B=119976132398233094388696470435379953144947794792791371742797288237618367\\\n",
    "311805161691611633008753359414644839631837622023142114602546090710321767\\\n",
    "36353643010598584383754146657877123219026579974263168827\n",
    "\n"
   ]
  },
  {
   "cell_type": "code",
   "execution_count": null,
   "metadata": {},
   "outputs": [],
   "source": [
    "#Ejecuta para cargar A y B\n",
    "A=21864278512356887313968240967471538809395945616448733718748895667337935676768391198415665102977839493198702468785149233451567933591178235747620614982663417080369812889040177106484729433464665235053699\n",
    "B=11997613239823309438869647043537995314494779479279137174279728823761836731180516169161163300875335941464483963183762202314211460254609071032176736353643010598584383754146657877123219026579974263168827"
   ]
  },
  {
   "cell_type": "code",
   "execution_count": null,
   "metadata": {},
   "outputs": [],
   "source": []
  },
  {
   "cell_type": "markdown",
   "metadata": {},
   "source": [
    "**c)** Los $𝐴$  y  $𝐵$ del apartado anterior son cada uno de ellos producto de 2 primos de 100 cifras. Este el típo de números que se utilizan como claves en el criptosistema RSA (del que probablemente hablemos en otra sesión más adelante en el curso), cuya seguridad se basa en que es muy difícil factorizar números que son producto de dos primos grandes. Sin embargo, haber encontrado  $\\texttt{mcd}(A,B)$  hace muy sencillo factorizar  $𝐴$  y  $𝐵$ . Hazlo."
   ]
  },
  {
   "cell_type": "code",
   "execution_count": null,
   "metadata": {},
   "outputs": [],
   "source": []
  },
  {
   "cell_type": "markdown",
   "metadata": {},
   "source": [
    "____________\n",
    "\n",
    "**Ejercicio 2** \n",
    "\n",
    "**a)** Implementa una función de Sagemath, $\\texttt{Bezout}(a,b)$ que, dados $a,b\\in \\mathbb{N}$ devuelva $d=\\texttt{mcd}(a,b)$ y los dos enteros $x,y$ tales que $ax+by=d$ que se calculan con el algoritmo de Euclides extendido, según el método 1 del documento que has leído previamente.\n",
    "\n",
    "**Sugerencia**.- Puedes usar dos variables en las que vayas guardando dos valores consecutivos de la lista de $x_i's$ descrita en el método 1 (los valores iniciales de dichas variables están descritos en el método), y usar una *asignación simultanea* para asignar a dichas variables los nuevos valores que deben tomar en el siguiente paso del algoritmo. Lo mismo aplica a los $y's$.\n",
    "\n",
    "*Observación:* Antes de comenzar este ejercicio deberías haber leído hasta la pregunta 9 del cuestionario."
   ]
  },
  {
   "cell_type": "code",
   "execution_count": null,
   "metadata": {},
   "outputs": [],
   "source": []
  },
  {
   "cell_type": "markdown",
   "metadata": {},
   "source": [
    "**b)** Encuentra $D=\\texttt{mcd}(A,B)$ y enteros $X,Y$ tales que $D=AX+BY$ , donde\n",
    "A=218642785123568873139682409674715388093959456164487337187488956673379356\\\n",
    "767683911984156651029778394931987024687851492334515679335911782357476206\\\n",
    "14982663417080369812889040177106484729433464665235053699, \n",
    "\n",
    "B=119976132398233094388696470435379953144947794792791371742797288237618367\\\n",
    "311805161691611633008753359414644839631837622023142114602546090710321767\\\n",
    "36353643010598584383754146657877123219026579974263168827\n",
    "\n",
    "Comprueba tu resultado."
   ]
  },
  {
   "cell_type": "code",
   "execution_count": null,
   "metadata": {},
   "outputs": [],
   "source": [
    "#Ejecuta para cargar los valores\n",
    "A=21864278512356887313968240967471538809395945616448733718748895667337935676768391198415665102977839493198702468785149233451567933591178235747620614982663417080369812889040177106484729433464665235053699\n",
    "B=11997613239823309438869647043537995314494779479279137174279728823761836731180516169161163300875335941464483963183762202314211460254609071032176736353643010598584383754146657877123219026579974263168827\n"
   ]
  },
  {
   "cell_type": "code",
   "execution_count": null,
   "metadata": {},
   "outputs": [],
   "source": []
  },
  {
   "cell_type": "markdown",
   "metadata": {},
   "source": [
    "____________\n",
    "\n",
    "**Ejercicio 3** \n",
    "\n",
    "**a)** Implementa una función de Sagemath, $\\texttt{DiofLin}(a,b,c)$ que, dados $a,b,c\\in\\mathbb Z$, nos proporcione la solución particular de la ecuación diofántica lineal $ax+by=c$ que se consigue con el método 2 del documento que has leído en la actividad previa en caso de que la ecuación tenga solución. Si la ecuación no tiene solución, el programa debe avisarnos.\n",
    "\n",
    "*Observación:* Antes de comenzar este ejercicio deberías haber leído hasta la pregunta 11 del cuestionario."
   ]
  },
  {
   "cell_type": "code",
   "execution_count": null,
   "metadata": {},
   "outputs": [],
   "source": []
  },
  {
   "cell_type": "markdown",
   "metadata": {},
   "source": [
    "**b)** Utiliza la función del apartado anterior para encontrar una solución, o para comprobar que no existen soluciones, de las ecuaciones\n",
    "$$10x+36y=28, \\qquad 10x+28y=28 \\qquad Ax+By=C, $$\n",
    "donde $A, B$ son los enteros de los dos ejercicios anteriores y $$C=6620973314391914947864518643594412541906261803068008742470862889361305163047642065980081178927344734.$$\n",
    "\n",
    "Comprueba que tus resultados son correctos."
   ]
  },
  {
   "cell_type": "code",
   "execution_count": null,
   "metadata": {},
   "outputs": [],
   "source": [
    "#Ejecuta para cargar los valores\n",
    "A=21864278512356887313968240967471538809395945616448733718748895667337935676768391198415665102977839493198702468785149233451567933591178235747620614982663417080369812889040177106484729433464665235053699\n",
    "B=11997613239823309438869647043537995314494779479279137174279728823761836731180516169161163300875335941464483963183762202314211460254609071032176736353643010598584383754146657877123219026579974263168827\n",
    "C=6620973314391914947864518643594412541906261803068008742470862889361305163047642065980081178927344734\n"
   ]
  },
  {
   "cell_type": "code",
   "execution_count": null,
   "metadata": {},
   "outputs": [],
   "source": []
  },
  {
   "cell_type": "markdown",
   "metadata": {},
   "source": [
    "____________\n",
    "\n",
    "**Ejercicio 4** \n",
    "\n",
    "El método 3 del texto que has leído en el cuestionario de la actividad previa muestra cómo pueden describirse todas las soluciones de una ecuación diofántica lineal. \n",
    "\n",
    "**a)** Implementa una función de Sagemath, $\\texttt{DiofLinGrande}(a,b,c, N)$ que, dados $a,b,c$ y un natural $N\\ge0$ , encuentre la solución de $ax+by=c$ con $x\\ge N$  para la que $x$ es lo menor posible (es decir, que si $(x,y)$ es la solución que buscamos y $(x',y')$ es otra solución con $x'\\ge N$, entonces $x'>x\\ge N$).\n",
    "\n",
    "Comprueba tu resultado para la ecuación  $10x+36y=28$  y  $N=100,110,120,-80,-90,$ y $−100$  (para entender las soluciones conviene preguntarse cuánto vale el paso $b/d$  en la expresión $x=x_0+\\frac{b}{d}n$ que hemos visto para las soluciones).\n",
    "\n",
    "*Observaciones:* \n",
    "\n",
    "- Antes de comenzar este ejercicio deberías haber leído completamente el cuestionario.\n",
    "\n",
    "- Puedes suponer que $b\\not=0$, ya que en otro caso todas las soluciones (si existe alguna) tienen la misma $x=\\frac ca$, que es entera porque, si existe soluci&oacute;n, &nbsp;$\\text{mcd}(a,0)=a \\mid c$.</p>\n",
    "\n",
    "*Sugerencias:*\n",
    "\n",
    "- En este ejercicio vas a tener que trabajar con inecuaciones. Conviene distinguir los casos $\\frac bd >0$ y $\\frac bd <0$.\n",
    "\n",
    "- Pueden resultar útiles las funciones $\\texttt{floor}$  y $\\texttt{ceil}$."
   ]
  },
  {
   "cell_type": "code",
   "execution_count": null,
   "metadata": {},
   "outputs": [],
   "source": []
  },
  {
   "cell_type": "markdown",
   "metadata": {},
   "source": [
    "**b)** Escribe un programa que, dados $a,b,c$ y $N\\ge 0$, nos dibuje con el comando $\\texttt{points}$ todas los soluciones $(x,y)$ de la ecuación $ax+by=c$ que tengan $-N\\le x \\le N$."
   ]
  },
  {
   "cell_type": "code",
   "execution_count": null,
   "metadata": {},
   "outputs": [],
   "source": []
  }
 ],
 "metadata": {
  "kernelspec": {
   "display_name": "SageMath 9.0",
   "language": "sage",
   "name": "sagemath"
  },
  "language_info": {
   "codemirror_mode": {
    "name": "ipython",
    "version": 3
   },
   "file_extension": ".py",
   "mimetype": "text/x-python",
   "name": "python",
   "nbconvert_exporter": "python",
   "pygments_lexer": "ipython3",
   "version": "3.7.6"
  }
 },
 "nbformat": 4,
 "nbformat_minor": 4
}
