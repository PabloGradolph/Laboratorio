{
 "cells": [
  {
   "cell_type": "markdown",
   "metadata": {},
   "source": [
    "**Primos de Mersenne y números perfectos.**\n",
    "\n",
    "**a)**  Determina para qué valores de $n$ entre 1 y 10 son primos los números $M_n=2^n-1$. A la vista de los resultados, ¿te atreves a conjeturar cuándo lo serán para otros valores de $n$?  Los primos de la forma $M_n$ se denominan primos de Mersenne en memoria del filósofo del siglo XVII Marin Mersenne, quien los estudió en su obra *Cognitata Physico-Mathematica*."
   ]
  },
  {
   "cell_type": "code",
   "execution_count": 1,
   "metadata": {},
   "outputs": [
    {
     "name": "stdout",
     "output_type": "stream",
     "text": [
      "Para el valor 2, (2^n - 1) es primo.\n",
      "Para el valor 3, (2^n - 1) es primo.\n",
      "Para el valor 5, (2^n - 1) es primo.\n",
      "Para el valor 7, (2^n - 1) es primo.\n"
     ]
    }
   ],
   "source": [
    "# Función que define si el número pasado como argumento es primo o no.\n",
    "def is_prime(n):\n",
    "  for i in range(2,n):\n",
    "    if (n%i) == 0:\n",
    "      return False\n",
    "  return True\n",
    "\n",
    "# Bucle del 1 al 10 en el que se imprimen los valores  \n",
    "for n in range(1, 11):\n",
    "    valor = (2**n) - 1\n",
    "    if valor == 1:\n",
    "        continue\n",
    "    else:\n",
    "        primo = is_prime(valor)\n",
    "        if primo == True:\n",
    "            print(f\"Para el valor {n}, (2^n - 1) es primo.\")\n",
    "\n",
    "# De momento solo funciona para valores primos de n.\n",
    "# print (valor in Primes()) también valdría para saber si el número es primo."
   ]
  },
  {
   "cell_type": "markdown",
   "metadata": {},
   "source": [
    "> **Conjetura** (sobre los primos de Mersenne) ...."
   ]
  },
  {
   "cell_type": "markdown",
   "metadata": {},
   "source": [
    "______________\n",
    "**b)** Repite el apartado a) para $n$ entre 11 y 20. ¿Cambia tu conjetura?"
   ]
  },
  {
   "cell_type": "code",
   "execution_count": 2,
   "metadata": {},
   "outputs": [
    {
     "name": "stdout",
     "output_type": "stream",
     "text": [
      "Para el valor 13, (2^n - 1) es primo.\n",
      "Para el valor 17, (2^n - 1) es primo.\n",
      "Para el valor 19, (2^n - 1) es primo.\n"
     ]
    }
   ],
   "source": [
    "# Función que define si el número pasado como argumento es primo o no.\n",
    "def is_prime(n):\n",
    "  for i in range(2,n):\n",
    "    if (n%i) == 0:\n",
    "      return False\n",
    "  return True\n",
    "\n",
    "# Bucle del 1 al 10 en el que se imprimen los valores  \n",
    "for n in range(11, 21):\n",
    "    valor = (2**n) - 1\n",
    "    if valor == 1:\n",
    "        continue\n",
    "    else:\n",
    "        primo = is_prime(valor)\n",
    "        if primo == True:\n",
    "            print(f\"Para el valor {n}, (2^n - 1) es primo.\")\n",
    "\n",
    "# En este caso el 11 no produce un número primo."
   ]
  },
  {
   "cell_type": "markdown",
   "metadata": {},
   "source": [
    "_______________\n",
    "**c)** Mersenne conjeturó que había una cantidad finita de primos de la forma $M_n$, concretamente los correspondientes a\n",
    "$$\n",
    "n=2,3,5,7,13,17,19,31,67,127,257.\n",
    "$$\n",
    "Mersenne se equivocó doblemente. Por una parte, no todos los $n$ de esta lista producen un primo. Detecta, con la ayuda de Sage, cuáles son los que no lo hacen. Por otra, hay primos de Mersenne correspondientes a valores de $n$ que no están en esta lista. Comprueba que ese es el caso si\n",
    "$$\n",
    "n=61, 89, 107, 521,607,1279.\n",
    "$$\n",
    "\n",
    "En septiembre de 2022 se conocen 51 primos de Mersenne. El mayor, $M_{82 589 933}$, es el mayor primo conocido hasta ese momento. No se sabe si hay más."
   ]
  },
  {
   "cell_type": "code",
   "execution_count": 6,
   "metadata": {},
   "outputs": [
    {
     "data": {
      "text/html": [
       "<html><script type=\"math/tex; mode=display\">\\newcommand{\\Bold}[1]{\\mathbf{#1}}\\left[2, 3, 5, 7, 13, 17, 19, 31, 67, 127, 257\\right]</script></html>"
      ],
      "text/plain": [
       "[2, 3, 5, 7, 13, 17, 19, 31, 67, 127, 257]"
      ]
     },
     "metadata": {},
     "output_type": "display_data"
    },
    {
     "data": {
      "text/html": [
       "<html><script type=\"math/tex; mode=display\">\\newcommand{\\Bold}[1]{\\mathbf{#1}}\\verb|Para|\\phantom{\\verb!x!}\\verb|el|\\phantom{\\verb!x!}\\verb|valor|\\phantom{\\verb!x!}\\verb|2,|\\phantom{\\verb!x!}\\verb|(2^n|\\phantom{\\verb!x!}\\verb|-|\\phantom{\\verb!x!}\\verb|1)|\\phantom{\\verb!x!}\\verb|es|\\phantom{\\verb!x!}\\verb|primo.|</script></html>"
      ],
      "text/plain": [
       "'Para el valor 2, (2^n - 1) es primo.'"
      ]
     },
     "metadata": {},
     "output_type": "display_data"
    },
    {
     "data": {
      "text/html": [
       "<html><script type=\"math/tex; mode=display\">\\newcommand{\\Bold}[1]{\\mathbf{#1}}\\verb|Para|\\phantom{\\verb!x!}\\verb|el|\\phantom{\\verb!x!}\\verb|valor|\\phantom{\\verb!x!}\\verb|3,|\\phantom{\\verb!x!}\\verb|(2^n|\\phantom{\\verb!x!}\\verb|-|\\phantom{\\verb!x!}\\verb|1)|\\phantom{\\verb!x!}\\verb|es|\\phantom{\\verb!x!}\\verb|primo.|</script></html>"
      ],
      "text/plain": [
       "'Para el valor 3, (2^n - 1) es primo.'"
      ]
     },
     "metadata": {},
     "output_type": "display_data"
    },
    {
     "data": {
      "text/html": [
       "<html><script type=\"math/tex; mode=display\">\\newcommand{\\Bold}[1]{\\mathbf{#1}}\\verb|Para|\\phantom{\\verb!x!}\\verb|el|\\phantom{\\verb!x!}\\verb|valor|\\phantom{\\verb!x!}\\verb|5,|\\phantom{\\verb!x!}\\verb|(2^n|\\phantom{\\verb!x!}\\verb|-|\\phantom{\\verb!x!}\\verb|1)|\\phantom{\\verb!x!}\\verb|es|\\phantom{\\verb!x!}\\verb|primo.|</script></html>"
      ],
      "text/plain": [
       "'Para el valor 5, (2^n - 1) es primo.'"
      ]
     },
     "metadata": {},
     "output_type": "display_data"
    },
    {
     "data": {
      "text/html": [
       "<html><script type=\"math/tex; mode=display\">\\newcommand{\\Bold}[1]{\\mathbf{#1}}\\verb|Para|\\phantom{\\verb!x!}\\verb|el|\\phantom{\\verb!x!}\\verb|valor|\\phantom{\\verb!x!}\\verb|7,|\\phantom{\\verb!x!}\\verb|(2^n|\\phantom{\\verb!x!}\\verb|-|\\phantom{\\verb!x!}\\verb|1)|\\phantom{\\verb!x!}\\verb|es|\\phantom{\\verb!x!}\\verb|primo.|</script></html>"
      ],
      "text/plain": [
       "'Para el valor 7, (2^n - 1) es primo.'"
      ]
     },
     "metadata": {},
     "output_type": "display_data"
    },
    {
     "data": {
      "text/html": [
       "<html><script type=\"math/tex; mode=display\">\\newcommand{\\Bold}[1]{\\mathbf{#1}}\\verb|Para|\\phantom{\\verb!x!}\\verb|el|\\phantom{\\verb!x!}\\verb|valor|\\phantom{\\verb!x!}\\verb|13,|\\phantom{\\verb!x!}\\verb|(2^n|\\phantom{\\verb!x!}\\verb|-|\\phantom{\\verb!x!}\\verb|1)|\\phantom{\\verb!x!}\\verb|es|\\phantom{\\verb!x!}\\verb|primo.|</script></html>"
      ],
      "text/plain": [
       "'Para el valor 13, (2^n - 1) es primo.'"
      ]
     },
     "metadata": {},
     "output_type": "display_data"
    },
    {
     "data": {
      "text/html": [
       "<html><script type=\"math/tex; mode=display\">\\newcommand{\\Bold}[1]{\\mathbf{#1}}\\verb|Para|\\phantom{\\verb!x!}\\verb|el|\\phantom{\\verb!x!}\\verb|valor|\\phantom{\\verb!x!}\\verb|17,|\\phantom{\\verb!x!}\\verb|(2^n|\\phantom{\\verb!x!}\\verb|-|\\phantom{\\verb!x!}\\verb|1)|\\phantom{\\verb!x!}\\verb|es|\\phantom{\\verb!x!}\\verb|primo.|</script></html>"
      ],
      "text/plain": [
       "'Para el valor 17, (2^n - 1) es primo.'"
      ]
     },
     "metadata": {},
     "output_type": "display_data"
    },
    {
     "data": {
      "text/html": [
       "<html><script type=\"math/tex; mode=display\">\\newcommand{\\Bold}[1]{\\mathbf{#1}}\\verb|Para|\\phantom{\\verb!x!}\\verb|el|\\phantom{\\verb!x!}\\verb|valor|\\phantom{\\verb!x!}\\verb|19,|\\phantom{\\verb!x!}\\verb|(2^n|\\phantom{\\verb!x!}\\verb|-|\\phantom{\\verb!x!}\\verb|1)|\\phantom{\\verb!x!}\\verb|es|\\phantom{\\verb!x!}\\verb|primo.|</script></html>"
      ],
      "text/plain": [
       "'Para el valor 19, (2^n - 1) es primo.'"
      ]
     },
     "metadata": {},
     "output_type": "display_data"
    },
    {
     "data": {
      "text/html": [
       "<html><script type=\"math/tex; mode=display\">\\newcommand{\\Bold}[1]{\\mathbf{#1}}\\verb|Para|\\phantom{\\verb!x!}\\verb|el|\\phantom{\\verb!x!}\\verb|valor|\\phantom{\\verb!x!}\\verb|31,|\\phantom{\\verb!x!}\\verb|(2^n|\\phantom{\\verb!x!}\\verb|-|\\phantom{\\verb!x!}\\verb|1)|\\phantom{\\verb!x!}\\verb|es|\\phantom{\\verb!x!}\\verb|primo.|</script></html>"
      ],
      "text/plain": [
       "'Para el valor 31, (2^n - 1) es primo.'"
      ]
     },
     "metadata": {},
     "output_type": "display_data"
    },
    {
     "data": {
      "text/html": [
       "<html><script type=\"math/tex; mode=display\">\\newcommand{\\Bold}[1]{\\mathbf{#1}}\\verb|Para|\\phantom{\\verb!x!}\\verb|el|\\phantom{\\verb!x!}\\verb|valor|\\phantom{\\verb!x!}\\verb|127,|\\phantom{\\verb!x!}\\verb|(2^n|\\phantom{\\verb!x!}\\verb|-|\\phantom{\\verb!x!}\\verb|1)|\\phantom{\\verb!x!}\\verb|es|\\phantom{\\verb!x!}\\verb|primo.|</script></html>"
      ],
      "text/plain": [
       "'Para el valor 127, (2^n - 1) es primo.'"
      ]
     },
     "metadata": {},
     "output_type": "display_data"
    }
   ],
   "source": [
    "# Definimos la lista de números n\n",
    "lista_n = [2, 3, 5, 7, 13, 17, 19, 31, 67, 127, 257]\n",
    "show(lista_n)\n",
    "# Hacemos igual que antes pero en este caso con la lista.\n",
    "for n in lista_n:\n",
    "    valor = (2**n) - 1\n",
    "    if valor == 1:\n",
    "        continue\n",
    "    else:\n",
    "        primo = is_prime(valor)\n",
    "        if primo == True:\n",
    "            show(f\"Para el valor {n}, (2^n - 1) es primo.\")\n",
    "\n",
    "# Se equivocó en los números 67 y 257 ya que no conforman un número primo."
   ]
  },
  {
   "cell_type": "code",
   "execution_count": 7,
   "metadata": {},
   "outputs": [
    {
     "data": {
      "text/html": [
       "<html><script type=\"math/tex; mode=display\">\\newcommand{\\Bold}[1]{\\mathbf{#1}}\\left[61, 89, 107, 521, 607, 1279\\right]</script></html>"
      ],
      "text/plain": [
       "[61, 89, 107, 521, 607, 1279]"
      ]
     },
     "metadata": {},
     "output_type": "display_data"
    },
    {
     "data": {
      "text/html": [
       "<html><script type=\"math/tex; mode=display\">\\newcommand{\\Bold}[1]{\\mathbf{#1}}\\verb|Para|\\phantom{\\verb!x!}\\verb|el|\\phantom{\\verb!x!}\\verb|valor|\\phantom{\\verb!x!}\\verb|61,|\\phantom{\\verb!x!}\\verb|(2^n|\\phantom{\\verb!x!}\\verb|-|\\phantom{\\verb!x!}\\verb|1)|\\phantom{\\verb!x!}\\verb|es|\\phantom{\\verb!x!}\\verb|primo.|</script></html>"
      ],
      "text/plain": [
       "'Para el valor 61, (2^n - 1) es primo.'"
      ]
     },
     "metadata": {},
     "output_type": "display_data"
    },
    {
     "data": {
      "text/html": [
       "<html><script type=\"math/tex; mode=display\">\\newcommand{\\Bold}[1]{\\mathbf{#1}}\\verb|Para|\\phantom{\\verb!x!}\\verb|el|\\phantom{\\verb!x!}\\verb|valor|\\phantom{\\verb!x!}\\verb|89,|\\phantom{\\verb!x!}\\verb|(2^n|\\phantom{\\verb!x!}\\verb|-|\\phantom{\\verb!x!}\\verb|1)|\\phantom{\\verb!x!}\\verb|es|\\phantom{\\verb!x!}\\verb|primo.|</script></html>"
      ],
      "text/plain": [
       "'Para el valor 89, (2^n - 1) es primo.'"
      ]
     },
     "metadata": {},
     "output_type": "display_data"
    },
    {
     "data": {
      "text/html": [
       "<html><script type=\"math/tex; mode=display\">\\newcommand{\\Bold}[1]{\\mathbf{#1}}\\verb|Para|\\phantom{\\verb!x!}\\verb|el|\\phantom{\\verb!x!}\\verb|valor|\\phantom{\\verb!x!}\\verb|107,|\\phantom{\\verb!x!}\\verb|(2^n|\\phantom{\\verb!x!}\\verb|-|\\phantom{\\verb!x!}\\verb|1)|\\phantom{\\verb!x!}\\verb|es|\\phantom{\\verb!x!}\\verb|primo.|</script></html>"
      ],
      "text/plain": [
       "'Para el valor 107, (2^n - 1) es primo.'"
      ]
     },
     "metadata": {},
     "output_type": "display_data"
    },
    {
     "data": {
      "text/html": [
       "<html><script type=\"math/tex; mode=display\">\\newcommand{\\Bold}[1]{\\mathbf{#1}}\\verb|Para|\\phantom{\\verb!x!}\\verb|el|\\phantom{\\verb!x!}\\verb|valor|\\phantom{\\verb!x!}\\verb|521,|\\phantom{\\verb!x!}\\verb|(2^n|\\phantom{\\verb!x!}\\verb|-|\\phantom{\\verb!x!}\\verb|1)|\\phantom{\\verb!x!}\\verb|es|\\phantom{\\verb!x!}\\verb|primo.|</script></html>"
      ],
      "text/plain": [
       "'Para el valor 521, (2^n - 1) es primo.'"
      ]
     },
     "metadata": {},
     "output_type": "display_data"
    },
    {
     "data": {
      "text/html": [
       "<html><script type=\"math/tex; mode=display\">\\newcommand{\\Bold}[1]{\\mathbf{#1}}\\verb|Para|\\phantom{\\verb!x!}\\verb|el|\\phantom{\\verb!x!}\\verb|valor|\\phantom{\\verb!x!}\\verb|607,|\\phantom{\\verb!x!}\\verb|(2^n|\\phantom{\\verb!x!}\\verb|-|\\phantom{\\verb!x!}\\verb|1)|\\phantom{\\verb!x!}\\verb|es|\\phantom{\\verb!x!}\\verb|primo.|</script></html>"
      ],
      "text/plain": [
       "'Para el valor 607, (2^n - 1) es primo.'"
      ]
     },
     "metadata": {},
     "output_type": "display_data"
    },
    {
     "data": {
      "text/html": [
       "<html><script type=\"math/tex; mode=display\">\\newcommand{\\Bold}[1]{\\mathbf{#1}}\\verb|Para|\\phantom{\\verb!x!}\\verb|el|\\phantom{\\verb!x!}\\verb|valor|\\phantom{\\verb!x!}\\verb|1279,|\\phantom{\\verb!x!}\\verb|(2^n|\\phantom{\\verb!x!}\\verb|-|\\phantom{\\verb!x!}\\verb|1)|\\phantom{\\verb!x!}\\verb|es|\\phantom{\\verb!x!}\\verb|primo.|</script></html>"
      ],
      "text/plain": [
       "'Para el valor 1279, (2^n - 1) es primo.'"
      ]
     },
     "metadata": {},
     "output_type": "display_data"
    },
    {
     "data": {
      "text/html": [
       "<html><script type=\"math/tex; mode=display\">\\newcommand{\\Bold}[1]{\\mathbf{#1}}\\verb|Se|\\phantom{\\verb!x!}\\verb|cumple|\\phantom{\\verb!x!}\\verb|para|\\phantom{\\verb!x!}\\verb|todos|\\phantom{\\verb!x!}\\verb|los|\\phantom{\\verb!x!}\\verb|valores|\\phantom{\\verb!x!}\\verb|de|\\phantom{\\verb!x!}\\verb|la|\\phantom{\\verb!x!}\\verb|lista.|</script></html>"
      ],
      "text/plain": [
       "'Se cumple para todos los valores de la lista.'"
      ]
     },
     "metadata": {},
     "output_type": "display_data"
    }
   ],
   "source": [
    "# Definimos la lista de números n\n",
    "lista_n = [61, 89, 107, 521, 607, 1279]\n",
    "show(lista_n)\n",
    "# Hacemos igual que antes pero en este caso con la lista.\n",
    "for n in lista_n:\n",
    "    valor = (2**n) - 1\n",
    "    if valor == 1:\n",
    "        continue\n",
    "    else:\n",
    "        primo = is_prime(valor)\n",
    "        if primo == True:\n",
    "            show(f\"Para el valor {n}, (2^n - 1) es primo.\")\n",
    "show(\"Se cumple para todos los valores de la lista.\")\n"
   ]
  },
  {
   "cell_type": "markdown",
   "metadata": {},
   "source": [
    "__________________\n",
    "**d)**  Un número perfecto es un entero positivo que es igual a la suma de sus divisores propios positivos.\n",
    "Así, 6 es un número perfecto porque sus divisores propios son 1, 2 y 3, y 6 = 1 + 2 + 3. Definir una función $\\verb=perfecto(k)=$ que dado un entero positivo $\\texttt{k}$ devuelva $\\texttt{True}$ si $\\texttt{k}$ es perfecto y $\\texttt{False}$ en caso contrario.\n",
    "\n",
    "*Sugerencia.* Puede ser útil usar el método $\\texttt{divisors()}$."
   ]
  },
  {
   "cell_type": "code",
   "execution_count": 5,
   "metadata": {},
   "outputs": [
    {
     "name": "stdin",
     "output_type": "stream",
     "text": [
      "Introduce un número:  6\n"
     ]
    },
    {
     "name": "stdout",
     "output_type": "stream",
     "text": [
      "El número introducido es perfecto.\n"
     ]
    }
   ],
   "source": [
    "def perfecto(k):\n",
    "    lista_divisores = divisors(k)\n",
    "    longitud = len(lista_divisores)\n",
    "    suma = 0\n",
    "    for i in range(longitud-1):\n",
    "        suma += lista_divisores[i]\n",
    "    if suma == k:\n",
    "        return True\n",
    "    else:\n",
    "        return False\n",
    "\n",
    "k = int(input(\"Introduce un número: \"))\n",
    "resultado = perfecto(k)\n",
    "if resultado == True:\n",
    "    print(\"El número introducido es perfecto.\")\n",
    "else:\n",
    "    print(\"El número introducido no es perfecto.\")"
   ]
  },
  {
   "cell_type": "markdown",
   "metadata": {},
   "source": [
    "__________________\n",
    "**e)** Euclides ya sabía de la existencia de primos de Mersenne muchos siglos antes que este, y encontró una fuerte relación entre ellos y los números perfectos.  Concretamente,  el último resultado de la parte de teoría de números de sus *Elementos* establece que si $M$ es un  primo de Mersenne, entonces $M(M+1)/2$ es un número perfecto par. Comprueba esta afirmación para los diez primeros primos de Mersenne. "
   ]
  },
  {
   "cell_type": "markdown",
   "metadata": {},
   "source": [
    "*Observación previa:* por los apartados anteriores sé que $M_n$ es primo para 2, 3, 5, 7, 13, 17, 19, 31, 127 (conocido por Mersenne, apartado c)), y en el apartado d) lo hemos visto para 61, 89, 107, 521, 607, 1279. Es decir, los diez valores más pequeños de $n$ para los que sabemos que $M_n$ es primo son 2, 3, 5, 7, 13, 17, 19, 31, 61, 89. Realmente no sé seguro si estos son los diez primeros primos de Mersenne: voy a comprobarlo:\n",
    "\n"
   ]
  },
  {
   "cell_type": "code",
   "execution_count": 6,
   "metadata": {},
   "outputs": [
    {
     "data": {
      "text/html": [
       "<html><script type=\"math/tex; mode=display\">\\newcommand{\\Bold}[1]{\\mathbf{#1}}\\verb|Estos|\\phantom{\\verb!x!}\\verb|son|\\phantom{\\verb!x!}\\verb|los|\\phantom{\\verb!x!}\\verb|primeros|\\phantom{\\verb!x!}\\verb|10|\\phantom{\\verb!x!}\\verb|números|\\phantom{\\verb!x!}\\verb|de|\\phantom{\\verb!x!}\\verb|Mersene:|</script></html>"
      ],
      "text/plain": [
       "'Estos son los primeros 10 números de Mersene:'"
      ]
     },
     "metadata": {},
     "output_type": "display_data"
    },
    {
     "data": {
      "text/html": [
       "<html><script type=\"math/tex; mode=display\">\\newcommand{\\Bold}[1]{\\mathbf{#1}}\\left[3, 7, 31, 127, 8191, 131071, 524287, 2147483647, 2305843009213693951, 618970019642690137449562111\\right]</script></html>"
      ],
      "text/plain": [
       "[3,\n",
       " 7,\n",
       " 31,\n",
       " 127,\n",
       " 8191,\n",
       " 131071,\n",
       " 524287,\n",
       " 2147483647,\n",
       " 2305843009213693951,\n",
       " 618970019642690137449562111]"
      ]
     },
     "metadata": {},
     "output_type": "display_data"
    },
    {
     "data": {
      "text/html": [
       "<html><script type=\"math/tex; mode=display\">\\newcommand{\\Bold}[1]{\\mathbf{#1}}\\verb|Número|\\phantom{\\verb!x!}\\verb|perfecto:|\\phantom{\\verb!x!}\\verb|6.|\\phantom{\\verb!x!}\\verb|Corresponde|\\phantom{\\verb!x!}\\verb|al|\\phantom{\\verb!x!}\\verb|número|\\phantom{\\verb!x!}\\verb|de|\\phantom{\\verb!x!}\\verb|Mersene:|\\phantom{\\verb!x!}\\verb|3|</script></html>"
      ],
      "text/plain": [
       "'Número perfecto: 6. Corresponde al número de Mersene: 3'"
      ]
     },
     "metadata": {},
     "output_type": "display_data"
    },
    {
     "data": {
      "text/html": [
       "<html><script type=\"math/tex; mode=display\">\\newcommand{\\Bold}[1]{\\mathbf{#1}}\\verb|Número|\\phantom{\\verb!x!}\\verb|perfecto:|\\phantom{\\verb!x!}\\verb|28.|\\phantom{\\verb!x!}\\verb|Corresponde|\\phantom{\\verb!x!}\\verb|al|\\phantom{\\verb!x!}\\verb|número|\\phantom{\\verb!x!}\\verb|de|\\phantom{\\verb!x!}\\verb|Mersene:|\\phantom{\\verb!x!}\\verb|7|</script></html>"
      ],
      "text/plain": [
       "'Número perfecto: 28. Corresponde al número de Mersene: 7'"
      ]
     },
     "metadata": {},
     "output_type": "display_data"
    },
    {
     "data": {
      "text/html": [
       "<html><script type=\"math/tex; mode=display\">\\newcommand{\\Bold}[1]{\\mathbf{#1}}\\verb|Número|\\phantom{\\verb!x!}\\verb|perfecto:|\\phantom{\\verb!x!}\\verb|496.|\\phantom{\\verb!x!}\\verb|Corresponde|\\phantom{\\verb!x!}\\verb|al|\\phantom{\\verb!x!}\\verb|número|\\phantom{\\verb!x!}\\verb|de|\\phantom{\\verb!x!}\\verb|Mersene:|\\phantom{\\verb!x!}\\verb|31|</script></html>"
      ],
      "text/plain": [
       "'Número perfecto: 496. Corresponde al número de Mersene: 31'"
      ]
     },
     "metadata": {},
     "output_type": "display_data"
    },
    {
     "data": {
      "text/html": [
       "<html><script type=\"math/tex; mode=display\">\\newcommand{\\Bold}[1]{\\mathbf{#1}}\\verb|Número|\\phantom{\\verb!x!}\\verb|perfecto:|\\phantom{\\verb!x!}\\verb|8128.|\\phantom{\\verb!x!}\\verb|Corresponde|\\phantom{\\verb!x!}\\verb|al|\\phantom{\\verb!x!}\\verb|número|\\phantom{\\verb!x!}\\verb|de|\\phantom{\\verb!x!}\\verb|Mersene:|\\phantom{\\verb!x!}\\verb|127|</script></html>"
      ],
      "text/plain": [
       "'Número perfecto: 8128. Corresponde al número de Mersene: 127'"
      ]
     },
     "metadata": {},
     "output_type": "display_data"
    },
    {
     "data": {
      "text/html": [
       "<html><script type=\"math/tex; mode=display\">\\newcommand{\\Bold}[1]{\\mathbf{#1}}\\verb|Número|\\phantom{\\verb!x!}\\verb|perfecto:|\\phantom{\\verb!x!}\\verb|33550336.|\\phantom{\\verb!x!}\\verb|Corresponde|\\phantom{\\verb!x!}\\verb|al|\\phantom{\\verb!x!}\\verb|número|\\phantom{\\verb!x!}\\verb|de|\\phantom{\\verb!x!}\\verb|Mersene:|\\phantom{\\verb!x!}\\verb|8191|</script></html>"
      ],
      "text/plain": [
       "'Número perfecto: 33550336. Corresponde al número de Mersene: 8191'"
      ]
     },
     "metadata": {},
     "output_type": "display_data"
    },
    {
     "data": {
      "text/html": [
       "<html><script type=\"math/tex; mode=display\">\\newcommand{\\Bold}[1]{\\mathbf{#1}}\\verb|Número|\\phantom{\\verb!x!}\\verb|perfecto:|\\phantom{\\verb!x!}\\verb|8589869056.|\\phantom{\\verb!x!}\\verb|Corresponde|\\phantom{\\verb!x!}\\verb|al|\\phantom{\\verb!x!}\\verb|número|\\phantom{\\verb!x!}\\verb|de|\\phantom{\\verb!x!}\\verb|Mersene:|\\phantom{\\verb!x!}\\verb|131071|</script></html>"
      ],
      "text/plain": [
       "'Número perfecto: 8589869056. Corresponde al número de Mersene: 131071'"
      ]
     },
     "metadata": {},
     "output_type": "display_data"
    },
    {
     "data": {
      "text/html": [
       "<html><script type=\"math/tex; mode=display\">\\newcommand{\\Bold}[1]{\\mathbf{#1}}\\verb|Número|\\phantom{\\verb!x!}\\verb|perfecto:|\\phantom{\\verb!x!}\\verb|137438691328.|\\phantom{\\verb!x!}\\verb|Corresponde|\\phantom{\\verb!x!}\\verb|al|\\phantom{\\verb!x!}\\verb|número|\\phantom{\\verb!x!}\\verb|de|\\phantom{\\verb!x!}\\verb|Mersene:|\\phantom{\\verb!x!}\\verb|524287|</script></html>"
      ],
      "text/plain": [
       "'Número perfecto: 137438691328. Corresponde al número de Mersene: 524287'"
      ]
     },
     "metadata": {},
     "output_type": "display_data"
    },
    {
     "data": {
      "text/html": [
       "<html><script type=\"math/tex; mode=display\">\\newcommand{\\Bold}[1]{\\mathbf{#1}}\\verb|Número|\\phantom{\\verb!x!}\\verb|perfecto:|\\phantom{\\verb!x!}\\verb|2305843008139952128.|\\phantom{\\verb!x!}\\verb|Corresponde|\\phantom{\\verb!x!}\\verb|al|\\phantom{\\verb!x!}\\verb|número|\\phantom{\\verb!x!}\\verb|de|\\phantom{\\verb!x!}\\verb|Mersene:|\\phantom{\\verb!x!}\\verb|2147483647|</script></html>"
      ],
      "text/plain": [
       "'Número perfecto: 2305843008139952128. Corresponde al número de Mersene: 2147483647'"
      ]
     },
     "metadata": {},
     "output_type": "display_data"
    },
    {
     "data": {
      "text/html": [
       "<html><script type=\"math/tex; mode=display\">\\newcommand{\\Bold}[1]{\\mathbf{#1}}\\verb|Número|\\phantom{\\verb!x!}\\verb|perfecto:|\\phantom{\\verb!x!}\\verb|2658455991569831744654692615953842176.|\\phantom{\\verb!x!}\\verb|Corresponde|\\phantom{\\verb!x!}\\verb|al|\\phantom{\\verb!x!}\\verb|número|\\phantom{\\verb!x!}\\verb|de|\\phantom{\\verb!x!}\\verb|Mersene:|\\phantom{\\verb!x!}\\verb|2305843009213693951|</script></html>"
      ],
      "text/plain": [
       "'Número perfecto: 2658455991569831744654692615953842176. Corresponde al número de Mersene: 2305843009213693951'"
      ]
     },
     "metadata": {},
     "output_type": "display_data"
    },
    {
     "data": {
      "text/html": [
       "<html><script type=\"math/tex; mode=display\">\\newcommand{\\Bold}[1]{\\mathbf{#1}}\\verb|Número|\\phantom{\\verb!x!}\\verb|perfecto:|\\phantom{\\verb!x!}\\verb|191561942608236107294793378084303638130997321548169216.|\\phantom{\\verb!x!}\\verb|Corresponde|\\phantom{\\verb!x!}\\verb|al|\\phantom{\\verb!x!}\\verb|número|\\phantom{\\verb!x!}\\verb|de|\\phantom{\\verb!x!}\\verb|Mersene:|\\phantom{\\verb!x!}\\verb|618970019642690137449562111|</script></html>"
      ],
      "text/plain": [
       "'Número perfecto: 191561942608236107294793378084303638130997321548169216. Corresponde al número de Mersene: 618970019642690137449562111'"
      ]
     },
     "metadata": {},
     "output_type": "display_data"
    }
   ],
   "source": [
    "# Definimos los primeros 10 primos de Mersenne.\n",
    "lista_mersene = []\n",
    "for n in range(1, 100): # Con un bucle hasta el 100 conseguimos los 10 primeros.\n",
    "    valor = (2**n) - 1\n",
    "    if valor == 1:\n",
    "        continue\n",
    "    else:\n",
    "        primo = is_prime(valor)\n",
    "        if primo == True:\n",
    "            lista_mersene.append(valor)\n",
    "\n",
    "show(\"Estos son los primeros 10 números de Mersene:\")\n",
    "show(lista_mersene)\n",
    "\n",
    "# Comprobamos si M(M + 1)/2 es un número perfecto par para estos números.\n",
    "for i in lista_mersene:\n",
    "    nuevo_valor = i*(i+1)/2\n",
    "    resultado = perfecto(nuevo_valor)\n",
    "    if resultado == True:\n",
    "        show(f\"Número perfecto: {nuevo_valor}. Corresponde al número de Mersene: {i}\")\n"
   ]
  },
  {
   "cell_type": "markdown",
   "metadata": {},
   "source": [
    "__________\n",
    "**f)** Muchos siglos después, Euler demostró el recíproco: si un número $n$ es perfecto y par, entonces es de la forma $M(M+1)/2$ para algún primo de Mersenne. Obtén la lista de todos los números perfectos pares menores o iguales que $M_{13}(M_{13}+1)/2$ y comprueba que todos ellos son de la forma $M(M+1)/2$ para algún primo de Mersenne $M$."
   ]
  },
  {
   "cell_type": "code",
   "execution_count": 39,
   "metadata": {},
   "outputs": [
    {
     "ename": "KeyboardInterrupt",
     "evalue": "",
     "output_type": "error",
     "traceback": [
      "\u001b[0;31m---------------------------------------------------------------------------\u001b[0m",
      "\u001b[0;31mKeyboardInterrupt\u001b[0m                         Traceback (most recent call last)",
      "\u001b[0;32m<ipython-input-39-2f91b4b0232e>\u001b[0m in \u001b[0;36m<module>\u001b[0;34m()\u001b[0m\n\u001b[1;32m     20\u001b[0m \u001b[0mlista_perfectos\u001b[0m \u001b[0;34m=\u001b[0m \u001b[0;34m[\u001b[0m\u001b[0;34m]\u001b[0m\u001b[0;34m\u001b[0m\u001b[0;34m\u001b[0m\u001b[0m\n\u001b[1;32m     21\u001b[0m \u001b[0;32mfor\u001b[0m \u001b[0mi\u001b[0m \u001b[0;32min\u001b[0m \u001b[0mrange\u001b[0m\u001b[0;34m(\u001b[0m\u001b[0mInteger\u001b[0m\u001b[0;34m(\u001b[0m\u001b[0;36m1\u001b[0m\u001b[0;34m)\u001b[0m\u001b[0;34m,\u001b[0m \u001b[0mvalor_querido\u001b[0m\u001b[0;34m+\u001b[0m\u001b[0mInteger\u001b[0m\u001b[0;34m(\u001b[0m\u001b[0;36m1\u001b[0m\u001b[0;34m)\u001b[0m\u001b[0;34m)\u001b[0m\u001b[0;34m:\u001b[0m\u001b[0;34m\u001b[0m\u001b[0;34m\u001b[0m\u001b[0m\n\u001b[0;32m---> 22\u001b[0;31m     \u001b[0mnumero\u001b[0m \u001b[0;34m=\u001b[0m \u001b[0mperfecto\u001b[0m\u001b[0;34m(\u001b[0m\u001b[0mi\u001b[0m\u001b[0;34m)\u001b[0m\u001b[0;34m\u001b[0m\u001b[0;34m\u001b[0m\u001b[0m\n\u001b[0m\u001b[1;32m     23\u001b[0m     \u001b[0;32mif\u001b[0m \u001b[0mnumero\u001b[0m \u001b[0;34m==\u001b[0m \u001b[0;32mTrue\u001b[0m\u001b[0;34m:\u001b[0m\u001b[0;34m\u001b[0m\u001b[0;34m\u001b[0m\u001b[0m\n\u001b[1;32m     24\u001b[0m         \u001b[0mlista_perfectos\u001b[0m\u001b[0;34m.\u001b[0m\u001b[0mappend\u001b[0m\u001b[0;34m(\u001b[0m\u001b[0mi\u001b[0m\u001b[0;34m)\u001b[0m\u001b[0;34m\u001b[0m\u001b[0;34m\u001b[0m\u001b[0m\n",
      "\u001b[0;32m<ipython-input-5-8b43a982d6af>\u001b[0m in \u001b[0;36mperfecto\u001b[0;34m(k)\u001b[0m\n\u001b[0;32m----> 1\u001b[0;31m \u001b[0;32mdef\u001b[0m \u001b[0mperfecto\u001b[0m\u001b[0;34m(\u001b[0m\u001b[0mk\u001b[0m\u001b[0;34m)\u001b[0m\u001b[0;34m:\u001b[0m\u001b[0;34m\u001b[0m\u001b[0;34m\u001b[0m\u001b[0m\n\u001b[0m\u001b[1;32m      2\u001b[0m     \u001b[0mlista_divisores\u001b[0m \u001b[0;34m=\u001b[0m \u001b[0mdivisors\u001b[0m\u001b[0;34m(\u001b[0m\u001b[0mk\u001b[0m\u001b[0;34m)\u001b[0m\u001b[0;34m\u001b[0m\u001b[0;34m\u001b[0m\u001b[0m\n\u001b[1;32m      3\u001b[0m     \u001b[0mlongitud\u001b[0m \u001b[0;34m=\u001b[0m \u001b[0mlen\u001b[0m\u001b[0;34m(\u001b[0m\u001b[0mlista_divisores\u001b[0m\u001b[0;34m)\u001b[0m\u001b[0;34m\u001b[0m\u001b[0;34m\u001b[0m\u001b[0m\n\u001b[1;32m      4\u001b[0m     \u001b[0msuma\u001b[0m \u001b[0;34m=\u001b[0m \u001b[0mInteger\u001b[0m\u001b[0;34m(\u001b[0m\u001b[0;36m0\u001b[0m\u001b[0;34m)\u001b[0m\u001b[0;34m\u001b[0m\u001b[0;34m\u001b[0m\u001b[0m\n\u001b[1;32m      5\u001b[0m     \u001b[0;32mfor\u001b[0m \u001b[0mi\u001b[0m \u001b[0;32min\u001b[0m \u001b[0mrange\u001b[0m\u001b[0;34m(\u001b[0m\u001b[0mlongitud\u001b[0m\u001b[0;34m-\u001b[0m\u001b[0mInteger\u001b[0m\u001b[0;34m(\u001b[0m\u001b[0;36m1\u001b[0m\u001b[0;34m)\u001b[0m\u001b[0;34m)\u001b[0m\u001b[0;34m:\u001b[0m\u001b[0;34m\u001b[0m\u001b[0;34m\u001b[0m\u001b[0m\n",
      "\u001b[0;32msrc/cysignals/signals.pyx\u001b[0m in \u001b[0;36mcysignals.signals.python_check_interrupt\u001b[0;34m()\u001b[0m\n",
      "\u001b[0;31mKeyboardInterrupt\u001b[0m: "
     ]
    }
   ],
   "source": [
    "#lista de todos los perfectos pares menores que M13*...: (cuidado, a sage le lleva un tiempo)\n",
    "mtrece = (2^13-1)*2^12\n",
    "lista_perfectos_pares = []\n",
    "for m in range(2,mtrece+1,2):\n",
    "    if perfecto(m):\n",
    "        lista_perfectos_pares.append(m)\n",
    "lista_perfectos_pares\n",
    "\n",
    "#lista de los M(M+1)/2 donde M es un primo de Mersenne menor que M13\n",
    "lista_mersenne = []\n",
    "for n in range(1,14):\n",
    "    if 2^n-1 in Primes():\n",
    "        lista_mersenne.append((2^n-1)* 2^(n-1))\n",
    "lista_mersenne"
   ]
  },
  {
   "cell_type": "markdown",
   "metadata": {},
   "source": [
    "____________\n",
    "**g)** A día de hoy no se sabe si hay algún número perfecto impar. Comprueba que no hay ninguno menor que un millón."
   ]
  },
  {
   "cell_type": "code",
   "execution_count": 2,
   "metadata": {},
   "outputs": [],
   "source": [
    "lista_impares = []\n",
    "for i in range(1, 1000000):\n",
    "    if i%2 == 0:\n",
    "        continue\n",
    "    else:\n",
    "        lista_impares.append(i)\n",
    "\n",
    "for i in lista_impares:\n",
    "    resultado = perfecto(i)\n",
    "    if resultado == False:\n",
    "        continue\n",
    "    else:\n",
    "        print(f\"El número impar {i} es perfecto.\")\n",
    "\n",
    "# No se imprime nada por pantalla así que podemos decir que no hay ningún número impar perfecto\n",
    "# menor a un millón.\n",
    "    "
   ]
  }
 ],
 "metadata": {
  "kernelspec": {
   "display_name": "SageMath 9.0",
   "language": "sage",
   "name": "sagemath"
  },
  "language_info": {
   "codemirror_mode": {
    "name": "ipython",
    "version": 3
   },
   "file_extension": ".py",
   "mimetype": "text/x-python",
   "name": "python",
   "nbconvert_exporter": "python",
   "pygments_lexer": "ipython3",
   "version": "3.7.6"
  }
 },
 "nbformat": 4,
 "nbformat_minor": 4
}
