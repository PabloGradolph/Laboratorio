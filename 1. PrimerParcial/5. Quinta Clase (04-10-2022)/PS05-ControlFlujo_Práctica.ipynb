{
 "cells": [
  {
   "cell_type": "markdown",
   "metadata": {},
   "source": [
    "**Ejercicio 1 (Números perniciosos)**\n",
    "\n",
    "En teoría de números, un número pernicioso es un entero positivo para el que la suma de sus dígitos en base 2 es un primo.\n",
    "\n",
    "Para este ejercicio vamos a considerar números con esta característica en distintas bases de numeración de manera\n",
    "que diremos que:\n",
    "$$\n",
    "\\text{Un número es $d$-pernicioso si la suma de sus dígitos en base $d$ es un primo.}\n",
    "$$\n",
    "Así, por ejemplo, el número 14($=1\\cdot 2^3+1\\cdot 2^2+1\\cdot 2^1$), al tener representación binaria 1110 y ser 3\n",
    "primo, es 2-pernicioso; 15 no lo es, aunque sí es 3-pernicioso (15$=1\\cdot 3^2+2\\cdot 3^1$  y 1+2=3 es primo).\n",
    "\n",
    "En este ejercicio se pide:\n",
    "\n",
    "> **a)** Definir una función, de nombre $\\texttt{es}\\_\\texttt{pern}$, que espere dos enteros positivos, $k$ y $d$, y devuelva $\\texttt{True}$ si  $k$ es $d$-pernicioso, y $\\texttt{False}$ si no lo es.\n",
    "\n",
    "> **b)** Calcular la suma de los números 2-perniciosos menores que 1000. *Solución:* 253811.\n",
    "\n",
    "> **c)** Mostrar la lista de los números de 3 cifras decimales que son 3-perniciosos pero no son 2-perniciosos ni  5-perniciosos. *Solución:* Hay 68 números de este tipo.\n",
    "\n",
    "> **d)** Calcular la suma de los primeros 500 números de al menos 4 cifras decimales, que son, a la vez, 2-,\n",
    "3- y 7-perniciosos. *Solución.* 1829036.\n",
    "\n",
    "*Observación:* Puede ser útil la instrucción $a.\\texttt{digits}(b)$, que  devuelve los dígitos en base $b$ del número $a$."
   ]
  },
  {
   "cell_type": "markdown",
   "metadata": {},
   "source": [
    "________________\n"
   ]
  },
  {
   "cell_type": "code",
   "execution_count": null,
   "metadata": {},
   "outputs": [],
   "source": []
  },
  {
   "cell_type": "code",
   "execution_count": null,
   "metadata": {},
   "outputs": [],
   "source": []
  },
  {
   "cell_type": "markdown",
   "metadata": {},
   "source": [
    "_______________________\n",
    "_______________________\n",
    "\n",
    "**Ejercicio 2 (Números triangulares con muchos divisores)**\n",
    "\n",
    "La sucesión de los números triangulares se genera sumando los primeros números naturales. Así, el séptimo número triangular es 1 + 2 +\n",
    "3 + 4 + 5 + 6 + 7 = 28. Los diez primeros términos de la sucesión vienen dados por:\n",
    "1, 3, 6, 10, 15, 21, 28, 36, 45, 55 ...\n",
    "Listamos a continuación los divisores de los siete primeros números triangulares:\n",
    "\n",
    "$$\n",
    "1: 1; \\quad 3: 1, 3;\\quad 6: 1, 2, 3, 6;\\quad 10: 1, 2, 5, 10; \\quad 15: 1, 3, 5, 15; \\quad\n",
    "21: 1, 3, 7, 21;\\quad 28: 1, 2, 4, 7, 14, 28.\n",
    "$$\n",
    "\n",
    "Observamos que 28 es el primer número triangular que tiene más de cinco divisores.\n",
    "¿Cuál es el valor del primer número triangular que tiene más de quinientos divisores? *Solución:* 76576500."
   ]
  },
  {
   "cell_type": "markdown",
   "metadata": {},
   "source": [
    "_______________________\n"
   ]
  },
  {
   "cell_type": "code",
   "execution_count": null,
   "metadata": {},
   "outputs": [],
   "source": []
  },
  {
   "cell_type": "markdown",
   "metadata": {},
   "source": [
    "______________________\n",
    "______________________\n",
    "\n",
    "**Ejercicio 3 (Números abundantes)**\n",
    "\n",
    "Un número se dice **perfecto** si coincide con la suma de sus divisores propios. Por ejemplo, la\n",
    "suma de los divisores propios de 28 es $1 + 2 + 4 + 7 + 14 = 28$, de manera que 28 es un número\n",
    "perfecto.\n",
    "\n",
    "Un número se dice **deficiente** si es mayor que la suma de sus divisores propios, y **abundante** si\n",
    "no la supera.\n",
    "\n",
    "Como 12 es el menor número abundante, $1 + 2 + 3 + 4 + 6 = 16 > 12$, el menor número que\n",
    "puede escribirse como suma de dos abundantes es 24. Por análisis matemático se puede probar\n",
    "que todos los enteros mayores que 28123 pueden escribirse como la suma de dos números\n",
    "abundantes.\n",
    "\n",
    "> **a)** Codificar una función $\\texttt{es}\\_\\texttt{abundante}()$ que dado un número devuelva $\\texttt{True}$ si es abundante y $\\texttt{False}$ si no lo es.\n",
    "\n",
    "> **b)** Programar una función $\\texttt{es}\\_\\texttt{suma_abundante}()$ que dado un número devuelva $\\texttt{True}$ si es suma de dos abundantes y $\\texttt{False}$ si no lo es.\n",
    "\n",
    "> **c)** Encontrar el primer entero a partir del cual todos son suma de dos abundantes (utilizar la\n",
    "cota 28123). *Solución:* 20162.\n",
    "\n",
    "> **d)** Calcular la suma de todos los enteros positivos que no pueden escribirse como suma de dos\n",
    "abundantes. *Solución:* 4179871."
   ]
  },
  {
   "cell_type": "markdown",
   "metadata": {},
   "source": [
    "______________________\n"
   ]
  },
  {
   "cell_type": "code",
   "execution_count": null,
   "metadata": {},
   "outputs": [],
   "source": []
  },
  {
   "cell_type": "code",
   "execution_count": null,
   "metadata": {},
   "outputs": [],
   "source": []
  }
 ],
 "metadata": {
  "kernelspec": {
   "display_name": "SageMath 9.0",
   "language": "sage",
   "name": "sagemath"
  },
  "language_info": {
   "codemirror_mode": {
    "name": "ipython",
    "version": 3
   },
   "file_extension": ".py",
   "mimetype": "text/x-python",
   "name": "python",
   "nbconvert_exporter": "python",
   "pygments_lexer": "ipython3",
   "version": "3.8.10"
  }
 },
 "nbformat": 4,
 "nbformat_minor": 4
}
