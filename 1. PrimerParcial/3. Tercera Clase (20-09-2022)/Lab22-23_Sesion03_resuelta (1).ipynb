{
 "cells": [
  {
   "cell_type": "markdown",
   "metadata": {},
   "source": [
    "**Primos de Mersenne y números perfectos.**\n",
    "\n",
    "**a)**  Determina para qué valores de $n$ entre 1 y 10 son primos los números $M_n=2^n-1$. A la vista de los resultados, ¿te atreves a conjeturar cuándo lo serán para otros valores de $n$?  Los primos de la forma $M_n$ se denominan primos de Mersenne en memoria del filósofo del siglo XVII Marin Mersenne, quien los estudió en su obra *Cognitata Physico-Mathematica*."
   ]
  },
  {
   "cell_type": "code",
   "execution_count": 4,
   "metadata": {},
   "outputs": [
    {
     "name": "stdout",
     "output_type": "stream",
     "text": [
      "1 1 False\n",
      "2 3 True\n",
      "3 7 True\n",
      "4 15 False\n",
      "5 31 True\n",
      "6 63 False\n",
      "7 127 True\n",
      "8 255 False\n",
      "9 511 False\n",
      "10 1023 False\n"
     ]
    }
   ],
   "source": [
    "for n in range(1,11):\n",
    "    Mn = 2^n-1\n",
    "    print(n,Mn,Mn in Primes())\n",
    "    #print('{0:10}  {1:10} {2:10}'.format(Mn in Primes(), n, Mn))"
   ]
  },
  {
   "cell_type": "markdown",
   "metadata": {},
   "source": [
    "> **Conjetura** (sobre los primos de Mersenne) .... \n",
    ">\n",
    "> Si n es primo entonces $M_n$ es primo"
   ]
  },
  {
   "cell_type": "markdown",
   "metadata": {},
   "source": [
    "______________\n",
    "**b)** Repite el apartado a) para $n$ entre 11 y 20. ¿Cambia tu conjetura?"
   ]
  },
  {
   "cell_type": "code",
   "execution_count": 5,
   "metadata": {},
   "outputs": [
    {
     "name": "stdout",
     "output_type": "stream",
     "text": [
      "11 2047 False\n",
      "12 4095 False\n",
      "13 8191 True\n",
      "14 16383 False\n",
      "15 32767 False\n",
      "16 65535 False\n",
      "17 131071 True\n",
      "18 262143 False\n",
      "19 524287 True\n",
      "20 1048575 False\n"
     ]
    }
   ],
   "source": [
    "for n in range(11,21):\n",
    "    Mn = 2^n-1\n",
    "    print(n,Mn,Mn in Primes())"
   ]
  },
  {
   "cell_type": "markdown",
   "metadata": {},
   "source": [
    "> **Conjetura** (sobre los primos de Mersenne) ....\n",
    ">\n",
    "> Si $M_n$ es primo, entonces $n$ es primo"
   ]
  },
  {
   "cell_type": "markdown",
   "metadata": {},
   "source": [
    "_______________\n",
    "**c)** Mersenne conjeturó que había una cantidad finita de primos de la forma $M_n$, concretamente los correspondientes a\n",
    "$$\n",
    "n=2,3,5,7,13,17,19,31,67,127,257.\n",
    "$$\n",
    "Mersenne se equivocó doblemente. Por una parte, no todos los $n$ de esta lista producen un primo. Detecta, con la ayuda de Sage, cuáles son los que no lo hacen. Por otra, hay primos de Mersenne correspondientes a valores de $n$ que no están en esta lista. Comprueba que ese es el caso si\n",
    "$$\n",
    "n=61, 89, 107, 521,607,1279.\n",
    "$$\n",
    "\n",
    "En septiembre de 2022 se conocían 51 primos de Mersenne. El mayor, $M_{82 589 933}$, era el mayor primo conocido hasta ese momento. No se sabe si hay más."
   ]
  },
  {
   "cell_type": "code",
   "execution_count": 6,
   "metadata": {},
   "outputs": [
    {
     "name": "stdout",
     "output_type": "stream",
     "text": [
      "67\n",
      "257\n"
     ]
    }
   ],
   "source": [
    "l = [2,3,5,7,13,17,19,31,67,127,257]\n",
    "for n in l:\n",
    "    if 2^n-1 not in Primes():\n",
    "        print(n)"
   ]
  },
  {
   "cell_type": "code",
   "execution_count": 7,
   "metadata": {},
   "outputs": [
    {
     "name": "stdout",
     "output_type": "stream",
     "text": [
      "61\n",
      "89\n",
      "107\n",
      "521\n",
      "607\n",
      "1279\n"
     ]
    }
   ],
   "source": [
    "l = [61,89,107,521,607,1279]\n",
    "for n in l:\n",
    "    if 2^n-1 in Primes():\n",
    "        print(n)"
   ]
  },
  {
   "cell_type": "code",
   "execution_count": 9,
   "metadata": {},
   "outputs": [
    {
     "ename": "KeyboardInterrupt",
     "evalue": "",
     "output_type": "error",
     "traceback": [
      "\u001b[0;31m---------------------------------------------------------------------------\u001b[0m",
      "\u001b[0;31mKeyboardInterrupt\u001b[0m                         Traceback (most recent call last)",
      "\u001b[0;32m<ipython-input-9-7389bbe81010>\u001b[0m in \u001b[0;36m<module>\u001b[0;34m()\u001b[0m\n\u001b[1;32m      1\u001b[0m \u001b[0mMn\u001b[0m \u001b[0;34m=\u001b[0m \u001b[0mInteger\u001b[0m\u001b[0;34m(\u001b[0m\u001b[0;36m2\u001b[0m\u001b[0;34m)\u001b[0m\u001b[0;34m**\u001b[0m\u001b[0;34m(\u001b[0m\u001b[0mInteger\u001b[0m\u001b[0;34m(\u001b[0m\u001b[0;36m82589933\u001b[0m\u001b[0;34m)\u001b[0m\u001b[0;34m)\u001b[0m\u001b[0;34m-\u001b[0m\u001b[0mInteger\u001b[0m\u001b[0;34m(\u001b[0m\u001b[0;36m1\u001b[0m\u001b[0;34m)\u001b[0m\u001b[0;34m\u001b[0m\u001b[0;34m\u001b[0m\u001b[0m\n\u001b[0;32m----> 2\u001b[0;31m \u001b[0mprint\u001b[0m\u001b[0;34m(\u001b[0m\u001b[0mMn\u001b[0m \u001b[0;32min\u001b[0m \u001b[0mPrimes\u001b[0m\u001b[0;34m(\u001b[0m\u001b[0;34m)\u001b[0m\u001b[0;34m)\u001b[0m\u001b[0;34m\u001b[0m\u001b[0;34m\u001b[0m\u001b[0m\n\u001b[0m\u001b[1;32m      3\u001b[0m \u001b[0;31m#Esta instrucción comprobaría que efectivamente es primo. Pero habría que esperar demasiado tiempo. Para parar la ejecución de la celda hay que darle al cuadrado que está a la derecha del botón de play\u001b[0m\u001b[0;34m\u001b[0m\u001b[0;34m\u001b[0m\u001b[0;34m\u001b[0m\u001b[0m\n",
      "\u001b[0;32m/opt/conda/envs/sage/lib/python3.7/site-packages/sage/sets/primes.py\u001b[0m in \u001b[0;36m__contains__\u001b[0;34m(self, x)\u001b[0m\n\u001b[1;32m    137\u001b[0m             \u001b[0;32mif\u001b[0m \u001b[0mx\u001b[0m \u001b[0;32mnot\u001b[0m \u001b[0;32min\u001b[0m \u001b[0mZZ\u001b[0m\u001b[0;34m:\u001b[0m\u001b[0;34m\u001b[0m\u001b[0;34m\u001b[0m\u001b[0m\n\u001b[1;32m    138\u001b[0m                 \u001b[0;32mreturn\u001b[0m \u001b[0;32mFalse\u001b[0m\u001b[0;34m\u001b[0m\u001b[0;34m\u001b[0m\u001b[0m\n\u001b[0;32m--> 139\u001b[0;31m             \u001b[0;32mreturn\u001b[0m \u001b[0mZZ\u001b[0m\u001b[0;34m(\u001b[0m\u001b[0mx\u001b[0m\u001b[0;34m)\u001b[0m\u001b[0;34m.\u001b[0m\u001b[0mis_prime\u001b[0m\u001b[0;34m(\u001b[0m\u001b[0;34m)\u001b[0m\u001b[0;34m\u001b[0m\u001b[0;34m\u001b[0m\u001b[0m\n\u001b[0m\u001b[1;32m    140\u001b[0m         \u001b[0;32mexcept\u001b[0m \u001b[0mTypeError\u001b[0m\u001b[0;34m:\u001b[0m\u001b[0;34m\u001b[0m\u001b[0;34m\u001b[0m\u001b[0m\n\u001b[1;32m    141\u001b[0m             \u001b[0;32mreturn\u001b[0m \u001b[0;32mFalse\u001b[0m\u001b[0;34m\u001b[0m\u001b[0;34m\u001b[0m\u001b[0m\n",
      "\u001b[0;32m/opt/conda/envs/sage/lib/python3.7/site-packages/sage/rings/integer.pyx\u001b[0m in \u001b[0;36msage.rings.integer.Integer.is_prime (build/cythonized/sage/rings/integer.c:33062)\u001b[0;34m()\u001b[0m\n\u001b[1;32m   5271\u001b[0m             \u001b[0mproof\u001b[0m \u001b[0;34m=\u001b[0m \u001b[0mget_flag\u001b[0m\u001b[0;34m(\u001b[0m\u001b[0mproof\u001b[0m\u001b[0;34m,\u001b[0m \u001b[0;34m\"arithmetic\"\u001b[0m\u001b[0;34m)\u001b[0m\u001b[0;34m\u001b[0m\u001b[0;34m\u001b[0m\u001b[0m\n\u001b[1;32m   5272\u001b[0m         \u001b[0;32mif\u001b[0m \u001b[0mproof\u001b[0m\u001b[0;34m:\u001b[0m\u001b[0;34m\u001b[0m\u001b[0;34m\u001b[0m\u001b[0m\n\u001b[0;32m-> 5273\u001b[0;31m             \u001b[0;32mreturn\u001b[0m \u001b[0mself\u001b[0m\u001b[0;34m.\u001b[0m\u001b[0m__pari__\u001b[0m\u001b[0;34m(\u001b[0m\u001b[0;34m)\u001b[0m\u001b[0;34m.\u001b[0m\u001b[0misprime\u001b[0m\u001b[0;34m(\u001b[0m\u001b[0;34m)\u001b[0m\u001b[0;34m\u001b[0m\u001b[0;34m\u001b[0m\u001b[0m\n\u001b[0m\u001b[1;32m   5274\u001b[0m         \u001b[0;32melse\u001b[0m\u001b[0;34m:\u001b[0m\u001b[0;34m\u001b[0m\u001b[0;34m\u001b[0m\u001b[0m\n\u001b[1;32m   5275\u001b[0m             \u001b[0;32mreturn\u001b[0m \u001b[0mself\u001b[0m\u001b[0;34m.\u001b[0m\u001b[0m__pari__\u001b[0m\u001b[0;34m(\u001b[0m\u001b[0;34m)\u001b[0m\u001b[0;34m.\u001b[0m\u001b[0mispseudoprime\u001b[0m\u001b[0;34m(\u001b[0m\u001b[0;34m)\u001b[0m\u001b[0;34m\u001b[0m\u001b[0;34m\u001b[0m\u001b[0m\n",
      "\u001b[0;32mcypari2/gen.pyx\u001b[0m in \u001b[0;36mcypari2.gen.Gen.isprime\u001b[0;34m()\u001b[0m\n",
      "\u001b[0;31mKeyboardInterrupt\u001b[0m: "
     ]
    }
   ],
   "source": [
    "Mn = 2^(82589933)-1\n",
    "print(Mn in Primes())\n",
    "#Esta instrucción comprobaría que efectivamente es primo. Pero habría que esperar demasiado tiempo. Para parar la ejecución de la celda hay que darle al cuadrado que está a la derecha del botón de play"
   ]
  },
  {
   "cell_type": "markdown",
   "metadata": {},
   "source": [
    "__________________\n",
    "**d)**  Un número perfecto es un entero positivo que es igual a la suma de sus divisores propios positivos.\n",
    "Así, 6 es un número perfecto porque sus divisores propios son 1, 2 y 3, y 6 = 1 + 2 + 3. Definir una función $\\verb=perfecto(k)=$ que dado un entero positivo $\\texttt{k}$ devuelva $\\texttt{True}$ si $\\texttt{k}$ es perfecto y $\\texttt{False}$ en caso contrario.\n",
    "\n",
    "*Sugerencia.* Puede ser útil usar el método $\\texttt{divisors()}$."
   ]
  },
  {
   "cell_type": "code",
   "execution_count": 12,
   "metadata": {},
   "outputs": [
    {
     "name": "stdout",
     "output_type": "stream",
     "text": [
      "True\n",
      "False\n"
     ]
    }
   ],
   "source": [
    "def perfecto(k):\n",
    "    if sum(divisors(k)) == 2*k:\n",
    "        return True\n",
    "    else:\n",
    "        return False\n",
    "print(perfecto(28))\n",
    "print(perfecto(30))\n"
   ]
  },
  {
   "cell_type": "markdown",
   "metadata": {},
   "source": [
    "__________________\n",
    "**e)** Euclides ya sabía de la existencia de primos de Mersenne muchos siglos antes que este, y encontró una fuerte relación entre ellos y los números perfectos.  Concretamente,  el último resultado de la parte de teoría de números de sus *Elementos* establece que si $M$ es un  primo de Mersenne, entonces $M(M+1)/2$ es un número perfecto par. Comprueba esta afirmación para los diez primeros primos de Mersenne. "
   ]
  },
  {
   "cell_type": "markdown",
   "metadata": {},
   "source": [
    "*Observación previa:* por los apartados anteriores sé que $M_n$ es primo para 2, 3, 5, 7, 13, 17, 19, 31, 127 (conocido por Mersenne, apartado c)), y en el apartado d) lo hemos visto para 61, 89, 107, 521, 607, 1279. Es decir, los diez valores más pequeños de $n$ para los que sabemos que $M_n$ es primo son 2, 3, 5, 7, 13, 17, 19, 31, 61, 89. Realmente no sé seguro si estos son los diez primeros primos de Mersenne: voy a comprobarlo:\n",
    "\n"
   ]
  },
  {
   "cell_type": "code",
   "execution_count": 10,
   "metadata": {},
   "outputs": [
    {
     "data": {
      "text/plain": [
       "[2, 3, 5, 7, 13, 17, 19, 31, 61, 89]"
      ]
     },
     "execution_count": 10,
     "metadata": {},
     "output_type": "execute_result"
    }
   ],
   "source": [
    "#obs previa\n",
    "#Voy a almacenar todos los números de Mersenne Mn con n<90 en una lista que llamaré l:\n",
    "l = []\n",
    "\n",
    "for n in range(1,90):\n",
    "    if n in Primes():\n",
    "        Mn = 2^n-1\n",
    "        if Mn in Primes():\n",
    "            l.append(n)\n",
    "l"
   ]
  },
  {
   "cell_type": "code",
   "execution_count": 13,
   "metadata": {},
   "outputs": [
    {
     "name": "stdout",
     "output_type": "stream",
     "text": [
      "True\n",
      "True\n",
      "True\n",
      "True\n",
      "True\n",
      "True\n",
      "True\n",
      "True\n",
      "True\n",
      "True\n"
     ]
    }
   ],
   "source": [
    "#Compruebo el apartado (a) para los 10 primeros primos de Mersenne (que son los de la lista l)\n",
    "for n in l:\n",
    "    Mn = 2^n - 1\n",
    "    M = Mn*(Mn+1)/2\n",
    "    print(perfecto(M) and (M % 2 == 0))"
   ]
  },
  {
   "cell_type": "markdown",
   "metadata": {},
   "source": [
    "__________\n",
    "**f)** Muchos siglos después, Euler demostró el recíproco: si un número $n$ es perfecto y par, entonces es de la forma $M(M+1)/2$ para algún primo de Mersenne. Obtén la lista de todos los números perfectos pares menores o iguales que $M_{13}(M_{13}+1)/2$ y comprueba que todos ellos son de la forma $M(M+1)/2$ para algún primo de Mersenne $M$."
   ]
  },
  {
   "cell_type": "code",
   "execution_count": null,
   "metadata": {},
   "outputs": [],
   "source": [
    "#lista de todos los perfectos pares menores que M13*...: (cuidado, a sage le lleva un tiempo)\n",
    "mtrece = (2^13-1)*2^12\n",
    "lista_perfectos_pares = []\n",
    "for m in range(2,mtrece+1,2):\n",
    "    if perfecto(m):\n",
    "        lista_perfectos_pares.append(m)\n",
    "lista_perfectos_pares\n"
   ]
  },
  {
   "cell_type": "code",
   "execution_count": 15,
   "metadata": {},
   "outputs": [
    {
     "data": {
      "text/plain": [
       "[6, 28, 496, 8128, 33550336]"
      ]
     },
     "execution_count": 15,
     "metadata": {},
     "output_type": "execute_result"
    }
   ],
   "source": [
    "\n",
    "#lista de los M(M+1)/2 donde M es un primo de Mersenne menor que M13\n",
    "lista_mersenne = []\n",
    "for n in range(1,14):\n",
    "    if 2^n-1 in Primes():\n",
    "        lista_mersenne.append((2^n-1)* 2^(n-1))\n",
    "lista_mersenne"
   ]
  },
  {
   "cell_type": "markdown",
   "metadata": {},
   "source": [
    "____________\n",
    "**g)** A día de hoy no se sabe si hay algún número perfecto impar. Comprueba que no hay ninguno menor que un millón."
   ]
  },
  {
   "cell_type": "code",
   "execution_count": 16,
   "metadata": {},
   "outputs": [
    {
     "name": "stdout",
     "output_type": "stream",
     "text": [
      "Su búsqueda no produjo resultados\n"
     ]
    }
   ],
   "source": [
    "exito = False\n",
    "for r in range(1,10^6,2):\n",
    "    if perfecto(r):\n",
    "        print('Eureka',r)\n",
    "        exito = 'true'\n",
    "if not exito:\n",
    "    print('Su búsqueda no produjo resultados')\n",
    "        "
   ]
  },
  {
   "cell_type": "code",
   "execution_count": null,
   "metadata": {},
   "outputs": [],
   "source": []
  }
 ],
 "metadata": {
  "kernelspec": {
   "display_name": "SageMath 9.0",
   "language": "sage",
   "name": "sagemath"
  },
  "language_info": {
   "codemirror_mode": {
    "name": "ipython",
    "version": 3
   },
   "file_extension": ".py",
   "mimetype": "text/x-python",
   "name": "python",
   "nbconvert_exporter": "python",
   "pygments_lexer": "ipython3",
   "version": "3.7.6"
  }
 },
 "nbformat": 4,
 "nbformat_minor": 4
}
