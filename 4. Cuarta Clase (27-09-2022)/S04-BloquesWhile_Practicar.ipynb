{
 "cells": [
  {
   "cell_type": "markdown",
   "metadata": {},
   "source": [
    "**Ejercicio 1** (Fibonacci). En la sucesión de Fibonacci $1,1,2,3,5,8,\\dots$, en la que cada término, a partir del tercero, es\n",
    "la suma de los dos anteriores, inevitablemente aparecen números pares.\n",
    "Calcula, sin usar la función $\\texttt{fibonacci}()$ de SageMath, la suma de los términos pares menores que cuatro millones en la sucesión de Fibonacci."
   ]
  },
  {
   "cell_type": "code",
   "execution_count": null,
   "metadata": {},
   "outputs": [],
   "source": []
  },
  {
   "cell_type": "code",
   "execution_count": null,
   "metadata": {},
   "outputs": [],
   "source": []
  },
  {
   "cell_type": "markdown",
   "metadata": {},
   "source": [
    "**Ejercicio 2** (Intervalos libres de primos). Un aspecto interesante sobre la distribución de los números  primos entre todos los naturales es la existencia de secuencias largas de números consecutivos que no contienen ningún  primo. \n",
    "\n",
    "> a) Halla la secuencia más larga de números consecutivos menores que un millón que no contiene ningún primo.\n",
    "\n",
    "> b) Encuentra los dos primeros primos entre los que aparecen al menos $200$ números compuestos.\n",
    "\n",
    "_Sugerencia_:  Puede ser útil usar la función $\\texttt{next}\\_\\texttt{prime}()$."
   ]
  },
  {
   "cell_type": "code",
   "execution_count": null,
   "metadata": {},
   "outputs": [],
   "source": []
  },
  {
   "cell_type": "code",
   "execution_count": null,
   "metadata": {},
   "outputs": [],
   "source": []
  },
  {
   "cell_type": "markdown",
   "metadata": {},
   "source": [
    "**Ejercicio 3** (Fermat-Euler). Según una conjetura de Fermat, demostrada por Euler:\n",
    "``Todo número primo de la forma $4k+1$ se puede expresar como la suma de dos cuadrados perfectos en una única forma, mientras que un número primo de la forma $4k+3$ no puede descomponerse de ninguna forma como la suma de dos cuadrados perfectos.''${}^*$.\n",
    "\n",
    "En este ejercicio se pide elaborar unos programas destinados a comprobar la validez del teorema hasta un valor dado.\n",
    "\n",
    "> a)  Crea una función, de nombre $\\texttt{primos}\\_\\texttt{impares}$, que, dado un número entero $a$ mayor que $2$, devuelva dos listas, la primera con todos los primos de la forma $4k+3$ menores o iguales que $a$ y la segunda con todos los primos de la forma $4k+1$ menores o iguales que $a$.\n",
    "\n",
    "> b) Crea una función, de nombre $\\texttt{suma}\\_\\texttt{de}\\_\\texttt{cuadrados}$, que, dado un número primo impar, decida si es verdad o no que el número se puede escribir como la suma de dos cuadrados perfectos.\n",
    "\n",
    "> c) Finalmente, construye una función, de nombre $\\texttt{Fermat}\\_\\texttt{Euler}$, que, dado un número entero $a$ mayor que $2$, decida si es verdad o no que todos los números primos de la forma $4k+1$ menores o iguales que $a$ se pueden escribir como suma de dos cuadrados perfectos y que ningún número primo de la forma $4k+3$ menor o igual que $a$ se puede escribir como la suma de dos cuadrados.\n",
    "\n",
    "-----\n",
    "${}^*$ La existencia de infinitos primos de la forma $4k+3$ se demuestra con un razonamiento análogo al usado por Euclides para demostrar la existencia de infinitos primos. La existencia de infinitos primos de la forma $4k+1$ fue demostrada por Euler con un argumento que utiliza la divergencia de la serie de los inversos de los primos.\n"
   ]
  },
  {
   "cell_type": "code",
   "execution_count": null,
   "metadata": {},
   "outputs": [],
   "source": []
  }
 ],
 "metadata": {
  "kernelspec": {
   "display_name": "SageMath 9.0",
   "language": "sage",
   "name": "sagemath"
  },
  "language_info": {
   "codemirror_mode": {
    "name": "ipython",
    "version": 3
   },
   "file_extension": ".py",
   "mimetype": "text/x-python",
   "name": "python",
   "nbconvert_exporter": "python",
   "pygments_lexer": "ipython3",
   "version": "3.7.6"
  }
 },
 "nbformat": 4,
 "nbformat_minor": 4
}
