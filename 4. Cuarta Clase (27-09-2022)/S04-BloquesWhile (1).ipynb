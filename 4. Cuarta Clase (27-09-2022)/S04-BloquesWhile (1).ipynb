{
 "cells": [
  {
   "cell_type": "markdown",
   "metadata": {},
   "source": [
    "**Ejercicio 1** (La serie armónica).\n",
    "$$\\displaystyle\\sum_{k=1}^{\\infty} \\frac{1}{k}=1+\\frac{1}{2}+\\frac{1}{3}+\\cdots $$ \n",
    "es divergente, pero la suma tiende a $\\infty$ a una velocidad muy pequeña.\n",
    "¿Cuántos términos de la serie se necesitan para que la suma se haga mayor que 10? ¿Y para que pase de 14?"
   ]
  },
  {
   "cell_type": "code",
   "execution_count": 15,
   "metadata": {},
   "outputs": [
    {
     "name": "stdout",
     "output_type": "stream",
     "text": [
      "Se necesitan 12368 términos para que la suma sea mayor que 10\n"
     ]
    }
   ],
   "source": [
    "sumatorio = 0 #Aquí voy a almacenar las sumas parciales.\n",
    "n = 1         #Aquí voy a almacenar el número de sumandos de cada suma parcial.\n",
    "\n",
    "while sumatorio <= 10:\n",
    "    sumatorio = sumatorio + 1/n\n",
    "    n = n+1\n",
    "print('Se necesitan',n,'términos para que la suma sea mayor que', 10)"
   ]
  },
  {
   "cell_type": "code",
   "execution_count": 20,
   "metadata": {},
   "outputs": [
    {
     "name": "stdout",
     "output_type": "stream",
     "text": [
      "Se necesitan 675215 términos para que la suma sea mayor que 14\n"
     ]
    }
   ],
   "source": [
    "sumatorio = 0 #Aquí voy a almacenar las sumas parciales.\n",
    "n = 1         #Aquí voy a almacenar el número de sumandos de cada suma parcial.\n",
    "\n",
    "while sumatorio <= 14:\n",
    "    sumatorio = sumatorio + 1/n\n",
    "    n = n+1\n",
    "print('Se necesitan',n,'términos para que la suma sea mayor que', 14)\n",
    "\n"
   ]
  },
  {
   "cell_type": "code",
   "execution_count": null,
   "metadata": {},
   "outputs": [],
   "source": [
    "#Esta celda tarda mucho en ejecutarse (sobre 90 segundos) porque sage está\n",
    "#haciendo operaciones con racionales. Si le preguntamos a Sage cuanto vale ese sumatorio:\n",
    "#vemos que nos lo da como una gigantesca fracción:\n",
    "sumatorio\n",
    "#Operar con estas inmensas fracciones es lo que hace que Sage tarde tanto."
   ]
  },
  {
   "cell_type": "code",
   "execution_count": 21,
   "metadata": {},
   "outputs": [
    {
     "name": "stdout",
     "output_type": "stream",
     "text": [
      "Se necesitan 675215 términos para que la suma sea mayor que 14\n"
     ]
    }
   ],
   "source": [
    "#Vamos a forzar que sage haga las operaciones con números reales.\n",
    "#Sage será más rápido calculando, pero nos dará resultados aproximados.\n",
    "\n",
    "sumatorio = 0.0 #Aquí voy a almacenar las sumas parciales.\n",
    "n = 1         #Aquí voy a almacenar el número de sumandos de cada suma parcial.\n",
    "\n",
    "while sumatorio <= 14:\n",
    "    sumatorio = sumatorio + 1/n\n",
    "    n = n+1\n",
    "print('Se necesitan',n,'términos para que la suma sea mayor que', 14)"
   ]
  },
  {
   "cell_type": "markdown",
   "metadata": {},
   "source": [
    "**Ejercicio 2** (Algoritmo de Herón). En este ejercicio consideramos un algoritmo que aproxima la raíz cuadrada de un número real\n",
    "positivo $a$. El algoritmo es _iterativo_: comienza con una aproximación burda,  $t_0=a$, y después en cada iteración del algoritmo sustituimos $t_n$ por otra aproximación mejor,\n",
    "$$\n",
    "t_{n+1}=\\frac12\\Big(t_n+\\frac a{t_n}\\Big).\n",
    "$$\n",
    "La sucesión $t_n$ converge a la raiz de $a$.\n",
    "\n",
    "Este algoritmo para calcular raíces cuadradas era conocido por los babilonios, y a veces se le llama algoritmo de Herón. \n",
    "\n",
    "Escribe una función que acepte dos argumentos, un número real $a$ y un error máximo $\\texttt{tol}$, y devuelva una aproximación $t$ al número $\\sqrt{a}$ tal que $|t^2-a|<t \\cdot \\texttt{tol}$. Nótese que bajo estas condiciones\n",
    "$$\n",
    "|t-\\sqrt{a}|=\\frac{|t^2-a|}{t+\\sqrt{a}}\\le \\frac{t\\,\\texttt{tol}}{t+\\sqrt{a}}\\le\\texttt{tol}.\n",
    "$$"
   ]
  },
  {
   "cell_type": "code",
   "execution_count": 42,
   "metadata": {},
   "outputs": [
    {
     "name": "stdout",
     "output_type": "stream",
     "text": [
      "1.4142135623730950488016896235025302436149819257762\n",
      "1.4142135623730950488016887242096980785696718753769\n",
      "8.9929283216504531005039924868314979924830573163420e-25\n"
     ]
    }
   ],
   "source": [
    "#heron(a,tol) calcula la raiz cuadrada de a con un error de tol.\n",
    "def heron(a,tol):\n",
    "    t = a\n",
    "    while abs(t^2-a)>=t*tol:\n",
    "        t = (t + a/t)/2\n",
    "    return t\n",
    "\n",
    "#Vamos a comprobar que funciona:\n",
    "print(heron(2,10^(-12)).n(digits=50))\n",
    "print(sqrt(2).n(digits = 50))\n",
    "print((heron(2,10^(-12)) - sqrt(2)).n(digits = 50))\n",
    "\n",
    "#tal y como está escrita la función las operaciones se hacen en los racionales.\n",
    "#la instrucción x.n(100) devuelve una aproximación del número x con 100 bits de precisión\n",
    "#(1 décima de precisión está entre 3 y 4 bits)"
   ]
  },
  {
   "cell_type": "markdown",
   "metadata": {},
   "source": [
    "**Ejercicio 3** (Conjetura de Collatz). Definimos una secuencia de números por la siguiente regla: el número siguiente a $n$ es $n/2$ si\n",
    "$n$ es par y $3n+1$ si $n$ es impar. Se ha conjeturado, pero no se ha demostrado todavía, que la secuencia siempre alcanza 1 eventualmente.\n",
    "\n",
    "> a) Escribe una función que acepte como argumento un número $k$ y devuelva la lista de todos los números de la secuencia comenzando por $k$ y parando cuando se alcance por primera vez el número $1$.\n",
    "\n",
    "> b) Escribe una función que acepte como argumento un número $k$  y devuelva el número de veces que se ha iterado la regla anterior hasta llegar a $1$ partiendo de $k$. Por ejemplo, la secuencia $5$, $16$, $8$, $4$, $2$, $1$, se considera que ha tardado $5$ pasos en llegar a $1$.\n",
    "\n",
    "> c) Aprovecha la función del apartado anterior para encontrar un número tal que la secuencia tarde al menos $250$ pasos en alcanzar $1$.\n",
    "\n",
    "> d) Encuentra un número tal que la secuencia tarde exactamente $250$ pasos en alcanzar $1$.\n",
    "\n",
    "\n",
    "_Para saber más:_ [Wikipedia: Collatz conjecture](https://en.wikipedia.org/wiki/Collatz_conjecture)."
   ]
  },
  {
   "cell_type": "code",
   "execution_count": 58,
   "metadata": {},
   "outputs": [
    {
     "data": {
      "text/plain": [
       "[13, 40, 20, 10, 5, 16, 8, 4, 2, 1]"
      ]
     },
     "execution_count": 58,
     "metadata": {},
     "output_type": "execute_result"
    }
   ],
   "source": [
    "#(a):\n",
    "def collatz(k):\n",
    "    l = [k] #en esta lista voy a almacenar los números de la secuencia de Collatz.\n",
    "    #n = k\n",
    "    while k != 1: #mientras n sea distinto de 1\n",
    "        if k%2 == 0: #si el resto de dividir n entre 2 es cero\n",
    "            k = k/2\n",
    "        else: #si el resto de dividir n entre 2 no es cero\n",
    "            k = 3*k+1\n",
    "        l.append(k) #añado el nuevo valor de k a la lista.\n",
    "    return l\n",
    "\n",
    "#Voy a ver que funciona:\n",
    "collatz(13)\n",
    "\n",
    "            "
   ]
  },
  {
   "cell_type": "code",
   "execution_count": 59,
   "metadata": {},
   "outputs": [
    {
     "data": {
      "text/plain": [
       "9"
      ]
     },
     "execution_count": 59,
     "metadata": {},
     "output_type": "execute_result"
    }
   ],
   "source": [
    "#(b):\n",
    "def collatz_pasos(k):\n",
    "    pasos = 0\n",
    "    while k != 1: #mientras n sea distinto de 1\n",
    "        if k%2 == 0: #si el resto de dividir n entre 2 es cero\n",
    "            k = k/2\n",
    "        else: #si el resto de dividir n entre 2 no es cero\n",
    "            k = 3*k+1\n",
    "        pasos = pasos + 1\n",
    "    return pasos\n",
    "\n",
    "#Voy a ver que funciona:\n",
    "collatz_pasos(13)"
   ]
  },
  {
   "cell_type": "code",
   "execution_count": 63,
   "metadata": {},
   "outputs": [
    {
     "name": "stdout",
     "output_type": "stream",
     "text": [
      "Para k =  6171 se necesitan 261 pasos\n"
     ]
    }
   ],
   "source": [
    "#(c)\n",
    "k=1\n",
    "while collatz_pasos(k) < 250:\n",
    "    k = k+1\n",
    "print('Para k = ', k, 'se necesitan',collatz_pasos(k),'pasos')\n"
   ]
  },
  {
   "cell_type": "code",
   "execution_count": 64,
   "metadata": {},
   "outputs": [
    {
     "name": "stdout",
     "output_type": "stream",
     "text": [
      "Para k =  23435 se necesitan exactamente 250 pasos\n"
     ]
    }
   ],
   "source": [
    "#(c)\n",
    "k=1\n",
    "while collatz_pasos(k) != 250:\n",
    "    k = k+1\n",
    "print('Para k = ', k, 'se necesitan exactamente',collatz_pasos(k),'pasos')"
   ]
  },
  {
   "cell_type": "markdown",
   "metadata": {},
   "source": [
    "**Ejercicio 4** (Conjetura de Goldbach). Tras observar que\n",
    "$$\n",
    "\\begin{aligned}\n",
    "&9 = 7 + 2\\times 1^2,\\\\\n",
    "&15 = 7 + 2\\times2^2,\\\\\n",
    "&21 = 3 + 2\\times3^2,\\\\\n",
    "&25 = 7 + 2\\times3^2,\\\\\n",
    "&27 = 19 + 2\\times2^2,\\\\\n",
    "&33 = 31 + 2\\times1^2,\n",
    "\\end{aligned}\n",
    "$$\n",
    "Christian Goldbach (1690-1764) conjeturó, erróneamente, que todo número impar compuesto podía escribirse como la suma de un primo y el doble de un cuadrado.\n",
    "\n",
    "¿Cuál es el menor impar compuesto que niega la conjetura?\n",
    "\n",
    "_Sugerencia_:  Puede ser útil usar la función $\\texttt{is}\\_\\texttt{square}()$."
   ]
  },
  {
   "cell_type": "code",
   "execution_count": 67,
   "metadata": {},
   "outputs": [
    {
     "data": {
      "text/plain": [
       "(True, False)"
      ]
     },
     "execution_count": 67,
     "metadata": {},
     "output_type": "execute_result"
    }
   ],
   "source": [
    "#Voy a partir el problema en dos problemas más sencillos. Así, si aparece un error\n",
    "#será más fácil encontrarlo. Primero defino una función is_Goldbach(n) que me devuelve\n",
    "#True si n satisface la conjetura y False en otro caso.\n",
    "def is_Goldbach(n):\n",
    "    for p in prime_range(n):\n",
    "        if is_square((n-p)/2):\n",
    "            return True\n",
    "    return False\n",
    "\n",
    "#Compruebo que al usar la función no obtengo un error y que los resultados son razonables:\n",
    "is_Goldbach(15), is_Goldbach(6)"
   ]
  },
  {
   "cell_type": "code",
   "execution_count": 69,
   "metadata": {},
   "outputs": [
    {
     "name": "stdout",
     "output_type": "stream",
     "text": [
      "5777\n"
     ]
    }
   ],
   "source": [
    "#Segundo, busco el primer impar compuesto que niega la conjetura:\n",
    "n = 9\n",
    "while is_Goldbach(n):\n",
    "    n = n + 2\n",
    "    while n.is_prime():\n",
    "        n = n + 2\n",
    "print(n)"
   ]
  },
  {
   "cell_type": "code",
   "execution_count": null,
   "metadata": {},
   "outputs": [],
   "source": []
  }
 ],
 "metadata": {
  "kernelspec": {
   "display_name": "SageMath 9.0",
   "language": "sage",
   "name": "sagemath"
  },
  "language_info": {
   "codemirror_mode": {
    "name": "ipython",
    "version": 3
   },
   "file_extension": ".py",
   "mimetype": "text/x-python",
   "name": "python",
   "nbconvert_exporter": "python",
   "pygments_lexer": "ipython3",
   "version": "3.7.6"
  }
 },
 "nbformat": 4,
 "nbformat_minor": 4
}
