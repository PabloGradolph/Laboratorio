{
 "cells": [
  {
   "cell_type": "markdown",
   "metadata": {},
   "source": [
    "# LABORATORIO 2021-22\n",
    "\n",
    "## Sesión 2:  Uso de SageMath como calculadora avanzada. ##\n",
    "\n",
    "## Ejercicios adicionales para practicar. ##"
   ]
  },
  {
   "cell_type": "markdown",
   "metadata": {},
   "source": [
    "_____\n",
    "\n",
    "\n",
    "\n",
    "### **Ejercicio 1** ###\n",
    "\n",
    "El **Teorema del valor medio** dice que, dada cualquier función $f$ continua en el intervalo $[a, b]$ y derivable en el intervalo abierto $(a, b)$, existe al menos un punto $c$ en el intervalo $(a, b)$ tal que la tangente a la gráfica de $f$ en $x=c$ es paralela a la recta secante que une los puntos $(b, f(b))$ y $(a, f(a))$. Es decir, existe algún valor $c\\in(a,b)$  tal que\n",
    "\n",
    "\n",
    "$$\n",
    "f'(c)=\\frac{f(b)-f(a)}{b-a}.\n",
    "$$\n",
    "\n",
    "<img src=\"E1S2PP.png\" width=\"600\" height=\"400\" />\n",
    "\n",
    "(En el ejemplo de la figura, con $a=-2, b=2$, la gráfica es azul, la recta secante es negra y la tangente en el valor $c$ del que habla el teorema es roja).\n",
    "\n",
    "Para la función $f$ y el intervalo $[a,b]$ que se carga en la celda siguiente, calcula un valor $c$ que cumpla las propiedades requeridas, y dibuja en una misma figura la gráfica de $f$ en color azul, la recta secante que une los puntos $(b, f(b))$ y $(a, f(a))$ en color negro, la recta tangente a la gráfica de $f$ en color rojo, y el punto $(c, f(c))$ en otro color distinto a los anteriores. Es decir, se trata de **reproducir una figura similar a la que está en el enunciado, pero para la función $f$ y los valores de $a$ y $b$ dados en la celda siguiente**.\n"
   ]
  },
  {
   "cell_type": "code",
   "execution_count": 26,
   "metadata": {},
   "outputs": [],
   "source": [
    "a=0\n",
    "b=5\n",
    "f(x)=e^(-x)+x^2"
   ]
  },
  {
   "cell_type": "code",
   "execution_count": null,
   "metadata": {},
   "outputs": [],
   "source": []
  },
  {
   "cell_type": "markdown",
   "metadata": {},
   "source": [
    "_____\n",
    "\n",
    "\n",
    "\n",
    "### **Ejercicio 2** ###\n",
    "\n",
    "![alt text](E2S2PP.png)\n",
    "\n",
    "\n",
    "El dibujo anterior representa:\n",
    "\n",
    "- en azul, parte de la gráfica de la función\n",
    "\n",
    "$$f(x)=x e^{-x^2};$$\n",
    "\n",
    "- en rojo, parte de la gráfica de la función\n",
    "\n",
    "$$g(x)=\\frac{x^2-x}{3};$$\n",
    "\n",
    "- en verde, el punto donde $f$ alcanza su máximo.\n",
    "\n",
    "\n",
    "**a)** Encuentra el extremo derecho del intervalo de las $x$ en el que están representadas en el dibujo las gráficas azul y roja (observa que es un punto en que ambas gráficas se cortan).\n",
    "\n",
    "*Sugerencia:* Para encontrar el valor buscado, utiliza la función $\\texttt{find}$_$\\texttt{root}$ de Sage aplicada a la ecuación que corresponda.\n",
    "\n",
    "**b)** Encuentra el valor $x_0$, para el que $f(x_0)$ es el máximo de $f$. ¿Cuánto vale ese máximo?\n",
    "\n",
    "**c)** Genera el dibujo que aparece en el enunciado.\n",
    "\n",
    "**d)** Encuentra el área de la región limitada por las gráficas azul y roja."
   ]
  },
  {
   "cell_type": "code",
   "execution_count": null,
   "metadata": {},
   "outputs": [],
   "source": []
  },
  {
   "cell_type": "markdown",
   "metadata": {},
   "source": [
    "_____\n",
    "​\n",
    "​\n",
    "​\n",
    "### **Ejercicio 3** (EVAU 2021, Matemáticas II) ###\n",
    "​\n",
    "Sean\n",
    "​\n",
    "$$\n",
    "A = \\begin{pmatrix}\n",
    "0& 1& 1\\\\\n",
    "m& 1& 0\\\\\n",
    "1& 0& 1\\\\\n",
    "\\end{pmatrix}, \\qquad B =\n",
    "\\begin{pmatrix}\n",
    "1\\\\\n",
    "0\\\\\n",
    "1\n",
    "\\end{pmatrix}.\n",
    "$$\n",
    "​\n",
    "**a)** Determine los valores del parámetro real $m$ para los que la matriz $A$ es invertible y calcule su\n",
    "inversa en esos casos.\n",
    "​\n",
    "**b)**  Estudie el sistema de ecuaciones $A\\begin{pmatrix} x\\\\ y\\\\ z\\end{pmatrix}=B$ \n",
    "en función del parámetro $m$.\n",
    "​\n",
    "**c)** Resuelva el sistema del apartado anterior para el valor $m = 2$."
   ]
  },
  {
   "cell_type": "code",
   "execution_count": null,
   "metadata": {},
   "outputs": [],
   "source": []
  },
  {
   "cell_type": "markdown",
   "metadata": {},
   "source": [
    "_____\n",
    "\n",
    "\n",
    "\n",
    "### **Ejercicio 4** (EVAU 2021, Matemáticas II) ###\n",
    "\n",
    "\n",
    "Tres amigas, Sara, Cristina y Jimena, tienen un total de 15000 seguidores en una red social. Si Jimena perdiera\n",
    "el 25% de sus seguidores todavía tendría el triple de seguidores que Sara. Además, la mitad de los seguidores\n",
    "de Sara más la quinta parte de los de Cristina suponen la cuarta parte de los seguidores de Jimena. Calcule\n",
    "cuántos seguidores tiene cada una de las tres amigas."
   ]
  },
  {
   "cell_type": "code",
   "execution_count": null,
   "metadata": {},
   "outputs": [],
   "source": []
  }
 ],
 "metadata": {
  "kernelspec": {
   "display_name": "SageMath 9.0",
   "language": "sage",
   "name": "sagemath"
  },
  "language_info": {
   "codemirror_mode": {
    "name": "ipython",
    "version": 3
   },
   "file_extension": ".py",
   "mimetype": "text/x-python",
   "name": "python",
   "nbconvert_exporter": "python",
   "pygments_lexer": "ipython3",
   "version": "3.7.6"
  }
 },
 "nbformat": 4,
 "nbformat_minor": 5
}
