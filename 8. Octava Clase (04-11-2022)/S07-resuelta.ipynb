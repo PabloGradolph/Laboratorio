{
 "cells": [
  {
   "cell_type": "markdown",
   "metadata": {},
   "source": [
    "# Laboratorio 2021-22\n",
    "\n",
    "## Sesión 7: Sistemas de numeración"
   ]
  },
  {
   "cell_type": "markdown",
   "metadata": {},
   "source": [
    "____________\n",
    "\n",
    "**Ejercicio 1.-** Implementar, sin usar el método *digits*, una función de Sagemath, *DigitosN(z,b)*, que espere dos naturales, $z,b$ con $b\\ge2$ y devuelva la lista de los valores de los dígitos de $z$ en el sistema de numeración de base $b$, leídos de izquierda a derecha. Por ejemplo, *DigitosN(41531,16)* devolverá la lista $[10,2,3,11]$.\n",
    "\n",
    "*Observación:* Antes de comenzar este ejercicio deberías haber leído hasta la pregunta 9 del cuestionario."
   ]
  },
  {
   "cell_type": "code",
   "execution_count": 2,
   "metadata": {},
   "outputs": [
    {
     "data": {
      "text/plain": [
       "[10, 2, 3, 11]"
      ]
     },
     "execution_count": 2,
     "metadata": {},
     "output_type": "execute_result"
    }
   ],
   "source": [
    "def DigitosN(z,b):\n",
    "    D = []\n",
    "    while z>0:\n",
    "        D.append(z%b)\n",
    "        z = z//b\n",
    "    D.reverse()\n",
    "    return D\n",
    "\n",
    "DigitosN(41531,16)"
   ]
  },
  {
   "cell_type": "markdown",
   "metadata": {},
   "source": [
    "____________\n",
    "\n",
    "**Ejercicio 2.-**  Implementar una función, *DecimalN(L,b)*, inversa de *DigitosN(z,b)*, que, siguiendo el algoritmo de Horner, devuelva el natural $z$ cuyos dígitos en el sistema de numeración de base *b* leídos de izquierda a derecha sean los proporcionados en la lista *L*. Por ejemplo,  *DecimalN(*[10,2,3,11],16*)* devolverá 41531.\n",
    "\n",
    "*Observación:* Antes de comenzar este ejercicio deberías haber leído hasta la pregunta 11 del cuestionario."
   ]
  },
  {
   "cell_type": "code",
   "execution_count": 3,
   "metadata": {},
   "outputs": [
    {
     "name": "stdout",
     "output_type": "stream",
     "text": [
      "[4, 1, 5, 3, 1]\n"
     ]
    },
    {
     "data": {
      "text/plain": [
       "41531"
      ]
     },
     "execution_count": 3,
     "metadata": {},
     "output_type": "execute_result"
    }
   ],
   "source": [
    "def DecimalN(L,b):\n",
    "    n = 0\n",
    "    for i in L:\n",
    "        n = n*b+i\n",
    "    return n\n",
    "\n",
    "b =10\n",
    "L = DigitosN(41531,b)\n",
    "print(L)\n",
    "DecimalN(L,b)"
   ]
  },
  {
   "cell_type": "markdown",
   "metadata": {},
   "source": [
    "____________\n",
    "\n",
    "**Ejercicio 3.-** Implementar una función *Digitos( )* de Sagemath que dados un racional $p/q$ no negativo y un natural $b\\ge 2$ devuelva la lista de todos los dígitos, parte entera y parte fraccionaria, del racional en la base dada. En la lista, indicar dónde empieza, si la hay, la parte fraccionaria con el caracter '.', y dónde, si la hay, empieza la parte periódica con el caracter '$|$'.\n",
    "\n",
    "*Sugerencia:* Pueden resultarte útiles la función *floor* y el método para listas *.index()*.\n",
    "\n",
    "*Observación:* Antes de comenzar este ejercicio deberías haber leído todo el cuestionario."
   ]
  },
  {
   "cell_type": "code",
   "execution_count": 8,
   "metadata": {},
   "outputs": [
    {
     "data": {
      "text/plain": [
       "[2, 8, '.', '|', 5, 7, 1, 4, 2, 8]"
      ]
     },
     "execution_count": 8,
     "metadata": {},
     "output_type": "execute_result"
    }
   ],
   "source": [
    "def Digitos(pq,b):\n",
    "    L = DigitosN(floor(pq),b)\n",
    "    len_entera = len(L)\n",
    "    if floor(pq)==pq:\n",
    "        return L\n",
    "    else:\n",
    "        L.append('.')\n",
    "        F = []\n",
    "        n = pq-floor(pq)\n",
    "        while not (n==0):\n",
    "            F.append(n)\n",
    "            m = floor(n*b)\n",
    "            L.append(m)\n",
    "            n = n*b-m\n",
    "            if n in F:\n",
    "                i = F.index(n)+len_entera\n",
    "                L = L[:i+1] + ['|'] + L[i+1:]\n",
    "                break\n",
    "        return L\n",
    "\n",
    "Digitos(200/7,10)"
   ]
  },
  {
   "cell_type": "markdown",
   "metadata": {},
   "source": [
    "____________\n",
    "\n",
    "**Ejercicio 4.-**  Implementar una función, *Decimal( )*, inversa de *Digitos( )*; es decir, que encuentre la fracción irreducible correspondiente a un desarrollo decimal, finito o periódico, en una base dada."
   ]
  },
  {
   "cell_type": "code",
   "execution_count": 29,
   "metadata": {},
   "outputs": [
    {
     "name": "stdout",
     "output_type": "stream",
     "text": [
      "101/87\n",
      "[1, '.', '|', 1, 6, 0, 9, 1, 9, 5, 4, 0, 2, 2, 9, 8, 8, 5, 0, 5, 7, 4, 7, 1, 2, 6, 4, 3, 6, 7, 8]\n",
      "101/87\n",
      "[1, '.', '|', 1, 6, 0, 9, 1, 9, 5, 4, 0, 2, 2, 9, 8, 8, 5, 0, 5, 7, 4, 7, 1, 2, 6, 4, 3, 6, 7, 8]\n"
     ]
    }
   ],
   "source": [
    "def Decimal(L,b):\n",
    "    if '.' in L:\n",
    "        punto = L.index('.')\n",
    "        k = len(L) - punto - 1\n",
    "        L.remove('.')\n",
    "        if '|' in L:\n",
    "            k = k-1\n",
    "            l = L.index('|')-punto\n",
    "            L2 = L[:L.index('|')]\n",
    "            L.remove('|')\n",
    "            return (DecimalN(L,b)-DecimalN(L2,b))/(b^k-b^l)\n",
    "        else:\n",
    "            return DecimalN(L2,b)/b^k\n",
    "    else:\n",
    "        return DecimalN(L,b)\n",
    "\n",
    "b=10\n",
    "m = 101/87\n",
    "print(m)\n",
    "L = Digitos(m,b)\n",
    "print(L)   \n",
    "m = Decimal(L,b)\n",
    "print(m)\n",
    "print(Digitos(m,b))"
   ]
  },
  {
   "cell_type": "code",
   "execution_count": 43,
   "metadata": {},
   "outputs": [
    {
     "data": {
      "text/plain": [
       "11609195402298.85"
      ]
     },
     "execution_count": 43,
     "metadata": {},
     "output_type": "execute_result"
    }
   ],
   "source": [
    "float(101/87*(10^13))"
   ]
  },
  {
   "cell_type": "code",
   "execution_count": null,
   "metadata": {},
   "outputs": [],
   "source": []
  }
 ],
 "metadata": {
  "kernelspec": {
   "display_name": "SageMath 9.0",
   "language": "sage",
   "name": "sagemath"
  },
  "language_info": {
   "codemirror_mode": {
    "name": "ipython",
    "version": 3
   },
   "file_extension": ".py",
   "mimetype": "text/x-python",
   "name": "python",
   "nbconvert_exporter": "python",
   "pygments_lexer": "ipython3",
   "version": "3.7.6"
  }
 },
 "nbformat": 4,
 "nbformat_minor": 5
}
