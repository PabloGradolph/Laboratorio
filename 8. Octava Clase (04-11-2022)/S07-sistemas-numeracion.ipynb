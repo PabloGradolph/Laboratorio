{
 "cells": [
  {
   "cell_type": "markdown",
   "metadata": {},
   "source": [
    "# Laboratorio 2021-22\n",
    "\n",
    "## Sesión 7: Sistemas de numeración"
   ]
  },
  {
   "cell_type": "markdown",
   "metadata": {},
   "source": [
    "____________\n",
    "\n",
    "**Ejercicio 1.-** Implementar, sin usar el método *digits*, una función de Sagemath, *DigitosN(z,b)*, que espere dos naturales, $z,b$ con $b\\ge2$ y devuelva la lista de los valores de los dígitos de $z$ en el sistema de numeración de base $b$, leídos de izquierda a derecha. Por ejemplo, *DigitosN(41531,16)* devolverá la lista $[10,2,3,11]$.\n",
    "\n",
    "*Observación:* Antes de comenzar este ejercicio deberías haber leído hasta la pregunta 9 del cuestionario."
   ]
  },
  {
   "cell_type": "code",
   "execution_count": null,
   "metadata": {},
   "outputs": [],
   "source": []
  },
  {
   "cell_type": "markdown",
   "metadata": {},
   "source": [
    "____________\n",
    "\n",
    "**Ejercicio 2.-**  Implementar una función, *DecimalN(L,b)*, inversa de *DigitosN(z,b)*, que, siguiendo el algoritmo de Horner, devuelva el natural $z$ cuyos dígitos en el sistema de numeración de base *b* leídos de izquierda a derecha sean los proporcionados en la lista *L*. Por ejemplo,  *DecimalN(*[10,2,3,11],16*)* devolverá 41531.\n",
    "\n",
    "*Observación:* Antes de comenzar este ejercicio deberías haber leído hasta la pregunta 11 del cuestionario."
   ]
  },
  {
   "cell_type": "code",
   "execution_count": 4,
   "metadata": {},
   "outputs": [],
   "source": []
  },
  {
   "cell_type": "markdown",
   "metadata": {},
   "source": [
    "____________\n",
    "\n",
    "**Ejercicio 3.-** Implementar una función *Digitos( )* de Sagemath que dados un racional $p/q$ no negativo y un natural $b\\ge 2$ devuelva la lista de todos los dígitos, parte entera y parte fraccionaria, del racional en la base dada. En la lista, indicar dónde empieza, si la hay, la parte fraccionaria con el caracter '.', y dónde, si la hay, empieza la parte periódica con el caracter '$|$'.\n",
    "\n",
    "*Sugerencia:* Pueden resultarte útiles la función *floor* y el método para listas *.index()*.\n",
    "\n",
    "*Observación:* Antes de comenzar este ejercicio deberías haber leído todo el cuestionario."
   ]
  },
  {
   "cell_type": "code",
   "execution_count": null,
   "metadata": {},
   "outputs": [],
   "source": []
  },
  {
   "cell_type": "markdown",
   "metadata": {},
   "source": [
    "____________\n",
    "\n",
    "**Ejercicio 4.-**  Implementar una función, *Decimal( )*, inversa de *Digitos( )*; es decir, que encuentre la fracción irreducible correspondiente a un desarrollo decimal, finito o periódico, en una base dada."
   ]
  },
  {
   "cell_type": "code",
   "execution_count": null,
   "metadata": {},
   "outputs": [],
   "source": []
  }
 ],
 "metadata": {
  "kernelspec": {
   "display_name": "SageMath 9.0",
   "language": "sage",
   "name": "sagemath"
  },
  "language_info": {
   "codemirror_mode": {
    "name": "ipython",
    "version": 3
   },
   "file_extension": ".py",
   "mimetype": "text/x-python",
   "name": "python",
   "nbconvert_exporter": "python",
   "pygments_lexer": "ipython3",
   "version": "3.7.6"
  }
 },
 "nbformat": 4,
 "nbformat_minor": 5
}
