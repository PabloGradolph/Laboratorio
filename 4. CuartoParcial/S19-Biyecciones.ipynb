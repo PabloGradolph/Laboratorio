{
 "cells": [
  {
   "cell_type": "markdown",
   "metadata": {},
   "source": [
    "# Laboratorio 2022-2023\n",
    "\n",
    "##  Sesión 19: Biyecciones\n",
    "\n",
    "En las próximas semanas vamos a explorar con Sage alguna de las ideas matemáticas que se usan en ciertos sistemas criptográficos. La criptografía consiste en establecer una biyección entre un conjunto de posibles mensajes y un conjunto de los mismos mensajes, esta vez codificados de manera que no se entienden. Al utilizar una biyección el mensaje se puede volver a su estado inicial con la biyección inversa.\n",
    "\n",
    "Los diccionarios de Sage permiten codificar cómodamente funciones entre dos conjuntos finitos. Si $f:A \\to B$ es una tal función, basta crear un diccionario que tenga como claves (*keys*) cada uno de los elementos de A, y como valor (*values*) de una clave $a\\in A$ el correspondiente $f(a)\\in B$.\n",
    "\n",
    "**Ejemplo**: Sea $A$ el conjunto de los números enteros entre 1 y 10, y $f:A \\to \\{1,2,3,\\dots,50\\}$ la aplicación que manda un número $a$ a la cantidad de letras que tiene su nombre en castellano (el número 1 tiene 3 letras, etc). En las siguientes celdas vamos a definir dicha función por medio de un diccionario, y a hacer algunos cálculos. Ejecuta y analiza los resultados de cada celda."
   ]
  },
  {
   "cell_type": "markdown",
   "metadata": {},
   "source": [
    ">Empezamos por definir los conjuntos $A=\\{1,2,3,\\dots,10\\}$ y $B=\\{1,2,3,\\dots,50\\}$ (no hacen falta números más altos):"
   ]
  },
  {
   "cell_type": "code",
   "execution_count": 1,
   "metadata": {},
   "outputs": [],
   "source": [
    "A=set([1..10]) #conjunto origen A\n",
    "B=set([1..50]) #conjunto de llegada B"
   ]
  },
  {
   "cell_type": "markdown",
   "metadata": {},
   "source": [
    ">Recuerda que $\\texttt{dict}([\\text{lista de pares}])$ crea un diccionario, tomando de cada par $(x,y)$ de la lista, $x$ como clave e $y$ como valor.\n",
    "\n",
    ">También se puede crear un diccionario vacío e ir rellenándolo, como hemos hecho con los diccionaros de frecuencias en semanas pasadas.\n"
   ]
  },
  {
   "cell_type": "code",
   "execution_count": 2,
   "metadata": {},
   "outputs": [],
   "source": [
    "f=dict() #crea un diccionario vacío. \n",
    "#Voy añadiendo las claves con su correspondiente valor\n",
    "f[1]=3 #introduce la clave 1 al diccionario, y le asigna el valor 3\n",
    "f[2]=3\n",
    "f[3]=4\n",
    "f[4]=6\n",
    "f[5]=5\n",
    "f[6]=4\n",
    "f[7]=5\n",
    "f[8]=4\n",
    "f[9]=5\n",
    "f[10]=4"
   ]
  },
  {
   "cell_type": "markdown",
   "metadata": {},
   "source": [
    ">Recuerda lo que hacen los métodos $.\\texttt{keys}()$ y $.\\texttt{values}()$ aplicados a un diccionario: las claves y los valores del mismo. Si los aplicamos al diccionario anterior darán los conjuntos \"dominio\"  y \"recorrido\", respectivamente, de la función $f$. Para mostrarlos adecuadamente los convertimos en conjuntos, con $\\texttt{set}()$. (OJO: no son listas, pues no son datos ordenados.)"
   ]
  },
  {
   "cell_type": "code",
   "execution_count": 3,
   "metadata": {},
   "outputs": [
    {
     "name": "stdout",
     "output_type": "stream",
     "text": [
      "El diccionario que representa a nuestra función f:A--->B es {1: 3, 2: 3, 3: 4, 4: 6, 5: 5, 6: 4, 7: 5, 8: 4, 9: 5, 10: 4} \n",
      "\n",
      "Los \"items\" del diccionario son los pares (a,f(a)). Esos pares son \"la gráfica\" de f, que es un subconjunto del producto cartesiano AxB. En este caso: dict_items([(1, 3), (2, 3), (3, 4), (4, 6), (5, 5), (6, 4), (7, 5), (8, 4), (9, 5), (10, 4)]) \n",
      "\n",
      "En las claves del diccionario que representa a f están todos los elementos del dominio de definición de f. En este caso dict_keys([1, 2, 3, 4, 5, 6, 7, 8, 9, 10]) \n",
      "\n",
      "En los valores del diccionario que representa a f:A--->B están todos los elementos de B que son imagen de alguien. En este caso dict_values([3, 3, 4, 6, 5, 4, 5, 4, 5, 4]) \n",
      "\n"
     ]
    },
    {
     "data": {
      "text/plain": [
       "({1, 2, 3, 4, 5, 6, 7, 8, 9, 10}, {3, 4, 5, 6})"
      ]
     },
     "execution_count": 3,
     "metadata": {},
     "output_type": "execute_result"
    }
   ],
   "source": [
    "print('El diccionario que representa a nuestra función f:A--->B es',f, '\\n')\n",
    "print('Los \"items\" del diccionario son los pares (a,f(a)). Esos pares son \"la gráfica\" de f, que es un subconjunto del producto cartesiano AxB. En este caso:',f.items(), '\\n') \n",
    "print('En las claves del diccionario que representa a f están todos los elementos del dominio de definición de f. En este caso',f.keys(),'\\n')\n",
    "print('En los valores del diccionario que representa a f:A--->B están todos los elementos de B que son imagen de alguien. En este caso',f.values(),'\\n')\n",
    "set(f.keys()), set(f.values()) #El dominio y el recorrido de la función descrita por el diccionario f\n",
    "#Observa que \"set\" produce un conjunto, no una lista, y por tanto no contiene elementos repetidos"
   ]
  },
  {
   "cell_type": "markdown",
   "metadata": {},
   "source": [
    ">Para conocer, o utilizar, la imagen por $f$ de un elemento, utilizamos los corchetes cuadrados, $f[x]$:"
   ]
  },
  {
   "cell_type": "code",
   "execution_count": 4,
   "metadata": {},
   "outputs": [
    {
     "data": {
      "text/plain": [
       "4"
      ]
     },
     "execution_count": 4,
     "metadata": {},
     "output_type": "execute_result"
    }
   ],
   "source": [
    "#Así se calcula, usando el diccionario, la imagen por f de un elemento de su dominio\n",
    "f[3]\n",
    "#OBSERVACIÓN: si f fuese una lista, f[3] sería lo que ocupa la posición número 3. \n",
    "#En cierto sentido los diccionarios generalizan a las listas. \n",
    "#O las listas parecen diccionarios en los que las claves son los números de posición"
   ]
  },
  {
   "cell_type": "markdown",
   "metadata": {},
   "source": [
    ">Algunos errores que devuelve Sage por usos incorrectos de los diccionarios:"
   ]
  },
  {
   "cell_type": "code",
   "execution_count": 5,
   "metadata": {},
   "outputs": [
    {
     "ename": "KeyError",
     "evalue": "11",
     "output_type": "error",
     "traceback": [
      "\u001b[0;31m---------------------------------------------------------------------------\u001b[0m",
      "\u001b[0;31mKeyError\u001b[0m                                  Traceback (most recent call last)",
      "\u001b[0;32m/tmp/ipykernel_4221/1213288614.py\u001b[0m in \u001b[0;36m<module>\u001b[0;34m\u001b[0m\n\u001b[1;32m      1\u001b[0m \u001b[0;31m#Ese es el error que da sage si no está definida una imagen\u001b[0m\u001b[0;34m\u001b[0m\u001b[0;34m\u001b[0m\u001b[0m\n\u001b[0;32m----> 2\u001b[0;31m \u001b[0mf\u001b[0m\u001b[0;34m[\u001b[0m\u001b[0mInteger\u001b[0m\u001b[0;34m(\u001b[0m\u001b[0;36m11\u001b[0m\u001b[0;34m)\u001b[0m\u001b[0;34m]\u001b[0m\u001b[0;34m\u001b[0m\u001b[0;34m\u001b[0m\u001b[0m\n\u001b[0m",
      "\u001b[0;31mKeyError\u001b[0m: 11"
     ]
    }
   ],
   "source": [
    "#Ese es el error que da sage si no está definida una imagen\n",
    "f[11]"
   ]
  },
  {
   "cell_type": "code",
   "execution_count": 6,
   "metadata": {},
   "outputs": [
    {
     "ename": "TypeError",
     "evalue": "'dict_values' object is not subscriptable",
     "output_type": "error",
     "traceback": [
      "\u001b[0;31m---------------------------------------------------------------------------\u001b[0m",
      "\u001b[0;31mTypeError\u001b[0m                                 Traceback (most recent call last)",
      "\u001b[0;32m/tmp/ipykernel_4221/268353869.py\u001b[0m in \u001b[0;36m<module>\u001b[0;34m\u001b[0m\n\u001b[0;32m----> 1\u001b[0;31m \u001b[0;34m(\u001b[0m\u001b[0mf\u001b[0m\u001b[0;34m.\u001b[0m\u001b[0mvalues\u001b[0m\u001b[0;34m(\u001b[0m\u001b[0;34m)\u001b[0m\u001b[0;34m)\u001b[0m\u001b[0;34m[\u001b[0m\u001b[0mInteger\u001b[0m\u001b[0;34m(\u001b[0m\u001b[0;36m2\u001b[0m\u001b[0;34m)\u001b[0m\u001b[0;34m]\u001b[0m \u001b[0;31m#No sabe hacer esto porque f.values() no devuelve una lista: no hay uno concreto en la posición número 2\u001b[0m\u001b[0;34m\u001b[0m\u001b[0;34m\u001b[0m\u001b[0m\n\u001b[0m",
      "\u001b[0;31mTypeError\u001b[0m: 'dict_values' object is not subscriptable"
     ]
    }
   ],
   "source": [
    "(f.values())[2] #No sabe hacer esto porque f.values() no devuelve una lista: no hay uno concreto en la posición número 2"
   ]
  },
  {
   "cell_type": "markdown",
   "metadata": {},
   "source": [
    ">Se pueden generar listas a partir de los ingredientes de un diccionario, por ejemplo con el constructor $\\texttt{list}()$:"
   ]
  },
  {
   "cell_type": "code",
   "execution_count": 7,
   "metadata": {},
   "outputs": [
    {
     "name": "stdout",
     "output_type": "stream",
     "text": [
      "[3, 3, 4, 6, 5, 4, 5, 4, 5, 4] [1, 2, 3, 4, 5, 6, 7, 8, 9, 10] [(1, 3), (2, 3), (3, 4), (4, 6), (5, 5), (6, 4), (7, 5), (8, 4), (9, 5), (10, 4)]\n"
     ]
    }
   ],
   "source": [
    "print(list(f.values()), list(f.keys()), list(f.items())) #Puedes producir listas usando el comando \"list\""
   ]
  },
  {
   "cell_type": "markdown",
   "metadata": {},
   "source": [
    ">AVISO.- Sage va a ordenar estas listas como quiera: \"**No tienes control sobre ello, así que no debes asumir que el orden va a ser el que tú creas más razonable**\"."
   ]
  },
  {
   "cell_type": "code",
   "execution_count": 8,
   "metadata": {},
   "outputs": [
    {
     "name": "stdout",
     "output_type": "stream",
     "text": [
      "4\n"
     ]
    }
   ],
   "source": [
    "print(list(f.values())[2]) #Este es el valor que sage coloca en la posición número 2 de la lista de valores"
   ]
  },
  {
   "cell_type": "markdown",
   "metadata": {},
   "source": [
    ">La siguiente celda debe dar True si $f:A\\to B$ y no hemos olvidado añadir ningún elemento de $A$ como clave al diccionario:"
   ]
  },
  {
   "cell_type": "code",
   "execution_count": 9,
   "metadata": {},
   "outputs": [
    {
     "data": {
      "text/plain": [
       "True"
      ]
     },
     "execution_count": 9,
     "metadata": {},
     "output_type": "execute_result"
    }
   ],
   "source": [
    "set(f.keys())==A #Igualdad de conjuntos"
   ]
  },
  {
   "cell_type": "markdown",
   "metadata": {},
   "source": [
    ">Es muy intuitivo cómo encontrar la preimagen, por $f$, de cualquier subconjunto de $B$ (recuerda que esto tiene sentido aunque $f$ no tenga función inversa):"
   ]
  },
  {
   "cell_type": "code",
   "execution_count": 10,
   "metadata": {},
   "outputs": [
    {
     "data": {
      "text/plain": [
       "{3, 4, 5, 6, 7, 8, 9, 10}"
      ]
     },
     "execution_count": 10,
     "metadata": {},
     "output_type": "execute_result"
    }
   ],
   "source": [
    "set([k for k in A if f[k] in {4,5,6,7}])#Preimagen por f de {4,5,6,7}"
   ]
  },
  {
   "cell_type": "markdown",
   "metadata": {},
   "source": [
    ">Observa que $7$ no es imagen de nadie, pero Sage sabe qué hacer en estos casos:\n"
   ]
  },
  {
   "cell_type": "code",
   "execution_count": 11,
   "metadata": {},
   "outputs": [
    {
     "data": {
      "text/plain": [
       "({3, 4, 5, 6, 7, 8, 9, 10}, set())"
      ]
     },
     "execution_count": 11,
     "metadata": {},
     "output_type": "execute_result"
    }
   ],
   "source": [
    "set([k for k in A if f[k] in {4,5,6}]), set([k for k in A if f[k] in {7}])\n"
   ]
  },
  {
   "cell_type": "markdown",
   "metadata": {},
   "source": [
    "--------------------------------\n",
    "Para la criptografía, nos van a interesar especialmente las aplicaciones biyectivas. Recuerda que una aplicación $f:A\\longrightarrow B$  entre dos conjuntos es **biyectiva** si es inyectiva y sobreyectiva:\n",
    "\n",
    "- Para cualesquiera dos elementos, $a_1,a_2\\in A$, si $f(a_1)=f(a_2)$ entonces $a_1=a_2$ (inyectividad).\n",
    "\n",
    "- Para cualquier elemento $b\\in B$ existe algún elemento $a\\in A$ tal que $f(a)=b$ (sobreyectividad).\n",
    "\n",
    "\n",
    "Solo existen biyecciones entre conjuntos del mismo cardinal (**que quiere decir mismo número de elementos en el caso de conjuntos finitos**). De hecho, si entre dos conjuntos $A$ y $B$ existe una biyección $f$ podemos pensar en $B$ como una *copia* de $A$: cada elemento $a$ de $A$ corresponde a uno y sólo un elemento de $B$, que es precisamente $f(a)$. Toda biyección tiene su inversa, que es también una biyección, así que si conocemos *la copia* $B$ de $A$ y la biyección que la ha generado, siempre podemos recuperar el original (a cada $b$ de $B$ le corresponde el elemento $f^{-1}(b)$ de $A$).\n",
    "\n",
    "Una interesante propiedad es que la composición de dos aplicaciones biyectivas es biyectiva. En particular, si $f:A\\to B$ es biyectiva y $f^{-1}:B\\to A$ es su inversa: $(f^{-1}\\circ f):A\\to A$ es $\\mathrm{id}_A$, la identidad de $A$ en $A$ y $(f\\circ f^{-1})=\\mathrm{id}_B:B\\to B$ la identidad de $B$ en $B$."
   ]
  },
  {
   "cell_type": "markdown",
   "metadata": {},
   "source": [
    ">El conjunto de valores del diccionario está contenido en $B$ (es el recorrido de la función), pero no es todo $B$ si $f:A\\to B$ no es sobreyectiva. "
   ]
  },
  {
   "cell_type": "code",
   "execution_count": 12,
   "metadata": {},
   "outputs": [
    {
     "data": {
      "text/plain": [
       "(True, False)"
      ]
     },
     "execution_count": 12,
     "metadata": {},
     "output_type": "execute_result"
    }
   ],
   "source": [
    "set(f.values()).issubset(B), set(f.values())==B "
   ]
  },
  {
   "cell_type": "markdown",
   "metadata": {},
   "source": [
    ">La siguiente celda es una manera de comprobar, utilizando el diccionario, si la función $f$ que es inyectiva:"
   ]
  },
  {
   "cell_type": "code",
   "execution_count": null,
   "metadata": {},
   "outputs": [],
   "source": [
    "len(set(f.values()))==len(set(f.keys())) #debe dar true si f es inyectiva"
   ]
  },
  {
   "cell_type": "markdown",
   "metadata": {},
   "source": [
    "\n",
    "## **Biyecciones** ##"
   ]
  },
  {
   "cell_type": "markdown",
   "metadata": {},
   "source": [
    "\n",
    "\n",
    "\n",
    "Ya sabemos codificar funciones por medio de diccionarios. Reflexionemos un poco sobre funciones biyectivas.\n",
    "\n",
    "Sean $A=\\{1,3,5\\}$ y $B=\\{\"a\",\"b\",\"c\"\\}$. ¿Cuántas biyecciones existen entre los conjuntos $A$ y $B$? ¿Cuántas entre $A$ y $A$ o entre $B$ y $B$?"
   ]
  },
  {
   "cell_type": "markdown",
   "metadata": {},
   "source": [
    "Pensemos en primer lugar cuántas biyecciones hay entre $A$ y $B$. Empezamos eligiendo la imagen del 1: hay tres posibilidades. Una vez decidido esto elegimos la imagen del 3: hay dos posibilidades. Hecho lo anterior, la imagen del 5 no se puede elegir, está determinada. Hay por tanto $3\\cdot 2=6$. Un razonamiento similar permite demostrar que el número de biyecciones entre dos conjuntos de cardinal $n$, no importa cuáles sean, es $n!$."
   ]
  },
  {
   "cell_type": "markdown",
   "metadata": {},
   "source": [
    "## Ejercicio 1 ##\n",
    "\n",
    "Construye (como diccionario de Sage) la biyección $f:A\\longrightarrow B$, para los conjuntos $A$ y $B$ anteriores, determinada por $f(1)=a$, $f(3)=b$ y $f(5)=c$.\n",
    "\n",
    "Denotemos como $g$ a la biyección inversa de $f$. Constrúyela también en forma de diccionario de Sage. ¿Se te ocurre cómo hacerlo sin introducir una a una cada clave de $g$ y su valor? Tendrías que crear de manera comprensiva la lista de pares $(\\texttt{clave, valor})$ que quieres para $g$ y aplicarle $\\texttt{dict}()$.\n",
    "Comprueba que la $g$ que has construido es, en efecto, inversa de $f$."
   ]
  },
  {
   "cell_type": "code",
   "execution_count": 15,
   "metadata": {},
   "outputs": [
    {
     "name": "stdout",
     "output_type": "stream",
     "text": [
      "{1: 'a', 3: 'b', 5: 'c'}\n"
     ]
    }
   ],
   "source": [
    "f = dict()\n",
    "f[1]='a'\n",
    "f[3]='b'\n",
    "f[5]='c'\n",
    "print(f)"
   ]
  },
  {
   "cell_type": "code",
   "execution_count": 16,
   "metadata": {},
   "outputs": [
    {
     "data": {
      "text/plain": [
       "{'a': 1, 'b': 3, 'c': 5}"
      ]
     },
     "execution_count": 16,
     "metadata": {},
     "output_type": "execute_result"
    }
   ],
   "source": [
    "g=dict([(f[v],v) for v in f.keys()]) #también funciona poniendo \"for v in f\" en lugar de \"for v in f.keys()\"\n",
    "\n",
    "#IMPORTANTE: si f es un diccionario que representa una función  f:A--->B inyectiva\n",
    "#(biyectiva sobre su imagen f(A)), esta instrucción SIEMPRE\n",
    "#construye el diccionario asociado a la función g:f(B)---->A que es la inversa de f\n",
    "g"
   ]
  },
  {
   "cell_type": "code",
   "execution_count": 17,
   "metadata": {},
   "outputs": [
    {
     "name": "stdout",
     "output_type": "stream",
     "text": [
      "True True\n"
     ]
    },
    {
     "data": {
      "text/plain": [
       "(True, True)"
      ]
     },
     "execution_count": 17,
     "metadata": {},
     "output_type": "execute_result"
    }
   ],
   "source": [
    "#Comprobación de que una es inversa de la otra\n",
    "print(all([g[f[x]]==x for x in f.keys()]), all([f[g[y]]==y for y in g.keys()])) \n",
    "#también funciona poniendo \"for x in f.keys()\" en lugar de \"for x in f\" (lo mismo para g)\n",
    "all([g[f[x]]==x for x in f]), all([f[g[y]]==y for y in g])"
   ]
  },
  {
   "cell_type": "markdown",
   "metadata": {},
   "source": [
    "______\n",
    "\n",
    "## **Biyecciones dadas en forma aditiva: traslaciones** ##\n",
    "\n",
    "Encontrar todas las biyecciones entre dos conjuntos grandes puede ser muy complicado. Por ejemplo, entre dos conjuntos de $7$ elementos, hay un total de $7!=5040$ posibilidades. Sin embargo, hay algunas biyecciones que son particularmente simples porque se describen según una regla fija. \n",
    "\n",
    "Dado un número natural $m$, hay un conjunto de $m$ elementos especialmente útil para analizar esto: el conjunto $\\mathbb{Z}/m \\mathbb{Z} =\\{ 0,1,2,..., m-1 \\}$ de los restos de dividir números enteros entre $m$ (también denotado $\\mathbb{Z}_m$). \n",
    "\n",
    "Como sabes, en $\\mathbb{Z}_m$  las operaciones de suma y multiplicación se definen tomando el resto de dividir entre $m$ el resultado: por ejemplo, el resultado de sumar $6$ y $5$ en $\\mathbb{Z}_7$ es $(6+5)\\%7=4$, el resultado de multiplicar $4$ y $3$ en $\\mathbb{Z}_7$ es $(4\\cdot3)\\%7=5$, y $-3$ es lo mismo que $4$ en $\\mathbb{Z}_7$. Decimos que \"6 más 5 es 4 *módulo 7*\", que \"4 por 3 es 5 *módulo 7*\" o que \"-3 es igual a 4 *módulo 7*\", lo que se escribe de forma abreviada como\n",
    "$$6+5=4\\pmod7, \\quad 4\\cdot 3 = 5 \\pmod7\\quad  \\text{ o } \\quad -3=4\\pmod 7 \\quad \\text{respectivamente.}$$\n",
    "\n",
    "Usando esta notación, una traslación en $\\mathbb{Z}_m$ es una aplicación $f$ de $\\mathbb{Z}_m$ en sí mismo dada como $f(x)=x+k\\pmod m$, donde $k$ está fijo y determina de qué traslación se trata."
   ]
  },
  {
   "cell_type": "markdown",
   "metadata": {},
   "source": [
    "## Ejercicio 2 ##\n",
    "\n",
    "Define una función de Sage, llamada $\\texttt{Tras}(k,m)$, que devuelva el diccionario correspondiente a la traslación $T_k:\\mathbb Z_m\\longrightarrow\\mathbb Z_m$ determinada por $T_k(x)=x+k \\pmod m$. Comprueba, con algún valor concreto de $m$ y $k$, que $T$ es una aplicación biyectiva. ¿Qué puedes decir de la inversa de $T$?"
   ]
  },
  {
   "cell_type": "code",
   "execution_count": 19,
   "metadata": {},
   "outputs": [
    {
     "name": "stdout",
     "output_type": "stream",
     "text": [
      "{0: 8, 1: 0, 2: 1, 3: 2, 4: 3, 5: 4, 6: 5, 7: 6, 8: 7}\n"
     ]
    },
    {
     "data": {
      "text/plain": [
       "(8, 2)"
      ]
     },
     "execution_count": 19,
     "metadata": {},
     "output_type": "execute_result"
    }
   ],
   "source": [
    "def Tras(k,m):\n",
    "    return dict([(x,(x+k)%m) for x in xsrange(m)])\n",
    "print(Tras(8,9))\n",
    "Tras(8,9)[0], Tras(8,9)[3]"
   ]
  },
  {
   "cell_type": "code",
   "execution_count": 20,
   "metadata": {},
   "outputs": [
    {
     "data": {
      "text/plain": [
       "True"
      ]
     },
     "execution_count": 20,
     "metadata": {},
     "output_type": "execute_result"
    }
   ],
   "source": [
    "#¿Es biyectiva? Se puede comprobar de distintas formas.\n",
    "f=Tras(8,9)\n",
    "len(set(f.values()))==len(set(f.keys())) #Tiene tantos valores (distintos) como claves"
   ]
  },
  {
   "cell_type": "code",
   "execution_count": 21,
   "metadata": {},
   "outputs": [
    {
     "data": {
      "text/plain": [
       "({0: 8, 1: 0, 2: 1, 3: 2, 4: 3, 5: 4, 6: 5, 7: 6, 8: 7},\n",
       " {8: 0, 0: 1, 1: 2, 2: 3, 3: 4, 4: 5, 5: 6, 6: 7, 7: 8},\n",
       " True)"
      ]
     },
     "execution_count": 21,
     "metadata": {},
     "output_type": "execute_result"
    }
   ],
   "source": [
    "#Otra razón: ¡tiene inversa!\n",
    "g=dict([(f[x],x) for x in f.keys()])\n",
    "f, g, all([g[f[x]]==x  for x in f.keys()])"
   ]
  },
  {
   "cell_type": "code",
   "execution_count": 22,
   "metadata": {},
   "outputs": [
    {
     "data": {
      "text/plain": [
       "True"
      ]
     },
     "execution_count": 22,
     "metadata": {},
     "output_type": "execute_result"
    }
   ],
   "source": [
    "#La inversa de la traslación por k es la traslación por -k (en mi ejemplo, -8 es igual a 1 módulo 9).\n",
    "g==Tras(1,9)"
   ]
  },
  {
   "cell_type": "markdown",
   "metadata": {},
   "source": [
    "_____\n",
    "\n",
    "## **Biyecciones dadas en forma multiplicativa: homotecias** ##\n",
    "\n",
    "Una idea posible es construir otras biyecciones multiplicando por un factor constante $k$ en vez de sumar una cantidad constante $k$. Para que la aplicación $x \\mapsto k \\cdot x \\pmod m$ defina de verdad una biyección $\\mathbb{Z}_m \\to \\mathbb{Z}_m$ se necesita que todos los elementos de  $\\mathbb{Z}_m$ sean múltiplos de $k$, lo que ocurre por ejemplo si $m=7$, $k=3$, puesto que\n",
    "\n",
    "$$\n",
    "(*)\\qquad \\begin{array}{l} 0\\cdot 3 = 0 \\pmod7;\\ \\  1\\cdot 3 = 3 \\pmod7; \\ \\ 2\\cdot 3 = 6 \\pmod7; \\ \\ 3\\cdot 3 = 2 \\pmod7; \\\\ 4\\cdot 3 = 5 \\pmod7; \\ \\ 5\\cdot 3 = 1 \\pmod7; \\ \\  6\\cdot 3 = 4 \\pmod7\\end{array}\n",
    "$$\n",
    "\n",
    "pero no sucede si $m=6$, $k=3$, dado que\n",
    "\n",
    "$$\n",
    "0\\cdot 3 = 0 \\pmod6;\\ \\  1\\cdot 3 = 3 \\pmod6; \\ \\ 2\\cdot 3 = 0 \\pmod6; \\ \\ 3\\cdot 3 = 3 \\pmod6; \\ \\ 4\\cdot 3 = 0 \\pmod6; \\ \\ 5\\cdot 3 = 3 \\pmod6\n",
    "$$\n",
    "\n",
    "así que, por ejemplo, $1$ no está en la imagen de la homotecia $\\mathbb{Z}_6 \\to \\mathbb{Z}_6$ de factor $k=3$.\n",
    "\n",
    "## Ejercicio 3 ##\n",
    "\n",
    "Construye a partir de una lista el diccionario que representa la biyección de $\\mathbb Z_7$ en sí mismo dada por $x \\mapsto3\\cdot x$. Comprueba que el resultado es correcto mirando a $(*)$. Calcula la inversa, que es también una homotecia. ¿Cuál es su factor? Da una explicación a tu respuesta."
   ]
  },
  {
   "cell_type": "code",
   "execution_count": 23,
   "metadata": {},
   "outputs": [
    {
     "data": {
      "text/plain": [
       "{0: 0, 1: 3, 2: 6, 3: 2, 4: 5, 5: 1, 6: 4}"
      ]
     },
     "execution_count": 23,
     "metadata": {},
     "output_type": "execute_result"
    }
   ],
   "source": [
    "f=dict([(x,(3*x)%7) for x in xsrange(7)])\n",
    "f"
   ]
  },
  {
   "cell_type": "code",
   "execution_count": 24,
   "metadata": {},
   "outputs": [
    {
     "data": {
      "text/plain": [
       "{0: 0, 3: 1, 6: 2, 2: 3, 5: 4, 1: 5, 4: 6}"
      ]
     },
     "execution_count": 24,
     "metadata": {},
     "output_type": "execute_result"
    }
   ],
   "source": [
    "#calculo la inversa\n",
    "g=dict([(f[v],v) for v in f.keys()])\n",
    "g"
   ]
  },
  {
   "cell_type": "code",
   "execution_count": 25,
   "metadata": {},
   "outputs": [
    {
     "data": {
      "text/plain": [
       "True"
      ]
     },
     "execution_count": 25,
     "metadata": {},
     "output_type": "execute_result"
    }
   ],
   "source": [
    "#si es una homotecia, debe ser de factor k=5, puesto que g[1]=5. Compruebo\n",
    "h=dict([(x,(5*x)%7) for x in xsrange(7)])\n",
    "\n",
    "h==g"
   ]
  },
  {
   "cell_type": "code",
   "execution_count": 26,
   "metadata": {},
   "outputs": [
    {
     "data": {
      "text/plain": [
       "True"
      ]
     },
     "execution_count": 26,
     "metadata": {},
     "output_type": "execute_result"
    }
   ],
   "source": [
    "#Otra forma de comprobar que h y g son el mismo diccionario:\n",
    "all([g[x]==h[x] for x in xsrange(7)])"
   ]
  },
  {
   "cell_type": "markdown",
   "metadata": {},
   "source": [
    "## Ejercicio 4 #\n",
    "\n",
    "La idea es ahora repetir lo que hemos hecho en el ejercicio anterior en el caso $m=7$ pero para conjuntos con otros cardinales.\n",
    "\n",
    "Define una función de Sage, llamada $\\texttt{Hom}(k,m)$, que devuelva el diccionario correspondiente a la homotecia $T_k:\\mathbb Z_m\\longrightarrow\\mathbb Z_m$ determinada por $T_k(x)= k \\cdot x \\pmod m$. Utilízala para mostrar todas las biyecciones de la forma $f(x)=k\\cdot x$ que existen en $\\mathbb Z_{42}$, y cuenta cuántas son. (Idea: una vez creado el diccionario que corresponde a $\\texttt{Hom}(k,42)$ para cada $k$ posible, tendrás que comprobar en qué casos el diccionario describe una aplicación biyectiva: ¿observas algún patrón?).\n"
   ]
  },
  {
   "cell_type": "code",
   "execution_count": 27,
   "metadata": {},
   "outputs": [],
   "source": [
    " def Hom(k,m):\n",
    "    return dict([(j,(j*k)%m) for j in xsrange(m)])"
   ]
  },
  {
   "cell_type": "code",
   "execution_count": 28,
   "metadata": {},
   "outputs": [
    {
     "name": "stdout",
     "output_type": "stream",
     "text": [
      "¿Es Hom(3,7) biyectiva? La respuesta es True\n",
      "¿Es Hom(3,6) biyectiva? La respuesta es False\n"
     ]
    }
   ],
   "source": [
    "print('¿Es Hom(3,7) biyectiva? La respuesta es', len(set(Hom(3,7).values()))==7)\n",
    "     \n",
    "print('¿Es Hom(3,6) biyectiva? La respuesta es', len(set(Hom(3,7).values()))==6)"
   ]
  },
  {
   "cell_type": "code",
   "execution_count": 29,
   "metadata": {},
   "outputs": [
    {
     "name": "stdout",
     "output_type": "stream",
     "text": [
      "Para k=1 es una biyección\n",
      "Para k=5 es una biyección\n",
      "Para k=11 es una biyección\n",
      "Para k=13 es una biyección\n",
      "Para k=17 es una biyección\n",
      "Para k=19 es una biyección\n",
      "Para k=23 es una biyección\n",
      "Para k=25 es una biyección\n",
      "Para k=29 es una biyección\n",
      "Para k=31 es una biyección\n",
      "Para k=37 es una biyección\n",
      "Para k=41 es una biyección\n",
      "Hay 12 homotecias que son biyecciones si m=42\n"
     ]
    }
   ],
   "source": [
    "biyecciones=0\n",
    "for k in xsrange(1,42):\n",
    "    imag=set(Hom(k,42).values())\n",
    "    if len(imag)==42:\n",
    "        print(f'Para k={k} es una biyección')\n",
    "        biyecciones+=1\n",
    "print(f'Hay {biyecciones} homotecias que son biyecciones si m=42')"
   ]
  },
  {
   "cell_type": "markdown",
   "metadata": {},
   "source": [
    "## Ejercicio 5 ##\n",
    "\n",
    "\n",
    "Busca información sobre la función $\\texttt{euler}$_$\\texttt{phi}$ de Sage, y piensa qué relación tiene con el cálculo del número de homotecias en $\\mathbb Z_m$ que son biyecciones."
   ]
  },
  {
   "cell_type": "code",
   "execution_count": null,
   "metadata": {},
   "outputs": [],
   "source": [
    "#Descomentar y evaluar para ver la ayuda\n",
    "#euler_phi?"
   ]
  },
  {
   "cell_type": "code",
   "execution_count": 30,
   "metadata": {},
   "outputs": [
    {
     "data": {
      "text/plain": [
       "12"
      ]
     },
     "execution_count": 30,
     "metadata": {},
     "output_type": "execute_result"
    }
   ],
   "source": [
    "euler_phi(42)"
   ]
  },
  {
   "cell_type": "markdown",
   "metadata": {},
   "source": [
    "_______\n",
    "\n",
    "## **Permutaciones** ##\n",
    "\n",
    "El conjunto de todas las permutaciones de un conjunto finito de cardinal $m$ forma el llamado *grupo simétrico* o *grupo de permutaciones* de $m$ elementos.\n",
    "\n",
    "El generador de Sage $\\texttt{Permutations}$ produce todas las permutaciones de una lista dada."
   ]
  },
  {
   "cell_type": "code",
   "execution_count": 31,
   "metadata": {},
   "outputs": [
    {
     "name": "stdout",
     "output_type": "stream",
     "text": [
      "['a', 'b', 'c']\n",
      "['a', 'c', 'b']\n",
      "['b', 'a', 'c']\n",
      "['b', 'c', 'a']\n",
      "['c', 'a', 'b']\n",
      "['c', 'b', 'a']\n"
     ]
    }
   ],
   "source": [
    "#Ejecuta y analiza\n",
    "A='abc'\n",
    "L=Permutations(A)\n",
    "for x in L:\n",
    "    print(x)"
   ]
  },
  {
   "cell_type": "markdown",
   "metadata": {},
   "source": [
    "Podemos, construir así todas las biyecciones del conjunto $A=\\{a,b,c\\}$ anterior en sí mismo:"
   ]
  },
  {
   "cell_type": "code",
   "execution_count": 32,
   "metadata": {},
   "outputs": [
    {
     "name": "stdout",
     "output_type": "stream",
     "text": [
      "abc\n"
     ]
    },
    {
     "data": {
      "text/plain": [
       "[{'a': 'a', 'b': 'b', 'c': 'c'},\n",
       " {'a': 'a', 'b': 'c', 'c': 'b'},\n",
       " {'a': 'b', 'b': 'a', 'c': 'c'},\n",
       " {'a': 'b', 'b': 'c', 'c': 'a'},\n",
       " {'a': 'c', 'b': 'a', 'c': 'b'},\n",
       " {'a': 'c', 'b': 'b', 'c': 'a'}]"
      ]
     },
     "execution_count": 32,
     "metadata": {},
     "output_type": "execute_result"
    }
   ],
   "source": [
    "#Ejecuta y analiza\n",
    "\n",
    "A='abc'\n",
    "print(A)\n",
    "L=Permutations(A)\n",
    "\n",
    "Lista=[]\n",
    "for permutacion in L:\n",
    "    Lista.append(dict([(A[j],permutacion[j]) for j in xsrange(len(A))]))\n",
    "Lista"
   ]
  },
  {
   "cell_type": "markdown",
   "metadata": {},
   "source": [
    ">El comando zip es muy útil para formar un diccionario a partir de la lista de claves y la lista de valores:"
   ]
  },
  {
   "cell_type": "code",
   "execution_count": 34,
   "metadata": {},
   "outputs": [
    {
     "data": {
      "text/plain": [
       "[{'a': 'a', 'b': 'b', 'c': 'c'},\n",
       " {'a': 'a', 'b': 'c', 'c': 'b'},\n",
       " {'a': 'b', 'b': 'a', 'c': 'c'},\n",
       " {'a': 'b', 'b': 'c', 'c': 'a'},\n",
       " {'a': 'c', 'b': 'a', 'c': 'b'},\n",
       " {'a': 'c', 'b': 'b', 'c': 'a'}]"
      ]
     },
     "execution_count": 34,
     "metadata": {},
     "output_type": "execute_result"
    }
   ],
   "source": [
    "#Alternativa con zip\n",
    "A='abc'\n",
    "[dict(zip(A,permutacion)) for permutacion in Permutations(A)]"
   ]
  },
  {
   "cell_type": "code",
   "execution_count": 36,
   "metadata": {},
   "outputs": [
    {
     "data": {
      "text/plain": [
       "({'a': 'c', 'b': 'a', 'c': 'b'},\n",
       " {'c': 'a', 'a': 'b', 'b': 'c'},\n",
       " {'c': 'a', 'a': 'b', 'b': 'c'},\n",
       " True)"
      ]
     },
     "execution_count": 36,
     "metadata": {},
     "output_type": "execute_result"
    }
   ],
   "source": [
    "#Ejemplo de uso de zip para calcular función inversa\n",
    "biyecciones=[dict(zip(A,permutacion)) for permutacion in L]\n",
    "f=biyecciones[4]\n",
    "g=dict([(f[v],v) for v in f.keys()]) #Así hicimos antes para calcular una inversa\n",
    "h=dict(zip(f.values(),f.keys())) #Esto es otra opción\n",
    "f,g,h,g==h"
   ]
  },
  {
   "cell_type": "markdown",
   "metadata": {},
   "source": [
    "## Ejercicio 6 ##\n",
    "\n",
    "Define una función de Sage que tome un conjunto $A$, tome una permutación al azar del grupo de permutaciones de la lista de los elementos de $A$ y devuelva como diccionario la correspondiente biyección de $A$ en sí mismo. SUGERENCIA: Puedes usar el comando $\\texttt{choice}$, que ya conoces, o el método $\\texttt{.random}$_$\\texttt{element}()$."
   ]
  },
  {
   "cell_type": "code",
   "execution_count": 44,
   "metadata": {},
   "outputs": [],
   "source": [
    "def permutacion_aleatoria(A):\n",
    "    # De todas las permutaciones del conjunto nos quedamos con una.\n",
    "    L = Permutations(A)\n",
    "    permutacion = choice(L)\n",
    "   \n",
    "    # Creamos el diccionario de A en si mismo con esa permutación.\n",
    "    diccionario = dict(zip(A, permutacion))\n",
    "    return diccionario"
   ]
  },
  {
   "cell_type": "code",
   "execution_count": 45,
   "metadata": {},
   "outputs": [
    {
     "name": "stdout",
     "output_type": "stream",
     "text": [
      "{'a': 'b', 'b': 'd', 'c': 'a', 'd': 'e', 'e': 'c'}\n"
     ]
    }
   ],
   "source": [
    "# Conjunto:\n",
    "A='abcde'\n",
    "diccionario = permutacion_aleatoria(A)\n",
    "print(diccionario)"
   ]
  }
 ],
 "metadata": {
  "kernelspec": {
   "display_name": "SageMath 9.5",
   "language": "sage",
   "name": "sagemath"
  },
  "language_info": {
   "codemirror_mode": {
    "name": "ipython",
    "version": 3
   },
   "file_extension": ".py",
   "mimetype": "text/x-python",
   "name": "python",
   "nbconvert_exporter": "python",
   "pygments_lexer": "ipython3",
   "version": "3.10.6"
  }
 },
 "nbformat": 4,
 "nbformat_minor": 4
}
