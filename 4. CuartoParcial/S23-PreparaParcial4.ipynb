{
 "cells": [
  {
   "cell_type": "markdown",
   "id": "e4bea6b7-120a-429e-b7a5-fac0d04316e3",
   "metadata": {},
   "source": [
    "## Ejercicios para preparar el control 4\n",
    "\n",
    "Listamos una serie de ejercicios extraídos de los parciales de años anteriores, algunos adaptados a lo impartido este curso en el bloque de criptografía. En cada uno indicamos el parcial en el que se utilizaron.\n",
    "\n",
    "---------------------"
   ]
  },
  {
   "cell_type": "markdown",
   "id": "bac7424e-7be2-47e5-a988-2c4c8c77ee49",
   "metadata": {
    "tags": []
   },
   "source": [
    "# Ejercicio 1 \n",
    "### Problema 1 (6 puntos) del segundo control (18-12-2020), grupo 7114\n",
    "\n",
    "Hemos ideado un sistema criptográfico basado en las tres siguientes reglas:\n",
    "\n",
    "- Cada vocal se encriptará con otra vocal;\n",
    "- cada consonante, con otra consonante;\n",
    "- y cualquier otro carácter se quedará igual. La 'y' por su ambigüedad, se considera en este último caso.\n",
    "\n",
    "En particular, se consideran las siguientes dos cadenas, que se utilizarán a modo de los alfabetos vistos en clase, es decir, para codificar cada letra por un número (método $.{\\tt index}()$):\n",
    "$$\\begin{align*}\\texttt{vocales}&=\\text{'AEIOUÁÉÍÓÚaeiouáéíóú'}\\\\\n",
    "\\texttt{consonantes}&=\\text{'BCDFGHJKLMNÑPQRSTVWXZbcdfghjklmnñpqrstvwxz'}\n",
    "\\end{align*}$$\n",
    "\n",
    "Obsérvese que ni 'Y' ni 'y' se encuentran en estas cadenas."
   ]
  },
  {
   "cell_type": "code",
   "execution_count": 1,
   "id": "7f68f3c0-74af-43fd-88a0-6886e2a65888",
   "metadata": {},
   "outputs": [],
   "source": [
    "#Después de ejecutar esta celda las variables vocales y consonantes\n",
    "# contendrán las cadenas mencionadas arriba\n",
    "vocales='aeiouáéíóú'\n",
    "vocales=vocales.upper()+vocales\n",
    "consonantes='BCDFGHJKLMNÑPQRSTVWXZ'\n",
    "consonantes+=consonantes.lower()"
   ]
  },
  {
   "cell_type": "markdown",
   "id": "3de448c7-4bfd-4c91-8182-97f6e3d00caf",
   "metadata": {},
   "source": [
    "Para encriptar utilizaremos una clave, digamos $k$, para las vocales, y una, digamos $t$, para las consonantes. Podemos pensar que nuestra clave será una tupla $(k,t)$.\n",
    "\n",
    "A la hora de encriptar un texto, se cambiarán sus vocales y consonantes del siguiente modo:\n",
    "\n",
    "- toda vocal *v* se cambiará por la vocal cuyo índice en *vocales* es el resultado de multiplicar por $k$ el índice de *v* en *vocales*;\n",
    "\n",
    "- toda consonante *c* se cambiará por la consonante cuyo índice en *consonantes* es el  resultado de sumar $t$ al índice de *c* en *consonantes*.\n",
    "\n",
    "Por supuesto, cada operación se hace módulo la longitud pertinente.\n",
    "\n",
    "**a) (1 punto).-** Con este método y las cadenas $\\tt vocales$ y $\\tt consonantes$ dadas, ¿cuántos encriptados biyectivos podemos obtener?\n",
    "\n",
    "Mostrar una clave $(k,t)$, con $k\\neq1$ y $t\\neq0$, y su clave *inversa*. Razona tu respuesta."
   ]
  },
  {
   "cell_type": "code",
   "execution_count": 2,
   "id": "99f59728-19cd-4e0f-8854-3ea52dda533a",
   "metadata": {},
   "outputs": [
    {
     "name": "stdout",
     "output_type": "stream",
     "text": [
      "Hay un total de 336=8x42 biyecciones diferentes con este sistema.\n"
     ]
    }
   ],
   "source": [
    "v,c=len(vocales),len(consonantes)\n",
    "claves=[(k,t) for k in range(v) for t in range(c) if gcd(k,v)==1]\n",
    "print('Hay un total de %d=%dx%d biyecciones diferentes con este sistema.'%(len(claves),euler_phi(v),c))"
   ]
  },
  {
   "cell_type": "code",
   "execution_count": 3,
   "id": "92eb7ddb-2601-4b16-868c-d01624d760f5",
   "metadata": {},
   "outputs": [
    {
     "name": "stdout",
     "output_type": "stream",
     "text": [
      "[(3, 1), (3, 2), (3, 3), (3, 4), (3, 5), (3, 6), (3, 7), (3, 8), (3, 9), (3, 10), (3, 11), (3, 12), (3, 13), (3, 14), (3, 15), (3, 16), (3, 17), (3, 18), (3, 19), (3, 20), (3, 21), (3, 22), (3, 23), (3, 24), (3, 25), (3, 26), (3, 27), (3, 28), (3, 29), (3, 30), (3, 31), (3, 32), (3, 33), (3, 34), (3, 35), (3, 36), (3, 37), (3, 38), (3, 39), (3, 40), (3, 41), (7, 1), (7, 2), (7, 3), (7, 4), (7, 5), (7, 6), (7, 7), (7, 8), (7, 9), (7, 10), (7, 11), (7, 12), (7, 13), (7, 14), (7, 15), (7, 16), (7, 17), (7, 18), (7, 19), (7, 20), (7, 21), (7, 22), (7, 23), (7, 24), (7, 25), (7, 26), (7, 27), (7, 28), (7, 29), (7, 30), (7, 31), (7, 32), (7, 33), (7, 34), (7, 35), (7, 36), (7, 37), (7, 38), (7, 39), (7, 40), (7, 41), (9, 1), (9, 2), (9, 3), (9, 4), (9, 5), (9, 6), (9, 7), (9, 8), (9, 9), (9, 10), (9, 11), (9, 12), (9, 13), (9, 14), (9, 15), (9, 16), (9, 17), (9, 18), (9, 19), (9, 20), (9, 21), (9, 22), (9, 23), (9, 24), (9, 25), (9, 26), (9, 27), (9, 28), (9, 29), (9, 30), (9, 31), (9, 32), (9, 33), (9, 34), (9, 35), (9, 36), (9, 37), (9, 38), (9, 39), (9, 40), (9, 41), (11, 1), (11, 2), (11, 3), (11, 4), (11, 5), (11, 6), (11, 7), (11, 8), (11, 9), (11, 10), (11, 11), (11, 12), (11, 13), (11, 14), (11, 15), (11, 16), (11, 17), (11, 18), (11, 19), (11, 20), (11, 21), (11, 22), (11, 23), (11, 24), (11, 25), (11, 26), (11, 27), (11, 28), (11, 29), (11, 30), (11, 31), (11, 32), (11, 33), (11, 34), (11, 35), (11, 36), (11, 37), (11, 38), (11, 39), (11, 40), (11, 41), (13, 1), (13, 2), (13, 3), (13, 4), (13, 5), (13, 6), (13, 7), (13, 8), (13, 9), (13, 10), (13, 11), (13, 12), (13, 13), (13, 14), (13, 15), (13, 16), (13, 17), (13, 18), (13, 19), (13, 20), (13, 21), (13, 22), (13, 23), (13, 24), (13, 25), (13, 26), (13, 27), (13, 28), (13, 29), (13, 30), (13, 31), (13, 32), (13, 33), (13, 34), (13, 35), (13, 36), (13, 37), (13, 38), (13, 39), (13, 40), (13, 41), (17, 1), (17, 2), (17, 3), (17, 4), (17, 5), (17, 6), (17, 7), (17, 8), (17, 9), (17, 10), (17, 11), (17, 12), (17, 13), (17, 14), (17, 15), (17, 16), (17, 17), (17, 18), (17, 19), (17, 20), (17, 21), (17, 22), (17, 23), (17, 24), (17, 25), (17, 26), (17, 27), (17, 28), (17, 29), (17, 30), (17, 31), (17, 32), (17, 33), (17, 34), (17, 35), (17, 36), (17, 37), (17, 38), (17, 39), (17, 40), (17, 41), (19, 1), (19, 2), (19, 3), (19, 4), (19, 5), (19, 6), (19, 7), (19, 8), (19, 9), (19, 10), (19, 11), (19, 12), (19, 13), (19, 14), (19, 15), (19, 16), (19, 17), (19, 18), (19, 19), (19, 20), (19, 21), (19, 22), (19, 23), (19, 24), (19, 25), (19, 26), (19, 27), (19, 28), (19, 29), (19, 30), (19, 31), (19, 32), (19, 33), (19, 34), (19, 35), (19, 36), (19, 37), (19, 38), (19, 39), (19, 40), (19, 41)]\n"
     ]
    }
   ],
   "source": [
    "claves_no_triviales=[clave for clave in claves if clave[0]!=1 and clave[1]!=0]\n",
    "print(claves_no_triviales)"
   ]
  },
  {
   "cell_type": "code",
   "execution_count": 4,
   "id": "3661cfa9-5d6b-4096-8a25-2a6c07bd6c9e",
   "metadata": {},
   "outputs": [
    {
     "data": {
      "text/plain": [
       "(19, 37)"
      ]
     },
     "execution_count": 4,
     "metadata": {},
     "output_type": "execute_result"
    }
   ],
   "source": [
    "choice(claves_no_triviales)"
   ]
  },
  {
   "cell_type": "markdown",
   "id": "f76de51f-37a3-4749-a08b-a7747fe34ae9",
   "metadata": {},
   "source": [
    "**b) (2.5 puntos).-** Construir una función de Sage, $\\texttt{cifradoVC}(\\texttt{texto,clave})$, que espere un $\\tt texto$ y una $\\tt clave$ (una tupla $(k,t)$) y devuelva el texto resultado de encriptar conforme a lo anteriormente descrito. En el código, las cadenas $\\tt vocales$  y $\\tt consonantes$ se asignarán internamente."
   ]
  },
  {
   "cell_type": "code",
   "execution_count": 1,
   "id": "79cec26c-f3b2-489b-a79d-a6ab1a4e4671",
   "metadata": {},
   "outputs": [],
   "source": [
    "def cifradoVC(texto,clave):\n",
    "    k,t=clave\n",
    "    vocales='aeiouáéíóú'\n",
    "    vocales=vocales.upper()+vocales\n",
    "    consonantes='BCDFGHJKLMNÑPQRSTVWXZ'\n",
    "    consonantes+=consonantes.lower()\n",
    "    v=len(vocales)\n",
    "    c=len(consonantes)\n",
    "    ##El diccionario\n",
    "    Fvocales=''\n",
    "    for j in xsrange(v):\n",
    "        Fvocales+=vocales[(k*j)%v]\n",
    "    Fconsonantes=''\n",
    "    for j in xsrange(c):\n",
    "        Fconsonantes+=consonantes[(t+j)%c]\n",
    "    F=dict(zip(vocales+consonantes,Fvocales+Fconsonantes))\n",
    "    ##El encriptado\n",
    "    encriptado=''\n",
    "    for letra in texto:\n",
    "        if letra in F:\n",
    "            letra=F[letra]\n",
    "        encriptado+=letra\n",
    "    return encriptado"
   ]
  },
  {
   "cell_type": "code",
   "execution_count": 2,
   "id": "3070e40f-5c5b-4eae-9de1-3b713ddcc233",
   "metadata": {},
   "outputs": [],
   "source": [
    "#Otra manera (sin construir el diccionario interno)\n",
    "def cifradoVC2(texto,clave):\n",
    "    k,t=clave\n",
    "    vocales='aeiouáéíóú'\n",
    "    vocales=vocales.upper()+vocales\n",
    "    consonantes='BCDFGHJKLMNÑPQRSTVWXZ'\n",
    "    consonantes+=consonantes.lower()\n",
    "    ###  \n",
    "    L,v,c=len(texto),len(vocales),len(consonantes)\n",
    "    ###\n",
    "    if gcd(k,v)!=1:\n",
    "        print('La clave no es válida.')\n",
    "        return None\n",
    "    ###\n",
    "    tt=u''\n",
    "    for letra in texto:\n",
    "        if letra in vocales:\n",
    "            z=vocales[vocales.index(letra)*k%v]\n",
    "        elif letra in consonantes:\n",
    "            z=consonantes[(consonantes.index(letra)+t)%c]\n",
    "        else:\n",
    "            z=letra\n",
    "        tt+=z                        \n",
    "    return tt"
   ]
  },
  {
   "cell_type": "code",
   "execution_count": 7,
   "id": "16cdfa56-e0d1-4f83-bf11-237965b92610",
   "metadata": {},
   "outputs": [
    {
     "name": "stdout",
     "output_type": "stream",
     "text": [
      "kíMMe íMMatóHwe\n"
     ]
    }
   ],
   "source": [
    "cifrado=cifradoVC('Perro errabundo',(7,16))\n",
    "print(cifrado)"
   ]
  },
  {
   "cell_type": "code",
   "execution_count": 8,
   "id": "bf580038-68ae-4981-9c84-f6842eb85ef3",
   "metadata": {},
   "outputs": [
    {
     "name": "stdout",
     "output_type": "stream",
     "text": [
      "True\n"
     ]
    }
   ],
   "source": [
    "cifrado2=cifradoVC2('Perro errabundo',(7,16))\n",
    "print(cifrado2==cifrado)"
   ]
  },
  {
   "cell_type": "markdown",
   "id": "1e84b0f2-121f-4a86-9dd9-085c9c27ccbe",
   "metadata": {},
   "source": [
    "Al ejecutar la siguiente celda se asigna a la variable $\\tt encriptado$ una cadena resultado de encriptar con este método cierto texto."
   ]
  },
  {
   "cell_type": "code",
   "execution_count": 9,
   "id": "b79b568e-1a8c-40e6-8044-baba8802dfb9",
   "metadata": {
    "collapsed": false,
    "jupyter": {
     "outputs_hidden": false
    }
   },
   "outputs": [
    {
     "name": "stdout",
     "output_type": "stream",
     "text": [
      "1018\n",
      "As ústú Féoqú, povmémú xúB os Bayú\n",
      "y ov CI téDam xúmBémú,\n",
      "\n"
     ]
    }
   ],
   "source": [
    "load(\"encriptadoEj1-Dic2020.py\")\n",
    "print(len(encriptado))\n",
    "print(encriptado[:58])"
   ]
  },
  {
   "cell_type": "markdown",
   "id": "d151c7d2-6b2e-447d-9411-9e73cf629a97",
   "metadata": {},
   "source": [
    "**c) (2.5 puntos).-** Sabiendo que la clave con la se encriptó es de la forma $(3,t)$, averiguarla y recuperar el texto original utilizando, con la clave adecuada, la función $\\texttt{cifradoVC}()$ anterior.\n",
    "\n",
    "*Nota:*  El número de posibles valores de $t$ no es muy alto."
   ]
  },
  {
   "cell_type": "code",
   "execution_count": 10,
   "id": "a99e01e1-b0c2-401b-a672-759cab306c5a",
   "metadata": {},
   "outputs": [
    {
     "name": "stdout",
     "output_type": "stream",
     "text": [
      "As osto Fieqo,  se obtiene con contraclave (7, 0) (se encriptaría con (3, 0))\n",
      "At otvo Giero,  se obtiene con contraclave (7, 1) (se encriptaría con (3, 41))\n",
      "Av ovwo Hieso,  se obtiene con contraclave (7, 2) (se encriptaría con (3, 40))\n",
      "Aw owxo Jieto,  se obtiene con contraclave (7, 3) (se encriptaría con (3, 39))\n",
      "Ax oxzo Kievo,  se obtiene con contraclave (7, 4) (se encriptaría con (3, 38))\n",
      "Az ozBo Liewo,  se obtiene con contraclave (7, 5) (se encriptaría con (3, 37))\n",
      "AB oBCo Miexo,  se obtiene con contraclave (7, 6) (se encriptaría con (3, 36))\n",
      "AC oCDo Niezo,  se obtiene con contraclave (7, 7) (se encriptaría con (3, 35))\n",
      "AD oDFo ÑieBo,  se obtiene con contraclave (7, 8) (se encriptaría con (3, 34))\n",
      "AF oFGo PieCo,  se obtiene con contraclave (7, 9) (se encriptaría con (3, 33))\n",
      "AG oGHo QieDo,  se obtiene con contraclave (7, 10) (se encriptaría con (3, 32))\n",
      "AH oHJo RieFo,  se obtiene con contraclave (7, 11) (se encriptaría con (3, 31))\n",
      "AJ oJKo SieGo,  se obtiene con contraclave (7, 12) (se encriptaría con (3, 30))\n",
      "AK oKLo TieHo,  se obtiene con contraclave (7, 13) (se encriptaría con (3, 29))\n",
      "AL oLMo VieJo,  se obtiene con contraclave (7, 14) (se encriptaría con (3, 28))\n",
      "AM oMNo WieKo,  se obtiene con contraclave (7, 15) (se encriptaría con (3, 27))\n",
      "AN oNÑo XieLo,  se obtiene con contraclave (7, 16) (se encriptaría con (3, 26))\n",
      "AÑ oÑPo ZieMo,  se obtiene con contraclave (7, 17) (se encriptaría con (3, 25))\n",
      "AP oPQo bieNo,  se obtiene con contraclave (7, 18) (se encriptaría con (3, 24))\n",
      "AQ oQRo cieÑo,  se obtiene con contraclave (7, 19) (se encriptaría con (3, 23))\n",
      "AR oRSo diePo,  se obtiene con contraclave (7, 20) (se encriptaría con (3, 22))\n",
      "AS oSTo fieQo,  se obtiene con contraclave (7, 21) (se encriptaría con (3, 21))\n",
      "AT oTVo gieRo,  se obtiene con contraclave (7, 22) (se encriptaría con (3, 20))\n",
      "AV oVWo hieSo,  se obtiene con contraclave (7, 23) (se encriptaría con (3, 19))\n",
      "AW oWXo jieTo,  se obtiene con contraclave (7, 24) (se encriptaría con (3, 18))\n",
      "AX oXZo kieVo,  se obtiene con contraclave (7, 25) (se encriptaría con (3, 17))\n",
      "AZ oZbo lieWo,  se obtiene con contraclave (7, 26) (se encriptaría con (3, 16))\n",
      "Ab obco mieXo,  se obtiene con contraclave (7, 27) (se encriptaría con (3, 15))\n",
      "Ac ocdo nieZo,  se obtiene con contraclave (7, 28) (se encriptaría con (3, 14))\n",
      "Ad odfo ñiebo,  se obtiene con contraclave (7, 29) (se encriptaría con (3, 13))\n",
      "Af ofgo pieco,  se obtiene con contraclave (7, 30) (se encriptaría con (3, 12))\n",
      "Ag ogho qiedo,  se obtiene con contraclave (7, 31) (se encriptaría con (3, 11))\n",
      "Ah ohjo riefo,  se obtiene con contraclave (7, 32) (se encriptaría con (3, 10))\n",
      "Aj ojko siego,  se obtiene con contraclave (7, 33) (se encriptaría con (3, 9))\n",
      "Ak oklo tieho,  se obtiene con contraclave (7, 34) (se encriptaría con (3, 8))\n",
      "Al olmo viejo,  se obtiene con contraclave (7, 35) (se encriptaría con (3, 7))\n",
      "Am omno wieko,  se obtiene con contraclave (7, 36) (se encriptaría con (3, 6))\n",
      "An onño xielo,  se obtiene con contraclave (7, 37) (se encriptaría con (3, 5))\n",
      "Añ oñpo ziemo,  se obtiene con contraclave (7, 38) (se encriptaría con (3, 4))\n",
      "Ap opqo Bieno,  se obtiene con contraclave (7, 39) (se encriptaría con (3, 3))\n",
      "Aq oqro Cieño,  se obtiene con contraclave (7, 40) (se encriptaría con (3, 2))\n",
      "Ar orso Diepo,  se obtiene con contraclave (7, 41) (se encriptaría con (3, 1))\n"
     ]
    }
   ],
   "source": [
    "k=3\n",
    "j=inverse_mod(k,v)\n",
    "for s in range(c):\n",
    "    print(f'{cifradoVC(encriptado[:15],(j,s))} se obtiene con contraclave {(j,s)} (se encriptaría con {(k,(-s)%c)})')"
   ]
  },
  {
   "cell_type": "code",
   "execution_count": null,
   "id": "c394836a-de2f-43ad-bbf3-f1922445f855",
   "metadata": {},
   "outputs": [],
   "source": []
  },
  {
   "cell_type": "markdown",
   "id": "c9cd0a93-6fa4-4920-8e2b-3e4fcefda5e3",
   "metadata": {},
   "source": [
    "----------------------------------"
   ]
  },
  {
   "cell_type": "markdown",
   "id": "5785b1b1-1e07-409f-86db-a7c937b9a043",
   "metadata": {
    "tags": []
   },
   "source": [
    "## Ejercicio 2\n",
    "### Ejercicio 1 (6 puntos), cuarto control (9-5-2022)\n",
    "\n",
    "Se tienen: un $\\tt alfabeto$ con $\\tt L$ caracteres distintos; un número $\\tt k$ positivo, menor que $\\tt L$ y coprimo con $\\tt L$, y cierto $\\tt texto$. Se pretende obtener un único texto $\\tt encriptado$ a partir de estos datos.  Para ello:\n",
    "\n",
    "- Solo se encriptan los caracteres del $\\tt texto$ que están en el $\\tt alfabeto$. \n",
    "\n",
    "- Los caracteres que están en el $\\tt alfabeto$ y ocupan en el $\\tt texto$ posiciones congruentes con 0 módulo 3 se encriptan de acuerdo con la regla: \"Cambia el carácter de índice $j$ en $\\tt alfabeto$ por el carácter de índice $(j+k)\\pmod{\\texttt{L}}$\".\n",
    "\n",
    "- Los caracteres que están en el $\\tt alfabeto$ y ocupan en el $\\tt texto$ posiciones congruentes con 1 módulo 3 se encriptan de acuerdo con la regla: \"Cambia el carácter de índice $j$ en $\\tt alfabeto$ por el carácter de índice $(k*j)\\pmod{\\texttt{L}}$\".\n",
    "\n",
    "- Los caracteres que están en el $\\tt alfabeto$ y ocupan en el $\\tt texto$ posiciones congruentes con 2 módulo 3 se encriptan de acuerdo con la regla: \"Cambia el carácter de índice $j$ en $\\tt alfabeto$ por el carácter de índice $(k*j+k)\\pmod{\\texttt{L}}$\".\n",
    "\n",
    "Se pide:\n",
    "\n",
    "**a)** (3 puntos) Definir una función $\\texttt{Encripta}(\\texttt{texto,clave,alfabeto})$ que dado un $\\tt texto$, una $\\tt clave$, $\\tt k$, y un $\\tt alfabeto$, devuelva el texto encriptado al aplicar el método recién descrito."
   ]
  },
  {
   "cell_type": "code",
   "execution_count": null,
   "id": "b31221eb-756a-44a8-8186-03101b870918",
   "metadata": {},
   "outputs": [],
   "source": []
  },
  {
   "cell_type": "code",
   "execution_count": 11,
   "id": "b97fbdc5-2642-47d4-9858-eb6400eea259",
   "metadata": {},
   "outputs": [
    {
     "data": {
      "text/plain": [
       "\" ABCDEFGHIJKLMNÑOPQRSTUVWXYZabcdefghijklmnñopqrstuvwxyz¡!$%&'()*+,-./0123456789:;<=>¿?\\n\""
      ]
     },
     "execution_count": 11,
     "metadata": {},
     "output_type": "execute_result"
    }
   ],
   "source": [
    "# Para probar nuestro programa usaremos el alfabeto \"AlfaBeto\" que se obtiene al ejecutar la siguiente celda\n",
    "\n",
    "AlfaBeto=''.join([chr(c) for c in [65..90]])\n",
    "simbolos=u'¡'+''.join([chr(c) for c in [33]+[36..62]])+u'¿?'\n",
    "AlfaBeto=' '+AlfaBeto+AlfaBeto.lower()+simbolos\n",
    "OO,oo=AlfaBeto.index('O'),AlfaBeto.index('o')\n",
    "AlfaBeto=AlfaBeto[:OO]+u'Ñ'+AlfaBeto[OO:oo]+u'ñ'+AlfaBeto[oo:]+u'\\n'\n",
    "AlfaBeto"
   ]
  },
  {
   "cell_type": "code",
   "execution_count": 12,
   "id": "7e2b2367-5132-47a0-b4ff-8b69c0180c13",
   "metadata": {},
   "outputs": [],
   "source": [
    "def Encripta(texto,clave,alfabeto):\n",
    "    L=len(alfabeto)\n",
    "    if gcd(clave, len(alfabeto))!=1: \n",
    "        print('La clave no es válida.')\n",
    "        return None\n",
    "    textocifrado=''\n",
    "    for j in xsrange(len(texto)):\n",
    "        letra=texto[j]\n",
    "        if letra in alfabeto: # Solo cambia si está en alfabeto\n",
    "            if j%3==0: \n",
    "                letra=alfabeto[(alfabeto.index(letra)+clave)%L]\n",
    "            elif j%3==1: \n",
    "                letra=alfabeto[(alfabeto.index(letra)*clave)%L]\n",
    "            else: \n",
    "                letra=alfabeto[(alfabeto.index(letra)*clave+clave)%L]\n",
    "        textocifrado+=letra\n",
    "    return textocifrado "
   ]
  },
  {
   "cell_type": "code",
   "execution_count": null,
   "id": "2ee8bba5-d212-4480-961e-69a9630170a3",
   "metadata": {},
   "outputs": [],
   "source": []
  },
  {
   "cell_type": "code",
   "execution_count": 13,
   "id": "054356b9-fdc2-43c4-945c-5797d339bb0a",
   "metadata": {},
   "outputs": [
    {
     "data": {
      "text/plain": [
       "True"
      ]
     },
     "execution_count": 13,
     "metadata": {},
     "output_type": "execute_result"
    }
   ],
   "source": [
    "# Si has programado bien \"Encripta\", al ejecutar esta celda deberías obtener True\n",
    "\n",
    "clave=7\n",
    "original='Estudiantes campeón'\n",
    "encriptado=Encripta(original,clave,AlfaBeto)\n",
    "encriptado=='L/=!o?hY=l/GjUYwvót'"
   ]
  },
  {
   "cell_type": "code",
   "execution_count": null,
   "id": "ed9b05f3-6955-424c-9131-0a65ee6771cb",
   "metadata": {},
   "outputs": [],
   "source": []
  },
  {
   "cell_type": "markdown",
   "id": "3cf2786d-1af0-40c3-a5a0-b0c2e4eeefef",
   "metadata": {},
   "source": [
    "**b)**  (2 puntos) Define una función $\\texttt{Desencripta}(\\texttt{encriptado,clave,alfabeto})$ para desencriptar un texto $\\tt encriptado$ que fue encriptado con el programa $\\texttt{Encripta}$ descrito en el apartado **a)** con clave $\\tt clave$ y alfabeto $\\tt alfabeto$."
   ]
  },
  {
   "cell_type": "code",
   "execution_count": 14,
   "id": "a976b8ce-bfe4-4034-8ebc-99b22763866c",
   "metadata": {},
   "outputs": [],
   "source": [
    "def Desencripta(encriptado,k,alfabeto):\n",
    "    L=len(alfabeto)\n",
    "    if gcd(k, L)!=1: \n",
    "        print('La clave no es válida.')\n",
    "        return None\n",
    "    original=''\n",
    "    for j in xsrange(len(encriptado)):\n",
    "        letra=encriptado[j]\n",
    "        if letra in alfabeto: # Solo cambia si está en alfabeto\n",
    "            if j%3==0: \n",
    "                letra=alfabeto[(alfabeto.index(letra)-k)%L]\n",
    "            elif j%3==1: \n",
    "                letra=alfabeto[(alfabeto.index(letra)*k^(-1))%L]\n",
    "            else: \n",
    "                letra=alfabeto[(alfabeto.index(letra)*k^(-1)-1)%L]\n",
    "        original+=letra\n",
    "    return original  "
   ]
  },
  {
   "cell_type": "code",
   "execution_count": 15,
   "id": "4338f2cf-9bad-4a33-a116-4bb6ff3d0219",
   "metadata": {},
   "outputs": [
    {
     "data": {
      "text/plain": [
       "True"
      ]
     },
     "execution_count": 15,
     "metadata": {},
     "output_type": "execute_result"
    }
   ],
   "source": [
    "# Si has programado bien \"Desencripta\", al ejecutar esta celda deberías obtener True\n",
    "\n",
    "clave=7\n",
    "encriptado='L/=!o?hY=l/GjUYwvót'\n",
    "original=Desencripta(encriptado,clave,AlfaBeto)\n",
    "original=='Estudiantes campeón'"
   ]
  },
  {
   "cell_type": "code",
   "execution_count": null,
   "id": "c38478f0-82cd-4dbd-9c04-7942c6e68de9",
   "metadata": {},
   "outputs": [],
   "source": []
  },
  {
   "cell_type": "markdown",
   "id": "709981ea-d0c2-4b7f-b2df-9f8bf7dc20a8",
   "metadata": {},
   "source": [
    "**c)** (1 punto) Tras ejecutar la celda siguiente la variable $\\tt encriptado1$ contendrá un texto cifrado por este método con el alfabeto $\\tt AlfaBeto$. Averigua el texto original."
   ]
  },
  {
   "cell_type": "code",
   "execution_count": 16,
   "id": "1ee2fabd-595a-411a-affb-8a012ae7eb3f",
   "metadata": {},
   "outputs": [
    {
     "data": {
      "text/plain": [
       "1250"
      ]
     },
     "execution_count": 16,
     "metadata": {},
     "output_type": "execute_result"
    }
   ],
   "source": [
    "load('Ej1_Enc.py')\n",
    "len(encriptado1)"
   ]
  },
  {
   "cell_type": "code",
   "execution_count": 17,
   "id": "bcd68b40-c646-4e95-8130-987b1be63b28",
   "metadata": {},
   "outputs": [
    {
     "name": "stdout",
     "output_type": "stream",
     "text": [
      "Zj=v4l, V, )* uv 3% O$erv 8%4=v4l, uv 3% 1\n",
      "Y)¿u;R+ K+ 5) Wu :$ w!O-u k$;¿u;R+ Wu :$ 2\n",
      "Wd?smI) E) ;' ¡s l¡ XzH7s )¡m?smI) ¡s l¡ 4\n",
      "V8freG( !( b& Ir dz 3y79r ezefreG( Ir dz 5\n",
      "T¡4p?ñ& 8& H$ dp ¿x 7wPop hx?4p?ñ& dp ¿x 7\n",
      "S&ñoSD% B% >! Zo Rw LvD<o 5wSñoSD% Zo Rw 8\n",
      "Q=OnOC! 2! Nz Dn Ñu :tk=n &uOOnOC! Dn Ñu 10\n",
      "Phzm)%¡ P¡ /y wm (t ts=Zm Nt)zm)%¡ wm (t 11\n",
      "Ño:kR0y ny pw ok Qr Gq!Ok ErR:kR0y ok Qr 13\n",
      "N2ij\n",
      "+x kx sv Ñj ?q <pxTj Pq\n",
      "ij\n",
      "+x Ñj ?q 14\n",
      "L4+hJqv pv nt Mh Io uñBmh ;oJ+hJqv Mh Io 16\n",
      "KkIgh4u Yu &s tg gñ  nGLg ,ñhIgh4u tg gñ 17\n",
      "IgmeMWs Ns 2q xe Lm +lS(e YmMmeMWs xe Lm 19\n",
      "HnwdHAr hr vp qd Gl lkR¿d blHwdHAr qd Gl 20\n",
      "F(1bd3p Hp 8ñ Xb cj .inMb vjd1bd3p Xb cj 22\n",
      "Estando yo en la mi choza pintando la mi 23\n",
      "C?%Y7Qn ;n El AY 6g dfv.Y Vg7%Y7Qn AY 6g 25\n",
      "B,lXygm Sm ,k TX xf CeawX BfylXygm TX xf 26\n",
      " :(Vo6k )k Vi GV ñd mcYJV Hdo(Vo6k GV ñd 28\n",
      "¿D¡SUth Kh 5f =S Ta UZ5jS kaU¡SUth =S Ta 31\n",
      ">;6REUg ,g Se FR DZ WYA*R >ZE6REUg FR DZ 32\n",
      "<RDP(ie !e bc .P 'X oWsuP eX(DP(ie .P 'X 34\n",
      ";K-OPXd ed yb 6O OW ¿V4'O nWP-OPXd 6O OW 35\n",
      "9AMNufb Bb >Z ?N tU 1T)xN 5UuMNufb ?N tU 37\n",
      "8P*Mv¡a va hY 0M uT 6SJcM !Tv*Mv¡a 0M uT 38\n",
      "6+XKD Y PY /W UK CR RQy?K NRDXKD Y UK CR 40\n",
      "5SQJV1X &X YV -J UQ ZPUÑJ SQVQJV1X -J UQ 41\n",
      "3MGHaFV kV sT 4H ZO xÑV:H POaGHaFV 4H ZO 43\n",
      "259G&:U sU kS LG %Ñ fN+FG /Ñ&9G&:U LG %Ñ 44\n",
      "0..E+ÑS YS &Q RE *M %L,1E ,M+.E+ÑS RE *M 46\n",
      "/V'D>?R /R PP *D =L -Kg D 2L>'D>?R *D =L 47\n",
      "-1UBjcP hP vÑ OB iJ JI8¡B bJjUBjcP OB iJ 49\n",
      ",\n",
      "3AkxO >O BN  A jI ÑHXfA KIk3AkxO  A jI 50\n",
      "*7R\n",
      "1'N yN eL J\n",
      " 0G AFNX\n",
      " pG1R\n",
      "1'N J\n",
      " 0G 52\n",
      ")/<?YuM bM !K Q? XF ñEmi? yFY<?YuM Q? XF 53\n",
      "'GJ>=*K SK ,I :> <D (C\n",
      "U> BD=J>=*K :> <D 55\n",
      "&>c=,jJ 5J KH C= +C *BMt= sC,c=,jJ C= +C 56\n",
      "!HW:pJG VG )E 9: o  q\n",
      "(6: 8 pW:pJG 9: o  59\n",
      "zUr8gwE ,E SC +8 f? =¿&g8 >?gr8gwE +8 f? 61\n",
      "yBZ7K.D ED ;B ¿7 J¿ z>jQ7 )¿KZ7K.D ¿7 J¿ 62\n",
      "wmj5rzB eB y  r5 q= ¡<pd5 n=rj5rzB r5 q= 64\n",
      "vYÑ4!MA 8A H\n",
      " '4 ¡< Q;r34 h<!Ñ4!MA '4 ¡< 65\n",
      "trg2:¿\n",
      " v\n",
      " h¿ m2 9: r9/A2 !::g2:¿\n",
      " m2 9: 67\n",
      "syq15(? 2? N> f1 49 T8.W1 &95q15(? f1 49 68\n",
      "qu7/xL> &> Y< j/ w7 ?6;4/ S7x7/xL> j/ w7 70\n",
      "pNT.8m= n= p; 3. 76 i5?q. E68T.8m= 3. 76 71\n",
      "ñOu,AT; s; k9 1,  4 D3h+, /4Au,AT; 1,  4 73\n",
      "npF+/O: p: n8 ñ+ .3 92d0+ ;3/F+/O: ñ+ .3 74\n",
      "lxd)XZ8 /8 P6 g) W1 j0E%) 21Xd)XZ8 g) W1 76\n",
      "kE0(2=7 N7 25 <( 10 F/uC( Y020(2=7 <( 10 77\n",
      "iao&.<5 >5 B3 %& -. 4->D& K..o&.<5 %& -. 79\n",
      "heL%Bo4 H4 82 z% A- I,1ñ% v-BL%Bo4 z% A- 80\n",
      "fJx!¡92 b2 !0 7! z+ M*KG! y+¡x!¡92 7! z+ 82\n",
      "e! ¡s71 ;1 E/ c¡ r* '):I¡ V*s ¡s71 c¡ r* 83\n",
      "cXAyG-/ 5/ K- (y F( g'2Ry s(GAyG-/ (y F( 85\n",
      "bvCxNr. ). V, ix M' 0&¡lx H'NCxNr. ix M' 86\n"
     ]
    }
   ],
   "source": [
    "for j in [1..len(AlfaBeto)-1]:\n",
    "    if gcd(j,len(AlfaBeto))==1: \n",
    "        print(Desencripta(encriptado1[:40],j,AlfaBeto),j)"
   ]
  },
  {
   "cell_type": "code",
   "execution_count": 18,
   "id": "c1e83858-f894-4d49-b9c5-a93b8982cfc7",
   "metadata": {},
   "outputs": [
    {
     "name": "stdout",
     "output_type": "stream",
     "text": [
      "Estando yo en la mi choza pintando la mi cayada,\n",
      "las cabrillas altas iban y la luna rebajada;\n",
      "mal barruntan las ovejas, no paran en la majada.\n",
      "Vide venir siete lobos por una oscura cañada.\n",
      "Venían echando suertes cuál entrará a la majada;\n",
      "le tocó a una loba vieja, patituerta, cana y parda,\n",
      "que tenía los colmillos como punta de navaja.\n",
      "Dio tres vueltas al redil y no pudo sacar nada;\n",
      "a la otra vuelta que dio, sacó la borrega blanca\n",
      "hija de la oveja churra, nieta de la orejisana,\n",
      "la que tenían mis amos para el domingo de Pascua.\n",
      "—¡Aquí, mis siete cachorros, aquí, perra trujillana,\n",
      "aquí, perro el de los hierros, a correr la loba parda!\n",
      "Si me cobráis la borrega, cenaréis leche y hogaza;\n",
      "y si no me la cobráis, cenaréis de mi cayada.\n",
      "Los perros tras de la loba las uñas se esmigajaban;\n",
      "siete leguas la corrieron por unas sierras muy agrias.\n",
      "Al subir un cotarrito la loba ya va cansada:\n",
      "—Tomad, perros, la borrega, sana y buena como estaba.\n",
      "—No queremos la borrega, de tu boca alobadada\n",
      "que queremos tu pelleja pa' el pastor una zamarra;\n",
      "el rabo para correas, para atacarse las bragas;\n",
      "de la cabeza un zurrón, para meter las cucharas;\n",
      "las tripas para vihuelas, para que bailen las damas.\n",
      "    Romance de la loba parda (anónimo)\n",
      "    Fuente: Wikisource\n"
     ]
    }
   ],
   "source": [
    "clave=23\n",
    "original=Desencripta(encriptado1,clave,AlfaBeto)\n",
    "print(original)"
   ]
  },
  {
   "cell_type": "code",
   "execution_count": null,
   "id": "2da03189-4433-45da-a4f5-694b8c22abf3",
   "metadata": {},
   "outputs": [],
   "source": []
  },
  {
   "cell_type": "markdown",
   "id": "707da405-003e-4031-9dfd-e1ecef7f9b5a",
   "metadata": {},
   "source": [
    "-----------------------\n",
    "## Ejercicio 3\n",
    "### Ejercicio 2 (4 puntos), cuarto control (9-5-2022), grupo 7114\n",
    "\n",
    "Se toma una permutación, $\\tt F$, de un $\\tt alfabeto$ y su inversa, $\\tt G$. Para encriptar un $\\tt texto$, se aplica $\\tt F$ a las letras que caigan en una posición par del texto, y $\\tt G$ a las que caigan en posición impar. Las letras o símbolos que no aparezcan en el $\\tt alfabeto$ (que no estén en el dominio de $\\tt F$, o equivalentemente en el de $\\tt G$) no cambian.\n",
    "\n",
    "**a)** (3 puntos) Define una función $\\texttt{encriptaFG}(\\texttt{texto,F})$ que dados un $\\tt texto$ (como cadena) y una permutación $\\tt F$ de un $\\tt alfabeto$ (como diccionario) devolverá el texto encriptado por el método recién descrito en forma de cadena. La permutación inversa $\\tt G$ (necesaria para encriptar las letras que caen en posición impar) se creará dentro de la función."
   ]
  },
  {
   "cell_type": "code",
   "execution_count": 19,
   "id": "04df2e15-6fe0-4cc6-b827-3e8bfe3a25c1",
   "metadata": {},
   "outputs": [],
   "source": [
    "def encriptaFG(texto,F):\n",
    "    G=dict([(F[x],x) for x in F])\n",
    "    encriptado=''\n",
    "    for j in xsrange(len(texto)):\n",
    "        letra=texto[j]\n",
    "        if letra in F:\n",
    "            if j%2==0:\n",
    "                letra=F[letra]\n",
    "            else:\n",
    "                letra=G[letra]\n",
    "        encriptado+=letra\n",
    "    return encriptado"
   ]
  },
  {
   "cell_type": "code",
   "execution_count": 20,
   "id": "8cd0b1ae-dab7-4724-a1ab-36b5292b959a",
   "metadata": {},
   "outputs": [],
   "source": [
    "#Para probar nuestro programa usaremos la permutación \"Fprueba\" (dada como diccionario)\n",
    "# que se obtiene al ejecutar la siguiente celda\n",
    "Fprueba=dict(zip('nrzotcxskvphabiflueygwmqjdñ','kzvhawulmcbopgyqijñsexntfdr'))"
   ]
  },
  {
   "cell_type": "code",
   "execution_count": 21,
   "id": "179dfa30-f56d-4749-be68-770205765445",
   "metadata": {},
   "outputs": [
    {
     "data": {
      "text/plain": [
       "True"
      ]
     },
     "execution_count": 21,
     "metadata": {},
     "output_type": "execute_result"
    }
   ],
   "source": [
    "# Si has programado bien \"encriptaFG\", al ejecutar esta celda deberías obtener True\n",
    "load('Ej2_Comp.py')\n",
    "comp2enc==encriptaFG(comp2orig,Fprueba)"
   ]
  },
  {
   "cell_type": "code",
   "execution_count": null,
   "id": "1514a79b-fdec-47b5-bb84-c76fdc9fe23e",
   "metadata": {},
   "outputs": [],
   "source": []
  },
  {
   "cell_type": "markdown",
   "id": "114577d1-892b-4ede-b4ea-20816211df1f",
   "metadata": {},
   "source": [
    "**b)** (1 punto) Los mensajes encriptados con la función $\\texttt{encriptaFG}$ se pueden desencriptar con esa misma función, usando como clave una permutación adecuada. Tras ejecutar la celda siguiente la variable $\\tt encriptado2$ contendrá una cadena con un mensaje encriptado producto de encriptar un $\\tt texto$ usando la función $\\tt encriptaFG$ con la permutación $\\tt Fprueba$ suministrada anteriormente. Utiliza convenientemente la función $\\texttt{encriptaFG}$ para averiguar el contenido del mensaje original."
   ]
  },
  {
   "cell_type": "code",
   "execution_count": 22,
   "id": "9ab8d264-8ebb-4c98-8e80-c04f6e1774f1",
   "metadata": {},
   "outputs": [
    {
     "data": {
      "text/plain": [
       "1250"
      ]
     },
     "execution_count": 22,
     "metadata": {},
     "output_type": "execute_result"
    }
   ],
   "source": [
    "load('Ej2_Enc.py')\n",
    "len(encriptado2)"
   ]
  },
  {
   "cell_type": "code",
   "execution_count": 23,
   "id": "21d6cec2-9466-4f1a-827b-06094bea553c",
   "metadata": {},
   "outputs": [
    {
     "name": "stdout",
     "output_type": "stream",
     "text": [
      "Estando yo en la mi choza pintando la mi cayada,\n",
      "las cabrillas altas iban y la luna rebajada;\n",
      "mal barruntan las ovejas, no paran en la majada.\n",
      "Vide venir siete lobos por una oscura cañada.\n",
      "Venían echa\n"
     ]
    }
   ],
   "source": [
    "Gprueba=dict([(Fprueba[x],x) for x in Fprueba])\n",
    "original=encriptaFG(encriptado2,Gprueba)\n",
    "print(original[:200])\n"
   ]
  },
  {
   "cell_type": "markdown",
   "id": "4273433f-2fe8-48fa-9fb5-53c1e20c0265",
   "metadata": {},
   "source": [
    "-------------------\n",
    "## Ejercicio 4\n",
    "### Ejercicio 1 (5 puntos), cuarto parcial (11-5-2022), grupo 7115\n",
    "\n",
    "En este ejercicio vamos a programar un método de codificado que se basa en lo siguiente:\n",
    "\n",
    "- Se elige un alfabeto (que no es más que una cadena de caracteres sin repeticiones), y se forma una lista $\\texttt{L}$ que contiene todos los 2-gramas (palabras de longitud 2) formadas por caracteres del alfabeto. La lista tiene que estar ordenada con el _orden lexicográfico_ (es decir, lo primero que determina el orden es el primer carácter, y a igualdad de primer carácter se mira el segundo) respecto del orden en el que viene el alfabeto considerado. Por ejemplo: $$\\text{si el alfabeto es 'xau' la lista $\\texttt{L}$ es ['xx', 'xa', 'xu' 'ax', 'aa', 'au', 'ux', 'ua', 'uu'].}$$\n",
    "\n",
    "\n",
    "- Se toma una clave, que es un número entero $k$ mayor que 0 y menor que la longitud de $\\texttt{L}$ (que es el cuadrado de la longitud del alfabeto).\n",
    "- Si el texto a codificar tiene una cantidad impar de caracteres, se le añade al final un carácter adicional (el que quieras).\n",
    "- Si 2GRAMA es el 2-grama formado por los caracteres en posiciones 0 y 1 del texto original, y 2GRAMA está en la lista $\\texttt{L}$, se busca el 2-grama NUEVO2GRAMA que se obtiene al desplazarse $k$ posiciones hacia la derecha en $\\texttt{L}$ (contado módulo la longitud de $\\texttt{L}$). Ese nuevo 2-grama dará los caracteres que ocupan las posiciones 0 y 1 del texto codificado. En cambio, si 2GRAMA no está en $\\texttt{L}$ (algo que puede suceder si el texto incluye caracteres que no están en el alfabeto) no se realiza ningún cambio, así que el texto codificado contiene ese mismo 2-grama en las posiciones 0 y 1.\n",
    "- Se repite lo anterior para el 2-grama formado por los caracteres en posiciones 2 y 3 del texto original, luego para el 2-grama formado por los caracteres en posiciones 4 y 5, etcétera, hasta recorrer todo el texto original (o el ampliado por un caracter más si tenía longitud impar).\n",
    "\n",
    "*Ejemplo*.- Si el alfabeto es $\\text{'xau'}$, $\\tt k=2$ y el texto original es $\\text{'xuuxua'}$, el texto codificado es $\\text{'aauuxx'}$.\n",
    "\n",
    "**a)** Escribe una función $\\texttt{listadosgramas(alfabeto)}$ que reciba como argumento un alfabeto (una cadena de caracteres sin repeticiones) y devuelva la lista $\\texttt{L}$ de todos los 2-gramas posibles formados con letras de dicho alfabeto, ordenada como hemos descrito arriba."
   ]
  },
  {
   "cell_type": "code",
   "execution_count": 24,
   "id": "087c9b25-71d2-44df-973d-64ee8c5f68e1",
   "metadata": {},
   "outputs": [],
   "source": [
    "def listadosgramas(alfabeto):\n",
    "    L=[]\n",
    "    for a in alfabeto:\n",
    "        for b in alfabeto:\n",
    "            L.append(a+b)\n",
    "    return L"
   ]
  },
  {
   "cell_type": "code",
   "execution_count": 25,
   "id": "7f80035a-36b2-4848-be3f-8f164f16cc1c",
   "metadata": {},
   "outputs": [
    {
     "data": {
      "text/plain": [
       "True"
      ]
     },
     "execution_count": 25,
     "metadata": {},
     "output_type": "execute_result"
    }
   ],
   "source": [
    "#Para comprobar: si lo has programado bien la ejecución de esta celda debe dar True\n",
    "listadosgramas('xau')==['xx', 'xa', 'xu', 'ax', 'aa', 'au', 'ux', 'ua', 'uu']"
   ]
  },
  {
   "cell_type": "code",
   "execution_count": null,
   "id": "9d0dbf9e-072f-4b4f-905a-56b53ea70de4",
   "metadata": {},
   "outputs": [],
   "source": []
  },
  {
   "cell_type": "markdown",
   "id": "45eb4ca5-ebe3-4dd9-9df9-7e25b3c9db81",
   "metadata": {},
   "source": [
    "**b)** Escribe una función $\\texttt{cifrado2gra}$ que tome como argumentos un texto, una clave k y un alfabeto, que devuelva el texto codificado con el método descrito en el enunciado. Hazlo de modo que si no se especifica un alfabeto se tome este por defecto:$$\\text{' ABCDEFGHIJKLMNÑOPQRSTUVWXYZabcdefghijklmnñopqrstuvwxyz.,;:'}$$"
   ]
  },
  {
   "cell_type": "code",
   "execution_count": 26,
   "id": "da94d397-cb09-4fd8-a8f3-16acd4cd3647",
   "metadata": {},
   "outputs": [],
   "source": [
    "def cifrado2gra(texto, k, alfabeto=' ABCDEFGHIJKLMNÑOPQRSTUVWXYZabcdefghijklmnñopqrstuvwxyz.,;:'):\n",
    "    L=listadosgramas(alfabeto)\n",
    "    if not L: return None\n",
    "    if len(texto)%2==1: \n",
    "        texto+='x'\n",
    "    textocodi=''\n",
    "    for j in xsrange(len(texto)/2):\n",
    "        dosgra=texto[2*j:2*j+2]\n",
    "        if dosgra in L:\n",
    "            dosgra=L[(L.index(dosgra)+k)%len(L)]\n",
    "        textocodi+=dosgra\n",
    "    return textocodi"
   ]
  },
  {
   "cell_type": "code",
   "execution_count": 27,
   "id": "2c529c6d-4d0a-4278-bb76-f1427559c744",
   "metadata": {},
   "outputs": [
    {
     "data": {
      "text/plain": [
       "True"
      ]
     },
     "execution_count": 27,
     "metadata": {},
     "output_type": "execute_result"
    }
   ],
   "source": [
    "#Para comprobar: si lo has programado bien debe dar True\n",
    "cifrado2gra('Ha sido un curso largo, pero hemos aprendido mucho.', 30)=='H:AQjBocvLAAvPtNAJbPhN,cqCsNAFfKpQ :qPfLeGeNAKvAiN,V'"
   ]
  },
  {
   "cell_type": "markdown",
   "id": "6f157a45-ce64-4fbc-bbf9-a0642b6990c7",
   "metadata": {},
   "source": [
    "**c)** Hemos interceptado un mensaje cifrado según el método de este ejercicio: lo tienes en la variable $\\texttt{textocifrado}$ si ejecutas la celda siguiente. La versión premium del software espía PEGASUS tiene una funcionalidad capaz de realizar el descifrado, pero como nuestro presupuesto llega solo para la versión básica conocemos solo dos datos: que el alfabeto utilizado es el que hemos descrito arriba como alfabeto por defecto, y que el mensaje original contenía la palabra _Moodle_. ¡Descifra el mensaje!"
   ]
  },
  {
   "cell_type": "code",
   "execution_count": 28,
   "id": "aba7325e-aa3b-408f-b22f-af68364beed8",
   "metadata": {},
   "outputs": [],
   "source": [
    "textocifrado='mDRtU hBWtgtVECODDKvOpWFTph UOJpaphCHDW.VpG gxPEHCHDC;VtcOo;VtPEDCé SFD.KrDCg.QOC;VtUOS UxD.GONpUOEpNxHxEpExQ;HDgsGOHDVtgrWpUEQOF PEU ÑMgpsígrQ,QONpg;RECOFtgrXCV gsGONpgpUxI;DEXCDLghGrRCFpFOTFGONpguGrJpgsG.gtZpÑtOOHxOpNOHDgtNOXxHCOtUO27gsGOÑpb hARCg.COVpTsHMhJhBWtg.COP T,DELGCOFtgtXpÑFCrióOOFtg.CODDKvOpWFTpdOTFGOHDRtExHxEpgrómQOUtgrC.FFNpg.COP VpgsGOFFUDQOaOTFiéOOVxG;GOQqNxIpExóngsGOTtC.LKDCgtNOHIC,G;guK;C.dOHDtáhAWqNxEpFpgtOOt QsNtcOl.gpQ hBWthGKtOtg;QOP UOXtTtO UOS TONpUODFNpVMhARCTFGOP gxOADCW g;K;JFOpgpUxI;DEXCCOFthDGvW;G dORtU g;WtVEU UOEpÑxP UOTFLKá UtgrUFEtOOmáUOCsG.C;VtcOñphDKsQOW;hANpEtTOFpU UOE.DDHL ¡yFGORDhGDJCODxG;!\\ngTT;HDW dI'"
   ]
  },
  {
   "cell_type": "code",
   "execution_count": 29,
   "id": "acff54a5-2e41-416c-b9ec-b93c143e49bf",
   "metadata": {},
   "outputs": [
    {
     "name": "stdout",
     "output_type": "stream",
     "text": [
      "1459 Espero que esta asignatura os \n"
     ]
    }
   ],
   "source": [
    "#Descifro por fuerza bruta, buscando la palabra que nos ha \"soplado\" PEGASUS\n",
    "alfabeto=' ABCDEFGHIJKLMNÑOPQRSTUVWXYZabcdefghijklmnñopqrstuvwxyz.,;:'\n",
    "tope=len(alfabeto)^2\n",
    "for j in xsrange(tope):\n",
    "    if 'Moodle' in cifrado2gra(textocifrado, j): \n",
    "        print(j, cifrado2gra(textocifrado, j)[:30])\n",
    "    "
   ]
  },
  {
   "cell_type": "code",
   "execution_count": 30,
   "id": "e2b77013-0f22-4083-b804-2bbe46209b76",
   "metadata": {},
   "outputs": [
    {
     "name": "stdout",
     "output_type": "stream",
     "text": [
      "Espero que esta asignatura os haya resultado interesante. Intentaré publicar lo antes posible las calificaciones de este cuarto control, así como la nota de curso de la asignatura. Recordad que la fecha del examen final es el viernes 27 de mayo por la tarde, y que la normativa de evaluación de la asignatura, que especifica cómo se calcula la nota de curso y quién tiene obligación de realizar el examen final, está publicada en Moodle. El año que viene no nos veremos por las aulas, porque no imparto ninguna asignatura de segundo, pero nuestros caminos quizá se crucen más adelante. Ha sido un placer daros clase. ¡Que os vaya bien!\n",
      " Ernesto.x\n"
     ]
    }
   ],
   "source": [
    "#Cuidado con el contenido que este texto no corresponde a este año, aunque comparto su espíritu.\n",
    "print(cifrado2gra(textocifrado, 1459))"
   ]
  },
  {
   "cell_type": "markdown",
   "id": "5006a341-9f08-4d99-9874-2f2056c8231c",
   "metadata": {},
   "source": [
    "-------------------\n",
    "## Ejercicio 5\n",
    "### Ejercicio 2 (5 puntos), cuarto control (11-5-2022), grupo 7115\n",
    "\n",
    "Los cifrados de _trasposición_ son diferentes a los cifrados de sustitución, pues se basan no en cambiar cada letra por otra, sino en reordenar las letras del texto que se quiere codificar. Así, en la posición $\\tt j$-ésima del texto cifrado se pone la letra que ocupaba una cierta posición que depende de $\\tt j$ por medio de alguna regla precisa (en definitiva, esta regla no será más que una permutación del conjunto de las posiciones). En particular un texto cifrado por un método de trasposición contiene exactamente los mismos caracteres que el texto original (aunque aparecen reordenados).\n",
    "\n",
    "**a)** Escribe una función ${\\tt cifrado}({\\tt texto, k})$ que haga lo siguiente para codificar $\\texttt{texto}$ a partir de la clave $\\tt k$:\n",
    "\n",
    "- En caso de que la longitud $\\tt d$ de $\\tt texto $ no sea un número primo, se añaden al final tantas $\\tt x$ como haga falta para que la longitud del texto ampliado sea el primer número primo mayor que $\\tt d$.\n",
    "- El output debe ser un texto cifrado del siguiente modo: en la posición $\\tt j$ debe aparecer el carácter  que ocupa la posición $\\tt k\\cdot j$ en el texto sin cifrar ya ampliado como dice el punto anterior. Aquí, por supuesto, $\\tt k\\cdot j$ debe calcularse módulo la longitud del texto ampliado. \n",
    "- No es lo más importante, pero a ser posible si $\\tt k$ no es estrictamente menor que el primer primo mayor o igual que la longitud de $\\tt texto$, tu programa debería mostrar un mensaje de advertencia y no devolver ningún output ($\\text{return None}$).\n",
    "\n",
    "**Observación muy importante.-** El comando $\\texttt{len}()$ devuelve un número que SageMath considera _entero_, no _entero de Sage_, y eso hace que _métodos_ como $\\texttt{.is}\\underline{\\ }\\texttt{prime}()$ o $\\texttt{.next}\\underline{\\ }\\texttt{prime}()$ no funcionen sobre un número calculado como la longitud de una lista o una cadena. Sin embargo, las _funciones_ $\\texttt{is}\\underline{\\ }\\texttt{prime}()$ y $\\texttt{next}\\underline{\\ }\\texttt{prime}()$ sí que funcionan bien. También podemos utilizar ${\\tt ZZ}()$ para obtener enteros de Sage. Descomenta y ejecuta las siguientes celdas para ver a qué me refiero."
   ]
  },
  {
   "cell_type": "code",
   "execution_count": 31,
   "id": "018f0d97-db22-4b36-ae34-39a6e4c85cb2",
   "metadata": {},
   "outputs": [],
   "source": [
    "#print(len('abd').is_prime())"
   ]
  },
  {
   "cell_type": "code",
   "execution_count": 32,
   "id": "ebb9eab2-f287-4e3d-9823-4ec6e69d7667",
   "metadata": {},
   "outputs": [],
   "source": [
    "#print(len('abd').next_prime())"
   ]
  },
  {
   "cell_type": "code",
   "execution_count": 33,
   "id": "6892286e-884f-4577-ba9e-822234d74909",
   "metadata": {},
   "outputs": [],
   "source": [
    "#print(is_prime(len('abd')), next_prime(len('abd'))) "
   ]
  },
  {
   "cell_type": "code",
   "execution_count": 34,
   "id": "5a1ec60d-9592-41eb-bddb-cbc6e0f4398c",
   "metadata": {},
   "outputs": [],
   "source": [
    "#print(ZZ(len('abd')).is_prime(), ZZ(len('abd')).next_prime())"
   ]
  },
  {
   "cell_type": "code",
   "execution_count": 35,
   "id": "95a039b0-d0d0-4177-a9e5-53c585b1fb6a",
   "metadata": {},
   "outputs": [],
   "source": [
    "def cifrado(texto, k):\n",
    "    L=len(texto)\n",
    "    if is_prime(L):\n",
    "        primo=L\n",
    "    else:\n",
    "        primo=next_prime(L)\n",
    "    if k>=primo:\n",
    "        print('Clave no válida.')\n",
    "        return None\n",
    "    texto+='x'*(primo-L)\n",
    "    textocif=''\n",
    "    for j in xsrange(primo):\n",
    "        textocif+=texto[(k*j)%primo]\n",
    "    return textocif"
   ]
  },
  {
   "cell_type": "code",
   "execution_count": null,
   "id": "22460a45-233d-4ddf-8ab3-ee0ad5102b35",
   "metadata": {},
   "outputs": [],
   "source": []
  },
  {
   "cell_type": "code",
   "execution_count": 36,
   "id": "a92e8dad-d964-4f83-9577-436e18ab2c2c",
   "metadata": {},
   "outputs": [
    {
     "data": {
      "text/plain": [
       "True"
      ]
     },
     "execution_count": 36,
     "metadata": {},
     "output_type": "execute_result"
    }
   ],
   "source": [
    "#Para comprobar: si lo has programado bien debe dar True\n",
    "cifrado('Ha sido un curso largo, pero hemos aprendido mucho.', 5)=='Hd ogeeadm.  ul,oordcxinsrph n oaoc ormpiuxsura  seoh'"
   ]
  },
  {
   "cell_type": "markdown",
   "id": "0a62f041-e98e-4918-8ba1-254338bc8ddb",
   "metadata": {},
   "source": [
    "**b)** Hemos interceptado el texto cifrado que se carga en la variable $\\texttt{textocif}$ al ejecutar la celda siguiente. Sabemos que el método de cifrado es el descrito en el apartado anterior, y según PEGASUS el texto original está extraído de \"El señor de los anillos\", de J.R.R. Tolkien (información que puede ser útil). Consigue encontrar el texto original."
   ]
  },
  {
   "cell_type": "code",
   "execution_count": 37,
   "id": "27b19eef-5e64-4718-8511-2d80bdd47117",
   "metadata": {},
   "outputs": [],
   "source": [
    "textocif='Tp la nlaeaomr notcs.necron.A \\nesn  oaa elriadrrfaUEeee atañl\\ndollle eonl o saseiscl  tipt xlrenlseeros elticebrsi  an\\nUnlr ,d.inn rA opati orng a sao nrMooaarsur csSlopde.o n l etyrsnoenrrox s lsee  tsoosoln aseisaleJ ss\\nous.lclayiokr erlp\\n bidebaper.rderedavdoeañsor sSoslnsxt a,xlbde orramass  nnlmbetosro.\\nabuasaRneen  aT s tslie eraornlrd MjrrooNor o  t ndotrA. e e uoAhieaasxoen o  sar Sñarlosra noprd\\nnoaol\\noRl  lenmlasiee .,op d   saaor e   e di eodae \\ndoiUoexe o.imndalb'"
   ]
  },
  {
   "cell_type": "code",
   "execution_count": 38,
   "id": "65f958ab-ab9e-48b7-b116-6413c921dd8f",
   "metadata": {},
   "outputs": [
    {
     "name": "stdout",
     "output_type": "stream",
     "text": [
      "Hay 479 claves posibles\n"
     ]
    }
   ],
   "source": [
    "print(f'Hay {len(textocif)} claves posibles')"
   ]
  },
  {
   "cell_type": "code",
   "execution_count": 39,
   "id": "4757eea0-0e60-4097-a0a8-01ee772f5c22",
   "metadata": {},
   "outputs": [
    {
     "name": "stdout",
     "output_type": "stream",
     "text": [
      "La contraclave es 289 y el texto descifrado se lee en: \n",
      "\n",
      "Tres anillos para los reyes elfos bajo el cielo.\n",
      "Siete para los señores enanos en casas de piedra.\n",
      "Nueve para los hombres mortales condenados a morir.\n",
      "Uno para el Señor oscuro, sobre el trono oscuro\n",
      "en la tierra de Mordor donde se extienden las Sombras.\n",
      "Un Anillo para gobernarlos a todos. Un Anillo para encontrarlos,\n",
      "un Anillo para atraerlos a todos y atarlos en las tinieblas\n",
      "en la tierra de Mordor donde se extienden las sombras.\n",
      "\n",
      "J.R.R. Tolkien, El señor de los Anillos.xxxx\n"
     ]
    }
   ],
   "source": [
    "palabra='anillo' #O Gollum, o Gandalf.... intentos lógicos si has leído los libros o visto las películas.\n",
    "textodescif=textocif\n",
    "k=2\n",
    "while palabra not in textodescif and k<len(textocif):    \n",
    "    textodescif=cifrado(textocif, k)\n",
    "    k+=1\n",
    "if k==len(textocif):\n",
    "    print(f'La palabra {palabra} no se encuentra en el texto.')\n",
    "else:\n",
    "    print(f'La contraclave es {k-1} y el texto descifrado se lee en: \\n')\n",
    "    print(textodescif)"
   ]
  },
  {
   "cell_type": "markdown",
   "id": "e6c6a10e-9102-4596-81ac-8f2a45da9cae",
   "metadata": {
    "tags": []
   },
   "source": [
    "-------------------\n",
    "# Ejercicio 6\n",
    "### Adaptación de los ejercicios 1 (3 puntos) y 2 (3 puntos) del tercer parcial (2-3-2015)\n",
    "\n",
    "Consideramos el siguiente sistema criptográfico que sustituirá algunos carácteres de un texto que estén en cierto alfabeto, por otros del mismo alfabeto. \n",
    "\n",
    "Se toma un alfabeto, esto es una cadena de caracteres sin repetición, $\\tt alfabeto$, sea ${\\tt L=len}({\\tt alfabeto})$ su longitud. Consideramos una cadena de caracteres de $\\tt alfabeto$, la $\\tt clave$ con longitud ${\\tt lc=len}({\\tt clave})$, y un texto cualquiera $\\tt texto$. El resultado del encriptado será una cadena, $\\tt encriptado$, de igual longitud que $\\tt texto$ en la que $\\tt encriptada[i]$ será $\\tt texto[i]$ salvo que:\n",
    "<ul><li>para $\\tt 0\\le i{<} lc$, $\\tt texto[i]$ está en $\\tt alfabeto$ y entonces $\\tt encriptado[i]$ es $\\tt alfabeto[j\\%L]$ con $\\tt j$ el resultado de sumar los índices de $\\tt texto[i]$ y $\\tt clave[i]$ en $\\tt alfabeto$;</li>\n",
    "<li>para $\\tt i\\ge lc$, ocurre que tanto $\\tt texto[i]$ como $\\tt texto[i-lc]$ están en $\\tt alfabeto$ y entonces $\\tt encriptado[i]$ es $\\tt alfabeto[j\\%L]$ con $\\tt j$ el resultado de sumar los índices de $\\tt texto[i]$ y $\\tt texto[i-lc]$ en $\\tt alfabeto$.</li>\n",
    "</ul> \n",
    "\n",
    "------------\n",
    "\n",
    "**Ejercicio 1 (3 puntos).** Escribir una función de Sage, \n",
    "$${\\tt CifradoTercerParcial}({\\tt texto,clave,alfabeto}),$$ \n",
    "que espere un $\\tt texto$, una $\\tt clave$ y un $\\tt alfabeto$, y devuelva el resultado de encriptar $\\tt texto$ por medio del esquema que acabamos de describir con clave $\\tt clave$ usando el alfabeto $\\tt alfabeto$. La función usará por defecto el alfabeto\n",
    "$${\\tt abc}=\\text{' ABCDEFGHIJKLMNÑOPQRSTUVWXYZabcdefghijklmnñopqrstuvwxyz'}$$que tiene un espacio en blanco como primer carácter."
   ]
  },
  {
   "cell_type": "code",
   "execution_count": 40,
   "id": "5eced573-5e68-40d9-91a6-db912ddf26cd",
   "metadata": {},
   "outputs": [],
   "source": [
    "abc=' ABCDEFGHIJKLMNÑOPQRSTUVWXYZabcdefghijklmnñopqrstuvwxyz'\n",
    "def CifradoTercerParcial(texto,clave,alfabeto=abc):\n",
    "    if any([letra not in alfabeto for letra in clave]):\n",
    "        print('La clave no es válida. Se devuelve el texto sin encriptar.')\n",
    "        return texto\n",
    "    L,lc,ltext=len(alfabeto),len(clave),len(texto)\n",
    "    clavenum=[alfabeto.index(letra) for letra in clave]\n",
    "    cifrado=''  \n",
    "    for i in xsrange(lc):\n",
    "        letra=texto[i]\n",
    "        if letra in alfabeto:\n",
    "            cletra=(alfabeto.index(letra)+clavenum[i])%L\n",
    "            letra=alfabeto[cletra]\n",
    "        cifrado+=letra\n",
    "    for i in xsrange(lc,ltext):\n",
    "        letra,letra2=texto[i],texto[i-lc]\n",
    "        if letra in alfabeto and letra2 in alfabeto:\n",
    "            cletra=(alfabeto.index(letra)+alfabeto.index(letra2))%L\n",
    "            letra=alfabeto[cletra]\n",
    "        cifrado+=letra\n",
    "    return cifrado"
   ]
  },
  {
   "cell_type": "code",
   "execution_count": 41,
   "id": "bcaea7eb-9424-4402-9580-aa8c85a0132d",
   "metadata": {},
   "outputs": [],
   "source": [
    "clave='mesa'\n",
    "texto='Estudiantes ¿campeon?'"
   ]
  },
  {
   "cell_type": "code",
   "execution_count": 42,
   "id": "b5602e3a-5622-40d2-bd33-f922da451fcd",
   "metadata": {},
   "outputs": [
    {
     "name": "stdout",
     "output_type": "stream",
     "text": [
      "qWmUiaThWMSn¿GSmpGOY?\n"
     ]
    }
   ],
   "source": [
    "encriptado=CifradoTercerParcial(texto,clave,abc)\n",
    "print(encriptado)"
   ]
  },
  {
   "cell_type": "markdown",
   "id": "8a70a3df-2846-4382-b442-5adf146bef2a",
   "metadata": {},
   "source": [
    "**Ejercicio 2 (3 puntos).** Escribir una función de Sage, $${\\tt DescifradoTercerParcial}({\\tt texto,clave,alfabeto}),$$ que espere un $\\tt texto$ resultado de encriptar un mensaje por medio del esquema descrito con $\\tt clave$ y $\\tt alfabeto$, y que devuelva el mensaje desencriptado. Por defecto usará el alfabeto mencionado anteriormente."
   ]
  },
  {
   "cell_type": "code",
   "execution_count": 43,
   "id": "62c55fbc-c51e-439a-94e0-ff9f5461c9af",
   "metadata": {},
   "outputs": [],
   "source": [
    "abc=' ABCDEFGHIJKLMNÑOPQRSTUVWXYZabcdefghijklmnñopqrstuvwxyz'\n",
    "def DescifradoTercerParcial(texto,clave,alfabeto=abc):\n",
    "    if any([letra not in alfabeto for letra in clave]):\n",
    "        print('La clave no es válida. Se devuelve el texto sin encriptar.')\n",
    "        return texto\n",
    "    L,lc,ltext=len(alfabeto),len(clave),len(texto)\n",
    "    clavenum=[alfabeto.index(letra) for letra in clave]\n",
    "    original=''  \n",
    "    for i in xsrange(lc):\n",
    "        letra=texto[i]\n",
    "        if letra in alfabeto:\n",
    "            cletra=(alfabeto.index(letra)-clavenum[i])%L\n",
    "            letra=alfabeto[cletra]\n",
    "        original+=letra\n",
    "    for i in xsrange(lc,ltext):\n",
    "        letra,letra2=texto[i],original[i-lc]\n",
    "        if letra in alfabeto and letra2 in alfabeto:\n",
    "            cletra=(alfabeto.index(letra)-alfabeto.index(letra2))%L\n",
    "            letra=alfabeto[cletra]\n",
    "        original+=letra\n",
    "    return original"
   ]
  },
  {
   "cell_type": "code",
   "execution_count": 44,
   "id": "92df4ec2-5ac6-4e49-97c9-79dff294e2b8",
   "metadata": {},
   "outputs": [
    {
     "name": "stdout",
     "output_type": "stream",
     "text": [
      "Estudiantes ¿campeon?\n"
     ]
    }
   ],
   "source": [
    "print(DescifradoTercerParcial(encriptado,'mesa',abc))"
   ]
  },
  {
   "cell_type": "code",
   "execution_count": 45,
   "id": "ac4b0a7e-d977-4b10-9926-06d1e1201806",
   "metadata": {},
   "outputs": [
    {
     "data": {
      "text/plain": [
       "True"
      ]
     },
     "execution_count": 45,
     "metadata": {},
     "output_type": "execute_result"
    }
   ],
   "source": [
    "#CifradoTercerParcial y DescrifadoTercerParcial son inversas:\n",
    "#lo comprobamos con una clave aleatoria de 5 letras del alfabeto\n",
    "#y un texto aleatorio de 100 letras del alfabeto.\n",
    "abc=' ABCDEFGHIJKLMNÑOPQRSTUVWXYZabcdefghijklmnñopqrstuvwxyz'\n",
    "lc=5\n",
    "clave=''.join([abc[randint(0,len(abc)-1)] for _ in xsrange(lc)])\n",
    "tt=''.join([abc[randint(0,len(abc)-1)] for _ in xsrange(100)])\n",
    "DescifradoTercerParcial(CifradoTercerParcial(tt,clave,abc),clave,abc)==tt"
   ]
  },
  {
   "cell_type": "code",
   "execution_count": null,
   "id": "3dfae95e-da58-4821-88b3-d41189f19766",
   "metadata": {},
   "outputs": [],
   "source": []
  }
 ],
 "metadata": {
  "kernelspec": {
   "display_name": "SageMath 9.5",
   "language": "sage",
   "name": "sagemath"
  },
  "language_info": {
   "codemirror_mode": {
    "name": "ipython",
    "version": 3
   },
   "file_extension": ".py",
   "mimetype": "text/x-python",
   "name": "python",
   "nbconvert_exporter": "python",
   "pygments_lexer": "ipython3",
   "version": "3.10.6"
  }
 },
 "nbformat": 4,
 "nbformat_minor": 5
}
