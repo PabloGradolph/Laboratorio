{
 "cells": [
  {
   "cell_type": "markdown",
   "metadata": {},
   "source": [
    "# Laboratorio 2022-2023\n",
    "\n",
    "##  Sesión 21: Cifrado de Vigenère\n",
    "\n",
    "Como vimos en la sesión anterior, los cifrados de permutación son bastante frágiles: un análisis de frecuencias sencillo puede ser suficiente para *romperlos* (descifrarlos). Una forma de hacer métodos criptográficos más seguros es no usar siempre la misma permutación del alfabeto, de forma que las frecuencias de los diferentes caracteres en el texto cifrado se igualen. Esta es la idea del sistema criptográfico de Vigenère.\n",
    "\n",
    "Se elige como clave una palabra de cierta longitud $k$. Lo relevante va a ser la lista ordenada\n",
    "$n_0, n_1, \\ldots , n_{k-1}$ de los $k$ números que designan las posiciones en el alfabeto de cada una de las $k$ letras de la clave. El cifrado de Vigenère consiste en combinar a la vez $k$ cifrados César de claves $n_0$, $n_1$, ... Se hace:\n",
    "\n",
    "- Un cifrado César de clave $n_0$ sobre los caracteres del texto en las posiciones 0, k, 2k, etc. (llamamos posición 0 a la inicial, como hace Sage).\n",
    "\n",
    "- Un cifrado César de clave $n_1$ sobre los caracteres del texto en las posiciones 1, 1+k, 1+2k, etc.\n",
    "\n",
    "- Y así hasta el último, un cifrado César de clave $n_{k-1}$ que actúa sobre los caracteres que ocupan las posiciones k-1, (k-1)+k, (k-1)+2k, ...\n",
    "\n",
    "Tomemos, por ejemplo, como clave la palabra 'Sage' y como texto 'Voy a poner un ejemplo'. Tomemos como alfabeto $$\\text{' ABCDEFGHIJKLMNÑOPQRSTUVWXYZabcdefghijklmnñopqrstuvwxyz'}$$ (el espacio en blanco no era parte del alfabeto para cifrar en el método original). \n",
    "\n",
    "$\\def\\ul|#1|{\\underline{\\text{#1}}}$\n",
    "La clave 'Sage', de longitud 4, corresponde a los números [20,28,34,32] (que corresponden a la posición de cada letra de la clave en el alfabeto). Las letras en posiciones 0 ('V'), 4 ('a'), 8 ('n'), etc, '$\\ul|V|$oy $\\ul|a|$ po$\\ul|n|$er $\\ul|u|$n e$\\ul|j|$emp$\\ul|l|$o', del texto que queremos cifrar, deben codificarse según un cifrado César de clave 20; las que ocupan posiciones 1, 5, 9, ..., 'V$\\ul|o|$y a$\\ul| |$pon$\\ul|e|$r u$\\ul|n|$ ej$\\ul|e|$mpl$\\ul|o|$', deben cifrarse con un cifrado César de clave 28;  las de posiciones 2, 6, 10, ..., \n",
    "'Vo$\\ul|y|$ a $\\ul|p|$one$\\ul|r|$ un$\\ul| |$eje$\\ul|m|$plo', con clave 34; y con clave 32 las de posiciones 3, 7, 11,..., 'Voy$\\ul| |$a p$\\ul|o|$ner$\\ul| |$un $\\ul|e|$jem$\\ul|p|$lo'.\n",
    "\n",
    "El resultado debe ser 'oOeetaVSFEXeNNgIBERTDO'. Para descifrar, basta aplicar la operación inversa utilizando la ${\\tt contraclave}=\\text{'hZTV'}$ formada por las letras que en alfabeto tienen indices $[-20,-28,-34,-32]$, equivalentemente $[35,27,21,23]$ puesto que ${\\tt len}({\\tt alfabeto})=55$.\n",
    "\n",
    "La fuerza del cifrado de Vigenère reside en que no es susceptible de un análisis de frecuencias, debido a que el cifrado rota por diferentes desplazamientos, de forma que la misma letra en el texto original no siempre se encripta de igual manera. Así, por ejemplo, aunque la \"e\" es la letra más común en el texto cifrado, no podemos suponer que corresponda al espacio en blanco, que es el más frecuente en el texto original.\n",
    "\n",
    "Para saber más visitar el artículo de la <a href=\"http://es.wikipedia.org/wiki/Cifrado_de_Vigen%C3%A8re\" target=\"_blank\">wikipedia</a>."
   ]
  },
  {
   "cell_type": "markdown",
   "metadata": {},
   "source": [
    "### **Ejercicio 1** ###\n",
    "**a)** Construye una función ${\\tt contraVigenere}({\\tt clave,alfabeto})$ que conocidos la $\\tt clave$ y el $\\tt alfabeto$ que se han de utilizar para encriptar con el sistema Vigenère, devuelva la $\\tt contraclave$ necesaria para desencriptar por el mismo sistema."
   ]
  },
  {
   "cell_type": "code",
   "execution_count": 1,
   "metadata": {},
   "outputs": [
    {
     "data": {
      "text/plain": [
       "'hZTV'"
      ]
     },
     "execution_count": 1,
     "metadata": {},
     "output_type": "execute_result"
    }
   ],
   "source": [
    "def contraVigenere(clave,alfabeto): \n",
    "    \n",
    "    # Compruebo si la clave está en el alfabeto.\n",
    "    if any([letra not in alfabeto for letra in clave]): \n",
    "        print('La clave y el alfabeto son incompatibles.')\n",
    "        return None\n",
    "\n",
    "    # Traduzco la clave a números\n",
    "    clavenum=[]\n",
    "    for letra in clave:\n",
    "        clavenum+=[alfabeto.index(letra)]\n",
    "    \n",
    "    # Contruyo la contraclave\n",
    "    contraclave = ''\n",
    "    for num in clavenum:\n",
    "        contraclave += alfabeto[-num]\n",
    "    return contraclave\n",
    "    \n",
    "alfabeto = ' ABCDEFGHIJKLMNÑOPQRSTUVWXYZabcdefghijklmnñopqrstuvwxyz'\n",
    "contraVigenere('Sage',alfabeto)"
   ]
  },
  {
   "cell_type": "markdown",
   "metadata": {},
   "source": [
    "**b)** Construye una función $\\texttt{cifradoVigenere}(\\texttt{texto,clave,alfabeto})$ para cifrar (también servirá, obviamente, para descifrar) con el sistema de Vigenère.  La función debe devolver el texto cifrado. Puedes hacer admisible que el texto contenga caracteres que no están en el alfabeto: si hay alguno así, no se codifica y queda inalterado y en la misma posición. Si la clave contiene algún caracter que no está en el alfabeto, el programa debe lanzar un mensaje de error."
   ]
  },
  {
   "cell_type": "code",
   "execution_count": 4,
   "metadata": {},
   "outputs": [
    {
     "data": {
      "text/plain": [
       "'QBSJT'"
      ]
     },
     "execution_count": 4,
     "metadata": {},
     "output_type": "execute_result"
    }
   ],
   "source": [
    "def cifradoVigenere(texto, clave, alfabeto):\n",
    "    \n",
    "    # Compruebo si la clave está en el alfabeto.\n",
    "    if any([letra not in alfabeto for letra in clave]): \n",
    "        print('La clave y el alfabeto son incompatibles.')\n",
    "        return None\n",
    "    \n",
    "    L = len(alfabeto) # longitud alfabeto\n",
    "    long = len(clave) # longitud clave\n",
    "    clavenum = [alfabeto.index(letra) for letra in clave] # Obtengo\n",
    "    \n",
    "    # Paso al cigrado propiamente dicho\n",
    "    textocif = ''\n",
    "    for k in xsrange(len(texto)):\n",
    "        letra = texto[k]\n",
    "        if letra in alfabeto:\n",
    "            s1 = alfabeto.index(letra)\n",
    "            s2 = clavenum[k%long]\n",
    "            letra = alfabeto[(s1 + s2)%L]\n",
    "        textocif += letra\n",
    "    return textocif\n",
    "\n",
    "cifradoVigenere('AAAAA', 'PARIS', alfabeto)"
   ]
  },
  {
   "cell_type": "code",
   "execution_count": 5,
   "metadata": {},
   "outputs": [
    {
     "data": {
      "text/plain": [
       "True"
      ]
     },
     "execution_count": 5,
     "metadata": {},
     "output_type": "execute_result"
    }
   ],
   "source": [
    "# Para comprobar. Si has programado bien cifradoVigenere, al ejecutar esta celda debería dar True\n",
    "texto='Voy a poner un ejemplo'\n",
    "clave='Sage'\n",
    "alfabeto=' ABCDEFGHIJKLMNÑOPQRSTUVWXYZabcdefghijklmnñopqrstuvwxyz'\n",
    "texto_cifrado=cifradoVigenere(texto,clave,alfabeto)\n",
    "texto_cifrado=='oOeetaVSFEXeNNgIBERTDO'"
   ]
  },
  {
   "cell_type": "code",
   "execution_count": 6,
   "metadata": {},
   "outputs": [
    {
     "name": "stdout",
     "output_type": "stream",
     "text": [
      "Voy a poner un ejemplo\n"
     ]
    }
   ],
   "source": [
    "# La misma función sirve para descifrar, usando como clave la contraclave\n",
    "\n",
    "contraclave=contraVigenere(clave,alfabeto)\n",
    "print(cifradoVigenere(texto_cifrado,contraclave,alfabeto))"
   ]
  },
  {
   "cell_type": "markdown",
   "metadata": {},
   "source": [
    "## **Intentando romper Vigenère** ##\n",
    "\n",
    "Como hemos visto, el cifrado de Vigenère en realidad es una colección de cifrados de César, tantos como longitud tenga la clave. **Si se conoce la longitud de la clave**, el descifrado es sencillo: basta hacer un análisis de frecuencias para cada uno de los códigos de César. \n",
    "Hay que mirar las frecuencias que se observan en cada uno de los bloques de letras que han sufrido un mismo cifrado César, e intentar deducir cuál ha sido la clave del cifrado César de ese bloque del hecho de cuál es el  carácter que veamos como más fecuente en ese bloque y cuál pensemos que debería ser el más frecuente en el texto original.\n",
    "\n",
    "Ten en cuenta que cómo de frecuentes sean los caracteres en el texto original depende del idioma, de si se han codificado los espacios o no, etcétera."
   ]
  },
  {
   "cell_type": "markdown",
   "metadata": {},
   "source": [
    "Obsérvese que si se tiene una función $\\tt F_{lc}$ que conocida la longitud de la clave $\\tt lc$, y ciñéndose al alfabeto de caracteres del cifrado de Vigenère utilizado, nos devuelve la cadena, de longitud $\\tt lc$, de caracteres con mayor frecuencia en los $\\tt lc$ bloques de un texto, en el siguiente diagrama (con la notación obvia)\n",
    "<center>$\\begin{array}{*3c}\\texttt{texto-original} \n",
    "& \\stackrel{\\tt F_{lc}}{\\longmapsto} \n",
    "& \\texttt{frec-original}\\\\\n",
    "\\downarrow{\\tiny\\tt Vig_{clave}} & &\\downarrow{\\tiny\\tt Vig_{clave}}\\\\\n",
    "\\texttt{texto-cifrado} \n",
    "& \\stackrel{\\tt F_{lc}}{\\longmapsto} \n",
    "& \\texttt{frec-cifrado}\n",
    "\\end{array}$</center>\n",
    "a la esquina inferior derecha, $\\texttt{frec-cifrado}$, se llegaría indistintamente por la fila inferior o por la columna derecha:\n",
    "$${\\tt F_{lc}}(\\texttt{texto-cifrado})=\\texttt{frec-cifrado}={\\tt Vig_{clave}}(\\texttt{frec-original}).$$\n",
    "En particular, siempre que conozcamos el alfabeto (necesario para tener los índices de los caracteres moficados)\n",
    "y la longitud de la clave $\\tt lc$, con una apuesta razonable de $\\texttt{frec-original}$ podemos averiguar la $\\tt contraclave$ para el cifrado Vigenère."
   ]
  },
  {
   "cell_type": "markdown",
   "metadata": {},
   "source": [
    "### **Ejercicio 2** ###\n",
    "\n",
    "La variable $\\tt textocif1$ que se cargará al ejecutar la celda siguiente contiene un texto cifrado."
   ]
  },
  {
   "cell_type": "code",
   "execution_count": 13,
   "metadata": {},
   "outputs": [
    {
     "name": "stdout",
     "output_type": "stream",
     "text": [
      "O? ÑLA. ,P!NDHBPZ¿!T FCÑB!BU ¡ NDGBL;!O VA.:F,A ,P ;¿L:¿? .ÑO ÑYP U? L¿:VR ITU,UE H Ñ?¡ !¡V¡ J;T ¡APTAEÑ ¿.E ;S¡M VP,Y G EF :?SG,PÑ¡O ,G .ST,GCY CQ ;:SL.J; ;,S¡,DTG R.E¿, YVQ;Z MS UA ENT U!PÑ.RZSS?Ñ G\n"
     ]
    },
    {
     "data": {
      "text/plain": [
       "16230"
      ]
     },
     "execution_count": 13,
     "metadata": {},
     "output_type": "execute_result"
    }
   ],
   "source": [
    "#Ejecuta\n",
    "load(\"textocif1.py\")   # Cargamos el fichero que contiene el texto cifrado\n",
    "print(textocif1[:200]) # Mostramos los primeros 200 caracteres\n",
    "len(textocif1)         # Vemos cuál es la longitud del texto"
   ]
  },
  {
   "cell_type": "code",
   "execution_count": 14,
   "metadata": {},
   "outputs": [
    {
     "name": "stdout",
     "output_type": "stream",
     "text": [
      "!,.:;?ABCDEFGHIJLMNOPQRSTUVYZ¡¿Ñ\n"
     ]
    }
   ],
   "source": [
    "abc = list(set(textocif1))\n",
    "abc.sort()\n",
    "abc = ''.join(abc[1:])\n",
    "print(abc)"
   ]
  },
  {
   "cell_type": "code",
   "execution_count": 15,
   "metadata": {},
   "outputs": [
    {
     "name": "stdout",
     "output_type": "stream",
     "text": [
      "!,.:;?ABCDEFGHIJLMNÑOPQRSTUVYZ¡¿\n"
     ]
    }
   ],
   "source": [
    "jn = abc.index('N')\n",
    "abc = abc[:jn+1]+'Ñ'+abc[jn+1:-1]\n",
    "print(abc) # Hemos cambiado la posición de la Ñ"
   ]
  },
  {
   "cell_type": "markdown",
   "metadata": {},
   "source": [
    "Vamos a hacer un pequeño análisis previo. Al ejecutar la siguiente celda calculamos una lista de pares (letra, frecuencia) con todas las letras que aparecen en $\\tt textocif1$ con la frecuencia con la que lo hacen (lista ordenada de mayor a menor número de repeticiones). "
   ]
  },
  {
   "cell_type": "code",
   "execution_count": 16,
   "metadata": {},
   "outputs": [
    {
     "name": "stdout",
     "output_type": "stream",
     "text": [
      "[(2962, ' '), (694, 'Z'), (617, 'U'), (599, '¡'), (583, 'Ñ'), (562, 'Y'), (558, 'T'), (536, 'L'), (532, ','), (496, '.'), (492, '!'), (489, ':'), (486, 'G'), (445, 'P'), (437, '?'), (429, 'J'), (415, '¿'), (409, 'V'), (407, 'O'), (361, ';'), (356, 'A'), (353, 'D'), (351, 'R'), (348, 'B'), (341, 'S'), (309, 'F'), (305, 'C'), (304, 'I'), (300, 'N'), (295, 'E'), (183, 'M'), (157, 'Q'), (119, 'H')]\n"
     ]
    }
   ],
   "source": [
    "#Ejecuta\n",
    "diccio=dict()\n",
    "for letra in textocif1:\n",
    "    diccio[letra]=textocif1.count(letra)\n",
    "lista=[(diccio[k], k) for k in diccio.keys()]\n",
    "lista.sort(reverse=true)\n",
    "print(lista)"
   ]
  },
  {
   "cell_type": "markdown",
   "metadata": {},
   "source": [
    "Podemos inspeccionar, en términos porcentuales, cuáles son los diez caracteres que más se repiten en $\\tt textocif1$."
   ]
  },
  {
   "cell_type": "code",
   "execution_count": 17,
   "metadata": {},
   "outputs": [
    {
     "name": "stdout",
     "output_type": "stream",
     "text": [
      "18.2\n",
      "4.28\n",
      "3.80\n",
      "3.69\n",
      "3.59\n",
      "3.46\n",
      "3.44\n",
      "3.30\n",
      "3.28\n",
      "3.06\n"
     ]
    }
   ],
   "source": [
    "#Ejecuta\n",
    "for k in xsrange(10):\n",
    "    print((100*lista[k][0]/len(textocif1)).n(digits=3))"
   ]
  },
  {
   "cell_type": "markdown",
   "metadata": {},
   "source": [
    "Estos porcentajes sugieren que el método de codificación no ha sido un mero cifrado de sustitución simple, dado por una permutación del alfabeto, como en la sesión precedente. De hecho, vamos a continuar a partir del hecho, que suponemos conocido, de que para crear $\\tt textocif1$ se  ha hecho un cifrado de Vigenère."
   ]
  },
  {
   "cell_type": "markdown",
   "metadata": {},
   "source": [
    "**a)** Vamos a asumir que todos los caracteres del alfabeto que se usó al hacer la codificación por el método de Vigenère aparecen en $\\tt textocif1$, aunque no sabemos si algunos caracteres del texto original quedaron sin cifrar (¿espacios?, ¿signos de puntuación?).\n",
    "\n",
    "Escribe una función $\\texttt{caracteres}(\\texttt{texto})$ que devuelva una cadena de caracteres que contenga, sin repeticiones, todos los caracteres que aparecen en $\\texttt{texto}$, y en el orden en que los ordena el comando $\\texttt{.sort}()$ de Sage.\n",
    "\n",
    "Aplica esta función a $\\tt textocif1$. Mirando a $\\tt textocif1$ (o a un fragmento suyo), especula si se puede sospechar que se hayan quedado caracteres sin codificar. Decide cuál puede ser el alfabeto que se usó para hacer la codificación de Vigenère."
   ]
  },
  {
   "cell_type": "code",
   "execution_count": 18,
   "metadata": {},
   "outputs": [],
   "source": [
    "def caracteres(texto):\n",
    "    lista=list(set(texto)) # Usamos set para eliminar repeticiones\n",
    "    lista.sort()           # Lista ordenada, de menor a mayor\n",
    "    \n",
    "    # Ahora construyo la cadena a partir de la lista de caracteres\n",
    "    cadena=''\n",
    "    for caracter in lista: \n",
    "        cadena+=caracter \n",
    "    return cadena"
   ]
  },
  {
   "cell_type": "code",
   "execution_count": 19,
   "metadata": {},
   "outputs": [],
   "source": [
    "# Versión más compacta usando .join\n",
    "def caracteres(texto):\n",
    "    lista=list(set(texto)) # Usamos set para eliminar repeticiones\n",
    "    lista.sort()           # Lista ordenada, de menor a mayor\n",
    "    return ''.join(lista)"
   ]
  },
  {
   "cell_type": "code",
   "execution_count": 20,
   "metadata": {},
   "outputs": [
    {
     "data": {
      "text/plain": [
       "' !,.:;?ABCDEFGHIJLMNOPQRSTUVYZ¡¿Ñ'"
      ]
     },
     "execution_count": 20,
     "metadata": {},
     "output_type": "execute_result"
    }
   ],
   "source": [
    "caracteres(textocif1)"
   ]
  },
  {
   "cell_type": "code",
   "execution_count": 21,
   "metadata": {},
   "outputs": [
    {
     "name": "stdout",
     "output_type": "stream",
     "text": [
      "O? ÑLA. ,P!NDHBPZ¿!T FCÑB!BU ¡ NDGBL;!O VA.:F,A ,P ;¿L:¿? .ÑO ÑYP U? L¿:VR ITU,UE H Ñ?¡ !¡V¡ J;T ¡APTAEÑ ¿.E ;S¡M VP,Y G EF :?SG,PÑ¡O ,G .ST,GCY CQ ;:SL.J; ;,S¡,DTG R.E¿, YVQ;Z MS UA ENT U!PÑ.RZSS?Ñ G\n"
     ]
    }
   ],
   "source": [
    "print(textocif1[:200])"
   ]
  },
  {
   "cell_type": "code",
   "execution_count": 22,
   "metadata": {},
   "outputs": [
    {
     "name": "stdout",
     "output_type": "stream",
     "text": [
      "!,.:;?ABCDEFGHIJLMNOPQRSTUVYZ¡¿Ñ\n"
     ]
    }
   ],
   "source": [
    "# Parece que no se han codificado los espacios, pero el resto sí\n",
    "alfabeto=caracteres(textocif1)[1:]\n",
    "print(alfabeto)\n",
    "#De momento vamos a suponer que no pusieron cuidado en colocar la 'Ñ' en el alfabeto. De dar problemas al final, variaremos el alfabeto."
   ]
  },
  {
   "cell_type": "markdown",
   "metadata": {},
   "source": [
    "**b)** Escribe una función $\\texttt{masfrecuentes}(\\texttt{long,texto,alfabeto})$ que devuelva una cadena $\\tt palabra$ con $\\tt long$ caracteres. En su posición $j$ ha de aparecer el carácter más frecuente del alfabeto $\\tt alfabeto$ del bloque formado por los que ocupan posiciones en $\\tt texto$ congruentes con $j$ módulo $\\tt long$: así, el carácter en la posición 0 de $\\tt palabra$ debe ser el carácter más frecuente del alfabeto de entre los que ocupan posiciones múltiplo de $\\tt long$ en $\\tt texto$, etcétera. "
   ]
  },
  {
   "cell_type": "code",
   "execution_count": 25,
   "metadata": {},
   "outputs": [],
   "source": [
    "def masfrecuentes(long,texto,alfabeto):\n",
    "    palabra=''\n",
    "    for j in xsrange(long):\n",
    "        letras=texto[j::long]                                     # Letras en posiciones congruentes con j módulo long\n",
    "        letrasUA=set(letras).intersection(alfabeto)               # Estas son las letras que se han usado y que están en el alfabeto\n",
    "        pares=[(letras.count(letra),letra) for letra in letrasUA] # Cuento cuántas veces aparece cada una de las letras usadas del alfabeto\n",
    "        pares.sort(reverse=true)\n",
    "        palabra+=pares[0][1]\n",
    "    return palabra"
   ]
  },
  {
   "cell_type": "code",
   "execution_count": 26,
   "metadata": {},
   "outputs": [
    {
     "data": {
      "text/plain": [
       "'ZUZU¡Y¡ZZZZZZ'"
      ]
     },
     "execution_count": 26,
     "metadata": {},
     "output_type": "execute_result"
    }
   ],
   "source": [
    "# Pruebo que al menos devuelve algo\n",
    "masfrecuentes(13,textocif1, alfabeto) "
   ]
  },
  {
   "cell_type": "markdown",
   "metadata": {},
   "source": [
    "**c)** Crea una función $\\texttt{contraclave}\\_\\texttt{Vigenere}(\\texttt{texto-cif,alfabeto,palabra})$ que genere la contraclave que descifraría un texto $\\tt texto-cif$ codificado por Vigenère a partir de un alfabeto $\\tt alfabeto$ con una clave de longitud $\\texttt{long=len}(\\texttt{palabra})$ si las letras del alfabeto más frecuentes del texto original en los bloques $0, 1, \\ldots, {\\tt long-}1$ fuesen las que forman la palabra $\\tt palabra$. Es decir, si calculásemos la correspondiente $\\tt clave$ (con esa contraclave y el alfabeto):\n",
    "$$\n",
    "\\texttt{masfrecuentes}(\\texttt{long,texto-cif,alfabeto})=\\texttt{cifradoVigenere}(\\texttt{palabra,clave,alfabeto})\n",
    "$$\n",
    "tal como se cumple en el diagrama de arriba."
   ]
  },
  {
   "cell_type": "code",
   "execution_count": 27,
   "metadata": {},
   "outputs": [],
   "source": [
    "def contraclave_Vigenere(texto,alfabeto,palabra):\n",
    "    long=len(palabra) # longitud de la clave\n",
    "    palabracodif=masfrecuentes(long,texto,alfabeto) # palabra formada por la letra más frecuente de cada bloque en el texto codificadoe\n",
    "    contra=[]         # lista en la que almacenaremos los índices de las letras de la contraclave\n",
    "    for j in xsrange(long):\n",
    "        nuevaposicion_masfrec=alfabeto.index(palabracodif[j]) # índice de la letra más frecuente en el bloque j en el texto codificado\n",
    "        posicion_masfrec=alfabeto.index(palabra[j])           # índice de la letra más frecuente en el bloque j en el texto original\n",
    "        contra.append(alfabeto[(-nuevaposicion_masfrec+posicion_masfrec)]) # letra de la contraclave correspondiente a la posición j \n",
    "    return ''.join(contra)  "
   ]
  },
  {
   "cell_type": "markdown",
   "metadata": {},
   "source": [
    "**d)** Nos han soplado que $\\tt textocif1$ fue codificado con una clave de 20 caracteres. Con toda la información y los distintos programas que has construído, descifra $\\tt textocif1$. ¿Cuál fue la clave utilizada para cifrar?"
   ]
  },
  {
   "cell_type": "code",
   "execution_count": 28,
   "metadata": {},
   "outputs": [
    {
     "name": "stdout",
     "output_type": "stream",
     "text": [
      "O¡ZÑ:TQ¡¿POPVGYLZNSL\n"
     ]
    }
   ],
   "source": [
    "# No hace falta esto, pero estas son las más frecuentes de cada bloque\n",
    "\n",
    "print(masfrecuentes(20,textocif1, alfabeto))"
   ]
  },
  {
   "cell_type": "code",
   "execution_count": 29,
   "metadata": {},
   "outputs": [
    {
     "name": "stdout",
     "output_type": "stream",
     "text": [
      "SHIFBNQHGRSRL¿JVITOV\n"
     ]
    }
   ],
   "source": [
    "# Busco la contraclave suponiendo que la más frecuente de cada bloque del texto inicial es 'E'\n",
    "contraclave=contraclave_Vigenere(textocif1,alfabeto,'E'*20)\n",
    "print(contraclave)"
   ]
  },
  {
   "cell_type": "code",
   "execution_count": 30,
   "metadata": {},
   "outputs": [
    {
     "name": "stdout",
     "output_type": "stream",
     "text": [
      "EN ESTS HESCUFRIERON TREINZA O CUERENTA MOLINOY HE VIINTO QUE HAY IN AQUEP CAMPO, Y ASN GOMO HON QUIJOTE LSS VIO, DIJO A SU ESGUHERO: LA VENTURA VE LUIANHO NUESTRAS CSSES MEOOR DE LO QUE AGERTAVAMOS A\n"
     ]
    }
   ],
   "source": [
    "# Pruebo a ver y cruzo los dedos...\n",
    "original=cifradoVigenere(textocif1,contraclave,alfabeto)\n",
    "print(original[:200]) # Solo imprimo los 200 primeros caracteres"
   ]
  },
  {
   "cell_type": "code",
   "execution_count": 31,
   "metadata": {},
   "outputs": [
    {
     "name": "stdout",
     "output_type": "stream",
     "text": [
      "EN ESTS HESCUFRIERON\n"
     ]
    }
   ],
   "source": [
    "# Genial! Esa contraclave casi estaba bien. Miro los 20 primeros caracteres para ver dónde hay errores\n",
    "\n",
    "original=cifradoVigenere(textocif1,contraclave, alfabeto)\n",
    "print(original[:20])"
   ]
  },
  {
   "cell_type": "code",
   "execution_count": 32,
   "metadata": {},
   "outputs": [
    {
     "name": "stdout",
     "output_type": "stream",
     "text": [
      "EN ESTO DESCUBRIERON\n"
     ]
    }
   ],
   "source": [
    "# En los bloques donde no acerté (de índices 6, 8 y 13): ¿será porque la letra realmente más frecuente en el texto\n",
    "# original no era la primera más fecuente habitualmente, la 'E', sino la segunda, la 'A'?\n",
    "palabra='E'*6+'AEA'+'E'*4+'A'+'E'*6#'EEEEEEAEAEEEEAEEEEEE'\n",
    "contraclave=contraclave_Vigenere(textocif1,alfabeto,palabra)\n",
    "original=cifradoVigenere(textocif1,contraclave, alfabeto)\n",
    "print(original[:20])"
   ]
  },
  {
   "cell_type": "code",
   "execution_count": 33,
   "metadata": {},
   "outputs": [
    {
     "name": "stdout",
     "output_type": "stream",
     "text": [
      "EN ESTO DESCUBRIERON TREINTA O CUARENTA MOLINOS DE VIENTO QUE HAY EN AQUEL CAMPO, Y ASI COMO DON QUIJOTE LOS VIO, DIJO A SU ESCUDERO: LA VENTURA VA GUIANDO NUESTRAS COSAS MEJOR DE LO QUE ACERTARAMOS A\n"
     ]
    }
   ],
   "source": [
    "# Parece que esto está bien. \n",
    "#Pero, ¡cuidado!, no podemos estar seguros de haber dado con la contraclave correcta \n",
    "# para los bloques correspondientes a las posiciones entre las 20 primeras con espacios en blanco\n",
    "#(las congruentes con 2 y 7). Mostramos un poco más para asegurarnos.\n",
    "print(original[:200])"
   ]
  },
  {
   "cell_type": "code",
   "execution_count": 34,
   "metadata": {},
   "outputs": [
    {
     "name": "stdout",
     "output_type": "stream",
     "text": [
      "ON A SU SEÑORA DULCI\n"
     ]
    }
   ],
   "source": [
    "#Estaba bien situada la 'Ñ' en el alfabeto que hemos utilizado\n",
    "print(original[original.index('Ñ')-10:original.index('Ñ')+10])"
   ]
  },
  {
   "cell_type": "code",
   "execution_count": 35,
   "metadata": {},
   "outputs": [
    {
     "name": "stdout",
     "output_type": "stream",
     "text": [
      "DONQUIJOTEDELAMANCHA\n"
     ]
    }
   ],
   "source": [
    "# ¡Hemos dado con la contraclave! Para finalizar obtenemos la clave con la que fue codificado el texto. \n",
    "clave=contraVigenere(contraclave,alfabeto)\n",
    "print(clave)"
   ]
  }
 ],
 "metadata": {
  "kernelspec": {
   "display_name": "SageMath 9.5",
   "language": "sage",
   "name": "sagemath"
  },
  "language_info": {
   "codemirror_mode": {
    "name": "ipython",
    "version": 3
   },
   "file_extension": ".py",
   "mimetype": "text/x-python",
   "name": "python",
   "nbconvert_exporter": "python",
   "pygments_lexer": "ipython3",
   "version": "3.10.6"
  }
 },
 "nbformat": 4,
 "nbformat_minor": 4
}
