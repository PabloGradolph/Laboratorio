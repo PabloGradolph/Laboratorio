{
 "cells": [
  {
   "cell_type": "markdown",
   "metadata": {},
   "source": [
    "# Laboratorio 2022-2023\n",
    "\n",
    "##  Sesión 20: Criptografía\n",
    "El objeto de la criptografía es el de transmitir un mensaje de tal modo que si este es interceptado no se pueda leer, pero que si llega a su destino, el mensaje original se pueda recuperar. Las biyecciones, a la hora de encriptar, constituyen una buena herramienta. Si se pretende que la descodificación (la biyección inversa) no sea sencilla de averiguar, sólo tendremos que elegir bien la biyección directa."
   ]
  },
  {
   "cell_type": "markdown",
   "metadata": {},
   "source": [
    "**Cifrados por sustitución**\n",
    "\n",
    "Un **cifrado por sustitución** es un método de cifrado por el que unidades del texto original son sustituidas con texto cifrado siguiendo un sistema regular; las \"unidades\" pueden ser una sola letra (el caso más común), pares de letras, tríos de letras, mezclas de lo anterior, entre otros. El receptor descifra el texto realizando la sustitución inversa.\n",
    "\n",
    "Compárese con los **cifrados por transposición**, en los que las unidades del texto original son cambiadas usando una ordenación diferente y normalmente bastante compleja, pero las unidades en sí mismas no son modificadas. Por el contrario, en un cifrado por sustitución, las unidades del texto plano mantienen el mismo orden, lo que se hace es sustituir las propias unidades del texto original.\n",
    "\n",
    "**Sustitución simple**\n",
    "\n",
    "En los cifrados de **sustitución simple** un carácter en el texto original es reemplazado por un carácter determinado del alfabeto de sustitución. Es decir, se establecen parejas de caracteres donde el segundo elemento de la pareja es el carácter que sustituye al primer elemento de la pareja.\n",
    "\n",
    "A veces el sistema usa el mismo alfabeto para el texto en claro y para el texto cifrado. Esto permite aprovechar el orden definido por los alfabetos para así facilitar la descripción de los algoritmos."
   ]
  },
  {
   "cell_type": "markdown",
   "metadata": {},
   "source": [
    "## Cifrado de César\n",
    "\n",
    "El ejemplo más sencillo de cifrado de sustitución simple es el cifrado de César. El **cifrado César con clave $k$** utiliza $T_k(j)=(j+k)\\,\\mathrm{mod}\\,L$, como biyección en el conjunto de caracteres del alfabeto (estrictamente, en el conjunto de índices), siendo $L$ la longitud del alfabeto. En términos de índices, se usa la permutación:\n",
    "$$\n",
    "(0,1,2,\\dots,L-1)\\mapsto\n",
    "(k,k+1,\\dots,L-1,0,1,2,\\dots,k-1)\n",
    "$$\n",
    "Así, el _alfabeto de sustitución_ es simplemente una _traslación_ (módulo la longitud del alfabeto) del _alfabeto original_."
   ]
  },
  {
   "cell_type": "markdown",
   "metadata": {},
   "source": [
    "**Ejemplo 1.** Consideremos, por defecto, la siguiente cadena\n",
    "$$\\verb|\n",
    "alfabeto=' ABCDEFGHIJKLMNÑOPQRSTUVWXYZabcdefghijklmnñopqrstuvwxyz'|$$\n",
    "que tiene un espacio en blanco como primer caracter. Para este primer ejemplo, tomaremos textos que contengan solo este juego de caracteres. En la siguiente celda mostramos una manera de generar el alfabeto completo, y aprovechamos para presentar algunos métodos aplicados a cadenas.\n"
   ]
  },
  {
   "cell_type": "code",
   "execution_count": 1,
   "metadata": {
    "collapsed": false,
    "jupyter": {
     "outputs_hidden": false
    }
   },
   "outputs": [
    {
     "name": "stdout",
     "output_type": "stream",
     "text": [
      "27\n",
      "55\n",
      " ABCEDFGHIJKLMNÑOPQRSTUVWXYZabcedfghijklmnñopqrstuvwxyz\n"
     ]
    }
   ],
   "source": [
    "## Tratamiento de cadenas\n",
    "## Ejecuta y observa\n",
    "\n",
    "alfabeto='ABCEDFGHIJKLMNÑOPQRSTUVWXYZ'\n",
    "print(len(alfabeto))\n",
    "alfabeto=' '+alfabeto+alfabeto.lower()\n",
    "print(len(alfabeto))\n",
    "print(alfabeto) "
   ]
  },
  {
   "cell_type": "markdown",
   "metadata": {},
   "source": [
    "La función de Sage, $\\verb|cifradoCesar|()$,  que se define en la siguiente celda, espera un $\\verb|texto|$ y una $\\verb|clave|$ (un entero $k$) y un $\\verb|alfabeto|$, toma uno por defecto pero se puede tomar otro al usarla. La función devuelve una cadena resultado de cambiar cada caracter en $\\verb|texto|$ por el que en el $\\verb|alfabeto|$ ocupa $k$ posiciones a su derecha (si el alfabeto se queda corto, se vuelve a empezar). Así $\\verb|cifradoCesar|(\\verb|'Calzado',5|)$ devuelve $\\verb|'HfpDfit'|$."
   ]
  },
  {
   "cell_type": "code",
   "execution_count": 2,
   "metadata": {},
   "outputs": [],
   "source": [
    "## Definición de la función cifradoCesar()\n",
    "\n",
    "def cifradoCesar(texto, clave, alfabeto=' ABCDEFGHIJKLMNÑOPQRSTUVWXYZabcdefghijklmnñopqrstuvwxyz'):\n",
    "    textocifrado=str() # Cadena vacía (también '')\n",
    "    for letra in texto:\n",
    "        if letra in alfabeto: # Si el caracter está en alfabeto, se cambia\n",
    "            letra=alfabeto[(alfabeto.index(letra)+clave)%len(alfabeto)]\n",
    "        textocifrado+=letra # Se almacena en el cifrado (cambiada o tal cual)\n",
    "    return textocifrado"
   ]
  },
  {
   "cell_type": "code",
   "execution_count": 3,
   "metadata": {},
   "outputs": [
    {
     "name": "stdout",
     "output_type": "stream",
     "text": [
      "HfpDfit\n"
     ]
    }
   ],
   "source": [
    "# Comprobación:\n",
    "\n",
    "print(cifradoCesar('Calzado', 5))"
   ]
  },
  {
   "cell_type": "markdown",
   "metadata": {},
   "source": [
    "¿Qué devolvería cifradoCesar('Calzado',5,'ABC')?"
   ]
  },
  {
   "cell_type": "code",
   "execution_count": 4,
   "metadata": {},
   "outputs": [
    {
     "data": {
      "text/plain": [
       "'Balzado'"
      ]
     },
     "execution_count": 4,
     "metadata": {},
     "output_type": "execute_result"
    }
   ],
   "source": [
    "cifradoCesar('Calzado',5,'ABC')"
   ]
  },
  {
   "cell_type": "code",
   "execution_count": 5,
   "metadata": {},
   "outputs": [
    {
     "name": "stdout",
     "output_type": "stream",
     "text": [
      "¡fpyr LDFpz ,LmDíLBFpLxpLG JLmLpñsmCLFymLDtpDEmLopLwmDLrCmyopD!\n"
     ]
    }
   ],
   "source": [
    "print(cifradoCesar('¡Tengo sueño, así que me voy a echar una siesta de las grandes!',12))"
   ]
  },
  {
   "cell_type": "markdown",
   "metadata": {},
   "source": [
    "## Descifrar el cifrado César\n",
    "Para **descifrar** un texto cifrado a la César basta conocer el número de lugares elegidos para desplazar cada letra (la clave) y el alfabeto utilizado. Así cifradoCesar('HfpDfit',-5) devolverá 'Calzado'."
   ]
  },
  {
   "cell_type": "markdown",
   "metadata": {},
   "source": [
    "Si conocemos el alfabeto, es fácil averiguar la clave: _basta utilizar cifradoCesar() con el texto cifrado, el alfabeto y probar distintas claves (no más de la longitud del alfabeto de ellas)'._ Este método de descifrado es lo que llamaremos **por fuerza bruta**.\n",
    "\n",
    "**Ejemplo 2.** Vamos a averiguar por fuerza bruta el texto original que produce el guardado en la cadena $\\tt texto1$ del siguiente cuadro, cifrado a la César con el juego de caracteres 'abcdefghijklmnopqrstuvwxyz' y respetando (esto es, no encriptando) espacios en blanco y signos de puntuación."
   ]
  },
  {
   "cell_type": "code",
   "execution_count": 10,
   "metadata": {
    "collapsed": false,
    "jupyter": {
     "outputs_hidden": false
    }
   },
   "outputs": [
    {
     "data": {
      "text/html": [
       "<html><script type=\"math/tex; mode=display\">\\newcommand{\\Bold}[1]{\\mathbf{#1}}\\begin{array}{l}\n",
       "\\verb|uz|\\verb| |\\verb|fmnqdzm|\\verb| |\\verb|cgmzpa|\\verb| |\\verb|egyge,|\\\\\n",
       "\\verb| |\\verb|zaz|\\verb| |\\verb|ogdmyge|\\verb| |\\verb|cgup|\\verb| |\\verb|euf|\\verb| |\\verb|tgyge,|\\\\\n",
       "\\verb| |\\verb|eqp|\\verb| |\\verb|mp|\\verb| |\\verb|xgpgy|\\verb| |\\verb|bdabqdmyge,|\\\\\n",
       "\\verb| |\\verb|ogu|\\verb| |\\verb|eqybqd|\\verb| |\\verb|uzegpmyge.|\\\\\n",
       "\\verb| |\\verb|cgup|\\verb| |\\verb|msmfgd|\\verb| |\\verb|uz|\\verb| |\\verb|fmnqdzm|\\\\\n",
       "\\verb| |\\verb|gnu|\\verb| |\\verb|zgyyge|\\verb| |\\verb|qef|\\verb| |\\verb|buzoqdzm,|\\\\\n",
       "\\verb| |\\verb|tao|\\verb| |\\verb|qef|\\verb| |\\verb|abge|\\verb| |\\verb|gf|\\verb| |\\verb|cgmqdmfgd;|\\\\\n",
       "\\verb| |\\verb|eu|\\verb| |\\verb|cgup|\\verb| |\\verb|xacgmd,|\\verb| |\\verb|mgpumfgd.|\n",
       "\\end{array}</script></html>"
      ],
      "text/latex": [
       "$$\\newcommand{\\Bold}[1]{\\mathbf{#1}}\\begin{array}{l}\n",
       "\\verb|uz|\\verb| |\\verb|fmnqdzm|\\verb| |\\verb|cgmzpa|\\verb| |\\verb|egyge,|\\\\\n",
       "\\verb| |\\verb|zaz|\\verb| |\\verb|ogdmyge|\\verb| |\\verb|cgup|\\verb| |\\verb|euf|\\verb| |\\verb|tgyge,|\\\\\n",
       "\\verb| |\\verb|eqp|\\verb| |\\verb|mp|\\verb| |\\verb|xgpgy|\\verb| |\\verb|bdabqdmyge,|\\\\\n",
       "\\verb| |\\verb|ogu|\\verb| |\\verb|eqybqd|\\verb| |\\verb|uzegpmyge.|\\\\\n",
       "\\verb| |\\verb|cgup|\\verb| |\\verb|msmfgd|\\verb| |\\verb|uz|\\verb| |\\verb|fmnqdzm|\\\\\n",
       "\\verb| |\\verb|gnu|\\verb| |\\verb|zgyyge|\\verb| |\\verb|qef|\\verb| |\\verb|buzoqdzm,|\\\\\n",
       "\\verb| |\\verb|tao|\\verb| |\\verb|qef|\\verb| |\\verb|abge|\\verb| |\\verb|gf|\\verb| |\\verb|cgmqdmfgd;|\\\\\n",
       "\\verb| |\\verb|eu|\\verb| |\\verb|cgup|\\verb| |\\verb|xacgmd,|\\verb| |\\verb|mgpumfgd.|\n",
       "\\end{array}$$"
      ],
      "text/plain": [
       "'uz fmnqdzm cgmzpa egyge,\\n zaz ogdmyge cgup euf tgyge,\\n eqp mp xgpgy bdabqdmyge,\\n ogu eqybqd uzegpmyge.\\n cgup msmfgd uz fmnqdzm\\n gnu zgyyge qef buzoqdzm,\\n tao qef abge gf cgmqdmfgd;\\n eu cgup xacgmd, mgpumfgd.'"
      ]
     },
     "metadata": {},
     "output_type": "display_data"
    }
   ],
   "source": [
    "##Descomenta y ejecuta\n",
    "load('Cesar.py')\n",
    "show(texto1)"
   ]
  },
  {
   "cell_type": "markdown",
   "metadata": {},
   "source": [
    "Aplicamos nuestra función ${\\tt cifradoCesar}()$"
   ]
  },
  {
   "cell_type": "code",
   "execution_count": 11,
   "metadata": {},
   "outputs": [
    {
     "name": "stdout",
     "output_type": "stream",
     "text": [
      "1 va gnorean dhnaqb fhzhf,\n",
      "\n",
      "2 wb hopsfbo eiobrc giaig,\n",
      "\n",
      "3 xc ipqtgcp fjpcsd hjbjh,\n",
      "\n",
      "4 yd jqruhdq gkqdte ikcki,\n",
      "\n",
      "5 ze krsvier hlreuf jldlj,\n",
      "\n",
      "6 af lstwjfs imsfvg kmemk,\n",
      "\n",
      "7 bg mtuxkgt jntgwh lnfnl,\n",
      "\n",
      "8 ch nuvylhu kouhxi mogom,\n",
      "\n",
      "9 di ovwzmiv lpviyj nphpn,\n",
      "\n",
      "10 ej pwxanjw mqwjzk oqiqo,\n",
      "\n",
      "11 fk qxybokx nrxkal prjrp,\n",
      "\n",
      "12 gl ryzcply osylbm qsksq,\n",
      "\n",
      "13 hm szadqmz ptzmcn rtltr,\n",
      "\n",
      "14 in taberna quando sumus,\n",
      "\n",
      "15 jo ubcfsob rvboep tvnvt,\n",
      "\n",
      "16 kp vcdgtpc swcpfq uwowu,\n",
      "\n",
      "17 lq wdehuqd txdqgr vxpxv,\n",
      "\n",
      "18 mr xefivre uyerhs wyqyw,\n",
      "\n",
      "19 ns yfgjwsf vzfsit xzrzx,\n",
      "\n",
      "20 ot zghkxtg wagtju yasay,\n",
      "\n",
      "21 pu ahilyuh xbhukv zbtbz,\n",
      "\n",
      "22 qv bijmzvi ycivlw acuca,\n",
      "\n",
      "23 rw cjknawj zdjwmx bdvdb,\n",
      "\n",
      "24 sx dklobxk aekxny cewec,\n",
      "\n",
      "25 ty elmpcyl bflyoz dfxfd,\n",
      "\n"
     ]
    }
   ],
   "source": [
    "abc='abcdefghijklmnopqrstuvwxyz'#alfabeto a utilizar\n",
    "for k in [1..len(abc)-1]:#Posibles claves\n",
    "    print(k, cifradoCesar(texto1[:25], k,abc))"
   ]
  },
  {
   "cell_type": "code",
   "execution_count": 14,
   "metadata": {},
   "outputs": [
    {
     "name": "stdout",
     "output_type": "stream",
     "text": [
      "in taberna quando sumus,\n",
      " non curamus quid sit humus,\n",
      " sed ad ludum properamus,\n",
      " cui semper insudamus.\n",
      " quid agatur in taberna\n",
      " ubi nummus est pincerna,\n",
      " hoc est opus ut quaeratur;\n",
      " si quid loquar, audiatur.\n"
     ]
    },
    {
     "data": {
      "text/plain": [
       "55"
      ]
     },
     "execution_count": 14,
     "metadata": {},
     "output_type": "execute_result"
    }
   ],
   "source": [
    "original=cifradoCesar(texto1,14,abc)\n",
    "print(original)\n",
    "len(alfabeto)"
   ]
  },
  {
   "cell_type": "code",
   "execution_count": 17,
   "metadata": {},
   "outputs": [
    {
     "data": {
      "text/plain": [
       "True"
      ]
     },
     "execution_count": 17,
     "metadata": {},
     "output_type": "execute_result"
    }
   ],
   "source": [
    "# Comprobamos\n",
    "# Si la contraclave es 14, la clave es -14, que es lo mismo que 12 en  ℤ26 (26 es la longitud del alfabeto utilizado).\n",
    "cifradoCesar(original,12,abc)==texto1"
   ]
  },
  {
   "cell_type": "markdown",
   "metadata": {},
   "source": [
    "## Otros cifrados de sustitución simple\n",
    "Veamos otro ejemplo de cifrado de sustitución simple que usa el orden definido por el alfabeto para describir el algoritmo.\n",
    "\n",
    "**Ejercicio 1. (Cifrado afín)** Implementa una función para cifrar y descifrar textos usando como clave una pareja $(a,b)$ de enteros $0\\le a,b\\le L$ según la regla:\n",
    "\"Cambia el carácter de índice $j$ por el carácter de índice $(a*j+b)\\pmod{L}$, con $L={{\\tt len}}$(alfabeto).\n",
    "\n",
    "_Nota_: Puesto que se quiere que el encriptado se pueda deshacer, ¿qué parejas $(a,b)$ son aceptables como claves del cifrado?"
   ]
  },
  {
   "cell_type": "code",
   "execution_count": 18,
   "metadata": {},
   "outputs": [],
   "source": [
    "def cifrado_afin(texto, a, b, alfabeto=' ABCDEFGHIJKLMNÑOPQRSTUVWXYZabcdefghijklmnñopqrstuvwxyz'):\n",
    "    if gcd(a, len(alfabeto))!=1:        # En este caso, salimos del programa...\n",
    "        print('La clave no es válida')  # ...con este mensaje explicativo...\n",
    "        return None                     # ... y con ningún resultado.\n",
    "    textocifrado=str()\n",
    "    for letra in texto:\n",
    "        if letra in alfabeto:           # Solo cambia si está en alfabeto\n",
    "            letra=alfabeto[(alfabeto.index(letra)*a+b)%len(alfabeto)]  # El cambio\n",
    "        textocifrado+=letra\n",
    "    return textocifrado"
   ]
  },
  {
   "cell_type": "code",
   "execution_count": 19,
   "metadata": {},
   "outputs": [
    {
     "name": "stdout",
     "output_type": "stream",
     "text": [
      "CNQRoplVGeVa,GUNQRoplVGeAphV\n",
      "Cifrando voy, cifrando vengo\n"
     ]
    },
    {
     "data": {
      "text/plain": [
       "True"
      ]
     },
     "execution_count": 19,
     "metadata": {},
     "output_type": "execute_result"
    }
   ],
   "source": [
    "a,b=17,7\n",
    "original='Cifrando voy, cifrando vengo'\n",
    "texto_cifrado=cifrado_afin(original,a,b)\n",
    "print(texto_cifrado)\n",
    "texto_descifrado=cifrado_afin(texto_cifrado, (a^(-1))%55, (-b*a^(-1))%55)\n",
    "print(texto_descifrado)\n",
    "original==texto_descifrado"
   ]
  },
  {
   "cell_type": "markdown",
   "metadata": {},
   "source": [
    "## Cifrado de permutación\n",
    "\n",
    "En el cifrado de permutación, se usa una biyección arbitraria del conjunto de letras del alfabeto elegido.\n",
    "\n",
    "**Ejercicio 2.-** Fijado un alfabeto, se pide crear una función ${\\tt cifradoPermutacion}()$ con dos argumentos, \n",
    "un ${\\tt texto}$ y una ${\\tt clave}$. Esta última será una permutación, dada como diccionario, del conjunto de caracteres de un ${\\tt alfabeto}$ previamente fijado. La función devolverá el texto resultado de cambiar, en ${\\tt texto}$, cada letra por su imagen por la permutación  (la ${\\tt clave}$) dada. \n",
    "\n",
    "Recursos de ayuda: ${\\tt Permutations}()$, $.{\\tt random}\\_{\\tt element}()$ y ${\\tt join}()$."
   ]
  },
  {
   "cell_type": "code",
   "execution_count": 30,
   "metadata": {
    "collapsed": false,
    "jupyter": {
     "outputs_hidden": false
    }
   },
   "outputs": [
    {
     "name": "stdout",
     "output_type": "stream",
     "text": [
      "['Z', 'M', 'h', 'Y', 's', 'P', 'K', 'N', 'q', 'w', 'p', 'E', 'J', 'c', 'r', 'U', 'G', 'k', 'V', 'y', 'X', 't', 'I', 'O', 'R', 'a', 'u', 'd', 'ñ', 'l', 'A', 'z', 'm', 'v', 'B', 'f', 'e', ' ', 'C', 'L', 'x', 'W', 'Q', 'o', 'F', 'g', 'S', 'H', 'j', 'D', 'i', 'n', 'Ñ', 'T', 'b']\n",
      "ZMhYsPKNqwpEJcrUGkVyXtIORaudñlAzmvBfe CLxWQoFgSHjDinÑTb\n"
     ]
    }
   ],
   "source": [
    "## Ejecuta y observa\n",
    "\n",
    "alfabeto=' ABCDEFGHIJKLMNÑOPQRSTUVWXYZabcdefghijklmnñopqrstuvwxyz'\n",
    "permus=Permutations(alfabeto)\n",
    "perm=permus.random_element()\n",
    "print(perm)\n",
    "print(''.join(perm))"
   ]
  },
  {
   "cell_type": "code",
   "execution_count": 36,
   "metadata": {},
   "outputs": [],
   "source": [
    "def cifradoPermutacion(texto, clave):\n",
    "    texto_cifrado = ''\n",
    "    for letra in texto:\n",
    "        if letra in clave:\n",
    "            letra = clave[letra]\n",
    "        texto_cifrado += letra\n",
    "    return texto_cifrado"
   ]
  },
  {
   "cell_type": "markdown",
   "metadata": {},
   "source": [
    "Prueba tu función ${\\tt cifradoPermutacion}()$ con la cadena ${\\tt ejemplar}$, que se genera al ejecutar la siguiente celda, con una permutacion, un diccionario ${\\tt F}$, tomada al azar de entre las permutaciones del diccionario del alfabeto\n",
    "> ' ABCDEFGHIJKLMNÑOPQRSTUVWXYZabcdefghijklmnñopqrstuvwxyz'"
   ]
  },
  {
   "cell_type": "code",
   "execution_count": 37,
   "metadata": {},
   "outputs": [
    {
     "name": "stdout",
     "output_type": "stream",
     "text": [
      "111924\n",
      "LA ILUSTRE FREGONA\n",
      " \n",
      " En Búrgos, ciudad ilustre y famosa, no ha muchos años que en ella\n",
      " vivian dos caballeros principales y ricos: el uno se llamaba \n"
     ]
    }
   ],
   "source": [
    "# Ejecuta para cargar el texto\n",
    "\n",
    "load('novela.py')\n",
    "print(len(ejemplar))\n",
    "print(ejemplar[:150])"
   ]
  },
  {
   "cell_type": "code",
   "execution_count": 43,
   "metadata": {},
   "outputs": [],
   "source": [
    "def permutacion_aleatoria(A):\n",
    "    # De todas las permutaciones del conjunto nos quedamos con una.\n",
    "    L = Permutations(A)\n",
    "    permutacion = L.random_element()\n",
    "   \n",
    "    # Creamos el diccionario de A en si mismo con esa permutación.\n",
    "    diccionario = dict(zip(A, permutacion))\n",
    "    return diccionario"
   ]
  },
  {
   "cell_type": "code",
   "execution_count": 48,
   "metadata": {},
   "outputs": [
    {
     "name": "stdout",
     "output_type": "stream",
     "text": [
      "dFbldkShoKbQoKHYcF\n",
      "b\n",
      "bKUbaún xE,bPÑRMjMbÑñREGnfbwbJjpxEj,bUxbrjbpRPrxEbjuxEbzRfbfUbfññj\n",
      "beÑeÑjUbMxEbPjgjññfnxEbTnÑUPÑTjñfEbwbnÑPxE:bfñbRUxbEfbññjpjgjb\n"
     ]
    }
   ],
   "source": [
    "alfabeto = ' ABCDEFGHIJKLMNÑOPQRSTUVWXYZabcdefghijklmnñopqrstuvwxyz'\n",
    "clave = permutacion_aleatoria(alfabeto)\n",
    "\n",
    "texto_cifrado = cifradoPermutacion(ejemplar, clave)\n",
    "print(texto_cifrado[:150])"
   ]
  },
  {
   "cell_type": "markdown",
   "metadata": {},
   "source": [
    "Conocida la permutación usada para encriptar (o, lo que es lo mismo, el diccionario asociado), desencriptar es tanto como construir el diccionario inverso (la *contraclave*), y aplicar de nuevo el proceso de cifrado usando esta *contraclave* como clave.\n",
    "\n",
    "Intenta recuperar la cadena *ejemplar* original por este método."
   ]
  },
  {
   "cell_type": "code",
   "execution_count": 50,
   "metadata": {},
   "outputs": [
    {
     "name": "stdout",
     "output_type": "stream",
     "text": [
      "LA ILUSTRE FREGONA\n",
      " \n",
      " En Búrgos, ciudad ilustre y famosa, no ha muchos años que en ella\n",
      " vivian dos caballeros principales y ricos: el uno se llamaba \n"
     ]
    }
   ],
   "source": [
    "contraclave=dict(zip(clave.values(),clave.keys()))\n",
    "textodescifrado=cifradoPermutacion(texto_cifrado, contraclave)\n",
    "print(textodescifrado[:150])"
   ]
  },
  {
   "cell_type": "markdown",
   "metadata": {},
   "source": [
    "## Descifrado del cifrado de permutación. Análisis de frecuencias\n",
    "\n",
    "Intentar descifrar por fuerza bruta un texto cifrado por un cifrado de permutación no parece una opción muy sensata: ¿cuántas claves posibles hay cuando se usa el alfabeto que has usado en el ejercicio anterior?\n",
    "\n"
   ]
  },
  {
   "cell_type": "code",
   "execution_count": 51,
   "metadata": {
    "collapsed": false,
    "jupyter": {
     "outputs_hidden": false
    }
   },
   "outputs": [
    {
     "name": "stdout",
     "output_type": "stream",
     "text": [
      "55\n",
      "12696403353658275925965100847566516959580321051449436762275840000000000000\n"
     ]
    }
   ],
   "source": [
    "# Ejecuta\n",
    "\n",
    "alfabeto=' ABCDEFGHIJKLMNÑOPQRSTUVWXYZabcdefghijklmnñopqrstuvwxyz'\n",
    "print(len(alfabeto))\n",
    "print(factorial(len(alfabeto)))"
   ]
  },
  {
   "cell_type": "markdown",
   "metadata": {},
   "source": [
    "Sin embargo, una idea ingeniosa empieza por hacer un _análisis de frecuencias_, especialmente útil si el texto codificado es suficientemente largo (o si tenemos varios textos que sabemos que han sido codificados por el mismo método). \n",
    "\n",
    "La idea es comparar las frecuencias de aparición de los caracteres del texto codificado (frecuencia=número de repeticiones de dicho carácter) con un modelo de las frecuencias que los caracteres suelen presentar en los textos del idioma en el que se sospecha está escrito el mensaje original. Se apuesta a que el carácter más frecuente del texto encriptado\n",
    "está sustituyendo al carácter que es habitualmente el más frecuente en ese idioma, que el segundo carácter más frecuente del texto encriptado esté sustituyendo al que es habitualmente el segundo carácter más frecuente, etcétera. Obviamente, para que esto esté cerca de ser verdad se necesita que el texto sea muy largo, para que haya esperanza de que las frecuencias del texto sean un reflejo de las frecuencias prototípicas.\n",
    "\n",
    "Antes de realizar esta tarea, entrenemos las herramientas necesarias para el análisis de frecuencias para cadenas de caracteres.\n",
    "\n",
    "**Ejercicio 3.**\n",
    "a) Escribe una función ${\\tt Frecuencias}\\_{\\tt texto}()$, que a partir de un ${\\tt texto}$  y un ${\\tt alfabeto}$ nos devuelva una lista (o un diccionario) de pares $({\\tt caracter, frecuencia})$ para cada ${\\tt caracter}$ del ${\\tt alfabeto}$ (poner uno por defecto en la definición). La función no debe tomar como distintos el mismo carácter en mayúsculas o en minúsculas ($.{\\tt upper}()$ o $.{\\tt lower}()$ pueden ser útiles).\n"
   ]
  },
  {
   "cell_type": "code",
   "execution_count": 52,
   "metadata": {},
   "outputs": [],
   "source": [
    "##función Frecuencias_texto (utilizando el método .count())\n",
    "def Frecuencias_texto(texto, alfabeto='ABCDEFGHIJKLMNÑOPQRSTUVWXYZ'):\n",
    "    diccio=dict()\n",
    "    textomay=texto.upper()\n",
    "    for letra in alfabeto:\n",
    "        diccio[letra]=textomay.count(letra)\n",
    "    return diccio"
   ]
  },
  {
   "cell_type": "code",
   "execution_count": 53,
   "metadata": {},
   "outputs": [
    {
     "name": "stdout",
     "output_type": "stream",
     "text": [
      "{'A': 2, 'B': 0, 'C': 0, 'D': 0, 'E': 1, 'F': 0, 'G': 0, 'H': 1, 'I': 0, 'J': 2, 'K': 1, 'L': 0, 'M': 0, 'N': 0, 'Ñ': 0, 'O': 0, 'P': 0, 'Q': 0, 'R': 4, 'S': 0, 'T': 0, 'U': 0, 'V': 0, 'W': 1, 'X': 0, 'Y': 0, 'Z': 0}\n"
     ]
    }
   ],
   "source": [
    "print(Frecuencias_texto('kwjherrrrJAa'))"
   ]
  },
  {
   "cell_type": "code",
   "execution_count": 54,
   "metadata": {},
   "outputs": [],
   "source": [
    "## función Frecuencias_texto (sin utilizar el método .count(), no se necesita un alfabeto)\n",
    "\n",
    "def Frecuencias_texto(texto):\n",
    "    diccio=dict()\n",
    "    textomay=texto.upper()\n",
    "    for letra in textomay:\n",
    "        if letra not in diccio:\n",
    "            diccio[letra]=0\n",
    "        diccio[letra]+=1\n",
    "    return diccio"
   ]
  },
  {
   "cell_type": "code",
   "execution_count": 55,
   "metadata": {},
   "outputs": [
    {
     "name": "stdout",
     "output_type": "stream",
     "text": [
      "{'K': 1, 'W': 1, 'J': 2, 'H': 1, 'E': 1, 'R': 4, 'A': 2}\n"
     ]
    }
   ],
   "source": [
    "print(Frecuencias_texto('kwjherrrrJAa'))"
   ]
  },
  {
   "cell_type": "markdown",
   "metadata": {},
   "source": [
    "b) Utiliza la función del apartado anterior con algún texto suficientemente largo (por ejemplo, el del ejercicio anterior), y ordena las parejas $({\\tt caracter, frecuencia})$ de mayor a menor por las frecuencias. \n"
   ]
  },
  {
   "cell_type": "code",
   "execution_count": 56,
   "metadata": {},
   "outputs": [
    {
     "name": "stdout",
     "output_type": "stream",
     "text": [
      "{'L': 4928, 'A': 10337, ' ': 21335, 'I': 4204, 'U': 4098, 'S': 6543, 'T': 2982, 'R': 5228, 'E': 11215, 'F': 378, 'G': 994, 'O': 7777, 'N': 5351, '\\n': 2145, 'B': 1219, 'Ú': 54, ',': 1951, 'C': 3070, 'D': 4569, 'Y': 1167, 'M': 2273, 'H': 1081, 'Ñ': 265, 'Q': 1549, 'V': 920, 'P': 1941, ':': 231, '.': 480, 'Z': 431, 'J': 496, 'Á': 837, 'Ó': 544, 'É': 454, 'Í': 238, ';': 162, '¡': 17, '!': 17, 'Ü': 28, '_': 18, 'Æ': 1, '«': 2, '-': 292, '»': 2, '¿': 44, '?': 44, '(': 6, ')': 6}\n"
     ]
    }
   ],
   "source": [
    "print(Frecuencias_texto(ejemplar))"
   ]
  },
  {
   "cell_type": "code",
   "execution_count": 57,
   "metadata": {},
   "outputs": [
    {
     "name": "stdout",
     "output_type": "stream",
     "text": [
      "[(21335, ' '), (11215, 'E'), (10337, 'A'), (7777, 'O'), (6543, 'S'), (5351, 'N'), (5228, 'R'), (4928, 'L'), (4569, 'D'), (4204, 'I'), (4098, 'U'), (3070, 'C'), (2982, 'T'), (2273, 'M'), (2145, '\\n'), (1951, ','), (1941, 'P'), (1549, 'Q'), (1219, 'B'), (1167, 'Y'), (1081, 'H'), (994, 'G'), (920, 'V'), (837, 'Á'), (544, 'Ó'), (496, 'J'), (480, '.'), (454, 'É'), (431, 'Z'), (378, 'F'), (292, '-'), (265, 'Ñ'), (238, 'Í'), (231, ':'), (162, ';'), (54, 'Ú'), (44, '¿'), (44, '?'), (28, 'Ü'), (18, '_'), (17, '¡'), (17, '!'), (6, ')'), (6, '('), (2, '»'), (2, '«'), (1, 'Æ')]\n"
     ]
    }
   ],
   "source": [
    "frecs=Frecuencias_texto(ejemplar)\n",
    "listafrec=[(frecs[k], k) for k in frecs.keys()]\n",
    "listafrec.sort(reverse=true)\n",
    "print(listafrec)"
   ]
  },
  {
   "cell_type": "code",
   "execution_count": 58,
   "metadata": {},
   "outputs": [
    {
     "data": {
      "text/plain": [
       "' EAOSNRLDIUCTM\\n,PQBYHGVÁÓJ.ÉZF-ÑÍ:;Ú¿?Ü_¡!)(»«Æ'"
      ]
     },
     "execution_count": 58,
     "metadata": {},
     "output_type": "execute_result"
    }
   ],
   "source": [
    "''.join([letra for frec,letra in listafrec])"
   ]
  },
  {
   "cell_type": "markdown",
   "metadata": {},
   "source": [
    "c) Compara si los $6$ caracteres más frecuentes del texto coinciden con el modelo de frecuencias de un texto típico en español (para saber cuáles son, puedes consultar la entrada sobre [Frecuencia de aparición de letras](https://es.wikipedia.org/wiki/Frecuencia_de_aparici%C3%B3n_de_letras) de la Wikipedia). \n"
   ]
  },
  {
   "cell_type": "code",
   "execution_count": 59,
   "metadata": {},
   "outputs": [
    {
     "data": {
      "text/plain": [
       "111924"
      ]
     },
     "execution_count": 59,
     "metadata": {},
     "output_type": "execute_result"
    }
   ],
   "source": [
    "sumatotal=sum([listafrec[k][0] for k in xsrange(len(listafrec))])\n",
    "sumatotal"
   ]
  },
  {
   "cell_type": "code",
   "execution_count": 60,
   "metadata": {},
   "outputs": [
    {
     "name": "stdout",
     "output_type": "stream",
     "text": [
      "E 10.0\n",
      "A 9.24\n",
      "O 6.95\n",
      "S 5.85\n",
      "N 4.78\n",
      "R 4.67\n"
     ]
    }
   ],
   "source": [
    "for k in xsrange(1,7):\n",
    "    #print listafrec[k][0]\n",
    "    print(listafrec[k][1],  (listafrec[k][0]*100/sumatotal).n(digits=3))"
   ]
  },
  {
   "cell_type": "markdown",
   "metadata": {},
   "source": [
    "**Observación importante** \n",
    "\n",
    "El objetivo del análisis de frecuencias que acabamos de hacer era estudiar qué letras se usan más en castellano. Por esa razón no hemos distinguido entre mayúsculas y minúsculas. Pero al hacer un análisis de frecuencias en un texto encriptado, *sí* que hay que hacer la distinción, porque en general las versiones mayúscula y minúscula de una letra no se van a codificar con la misma letra. Para textos largos la proporción de mayúsculas no es relevante, con lo que el _ranking_ de frecuencias no variará significativamente. Implementa $\\texttt{Frecuencias$\\_$texto}()$ para que sí distinga entre mayúsculas y minúsculas."
   ]
  },
  {
   "cell_type": "code",
   "execution_count": 61,
   "metadata": {},
   "outputs": [
    {
     "name": "stdout",
     "output_type": "stream",
     "text": [
      "{'k': 1, 'w': 1, 'j': 1, 'h': 1, 'e': 1, 'r': 4, 'J': 1, 'A': 1, 'a': 1}\n"
     ]
    }
   ],
   "source": [
    "def Frecuencias_texto(texto):\n",
    "    diccio=dict()\n",
    "    for letra in texto:\n",
    "        if letra not in diccio:\n",
    "            diccio[letra]=0\n",
    "        diccio[letra]+=1\n",
    "    return diccio\n",
    "\n",
    "print(Frecuencias_texto('kwjherrrrJAa'))"
   ]
  },
  {
   "cell_type": "markdown",
   "metadata": {},
   "source": [
    "**Ejercicio 4.** Hemos interceptado cierto texto, cifrado mediante un método de sustitución simple (aparece en la siguiente celda de código). Sabemos que el texto original estaba escrito en español, todo en letras mayúsculas y solo se han sustituido las letras. Intentar averiguar el texto original usando un análisis de frecuencias. Las frecuencias con las que suelen aparecer las distintas letras del alfabeto en textos escritos en español se puede consultar por ejemplo en: \n",
    "\n",
    "[Frecuencia de aparición de letras](https://es.wikipedia.org/wiki/Frecuencia_de_aparición_de_letras)\n",
    "\n",
    "_Nota_: al evaluar la siguiente casilla quedará guardado el texto interceptado en la variable encriptado (una cadena larga de caracteres)."
   ]
  },
  {
   "cell_type": "code",
   "execution_count": 84,
   "metadata": {
    "collapsed": false,
    "jupyter": {
     "outputs_hidden": false
    }
   },
   "outputs": [
    {
     "name": "stdout",
     "output_type": "stream",
     "text": [
      "24065\n",
      "EQLMXL LJ OK JILSOK  LJ OK ZVYQMIAKA VZJZ LO XIESML AL QJ XLOLHZJZ. ALVGQLV AL FQL TQSZ VZJKAZ XMLV ULYLV, VL ZRZ LO YTIMMIAZ AL OZV EQLOOLV AL QJK YKEK; QJZV ALAZV GKOGKMZJ VZSML OK EKALMK, KOPZ GLFQ\n"
     ]
    }
   ],
   "source": [
    "## Ejecuta para cargar el texto cifrado\n",
    "\n",
    "load('Secreto.py')\n",
    "print(len(encriptado))\n",
    "print(encriptado[:200])"
   ]
  },
  {
   "cell_type": "code",
   "execution_count": 85,
   "metadata": {},
   "outputs": [
    {
     "name": "stdout",
     "output_type": "stream",
     "text": [
      "['', 'E', 'A', 'O', 'S', 'R', 'N', 'I', 'D', 'L', 'C', 'T', 'U', 'M', 'P', 'B', 'G', 'V', 'Y', 'Q', 'H', 'F', 'Z', 'J', 'Ñ', 'X', 'K', 'W']\n"
     ]
    },
    {
     "data": {
      "text/plain": [
       "'EAOSRNIDLCTUMPBGVYQHFZJÑXKW'"
      ]
     },
     "execution_count": 85,
     "metadata": {},
     "output_type": "execute_result"
    }
   ],
   "source": [
    "modelo=', E, A, O, S, R, N, I, D, L, C, T, U, M, P, B, G, V, Y, Q, H, F, Z, J, Ñ, X, K, W'\n",
    "Lmodelo=modelo.split(', ')\n",
    "print(Lmodelo)\n",
    "modelo=''.join(Lmodelo)\n",
    "modelo"
   ]
  },
  {
   "cell_type": "markdown",
   "metadata": {},
   "source": [
    "### **Propuesta de estrategia para descifrar**\n",
    "\n",
    "La idea es seguir los pasos siguientes:\n",
    "\n",
    "- Queremos descifrar el texto, hallando la contraclave, que es la biyección inversa a la que está dada por la permutación que se usó para cifrar (que es desconocida para nosotros).\n",
    "\n",
    "*Paso 1*.- Crea una biyección que asocie a la lista de caracteres que aparecen en el texto cifrado, ordenados de mayor a menor frecuencia, la lista de caracteres ordenada según son las frecuencias típicas de los textos en castellano (aquí te será útil el apartado anterior para ordenar los caracteres según  su frecuencia en tu texto, y tendrás que consultar de nuevo la referencia sobre [Frecuencia de letras](https://es.wikipedia.org/wiki/Frecuencia_de_aparición_de_letras)). Llama a esta biyección (es decir, al correspondiente diccionario) *contraclave*.\n",
    "\n",
    "Si diera la inmensa casualidad de que el texto que estamos descifrando reflejase exactamente las frecuencias de la Wikipedia, aplicando un cifrado de permutación a *encriptado* usando *contraclave* como clave tendríamos un *textomejor* totalmente legible, que sería ya el texto descifrado. \n",
    "\n",
    "*Paso 2*.- En la práctica es casi imposible haber tenido tanta suerte, pero el *textomejor* obtenido ya empezará a ser un poco legible (te aconsejo que, como el texto es muy largo, inspecciones siempre solamente un trozo de él). De aquí en adelante lo que vamos a hacer es inspeccionar *textomejor* (que está \"a medio descifrar\") para intentar adivinar una sustitución concreta de una letra por otra que nos parezca que vaya desencriptando aún más el texto.\n",
    "\n",
    "Conviene escribir una función cambio(letra1, letra2, alfabeto), que produzca un diccionario que intercambia letra1 y letra2 pero deja el resto de letras del alfabeto sin cambiar.\n",
    "\n",
    "*Paso 3*.- Mira el fragmento inicial de *textomejor* para decidir qué letra1 y letra2 vas a intercambiar (las palabras pequeñas suelen dar buenas pistas). Puedes aplicar el cifrado de permutación con clave cambio a *textomejor* o, mejor aún, aplicar la composición de contraclave con cambio a *encriptado* (puedes llamar a esa composición de nuevo contraclave, pues es tu segunda apuesta sobre cuál es la contraclave real). Puedes llamar al texto resultante de nuevo textomejor.\n",
    "\n",
    "*Paso 4*.- Itera el proceso hasta que llegue un momento en que textomejor sea el texto real, totalmente legible, que había sido codificado. En ese instante, si has ido modificando el diccionario contraclave componiendo con los sucesivos \"cambios\" de pares de letras, contraclave tendrá ciertamente el diccionario inverso a la clave que se empleó para cifrar. Habrás terminado el hackeo.\n",
    "\n",
    "Idea: para asegurarnos de que todas las letras han vuelto a su estado original (contraclave está completa), podemos mirar sobre la primera parte del texto que contenga, al menos una vez, todos y cada uno de los caracteres que aparecen.\n"
   ]
  },
  {
   "cell_type": "code",
   "execution_count": 86,
   "metadata": {},
   "outputs": [
    {
     "name": "stdout",
     "output_type": "stream",
     "text": [
      "[(4485, ' '), (2419, 'L'), (2312, 'K'), (1895, 'Z'), (1327, 'V'), (1169, 'O'), (1167, 'J'), (1098, 'M'), (1038, 'I'), (1000, 'A'), (850, 'X'), (819, 'Q'), (671, 'Y'), (506, 'E'), (457, 'G'), (388, 'S'), (343, '.'), (268, ','), (257, 'R'), (234, 'T'), (219, 'U'), (213, 'P'), (199, '—'), (186, 'F'), (152, 'D'), (87, 'N'), (75, 'H'), (49, '¿'), (49, '?'), (31, 'Ñ'), (29, ':'), (20, 'W'), (10, '¡'), (10, '!'), (6, 'B'), (5, 'C'), (4, '»'), (4, '«'), (4, ';'), (3, '-'), (2, '0'), (1, 'Ú'), (1, '8'), (1, '5'), (1, '4'), (1, '3')]\n"
     ]
    }
   ],
   "source": [
    "#Paso 1\n",
    "frecs=Frecuencias_texto(encriptado)\n",
    "listafrec=[(frecs[k], k) for k in frecs.keys()]\n",
    "listafrec.sort(reverse=true)\n",
    "print(listafrec)"
   ]
  },
  {
   "cell_type": "code",
   "execution_count": 87,
   "metadata": {},
   "outputs": [
    {
     "name": "stdout",
     "output_type": "stream",
     "text": [
      "[(2419, 'L'), (2312, 'K'), (1895, 'Z'), (1327, 'V'), (1169, 'O'), (1167, 'J'), (1098, 'M'), (1038, 'I'), (1000, 'A'), (850, 'X'), (819, 'Q'), (671, 'Y'), (506, 'E'), (457, 'G'), (388, 'S'), (257, 'R'), (234, 'T'), (219, 'U'), (213, 'P'), (186, 'F'), (152, 'D'), (87, 'N'), (75, 'H'), (31, 'Ñ'), (20, 'W'), (6, 'B'), (5, 'C')]\n"
     ]
    }
   ],
   "source": [
    "#Solo interesan los caracteres que se encriptaron\n",
    "listafrec=[(frec,car) for frec,car in listafrec if car in 'ABCDEFGHIJKLMNÑOPQRSTUVWXYZ']\n",
    "print(listafrec)"
   ]
  },
  {
   "cell_type": "code",
   "execution_count": 67,
   "metadata": {},
   "outputs": [],
   "source": [
    "# Del ránking de frecuencias que aparece en el texto encriptado, si el texto original se ajustase a un texto prototipo, \n",
    "# la permutación utilizada habría convertido el modelo:\n",
    "# 𝙴𝙰𝙾𝚂𝚁𝙽𝙸𝙳𝙻𝙲𝚃𝚄𝙼𝙿𝙱𝙶𝚅𝚈𝚀𝙷𝙵𝚉𝙹Ñ𝚇𝙺𝚆\n",
    "# en la cadena  𝚒𝚖𝚊𝚐𝚎𝚗 que otenemos en la siguiente celda:"
   ]
  },
  {
   "cell_type": "code",
   "execution_count": 88,
   "metadata": {},
   "outputs": [
    {
     "name": "stdout",
     "output_type": "stream",
     "text": [
      "LKZVOJMIAXQYEGSRTUPFDNHÑWBC\n"
     ]
    }
   ],
   "source": [
    "imagen=''\n",
    "for k in xsrange(len(listafrec)):\n",
    "    imagen+=listafrec[k][1]\n",
    "print(imagen)"
   ]
  },
  {
   "cell_type": "code",
   "execution_count": 89,
   "metadata": {},
   "outputs": [
    {
     "name": "stdout",
     "output_type": "stream",
     "text": [
      "{'L': 'E', 'K': 'A', 'Z': 'O', 'V': 'S', 'O': 'R', 'J': 'N', 'M': 'I', 'I': 'D', 'A': 'L', 'X': 'C', 'Q': 'T', 'Y': 'U', 'E': 'M', 'G': 'P', 'S': 'B', 'R': 'G', 'T': 'V', 'U': 'Y', 'P': 'Q', 'F': 'H', 'D': 'F', 'N': 'Z', 'H': 'J', 'Ñ': 'Ñ', 'W': 'X', 'B': 'K', 'C': 'W'}\n",
      "True\n",
      "True\n"
     ]
    }
   ],
   "source": [
    "# Empezamos así nuestro descifrado utilizando el siguiente diccionario  𝚌𝚘𝚗𝚝𝚛𝚊𝚌𝚕𝚊𝚟𝚎, que revierte la permutación  𝚌𝚕𝚊𝚟𝚎\n",
    "# suponiendo que el texto original se ajustaba al modelo de frecuencias.\n",
    "\n",
    "contraclave=dict(zip(imagen,'EAOSRNIDLCTUMPBGVYQHFZJÑXKW'))\n",
    "print(contraclave)\n",
    "original='EAOSRNIDLCTUMPBGVYQHFZJÑXKW'\n",
    "print(len(original)==len(contraclave))\n",
    "print(len(original)==len(imagen))"
   ]
  },
  {
   "cell_type": "code",
   "execution_count": 90,
   "metadata": {},
   "outputs": [],
   "source": [
    "#Recuperamos aquí el código para cifrar con una permutación\n",
    "def cifradoPermutacion(texto, clave):\n",
    "    textocifrado=''\n",
    "    for letra in texto:\n",
    "        if letra in clave:\n",
    "            letra=clave[letra]\n",
    "        textocifrado+=letra\n",
    "    return textocifrado"
   ]
  },
  {
   "cell_type": "code",
   "execution_count": 91,
   "metadata": {},
   "outputs": [
    {
     "data": {
      "text/plain": [
       "'MTEICE EN RA NDEBRA  EN RA OSUTIDLAL SONO ER CDMBIE LE TN CEREJONO. LESPTES LE HTE VTBO SONALO CIES YEUES, SE OGO ER UVDIIDLO LE ROS MTERRES LE TNA UAMA; TNOS LELOS PARPAION SOBIE RA MALEIA, ARQO PEHT'"
      ]
     },
     "execution_count": 91,
     "metadata": {},
     "output_type": "execute_result"
    }
   ],
   "source": [
    "#El espacio en blanco no se ha cifrado: alfabeto de letras mayúsculas\n",
    "textomejor=cifradoPermutacion(encriptado, contraclave)\n",
    "textomejor[:200]"
   ]
  },
  {
   "cell_type": "code",
   "execution_count": 75,
   "metadata": {},
   "outputs": [],
   "source": [
    "# En el primer intento vemos que algunas de las frecuencias de las letras en el original no siguieron el modelo. Por ejemplo, la sílaba 'RA' \n",
    "# parece más razonable pensar que fuese 'LA', con lo que podemos pensar que 'R' y 'L' cambiaron su posición respecto al modelo. \n",
    "# En lo que sigue vamos a ir intercambiando, según veamos viendo el resultado, dos caracteres en la cadena  𝚘𝚛𝚒𝚐𝚒𝚗𝚊𝚕,\n",
    "# hasta que averigüemos el ránking real del texto original. Como el propósito final es el de descrifrar el texto encriptado, nuestro código \n",
    "# fabrica una nueva  𝚌𝚘𝚗𝚝𝚛𝚊𝚌𝚕𝚊𝚟𝚎 a partir de la anterior y las letras que hemos visto están intercambiadas. Así su uso será:\n",
    "# 𝚌𝚘𝚗𝚝𝚛𝚊𝚌𝚕𝚊𝚟𝚎=𝚌𝚊𝚖𝚋𝚒𝚘(𝚕𝚎𝚝𝚛𝚊𝟷,𝚕𝚎𝚝𝚛𝚊𝟸,𝚌𝚘𝚗𝚝𝚛𝚊𝚌𝚕𝚊𝚟𝚎)"
   ]
  },
  {
   "cell_type": "code",
   "execution_count": 92,
   "metadata": {},
   "outputs": [
    {
     "data": {
      "text/plain": [
       "dict_keys(['L', 'K', 'Z', 'V', 'O', 'J', 'M', 'I', 'A', 'X', 'Q', 'Y', 'E', 'G', 'S', 'R', 'T', 'U', 'P', 'F', 'D', 'N', 'H', 'Ñ', 'W', 'B', 'C'])"
      ]
     },
     "execution_count": 92,
     "metadata": {},
     "output_type": "execute_result"
    }
   ],
   "source": [
    "contraclave.keys()"
   ]
  },
  {
   "cell_type": "code",
   "execution_count": 93,
   "metadata": {},
   "outputs": [],
   "source": [
    "def cambio(letra1,letra2,contraclave):\n",
    "    clave=dict([(v,k) for k,v in contraclave.items()])\n",
    "    contraclave[clave[letra1]]=letra2\n",
    "    contraclave[clave[letra2]]=letra1\n",
    "    return contraclave"
   ]
  },
  {
   "cell_type": "code",
   "execution_count": 94,
   "metadata": {},
   "outputs": [
    {
     "data": {
      "text/plain": [
       "'MTEICE EN LA NDEBLA  EN LA OSUTIDRAR SONO EL CDMBIE RE TN CELEJONO. RESPTES RE HTE VTBO SONARO CIES YEUES, SE OGO EL UVDIIDRO RE LOS MTELLES RE TNA UAMA; TNOS REROS PALPAION SOBIE LA MAREIA, ALQO PEHT'"
      ]
     },
     "execution_count": 94,
     "metadata": {},
     "output_type": "execute_result"
    }
   ],
   "source": [
    "#paso 3\n",
    "contraclave=cambio('R','L',contraclave)\n",
    "textomejor=cifradoPermutacion(encriptado, contraclave)\n",
    "textomejor[:200]"
   ]
  },
  {
   "cell_type": "code",
   "execution_count": 95,
   "metadata": {},
   "outputs": [
    {
     "data": {
      "text/plain": [
       "'MTEDCE EN LA NIEBLA  EN LA OSUTDIRAR SONO EL CIMBDE RE TN CELEJONO. RESPTES RE HTE VTBO SONARO CDES YEUES, SE OGO EL UVIDDIRO RE LOS MTELLES RE TNA UAMA; TNOS REROS PALPADON SOBDE LA MAREDA, ALQO PEHT'"
      ]
     },
     "execution_count": 95,
     "metadata": {},
     "output_type": "execute_result"
    }
   ],
   "source": [
    "#paso 4: voy haciendo cambios\n",
    "contraclave=cambio('D','I',contraclave)\n",
    "textomejor=cifradoPermutacion(encriptado, contraclave)\n",
    "textomejor[:200]\n"
   ]
  },
  {
   "cell_type": "code",
   "execution_count": 96,
   "metadata": {},
   "outputs": [
    {
     "data": {
      "text/plain": [
       "'MTERCE EN LA NIEBLA  EN LA OSUTRIDAD SONO EL CIMBRE DE TN CELEJONO. DESPTES DE HTE VTBO SONADO CRES YEUES, SE OGO EL UVIRRIDO DE LOS MTELLES DE TNA UAMA; TNOS DEDOS PALPARON SOBRE LA MADERA, ALQO PEHT'"
      ]
     },
     "execution_count": 96,
     "metadata": {},
     "output_type": "execute_result"
    }
   ],
   "source": [
    "contraclave=cambio('R','D',contraclave)\n",
    "textomejor=cifradoPermutacion(encriptado, contraclave)\n",
    "textomejor[:200]"
   ]
  },
  {
   "cell_type": "code",
   "execution_count": 97,
   "metadata": {},
   "outputs": [
    {
     "data": {
      "text/plain": [
       "'MCERTE EN LA NIEBLA  EN LA OSUCRIDAD SONO EL TIMBRE DE CN TELEJONO. DESPCES DE HCE VCBO SONADO TRES YEUES, SE OGO EL UVIRRIDO DE LOS MCELLES DE CNA UAMA; CNOS DEDOS PALPARON SOBRE LA MADERA, ALQO PEHC'"
      ]
     },
     "execution_count": 97,
     "metadata": {},
     "output_type": "execute_result"
    }
   ],
   "source": [
    "contraclave=cambio('C','T',contraclave)\n",
    "textomejor=cifradoPermutacion(encriptado, contraclave)\n",
    "textomejor[:200]"
   ]
  },
  {
   "cell_type": "code",
   "execution_count": 98,
   "metadata": {},
   "outputs": [
    {
     "data": {
      "text/plain": [
       "'MUERTE EN LA NIEBLA  EN LA OSCURIDAD SONO EL TIMBRE DE UN TELEJONO. DESPUES DE HUE VUBO SONADO TRES YECES, SE OGO EL CVIRRIDO DE LOS MUELLES DE UNA CAMA; UNOS DEDOS PALPARON SOBRE LA MADERA, ALQO PEHU'"
      ]
     },
     "execution_count": 98,
     "metadata": {},
     "output_type": "execute_result"
    }
   ],
   "source": [
    "contraclave=cambio('C','U',contraclave)\n",
    "textomejor=cifradoPermutacion(encriptado, contraclave)\n",
    "textomejor[:200]"
   ]
  },
  {
   "cell_type": "code",
   "execution_count": 99,
   "metadata": {},
   "outputs": [
    {
     "data": {
      "text/plain": [
       "'MUERTE EN LA NIEBLA  EN LA OSCURIDAD SONO EL TIMBRE DE UN TELEFONO. DESPUES DE HUE VUBO SONADO TRES YECES, SE OGO EL CVIRRIDO DE LOS MUELLES DE UNA CAMA; UNOS DEDOS PALPARON SOBRE LA MADERA, ALQO PEHU'"
      ]
     },
     "execution_count": 99,
     "metadata": {},
     "output_type": "execute_result"
    }
   ],
   "source": [
    "contraclave=cambio('J','F',contraclave)\n",
    "textomejor=cifradoPermutacion(encriptado, contraclave)\n",
    "textomejor[:200]"
   ]
  },
  {
   "cell_type": "code",
   "execution_count": 100,
   "metadata": {},
   "outputs": [
    {
     "data": {
      "text/plain": [
       "'MUERTE EN LA NIEBLA  EN LA OSCURIDAD SONO EL TIMBRE DE UN TELEFONO. DESPUES DE QUE VUBO SONADO TRES YECES, SE OGO EL CVIRRIDO DE LOS MUELLES DE UNA CAMA; UNOS DEDOS PALPARON SOBRE LA MADERA, ALHO PEQU'"
      ]
     },
     "execution_count": 100,
     "metadata": {},
     "output_type": "execute_result"
    }
   ],
   "source": [
    "contraclave=cambio('H','Q',contraclave)\n",
    "textomejor=cifradoPermutacion(encriptado, contraclave)\n",
    "textomejor[:200]"
   ]
  },
  {
   "cell_type": "code",
   "execution_count": 101,
   "metadata": {},
   "outputs": [
    {
     "data": {
      "text/plain": [
       "'MUERTE EN LA NIEBLA  EN LA OSCURIDAD SONO EL TIMBRE DE UN TELEFONO. DESPUES DE QUE YUBO SONADO TRES VECES, SE OGO EL CYIRRIDO DE LOS MUELLES DE UNA CAMA; UNOS DEDOS PALPARON SOBRE LA MADERA, ALHO PEQU'"
      ]
     },
     "execution_count": 101,
     "metadata": {},
     "output_type": "execute_result"
    }
   ],
   "source": [
    "contraclave=cambio('Y','V',contraclave)\n",
    "textomejor=cifradoPermutacion(encriptado, contraclave)\n",
    "textomejor[:200]"
   ]
  },
  {
   "cell_type": "code",
   "execution_count": 102,
   "metadata": {},
   "outputs": [
    {
     "data": {
      "text/plain": [
       "'MUERTE EN LA NIEBLA  EN LA OSCURIDAD SONO EL TIMBRE DE UN TELEFONO. DESPUES DE QUE YUBO SONADO TRES VECES, SE OGO EL CYIRRIDO DE LOS MUELLES DE UNA CAMA; UNOS DEDOS PALPARON SOBRE LA MADERA, ALHO PEQUEXO G DURO CAGO CON RUIDO SORDO SOBRE LA ALFOMBRA, LOS MUELLES CYIRRIARON NUEVAMENTE, G UNA VOZ DE Y'"
      ]
     },
     "execution_count": 102,
     "metadata": {},
     "output_type": "execute_result"
    }
   ],
   "source": [
    "textomejor[:300]"
   ]
  },
  {
   "cell_type": "code",
   "execution_count": 103,
   "metadata": {},
   "outputs": [
    {
     "data": {
      "text/plain": [
       "'MUERTE EN LA NIEBLA  EN LA OSCURIDAD SONO EL TIMBRE DE UN TELEFONO. DESPUES DE QUE GUBO SONADO TRES VECES, SE OYO EL CGIRRIDO DE LOS MUELLES DE UNA CAMA; UNOS DEDOS PALPARON SOBRE LA MADERA, ALHO PEQUEXO Y DURO CAYO CON RUIDO SORDO SOBRE LA ALFOMBRA, LOS MUELLES CGIRRIARON NUEVAMENTE, Y UNA VOZ DE G'"
      ]
     },
     "execution_count": 103,
     "metadata": {},
     "output_type": "execute_result"
    }
   ],
   "source": [
    "contraclave=cambio('Y','G',contraclave)\n",
    "textomejor=cifradoPermutacion(encriptado, contraclave)\n",
    "textomejor[:300]"
   ]
  },
  {
   "cell_type": "code",
   "execution_count": 108,
   "metadata": {},
   "outputs": [
    {
     "data": {
      "text/plain": [
       "'MUERTE EN LA NIEBLA  EN LA OSCURIDAD SONO EL TIMBRE DE UN TELEFONO. DESPUES DE QUE GUBO SONADO TRES VECES, SE OYO EL CGIRRIDO DE LOS MUELLES DE UNA CAMA; UNOS DEDOS PALPARON SOBRE LA MADERA, ALHO PEQUEÑO Y DURO CAYO CON RUIDO SORDO SOBRE LA ALFOMBRA, LOS MUELLES CGIRRIARON NUEVAMENTE, Y UNA VOZ DE G'"
      ]
     },
     "execution_count": 108,
     "metadata": {},
     "output_type": "execute_result"
    }
   ],
   "source": [
    "contraclave=cambio('X',u'Ñ',contraclave)\n",
    "textomejor=cifradoPermutacion(encriptado, contraclave)\n",
    "textomejor[:300]"
   ]
  },
  {
   "cell_type": "code",
   "execution_count": 110,
   "metadata": {},
   "outputs": [
    {
     "name": "stdout",
     "output_type": "stream",
     "text": [
      "6982\n"
     ]
    }
   ],
   "source": [
    "tope=max([textomejor.index(letra) for letra in u'ABCDEFGHIJKLMNÑOPQRSTUVWXYZ'])\n",
    "print(tope)"
   ]
  },
  {
   "cell_type": "code",
   "execution_count": 111,
   "metadata": {},
   "outputs": [
    {
     "data": {
      "text/plain": [
       "'MUERTE EN LA NIEBLA  EN LA OSCURIDAD SONO EL TIMBRE DE UN TELEFONO. DESPUES DE QUE GUBO SONADO TRES VECES, SE OYO EL CGIRRIDO DE LOS MUELLES DE UNA CAMA; UNOS DEDOS PALPARON SOBRE LA MADERA, ALHO PEQUEÑO Y DURO CAYO CON RUIDO SORDO SOBRE LA ALFOMBRA, LOS MUELLES CGIRRIARON NUEVAMENTE, Y UNA VOZ DE GOMBRE EXCLAMO:  —¿DIHA?... SI, SOY YO... ¿MUERTO?... SI... EN QUINCE MINUTOS. HRACIAS.  SONO EL RUIDILLO DE UN INTERRUPTOR, Y LA LUZ DE UN HLOBO QUE COLHABA DEL TECGO, SOSTENIDO POR TRES CADENAS DORADAS, INUNDO EL CUARTO. SPADE, DESCALZO Y CON UN PIJAMA A CUADROS VERDES Y BLANCOS, SE SENTO SOBRE EL BORDE DE LA CAMA. MIRO MALGUMORADAMENTE AL TELEFONO QUE GABIA EN LA MESILLA MIENTRAS SUS MANOS COHIAN UN ESTUCGE DE PAPEL DE FUMAR COLOR CGOCOLATE Y UNA BOLSA DE TABACO BULL DURGAM.  UN AIRE FRIO Y MOJADO ENTRABA POR DOS VENTANAS ABIERTAS, TRAYENDO CONSIHO EL BRAMIDO DE LA SIRENA CONTRA LA NIEBLA DE ALCATRAZ, MEDIA DOCENA DE VECES POR MINUTO. UN DESPERTADOR DE RUIN METAL, CON INSEHURO ACOMODO SOBRE UNA ESQUINA DE CASOS CRIMINALES FAMOSOS DE ESTADOS UNIDOS, DE DUWE, BOCA ABAJO, MARCABA LAS DOS Y CINCO.  LOS HRUESOS DEDOS DE SPADE LIARON CON CALMOSA MINUCIOSIDAD UN CIHARRILLO, ECGANDO LA JUSTA MEDIDA DE GEBRAS MORENAS SOBRE EL PAPEL COMBADO, EXTENDIENDO LAS GEBRAS POR IHUAL EN LOS EXTREMOS Y DEJANDO UNA LIHERA DEPRESION EN EL CENTRO, GACIENDO QUE LOS PULHARES CONDUJERAN CON MOVIMIENTO ROTATORIO EL FILO INTERIOR DEL PAPEL GACIA ARRIBA Y LUEHO LO PASARAN POR DEBAJO DEL BORDE SUPERIOR, EN TANTO QUE LOS DEMAS DEDOS EJERCIAN PRESION PARA LUEHO, JUNTO CON LOS PULHARES, DESLIZARSE GASTA LAS PUNTAS DEL CILINDRO DE PAPEL Y SUJETARLAS, MIENTRAS LA LENHUA GUMEDECIA EL BORDE, AL TIEMPO QUE EL INDICE Y EL PULHAR DE LA MANO IZQUIERDA PELLIZCABAN EL EXTREMO A SU CUIDADO Y LOS DEDOS CORRESPONDIENTES DE LA MANO DERECGA ALISABAN LA GUMEDA JUNTURA, TRAS LO QUE EL INDICE Y EL PULHAR DERECGO RETORCIERON LA PUNTA QUE LES CORRESPONDIA Y LLEVARON EL CIHARRILLO GASTA LA BOCA DE SPADE.  SPADE COHIO EL ENCENDEDOR DE PIEL DE CERDO Y NIQUEL QUE SE GABIA CAIDO AL SUELO, LO GIZO FUNCIONAR Y SE PUSO EN PIE, CON EL CIHARRILLO EN UNA ESQUINA DE LA BOCA. SE QUITO EL PIJAMA. LA SUAVE HORDURA DE BRAZOS, PIERNAS Y TORSO, LA CAIDA DE LOS GOMBROS PODEROSOS Y REDONDEADOS, DABAN A SU CUERPO EL ASPECTO DE UN OSO. DE UN OSO AFEITADO: NO CRECIA VELLO EN EL PECGO. TENIA LA PIEL SUAVE Y ROSADA DE UN NIÑO CGICO.  SE RASCO LA NUCA Y COMENZO A VESTIRSE. SE PUSO UNA COMBINACION DE CAMISETA Y CALZONCILLOS, CALCETINES HRISES, LIHAS NEHRAS Y ZAPATOS COLOR DE CUERO OSCURO. ASI QUE SE GUBO ATADO LOS ZAPATOS, COHIO EL TELEFONO, LLAMO AL 4500 DE HRAYSTONE Y PIDIO UN TAXI. SE PUSO LUEHO UNA CAMISA BLANCA CON RAYAS VERDES, UN BLANCO CUELLO BLANDO, UNA CORBATA VERDE, EL TRAJE HRIS QUE GABIA LLEVADO DURANTE EL DIA, UN AMPLIO ABRIHO DE TELA ESPONJOSA Y UN SOMBRERO COLOR HRIS OSCURO. EN EL MOMENTO EN QUE SE METIA EN EL BOLSILLO EL TABACO, LAS LLAVES Y EL DINERO, SONO EL TIMBRE DE LA PUERTA. EN EL LUHAR DONDE LA BUSG STREET SIRVE DE TECGUMBRE A LA STOCWTON, ANTES DE BAJAR GACIA EL BARRIO CGINO, SPADE PAHO Y DESPIDIO EL TAXI. LA NIEBLA NOCTURNA DE SAN FRANCISCO, SUTIL, PEHAJOSA Y PENETRANTE, ESFUMINABA LA CALLE. A UNAS YARDAS DE DISTANCIA DE DONDE SPADE GABIA DESPEDIDO EL TAXI, UN PEQUEÑO HRUPO DE GOMBRES MIRABA GACIA UN CALLEJON. DOS MUJERES Y UN GOMBRE ESTABAN PARADOS EN LA OTRA ACERA DE BUSG STREET, MIRANDO TAMBIEN GACIA EL CALLEJON. SE VEIAN CARAS EN LAS VENTANAS.  SPADE CRUZO LA ACERA SORTEANDO LAS ENTRADAS ENREJADAS QUE SE ABRIAN SOBRE ESCALERAS RUINES Y DESNUDAS, LLEHO GASTA EL PRETIL Y, APOYANDO LAS MANOS SOBRE EL GUMEDO CABALLETE, MIRO GACIA ABAJO, A LA STOCWTON STREET.  DEL TUNEL QUE TENIA A SUS PIES SURHIO REPENTINAMENTE UN AUTOMOVIL, CUAL RAFAHA ESTRUENDOSA, COMO SI LE GUBIERAN DISPARADO, Y SE ALEJO VELOZ. CERCA DE LA BOCA DEL TUNEL GABIA UN GOMBRE GECGO UN BURUJO SOBRE LOS TALONES, ANTE UN CARTEL QUE ANUNCIABA UNA PELICULA Y UNA MARCA DE HASOLINA, EN EL GUECO QUE QUEDABA ENTRE LAS CASAS DE DOS PISOS. EL GOMBRE ESTABA DOBLADO CASI GASTA EL SUELO PARA PODER MIRAR POR DEBAJO DE LA CARTELERA. UNA MANO ABIERTA PUESTA SOBRE LA ACERA Y OTRA QUE SE AHARRABA AL BASTIDOR VERDE DEL ANUNCIO LE MANTENIAN EN TAN HROTESCA POSTURA. OTROS DOS GOMBRES ESTABAN DE PIE, JUNTOS, EN POSTURA FORZADA, EN UN EXTREMO DEL CARTEL, OJEANDO POR LA ANHOSTURA DE POCAS PULHADAS QUE QUEDABA ENTRE EL ANUNCIO Y EL EDIFICIO CONTIHUO. LA CASA DEL OTRO LADO TENIA UN MURO LATERAL, HRIS Y SIN VENTANAS QUE DABA AL SOLAR DE DETRAS DEL ANUNCIO. UNAS LUCES PARPADEABAN EN LA ACERA, Y UNAS SOMBRAS GUMANAS SE MOVIAN ENTRE ELLAS.  SPADE DEJO EL PRETIL Y ECGO A ANDAR BUSG STREET ARRIBA, GACIA EL CALLEJON EN DONDE ESTABA EL HRUPO. UN POLICIA UNIFORMADO, QUE MASCABA HOMA DEBAJO DE UNA PLACA ESMALTADA EN LA QUE SE LEIA «BURRITT STREET» EN LETRAS BLANCAS SOBRE UN FONDO AZUL OSCURO, EXTENDIO EL BRAZO Y PREHUNTO:  —¿QUE BUSCA USTED AQUI?  —SOY SAM SPADE. TOM POLGAUS ME GA LLAMADO POR TELEFONO.  —¡CLARO QUE ES USTED SPADE! —DIJO EL HUARDIA, BAJANDO EL BRAZO—. ASI, DE HOLPE, NO LE RECONOCI... BUENO, PUES ALLI LOS TIENE USTED —AÑADIO, SEÑALANDO CON RAPIDO ADEMAN CON EL PULHAR—. MAL ASUNTO.  —SI QUE ES MALO —DIJO SPADE, AL MISMO TIEMPO QUE ECGABA A ANDAR POR EL CALLEJON.  A MEDIO CAMINO, NO LEJOS DE LA BOCA DEL CALLEJON, ESTABA PARADA UNA AMBULANCIA DE COLOR OSCURO. AL OTRO LADO DE LA AMBULANCIA, A LA IZQUIERDA, EL CALLEJON ACABABA EN UNA VALLA, FORMADA POR LISTONES GORIZONTALES SIN CEPILLAR, QUE LLEHABA GASTA LA CINTURA. EL CALLEJON DESCENDIA EN FUERTE PENDIENTE DESDE LA VALLA GASTA EL CARTEL DE ANUNCIO DE LA STOCWTON STREET.  EL LARHUERO SUPERIOR DE LA VALLA ESTABA ARRANCADO DE UNO DE LOS POSTES Y COLHABA DEL QUE GABIA EN EL EXTREMO OPUESTO. COMO A CINCO YARDAS DE LA CIMA DE LA PENDIENTE SE VEIA UNA PIEDRA ACGATADA QUE SOBRESALIA. EN EL RECOVECO QUE FORMABA CON EL PISO AL SALIR ESTABA MILES ARCGER, CAIDO, DE ESPALDAS. DOS GOMBRES SE GALLABAN DE PIE JUNTO A EL. UNO DE ELLOS DEJABA CAER SOBRE EL MUERTO EL CGORRITO LUMINOSO DE UNA LINTERNA ELECTRICA. OTROS GOMBRES PROVISTOS DE LUCES SUBIAN Y BAJABAN LA CUESTA.  UNO DE LOS GOMBRES LE SALUDO CON UN «GOLA, SAM», Y TREPO GASTA EL CALLEJON PRECEDIDO POR SU SOMBRA, QUE CORRIO DELANTE DE EL CUESTA ARRIBA. ERA UN TIPO BARRIHUDO, ALTO, DE OJILLOS SAHACES, BOCA DE LABIOS HRUESOS Y MEJILLAS EN LAS QUE AZULEABA LA BARBA AFEITADA CON DESCUIDO. TENIA MANCGADOS DE BARRO OSCURO LOS ZAPATOS, LAS RODILLAS, EL MENTON Y LAS MANOS.  —IMAHINE QUE QUERRIAS VERLO ANTES QUE NOS LO LLEVASEMOS —DIJO AL SALVAR LA VALLA ROTA.  —HRACIAS, TOM —DIJO SPADE—. ¿QUE GA OCURRIDO?  APOYO UN CODO EN EL POSTE DE LA VALLA Y MIRO GACIA LOS GOMBRES DE ABAJO, DEVOLVIENDO EL SALUDO A LOS QUE LE SALUDABAN CON LA CABEZA.  TOM POLGAUS SE PUNZO CON UN SUCIO DEDO LA TETILLA IZQUIERDA Y DIJO:  —LE ACERTARON EN EL MISMO CORAZON..., CON ESTO —Y SACO DEL BOLSILLO DEL HABAN UN REVOLVER CGATO Y SE LO ALARHO A SPADE. TENIA BARRO EMBUTIDO EN TODOS LOS ENTRANTES DE LA SUPERFICIE—. UN KEBLEY. ES'"
      ]
     },
     "execution_count": 111,
     "metadata": {},
     "output_type": "execute_result"
    }
   ],
   "source": [
    "contraclave=cambio('K','W',contraclave)\n",
    "textomejor=cifradoPermutacion(encriptado, contraclave)\n",
    "textomejor[:tope+10]"
   ]
  },
  {
   "cell_type": "code",
   "execution_count": 112,
   "metadata": {},
   "outputs": [
    {
     "name": "stdout",
     "output_type": "stream",
     "text": [
      "TA Y TE DARE CASI TODA CLASE DE FACILIDADES. NO TE CULPO EXCESIVAMENTE POR LO QUE..., PERO ESO NO ME IMPEDIRIA DETENERTE IHUAL.  —BUENO, ES UNA ACTITUD JUSTA —REPLICO SPADE, CON VOZ SERENA—, PERO ME SENTIRIA MEJOR SI ACABARAS LA COPA.  DUNDY SE VOLVIO GACIA LA MESA, TOMO EL VASO Y LO VACIO LENTAMENTE. LUEHO ALARHO LA MANO Y DIJO:  —BUENAS NOCGES.  SE ESTRECGARON LOS DOS LA MANO CEREMONIOSAMENTE. TOM Y SPADE GICIERON LO MISMO. SPADE LES ABRIO LA PUERTA. LUEHO SE DESNUDO, APAHO LA LUZ Y SE ACOSTO.\n"
     ]
    }
   ],
   "source": [
    "#miro el final del texto\n",
    "print(textomejor[-500:])"
   ]
  },
  {
   "cell_type": "code",
   "execution_count": 115,
   "metadata": {},
   "outputs": [
    {
     "data": {
      "text/plain": [
       "'MUERTE EN LA NIEBLA  EN LA OSCURIDAD SONO EL TIMBRE DE UN TELEFONO. DESPUES DE QUE HUBO SONADO TRES VECES, SE OYO EL CHIRRIDO DE LOS MUELLES DE UNA CAMA; UNOS DEDOS PALPARON SOBRE LA MADERA, ALGO PEQUEÑO Y DURO CAYO CON RUIDO SORDO SOBRE LA ALFOMBRA, LOS MUELLES CHIRRIARON NUEVAMENTE, Y UNA VOZ DE H'"
      ]
     },
     "execution_count": 115,
     "metadata": {},
     "output_type": "execute_result"
    }
   ],
   "source": [
    "contraclave=cambio('G','H',contraclave)\n",
    "textomejor=cifradoPermutacion(encriptado, contraclave)\n",
    "textomejor[:300]"
   ]
  },
  {
   "cell_type": "code",
   "execution_count": 116,
   "metadata": {},
   "outputs": [
    {
     "data": {
      "text/html": [
       "<html><script type=\"math/tex; mode=display\">\\newcommand{\\Bold}[1]{\\mathbf{#1}}\\left[\\left(\\verb|A|, \\verb|K|\\right), \\left(\\verb|B|, \\verb|S|\\right), \\left(\\verb|C|, \\verb|Y|\\right), \\left(\\verb|D|, \\verb|A|\\right), \\left(\\verb|E|, \\verb|L|\\right), \\left(\\verb|F|, \\verb|H|\\right), \\left(\\verb|G|, \\verb|P|\\right), \\left(\\verb|H|, \\verb|T|\\right), \\left(\\verb|I|, \\verb|I|\\right), \\left(\\verb|J|, \\verb|D|\\right), \\left(\\verb|K|, \\verb|B|\\right), \\left(\\verb|L|, \\verb|O|\\right), \\left(\\verb|M|, \\verb|E|\\right), \\left(\\verb|N|, \\verb|J|\\right), \\left(\\verb|O|, \\verb|Z|\\right), \\left(\\verb|P|, \\verb|G|\\right), \\left(\\verb|Q|, \\verb|F|\\right), \\left(\\verb|R|, \\verb|M|\\right), \\left(\\verb|S|, \\verb|V|\\right), \\left(\\verb|T|, \\verb|X|\\right), \\left(\\verb|U|, \\verb|Q|\\right), \\left(\\verb|V|, \\verb|U|\\right), \\left(\\verb|W|, \\verb|C|\\right), \\left(\\verb|X|, \\verb|Ñ|\\right), \\left(\\verb|Y|, \\verb|R|\\right), \\left(\\verb|Z|, \\verb|N|\\right), \\left(\\verb|Ñ|, \\verb|W|\\right)\\right]</script></html>"
      ],
      "text/latex": [
       "$$\\newcommand{\\Bold}[1]{\\mathbf{#1}}\\left[\\left(\\verb|A|, \\verb|K|\\right), \\left(\\verb|B|, \\verb|S|\\right), \\left(\\verb|C|, \\verb|Y|\\right), \\left(\\verb|D|, \\verb|A|\\right), \\left(\\verb|E|, \\verb|L|\\right), \\left(\\verb|F|, \\verb|H|\\right), \\left(\\verb|G|, \\verb|P|\\right), \\left(\\verb|H|, \\verb|T|\\right), \\left(\\verb|I|, \\verb|I|\\right), \\left(\\verb|J|, \\verb|D|\\right), \\left(\\verb|K|, \\verb|B|\\right), \\left(\\verb|L|, \\verb|O|\\right), \\left(\\verb|M|, \\verb|E|\\right), \\left(\\verb|N|, \\verb|J|\\right), \\left(\\verb|O|, \\verb|Z|\\right), \\left(\\verb|P|, \\verb|G|\\right), \\left(\\verb|Q|, \\verb|F|\\right), \\left(\\verb|R|, \\verb|M|\\right), \\left(\\verb|S|, \\verb|V|\\right), \\left(\\verb|T|, \\verb|X|\\right), \\left(\\verb|U|, \\verb|Q|\\right), \\left(\\verb|V|, \\verb|U|\\right), \\left(\\verb|W|, \\verb|C|\\right), \\left(\\verb|X|, \\verb|Ñ|\\right), \\left(\\verb|Y|, \\verb|R|\\right), \\left(\\verb|Z|, \\verb|N|\\right), \\left(\\verb|Ñ|, \\verb|W|\\right)\\right]$$"
      ],
      "text/plain": [
       "[('A', 'K'),\n",
       " ('B', 'S'),\n",
       " ('C', 'Y'),\n",
       " ('D', 'A'),\n",
       " ('E', 'L'),\n",
       " ('F', 'H'),\n",
       " ('G', 'P'),\n",
       " ('H', 'T'),\n",
       " ('I', 'I'),\n",
       " ('J', 'D'),\n",
       " ('K', 'B'),\n",
       " ('L', 'O'),\n",
       " ('M', 'E'),\n",
       " ('N', 'J'),\n",
       " ('O', 'Z'),\n",
       " ('P', 'G'),\n",
       " ('Q', 'F'),\n",
       " ('R', 'M'),\n",
       " ('S', 'V'),\n",
       " ('T', 'X'),\n",
       " ('U', 'Q'),\n",
       " ('V', 'U'),\n",
       " ('W', 'C'),\n",
       " ('X', 'Ñ'),\n",
       " ('Y', 'R'),\n",
       " ('Z', 'N'),\n",
       " ('Ñ', 'W')]"
      ]
     },
     "metadata": {},
     "output_type": "display_data"
    }
   ],
   "source": [
    "clave=dict([(x,y)  for y,x in contraclave.items()])\n",
    "Permutacion=list(clave.items())\n",
    "Permutacion.sort()\n",
    "show(Permutacion)"
   ]
  },
  {
   "cell_type": "code",
   "execution_count": 117,
   "metadata": {},
   "outputs": [
    {
     "data": {
      "text/html": [
       "<html><script type=\"math/tex; mode=display\">\\newcommand{\\Bold}[1]{\\mathbf{#1}}\\verb|EAOSLNRIDTUCMPBYHVGQJZFXÑKW|</script></html>"
      ],
      "text/latex": [
       "$$\\newcommand{\\Bold}[1]{\\mathbf{#1}}\\verb|EAOSLNRIDTUCMPBYHVGQJZFXÑKW|$$"
      ],
      "text/plain": [
       "'EAOSLNRIDTUCMPBYHVGQJZFXÑKW'"
      ]
     },
     "metadata": {},
     "output_type": "display_data"
    },
    {
     "data": {
      "text/html": [
       "<html><script type=\"math/tex; mode=display\">\\newcommand{\\Bold}[1]{\\mathbf{#1}}\\verb|EAOSRNIDLCTUMPBGVYQHFZJÑXKW|</script></html>"
      ],
      "text/latex": [
       "$$\\newcommand{\\Bold}[1]{\\mathbf{#1}}\\verb|EAOSRNIDLCTUMPBGVYQHFZJÑXKW|$$"
      ],
      "text/plain": [
       "'EAOSRNIDLCTUMPBGVYQHFZJÑXKW'"
      ]
     },
     "metadata": {},
     "output_type": "display_data"
    }
   ],
   "source": [
    "original_real=''.join([contraclave[j] for j in imagen])\n",
    "show(original_real)\n",
    "show(original)"
   ]
  },
  {
   "cell_type": "code",
   "execution_count": null,
   "metadata": {},
   "outputs": [],
   "source": []
  }
 ],
 "metadata": {
  "kernelspec": {
   "display_name": "SageMath 9.5",
   "language": "sage",
   "name": "sagemath"
  },
  "language_info": {
   "codemirror_mode": {
    "name": "ipython",
    "version": 3
   },
   "file_extension": ".py",
   "mimetype": "text/x-python",
   "name": "python",
   "nbconvert_exporter": "python",
   "pygments_lexer": "ipython3",
   "version": "3.10.6"
  }
 },
 "nbformat": 4,
 "nbformat_minor": 4
}
