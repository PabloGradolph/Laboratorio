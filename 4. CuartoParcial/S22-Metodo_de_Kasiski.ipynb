{
 "cells": [
  {
   "cell_type": "markdown",
   "metadata": {
    "tags": []
   },
   "source": [
    "# Laboratorio 2022-2023\n",
    "\n",
    "##  Sesión 22: Método de Kasiski\n",
    "\n",
    "¿Se puede intentar descifrar un cifrado de Vigenère si no se tiene información sobre la longitud de la clave, ni se conoce ningún detalle del texto original? A lo largo de esta sesión veremos que sí, con el llamado método de Kasiski.\n",
    "\n",
    "Durante siglos se creyó que el cifrado de Vigenère era irrompible. Se sabe que Charles Babbage rompió algunas de sus variantes hacia 1854, pero nunca publicó sus resultados al respecto. Fue Friedrich W. Kasiski, un oficial militar prusiano, el primero en publicar, en 1863, una explicación detallada de cómo romper el cifrado de Vigenère que no dependía de ningún conocimiento previo ni del texto original ni de la clave. \n",
    "\n",
    "Aunque hemos igualado las frecuencias de las letras en el texto cifrado usando un desplazamiento diferente para cada letra, la seguridad del cifrado de Vigenère tiene una debilidad: la clave se repite. Cuando se encuentran n-gramas (palabras de longitud n) repetidos en el texto cifrado con n$\\ge$3, lo más probable es que esos n-gramas sean también iguales en el texto original. Esto implica que han sido cifrados con la misma sustitución, con lo que la distancia entre los comienzos de dos n-gramas iguales dentro del texto cifrado será un múltiplo del periodo que se usó para cifrar el texto. Si el texto es largo, suelen encontrarse varias parejas de n-gramas repetidos con varias distancias que los separan. En estos casos, la longitud de la clave  que se tomó para cifrar el texto será un divisor común de todas las distancias que separen n-gramas iguales, con lo que las posibilidades se reducen bastante."
   ]
  },
  {
   "cell_type": "markdown",
   "metadata": {},
   "source": [
    "### **Ejercicio** ###\n",
    "\n",
    "Evalúa la siguiente celda. Al hacerlo, tendrás en la variable $\\tt kasiski$ un texto que hemos interceptado, y que sabemos que ha sido codificado usando el método de Vigenère. ¡Descífralo, y encuentra la clave con la que fue codificado!\n",
    "\n",
    "Algunas pistas:\n",
    "\n",
    "- Empieza por inspeccionar el texto codificado y, como hicimos en la sesión anterior, elabora una conjetura sobre qué alfabeto se usó, si quedaron caracteres del texto original sin cifrar o no, etcétera.\n",
    "\n",
    "- Tu estrategia debe ser realizar un análisis de Kasiski para decidir cuál puede ser la longitud de la clave. Una vez sepas cuál es la longitud de la clave, habrá que proceder como en la sesión anterior. Por supuesto, algunas de las funciones que usaste la sesión anterior te serán de utilidad de nuevo.\n",
    "\n",
    "- *Sugerencia*: para el análisis de Kasiski,  define una función ${\\tt ngramas}({\\tt texto,n,m=30}) $ que, dado un texto, devuelva las m cadenas de longitud n que más se repiten en el texto, junto con el número de veces que se repiten, ordenadas de mayor a menor número de apariciones.\n",
    "\n",
    "- Define también una función ${\\tt MCDdistancias}({\\tt texto,ngrama})$ que devuelva el MCD de las distancias que separan dos apariciones consecutivas del n-grama $\\tt ngrama$ dentro del texto $\\tt texto$. \n",
    "\n",
    "Tu candidata a ser la longitud de la clave debe deducirse de la información que te proporciona la separación entre n-gramas especialmente frecuentes *que estén formados enteramente por caracteres que hayan sido codificados*."
   ]
  },
  {
   "cell_type": "code",
   "execution_count": 2,
   "metadata": {},
   "outputs": [
    {
     "data": {
      "text/plain": [
       "138174"
      ]
     },
     "execution_count": 2,
     "metadata": {},
     "output_type": "execute_result"
    }
   ],
   "source": [
    "load('mensaje.py')\n",
    "len(kasiski)"
   ]
  },
  {
   "cell_type": "code",
   "execution_count": 3,
   "metadata": {},
   "outputs": [],
   "source": [
    "# Funciones de la sesión anterior\n",
    "\n",
    "def contraVigenere(clave,alfabeto):\n",
    "    \n",
    "    # Compruebo si la clave es válida (todas sus letras están en el alfabeto)\n",
    "    if any([letra not in alfabeto for letra in clave]): \n",
    "        print('La clave y el alfabeto son incompatibles.')\n",
    "        return None\n",
    "    \n",
    "    # Traduzco la clave a números\n",
    "    clavenum=[alfabeto.index(letra) for letra in clave]\n",
    "    \n",
    "    return ''.join([alfabeto[-k] for k in clavenum]) # Construyo la contraclave y la devuelvo\n",
    "\n",
    "def cifradoVigenere(texto,clave,alfabeto):\n",
    "    \n",
    "    # Compruebo si la clave es válida (todas sus letras están en el alfabeto)\n",
    "    if any([letra not in alfabeto for letra in clave]): \n",
    "        print('La clave y el alfabeto son incompatibles.')\n",
    "        return None\n",
    "\n",
    "    L=len(alfabeto) # longitud alfabeto\n",
    "    long=len(clave) # longitud clave\n",
    "    clavenum=[alfabeto.index(letra) for letra in clave] # Obtengo la versión numérica de la clave\n",
    "    \n",
    "    # Paso al cifrado propiamente dicho\n",
    "    textocif=''\n",
    "    for k in xsrange(len(texto)):\n",
    "        letra=texto[k]\n",
    "        if letra in alfabeto:\n",
    "            letra=alfabeto[(alfabeto.index(letra)+clavenum[k%long])%L]           \n",
    "        textocif+=letra\n",
    "    return textocif\n",
    "    \n",
    "def caracteres(texto):\n",
    "    lista=list(set(texto)) # Usamos set para eliminar repeticiones\n",
    "    lista.sort()           # Lista ordenada, de menor a mayor\n",
    "    return ''.join(lista)\n",
    "\n",
    "def masfrecuentes(long,texto,alfabeto):\n",
    "    palabra=''\n",
    "    for j in xsrange(long):\n",
    "        letras=texto[j::long]                        # Lista de letras en posiciones congruentes con j módulo long\n",
    "        letrasUA=set(letras).intersection(alfabeto)  # Estas son las letras que se han usado y que están en el alfabeto\n",
    "        pares=[(letras.count(letra),letra) for letra in letrasUA] # Cuento cuántas veces aparece cada una de las letras usadas del alfabeto\n",
    "        pares.sort(reverse=true)\n",
    "        palabra+=pares[0][1]\n",
    "    return palabra\n",
    "\n",
    "def contraclave_Vigenere(texto,alfabeto,palabra):\n",
    "    long=len(palabra) # longitud de la clave\n",
    "    palabracodif=masfrecuentes(long,texto,alfabeto) # palabra formada por la letra más frecuente de cada bloque en el texto codificadoe\n",
    "    contra=[]         # cadena en la que concatenaremos los caracteres de la contraclave\n",
    "    for j in xsrange(long):\n",
    "        nuevaposicion_masfrec=alfabeto.index(palabracodif[j]) # índice de la letra más frecuente en el bloque j en el texto codificado\n",
    "        posicion_masfrec=alfabeto.index(palabra[j])           # índice de la letra más frecuente en el bloque j en el texto original\n",
    "        contra+=alfabeto[(-nuevaposicion_masfrec+posicion_masfrec)] # siguiente carácter en la contraclave (posición j)\n",
    "    return contra# la contraclave"
   ]
  },
  {
   "cell_type": "code",
   "execution_count": 4,
   "metadata": {},
   "outputs": [
    {
     "name": "stdout",
     "output_type": "stream",
     "text": [
      "l¿ 7éú¿ ñs 25Íg!\n",
      " \n",
      "\"EQJQG1R JUD J72J¡G DE ;BJ¡y \n",
      "\".(y5r¿v 8CF1 \n",
      "(óúé7ú'(d!v GTcDBíIE \n",
      "óóó2aóñ)n P?DïH \n",
      "Í7)!ñlóéu LG9?úNA \n",
      "óóy.9üv ;T75HüMO \n",
      "ñ¿\"!lï,u T;P Í; ,FNHDH¡ \n",
      "á&8!íóop HEH7DSÑ \n",
      "ú(ï'¿ás \n",
      "1ú)Ñyïo(\n"
     ]
    }
   ],
   "source": [
    "print(kasiski[:200])"
   ]
  },
  {
   "cell_type": "code",
   "execution_count": 7,
   "metadata": {},
   "outputs": [
    {
     "data": {
      "text/plain": [
       "'\\n !\"&\\'(),-.125789:;?ABCDEFGHIJLMNOPQRSTUVWY[]abcdefghijlmnopqrstuvwxyz¡¿ÉÍÑÚáéíïñóúü'"
      ]
     },
     "execution_count": 7,
     "metadata": {},
     "output_type": "execute_result"
    }
   ],
   "source": [
    "#Veamos la cadena de caracteres distintos (y ordenados) que aparecen en el texto cifrado \n",
    "# usando para ello la función \"caracteres\" construida en la sesión anterior\n",
    "caracteres(kasiski)"
   ]
  },
  {
   "cell_type": "code",
   "execution_count": 8,
   "metadata": {},
   "outputs": [
    {
     "name": "stdout",
     "output_type": "stream",
     "text": [
      "\n",
      " !\"&'(),-.125789:;?ABCDEFGHIJLMNOPQRSTUVWY[]abcdefghijlmnopqrstuvwxyz¡¿ÉÍÑÚáéíïñóúü\n"
     ]
    }
   ],
   "source": [
    "print(caracteres(kasiski))"
   ]
  },
  {
   "cell_type": "code",
   "execution_count": 5,
   "metadata": {},
   "outputs": [],
   "source": [
    "# load(\"FuncVigenere.py\")\n",
    "# contraVigenere??"
   ]
  },
  {
   "cell_type": "code",
   "execution_count": 9,
   "metadata": {},
   "outputs": [],
   "source": [
    "# Defino una función que detecta cuántas veces se repite cada caracter en un texto.\n",
    "# Por abreviar utilizo el método .count()\n",
    "\n",
    "def repeticiones(texto):\n",
    "    letras=set(texto)\n",
    "    lista=[]\n",
    "    for letra in letras:\n",
    "        lista+=[(texto.count(letra), letra)]#Directamente relleno una lista con pares (frecuencia,letra)\n",
    "    lista.sort(reverse=true)#Ordeno la lista anterior de mayor a menor frecuencia\n",
    "    return lista"
   ]
  },
  {
   "cell_type": "code",
   "execution_count": null,
   "metadata": {},
   "outputs": [
    {
     "data": {
      "text/plain": [
       "[(53924, ' '),\n",
       " (3857, '\\n'),\n",
       " (3547, 'D'),\n",
       " (3391, 'E'),\n",
       " (3228, 'C'),\n",
       " (3045, 'H'),\n",
       " (2999, 'N'),\n",
       " (2992, 'L'),\n",
       " (2967, 'M'),\n",
       " (2713, 'G'),\n",
       " (2480, '7'),\n",
       " (2474, ';'),\n",
       " (2300, 'O'),\n",
       " (2275, '?'),\n",
       " (2123, 'Q'),\n",
       " (2061, 'I'),\n",
       " (2034, 'J'),\n",
       " (2028, 'F'),\n",
       " (1945, 'R'),\n",
       " (1780, 'T')]"
      ]
     },
     "execution_count": 10,
     "metadata": {},
     "output_type": "execute_result"
    }
   ],
   "source": [
    "repeticiones(kasiski)[:20]"
   ]
  },
  {
   "cell_type": "markdown",
   "metadata": {},
   "source": [
    "Los caracteres más repetidos son el espacio en blanco y el salto de línea: parece que se confirma que no se han codificado.  Así que esta es nuestra propuesta de alfabeto:"
   ]
  },
  {
   "cell_type": "code",
   "execution_count": 11,
   "metadata": {},
   "outputs": [],
   "source": [
    "# Ponemos tres comillas para delimitar la cadena del alfabeto porque este contiene la comilla y la comilla doble\n",
    "\n",
    "alfabeto='''!\"&'(),-.125789:;?ABCDEFGHIJLMNOPQRSTUVWY[]abcdefghijlmnopqrstuvwxyz¡¿ÉÍÑÚáéíïñóúü''' "
   ]
  },
  {
   "cell_type": "code",
   "execution_count": 12,
   "metadata": {},
   "outputs": [],
   "source": [
    "def ngramas(texto,n,m=30):\n",
    "    diccio=dict()#Será un diccionario de frecuencias de los n-gramas de texto\n",
    "    for k in xsrange(len(texto)-n+1): # k es la posición de la letra de comienzo del n-grama\n",
    "        ngrama=texto[k:k+n]           # Este es el n-grama que comienza en la posición k \n",
    "        if ngrama not in diccio: \n",
    "            diccio[ngrama]=1\n",
    "        else: \n",
    "            diccio[ngrama]+=1 \n",
    "    lista=[(diccio[ngrama], ngrama) for ngrama in diccio]\n",
    "    lista.sort(reverse=true)\n",
    "    lista2=[(ngr,frec) for frec,ngr in lista]#Lista de pares (ngrama,frecuencia)\n",
    "    return lista2[:m]#Solo quiero los m más frecuentes           "
   ]
  },
  {
   "cell_type": "code",
   "execution_count": 13,
   "metadata": {},
   "outputs": [
    {
     "name": "stdout",
     "output_type": "stream",
     "text": [
      "[('   ', 33348), ('\\n  ', 3035), ('p\\n ', 254), ('u\\n ', 216), ('  S', 161), ('x\\n ', 159), (' SO', 151), (' JL', 145), ('  J', 145), ('  7', 145), ('  P', 141), ('SO8', 139), ('O\\n ', 137), ('LD ', 136), (' Y ', 134), (' GT', 133), ('O8 ', 129), (' JU', 128), ('HW;', 125), ('  C', 125), ('JUD', 124), (' S ', 124), ('UD ', 122), (' HW', 121), (' QT', 120), ('JLD', 119), (' 8G', 119), (' 7D', 119), ('y  ', 117), ('PMG', 117)]\n"
     ]
    }
   ],
   "source": [
    "print(ngramas(kasiski,3))"
   ]
  },
  {
   "cell_type": "code",
   "execution_count": 15,
   "metadata": {},
   "outputs": [],
   "source": [
    "def MCDdistancias(texto,ngrama):\n",
    "    #Lista de posiciones del ngrama en el texto\n",
    "    posiciones=[]\n",
    "    for k in xsrange(len(texto)-len(ngrama)+1):  \n",
    "        if texto[k:k+len(ngrama)]==ngrama: # Indentifico en qué posiciones k gaparece el n-grama\n",
    "            posiciones.append(k)           # Las añado a la lista posiciones\n",
    "    #Lista de distancias entre dos apariciones consecutivas\n",
    "    distancias=[]\n",
    "    for j in xsrange(len(posiciones)-1):\n",
    "        distancias.append(posiciones[j+1]-posiciones[j])\n",
    "    # Solo tiene sentido calcular distancias si el n-grama aparece al menos dos veces\n",
    "    if len(distancias)>=1: \n",
    "        return gcd(distancias)\n",
    "    else: return 0  # Si no hay al menos dos apariciones el programa devolverá 0 "
   ]
  },
  {
   "cell_type": "code",
   "execution_count": 18,
   "metadata": {},
   "outputs": [
    {
     "name": "stdout",
     "output_type": "stream",
     "text": [
      "1\n",
      "0\n",
      "1\n",
      "1\n",
      "1\n"
     ]
    }
   ],
   "source": [
    "print(MCDdistancias(kasiski,'\\n  '))\n",
    "print(MCDdistancias(kasiski,'oooo'))\n",
    "print(MCDdistancias(kasiski,'  S'))\n",
    "print(MCDdistancias(kasiski,' SO'))\n",
    "print(MCDdistancias(kasiski,' JL'))"
   ]
  },
  {
   "cell_type": "markdown",
   "metadata": {},
   "source": [
    "Ok, analizar 3-gramas en los que intervienen espacios o saltos de línea no es muy útil... Miremos 3-gramas frecuentes que sólo contengan caracteres sí codificados."
   ]
  },
  {
   "cell_type": "code",
   "execution_count": 19,
   "metadata": {},
   "outputs": [
    {
     "name": "stdout",
     "output_type": "stream",
     "text": [
      "9\n",
      "9\n",
      "9\n",
      "9\n",
      "9\n"
     ]
    }
   ],
   "source": [
    "print(MCDdistancias(kasiski,'SO8'))\n",
    "print(MCDdistancias(kasiski,'HW;'))\n",
    "print(MCDdistancias(kasiski,'JUD'))\n",
    "print(MCDdistancias(kasiski, u'JLD'))\n",
    "print(MCDdistancias(kasiski, u'PMG'))"
   ]
  },
  {
   "cell_type": "markdown",
   "metadata": {},
   "source": [
    "**¡La sospecha de que la clave es de longitud 9 es MUY FUERTE!**"
   ]
  },
  {
   "cell_type": "code",
   "execution_count": 21,
   "metadata": {},
   "outputs": [
    {
     "name": "stdout",
     "output_type": "stream",
     "text": [
      "[1, 1, 1, 1, 1, 1, 1, 1, 1, 1, 1, 1, 1, 1, 1, 1, 1, 1, 1, 1, 1, 1, 1, 1, 1, 1, 1, 1, 1, 1]\n",
      "[1, 1, 1, 1, 1, 1, 1, 1, 1, 1, 1, 9, 1, 1, 1, 1, 9, 9, 9, 1, 9, 1, 9, 9, 9, 9, 9, 1, 1, 9]\n",
      "[1, 1, 1, 1, 1, 1, 1, 1, 1, 1, 9, 1, 9, 9, 1, 1, 1, 9, 9, 3, 1, 9, 1, 1, 9, 9, 9, 9, 9, 1]\n",
      "[1, 1, 1, 1, 1, 1, 1, 1, 1, 1, 1, 1, 1, 1, 3, 9, 1, 1, 9, 1, 1, 9, 9, 9, 1, 9, 9, 1, 1, 1]\n",
      "[1, 1, 1, 1, 1, 1, 1, 1, 1, 1, 1, 1, 1, 1, 3, 1, 1, 1, 1, 1, 1, 1, 1, 1, 1, 1, 1, 1, 1, 1]\n",
      "[1, 1, 1, 1, 1, 1, 1, 1, 1, 1, 1, 1, 1, 1, 3, 1, 1, 1, 1, 1, 1, 1, 1, 1, 1, 1, 1, 1, 1, 1]\n",
      "[1, 1, 1, 1, 1, 1, 1, 1, 1, 1, 1, 1, 1, 1, 3, 1, 1, 1, 1, 1, 1, 1, 1, 1, 1, 1, 1, 1, 1, 1]\n",
      "[1, 1, 1, 1, 1, 1, 1, 1, 1, 1, 1, 1, 1, 1, 3, 1, 1, 1, 1, 1, 1, 1, 1, 1, 1, 1, 1, 1, 1, 1]\n",
      "[1, 1, 1, 1, 1, 1, 1, 1, 1, 1, 1, 1, 1, 1, 3, 1, 1, 1, 1, 1, 1, 1, 1, 1, 1, 1, 1, 1, 1, 1]\n"
     ]
    }
   ],
   "source": [
    "# Observación: en lugar de ir probando longitudes de ngramas de uno en uno, podemos usar un for\n",
    "for n in [2..10]:\n",
    "    distancias=[]\n",
    "    ngramasfrec=[ngr[0] for ngr in ngramas(kasiski,n)]\n",
    "    for ngrama in ngramasfrec:\n",
    "        distancias.append(MCDdistancias(kasiski,ngrama))\n",
    "    print(distancias)"
   ]
  },
  {
   "cell_type": "code",
   "execution_count": 22,
   "metadata": {},
   "outputs": [
    {
     "name": "stdout",
     "output_type": "stream",
     "text": [
      "[1, 1, 1, 1, 9, 9, 1, 1, 9, 1, 1, 1, 9, 9, 1, 9, 9, 9, 9, 9, 9, 9, 9, 9, 9, 9, 9, 9, 9, 9]\n"
     ]
    }
   ],
   "source": [
    "#Veamos alguna longitud más de ngramas: n=25\n",
    "distancias=[]\n",
    "ngramasfrec=[ngr[0] for ngr in ngramas(kasiski,25)]\n",
    "for ngrama in ngramasfrec:\n",
    "    distancias.append(MCDdistancias(kasiski,ngrama))\n",
    "print(distancias)"
   ]
  },
  {
   "cell_type": "markdown",
   "metadata": {},
   "source": [
    "Se confirma lo dicho anteriormente ¡con n-gramas de longitud 25!"
   ]
  },
  {
   "cell_type": "code",
   "execution_count": 23,
   "metadata": {},
   "outputs": [],
   "source": [
    "#Ya tenemos una apuesta: clave de longitud 9\n",
    "lc=9"
   ]
  },
  {
   "cell_type": "code",
   "execution_count": 24,
   "metadata": {},
   "outputs": [],
   "source": [
    "contraclave=contraclave_Vigenere(kasiski, alfabeto, 'e'*lc) \n",
    "\n",
    "# Ya sabemos que aquí hay incertidumbres\n",
    "# ¿Sería un texto en castellano?\n",
    "# Si lo era, ¿será la \"e\" la más frecuente de cada bloque?"
   ]
  },
  {
   "cell_type": "code",
   "execution_count": 25,
   "metadata": {},
   "outputs": [
    {
     "name": "stdout",
     "output_type": "stream",
     "text": [
      "LA VIDA ES SUEÑO\n",
      " \n",
      "Personas que hablan en ella: \n",
      "ROSAURA, dama \n",
      "SEGISMUNDO, príncipe \n",
      "CLOTALDO, viejo \n",
      "ESTRELLA, infanta \n",
      "CLARÍN, gracioso \n",
      "BASILIO, rey de Polonia \n",
      "ASTOLFO, infante \n",
      "GUARDAS \n",
      "SOLDADOS \n",
      "MÚSICOS \n",
      " \n",
      "ACTO PRIMERO\n",
      "[En las montañas de Polonia]\n",
      "\n",
      "Salen en lo alto de un monte ROSAURA, en hábito de hombre, de\n",
      "camino, y en representado los primeros versos va bajando\n",
      "\n",
      "ROSAURA:   Hipogrifo violento\n",
      "           que corriste parejas con el viento,\n",
      "           ¿dónde, rayo sin llama,\n",
      "           p\n"
     ]
    }
   ],
   "source": [
    "original=cifradoVigenere(kasiski,contraclave,alfabeto)\n",
    "print(original[:500])"
   ]
  },
  {
   "cell_type": "code",
   "execution_count": 26,
   "metadata": {},
   "outputs": [
    {
     "name": "stdout",
     "output_type": "stream",
     "text": [
      "Hipogrifo\n"
     ]
    }
   ],
   "source": [
    "clave=contraVigenere(contraclave,alfabeto)\n",
    "print(clave)"
   ]
  },
  {
   "cell_type": "code",
   "execution_count": 28,
   "metadata": {},
   "outputs": [],
   "source": [
    "#OJO: es bastante largo!!\n",
    "#Quita el # de la siguiente línea si quieres verlo\n",
    "\n",
    "# print(original)"
   ]
  },
  {
   "cell_type": "markdown",
   "metadata": {},
   "source": [
    "**OTRO EJEMPLO:**"
   ]
  },
  {
   "cell_type": "code",
   "execution_count": 29,
   "metadata": {},
   "outputs": [
    {
     "data": {
      "text/plain": [
       "[(' de la ', 112),\n",
       " ('       ', 97),\n",
       " (' habia ', 91),\n",
       " ('.\\n \\n --', 85),\n",
       " ('lo que ', 79),\n",
       " ('huésped', 77),\n",
       " (' huéspe', 77),\n",
       " (' lo que', 76),\n",
       " (' Costan', 68),\n",
       " ('a, que ', 67),\n",
       " (' que no', 67),\n",
       " ('o, que ', 66),\n",
       " (' que se', 66),\n",
       " ('respond', 65),\n",
       " ('que no ', 65),\n",
       " ('ostanza', 62),\n",
       " ('Costanz', 62),\n",
       " (' respon', 62),\n",
       " (' que es', 62),\n",
       " ('rregido', 60),\n",
       " ('regidor', 60),\n",
       " ('orregid', 60),\n",
       " ('corregi', 60),\n",
       " (' correg', 60),\n",
       " ('e habia', 58),\n",
       " ('vendaño', 56),\n",
       " ('espondi', 56),\n",
       " ('Avendañ', 56),\n",
       " (' porque', 56),\n",
       " (' Avenda', 56)]"
      ]
     },
     "execution_count": 29,
     "metadata": {},
     "output_type": "execute_result"
    }
   ],
   "source": [
    "load(\"novela.py\")\n",
    "len(ejemplar)\n",
    "ngramas(ejemplar, 7)"
   ]
  },
  {
   "cell_type": "code",
   "execution_count": null,
   "metadata": {},
   "outputs": [],
   "source": []
  }
 ],
 "metadata": {
  "kernelspec": {
   "display_name": "SageMath 9.5",
   "language": "sage",
   "name": "sagemath"
  },
  "language_info": {
   "codemirror_mode": {
    "name": "ipython",
    "version": 3
   },
   "file_extension": ".py",
   "mimetype": "text/x-python",
   "name": "python",
   "nbconvert_exporter": "python",
   "pygments_lexer": "ipython3",
   "version": "3.10.6"
  }
 },
 "nbformat": 4,
 "nbformat_minor": 4
}
