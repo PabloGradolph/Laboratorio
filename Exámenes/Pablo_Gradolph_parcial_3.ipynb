{
 "cells": [
  {
   "cell_type": "markdown",
   "id": "9a6229ff-8f60-4bec-bf4a-bc00ebf6212f",
   "metadata": {},
   "source": [
    "<font color='blue'>Calificación: (0.5+1+0.5+0.6)+(2.8+0.5)+(1.5+0)=7.4</font>"
   ]
  },
  {
   "cell_type": "markdown",
   "id": "29276758",
   "metadata": {
    "tags": []
   },
   "source": [
    "\n",
    "\n",
    "# Laboratorio 2022-23\n",
    "\n",
    "\n",
    "## Tercer parcial (24-03-2023), grupo 7114\n",
    "\n",
    "\n",
    "\n",
    "Nombre y apellidos: \n",
    "\n",
    "\n",
    "\n",
    "\n",
    "_____________"
   ]
  },
  {
   "cell_type": "markdown",
   "id": "901ed9e2",
   "metadata": {},
   "source": [
    "**Problema 1** (hasta 3 puntos). Consideremos para cualquier natural $n>1$ la matriz cuadrada de tamaño $n$, $C_n=(c_{ij})$ donde para cada $0\\le i<n$, $0\\le j<n$ se tiene\n",
    "$$c_{ij}=\\left\\{\n",
    "\\begin{array}{ll}\n",
    "n-|i-j|&\\text{si } i\\neq j\\\\\n",
    "0&\\text{si }i=j\\end{array}\\right..$$\n",
    "(Obsérvese que se utiliza la notación de índices de SageMath, es decir empezando en $0$.) Por ejemplo se tienen:\n",
    "$$\n",
    "C_2=\\left(\\begin{array}{*2r} 0 & 1 \\\\ 1 & 0 \\end{array}\\right),\\quad\n",
    "C_3=\\left(\\begin{array}{*3r}0 & 2 & 1 \\\\\n",
    "2 & 0 & 2 \\\\\n",
    "1 & 2 & 0\n",
    "\\end{array}\\right),\\quad \n",
    "C_5=\\left(\\begin{array}{*5r}\n",
    "0 & 4 & 3 & 2 & 1 \\\\\n",
    "4 & 0 & 4 & 3 & 2 \\\\\n",
    "3 & 4 & 0 & 4 & 3 \\\\\n",
    "2 & 3 & 4 & 0 & 4 \\\\\n",
    "1 & 2 & 3 & 4 & 0\n",
    "\\end{array}\\right).\n",
    "$$\n",
    "Sea $PC_n$ la matriz que resulta de cambiar cada columna de $C_n$ por el vector en la misma dirección pero con coordenadas sumando $1$ (el _normalizado_ en el sentido de que sus coordenadas suman $1$), por ejemplo\n",
    "$$\n",
    "PC_3=\\left(\\begin{array}{rrr}\n",
    "0 & \\frac{1}{2} & \\frac{1}{3} \\\\\n",
    "\\frac{2}{3} & 0 & \\frac{2}{3} \\\\\n",
    "\\frac{1}{3} & \\frac{1}{2} & 0\n",
    "\\end{array}\\right),\\quad\n",
    "PC_5=\\left(\\begin{array}{rrrrr}\n",
    "0 & \\frac{4}{13} & \\frac{3}{14} & \\frac{2}{13} & \\frac{1}{10} \\\\\n",
    "\\frac{2}{5} & 0 & \\frac{2}{7} & \\frac{3}{13} & \\frac{1}{5} \\\\\n",
    "\\frac{3}{10} & \\frac{4}{13} & 0 & \\frac{4}{13} & \\frac{3}{10} \\\\\n",
    "\\frac{1}{5} & \\frac{3}{13} & \\frac{2}{7} & 0 & \\frac{2}{5} \\\\\n",
    "\\frac{1}{10} & \\frac{2}{13} & \\frac{3}{14} & \\frac{4}{13} & 0\n",
    "\\end{array}\\right).\n",
    "$$\n",
    "\n",
    "\n",
    "En el ejercicio se pide\n",
    "\n",
    "<ol><li type='a'> (hasta 0.5 puntos) Implementar una función ${\\tt MC}()$ que espere un natural $m\\ge 2$ y devuelva la matriz $C_m$ descrita anteriormente.</li>\n",
    "<li type='a'> (hasta 1 punto) Implementar una función ${\\tt PC}()$ que espere un natural $m\\ge 2$ y devuelva la matriz $PC_m$ descrita anteriormente. (<i>Nota.</i> Conviene utilizar la función del apartado anterior.)</li></ol>\n",
    "\n",
    "Una empresa internacional ha clasificado sus tareas en $10$ tipos y las ha numerado, consecutivamente, con los naturales del $0$ al $9$. Cada empleado solo realiza un mismo tipo de tarea al día. El departamento de I+D considera que una buena estrategia es cambiar cada día personal entre las tareas y lo hace utilizando como matriz de transición $PC_{10}$, de manera que si  $X^t_{n}=(x_0^n,x_1^n,\\dots,x_9^n)$ es el vector con $x_i^n=$ _proporción de empleados que realizan la tarea $i$ el día $n$_, entonces $X_{n+1}=PC_{10}X_n$. Aplicando este modelo se pide\n",
    "<ol  start=3>\n",
    "<li type='a'> (hasta 0.5 puntos) Calcular, justificadamente, el vector de proporciones que indique la situación de la dedicación a las tareas en esta empresa a largo plazo.</li>\n",
    "<li type='a'> (hasta 1 punto) La empresa tiene $57\\,000$ empleados. Si se toma como situación inicial que a cada tarea se le asigna el mismo número de empleados, contabilizar el número medio de empleados que se asignan cada día a las tareas $3$, $4$, $5$ o $6$ durante los $30$ primeros días. </li>\n",
    "</ol>"
   ]
  },
  {
   "cell_type": "code",
   "execution_count": 1,
   "id": "770148f2",
   "metadata": {},
   "outputs": [
    {
     "data": {
      "text/html": [
       "<html><script type=\"math/tex; mode=display\">\\newcommand{\\Bold}[1]{\\mathbf{#1}}\\left(\\begin{array}{rr}\n",
       "0 & 1 \\\\\n",
       "1 & 0\n",
       "\\end{array}\\right)</script></html>"
      ],
      "text/latex": [
       "$$\\newcommand{\\Bold}[1]{\\mathbf{#1}}\\left(\\begin{array}{rr}\n",
       "0 & 1 \\\\\n",
       "1 & 0\n",
       "\\end{array}\\right)$$"
      ],
      "text/plain": [
       "[0 1]\n",
       "[1 0]"
      ]
     },
     "metadata": {},
     "output_type": "display_data"
    },
    {
     "data": {
      "text/html": [
       "<html><script type=\"math/tex; mode=display\">\\newcommand{\\Bold}[1]{\\mathbf{#1}}\\left(\\begin{array}{rrr}\n",
       "0 & 2 & 1 \\\\\n",
       "2 & 0 & 2 \\\\\n",
       "1 & 2 & 0\n",
       "\\end{array}\\right)</script></html>"
      ],
      "text/latex": [
       "$$\\newcommand{\\Bold}[1]{\\mathbf{#1}}\\left(\\begin{array}{rrr}\n",
       "0 & 2 & 1 \\\\\n",
       "2 & 0 & 2 \\\\\n",
       "1 & 2 & 0\n",
       "\\end{array}\\right)$$"
      ],
      "text/plain": [
       "[0 2 1]\n",
       "[2 0 2]\n",
       "[1 2 0]"
      ]
     },
     "metadata": {},
     "output_type": "display_data"
    },
    {
     "data": {
      "text/html": [
       "<html><script type=\"math/tex; mode=display\">\\newcommand{\\Bold}[1]{\\mathbf{#1}}\\left(\\begin{array}{rrrrr}\n",
       "0 & 4 & 3 & 2 & 1 \\\\\n",
       "4 & 0 & 4 & 3 & 2 \\\\\n",
       "3 & 4 & 0 & 4 & 3 \\\\\n",
       "2 & 3 & 4 & 0 & 4 \\\\\n",
       "1 & 2 & 3 & 4 & 0\n",
       "\\end{array}\\right)</script></html>"
      ],
      "text/latex": [
       "$$\\newcommand{\\Bold}[1]{\\mathbf{#1}}\\left(\\begin{array}{rrrrr}\n",
       "0 & 4 & 3 & 2 & 1 \\\\\n",
       "4 & 0 & 4 & 3 & 2 \\\\\n",
       "3 & 4 & 0 & 4 & 3 \\\\\n",
       "2 & 3 & 4 & 0 & 4 \\\\\n",
       "1 & 2 & 3 & 4 & 0\n",
       "\\end{array}\\right)$$"
      ],
      "text/plain": [
       "[0 4 3 2 1]\n",
       "[4 0 4 3 2]\n",
       "[3 4 0 4 3]\n",
       "[2 3 4 0 4]\n",
       "[1 2 3 4 0]"
      ]
     },
     "metadata": {},
     "output_type": "display_data"
    }
   ],
   "source": [
    "# Apartado a)\n",
    "def MC(m):\n",
    "    if m<2:\n",
    "        return \"valor m menor que 2\"\n",
    "    else:\n",
    "        C = matrix(QQ, m)  # Matriz de ceros de tamaño m\n",
    "        for i in xsrange(m):\n",
    "            C[i,i] = 0\n",
    "            for j in xsrange(m):\n",
    "                if j!=i:\n",
    "                    C[i,j] = m - abs(i-j)\n",
    "        return C\n",
    "\n",
    "# Comprobación\n",
    "C = MC(2)\n",
    "show(C)\n",
    "C = MC(3)\n",
    "show(C)\n",
    "C = MC(5)\n",
    "show(C)"
   ]
  },
  {
   "cell_type": "code",
   "execution_count": 2,
   "id": "51ba3954",
   "metadata": {},
   "outputs": [
    {
     "data": {
      "text/html": [
       "<html><script type=\"math/tex; mode=display\">\\newcommand{\\Bold}[1]{\\mathbf{#1}}\\left(\\begin{array}{rr}\n",
       "0 & 1 \\\\\n",
       "1 & 0\n",
       "\\end{array}\\right)</script></html>"
      ],
      "text/latex": [
       "$$\\newcommand{\\Bold}[1]{\\mathbf{#1}}\\left(\\begin{array}{rr}\n",
       "0 & 1 \\\\\n",
       "1 & 0\n",
       "\\end{array}\\right)$$"
      ],
      "text/plain": [
       "[0 1]\n",
       "[1 0]"
      ]
     },
     "metadata": {},
     "output_type": "display_data"
    },
    {
     "data": {
      "text/html": [
       "<html><script type=\"math/tex; mode=display\">\\newcommand{\\Bold}[1]{\\mathbf{#1}}\\left(\\begin{array}{rrr}\n",
       "0 & \\frac{1}{2} & \\frac{1}{3} \\\\\n",
       "\\frac{2}{3} & 0 & \\frac{2}{3} \\\\\n",
       "\\frac{1}{3} & \\frac{1}{2} & 0\n",
       "\\end{array}\\right)</script></html>"
      ],
      "text/latex": [
       "$$\\newcommand{\\Bold}[1]{\\mathbf{#1}}\\left(\\begin{array}{rrr}\n",
       "0 & \\frac{1}{2} & \\frac{1}{3} \\\\\n",
       "\\frac{2}{3} & 0 & \\frac{2}{3} \\\\\n",
       "\\frac{1}{3} & \\frac{1}{2} & 0\n",
       "\\end{array}\\right)$$"
      ],
      "text/plain": [
       "[  0 1/2 1/3]\n",
       "[2/3   0 2/3]\n",
       "[1/3 1/2   0]"
      ]
     },
     "metadata": {},
     "output_type": "display_data"
    },
    {
     "data": {
      "text/html": [
       "<html><script type=\"math/tex; mode=display\">\\newcommand{\\Bold}[1]{\\mathbf{#1}}\\left(\\begin{array}{rrrrr}\n",
       "0 & \\frac{4}{13} & \\frac{3}{14} & \\frac{2}{13} & \\frac{1}{10} \\\\\n",
       "\\frac{2}{5} & 0 & \\frac{2}{7} & \\frac{3}{13} & \\frac{1}{5} \\\\\n",
       "\\frac{3}{10} & \\frac{4}{13} & 0 & \\frac{4}{13} & \\frac{3}{10} \\\\\n",
       "\\frac{1}{5} & \\frac{3}{13} & \\frac{2}{7} & 0 & \\frac{2}{5} \\\\\n",
       "\\frac{1}{10} & \\frac{2}{13} & \\frac{3}{14} & \\frac{4}{13} & 0\n",
       "\\end{array}\\right)</script></html>"
      ],
      "text/latex": [
       "$$\\newcommand{\\Bold}[1]{\\mathbf{#1}}\\left(\\begin{array}{rrrrr}\n",
       "0 & \\frac{4}{13} & \\frac{3}{14} & \\frac{2}{13} & \\frac{1}{10} \\\\\n",
       "\\frac{2}{5} & 0 & \\frac{2}{7} & \\frac{3}{13} & \\frac{1}{5} \\\\\n",
       "\\frac{3}{10} & \\frac{4}{13} & 0 & \\frac{4}{13} & \\frac{3}{10} \\\\\n",
       "\\frac{1}{5} & \\frac{3}{13} & \\frac{2}{7} & 0 & \\frac{2}{5} \\\\\n",
       "\\frac{1}{10} & \\frac{2}{13} & \\frac{3}{14} & \\frac{4}{13} & 0\n",
       "\\end{array}\\right)$$"
      ],
      "text/plain": [
       "[   0 4/13 3/14 2/13 1/10]\n",
       "[ 2/5    0  2/7 3/13  1/5]\n",
       "[3/10 4/13    0 4/13 3/10]\n",
       "[ 1/5 3/13  2/7    0  2/5]\n",
       "[1/10 2/13 3/14 4/13    0]"
      ]
     },
     "metadata": {},
     "output_type": "display_data"
    }
   ],
   "source": [
    "# Apartado b)\n",
    "def PC(m):\n",
    "    C = MC(m)\n",
    "    for j in xsrange(m):\n",
    "        columna = C.column(j)\n",
    "        suma = sum(columna)\n",
    "        for i in xsrange(m):\n",
    "            C[i,j] = C[i,j]/suma\n",
    "    return C\n",
    "\n",
    "# Comprobación \n",
    "matrizPC = PC(2)\n",
    "show(matrizPC)\n",
    "matrizPC = PC(3)\n",
    "show(matrizPC)\n",
    "matrizPC = PC(5)\n",
    "show(matrizPC)"
   ]
  },
  {
   "cell_type": "code",
   "execution_count": 3,
   "id": "a4e8fb9d",
   "metadata": {},
   "outputs": [
    {
     "data": {
      "text/html": [
       "<html><script type=\"math/tex; mode=display\">\\newcommand{\\Bold}[1]{\\mathbf{#1}}\\left(\\begin{array}{rrrrrrrrrr}\n",
       "0 & \\frac{9}{53} & \\frac{8}{59} & \\frac{1}{9} & \\frac{6}{65} & \\frac{1}{13} & \\frac{4}{63} & \\frac{3}{59} & \\frac{2}{53} & \\frac{1}{45} \\\\\n",
       "\\frac{1}{5} & 0 & \\frac{9}{59} & \\frac{8}{63} & \\frac{7}{65} & \\frac{6}{65} & \\frac{5}{63} & \\frac{4}{59} & \\frac{3}{53} & \\frac{2}{45} \\\\\n",
       "\\frac{8}{45} & \\frac{9}{53} & 0 & \\frac{1}{7} & \\frac{8}{65} & \\frac{7}{65} & \\frac{2}{21} & \\frac{5}{59} & \\frac{4}{53} & \\frac{1}{15} \\\\\n",
       "\\frac{7}{45} & \\frac{8}{53} & \\frac{9}{59} & 0 & \\frac{9}{65} & \\frac{8}{65} & \\frac{1}{9} & \\frac{6}{59} & \\frac{5}{53} & \\frac{4}{45} \\\\\n",
       "\\frac{2}{15} & \\frac{7}{53} & \\frac{8}{59} & \\frac{1}{7} & 0 & \\frac{9}{65} & \\frac{8}{63} & \\frac{7}{59} & \\frac{6}{53} & \\frac{1}{9} \\\\\n",
       "\\frac{1}{9} & \\frac{6}{53} & \\frac{7}{59} & \\frac{8}{63} & \\frac{9}{65} & 0 & \\frac{1}{7} & \\frac{8}{59} & \\frac{7}{53} & \\frac{2}{15} \\\\\n",
       "\\frac{4}{45} & \\frac{5}{53} & \\frac{6}{59} & \\frac{1}{9} & \\frac{8}{65} & \\frac{9}{65} & 0 & \\frac{9}{59} & \\frac{8}{53} & \\frac{7}{45} \\\\\n",
       "\\frac{1}{15} & \\frac{4}{53} & \\frac{5}{59} & \\frac{2}{21} & \\frac{7}{65} & \\frac{8}{65} & \\frac{1}{7} & 0 & \\frac{9}{53} & \\frac{8}{45} \\\\\n",
       "\\frac{2}{45} & \\frac{3}{53} & \\frac{4}{59} & \\frac{5}{63} & \\frac{6}{65} & \\frac{7}{65} & \\frac{8}{63} & \\frac{9}{59} & 0 & \\frac{1}{5} \\\\\n",
       "\\frac{1}{45} & \\frac{2}{53} & \\frac{3}{59} & \\frac{4}{63} & \\frac{1}{13} & \\frac{6}{65} & \\frac{1}{9} & \\frac{8}{59} & \\frac{9}{53} & 0\n",
       "\\end{array}\\right)</script></html>"
      ],
      "text/latex": [
       "$$\\newcommand{\\Bold}[1]{\\mathbf{#1}}\\left(\\begin{array}{rrrrrrrrrr}\n",
       "0 & \\frac{9}{53} & \\frac{8}{59} & \\frac{1}{9} & \\frac{6}{65} & \\frac{1}{13} & \\frac{4}{63} & \\frac{3}{59} & \\frac{2}{53} & \\frac{1}{45} \\\\\n",
       "\\frac{1}{5} & 0 & \\frac{9}{59} & \\frac{8}{63} & \\frac{7}{65} & \\frac{6}{65} & \\frac{5}{63} & \\frac{4}{59} & \\frac{3}{53} & \\frac{2}{45} \\\\\n",
       "\\frac{8}{45} & \\frac{9}{53} & 0 & \\frac{1}{7} & \\frac{8}{65} & \\frac{7}{65} & \\frac{2}{21} & \\frac{5}{59} & \\frac{4}{53} & \\frac{1}{15} \\\\\n",
       "\\frac{7}{45} & \\frac{8}{53} & \\frac{9}{59} & 0 & \\frac{9}{65} & \\frac{8}{65} & \\frac{1}{9} & \\frac{6}{59} & \\frac{5}{53} & \\frac{4}{45} \\\\\n",
       "\\frac{2}{15} & \\frac{7}{53} & \\frac{8}{59} & \\frac{1}{7} & 0 & \\frac{9}{65} & \\frac{8}{63} & \\frac{7}{59} & \\frac{6}{53} & \\frac{1}{9} \\\\\n",
       "\\frac{1}{9} & \\frac{6}{53} & \\frac{7}{59} & \\frac{8}{63} & \\frac{9}{65} & 0 & \\frac{1}{7} & \\frac{8}{59} & \\frac{7}{53} & \\frac{2}{15} \\\\\n",
       "\\frac{4}{45} & \\frac{5}{53} & \\frac{6}{59} & \\frac{1}{9} & \\frac{8}{65} & \\frac{9}{65} & 0 & \\frac{9}{59} & \\frac{8}{53} & \\frac{7}{45} \\\\\n",
       "\\frac{1}{15} & \\frac{4}{53} & \\frac{5}{59} & \\frac{2}{21} & \\frac{7}{65} & \\frac{8}{65} & \\frac{1}{7} & 0 & \\frac{9}{53} & \\frac{8}{45} \\\\\n",
       "\\frac{2}{45} & \\frac{3}{53} & \\frac{4}{59} & \\frac{5}{63} & \\frac{6}{65} & \\frac{7}{65} & \\frac{8}{63} & \\frac{9}{59} & 0 & \\frac{1}{5} \\\\\n",
       "\\frac{1}{45} & \\frac{2}{53} & \\frac{3}{59} & \\frac{4}{63} & \\frac{1}{13} & \\frac{6}{65} & \\frac{1}{9} & \\frac{8}{59} & \\frac{9}{53} & 0\n",
       "\\end{array}\\right)$$"
      ],
      "text/plain": [
       "[   0 9/53 8/59  1/9 6/65 1/13 4/63 3/59 2/53 1/45]\n",
       "[ 1/5    0 9/59 8/63 7/65 6/65 5/63 4/59 3/53 2/45]\n",
       "[8/45 9/53    0  1/7 8/65 7/65 2/21 5/59 4/53 1/15]\n",
       "[7/45 8/53 9/59    0 9/65 8/65  1/9 6/59 5/53 4/45]\n",
       "[2/15 7/53 8/59  1/7    0 9/65 8/63 7/59 6/53  1/9]\n",
       "[ 1/9 6/53 7/59 8/63 9/65    0  1/7 8/59 7/53 2/15]\n",
       "[4/45 5/53 6/59  1/9 8/65 9/65    0 9/59 8/53 7/45]\n",
       "[1/15 4/53 5/59 2/21 7/65 8/65  1/7    0 9/53 8/45]\n",
       "[2/45 3/53 4/59 5/63 6/65 7/65 8/63 9/59    0  1/5]\n",
       "[1/45 2/53 3/59 4/63 1/13 6/65  1/9 8/59 9/53    0]"
      ]
     },
     "metadata": {},
     "output_type": "display_data"
    },
    {
     "name": "stdout",
     "output_type": "stream",
     "text": [
      "True\n"
     ]
    }
   ],
   "source": [
    "# apartado c)\n",
    "def es_regular(M):\n",
    "    k=M.nrows()                    # Número de filas (que debe ser el mismo que el de columnas M.ncolumns())\n",
    "    ceros=k^2-len(M.nonzero_positions())\n",
    "    pasos=0\n",
    "    while ceros>0 and 2^pasos<=k^2: # Sale del bucle cuando 2^pasos>k^2 ó cuando ya no hay ceros\n",
    "        pasos+=1\n",
    "        M=M^2                      # Vamos a ir calculando con M, M^2, (M^2)^2=M^4, (M^4)^2=M^8, etc...\n",
    "        ceros=k^2-len(M.nonzero_positions())\n",
    "    return ceros==0 \n",
    "\n",
    "# Creamos la matriz transición\n",
    "matriz_transicion = PC(10)\n",
    "show(matriz_transicion)\n",
    "\n",
    "# Comprobamos que es regular\n",
    "print(es_regular(matriz_transicion))\n",
    "# Como es regular tiene autovalor dominante 1"
   ]
  },
  {
   "cell_type": "code",
   "execution_count": 4,
   "id": "8d099c90",
   "metadata": {},
   "outputs": [
    {
     "name": "stdout",
     "output_type": "stream",
     "text": [
      "Vector de proporciones a largo plazo: \n"
     ]
    },
    {
     "data": {
      "text/html": [
       "<html><script type=\"math/tex; mode=display\">\\newcommand{\\Bold}[1]{\\mathbf{#1}}\\left(\\frac{3}{38},\\,\\frac{53}{570},\\,\\frac{59}{570},\\,\\frac{21}{190},\\,\\frac{13}{114},\\,\\frac{13}{114},\\,\\frac{21}{190},\\,\\frac{59}{570},\\,\\frac{53}{570},\\,\\frac{3}{38}\\right)</script></html>"
      ],
      "text/latex": [
       "$$\\newcommand{\\Bold}[1]{\\mathbf{#1}}\\left(\\frac{3}{38},\\,\\frac{53}{570},\\,\\frac{59}{570},\\,\\frac{21}{190},\\,\\frac{13}{114},\\,\\frac{13}{114},\\,\\frac{21}{190},\\,\\frac{59}{570},\\,\\frac{53}{570},\\,\\frac{3}{38}\\right)$$"
      ],
      "text/plain": [
       "(3/38, 53/570, 59/570, 21/190, 13/114, 13/114, 21/190, 59/570, 53/570, 3/38)"
      ]
     },
     "metadata": {},
     "output_type": "display_data"
    }
   ],
   "source": [
    "AutoVector1=vector((matriz_transicion-identity_matrix(10)).right_kernel().basis()[0]) # Obtenemos un vector propio asociado al autovalor 1\n",
    "AutoVector1=AutoVector1/sum(AutoVector1)  # Lo normalizamos \n",
    "print(\"Vector de proporciones a largo plazo: \")\n",
    "show(AutoVector1) # Vector de proporciones a largo plazo."
   ]
  },
  {
   "cell_type": "markdown",
   "id": "9df1ca40-c768-49ff-a3b7-a832646c3d8f",
   "metadata": {},
   "source": [
    "><font color='red'>Queda muy enrevasada la resolución del apartado d). <ul><li>No se ve para qué sirve el tener una lista de pares $(j,v[k])$, la primera coordenada no la utilizas para nada.</li> <li>Para hacer una media de $30$ datos se divide su suma por $30$, no por $57000$.</li><li>La condición inicial te ha quedado dividida por $10$.</li><li>En lugar de arrastrar 10 variables, puedes aprovechar algún contenedor de varias posiciones (por ejemplo una lista o un vector). En cada momento puedes averiguar el valor de las posiciones que necesites.</li></ul>"
   ]
  },
  {
   "cell_type": "code",
   "execution_count": 5,
   "id": "4d449c43",
   "metadata": {},
   "outputs": [
    {
     "name": "stdout",
     "output_type": "stream",
     "text": [
      "Media en las tareas 3,4,5 y 6 tras 30 días: 24365.26330\n"
     ]
    }
   ],
   "source": [
    "# Apartado d)\n",
    "DatIn=vector((570,570,570,570,570,570,570,570,570,570)) # Condición inicial\n",
    "DatIn*=10#Corregida\n",
    "v=DatIn\n",
    "E0, E1, E2, E3, E4, E5, E6, E7, E8, E9 =[(0,v[0])],[(0,v[1])],[(0,v[2])],[(0,v[3])],[(0,v[4])],[(0,v[5])],[(0,v[6])],[(0,v[7])],[(0,v[8])],[(0,v[9])]\n",
    "for i in [1..30]:\n",
    "    v=matriz_transicion*v\n",
    "    E3=E3+[(i,v[2])]\n",
    "    E4=E4+[(i,v[2])]\n",
    "    E5=E5+[(i,v[2])]\n",
    "    E6=E6+[(i,v[2])]\n",
    "\n",
    "# Medias en tareas 3,4,5,6\n",
    "media_E3, media_E4, media_E5, media_E6 = 0,0,0,0\n",
    "for i in E3:\n",
    "    media_E3 = media_E3 + i[1]\n",
    "for i in E4:\n",
    "    media_E4 = media_E4 + i[1]\n",
    "for i in E5:\n",
    "    media_E5 = media_E5 + i[1]\n",
    "for i in E6:\n",
    "    media_E6 = media_E6 + i[1]\n",
    "\n",
    "# Las medias en estas tareas en los primeros 30 días son:\n",
    "media = media_E3 + media_E4 + media_E5 + media_E6\n",
    "#media = media/57000\n",
    "media = media/30#Corregida\n",
    "print(f\"Media en las tareas 3,4,5 y 6 tras 30 días: {media.n(digits=10)}\")"
   ]
  },
  {
   "cell_type": "markdown",
   "id": "98662520",
   "metadata": {},
   "source": [
    "**Problema 2** (hasta 4 puntos). Para cada real positivo $a$ la curva plana $TC_a$ de ecuación cartesiana\n",
    "$$\n",
    "(x^2+y^2+12ax+9a^2)^2=4a(2x+3a)^3\n",
    "$$\n",
    "se conoce como *tricúspide*, *deltoide* o *hipocicloide de Steiner*. Ecuaciones paramétricas para la misma son \n",
    "$$x(t)=a(2\\cos t+\\cos (2t)),\\quad y(t)=a(2\\mathop{\\mathrm{sen}}t-\\mathop{\\mathrm{sen}}(2t))\\quad t\\in[0,2\\pi).$$\n",
    "En la siguiente imagen se muestran en azul la tricúspide $TC_1$ y en rojo su simétrica respecto a la recta $y=x$ (resultado de intercambiar $x$ e $y$ en las ecuaciones).\n",
    "\n",
    "<center><img src=\"tricuspides.png\" width=\"30%\"></center>\n",
    "\n",
    "Se sabe que el área encerrada por la tricúspide $TC_a$ es $2\\pi a^2$ y sus *cúspides* son los puntos que corresponden a los valores $t=0$, $\\tfrac{2\\pi}3$ y $\\tfrac{4\\pi}3$ en las ecuaciones paramétricas.\n",
    "\n",
    "En el ejercicio se pide aproximar, por el método de Montecarlo:\n",
    "\n",
    "<ol><li type=\"a\"> (hasta 3 puntos) el área encerrada por la curva $TC_1$;</li>\n",
    "    <li type=\"a\"> (hasta 1 punto) el área encerrada entre las curvas $TC_1$ y y su simétrica respecto a la recta $y=x$.       \n",
    "De otra manera (ver la imagen inferior) la región de puntos que están, al tiempo, en el interior de una de las curvas y el exterior de la otra.</li></ol>\n",
    "\n",
    "\n",
    "<center><img src=\"inter_tricuspides.png\" width=\"30%\"></center>\n",
    "    \n",
    "*Nota*: en ambos cálculos se valorará que el rectángulo sobre el que realizar las simulaciones sea lo más ajustado posible."
   ]
  },
  {
   "cell_type": "markdown",
   "id": "f0a54a9a-60e2-4162-9f29-4e9a87ea9ca1",
   "metadata": {},
   "source": [
    "><font color='red'>Se puede ajustar mejor el rectángulo en el que simular.</font>"
   ]
  },
  {
   "cell_type": "code",
   "execution_count": 6,
   "id": "bd1dc8e1",
   "metadata": {},
   "outputs": [
    {
     "name": "stdout",
     "output_type": "stream",
     "text": [
      "Área calculada: 6.46920000000000\n",
      "Área experimental: 6.28318530717959\n"
     ]
    }
   ],
   "source": [
    "# Apartado a)\n",
    "a,b,c,d=-3,3,-3,3\n",
    "ARectangulo=(b-a)*(d-c)\n",
    "M=10000\n",
    "dentro=[]\n",
    "for _ in xsrange(M):\n",
    "    xx,yy=uniform(a,b),uniform(c,d)\n",
    "    if (xx^2 + yy^2 + 12*xx + 9)^2 < 4*((2*xx+3)^3):\n",
    "        dentro+=[(xx,yy)]\n",
    "Area=ARectangulo*len(dentro)/M\n",
    "print(f\"Área calculada: {Area.n()}\")\n",
    "print(f\"Área experimental: {2*pi.n()}\")"
   ]
  },
  {
   "cell_type": "markdown",
   "id": "1effb2da-208f-42a3-b8d1-960499801311",
   "metadata": {},
   "source": [
    "><font color='red'>Al hacerlo de esta manera, deberías quitar dos veces los puntos en $\\tt dentro3$, la intersección de las dos tricúspides.</font>\n",
    "\n",
    "><font color='red'>Como antes, se puede ajustar mejor el rectángulo en el que simular.</font>"
   ]
  },
  {
   "cell_type": "code",
   "execution_count": 7,
   "id": "10088523",
   "metadata": {},
   "outputs": [
    {
     "name": "stdout",
     "output_type": "stream",
     "text": [
      "El área es: 4.77000000000000\n"
     ]
    }
   ],
   "source": [
    "# Apartado b)\n",
    "a,b,c,d=-3,3,-3,3\n",
    "ARectangulo=(b-a)*(d-c)\n",
    "M=10000\n",
    "dentro1=[]\n",
    "dentro2=[]\n",
    "dentro3=[]\n",
    "for _ in xsrange(M):\n",
    "    xx,yy=uniform(a,b),uniform(c,d)\n",
    "    if (xx^2 + yy^2 + 12*xx + 9)^2 < 4*((2*xx+3)^3):\n",
    "        dentro1+=[(xx,yy)]\n",
    "    if (yy^2 + xx^2 + 12*yy + 9)^2 < 4*((2*yy+3)^3):\n",
    "        dentro2+=[(xx,yy)]\n",
    "    if (xx^2 + yy^2 + 12*xx + 9)^2 < 4*((2*xx+3)^3) and (yy^2 + xx^2 + 12*yy + 9)^2 < 4*((2*yy+3)^3):\n",
    "        dentro3+=[(xx,yy)]\n",
    "#Area=ARectangulo*(len(dentro1)/M + len(dentro2)/M - len(dentro3)/M)\n",
    "Area=ARectangulo*(len(dentro1)/M + len(dentro2)/M - 2*len(dentro3)/M)#Corregido\n",
    "print(f\"El área es: {Area.n()}\")"
   ]
  },
  {
   "cell_type": "code",
   "execution_count": null,
   "id": "9d06c414-4b9c-422c-8b72-d7a6374fb975",
   "metadata": {},
   "outputs": [],
   "source": []
  },
  {
   "cell_type": "markdown",
   "id": "61f33234",
   "metadata": {},
   "source": [
    "**Problema 3** (hasta 3 puntos). En un centro lúdico se tienen $4$ salas, etiquetadas $0$, $1$, $2$ y $3$. Cada visitante cambia de salas cada $30'$ tras el resultado de un sorteo que se realiza en la sala en la que se encuentra. En los siguientes grafos se indican, sobre las flechas dirigidas, las probabilidades de pasar de una sala a otra:\n",
    "\n",
    "<center><table><tr>\n",
    "    <td><img src=\"g0.png\" width=\"90%\"> </td>    \n",
    "    <td><img src=\"g1.png\" width=\"90%\"> </td>\n",
    "    </tr>\n",
    "    <tr>\n",
    "    <td><img src=\"g2.png\" width=\"90%\"> </td>\n",
    "    <td><img src=\"g3.png\" width=\"90%\"> </td>\n",
    "    </tr></table></center>\n",
    "    \n",
    "Se considera un visitante aleatorio que entra al centro por una sala sorteada al azar. En el ejercicio se pide\n",
    "<ol><li type='a'> (hasta 2 puntos) Simular un mes completo ininterrumpido y contabilizar el número de veces que pasa por cada sala. ¿Cuántas se esperaría?</li>\n",
    "<li type='a'> (hasta 1 punto) El centro decide que cada visitante ha de abandonarlo si ha de volver a la sala por la que entró o bien ha estado más de 24 horas (ningún visitante puede volver a entrar al centro en el mismo día). Si tras esta nueva política del centro un visitante ha recorrido o ha estado 24 horas, se considera que se ha realizado un <i>circuito completo</i>. Calcular, experimentalmente, la probabilidad de que se tenga un circuito completo.</li></ol>"
   ]
  },
  {
   "cell_type": "code",
   "execution_count": 8,
   "id": "61d7840f",
   "metadata": {},
   "outputs": [
    {
     "data": {
      "text/html": [
       "<html><script type=\"math/tex; mode=display\">\\newcommand{\\Bold}[1]{\\mathbf{#1}}\\left(\\begin{array}{rrrr}\n",
       "0 & \\frac{1}{4} & \\frac{1}{2} & \\frac{1}{2} \\\\\n",
       "\\frac{1}{6} & 0 & \\frac{1}{4} & \\frac{1}{3} \\\\\n",
       "\\frac{1}{3} & \\frac{1}{4} & 0 & \\frac{1}{6} \\\\\n",
       "\\frac{1}{2} & \\frac{1}{2} & \\frac{1}{4} & 0\n",
       "\\end{array}\\right)</script></html>"
      ],
      "text/latex": [
       "$$\\newcommand{\\Bold}[1]{\\mathbf{#1}}\\left(\\begin{array}{rrrr}\n",
       "0 & \\frac{1}{4} & \\frac{1}{2} & \\frac{1}{2} \\\\\n",
       "\\frac{1}{6} & 0 & \\frac{1}{4} & \\frac{1}{3} \\\\\n",
       "\\frac{1}{3} & \\frac{1}{4} & 0 & \\frac{1}{6} \\\\\n",
       "\\frac{1}{2} & \\frac{1}{2} & \\frac{1}{4} & 0\n",
       "\\end{array}\\right)$$"
      ],
      "text/plain": [
       "[  0 1/4 1/2 1/2]\n",
       "[1/6   0 1/4 1/3]\n",
       "[1/3 1/4   0 1/6]\n",
       "[1/2 1/2 1/4   0]"
      ]
     },
     "metadata": {},
     "output_type": "display_data"
    }
   ],
   "source": [
    "P = matrix(QQ,4)\n",
    "# De llegar a la sala 0:\n",
    "P[0,1] = 1/4\n",
    "P[0,2] = P[0,3] = 1/2\n",
    "# De llegar a la sala 1:\n",
    "P[1,0] = 1/6\n",
    "P[1,2] = 1/4\n",
    "P[1,3] = 1/3\n",
    "# De llegar a la sala 2:\n",
    "P[2,0] = 1/3\n",
    "P[2,1] = 1/4\n",
    "P[2,3] = 1/6\n",
    "# De llegar a la sala 3:\n",
    "P[3,0] = P[3,1] = 1/2\n",
    "P[3,2] = 1/4\n",
    "show(P)"
   ]
  },
  {
   "cell_type": "code",
   "execution_count": 9,
   "id": "af1f3b31",
   "metadata": {},
   "outputs": [],
   "source": [
    "def paso(v): \n",
    "    a=random()\n",
    "    Fk=v[0]\n",
    "    k=0\n",
    "    while a>Fk:\n",
    "        Fk+=v[k+1]\n",
    "        k+=1\n",
    "    return k"
   ]
  },
  {
   "cell_type": "markdown",
   "id": "1fe256b9-a2c8-4dce-b966-9e95183010fc",
   "metadata": {},
   "source": [
    "><font color='red'>No respondes a la pregunta final del apartado a).</font>"
   ]
  },
  {
   "cell_type": "code",
   "execution_count": 10,
   "id": "b2fa51ff",
   "metadata": {},
   "outputs": [
    {
     "name": "stdout",
     "output_type": "stream",
     "text": [
      "Número de veces que pasa por cada sala:\n",
      "{0: 422, 2: 294, 3: 435, 1: 289}\n"
     ]
    }
   ],
   "source": [
    "# Apartado a)\n",
    "mes = 30*24*60/30\n",
    "Frec = {}\n",
    "rep= mes\n",
    "sala=randint(0,3) # Sala inicial\n",
    "Frec[sala] = 1\n",
    "for _ in xsrange(mes-1):\n",
    "    sala=paso(P.column(sala))\n",
    "    if sala in Frec: Frec[sala] += 1\n",
    "    else: Frec[sala] = 1\n",
    "print(\"Número de veces que pasa por cada sala:\")\n",
    "print(Frec)"
   ]
  },
  {
   "cell_type": "markdown",
   "id": "ff21cba0-90cd-4da6-8905-c50f34c61c3f",
   "metadata": {},
   "source": [
    "><font color='red'>Al evaluar para corregir se queja de que $\\tt exitos$ no está definido. ¿Cambiaste en el último momento? Lo corrijo para seguir comprobando.</font> \n",
    "\n",
    "><font color='red'>La probabilidad se aproxima por $\\tt exitos/rep$, lo del factor $\\tt *100$ en el denominador ¿era para calcular el porcentaje? De ser así sería multiplicar por 100, no dividir por 100. Lo corrijo para seguir comprobando.</font>\n",
    "\n",
    "><font color='red'>Tu código da probabilidades superiores a 1, por lo que no puede ser correcto. Observa que el posible paseo por las salas $0, 3, 1, 2, 0$, contaría como éxito para tu código, pero lo haría sumando $4$ éxitos.</font>\n",
    "\n",
    "><font color='red'>Apartado mal resuelto.</font>"
   ]
  },
  {
   "cell_type": "code",
   "execution_count": 11,
   "id": "bb4e4973",
   "metadata": {},
   "outputs": [
    {
     "name": "stdout",
     "output_type": "stream",
     "text": [
      "{3: 2, 1: 3, 0: 1, 2: 12}\n",
      "Probabilidad de circuito completo:\n",
      "3.99996000000000\n"
     ]
    }
   ],
   "source": [
    "# Apartado b)\n",
    "dia = 24*60/30\n",
    "Frec = {}\n",
    "rep = 100000\n",
    "#fracasos = 0\n",
    "exitos=0 #Corregido\n",
    "\n",
    "for _ in xsrange(rep):\n",
    "    sala1=randint(0,3) # Sala inicial\n",
    "    Frec[sala1] = 1\n",
    "    sala=paso(P.column(sala1))\n",
    "    Frec[sala] = 1\n",
    "    for _ in xsrange(dia-2):\n",
    "        sala=paso(P.column(sala))\n",
    "        if sala in Frec: Frec[sala] += 1\n",
    "        else: Frec[sala] = 1\n",
    "        if Frec[sala1]>1:\n",
    "            for i in xsrange(4):\n",
    "                if i not in Frec:\n",
    "                    break\n",
    "                exitos+=1\n",
    "            break\n",
    "        else:  \n",
    "            continue\n",
    "print(Frec)\n",
    "print(\"Probabilidad de circuito completo:\")\n",
    "#print((exitos/(rep*100)).n())\n",
    "print((exitos/(rep)).n())#Corregido"
   ]
  },
  {
   "cell_type": "code",
   "execution_count": null,
   "id": "e4006303",
   "metadata": {},
   "outputs": [],
   "source": []
  }
 ],
 "metadata": {
  "kernelspec": {
   "display_name": "SageMath 9.5",
   "language": "sage",
   "name": "sagemath"
  },
  "language_info": {
   "codemirror_mode": {
    "name": "ipython",
    "version": 3
   },
   "file_extension": ".py",
   "mimetype": "text/x-python",
   "name": "python",
   "nbconvert_exporter": "python",
   "pygments_lexer": "ipython3",
   "version": "3.10.6"
  }
 },
 "nbformat": 4,
 "nbformat_minor": 5
}
