{
 "cells": [
  {
   "cell_type": "markdown",
   "id": "915d4f6c-faa1-488a-99bf-097939ad17d0",
   "metadata": {},
   "source": [
    "<font color='blue'><b>Calificación:</b> (3+3+0)+(1+0.5+0.4)+(1+0+0.3)=9.2</font>"
   ]
  },
  {
   "cell_type": "markdown",
   "id": "64f81865",
   "metadata": {
    "tags": []
   },
   "source": [
    "\n",
    "\n",
    "# Laboratorio 2022-23\n",
    "\n",
    "\n",
    "## Cuarto parcial (08-05-2023), grupo 7114\n",
    "\n",
    "\n",
    "\n",
    "Nombre y apellidos: \n",
    "\n",
    "\n",
    "\n",
    "\n",
    "_____________"
   ]
  },
  {
   "cell_type": "markdown",
   "id": "c8435b63",
   "metadata": {},
   "source": [
    "<b>Ejercicio 1</b> (hasta 7 puntos). Al evaluar la siguiente casilla se da valor a la cadena $\\text{encriptado1_14}$, el resultado de encriptar con el cifrado Vigenère cierto texto. Para el encriptado se consideró como $\\tt alfabeto$ la cadena de todos los caracteres que aparecieron en el texto original,  ordenados, de menor a mayor, tal como considera Sage, y excluyendo los espacios en blanco y los cambios de línea ($\\text{'$\\backslash$n'}$)."
   ]
  },
  {
   "cell_type": "code",
   "execution_count": 1,
   "id": "cbf09008",
   "metadata": {},
   "outputs": [
    {
     "name": "stdout",
     "output_type": "stream",
     "text": [
      "[5 ê6.P8 ,4 9-Q m24FC-Q oVE72;C?\n",
      "       kB3M-CB d2C?6;E\n",
      "\n",
      "    á*ê »Éúâz)Úl ÁÍ â*ó_ÍÚ\n",
      "\n",
      "      ûF2JAw 0 \n"
     ]
    }
   ],
   "source": [
    "load('encriptado1_14.py')\n",
    "print(encriptado1_14[:100])"
   ]
  },
  {
   "cell_type": "markdown",
   "id": "6b75d61a",
   "metadata": {},
   "source": [
    "En el ejercicio se pide:\n",
    "<ol><li type='a'> (hasta 3 puntos) Calcular, razonadamente, la longitud de la clave que se utilizó para encriptar el texto.</li> \n",
    "    <li type='a'> (hasta 3 puntos). Desencriptar el texto y mostrar, razonadamente, la palabra clave con la que se encriptó.</li>    \n",
    "    <li type='a'> (hasta 1 punto). Considerar en el texto original el $\\text{n-grama}$ de longitud $8$ más frecuente (y que se haya visto modificado por el encriptado). Considerar las maneras distintas en las que se pudo encriptar y localizar cuántas veces apareció cada una en el texto encriptado. Verifica si la suma de estas segundas coincide con las apariciones del $\\text{n-grama}$ en el original.   \n",
    "        <i>Nota:</i> La resolución de este apartado depende del éxito obtenido en los anteriores. Si no se han resuelto estos, al menos mostrar razonadamente qué se esperaría.</li>\n",
    "</ol>\n",
    "\n"
   ]
  },
  {
   "cell_type": "code",
   "execution_count": 2,
   "id": "72234e74",
   "metadata": {
    "tags": []
   },
   "outputs": [],
   "source": [
    "# Funciones de Vigenere:\n",
    "\n",
    "def contraVigenere(clave,alfabeto):\n",
    "    \n",
    "    # Compruebo si la clave es válida (todas sus letras están en el alfabeto)\n",
    "    if any([letra not in alfabeto for letra in clave]): \n",
    "        print('La clave y el alfabeto son incompatibles.')\n",
    "        return None\n",
    "    \n",
    "    # Traduzco la clave a números\n",
    "    clavenum=[alfabeto.index(letra) for letra in clave]\n",
    "    \n",
    "    return ''.join([alfabeto[-k] for k in clavenum]) # Construyo la contraclave y la devuelvo\n",
    "\n",
    "def cifradoVigenere(texto,clave,alfabeto):\n",
    "    \n",
    "    # Compruebo si la clave es válida (todas sus letras están en el alfabeto)\n",
    "    if any([letra not in alfabeto for letra in clave]): \n",
    "        print('La clave y el alfabeto son incompatibles.')\n",
    "        return None\n",
    "\n",
    "    L=len(alfabeto) # longitud alfabeto\n",
    "    long=len(clave) # longitud clave\n",
    "    clavenum=[alfabeto.index(letra) for letra in clave] # Obtengo la versión numérica de la clave\n",
    "    \n",
    "    # Paso al cifrado propiamente dicho\n",
    "    textocif=''\n",
    "    for k in xsrange(len(texto)):\n",
    "        letra=texto[k]\n",
    "        if letra in alfabeto:\n",
    "            letra=alfabeto[(alfabeto.index(letra)+clavenum[k%long])%L]           \n",
    "        textocif+=letra\n",
    "    return textocif\n",
    "    \n",
    "def caracteres(texto):\n",
    "    lista=list(set(texto)) # Usamos set para eliminar repeticiones\n",
    "    lista.sort()           # Lista ordenada, de menor a mayor\n",
    "    return ''.join(lista)\n",
    "\n",
    "def masfrecuentes(long,texto,alfabeto):\n",
    "    palabra=''\n",
    "    for j in xsrange(long):\n",
    "        letras=texto[j::long]                        # Lista de letras en posiciones congruentes con j módulo long\n",
    "        letrasUA=set(letras).intersection(alfabeto)  # Estas son las letras que se han usado y que están en el alfabeto\n",
    "        pares=[(letras.count(letra),letra) for letra in letrasUA] # Cuento cuántas veces aparece cada una de las letras usadas del alfabeto\n",
    "        pares.sort(reverse=true)\n",
    "        palabra+=pares[0][1]\n",
    "    return palabra\n",
    "\n",
    "def contraclave_Vigenere(texto,alfabeto,palabra):\n",
    "    long=len(palabra) # longitud de la clave\n",
    "    palabracodif=masfrecuentes(long,texto,alfabeto) # palabra formada por la letra más frecuente de cada bloque en el texto codificadoe\n",
    "    contra=[]         # cadena en la que concatenaremos los caracteres de la contraclave\n",
    "    for j in xsrange(long):\n",
    "        nuevaposicion_masfrec=alfabeto.index(palabracodif[j]) # índice de la letra más frecuente en el bloque j en el texto codificado\n",
    "        posicion_masfrec=alfabeto.index(palabra[j])           # índice de la letra más frecuente en el bloque j en el texto original\n",
    "        contra+=alfabeto[(-nuevaposicion_masfrec+posicion_masfrec)] # siguiente carácter en la contraclave (posición j)\n",
    "    return contra# la contraclave"
   ]
  },
  {
   "cell_type": "code",
   "execution_count": 81,
   "id": "6b789324",
   "metadata": {},
   "outputs": [
    {
     "name": "stdout",
     "output_type": "stream",
     "text": [
      "\n",
      " !'()*,-.0123456789:;?ABCDEFGHIJKLMNOPQRSTUVWXYZ[]_abcdefghijklmnopqrstuvwxyz¡«»¿ÁÉÍÑÓÚáâéêíîñóôúûü\n"
     ]
    }
   ],
   "source": [
    "caracteres(encriptado1_14)\n",
    "print(caracteres(encriptado1_14))"
   ]
  },
  {
   "cell_type": "code",
   "execution_count": 82,
   "id": "0e5c7352",
   "metadata": {},
   "outputs": [],
   "source": [
    "def repeticiones(texto):\n",
    "    letras=set(texto)\n",
    "    lista=[]\n",
    "    for letra in letras:\n",
    "        lista+=[(texto.count(letra), letra)]#Directamente relleno una lista con pares (frecuencia,letra)\n",
    "    lista.sort(reverse=true)#Ordeno la lista anterior de mayor a menor frecuencia\n",
    "    return lista"
   ]
  },
  {
   "cell_type": "code",
   "execution_count": 83,
   "id": "5c158d4d",
   "metadata": {},
   "outputs": [
    {
     "data": {
      "text/plain": [
       "[(125856, ' '),\n",
       " (36939, '-'),\n",
       " (32500, ';'),\n",
       " (31656, '?'),\n",
       " (29371, '2'),\n",
       " (28653, 'C'),\n",
       " (23256, 'B'),\n",
       " (20659, '5'),\n",
       " (19962, '1'),\n",
       " (18871, 'F'),\n",
       " (18845, '('),\n",
       " (18466, '8'),\n",
       " (17958, 'A'),\n",
       " (16750, '0'),\n",
       " (16468, '9'),\n",
       " (15313, '\\n'),\n",
       " (15260, '4'),\n",
       " (14922, 'G'),\n",
       " (13345, 'D'),\n",
       " (12322, '6')]"
      ]
     },
     "execution_count": 83,
     "metadata": {},
     "output_type": "execute_result"
    }
   ],
   "source": [
    "repeticiones(encriptado1_14)[:20]"
   ]
  },
  {
   "cell_type": "code",
   "execution_count": 9,
   "id": "ee3a8c9a",
   "metadata": {},
   "outputs": [],
   "source": [
    "# Propuesta de alfabeto.\n",
    "alfabeto='''!'()*,-.0123456789:;?ABCDEFGHIJKLMNOPQRSTUVWXYZ[]_abcdefghijklmnopqrstuvwxyz¡«»¿ÁÉÍÑÓÚáâéêíîñóôúûü''' "
   ]
  },
  {
   "cell_type": "code",
   "execution_count": 4,
   "id": "a5e0f5f2",
   "metadata": {},
   "outputs": [],
   "source": [
    "def ngramas(texto,n,m=30):\n",
    "    diccio=dict()#Será un diccionario de frecuencias de los n-gramas de texto\n",
    "    for k in xsrange(len(texto)-n+1): # k es la posición de la letra de comienzo del n-grama\n",
    "        ngrama=texto[k:k+n]           # Este es el n-grama que comienza en la posición k \n",
    "        if ngrama not in diccio: \n",
    "            diccio[ngrama]=1\n",
    "        else: \n",
    "            diccio[ngrama]+=1 \n",
    "    lista=[(diccio[ngrama], ngrama) for ngrama in diccio]\n",
    "    lista.sort(reverse=true)\n",
    "    lista2=[(ngr,frec) for frec,ngr in lista]#Lista de pares (ngrama,frecuencia)\n",
    "    return lista2[:m]#Solo quiero los m más frecuentes "
   ]
  },
  {
   "cell_type": "code",
   "execution_count": 5,
   "id": "750b66a0",
   "metadata": {},
   "outputs": [
    {
     "name": "stdout",
     "output_type": "stream",
     "text": [
      "[('   ', 2625), (' 1C', 1239), (' 35', 1224), (' 42', 1200), ('4? ', 1177), (' B-', 1170), (' ,¡', 1159), (' ,4', 1117), (' z-', 1099), (' 12', 1079), ('1C ', 1050), ('B- ', 1042), ('- 5', 946), ('42 ', 911), (' J ', 906), (',¡ ', 898), ('\\n  ', 895), ('z- ', 893), ('35 ', 885), (' F ', 882), (',4 ', 865), (' 5;', 865), ('M? ', 835), ('BFC', 820), ('8F ', 818), ('- ?', 816), (' 9;', 812), ('12 ', 810), ('éB4', 803), ('á? ', 800)]\n"
     ]
    }
   ],
   "source": [
    "print(ngramas(encriptado1_14,3))"
   ]
  },
  {
   "cell_type": "code",
   "execution_count": 6,
   "id": "979f2ca1",
   "metadata": {},
   "outputs": [],
   "source": [
    "def MCDdistancias(texto,ngrama):\n",
    "    #Lista de posiciones del ngrama en el texto\n",
    "    posiciones=[]\n",
    "    for k in xsrange(len(texto)-len(ngrama)+1):  \n",
    "        if texto[k:k+len(ngrama)]==ngrama: # Indentifico en qué posiciones k gaparece el n-grama\n",
    "            posiciones.append(k)           # Las añado a la lista posiciones\n",
    "    #Lista de distancias entre dos apariciones consecutivas\n",
    "    distancias=[]\n",
    "    for j in xsrange(len(posiciones)-1):\n",
    "        distancias.append(posiciones[j+1]-posiciones[j])\n",
    "    # Solo tiene sentido calcular distancias si el n-grama aparece al menos dos veces\n",
    "    if len(distancias)>=1: \n",
    "        return gcd(distancias)\n",
    "    else: return 0  # Si no hay al menos dos apariciones el programa devolverá 0 "
   ]
  },
  {
   "cell_type": "code",
   "execution_count": 13,
   "id": "689d481f",
   "metadata": {},
   "outputs": [
    {
     "name": "stdout",
     "output_type": "stream",
     "text": [
      "[1, 1, 1, 1, 1, 1, 1, 1, 1, 1, 1, 1, 1, 1, 1, 1, 1, 1, 1, 1, 1, 1, 1, 1, 1, 1, 1, 1, 1, 1]\n",
      "[1, 1, 1, 1, 1, 1, 1, 1, 8, 2, 1, 1, 2, 1, 1, 8, 1, 8, 8, 1, 2, 2, 1, 1, 1, 1, 2, 1, 1, 4]\n",
      "[1, 1, 8, 8, 8, 8, 8, 8, 8, 8, 8, 8, 8, 8, 8, 8, 8, 1, 8, 8, 1, 8, 8, 8, 1, 8, 8, 8, 8, 8]\n",
      "[1, 1, 8, 8, 8, 8, 8, 8, 1, 8, 8, 8, 8, 8, 8, 8, 8, 8, 8, 8, 8, 8, 8, 1, 8, 8, 8, 8, 8, 8]\n",
      "[1, 1, 1, 8, 8, 8, 8, 8, 8, 8, 8, 8, 8, 8, 8, 8, 8, 8, 8, 8, 8, 8, 8, 8, 8, 8, 8, 8, 8, 8]\n",
      "[1, 1, 1, 8, 8, 8, 8, 8, 8, 8, 8, 8, 8, 8, 8, 8, 8, 8, 8, 8, 8, 8, 1, 8, 8, 8, 8, 8, 8, 8]\n",
      "[1, 1, 1, 8, 8, 8, 8, 8, 8, 8, 8, 8, 8, 8, 8, 8, 8, 8, 8, 8, 8, 8, 8, 8, 8, 8, 8, 8, 8, 8]\n",
      "[1, 1, 8, 8, 8, 8, 8, 8, 8, 1, 8, 8, 8, 8, 8, 8, 8, 8, 8, 8, 8, 8, 8, 8, 8, 8, 8, 8, 8, 1]\n",
      "[1, 1, 8, 8, 1, 8, 8, 8, 8, 8, 8, 8, 8, 8, 8, 8, 8, 8, 8, 8, 8, 8, 8, 8, 8, 8, 8, 8, 8, 8]\n"
     ]
    }
   ],
   "source": [
    "# Esto tarda bastante en ejecutarse pero obtenemos un propuesta fuerte de cual puede ser la longitud de la clave.\n",
    "for n in [2..10]:\n",
    "    distancias=[]\n",
    "    ngramasfrec=[ngr[0] for ngr in ngramas(encriptado1_14,n)]\n",
    "    for ngrama in ngramasfrec:\n",
    "        distancias.append(MCDdistancias(encriptado1_14,ngrama))\n",
    "    print(distancias)"
   ]
  },
  {
   "cell_type": "code",
   "execution_count": 7,
   "id": "a1c1fdd3",
   "metadata": {},
   "outputs": [],
   "source": [
    "#La propuesta es que la longitud de la clave es lc = 8\n",
    "lc=8 # Respuesta apartado a)"
   ]
  },
  {
   "cell_type": "code",
   "execution_count": 10,
   "id": "6819b9bf",
   "metadata": {},
   "outputs": [],
   "source": [
    "contraclave=contraclave_Vigenere(encriptado1_14, alfabeto, 'e'*lc) \n",
    "\n",
    "# Ya sabemos que aquí hay incertidumbres\n",
    "# ¿Sería un texto en castellano?\n",
    "# Si lo era, ¿será la \"e\" la más frecuente de cada bloque?"
   ]
  },
  {
   "cell_type": "code",
   "execution_count": 11,
   "id": "a76a1702",
   "metadata": {},
   "outputs": [
    {
     "name": "stdout",
     "output_type": "stream",
     "text": [
      "Ip Pifvs hi lew Xmivrew Zôvkeriw\n",
      "       Vyh»avh Omtpirk\n",
      "\n",
      "    PSW LIVMERSW HI QS[KPM\n",
      "\n",
      "      Wuipxe e le rsgli Qerk1 il qyvgmñleks1\n",
      "    xvíipe ir wyw apew Vern1 ip qmlersC\n",
      "    »e ir syw gsvvapiw pew zegew huivqir1\n",
      "    hi pow gsvhirsw hyivmi ip vibeûs1\n",
      "    xvew paw givvedew tyivtew wi isgsrhir\n",
      "    tsvuui lewxe ep epfe pmfviw vekeqsw3\n",
      "    Úwxa iw pe hsveB jyev¿e » srkyppsC\n",
      "    kevva ejmpeha1 wmpircms geyxo3\n",
      "    ÁYe ip kvixs wyira* ÁGe¿e efyrherti\n",
      "    tave ip uui sfwivve pe piy uyi eqaqsw*\n",
      "\n",
      "    dGerg\n"
     ]
    }
   ],
   "source": [
    "original=cifradoVigenere(encriptado1_14,contraclave,alfabeto)\n",
    "print(original[:500])"
   ]
  },
  {
   "cell_type": "code",
   "execution_count": 12,
   "id": "fddd1b45",
   "metadata": {},
   "outputs": [
    {
     "name": "stdout",
     "output_type": "stream",
     "text": [
      "El Lebro de has Tiernas Vírganes\n",
      "       RudyZrd Kipleng\n",
      "\n",
      "    LOS HERIANOS DE MOWGLI\n",
      "\n",
      "      Sqelta a ha noche Mang, eh murciéhago,\n",
      "    tráela en sus Zlas Ranj, el mihano;\n",
      "    ya en ous corrZles las vacas dqermen,\n",
      "    de lks cordenos duerie el re[año,\n",
      "    tras lZs cerra_as puerpas se eoconden\n",
      "    porqqe hasta al alba libres ragamos.\n",
      "    ÉstZ es la dora: fuarza y ongullo;\n",
      "    garrZ afiladZ, silen]io cautk.\n",
      "    ¡Ua el greto suenZ! ¡Caza abundanpe\n",
      "    pZra el qqe obserra la leu que amZmos!\n",
      "\n",
      "    _Canc\n"
     ]
    }
   ],
   "source": [
    "# Veamos si e no es la más frecuente:\n",
    "contraclave=contraclave_Vigenere(encriptado1_14, alfabeto, 'a'*lc)\n",
    "original=cifradoVigenere(encriptado1_14,contraclave,alfabeto)\n",
    "print(original[:500]) # Vemos un texto más similar a lo que podría ser el original."
   ]
  },
  {
   "cell_type": "code",
   "execution_count": 13,
   "id": "962d9410",
   "metadata": {},
   "outputs": [
    {
     "name": "stdout",
     "output_type": "stream",
     "text": [
      "El Libro de las Tierras Vírgenes\n",
      "       Rudyard Kipling\n",
      "\n",
      "    LOS HERMANOS DE MOWGLI\n",
      "\n",
      "      Suelta a la noche Mang, el murciélago,\n",
      "    tráela en sus alas Rann, el milano;\n",
      "    ya en sus corrales las vacas duermen,\n",
      "    de los corderos duerme el rebaño,\n",
      "    tras las cerradas puertas se esconden\n",
      "    porque hasta al alba libres vagamos.\n",
      "    Ésta es la hora: fuerza y orgullo;\n",
      "    garra afilada, silencio cauto.\n",
      "    ¡Ya el grito suena! ¡Caza abundante\n",
      "    para el que observa la ley que amamos!\n",
      "\n",
      "    _Canc\n"
     ]
    }
   ],
   "source": [
    "# Cambiamos un poco las 8 as:\n",
    "contraclave=contraclave_Vigenere(encriptado1_14, alfabeto, 'aaaaeaaa')\n",
    "original=cifradoVigenere(encriptado1_14,contraclave,alfabeto)\n",
    "print(original[:500]) # Vemos un texto más similar a lo que podría ser el original."
   ]
  },
  {
   "cell_type": "code",
   "execution_count": 14,
   "id": "29fdbb28",
   "metadata": {},
   "outputs": [
    {
     "name": "stdout",
     "output_type": "stream",
     "text": [
      "Bagheera\n"
     ]
    }
   ],
   "source": [
    "# Vemos la clave que nos saldría\n",
    "clave=contraVigenere(contraclave,alfabeto)\n",
    "print(clave)"
   ]
  },
  {
   "cell_type": "markdown",
   "id": "2c3bb121",
   "metadata": {},
   "source": [
    "<b>Ejercicio 2</b> (hasta 2 puntos). Para encriptar textos dos amigos acuerdan el siguiente método:\n",
    "<ul><li>Se pasa el texto a letras minúsculas y se quitan las tildes de las vocales.</li>\n",
    "    <li>Se toma como alfabeto de encriptado\n",
    "    $$\\text{alfabeto='abcdefghijklmnopqrstuvwxyzñ'}$$\n",
    "    de $27$ letras (solo intercambiarán, biyectivamente, entre ellas las letras de este alfabeto).</li>\n",
    "    <li>Elaborarán una cadena \n",
    "        $$\\text{original='}\\tt c_0c_1c_2\\dots c_{26}\\text{'}$$\n",
    "    con las letras de la cadena $\\text{alfabeto}$ ordenadas por su frecuencia de aparición en el texto, de menor a mayor frecuencia (por su orden en $\\text{alfabeto}$ en caso de igual frecuencia). Las letras del alfabeto que no aparezcan en el texto aparecen al principio de esta cadena (su frecuencia es $0$).</li>\n",
    "    <li>Para encriptar el texto, intercambiarán cada letra de la cadena $\\text{original}$ con la que ocupa el lugar simétrico en $\\text{original}$: $\\tt c_0\\leftrightarrow c_{26}$, $\\tt c_1\\leftrightarrow c_{25}$, $\\tt c_2\\leftrightarrow c_{24}$, $\\tt c_3\\leftrightarrow c_{23}$, $\\dots$, $\\tt c_{12}\\leftrightarrow c_{14}$, $\\tt c_{13}\\leftrightarrow c_{13}$ ($\\tt c_{13}$ no cambia al intercambiarse con ella misma)."
   ]
  },
  {
   "cell_type": "markdown",
   "id": "b4e986da",
   "metadata": {},
   "source": [
    "En el ejercicio se pide, suponiendo que los textos a los que se aplica son en minúsculas y sin tildes:\n",
    "<ol><li type='a'> (hasta 1 punto). Codificar una función $\\text{BiyeccionEj2}()$ que dado un texto devuelva la biyección completa de $\\text{alfabeto}$ que se utilizaría para ese texto con este sistema de encriptado.</li>\n",
    "<li type='a'> (hasta 0.5 puntos). Codificar una función $\\text{EncriptaEj2}()$ que dado un texto devuelva el resultado de encriptarlo con este sistema.</li>\n",
    "<li type='a'> (hasta 0.5 puntos). Al ejecutar la celda que sigue se carga, con nombre $\\text{encriptado2_14}$, una cadena resultado de encriptar, con este sistema, cierto texto. Averiguar el texto que se encriptó.\n",
    "</ol>    "
   ]
  },
  {
   "cell_type": "code",
   "execution_count": 22,
   "id": "0984b6c9",
   "metadata": {},
   "outputs": [
    {
     "name": "stdout",
     "output_type": "stream",
     "text": [
      "ngwj fwbxj nqbkjks\n",
      "\n",
      "pñwykfx t tx\n",
      "\n",
      "kñkuqw wjhwñgsw\n",
      "\n",
      "w ñw bkbxfqw hk wugkhqññw,\n",
      "ñw pxmfk ñxvw hk ñw vw\n"
     ]
    }
   ],
   "source": [
    "load('encriptado2_14.py')\n",
    "print(encriptado2_14[:100])"
   ]
  },
  {
   "cell_type": "code",
   "execution_count": 16,
   "id": "da5a57ed",
   "metadata": {},
   "outputs": [],
   "source": [
    "alfabeto='abcdefghijklmnopqrstuvwxyzñ'"
   ]
  },
  {
   "cell_type": "code",
   "execution_count": 17,
   "id": "18713f4d",
   "metadata": {},
   "outputs": [],
   "source": [
    "def Frecuencias_texto(texto):\n",
    "    diccio=dict()\n",
    "    textomay=texto.lower()\n",
    "    for letra in textomay:\n",
    "        if letra not in diccio:\n",
    "            diccio[letra]=0\n",
    "        diccio[letra]+=1\n",
    "    return diccio"
   ]
  },
  {
   "cell_type": "markdown",
   "id": "f216b759-7a3d-47f1-9a33-d28b654b2067",
   "metadata": {},
   "source": [
    "><font color='blue'>En el enunciado se especifica que los textos ya están en minúsculas y sin tildes.</font>"
   ]
  },
  {
   "cell_type": "code",
   "execution_count": 18,
   "id": "ce6dcd65",
   "metadata": {},
   "outputs": [],
   "source": [
    "def BiyeccionEj2(texto, alfabeto='abcdefghijklmnopqrstuvwxyzñ'):\n",
    "    # Minúsculas y sin tildes:\n",
    "    texto = texto.lower()\n",
    "    texto = texto.replace('á','a')\n",
    "    texto = texto.replace('é','e')\n",
    "    texto = texto.replace('í','i')\n",
    "    texto = texto.replace('ó','o')\n",
    "    texto = texto.replace('ú','u')\n",
    "    \n",
    "    # Lista de frecuencias en el texto:\n",
    "    frecs=Frecuencias_texto(texto)\n",
    "    listafrec=[(frecs[k], k) for k in frecs.keys()]\n",
    "    listafrec.sort()\n",
    "    \n",
    "    # Cadena 'original'\n",
    "    original = ''\n",
    "    for letra in alfabeto:\n",
    "        if letra not in texto:\n",
    "            original += letra\n",
    "    \n",
    "    for valor, letra in listafrec:\n",
    "        if letra in alfabeto:\n",
    "            original += letra\n",
    "    \n",
    "    # Creamos la biyección:\n",
    "    original_modificado = original\n",
    "    biyeccion = dict()\n",
    "    for letra in original:\n",
    "        biyeccion[letra] = original_modificado[-1]\n",
    "        original_modificado = original_modificado[:-1]\n",
    "    return biyeccion"
   ]
  },
  {
   "cell_type": "code",
   "execution_count": 19,
   "id": "395b5232",
   "metadata": {},
   "outputs": [
    {
     "name": "stdout",
     "output_type": "stream",
     "text": [
      "{'b': 'a', 'c': 'r', 'd': 'o', 'e': 'h', 'g': 's', 'j': 'm', 'k': 'i', 'l': 'f', 'n': 'ñ', 'p': 'z', 'q': 'y', 't': 'x', 'u': 'w', 'v': 'v', 'w': 'u', 'x': 't', 'y': 'q', 'z': 'p', 'ñ': 'n', 'f': 'l', 'i': 'k', 'm': 'j', 's': 'g', 'h': 'e', 'o': 'd', 'r': 'c', 'a': 'b'}\n"
     ]
    }
   ],
   "source": [
    "# Pequeña comprobación.\n",
    "prueba = \"Ahora hará más frío\"\n",
    "original = BiyeccionEj2(prueba)\n",
    "print(original)"
   ]
  },
  {
   "cell_type": "markdown",
   "id": "807e2262-53c2-4d42-a776-f643f3550a57",
   "metadata": {},
   "source": [
    "><font color='blue'>Puesto que el diccionario a utilizar ($\\tt clave$) tiene que ser la biyección que se obtiene aplicando $\\tt BiyeccionEj2$ a $\\tt texto$, se podría obtener dentro de la función $\\tt EncriptaEj2$ a partir de $\\tt texto$, sin tener que pedirla como <i>input</i></font>"
   ]
  },
  {
   "cell_type": "code",
   "execution_count": 20,
   "id": "ee30d2c9",
   "metadata": {},
   "outputs": [],
   "source": [
    "def EncriptaEj2(texto, clave): # La clave tiene que ser la biyección obtenida con la función anterior:\n",
    "    texto_cifrado = ''\n",
    "    for letra in texto:\n",
    "        if letra in clave:\n",
    "            letra = clave[letra]\n",
    "        texto_cifrado += letra\n",
    "    return texto_cifrado"
   ]
  },
  {
   "cell_type": "code",
   "execution_count": 21,
   "id": "44908b29",
   "metadata": {},
   "outputs": [
    {
     "name": "stdout",
     "output_type": "stream",
     "text": [
      "Aedcb ebcá jág lcíd\n",
      "Ahora hará más frío\n"
     ]
    }
   ],
   "source": [
    "texto_cifrado = EncriptaEj2(prueba, original)\n",
    "print(texto_cifrado)\n",
    "texto_original = EncriptaEj2(texto_cifrado, original)\n",
    "print(texto_original)"
   ]
  },
  {
   "cell_type": "markdown",
   "id": "0df21425-faa2-42f8-b7c2-b07570c4a433",
   "metadata": {},
   "source": [
    "><font color='blue'>¿Sabrías justificar por qué sirve para desencriptar el diccionario que extraes tomando el texto ${\\tt encriptado2}\\_{\\tt 14}$ en lugar del texto original? Tendrías que tomar el inverso, pero ocurre que según se construye, el diccionario siempre es inverso de sí mismo (es una trasposición, intercambia las letras por parejas).</font>"
   ]
  },
  {
   "cell_type": "code",
   "execution_count": 74,
   "id": "528f36d6",
   "metadata": {},
   "outputs": [
    {
     "name": "stdout",
     "output_type": "stream",
     "text": [
      "juan ramon jimenez\n",
      "\n",
      "platero y yo\n",
      "\n",
      "elegia andaluza\n",
      "\n",
      "a la memoria de aguedilla,\n",
      "la pobre loca de la ca\n"
     ]
    }
   ],
   "source": [
    "# Apartado c)\n",
    "clave = BiyeccionEj2(encriptado2_14)\n",
    "texto_original = EncriptaEj2(encriptado2_14, clave)\n",
    "print(texto_original[:100])"
   ]
  },
  {
   "cell_type": "markdown",
   "id": "8a21894b",
   "metadata": {},
   "source": [
    "<b>Ejercicio 3</b> (hasta 2 puntos). Dado un alfabeto de caracteres (una cadena de caracteres sin repetición), $\\tt abc$, y un entero, $\\tt semilla$, se define la  aplicación, $\\tt F$, entre el conjunto de caracteres de $\\tt abc$ y él mismo, que queda descrita de la siguiente manera:\n",
    "<ul><li>Se considera la sucesión de enteros $a_0,a_1,a_2,\\dots,a_{\\tt L-1}$, con ${\\tt L=len}({\\tt abc})$, definida por:\n",
    "    $$\\begin{align*}\n",
    "    \\tt a_0&= \\tt semilla\\% L\\\\\n",
    "    \\tt\\text{para }j=1,2,\\dots,L-1\\quad\\tt a_j&=\\tt \\text{ el primer índice de la forma } \n",
    "    (a_{j-1}*semilla+k)\\% L \\text{ con }k\\ge 0\\\\\n",
    "    & \\tt\\qquad \\text{que no haya aparecido aún }(a_j\\neq a_k\\forall k<j).\n",
    "    \\end{align*}\n",
    "    $$\n",
    "    En particular todos son distintos mayores o iguales que $0$ y estrictamente menores que $L$.</li>\n",
    "<li> ${\\tt F}({\\tt abc}[{\\tt j}])={\\tt abc}[{\\tt a_j}]$.</ul>\n",
    "<details><summary><b>Un ejemplo.-</b> (clicar sobre el triángulo para verlo)</summary> Para $\\text{abc='abcdefghijk'}$, con ${\\tt L=len}({\\tt abc})=11$, y $\\tt semilla=2$ se tiene que $\\tt a_0=2\\%10=2$ y \n",
    "$$\\begin{align*}\n",
    "a_1&=(a_0*2)\\%11=4,\\,a_2=(a_1*2)\\%11=8,\\,a_3=(a_2*2)\\%11=5,\\,a_4=(a_3*2)\\%11=10,\n",
    "\\\\\n",
    " a_5&=(a_4*2)\\%11=9,\\,a_6=(a_5*2)\\%11=7,\\,a_7=(a_6*2)\\%11=3,\\,a_8=(a_7*2)\\%11=6,\\\\\n",
    " a_9&=(a_8*2)\\%10=1 \\text{ y }a_{10}=0 \\text{ pues es el único que queda},\\\\\n",
    "\\end{align*}$$\n",
    "$\\newcommand{\\F}[2]{\\tt F[\\text{'#1'}]=\\text{'#2'}}$de manera que: \n",
    "$$\\begin{align*}\\F ac&,\\,\\,\\F be,\\,\\,\\F ci,\\,\\,\\F df,\\,\\,\\F ek,\\,\\,\\\\\n",
    "\\F fj&,\\,\\,\\F gh,\\,\\,\\F hd,\\,\\,\\F ig,\\,\\,\\F jb,\\,\\,\\F ka.\n",
    "\\end{align*}$$\n",
    "</details>\n",
    "<details><summary><b>Un segundo ejemplo.-</b> (clicar sobre el triángulo para verlo)</summary> En cambio, si con la misma $\\tt semilla=2$ se toma el alfabeto $\\text{abc='abcdef'}$ de ${\\tt len}({\\tt abc})=6$, se tiene $\\tt a_0=2\\%6=2$ y \n",
    "$$\\begin{align*}a_1&=(a_0*2)\\%6=4,\\,a_2=(a_1*2+1)\\%6=3,\\,\\,\\text{ pues }(a_1*2)\\%6=2=a_0,\\\\\n",
    "a_3&=(a_2*2)\\%6=0,\\,\\,a_4=(a_3*2+1)\\%6=1,\\,\\,\\text{ pues }(a_3*2)\\%6=0=a_3\\\\\n",
    " a_5&=(a_4*2+3)\\%6=5,\\,\\,\\text{ el último por asignar}\\\\\n",
    " &\\qquad\\qquad \\big((a_4*2)\\%6=2=a_0,\\,\\,(a_4*2+1)\\%6=3=a_2,\n",
    " \\,\\,(a_4*2+2)\\%6=4=a_1\\big)\n",
    "\\end{align*}$$\n",
    "y así:\n",
    "$$\\begin{align*}\\F ac&,\\,\\,\\F be,\\,\\,\\F cd,\\,\\,\\F da,\\,\\,\\F eb,\\,\\,\\F ff.\n",
    "\\end{align*}$$\n",
    "</details>    \n",
    "\n",
    "Obsérvese que una tal aplicación es siempre biyectiva, y que hay tantas distintas como distintas maneras se tiene de empezar (elegir la primera imagen), luego tantas como valores de $\\tt semilla\\%L$, y por tanto hay ${\\tt L=len}({\\tt abc})$. La biyección con $\\tt semilla=0\\%L$ es la identidad.\n",
    "\n",
    "En lo que sigue diremos que una biyección como la descrita es una <b>biyección geométrica</b>. En el ejercicio se pide:\n",
    "<ol><li type='a'> (hasta 1 punto). Codificar una función $\\tt DicGeometrico$ que dado un entero $\\tt semilla$ y un alfabeto $\\tt abc$ (una cadena de caracteres distintos) devuelva un diccionario $\\tt F$ tal que ${\\tt F}[{\\tt abc}[{\\tt j}]]={\\tt abc}[{\\tt a_j}]$ con $\\tt a_j$ definida como se ha especificado arriba.</li>\n",
    "    \n",
    "<li type='a'> (hasta 0.5 puntos). Para el alfabeto $\\text{abc='abcdefhijklmn'}$, ¿existe alguna biyección geométrica, distinta de la identidad, tal que su inversa sea también biyección geométrica?</li>\n",
    "    \n",
    "<li type='a'> (hasta 0.5 puntos). De una biyección $F:A\\longrightarrow A$ decimos que $x$ es un punto fijo si $F(x)=x$. Una biyección sin puntos fijos se dice un desbarajuste. Encontrar todas las biyecciones <b>geométricas</b> de $$\\text{abc='abcdefghijklmnñopqrstuvwxyz'}$$ que son desbarajustes.</li></ol>"
   ]
  },
  {
   "cell_type": "code",
   "execution_count": 23,
   "id": "be71e1bf",
   "metadata": {},
   "outputs": [],
   "source": [
    "def DicGeometrico(semilla, alfabeto):\n",
    "    L = len(alfabeto)\n",
    "    a0 = semilla%L\n",
    "    lista_as = []\n",
    "    lista_as.append(a0)\n",
    "    for _ in xsrange(1,L):\n",
    "        k = 1\n",
    "        a = (lista_as[-1]*semilla)%L\n",
    "        if a not in lista_as:\n",
    "            lista_as.append(a)\n",
    "        else:\n",
    "            while a in lista_as:\n",
    "                a = (lista_as[-1]*semilla + k)%L\n",
    "                k = k + 1\n",
    "            lista_as.append(a)\n",
    "    \n",
    "    biyeccion = dict()\n",
    "    i = 0\n",
    "    for letra in alfabeto:\n",
    "        biyeccion[letra] = alfabeto[lista_as[i]]\n",
    "        i = i+1\n",
    "    \n",
    "    return biyeccion"
   ]
  },
  {
   "cell_type": "code",
   "execution_count": 24,
   "id": "411aaf76",
   "metadata": {},
   "outputs": [
    {
     "name": "stdout",
     "output_type": "stream",
     "text": [
      "{'a': 'c', 'b': 'e', 'c': 'i', 'd': 'f', 'e': 'k', 'f': 'j', 'g': 'h', 'h': 'd', 'i': 'g', 'j': 'b', 'k': 'a'}\n"
     ]
    }
   ],
   "source": [
    "# Probamos:\n",
    "prueba = DicGeometrico(2, 'abcdefghijk')\n",
    "print(prueba)"
   ]
  },
  {
   "cell_type": "code",
   "execution_count": 25,
   "id": "1bfc9404",
   "metadata": {},
   "outputs": [],
   "source": [
    "# Apartado b)\n",
    "alafabeto='abcdefhijklmn'"
   ]
  },
  {
   "cell_type": "markdown",
   "id": "16200acd-f327-420b-983c-53763e98d856",
   "metadata": {},
   "source": [
    "><font color='red'>Solo hay $\\text{27=len(alfabeto)}$ posibles diccionarios geométricos para $\\tt alfabeto$. No puede haber tantos desbarajustes. Revisa tu planteamiento.</font>\n",
    "\n",
    "><font color='blue'>Corregidas un par de líneas en tu código, contarías bien los desbarajustes.</font>"
   ]
  },
  {
   "cell_type": "code",
   "execution_count": 30,
   "id": "1fe1f19b",
   "metadata": {},
   "outputs": [
    {
     "name": "stdout",
     "output_type": "stream",
     "text": [
      "Hay 10 desvarajustes para este alfabeto\n"
     ]
    }
   ],
   "source": [
    "# Apartado c)\n",
    "alfabeto='abcdefghijklmnñopqrstuvwxyz'\n",
    "desvarajustes = []\n",
    "    #for semilla in xsrange(500000):#CORREGIDO\n",
    "for semilla in xsrange(len(alfabeto)):    \n",
    "    #posible_desvarajuste = DicGeometrico(semilla, 'abcdefghijk')#CORREGIDO\n",
    "    posible_desvarajuste = DicGeometrico(semilla, alfabeto)\n",
    "    for clave, valor in posible_desvarajuste.items():\n",
    "        if clave == valor:\n",
    "            break\n",
    "    else:\n",
    "        desvarajustes.append(posible_desvarajuste)\n",
    "\n",
    "print(f\"Hay {len(desvarajustes)} desvarajustes para este alfabeto\")"
   ]
  },
  {
   "cell_type": "code",
   "execution_count": null,
   "id": "a63c587e-e678-4f10-a1b8-7bc2155247fc",
   "metadata": {},
   "outputs": [],
   "source": []
  }
 ],
 "metadata": {
  "kernelspec": {
   "display_name": "SageMath 9.5",
   "language": "sage",
   "name": "sagemath"
  },
  "language_info": {
   "codemirror_mode": {
    "name": "ipython",
    "version": 3
   },
   "file_extension": ".py",
   "mimetype": "text/x-python",
   "name": "python",
   "nbconvert_exporter": "python",
   "pygments_lexer": "ipython3",
   "version": "3.10.6"
  }
 },
 "nbformat": 4,
 "nbformat_minor": 5
}
