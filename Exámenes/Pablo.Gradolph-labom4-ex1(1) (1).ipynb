{
 "cells": [
  {
   "cell_type": "markdown",
   "metadata": {},
   "source": [
    "**Ejercicio 1 (4 puntos)** (Problema de Basilea) Euler descubrió que la serie\n",
    "\n",
    "$$\\sum_{k=0}^{\\infty} \\frac{1}{k^2} = \\frac{1}{1} + \\frac{1}{4} + \\frac{1}{9} + \\frac{1}{16}+\\ldots$$\n",
    "\n",
    "converge a $\\frac{\\pi^2}{6}$.\n",
    "\n",
    "> Calcula la suma de los primeros 100.000 términos de esta sucesión.\n",
    "\n",
    "> ¿Cual es el mínimo número de términos que necesitamos sumar para que la suma aproxime a $\\frac{\\pi^2}{6}$ con un error menor que $\\frac{1}{100}$? ¿Y si queremos que el error sea menor que $\\frac{1}{1000}$?"
   ]
  },
  {
   "cell_type": "code",
   "execution_count": 1,
   "metadata": {},
   "outputs": [
    {
     "name": "stdout",
     "output_type": "stream",
     "text": [
      "El sumatorio de los primeros 100000 términos de la sucesión es:\n",
      "1.6449240668982423\n"
     ]
    }
   ],
   "source": [
    "# Calculamos la suma de los primeros 100000 términos de la sucesión.\n",
    "sumatorio = 0\n",
    "for i in range(1,100001):\n",
    "    sumatorio = sumatorio + (i**-2)\n",
    "print(\"El sumatorio de los primeros 100000 términos de la sucesión es:\")\n",
    "print(sumatorio)"
   ]
  },
  {
   "cell_type": "code",
   "execution_count": 2,
   "metadata": {},
   "outputs": [
    {
     "name": "stdout",
     "output_type": "stream",
     "text": [
      "El número de términos que necesitamos es:\n",
      "100\n",
      "El error cometido es:\n",
      "0.00995016666333326\n",
      "\n",
      "El número de términos que necesitamos es:\n",
      "1000\n",
      "El error cometido es:\n",
      "0.000999500166666278\n"
     ]
    }
   ],
   "source": [
    "# Calculamos el número de términos que necesitamos sumar para que se aproxime con un error menor que 1/100\n",
    "sumatorio = 0\n",
    "i = 1\n",
    "error = 1\n",
    "while(error > 0.01):\n",
    "    sumatorio = sumatorio + (i**-2)\n",
    "    i += 1\n",
    "    error = (pi**2)/6 - sumatorio\n",
    "\n",
    "print(\"El número de términos que necesitamos es:\")\n",
    "print(i-1)\n",
    "print(\"El error cometido es:\")\n",
    "print(error.n())\n",
    "\n",
    "# Calculamos el número de términos que necesitamos sumar para que se aproxime con un error menor que 1/1000\n",
    "sumatorio = 0\n",
    "i = 1\n",
    "error = 1\n",
    "while(error > 0.001):\n",
    "    sumatorio = sumatorio + (i**-2)\n",
    "    i += 1\n",
    "    error = (pi**2)/6 - sumatorio\n",
    "\n",
    "print()\n",
    "print(\"El número de términos que necesitamos es:\")\n",
    "print(i-1)\n",
    "print(\"El error cometido es:\")\n",
    "print(error.n())"
   ]
  },
  {
   "cell_type": "markdown",
   "metadata": {},
   "source": [
    "**Ejercicio 2 (3 puntos)** Un número es *ajustado* si tiene dos divisores consecutivos. Por ejemplo, el $84$ es ajustado porque tiene al $6$ y al $7$ como divisores, y estos son consecutivos.\n",
    "\n",
    "> Implementa un programa que decida si un número dado es ajustado.\n",
    "\n",
    "> Calcula la suma de todos los números ajustados menores que 1000\n",
    "\n",
    "> Encuentra el primer número ajustado cuyos dígitos sumen 50."
   ]
  },
  {
   "cell_type": "code",
   "execution_count": 6,
   "metadata": {},
   "outputs": [
    {
     "name": "stdin",
     "output_type": "stream",
     "text": [
      "Introduzca un número para comprobar si es ajustado:  45\n"
     ]
    },
    {
     "name": "stdout",
     "output_type": "stream",
     "text": [
      "False\n"
     ]
    }
   ],
   "source": [
    "# Función que determina si un número es ajustado o no.\n",
    "def ajustado(k):\n",
    "    divisores = k.divisors()\n",
    "    divisores = divisores[1:-1]\n",
    "    if len(divisores) == 1:\n",
    "        return False\n",
    "    else:\n",
    "        for i in range(len(divisores)):\n",
    "            if divisores[i+1] - divisores[i] == 1:\n",
    "                return True\n",
    "            else:\n",
    "                return False\n",
    "\n",
    "# Comprobamos la función con 10 (no ajustado) y con 84 (ajustado).\n",
    "k = Integer(input(\"Introduzca un número para comprobar si es ajustado: \"))\n",
    "print(ajustado(k))"
   ]
  },
  {
   "cell_type": "code",
   "execution_count": 7,
   "metadata": {},
   "outputs": [
    {
     "name": "stdout",
     "output_type": "stream",
     "text": [
      "La suma de los números ajustados menores que 1000 es 83166\n"
     ]
    }
   ],
   "source": [
    "# Suma de todos los números ajustados menores que 1000\n",
    "lista_ajustados = []\n",
    "for i in range(1,1001):\n",
    "    if ajustado(Integer(i)) == True:\n",
    "        lista_ajustados.append(i)\n",
    "\n",
    "suma = sum(lista_ajustados)\n",
    "print(f\"La suma de los números ajustados menores que 1000 es {suma}\")"
   ]
  },
  {
   "cell_type": "code",
   "execution_count": 8,
   "metadata": {},
   "outputs": [
    {
     "ename": "KeyboardInterrupt",
     "evalue": "",
     "output_type": "error",
     "traceback": [
      "\u001b[0;31m---------------------------------------------------------------------------\u001b[0m",
      "\u001b[0;31mKeyboardInterrupt\u001b[0m                         Traceback (most recent call last)",
      "\u001b[0;32m<ipython-input-8-c4ab9e6bb70f>\u001b[0m in \u001b[0;36m<module>\u001b[0;34m()\u001b[0m\n\u001b[1;32m      2\u001b[0m \u001b[0mnumero\u001b[0m \u001b[0;34m=\u001b[0m \u001b[0mInteger\u001b[0m\u001b[0;34m(\u001b[0m\u001b[0;36m1\u001b[0m\u001b[0;34m)\u001b[0m\u001b[0;34m\u001b[0m\u001b[0;34m\u001b[0m\u001b[0m\n\u001b[1;32m      3\u001b[0m \u001b[0;32mwhile\u001b[0m \u001b[0;32mTrue\u001b[0m\u001b[0;34m:\u001b[0m\u001b[0;34m\u001b[0m\u001b[0;34m\u001b[0m\u001b[0m\n\u001b[0;32m----> 4\u001b[0;31m     \u001b[0;32mif\u001b[0m \u001b[0majustado\u001b[0m\u001b[0;34m(\u001b[0m\u001b[0mnumero\u001b[0m\u001b[0;34m)\u001b[0m \u001b[0;34m==\u001b[0m \u001b[0;32mTrue\u001b[0m \u001b[0;32mand\u001b[0m \u001b[0msum\u001b[0m\u001b[0;34m(\u001b[0m\u001b[0mnumero\u001b[0m\u001b[0;34m.\u001b[0m\u001b[0mdigits\u001b[0m\u001b[0;34m(\u001b[0m\u001b[0;34m)\u001b[0m\u001b[0;34m)\u001b[0m \u001b[0;34m==\u001b[0m \u001b[0mInteger\u001b[0m\u001b[0;34m(\u001b[0m\u001b[0;36m50\u001b[0m\u001b[0;34m)\u001b[0m\u001b[0;34m:\u001b[0m\u001b[0;34m\u001b[0m\u001b[0;34m\u001b[0m\u001b[0m\n\u001b[0m\u001b[1;32m      5\u001b[0m         \u001b[0;32mbreak\u001b[0m\u001b[0;34m\u001b[0m\u001b[0;34m\u001b[0m\u001b[0m\n\u001b[1;32m      6\u001b[0m     \u001b[0mnumero\u001b[0m \u001b[0;34m+=\u001b[0m \u001b[0mInteger\u001b[0m\u001b[0;34m(\u001b[0m\u001b[0;36m1\u001b[0m\u001b[0;34m)\u001b[0m\u001b[0;34m\u001b[0m\u001b[0;34m\u001b[0m\u001b[0m\n",
      "\u001b[0;32m<ipython-input-6-df8238ac8888>\u001b[0m in \u001b[0;36majustado\u001b[0;34m(k)\u001b[0m\n\u001b[1;32m      7\u001b[0m     \u001b[0;32melse\u001b[0m\u001b[0;34m:\u001b[0m\u001b[0;34m\u001b[0m\u001b[0;34m\u001b[0m\u001b[0m\n\u001b[1;32m      8\u001b[0m         \u001b[0;32mfor\u001b[0m \u001b[0mi\u001b[0m \u001b[0;32min\u001b[0m \u001b[0mrange\u001b[0m\u001b[0;34m(\u001b[0m\u001b[0mlen\u001b[0m\u001b[0;34m(\u001b[0m\u001b[0mdivisores\u001b[0m\u001b[0;34m)\u001b[0m\u001b[0;34m)\u001b[0m\u001b[0;34m:\u001b[0m\u001b[0;34m\u001b[0m\u001b[0;34m\u001b[0m\u001b[0m\n\u001b[0;32m----> 9\u001b[0;31m             \u001b[0;32mif\u001b[0m \u001b[0mdivisores\u001b[0m\u001b[0;34m[\u001b[0m\u001b[0mi\u001b[0m\u001b[0;34m+\u001b[0m\u001b[0mInteger\u001b[0m\u001b[0;34m(\u001b[0m\u001b[0;36m1\u001b[0m\u001b[0;34m)\u001b[0m\u001b[0;34m]\u001b[0m \u001b[0;34m-\u001b[0m \u001b[0mdivisores\u001b[0m\u001b[0;34m[\u001b[0m\u001b[0mi\u001b[0m\u001b[0;34m]\u001b[0m \u001b[0;34m==\u001b[0m \u001b[0mInteger\u001b[0m\u001b[0;34m(\u001b[0m\u001b[0;36m1\u001b[0m\u001b[0;34m)\u001b[0m\u001b[0;34m:\u001b[0m\u001b[0;34m\u001b[0m\u001b[0;34m\u001b[0m\u001b[0m\n\u001b[0m\u001b[1;32m     10\u001b[0m                 \u001b[0;32mreturn\u001b[0m \u001b[0;32mTrue\u001b[0m\u001b[0;34m\u001b[0m\u001b[0;34m\u001b[0m\u001b[0m\n\u001b[1;32m     11\u001b[0m             \u001b[0;32melse\u001b[0m\u001b[0;34m:\u001b[0m\u001b[0;34m\u001b[0m\u001b[0;34m\u001b[0m\u001b[0m\n",
      "\u001b[0;32msrc/cysignals/signals.pyx\u001b[0m in \u001b[0;36mcysignals.signals.python_check_interrupt\u001b[0;34m()\u001b[0m\n",
      "\u001b[0;31mKeyboardInterrupt\u001b[0m: "
     ]
    }
   ],
   "source": [
    "# Primer número ajustado cuyos dígitos sumen 50\n",
    "numero = 1\n",
    "while True:\n",
    "    if ajustado(numero) == True and sum(numero.digits()) == 50:\n",
    "        break\n",
    "    numero += 1\n",
    "\n",
    "print(f\"El primer número ajustado cuyos dígitos suman 50 es: {numero}\")\n",
    "\n",
    "# Sage tarda demasiado en calcular esto. Igual existe algún algoritmo más sencillo para calcularlo."
   ]
  },
  {
   "cell_type": "markdown",
   "metadata": {},
   "source": [
    "**Ejercicio 3 (3 puntos)** Se considera la funcíon\n",
    "\n",
    "$$f(x) = e^x\\cos(x)$$\n",
    "\n",
    "> Dibuja la gráfica de la derivada de f(x)\n",
    "\n",
    "> Calcular el área de la región comprendida bajo el eje horizontal y sobre la gráfica de f en el intervalo $[0,5]$.\n",
    "\n",
    "> Dibuja un rojo en los puntos de corte de la gráfica con los ejes.\n",
    "\n",
    "\n",
    "    "
   ]
  },
  {
   "cell_type": "code",
   "execution_count": 9,
   "metadata": {},
   "outputs": [
    {
     "data": {
      "image/png": "[encoded data removed]",
      "text/plain": [
       "Graphics object consisting of 1 graphics primitive"
      ]
     },
     "metadata": {},
     "output_type": "display_data"
    }
   ],
   "source": [
    "# Definimos la función y calculamos su derivada.\n",
    "f(x) = (e**x)*cos(x)\n",
    "f1 = diff(f(x), x)\n",
    "\n",
    "# Dibujamos la gráfica de la derivada.\n",
    "show(plot(f1,-40, 40, ymin=-40,ymax=40, color='red'))"
   ]
  },
  {
   "cell_type": "code",
   "execution_count": 12,
   "metadata": {},
   "outputs": [
    {
     "data": {
      "image/png": "[encoded data removed]",
      "text/plain": [
       "Graphics object consisting of 1 graphics primitive"
      ]
     },
     "metadata": {},
     "output_type": "display_data"
    },
    {
     "name": "stdout",
     "output_type": "stream",
     "text": [
      "El área es:\n"
     ]
    },
    {
     "data": {
      "text/html": [
       "<html><script type=\"math/tex; mode=display\">\\newcommand{\\Bold}[1]{\\mathbf{#1}}58.0641279354108</script></html>"
      ],
      "text/plain": [
       "58.0641279354108"
      ]
     },
     "metadata": {},
     "output_type": "display_data"
    }
   ],
   "source": [
    "# Dibujamos la gráfica f en el intervalo [0,5] como ayuda.\n",
    "show(plot(f(x), 0, 5, ymin=-50,ymax=50, color='blue'))\n",
    "\n",
    "# Calculamos la integral (área entre la gráfica y el eje)\n",
    "# El área buscada es la que se encuentra debajo del eje x y encima de la función f\n",
    "# Podemos calcular los puntos de corte en ese intervalo para saber el intervalo de la integral\n",
    "eje1 = pi/2\n",
    "eje2 = (find_root(f(x)==0, 0, 5))\n",
    "area = -(integrate(f(x), x, eje1, eje2)) # Cambiamos el signo de la integral para que calcule un área positiva.\n",
    "print(\"El área es:\")\n",
    "show(area)"
   ]
  },
  {
   "cell_type": "code",
   "execution_count": 11,
   "metadata": {},
   "outputs": [
    {
     "data": {
      "image/png": "[encoded data removed]",
      "text/plain": [
       "Graphics object consisting of 4 graphics primitives"
      ]
     },
     "metadata": {},
     "output_type": "display_data"
    }
   ],
   "source": [
    "# Los puntos de corte ya los hemos calculado en el ejercicio anterior para hacer la integral.\n",
    "# Ahora nos limitamos a representarlos.\n",
    "eje1 = (eje1, 0)\n",
    "eje2 = (eje2, 0)\n",
    "\n",
    "# Calculamos el punto de corte con el eje y\n",
    "eje3 = (0, f(0))\n",
    "\n",
    "# Representamos la función con los puntos de corte en el intervalo [0,5]\n",
    "show(plot(f(x), 0, 5, ymin=-50,ymax=50, color='blue') + points(eje1, color=\"purple\", size=20)+ points(eje2, color=\"purple\", size=20) + points(eje3, color=\"purple\", size=20))"
   ]
  },
  {
   "cell_type": "code",
   "execution_count": null,
   "metadata": {},
   "outputs": [],
   "source": []
  },
  {
   "cell_type": "code",
   "execution_count": null,
   "metadata": {},
   "outputs": [],
   "source": []
  }
 ],
 "metadata": {
  "kernelspec": {
   "display_name": "SageMath 9.0",
   "language": "sage",
   "name": "sagemath"
  },
  "language_info": {
   "codemirror_mode": {
    "name": "ipython",
    "version": 3
   },
   "file_extension": ".py",
   "mimetype": "text/x-python",
   "name": "python",
   "nbconvert_exporter": "python",
   "pygments_lexer": "ipython3",
   "version": "3.7.6"
  }
 },
 "nbformat": 4,
 "nbformat_minor": 4
}
