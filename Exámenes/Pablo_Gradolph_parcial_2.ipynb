{
 "cells": [
  {
   "cell_type": "markdown",
   "metadata": {},
   "source": [
    "# Laboratorio 2022 - 2023: Segundo Parcial (7114)"
   ]
  },
  {
   "cell_type": "markdown",
   "metadata": {},
   "source": [
    "**Ejercicio 1 (2 puntos).** ¿De cuántas maneras se puede escribir $2^{17}$ como suma de dos primos?"
   ]
  },
  {
   "cell_type": "code",
   "execution_count": 1,
   "metadata": {},
   "outputs": [
    {
     "name": "stdout",
     "output_type": "stream",
     "text": [
      "La cantidad es: 749\n"
     ]
    }
   ],
   "source": [
    "def descomposicion_Goldbach(a):\n",
    "    primos = prime_range(a)\n",
    "    parejas = []\n",
    "    for i in primos:\n",
    "        for j in primos:\n",
    "            if (a==(i+j)):\n",
    "                pareja = [i, j]\n",
    "                parejas.append(pareja)\n",
    "                primos.remove(j)\n",
    "    return parejas \n",
    "\n",
    "parejas = descomposicion_Goldbach(2^17)\n",
    "cantidad = len(parejas)\n",
    "print(f\"La cantidad es: {cantidad}\")"
   ]
  },
  {
   "cell_type": "markdown",
   "metadata": {},
   "source": [
    "**Ejercicio 2 (2 puntos).** Sea $n$ un número con dígitos $[a_0,a_1,\\ldots_,a_k]$ en cierta base $d$. Definimos su *opuesto $d$-digital* como el número cuyos dígitos en base $d$ se obtienen de los dígitos de $n$ en base $d$ reemplazando cada dígito no nulo $a_i$ por $d-a_i$. Por ejemplo, \n",
    "- el opuesto digital en base $10$ de $7409$ es $3601$.\n",
    "- el opuesto $7$-digital de 7409 es $9797$, ya que $7409$ en base $7$ es $30413$ cuyo opuesto $7$-digital en base $7$ se escribe $40364$, que en base $10$ es $9797$.\n",
    "\n",
    "> Encontrar los primeros 10 números primos cuyo opuesto digital en base 60 es un número primo (la respuesta se ha de dar en base $10$). "
   ]
  },
  {
   "cell_type": "code",
   "execution_count": 2,
   "metadata": {},
   "outputs": [
    {
     "name": "stdout",
     "output_type": "stream",
     "text": [
      "[59, 53, 47, 43, 41, 37, 31, 29, 23, 19, 17]\n"
     ]
    }
   ],
   "source": [
    "def DigitosN(z,b):\n",
    "    D = []\n",
    "    while z>0:\n",
    "        D.append(z%b)\n",
    "        z = z//b\n",
    "    D.reverse()\n",
    "    return D\n",
    "\n",
    "def DecimalN(L,b):\n",
    "    n = 0\n",
    "    for i in L:\n",
    "        n = n*b+i\n",
    "    return n\n",
    "\n",
    "def Digitos(pq,b):\n",
    "    L = DigitosN(floor(pq),b)\n",
    "    len_entera = len(L)\n",
    "    if floor(pq)==pq:\n",
    "        return L\n",
    "    else:\n",
    "        L.append('.')\n",
    "        F = []\n",
    "        n = pq-floor(pq)\n",
    "        while not (n==0):\n",
    "            F.append(n)\n",
    "            m = floor(n*b)\n",
    "            L.append(m)\n",
    "            n = n*b-m\n",
    "            if n in F:\n",
    "                i = F.index(n)+len_entera\n",
    "                L = L[:i+1] + ['|'] + L[i+1:]\n",
    "                break\n",
    "        return L\n",
    "\n",
    "def sesenta_digital(n):\n",
    "    \n",
    "    # Primero convertimos el número a base 60\n",
    "    digitos_60 = DigitosN(n, 60)\n",
    "    \n",
    "    # Ahora caclulamos el opuesto 60-digital\n",
    "    digitos_60digital = []\n",
    "    for i in digitos_60:\n",
    "        if i == 0:\n",
    "            numero = 0\n",
    "            digitos_60digital.append(numero)\n",
    "        else:\n",
    "            numero = 60 - i\n",
    "            digitos_60digital.append(numero)\n",
    "    \n",
    "    numero = DecimalN(digitos_60digital, 10)\n",
    "    \n",
    "    return numero\n",
    "\n",
    "cantidad = 0\n",
    "numeros = []\n",
    "n = 1\n",
    "while cantidad<=10:\n",
    "    numero = sesenta_digital(n)\n",
    "    if numero.is_prime()==True:\n",
    "        numeros.append(numero) ### debería ser numeros.append(n)\n",
    "        cantidad = cantidad + 1\n",
    "    n = n + 1 ### Aquí debería ser n = next_prime(n)\n",
    "print(numeros)\n",
    "\n",
    "### Casi correcto, pero no exiges que la n sea primo."
   ]
  },
  {
   "cell_type": "markdown",
   "metadata": {},
   "source": [
    "**Ejercicio 3 (2 puntos).** La fracción continua del inverso de una fracción continua representada por una lista $A = [a_0; a_1,a_2,\\ldots,a_k]$ es la fracción continua\n",
    "- $[0;a_0, a_1,a_2,\\ldots,a_k]$ si $a_0\\neq 0$,\n",
    "- $[a_1;a_2,a_3,\\ldots,a_k]$ si $a_0= 0$.\n",
    "\n",
    "Escribir una función **inv(A)** que fabrique la fracción continua del inverso de una fracción continua usando este método."
   ]
  },
  {
   "cell_type": "code",
   "execution_count": 3,
   "metadata": {},
   "outputs": [
    {
     "name": "stdout",
     "output_type": "stream",
     "text": [
      "La fracción continua del inverso es: [0, -12, 1, 11, 3]\n",
      "La fracción continua del inverso es: [-12, 1, 11, 3]\n"
     ]
    }
   ],
   "source": [
    "def inv(A):\n",
    "    if A[0] == 0:\n",
    "        A.pop(0)\n",
    "        return A\n",
    "    else:\n",
    "        A.reverse()\n",
    "        A.append(0)\n",
    "        A.reverse()\n",
    "        return A\n",
    "\n",
    "# Cambiar el valor de la lista para representar otro número racional.\n",
    "lista = [-12 , 1, 11, 3]\n",
    "lista2 = [0, -12 , 1, 11, 3]\n",
    "A = inv(lista)\n",
    "B = inv(lista2)\n",
    "print(f\"La fracción continua del inverso es: {A}\")\n",
    "print(f\"La fracción continua del inverso es: {B}\")"
   ]
  },
  {
   "cell_type": "markdown",
   "metadata": {},
   "source": [
    "**Ejercicio 4 (2 puntos).** Sea $p$ un número primo. Un número natural $n<p$ es una *raíz primitiva módulo $p$* si $n^a \\not\\equiv 1\\mod p$ cuando $0<a<p-1$. El sistema criptográfico de Diffie y Hellmann requiere usar raíces primitivas módulo un primo dado $p$.\n",
    "\n",
    "> Construir una función **raizprimitiva(p)** que encuentre una raíz primitiva módulo p. Usarla para hallar raíces primitivas módulo los siguientes primos:  2161, 3361, 4441, 5881.\n",
    "\n"
   ]
  },
  {
   "cell_type": "code",
   "execution_count": 4,
   "metadata": {},
   "outputs": [
    {
     "name": "stdout",
     "output_type": "stream",
     "text": [
      "2\n",
      "2\n",
      "2\n",
      "2\n"
     ]
    }
   ],
   "source": [
    "from sage.rings.finite_rings.integer_mod import IntegerMod\n",
    "\n",
    "def raizprimitiva(p):\n",
    "    R = IntegerModRing(p)\n",
    "    resultado = 0\n",
    "    for n in range(0,p):\n",
    "        if resultado != 0:\n",
    "            break\n",
    "        for a in range(1, p-1):\n",
    "            numero = R(n^a)\n",
    "            if (numero!=1):\n",
    "                resultado = n\n",
    "                break\n",
    "    return resultado\n",
    "            \n",
    "print(raizprimitiva(2161))\n",
    "print(raizprimitiva(3361))\n",
    "print(raizprimitiva(4441))\n",
    "print(raizprimitiva(5881))\n",
    "\n",
    "### Aquí estás comprobando que la condición n^a!=1 se cumple para algún a. Hay que comprobar\n",
    "### que la condición se cumple para todos los a's entre 1 y p-2. Te copio en la siguiente celda\n",
    "### una modificación:"
   ]
  },
  {
   "cell_type": "code",
   "execution_count": 6,
   "metadata": {},
   "outputs": [
    {
     "name": "stdout",
     "output_type": "stream",
     "text": [
      "23\n",
      "22\n",
      "21\n",
      "31\n"
     ]
    }
   ],
   "source": [
    "from sage.rings.finite_rings.integer_mod import IntegerMod\n",
    "\n",
    "def raizprimitiva(p):\n",
    "    R = IntegerModRing(p)\n",
    "    resultado = 0\n",
    "    for n in range(1,p): ### n tiene que ser positivo\n",
    "        for a in range(1, p-1): ### el break que había aquí era innecesario\n",
    "            numero = R(n)^a ### lo que escribiste es correcto, esta modificación sólo lo hace más eficiente\n",
    "            if numero == 1:\n",
    "                break\n",
    "        if a == p-2: ### así te aseguras de que es cierto para todos los a's.\n",
    "            resultado = n\n",
    "            break\n",
    "    return resultado\n",
    "print(raizprimitiva(2161))\n",
    "print(raizprimitiva(3361))\n",
    "print(raizprimitiva(4441))\n",
    "print(raizprimitiva(5881))\n",
    "\n"
   ]
  },
  {
   "cell_type": "code",
   "execution_count": null,
   "metadata": {},
   "outputs": [],
   "source": []
  },
  {
   "cell_type": "markdown",
   "metadata": {},
   "source": [
    "**Ejercicio 5 (2 puntos).** Si $n$ es una raíz primitiva módulo $p$, entonces la ecuación $n^a = m \\mod p$ tiene solución siempre que $m$ no sea múltiplo de $p$.\n",
    "\n",
    "> $3$ es una raíz primitiva módulo 104743. Encontrar un número a tal que $3^a = 934 \\mod 104743$"
   ]
  },
  {
   "cell_type": "code",
   "execution_count": 7,
   "metadata": {},
   "outputs": [
    {
     "name": "stdout",
     "output_type": "stream",
     "text": [
      "False\n",
      "La solución es 1498\n"
     ]
    }
   ],
   "source": [
    "# Primero comprobamos que 934 no es múltiplo de 104743\n",
    "print(934%104743==0) # Es falso luego no es múltiplo\n",
    "\n",
    "# Trabajamos en módulo 104743\n",
    "from sage.rings.finite_rings.integer_mod import IntegerMod\n",
    "p = 104743\n",
    "R = IntegerModRing(p)\n",
    "\n",
    "for a in range(1,p):\n",
    "    numero = R(3^a)\n",
    "    if numero == R(934):\n",
    "        break\n",
    "\n",
    "print(f\"La solución es {a}\")\n",
    "\n",
    "### Bien. El mismo comentario que en el anterior: Si escribes R(3)^10, sage hará todas las operaciones\n",
    "### en aritmética módulo 3. Si haces R(3^10) hará las operaciones en aritmética entera y luego\n",
    "### lo reduce a aritmética modular. Lo primero es mucho más eficiente."
   ]
  },
  {
   "cell_type": "markdown",
   "metadata": {},
   "source": [
    "**Ejercicio (extra, no tiene puntuación)** Escribir un programa **menor(A,B)** que establezca si la fracción continua correspondiente a una lista (finita) $A$ es menor que la fracción continua correspondiente a otra lista (finita) $B$. El programa debe usar algún criterio que no necesite calcular los números representados por las fracciones continuas."
   ]
  },
  {
   "cell_type": "code",
   "execution_count": null,
   "metadata": {},
   "outputs": [],
   "source": []
  }
 ],
 "metadata": {
  "kernelspec": {
   "display_name": "SageMath 9.0",
   "language": "sage",
   "name": "sagemath"
  },
  "language_info": {
   "codemirror_mode": {
    "name": "ipython",
    "version": 3
   },
   "file_extension": ".py",
   "mimetype": "text/x-python",
   "name": "python",
   "nbconvert_exporter": "python",
   "pygments_lexer": "ipython3",
   "version": "3.7.6"
  }
 },
 "nbformat": 4,
 "nbformat_minor": 4
}
