{
 "cells": [
  {
   "cell_type": "markdown",
   "metadata": {},
   "source": [
    "# Laboratorio 2022-22\n",
    "\n",
    "## Sesión 13: Dinámica de poblaciones: matrices de Markov ##"
   ]
  },
  {
   "cell_type": "markdown",
   "metadata": {},
   "source": [
    "**Ejercicio 1.** En la lectura previa a esta sesión hemos visto un criterio para saber si una matriz estocástica dada es o no regular.\n",
    "\n",
    "**Teorema.** _Una matriz estocástica $M$ de orden $n$ es regular si y solo si todos los elementos de $M^{n^2}$ son positivos_\n",
    "\n",
    "En particular, para ver si una matriz de Markov es o no regular basta con ir calculando potencias de $M$ hasta o bien llegar a una con todas sus entradas positivas, o bien alcanzar la potencia $n^2$ sin que esto ocurra, en cuyo caso $M$ será no regular. De hecho, mientras no busquemos la menor potencia que nos asegura que la matriz es regular, podemos _acelerar_ el cálculo considerando solo las potencias de la forma $2^k$, para lo que basta con tomar el cuadrado de la potencia previa de esta forma: $M^{2^k}=\\big(M^{2^{k-1}}\\big)^2$.\n",
    "\n",
    "**a)** Codifica una función que dada una matriz estocástica decida si es o no regular utilizando el resultado previo y el cálculo acelerado. La función, digamos $\\texttt{EsRegular}()$, recibirá una matriz estocástica y devolverá $\\texttt{True}$ si es regular y $\\texttt{False}$ en caso contrario. \n",
    "\n",
    "_Sugerencia_: dada una matriz $M$, $M\\texttt{.nonzero}\\_\\texttt{positions}()$ devuelve una lista de pares $(i,j)$ que indican las posiciones en la matriz no nulas."
   ]
  },
  {
   "cell_type": "code",
   "execution_count": 11,
   "metadata": {},
   "outputs": [],
   "source": [
    "def es_regular(M):\n",
    "    k=M.nrows()                    # Número de filas (que debe ser el mismo que el de columnas M.ncolumns())\n",
    "    ceros=k^2-len(M.nonzero_positions())\n",
    "    pasos=0\n",
    "    while ceros>0 and 2^pasos<=k^2: # Sale del bucle cuando 2^pasos>k^2 ó cuando ya no hay ceros\n",
    "        pasos+=1\n",
    "        M=M^2                      # Vamos a ir calculando con M, M^2, (M^2)^2=M^4, (M^4)^2=M^8, etc...\n",
    "        ceros=k^2-len(M.nonzero_positions())\n",
    "    return ceros==0     "
   ]
  },
  {
   "cell_type": "markdown",
   "metadata": {},
   "source": [
    "**b)** Comprueba con la función del apartado anterior si es regular la siguiente matriz y en caso afirmativo calcular la menor potencia de la matriz con todas sus entradas positivas.\n",
    "$$\\left(\\begin{array}{rrrrrrrrr}\n",
    "\\frac{9}{10} & \\frac{9}{10} & \\frac{9}{10} & \\frac{9}{10} & \\frac{9}{10} & \\frac{9}{10} & \\frac{9}{10} & \\frac{9}{10} & \\frac{9}{10} \\\\\n",
    "\\frac{1}{10} & 0 & 0 & 0 & 0 & 0 & 0 & 0 & 0 \\\\\n",
    "0 & \\frac{1}{10} & 0 & 0 & 0 & 0 & 0 & 0 & 0 \\\\\n",
    "0 & 0 & \\frac{1}{10} & 0 & 0 & 0 & 0 & 0 & 0 \\\\\n",
    "0 & 0 & 0 & \\frac{1}{10} & 0 & 0 & 0 & 0 & 0 \\\\\n",
    "0 & 0 & 0 & 0 & \\frac{1}{10} & 0 & 0 & 0 & 0 \\\\\n",
    "0 & 0 & 0 & 0 & 0 & \\frac{1}{10} & 0 & 0 & 0 \\\\\n",
    "0 & 0 & 0 & 0 & 0 & 0 & \\frac{1}{10} & 0 & 0 \\\\\n",
    "0 & 0 & 0 & 0 & 0 & 0 & 0 & \\frac{1}{10} & \\frac{1}{10}\n",
    "\\end{array}\\right)$$"
   ]
  },
  {
   "cell_type": "code",
   "execution_count": 13,
   "metadata": {},
   "outputs": [
    {
     "data": {
      "text/html": [
       "<html><script type=\"math/tex; mode=display\">\\newcommand{\\Bold}[1]{\\mathbf{#1}}\\left(\\begin{array}{rrrrrrrrr}\n",
       "\\frac{9}{10} & \\frac{9}{10} & \\frac{9}{10} & \\frac{9}{10} & \\frac{9}{10} & \\frac{9}{10} & \\frac{9}{10} & \\frac{9}{10} & \\frac{9}{10} \\\\\n",
       "\\frac{1}{10} & 0 & 0 & 0 & 0 & 0 & 0 & 0 & 0 \\\\\n",
       "0 & \\frac{1}{10} & 0 & 0 & 0 & 0 & 0 & 0 & 0 \\\\\n",
       "0 & 0 & \\frac{1}{10} & 0 & 0 & 0 & 0 & 0 & 0 \\\\\n",
       "0 & 0 & 0 & \\frac{1}{10} & 0 & 0 & 0 & 0 & 0 \\\\\n",
       "0 & 0 & 0 & 0 & \\frac{1}{10} & 0 & 0 & 0 & 0 \\\\\n",
       "0 & 0 & 0 & 0 & 0 & \\frac{1}{10} & 0 & 0 & 0 \\\\\n",
       "0 & 0 & 0 & 0 & 0 & 0 & \\frac{1}{10} & 0 & 0 \\\\\n",
       "0 & 0 & 0 & 0 & 0 & 0 & 0 & \\frac{1}{10} & \\frac{1}{10}\n",
       "\\end{array}\\right)</script></html>"
      ],
      "text/latex": [
       "$$\\newcommand{\\Bold}[1]{\\mathbf{#1}}\\left(\\begin{array}{rrrrrrrrr}\n",
       "\\frac{9}{10} & \\frac{9}{10} & \\frac{9}{10} & \\frac{9}{10} & \\frac{9}{10} & \\frac{9}{10} & \\frac{9}{10} & \\frac{9}{10} & \\frac{9}{10} \\\\\n",
       "\\frac{1}{10} & 0 & 0 & 0 & 0 & 0 & 0 & 0 & 0 \\\\\n",
       "0 & \\frac{1}{10} & 0 & 0 & 0 & 0 & 0 & 0 & 0 \\\\\n",
       "0 & 0 & \\frac{1}{10} & 0 & 0 & 0 & 0 & 0 & 0 \\\\\n",
       "0 & 0 & 0 & \\frac{1}{10} & 0 & 0 & 0 & 0 & 0 \\\\\n",
       "0 & 0 & 0 & 0 & \\frac{1}{10} & 0 & 0 & 0 & 0 \\\\\n",
       "0 & 0 & 0 & 0 & 0 & \\frac{1}{10} & 0 & 0 & 0 \\\\\n",
       "0 & 0 & 0 & 0 & 0 & 0 & \\frac{1}{10} & 0 & 0 \\\\\n",
       "0 & 0 & 0 & 0 & 0 & 0 & 0 & \\frac{1}{10} & \\frac{1}{10}\n",
       "\\end{array}\\right)$$"
      ],
      "text/plain": [
       "[9/10 9/10 9/10 9/10 9/10 9/10 9/10 9/10 9/10]\n",
       "[1/10    0    0    0    0    0    0    0    0]\n",
       "[   0 1/10    0    0    0    0    0    0    0]\n",
       "[   0    0 1/10    0    0    0    0    0    0]\n",
       "[   0    0    0 1/10    0    0    0    0    0]\n",
       "[   0    0    0    0 1/10    0    0    0    0]\n",
       "[   0    0    0    0    0 1/10    0    0    0]\n",
       "[   0    0    0    0    0    0 1/10    0    0]\n",
       "[   0    0    0    0    0    0    0 1/10 1/10]"
      ]
     },
     "metadata": {},
     "output_type": "display_data"
    },
    {
     "name": "stdout",
     "output_type": "stream",
     "text": [
      "True\n",
      "False\n"
     ]
    }
   ],
   "source": [
    "M=matrix(QQ,9,[0]*81)\n",
    "for j in [0..8]:\n",
    "    M[0,j]=.9\n",
    "    if j<8:\n",
    "        M[j+1,j]=.1\n",
    "M[8,8]=.1\n",
    "show(M)\n",
    "print(es_regular(M))\n",
    "print(es_regular(matrix(QQ,2,[1,0,0,1])))"
   ]
  },
  {
   "cell_type": "code",
   "execution_count": 20,
   "metadata": {},
   "outputs": [
    {
     "name": "stdout",
     "output_type": "stream",
     "text": [
      "8\n"
     ]
    },
    {
     "data": {
      "text/html": [
       "<html><script type=\"math/tex; mode=display\">\\newcommand{\\Bold}[1]{\\mathbf{#1}}\\left(\\begin{array}{rrrrrrrrr}\n",
       "\\frac{9}{10} & \\frac{9}{10} & \\frac{9}{10} & \\frac{9}{10} & \\frac{9}{10} & \\frac{9}{10} & \\frac{9}{10} & \\frac{9}{10} & \\frac{9}{10} \\\\\n",
       "\\frac{9}{100} & \\frac{9}{100} & \\frac{9}{100} & \\frac{9}{100} & \\frac{9}{100} & \\frac{9}{100} & \\frac{9}{100} & \\frac{9}{100} & \\frac{9}{100} \\\\\n",
       "\\frac{9}{1000} & \\frac{9}{1000} & \\frac{9}{1000} & \\frac{9}{1000} & \\frac{9}{1000} & \\frac{9}{1000} & \\frac{9}{1000} & \\frac{9}{1000} & \\frac{9}{1000} \\\\\n",
       "\\frac{9}{10000} & \\frac{9}{10000} & \\frac{9}{10000} & \\frac{9}{10000} & \\frac{9}{10000} & \\frac{9}{10000} & \\frac{9}{10000} & \\frac{9}{10000} & \\frac{9}{10000} \\\\\n",
       "\\frac{9}{100000} & \\frac{9}{100000} & \\frac{9}{100000} & \\frac{9}{100000} & \\frac{9}{100000} & \\frac{9}{100000} & \\frac{9}{100000} & \\frac{9}{100000} & \\frac{9}{100000} \\\\\n",
       "\\frac{9}{1000000} & \\frac{9}{1000000} & \\frac{9}{1000000} & \\frac{9}{1000000} & \\frac{9}{1000000} & \\frac{9}{1000000} & \\frac{9}{1000000} & \\frac{9}{1000000} & \\frac{9}{1000000} \\\\\n",
       "\\frac{9}{10000000} & \\frac{9}{10000000} & \\frac{9}{10000000} & \\frac{9}{10000000} & \\frac{9}{10000000} & \\frac{9}{10000000} & \\frac{9}{10000000} & \\frac{9}{10000000} & \\frac{9}{10000000} \\\\\n",
       "\\frac{9}{100000000} & \\frac{9}{100000000} & \\frac{9}{100000000} & \\frac{9}{100000000} & \\frac{9}{100000000} & \\frac{9}{100000000} & \\frac{9}{100000000} & \\frac{9}{100000000} & \\frac{9}{100000000} \\\\\n",
       "\\frac{1}{100000000} & \\frac{1}{100000000} & \\frac{1}{100000000} & \\frac{1}{100000000} & \\frac{1}{100000000} & \\frac{1}{100000000} & \\frac{1}{100000000} & \\frac{1}{100000000} & \\frac{1}{100000000}\n",
       "\\end{array}\\right)</script></html>"
      ],
      "text/latex": [
       "$$\\newcommand{\\Bold}[1]{\\mathbf{#1}}\\left(\\begin{array}{rrrrrrrrr}\n",
       "\\frac{9}{10} & \\frac{9}{10} & \\frac{9}{10} & \\frac{9}{10} & \\frac{9}{10} & \\frac{9}{10} & \\frac{9}{10} & \\frac{9}{10} & \\frac{9}{10} \\\\\n",
       "\\frac{9}{100} & \\frac{9}{100} & \\frac{9}{100} & \\frac{9}{100} & \\frac{9}{100} & \\frac{9}{100} & \\frac{9}{100} & \\frac{9}{100} & \\frac{9}{100} \\\\\n",
       "\\frac{9}{1000} & \\frac{9}{1000} & \\frac{9}{1000} & \\frac{9}{1000} & \\frac{9}{1000} & \\frac{9}{1000} & \\frac{9}{1000} & \\frac{9}{1000} & \\frac{9}{1000} \\\\\n",
       "\\frac{9}{10000} & \\frac{9}{10000} & \\frac{9}{10000} & \\frac{9}{10000} & \\frac{9}{10000} & \\frac{9}{10000} & \\frac{9}{10000} & \\frac{9}{10000} & \\frac{9}{10000} \\\\\n",
       "\\frac{9}{100000} & \\frac{9}{100000} & \\frac{9}{100000} & \\frac{9}{100000} & \\frac{9}{100000} & \\frac{9}{100000} & \\frac{9}{100000} & \\frac{9}{100000} & \\frac{9}{100000} \\\\\n",
       "\\frac{9}{1000000} & \\frac{9}{1000000} & \\frac{9}{1000000} & \\frac{9}{1000000} & \\frac{9}{1000000} & \\frac{9}{1000000} & \\frac{9}{1000000} & \\frac{9}{1000000} & \\frac{9}{1000000} \\\\\n",
       "\\frac{9}{10000000} & \\frac{9}{10000000} & \\frac{9}{10000000} & \\frac{9}{10000000} & \\frac{9}{10000000} & \\frac{9}{10000000} & \\frac{9}{10000000} & \\frac{9}{10000000} & \\frac{9}{10000000} \\\\\n",
       "\\frac{9}{100000000} & \\frac{9}{100000000} & \\frac{9}{100000000} & \\frac{9}{100000000} & \\frac{9}{100000000} & \\frac{9}{100000000} & \\frac{9}{100000000} & \\frac{9}{100000000} & \\frac{9}{100000000} \\\\\n",
       "\\frac{1}{100000000} & \\frac{1}{100000000} & \\frac{1}{100000000} & \\frac{1}{100000000} & \\frac{1}{100000000} & \\frac{1}{100000000} & \\frac{1}{100000000} & \\frac{1}{100000000} & \\frac{1}{100000000}\n",
       "\\end{array}\\right)$$"
      ],
      "text/plain": [
       "[       9/10        9/10        9/10        9/10        9/10        9/10        9/10        9/10        9/10]\n",
       "[      9/100       9/100       9/100       9/100       9/100       9/100       9/100       9/100       9/100]\n",
       "[     9/1000      9/1000      9/1000      9/1000      9/1000      9/1000      9/1000      9/1000      9/1000]\n",
       "[    9/10000     9/10000     9/10000     9/10000     9/10000     9/10000     9/10000     9/10000     9/10000]\n",
       "[   9/100000    9/100000    9/100000    9/100000    9/100000    9/100000    9/100000    9/100000    9/100000]\n",
       "[  9/1000000   9/1000000   9/1000000   9/1000000   9/1000000   9/1000000   9/1000000   9/1000000   9/1000000]\n",
       "[ 9/10000000  9/10000000  9/10000000  9/10000000  9/10000000  9/10000000  9/10000000  9/10000000  9/10000000]\n",
       "[9/100000000 9/100000000 9/100000000 9/100000000 9/100000000 9/100000000 9/100000000 9/100000000 9/100000000]\n",
       "[1/100000000 1/100000000 1/100000000 1/100000000 1/100000000 1/100000000 1/100000000 1/100000000 1/100000000]"
      ]
     },
     "metadata": {},
     "output_type": "display_data"
    }
   ],
   "source": [
    "# Repetir la función pero sin saltar en potencias de 2.\n",
    "def menor_positivas(M):\n",
    "    k=M.nrows()                    \n",
    "    ceros=k^2-len(M.nonzero_positions())\n",
    "    pasos=1\n",
    "    M_nueva = M\n",
    "    while ceros>0 and pasos<=k^2: \n",
    "        pasos+=1\n",
    "        M_nueva = M_nueva*M\n",
    "        ceros=k^2-len(M_nueva.nonzero_positions())\n",
    "    return pasos    \n",
    "\n",
    "menor_potencia = menor_positivas(M)\n",
    "print(f\"La menor potencia con todos los elementos positivos es: {menor_potencia}\")\n",
    "# show(M^7) Tiene ceros\n",
    "show(M^8)"
   ]
  },
  {
   "cell_type": "markdown",
   "metadata": {},
   "source": [
    "**Ejercicio 2.** Estamos diseñando el sistema de ascensores de un rascacielos.\n",
    "\n",
    "La empresa que los fabrica nos dice que cada día tendrán que parar, por avería o mantenimiento, el $10\\%$ de los ascensores que estuviesen funcionando el día anterior, y que el $70\\%$ de los ascensores que estén parados en un día dado volverán a estar operativos al día siguiente.\n",
    "\n",
    "**a)**  Tras el periodo inicial de ajuste, ¿llegaremos a un régimen estable de funcionamiento de los ascensores? (*Sugerencia:* Estudiar la evolución del modelo matricial para este problema.)\n"
   ]
  },
  {
   "cell_type": "code",
   "execution_count": 21,
   "metadata": {},
   "outputs": [
    {
     "data": {
      "text/html": [
       "<html><script type=\"math/tex; mode=display\">\\newcommand{\\Bold}[1]{\\mathbf{#1}}\\left(\\begin{array}{rr}\n",
       "\\frac{9}{10} & \\frac{7}{10} \\\\\n",
       "\\frac{1}{10} & \\frac{3}{10}\n",
       "\\end{array}\\right)</script></html>"
      ],
      "text/latex": [
       "$$\\newcommand{\\Bold}[1]{\\mathbf{#1}}\\left(\\begin{array}{rr}\n",
       "\\frac{9}{10} & \\frac{7}{10} \\\\\n",
       "\\frac{1}{10} & \\frac{3}{10}\n",
       "\\end{array}\\right)$$"
      ],
      "text/plain": [
       "[9/10 7/10]\n",
       "[1/10 3/10]"
      ]
     },
     "metadata": {},
     "output_type": "display_data"
    },
    {
     "data": {
      "image/png": "[encoded data removed]",
      "text/plain": [
       "Graphics object consisting of 2 graphics primitives"
      ]
     },
     "metadata": {},
     "output_type": "display_data"
    }
   ],
   "source": [
    "# X,Y=(Funcionan, no funcionan)\n",
    "M=matrix(QQ,2,[0.9,0.7,0.1,0.3])\n",
    "show(M)\n",
    "DatIn=vector((15,15)) #Un posible dato inicial\n",
    "\n",
    "#vamos a representar gráficamente lo que sucede en los primeros pasos, como hicimos en la sesión anterior\n",
    "v=DatIn\n",
    "X,Y=[(0,v[0])],[(0,v[1])]\n",
    "for i in [1..50]:\n",
    "    v=M*v\n",
    "    X.append((i,v[0]))\n",
    "    Y.append((i,v[1]))\n",
    "show(points(X,color='blue')+points(Y,color='red'))"
   ]
  },
  {
   "cell_type": "code",
   "execution_count": 22,
   "metadata": {},
   "outputs": [
    {
     "data": {
      "text/html": [
       "<html><script type=\"math/tex; mode=display\">\\newcommand{\\Bold}[1]{\\mathbf{#1}}\\left[26.2500000000000, 3.75000000000000\\right]</script></html>"
      ],
      "text/latex": [
       "$$\\newcommand{\\Bold}[1]{\\mathbf{#1}}\\left[26.2500000000000, 3.75000000000000\\right]$$"
      ],
      "text/plain": [
       "[26.2500000000000, 3.75000000000000]"
      ]
     },
     "metadata": {},
     "output_type": "display_data"
    }
   ],
   "source": [
    "#Miramos lo que había en el último paso\n",
    "show([N(X[-1][1]),N(Y[-1][1])])"
   ]
  },
  {
   "cell_type": "code",
   "execution_count": 23,
   "metadata": {},
   "outputs": [
    {
     "data": {
      "image/png": "[encoded data removed]",
      "text/plain": [
       "Graphics object consisting of 2 graphics primitives"
      ]
     },
     "metadata": {},
     "output_type": "display_data"
    }
   ],
   "source": [
    "#Y ahora a ver los cocientes, para confirmar lo que sabemos sobre cómo evoluciona el crecimiento/decrecimiento\n",
    "CX=[(i,X[i+1][1]/X[i][1]) for i in [0..49]]\n",
    "CY=[(i,Y[i+1][1]/Y[i][1]) for i in [0..49]]\n",
    "show(points(CX,color='blue')+points(CY,color='red'))"
   ]
  },
  {
   "cell_type": "code",
   "execution_count": 24,
   "metadata": {},
   "outputs": [
    {
     "data": {
      "text/html": [
       "<html><script type=\"math/tex; mode=display\">\\newcommand{\\Bold}[1]{\\mathbf{#1}}\\left[1.00000000000000, 1.00000000000000\\right]</script></html>"
      ],
      "text/latex": [
       "$$\\newcommand{\\Bold}[1]{\\mathbf{#1}}\\left[1.00000000000000, 1.00000000000000\\right]$$"
      ],
      "text/plain": [
       "[1.00000000000000, 1.00000000000000]"
      ]
     },
     "metadata": {},
     "output_type": "display_data"
    }
   ],
   "source": [
    "#Miramos el cociente en el último paso\n",
    "show([N(CX[-1][1]),N(CY[-1][1])])"
   ]
  },
  {
   "cell_type": "code",
   "execution_count": 25,
   "metadata": {},
   "outputs": [
    {
     "data": {
      "image/png": "[encoded data removed]",
      "text/plain": [
       "Graphics object consisting of 2 graphics primitives"
      ]
     },
     "metadata": {},
     "output_type": "display_data"
    }
   ],
   "source": [
    "#Y ahora la proporción de cada tipo\n",
    "TX=[(i,X[i][1]/(X[i][1]+Y[i][1])) for i in [0..50]]\n",
    "TY=[(i,Y[i][1]/(X[i][1]+Y[i][1])) for i in [0..50]]\n",
    "show(points(TX,color='blue')+points(TY,color='red'))"
   ]
  },
  {
   "cell_type": "code",
   "execution_count": null,
   "metadata": {},
   "outputs": [],
   "source": [
    "#Miramos las proporciones en el último paso\n",
    "show([N(TX[-1][1]),N(TY[-1][1])])"
   ]
  },
  {
   "cell_type": "code",
   "execution_count": 28,
   "metadata": {},
   "outputs": [
    {
     "data": {
      "text/html": [
       "<html><script type=\"math/tex; mode=display\">\\newcommand{\\Bold}[1]{\\mathbf{#1}}\\left(\\frac{7}{8},\\,\\frac{1}{8}\\right)</script></html>"
      ],
      "text/latex": [
       "$$\\newcommand{\\Bold}[1]{\\mathbf{#1}}\\left(\\frac{7}{8},\\,\\frac{1}{8}\\right)$$"
      ],
      "text/plain": [
       "(7/8, 1/8)"
      ]
     },
     "metadata": {},
     "output_type": "display_data"
    },
    {
     "name": "stdout",
     "output_type": "stream",
     "text": [
      "7/8 en funcionamiento\n",
      "1/8 no funcionando\n"
     ]
    }
   ],
   "source": [
    "#Componentes del autovector de autovalor 1 normalizado\n",
    "AutoVector1=vector((M-identity_matrix(2)).right_kernel().basis()[0]) # Obtenemos un vector propio asociado al autovalor 1\n",
    "AutoVector1=AutoVector1/sum(AutoVector1)                             # Lo normalizamos \n",
    "show(AutoVector1)\n",
    "print(f\"{AutoVector1[0]} en funcionamiento\")\n",
    "print(f\"{AutoVector1[1]} no funcionando\")"
   ]
  },
  {
   "cell_type": "code",
   "execution_count": 27,
   "metadata": {},
   "outputs": [
    {
     "data": {
      "text/plain": [
       "(-4.22212465065984e-36, 4.22212465065984e-36)"
      ]
     },
     "execution_count": 27,
     "metadata": {},
     "output_type": "execute_result"
    }
   ],
   "source": [
    "#Vamos a comparar con las proporciones de cada tipo, que hemos llamado TX, TY\n",
    "#(TX[-1][1]-AutoVector1[0]).n(), (TY[-1][1]-AutoVector1[1]).n()\n",
    "(vector((TX[-1][1],TY[-1][1]))-AutoVector1).n()"
   ]
  },
  {
   "cell_type": "markdown",
   "metadata": {},
   "source": [
    "**b)** ¿Cuántos ascensores tendremos que instalar en el rascacielos si queremos que haya habitualmente 15 en condiciones de funcionar?"
   ]
  },
  {
   "cell_type": "code",
   "execution_count": null,
   "metadata": {},
   "outputs": [],
   "source": [
    "# Como AutoVector1[0] da la proporción asintótica de ascensores que funcionan, para que funcionen 15 \n",
    "# habitualmente basta tener\n",
    "\n",
    "ceil(15/AutoVector1[0]) # ceil redondea hasta el próximo número entero."
   ]
  },
  {
   "cell_type": "code",
   "execution_count": 29,
   "metadata": {},
   "outputs": [
    {
     "data": {
      "image/png": "[encoded data removed]",
      "text/plain": [
       "Graphics object consisting of 2 graphics primitives"
      ]
     },
     "metadata": {},
     "output_type": "display_data"
    },
    {
     "data": {
      "text/plain": [
       "15.7500000000000"
      ]
     },
     "execution_count": 29,
     "metadata": {},
     "output_type": "execute_result"
    }
   ],
   "source": [
    "#Lo comprobamos\n",
    "M=matrix(QQ,2,[0.9,0.7,0.1,0.3])\n",
    "DatIn=vector((0,18)) #Cualquier reparto de los 18...\n",
    "\n",
    "v=DatIn\n",
    "X,Y=[(0,v[0])],[(0,v[1])]\n",
    "for i in [1..50]:\n",
    "    v=M*v\n",
    "    X.append((i,v[0]))\n",
    "    Y.append((i,v[1]))\n",
    "show(points(X,color='blue')+points(Y,color='red'))\n",
    "(X[-1][1]).n()"
   ]
  },
  {
   "cell_type": "code",
   "execution_count": 30,
   "metadata": {},
   "outputs": [
    {
     "data": {
      "image/png": "[encoded data removed]",
      "text/plain": [
       "Graphics object consisting of 2 graphics primitives"
      ]
     },
     "metadata": {},
     "output_type": "display_data"
    },
    {
     "data": {
      "text/plain": [
       "14.8750000000000"
      ]
     },
     "execution_count": 30,
     "metadata": {},
     "output_type": "execute_result"
    }
   ],
   "source": [
    "#Y con uno menos...\n",
    "M=matrix(QQ,2,[0.9,0.7,0.1,0.3])\n",
    "DatIn=vector((0,17)) #Cualquier reparto de los 18...\n",
    "\n",
    "v=DatIn\n",
    "X,Y=[(0,v[0])],[(0,v[1])]\n",
    "for i in [1..50]:\n",
    "    v=M*v\n",
    "    X.append((i,v[0]))\n",
    "    Y.append((i,v[1]))\n",
    "show(points(X,color='blue')+points(Y,color='red'))\n",
    "(X[-1][1]).n()"
   ]
  },
  {
   "cell_type": "markdown",
   "metadata": {},
   "source": [
    "**Ejercicio 3.** _Otra matriz de Markov_\n",
    "\n",
    "En una parcela dedicada a la explotación forestal, los árboles se clasifican según su tamaño en tres tipos: Pequeños, Medianos y Grandes. Cada periodo de 5 años, la evolución del bosque es la siguiente:\n",
    "\n",
    "- El 20% de los árboles Pequeños no han crecido lo suficiente, y siguen siendo Pequeños. El 70% han pasado a la categoría de Medianos, y un 10% ha tenido un crecimiento excepcional que les hace pasar a la categoría de Grandes.\n",
    "\n",
    "- El 10% de los árboles Medianos siguen siendo Medianos, y el 90% restante pasan a ser Grandes.\n",
    "\n",
    "- Se tala el 80% de los árboles Grandes.\n",
    "\n",
    "- Se plantan tantos árboles Pequeños como árboles Grandes han sido talados.\n",
    "\n",
    "- Se considera que ningún árbol muere por ninguna otra causa que no sea la tala.\n",
    "\n",
    "**Comentario:** Observa que como se plantan tantos árboles como son talados, el número total de árboles es constante en cada periodo de 5 años. Estamos de nuevo ante una matriz de Markov.\n",
    "\n",
    "**a)** Denotando por $P_N, M_N, G_N $ el número de árboles en cada categoría en el _lustro_ $N$ (lustro = 5 años), formula matricialmente el sistema y estudia su evolución a largo plazo, para determinar qué porcentaje de árboles se espera que estén en cada una de las categorías.</p>\n"
   ]
  },
  {
   "cell_type": "code",
   "execution_count": 33,
   "metadata": {},
   "outputs": [
    {
     "data": {
      "text/html": [
       "<html><script type=\"math/tex; mode=display\">\\newcommand{\\Bold}[1]{\\mathbf{#1}}\\left(\\begin{array}{rrr}\n",
       "\\frac{1}{5} & 0 & \\frac{4}{5} \\\\\n",
       "\\frac{7}{10} & \\frac{1}{10} & 0 \\\\\n",
       "\\frac{1}{10} & \\frac{9}{10} & \\frac{1}{5}\n",
       "\\end{array}\\right)</script></html>"
      ],
      "text/latex": [
       "$$\\newcommand{\\Bold}[1]{\\mathbf{#1}}\\left(\\begin{array}{rrr}\n",
       "\\frac{1}{5} & 0 & \\frac{4}{5} \\\\\n",
       "\\frac{7}{10} & \\frac{1}{10} & 0 \\\\\n",
       "\\frac{1}{10} & \\frac{9}{10} & \\frac{1}{5}\n",
       "\\end{array}\\right)$$"
      ],
      "text/plain": [
       "[ 1/5    0  4/5]\n",
       "[7/10 1/10    0]\n",
       "[1/10 9/10  1/5]"
      ]
     },
     "metadata": {},
     "output_type": "display_data"
    },
    {
     "data": {
      "text/plain": [
       "True"
      ]
     },
     "execution_count": 33,
     "metadata": {},
     "output_type": "execute_result"
    }
   ],
   "source": [
    "# Escribimos la matriz y calculamos sus autovalores y autovectores. \n",
    "# Ordenamos las variables (grupos de población) como P,M,G (no llamamos M a la matriz)\n",
    "\n",
    "A=matrix(QQ,3,[[0.2,0,0.8],[0.7,0.1,0],[0.1,0.9,0.2]])\n",
    "show(A)\n",
    "es_regular(A)"
   ]
  },
  {
   "cell_type": "code",
   "execution_count": 34,
   "metadata": {},
   "outputs": [
    {
     "data": {
      "text/plain": [
       "1"
      ]
     },
     "execution_count": 34,
     "metadata": {},
     "output_type": "execute_result"
    }
   ],
   "source": [
    "# Veamos en primer lugar que 1 es autovalor simple dominante\n",
    "\n",
    "Autovalores=A.eigenvalues()\n",
    "AbsAutov=[abs(autovalor) for autovalor in Autovalores]\n",
    "dominante=max(AbsAutov)\n",
    "if AbsAutov.count(dominante)>1:\n",
    "    print('No hay autovalor dominante')\n",
    "dominante=Autovalores[AbsAutov.index(dominante)]\n",
    "dominante"
   ]
  },
  {
   "cell_type": "code",
   "execution_count": 35,
   "metadata": {},
   "outputs": [
    {
     "data": {
      "text/html": [
       "<html><script type=\"math/tex; mode=display\">\\newcommand{\\Bold}[1]{\\mathbf{#1}}\\left(\\frac{9}{25},\\,\\frac{7}{25},\\,\\frac{9}{25}\\right)</script></html>"
      ],
      "text/latex": [
       "$$\\newcommand{\\Bold}[1]{\\mathbf{#1}}\\left(\\frac{9}{25},\\,\\frac{7}{25},\\,\\frac{9}{25}\\right)$$"
      ],
      "text/plain": [
       "(9/25, 7/25, 9/25)"
      ]
     },
     "metadata": {},
     "output_type": "display_data"
    }
   ],
   "source": [
    "# Obtenemos ahora el autovector normalizado correspondiente y comprobamos que todas sus componentes son positivas.\n",
    "# Como sabemos, estas componentes dan la proporción asintótica de árboles en cada clase.\n",
    "\n",
    "AutoVector1=vector((A-identity_matrix(3)).right_kernel().basis()[0]) # Obtenemos un vector propio asociado al autovalor 1\n",
    "AutoVector1=AutoVector1/sum(AutoVector1)                             # Lo normalizamos  \n",
    "show(AutoVector1)"
   ]
  },
  {
   "cell_type": "code",
   "execution_count": null,
   "metadata": {},
   "outputs": [
    {
     "data": {
      "image/png": "[encoded data removed]",
      "text/plain": [
       "Graphics object consisting of 3 graphics primitives"
      ]
     },
     "metadata": {},
     "output_type": "display_data"
    }
   ],
   "source": [
    "DatIn=vector((1000,0,0)) # Empezamos solo con árboles pequeños (1000). La proporción asintótica de árboles en cada clase no depende del dato inicial \n",
    "v=DatIn\n",
    "P,M,G=[(0,v[0])],[(0,v[1])],[(0,v[2])]\n",
    "for i in [1..50]:\n",
    "    v=A*v\n",
    "    P=P+[(i,v[0])]\n",
    "    M=M+[(i,v[1])]\n",
    "    G=G+[(i,v[2])]\n",
    "show(points(P,color='blue')+points(M,color='red')+points(G,color='green'))"
   ]
  },
  {
   "cell_type": "code",
   "execution_count": 37,
   "metadata": {},
   "outputs": [
    {
     "data": {
      "text/plain": [
       "(0.359999986456503, 0.280000017029373, 0.359999996514124)"
      ]
     },
     "execution_count": 37,
     "metadata": {},
     "output_type": "execute_result"
    }
   ],
   "source": [
    "# Proporciones \"asintóticas\" experimentales:\n",
    "suma=P[-1][1]+M[-1][1]+G[-1][1]\n",
    "PropAsExp=vector([P[-1][1]/suma, M[-1][1]/suma, G[-1][1]/suma])\n",
    "PropAsExp.n()"
   ]
  },
  {
   "cell_type": "code",
   "execution_count": 38,
   "metadata": {},
   "outputs": [
    {
     "data": {
      "text/plain": [
       "(1.35434967774017e-8, -1.70293728629645e-8, 3.48587608556272e-9)"
      ]
     },
     "execution_count": 38,
     "metadata": {},
     "output_type": "execute_result"
    }
   ],
   "source": [
    "# Comparamos las proporciones con las teóricas\n",
    "\n",
    "(AutoVector1-PropAsExp).n()"
   ]
  },
  {
   "cell_type": "markdown",
   "metadata": {},
   "source": [
    "**b)** Por consideraciones de tipo paisajístico, se desea que a largo plazo el porcentaje de árboles grandes sea del 50%. Calcula el porcentaje de tala exacto para cumplir este objetivo.\n",
    "\n",
    "_Sugerencia:_ Utilizar una matriz con una variable en las posiciones adecuadas. Para conseguir resultados exactos, conviene escribir los datos numéricos de la matriz en notación racional e indicar que se trabaja en el anillo simbólico $\\texttt{SR}$."
   ]
  },
  {
   "cell_type": "code",
   "execution_count": 39,
   "metadata": {},
   "outputs": [
    {
     "data": {
      "text/html": [
       "<html><script type=\"math/tex; mode=display\">\\newcommand{\\Bold}[1]{\\mathbf{#1}}\\left(\\begin{array}{rrr}\n",
       "\\frac{1}{5} & 0 & t \\\\\n",
       "\\frac{7}{10} & \\frac{1}{10} & 0 \\\\\n",
       "\\frac{1}{10} & \\frac{9}{10} & -t + 1\n",
       "\\end{array}\\right)</script></html>"
      ],
      "text/latex": [
       "$$\\newcommand{\\Bold}[1]{\\mathbf{#1}}\\left(\\begin{array}{rrr}\n",
       "\\frac{1}{5} & 0 & t \\\\\n",
       "\\frac{7}{10} & \\frac{1}{10} & 0 \\\\\n",
       "\\frac{1}{10} & \\frac{9}{10} & -t + 1\n",
       "\\end{array}\\right)$$"
      ],
      "text/plain": [
       "[   1/5      0      t]\n",
       "[  7/10   1/10      0]\n",
       "[  1/10   9/10 -t + 1]"
      ]
     },
     "metadata": {},
     "output_type": "display_data"
    },
    {
     "data": {
      "text/plain": [
       "True"
      ]
     },
     "execution_count": 39,
     "metadata": {},
     "output_type": "execute_result"
    }
   ],
   "source": [
    "# Intentamos ajustar la tala para que la distribución asintótica pase del 36% al 50% de árboles grandes.\n",
    "# La información sobre la tala está en la tercera columna de la matriz de transición.\n",
    "# Sustituimos está por el vector (t,0,1-t), con t el porcentaje (>0) de tala de árboles grandes.\n",
    "var('t')\n",
    "A=matrix(3,[[2/10,0,t],[7/10,1/10,0],[1/10,9/10,1-t]]) # Notación racional (puedes poner el anillo simbólico SR, pero no hace falta)\n",
    "show(A)\n",
    "es_regular(A)"
   ]
  },
  {
   "cell_type": "code",
   "execution_count": 40,
   "metadata": {},
   "outputs": [
    {
     "data": {
      "text/html": [
       "<html><script type=\"math/tex; mode=display\">\\newcommand{\\Bold}[1]{\\mathbf{#1}}\\left(\\frac{45}{4 \\, {\\left(\\frac{9}{t} + 20\\right)}},\\,\\frac{35}{4 \\, {\\left(\\frac{9}{t} + 20\\right)}},\\,\\frac{9}{t {\\left(\\frac{9}{t} + 20\\right)}}\\right)</script></html>"
      ],
      "text/latex": [
       "$$\\newcommand{\\Bold}[1]{\\mathbf{#1}}\\left(\\frac{45}{4 \\, {\\left(\\frac{9}{t} + 20\\right)}},\\,\\frac{35}{4 \\, {\\left(\\frac{9}{t} + 20\\right)}},\\,\\frac{9}{t {\\left(\\frac{9}{t} + 20\\right)}}\\right)$$"
      ],
      "text/plain": [
       "(45/4/(9/t + 20), 35/4/(9/t + 20), 9/(t*(9/t + 20)))"
      ]
     },
     "metadata": {},
     "output_type": "display_data"
    }
   ],
   "source": [
    "# Obtengo el autovector normalizado asociado al autovalor 1. Como veremos, depende de t.\n",
    "\n",
    "AutoVector1=vector((A-identity_matrix(3)).right_kernel().basis()[0]) # Obtenemos un vector propio asociado al autovalor 1\n",
    "AutoVector1=AutoVector1/sum(AutoVector1)                             # Lo normalizamos  \n",
    "show(AutoVector1)"
   ]
  },
  {
   "cell_type": "code",
   "execution_count": 41,
   "metadata": {},
   "outputs": [
    {
     "data": {
      "text/plain": [
       "[t == (9/20)]"
      ]
     },
     "execution_count": 41,
     "metadata": {},
     "output_type": "execute_result"
    }
   ],
   "source": [
    "#Calculo cuánto debe valer t para que la tercera componente del autovector normalizado asociado al autovalor 1 sea 0.5 (el 50%)\n",
    "\n",
    "solve(AutoVector1[2]==0.5, t)"
   ]
  },
  {
   "cell_type": "code",
   "execution_count": 42,
   "metadata": {},
   "outputs": [
    {
     "data": {
      "image/png": "[encoded data removed]",
      "text/plain": [
       "Graphics object consisting of 3 graphics primitives"
      ]
     },
     "metadata": {},
     "output_type": "display_data"
    }
   ],
   "source": [
    "# Compruebo experimentalmente que con esta tasa de tala asintóticamente tenemos la proporción de árboles grandes deseada\n",
    "\n",
    "t0=solve(AutoVector1[2]==0.5, t)[0].rhs()\n",
    "A0=A.substitute(t=t0)\n",
    "#show(A0)\n",
    "v=vector([100,100,100])\n",
    "P,M,G=[(0,v[0])],[(0,v[1])],[(0,v[2])]\n",
    "for i in [1..50]:\n",
    "    v=A0*v\n",
    "    P=P+[(i,v[0])]\n",
    "    M=M+[(i,v[1])]\n",
    "    G=G+[(i,v[2])]\n",
    "show(points(P,color='blue')+points(M,color='red')+points(G,color='green'))"
   ]
  },
  {
   "cell_type": "code",
   "execution_count": 43,
   "metadata": {},
   "outputs": [
    {
     "data": {
      "text/plain": [
       "(0.281250000000001, 0.218749999999994, 0.500000000000004)"
      ]
     },
     "execution_count": 43,
     "metadata": {},
     "output_type": "execute_result"
    }
   ],
   "source": [
    "#veamos si tras esos pasos los grandes son en efecto un 50%\n",
    "# Proporciones \"asintóticas\" experimentales:\n",
    "suma=P[-1][1]+M[-1][1]+G[-1][1]\n",
    "PropAsExp=vector([P[-1][1]/suma, M[-1][1]/suma, G[-1][1]/suma])\n",
    "PropAsExp.n()"
   ]
  }
 ],
 "metadata": {
  "kernelspec": {
   "display_name": "SageMath 9.5",
   "language": "sage",
   "name": "sagemath"
  },
  "language_info": {
   "codemirror_mode": {
    "name": "ipython",
    "version": 3
   },
   "file_extension": ".py",
   "mimetype": "text/x-python",
   "name": "python",
   "nbconvert_exporter": "python",
   "pygments_lexer": "ipython3",
   "version": "3.10.6"
  }
 },
 "nbformat": 4,
 "nbformat_minor": 4
}
