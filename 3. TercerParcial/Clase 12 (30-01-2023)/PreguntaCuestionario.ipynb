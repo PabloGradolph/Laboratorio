{
 "cells": [
  {
   "cell_type": "code",
   "execution_count": 5,
   "metadata": {},
   "outputs": [
    {
     "data": {
      "text/html": [
       "<html><script type=\"math/tex; mode=display\">\\newcommand{\\Bold}[1]{\\mathbf{#1}}\\verb|La|\\phantom{\\verb!x!}\\verb|matriz|\\phantom{\\verb!x!}\\verb|de|\\phantom{\\verb!x!}\\verb|Leslie|\\phantom{\\verb!x!}\\verb|es:|</script></html>"
      ],
      "text/plain": [
       "'La matriz de Leslie es:'"
      ]
     },
     "metadata": {},
     "output_type": "display_data"
    },
    {
     "data": {
      "text/html": [
       "<html><script type=\"math/tex; mode=display\">\\newcommand{\\Bold}[1]{\\mathbf{#1}}\\left(\\begin{array}{rr}\n",
       "1 & \\frac{3}{2} \\\\\n",
       "\\frac{1}{2} & 0\n",
       "\\end{array}\\right)</script></html>"
      ],
      "text/plain": [
       "[  1 3/2]\n",
       "[1/2   0]"
      ]
     },
     "metadata": {},
     "output_type": "display_data"
    },
    {
     "name": "stdout",
     "output_type": "stream",
     "text": [
      "\n"
     ]
    },
    {
     "data": {
      "text/html": [
       "<html><script type=\"math/tex; mode=display\">\\newcommand{\\Bold}[1]{\\mathbf{#1}}\\verb|La|\\phantom{\\verb!x!}\\verb|población|\\phantom{\\verb!x!}\\verb|tras|\\phantom{\\verb!x!}\\verb|8|\\phantom{\\verb!x!}\\verb|intervalos|\\phantom{\\verb!x!}\\verb|de|\\phantom{\\verb!x!}\\verb|tiempo|\\phantom{\\verb!x!}\\verb|es:|</script></html>"
      ],
      "text/plain": [
       "'La población tras 8 intervalos de tiempo es:'"
      ]
     },
     "metadata": {},
     "output_type": "display_data"
    },
    {
     "data": {
      "text/html": [
       "<html><script type=\"math/tex; mode=display\">\\newcommand{\\Bold}[1]{\\mathbf{#1}}\\left(\\begin{array}{r}\n",
       "19684 \\\\\n",
       "6560\n",
       "\\end{array}\\right)</script></html>"
      ],
      "text/plain": [
       "[19684]\n",
       "[ 6560]"
      ]
     },
     "metadata": {},
     "output_type": "display_data"
    },
    {
     "name": "stdout",
     "output_type": "stream",
     "text": [
      "[3/2, -1/2]\n"
     ]
    }
   ],
   "source": [
    "### \n",
    "# Ejercicio 6 del cuestionario:\n",
    "# La población de cierta especie de animales en un bosque está dividida en dos grupos de edad (jóvenes y adultos). \n",
    "# Matriz de Leslie en el código.\n",
    "# Calcular X(8) sabiendo que en la etapa 0 hay únicamente 1024 jóvenes.\n",
    "###\n",
    "L = matrix([[1,3/2],[1/2,0]])\n",
    "show(\"La matriz de Leslie es:\")\n",
    "show(L)\n",
    "X = L^8 * matrix([[1024],[0]])\n",
    "print()\n",
    "show(\"La población tras 8 intervalos de tiempo es:\")\n",
    "show(X)\n",
    "autovalores = L.eigenvalues()\n",
    "print(autovalores)"
   ]
  },
  {
   "cell_type": "code",
   "execution_count": 13,
   "metadata": {},
   "outputs": [
    {
     "name": "stdout",
     "output_type": "stream",
     "text": [
      "1.564646933753199? 1.521884552540865? 1.862850809229358? 3.177184786936650?\n"
     ]
    }
   ],
   "source": [
    "###\n",
    "# Ejercicio 7 del cuestionario:\n",
    "# Ordena de mayor a menor autovalor dominante las matrices de Leslie L1, L2, L3 y L4\n",
    "# Definir las matrices en el cuerpo de los racionales \n",
    "###\n",
    "L1 = matrix(QQ, [[1,1,3],[1/2,0,0],[0,2/5,0]])\n",
    "L2 = matrix(QQ, [[1,1,3],[2/5,0,0],[0,1/2,0]])\n",
    "L3 = matrix(QQ, [[1,3,1],[1/2,0,0],[0,2/5,0]])\n",
    "L4 = matrix(QQ, [[3,1,1],[1/2,0,0],[0,2/5,0]])\n",
    "\n",
    "autovalores1 = L1.eigenvalues()\n",
    "autovalores2 = L2.eigenvalues()\n",
    "autovalores3 = L3.eigenvalues()\n",
    "autovalores4 = L4.eigenvalues()\n",
    "\n",
    "autovalor1 = max(autovalores1)\n",
    "autovalor2 = max(autovalores2)\n",
    "autovalor3 = max(autovalores3)\n",
    "autovalor4 = max(autovalores4)\n",
    "\n",
    "print(autovalor1, autovalor2, autovalor3, autovalor4)"
   ]
  },
  {
   "cell_type": "code",
   "execution_count": 22,
   "metadata": {},
   "outputs": [
    {
     "data": {
      "text/html": [
       "<html><script type=\"math/tex; mode=display\">\\newcommand{\\Bold}[1]{\\mathbf{#1}}\\frac{6}{5} \\, h - \\frac{3}{5}</script></html>"
      ],
      "text/plain": [
       "6/5*h - 3/5"
      ]
     },
     "metadata": {},
     "output_type": "display_data"
    },
    {
     "data": {
      "text/plain": [
       "[h == (1/2)]"
      ]
     },
     "execution_count": 22,
     "metadata": {},
     "output_type": "execute_result"
    }
   ],
   "source": [
    "###\n",
    "# Ejercicio 8 del cuestionario:\n",
    "# Existe un valor de h en la matriz de Leslie\n",
    "# que hace que 1 sea su autovalor dominante. ¿Cuál es?\n",
    "###\n",
    "var('h', 'l')\n",
    "Leslie = matrix([[h,1,h],[2/5,0,0],[0,1/2,0]])\n",
    "lambdaI = matrix([[1,0,0],[0,1,0],[0,0,1]])\n",
    "determinante = (Leslie - lambdaI).det()\n",
    "show(determinante)\n",
    "solve(determinante==0, h)"
   ]
  },
  {
   "cell_type": "code",
   "execution_count": 3,
   "metadata": {},
   "outputs": [
    {
     "name": "stdout",
     "output_type": "stream",
     "text": [
      "(1.131446390023795?, [(1, 2.262892780047589?, 3.200427333744692?, 3.276389941623636?, 0.8838244647004175?)], 1)\n"
     ]
    },
    {
     "data": {
      "text/plain": [
       "'autovector = autovector[1]\\nautovector = autovector[0]\\nautovector = autovector / (autovector[0] + autovector[1] + autovector[2] + autovector[3] + autovector[4])\\nprint(autovector)\\n\\nsuma = autovector[2] + autovector[3] + autovector[4]\\nprint(suma)\\n\\n# Debería dar 7,36%'"
      ]
     },
     "execution_count": 3,
     "metadata": {},
     "output_type": "execute_result"
    }
   ],
   "source": [
    "###\n",
    "# Ejercicio 9 del cuestionario:\n",
    "# Dada la matriz de Leslie.. ¿Cuál será la proporción de ejemplares fértiles?\n",
    "###\n",
    "L = matrix(QQ, [[0,0,1,3,1],[1/2,0,0,0,0],[0,4/5,0,0,0],[0,0,4/5,0,0],[0,0,0,4/5,0]])\n",
    "autovectores = L.eigenvectors_left()\n",
    "autovector = autovectores[2]\n",
    "autovector = autovector[1]\n",
    "autovector = autovector[0]\n",
    "autovector = autovector / (autovector[0] + autovector[1] + autovector[2] + autovector[3] + autovector[4])\n",
    "print(autovector)\n",
    "\n",
    "suma = autovector[2] + autovector[3] + autovector[4]\n",
    "print(suma)\n",
    "\n",
    "# Debería dar 7,36%'''"
   ]
  },
  {
   "cell_type": "code",
   "execution_count": null,
   "metadata": {},
   "outputs": [],
   "source": []
  }
 ],
 "metadata": {
  "kernelspec": {
   "display_name": "SageMath 9.0",
   "language": "sage",
   "name": "sagemath"
  },
  "language_info": {
   "codemirror_mode": {
    "name": "ipython",
    "version": 3
   },
   "file_extension": ".py",
   "mimetype": "text/x-python",
   "name": "python",
   "nbconvert_exporter": "python",
   "pygments_lexer": "ipython3",
   "version": "3.7.6"
  }
 },
 "nbformat": 4,
 "nbformat_minor": 4
}
