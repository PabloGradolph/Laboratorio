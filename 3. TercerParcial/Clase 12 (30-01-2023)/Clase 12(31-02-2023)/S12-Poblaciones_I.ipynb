{
 "cells": [
  {
   "cell_type": "markdown",
   "metadata": {},
   "source": [
    "# Laboratorio 2022-23\n",
    "\n",
    "## Sesión 12: Álgebra lineal y dinámica de poblaciones"
   ]
  },
  {
   "cell_type": "markdown",
   "metadata": {},
   "source": [
    "\n",
    "En esta sesión vamos a aplicar álgebra lineal elemental para estudiar modelos sencillos que describen cómo evoluciona un población. De la lectura previa conocemos algunos resultados teóricos. Con estos ejercicios comprobaremos la veracidad de estos resultados.\n",
    "\n",
    "_Advertencia:_ Algunos métodos para matrices, como $\\texttt{eigenvectors}\\_\\texttt{right}$, no funcionan cuando la matriz está definida en RR o CC, los anillos en los que Sagemath trabaja por defecto cuando encuentra números decimales y complejos, respectivamente. Otros métodos, por ejemplo  $\\texttt{eigenvalues}$, sí funcionan, pero pueden tener problemas de precisión. Por ello, si vas a usar alguno de estos métodos conviene que definas la matriz en los anillos  QQ (racionales), RDF (Real Double Field) o CDF (Complex Double Field). "
   ]
  },
  {
   "cell_type": "markdown",
   "metadata": {},
   "source": [
    "____________\n",
    "\n",
    "**Ejercicio 1** \n",
    "\n",
    "En una población de una determinada especie, los individuos se dividen en dos clases de edad:\n",
    "\n",
    "- Clase $X$: individuos jóvenes de menos de 1 año. Estos individuos no tienen descendencia, y al cabo del año sobrevive un 60%.\n",
    "- Clase $Y$: individuos adultos de más de 1 año. Cada uno de estos individuos tiene, en promedio, 3.5 crías cada año. Y al final del año, solo un 20% consigue sobrevivir una temporada más.\n",
    "\n",
    "Denotamos por $X_n$, $Y_n$ la población de la clase $X$ y de la clase $Y$, respectivamente, en el año $n$. A la vista de los datos, la población de dos años consecutivos está relacionada por una expresión matricial de la forma\n",
    "\n",
    "$$ \\left(\\begin{array}{c} X_{n+1} \\\\Y_{n+1} \\end{array} \\right)= \\left(\\begin{array}{cc} A & B \\\\ C & D \\end{array} \\right)\\left(\\begin{array}{c} X_{n} \\\\Y_{n} \\end{array} \\right).$$\n",
    "\n",
    "\n",
    "\n",
    "a) Escribir la matriz de transición \n",
    "\n",
    "$$M=\\left(\\begin{array}{cc} A & B \\\\ C & D \\end{array} \\right)$$\n",
    "\n",
    "con los valores correctos de $A$, $B$, $C$ y $D$ para este modelo. \n",
    "Comprobar que, aunque no se trata de una matriz de Leslie, tiene un autovalor dominante simple positivo. Determina el autovector normalizado correspondiente al autovalor dominante.\n",
    "\n",
    "**Nota 1.** Recordar que los autovectores asociados a un autovalor $\\lambda$ de una matriz cuadrada $A$ de tamaño $n$, son las soluciones al sistema lineal homogéneo $A-\\lambda\\cdot I_n=\\vec{0}$ (con $I_n$ la matriz identidad de tamaño $n$). Con SageMath podemos obtener el espacio de autovectores asociados a $\\lambda$ para una matriz $A$, con \n",
    "$$(A-\\lambda\\texttt{*identity}\\_\\texttt{matrix}(n))\\texttt{.right}\\_\\texttt{kernel}()$$\n",
    "y calculamos una **base** (una lista de vectores independientes) del mismo con\n",
    "$$(A-\\lambda\\texttt{*identity}\\_\\texttt{matrix}(n))\\texttt{.right}\\_\\texttt{kernel}()\\texttt{.basis}()$$\n",
    "(como lista, accedemos a cualquiera de sus elementos con la notación *slice*, $[\\texttt{j}]$ con $\\texttt{j}$ el índice del elemento que nos interese).\n",
    "\n",
    "**Nota 2.** Si $A$ es una matriz, $A\\texttt{.eigenvectors}\\_\\texttt{right}()$ devuelve una lista de pares $$(\\texttt{autovalor, lista de autovectores independientes asociados al autovalor}).$$\n",
    "En este ejercicio, en el que solo nos interesa uno de los autovalores, trabajar a partir de ella suele resultar más engorroso.\n",
    "\n",
    "**Nota 3.** En este ejercicio, si el vector inicial de población (que está en el primer cuadrante) es no nulo, necesariamente tiene una componente no nula en la dirección del vector propio asociado al autovalor dominante."
   ]
  },
  {
   "cell_type": "code",
   "execution_count": null,
   "metadata": {},
   "outputs": [],
   "source": []
  },
  {
   "cell_type": "markdown",
   "metadata": {},
   "source": [
    "b) Se parte de un distribución inicial de la población dada por $X_0=10$ e $Y_0=15$. Calcula los valores de $ X_n$ e $Y_n$ para $n= 0, 1, \\dots, 50$, y represéntalos gráficamente frente al *tiempo* $n$ en un diagrama de puntos, con un color distinto para cada una de las dos clases de edad.\n",
    "\n",
    "**Nota:** Para representar en forma de diagrama de puntos, conviene construir listas de pares $(n,X_n)$ y $(n,Y_n)$."
   ]
  },
  {
   "cell_type": "code",
   "execution_count": null,
   "metadata": {},
   "outputs": [],
   "source": []
  },
  {
   "cell_type": "markdown",
   "metadata": {},
   "source": [
    "c) De la lectura previa se sigue que asintóticamente (para $n$ grande} se tienen las leyes de crecimiento \n",
    "\n",
    "$$\n",
    "\\frac{X_{n+1}}{X_n}\\approx \\lambda_1,\\qquad \\frac{Y_{n+1}}{Y_n}\\approx\\lambda_1,\n",
    "$$\n",
    "\n",
    "donde $\\lambda_1$ es el autovalor dominante de $M$. \n",
    "\n",
    "Sean $ CX_n=\\frac{X_{n+1}}{X_{n}} $ y $CY_n=\\frac{Y_{n+1}}{Y_{n}}$. Representa graficamente los pares de puntos $(n,CX_n)$ (en azul) y $(n,CY_n)$ (en azul) para $ n=0,\\dots, 49$, junto con una recta horizontal a altura $\\lambda_1$. De acuerdo con la teoría, deberías observar que tanto los puntos azules como los rojos se aproximan a la recta."
   ]
  },
  {
   "cell_type": "code",
   "execution_count": null,
   "metadata": {},
   "outputs": [],
   "source": []
  },
  {
   "cell_type": "markdown",
   "metadata": {},
   "source": [
    "d) Las leyes de crecimiento asintóticas indican que para tiempos $n$ grandes \n",
    "\n",
    "$$\n",
    "X_n\\approx \\alpha \\lambda_1^n,\\qquad Y_n\\approx \\beta\\lambda_1^n,\n",
    "$$\n",
    "\n",
    "donde $\\alpha$ y $\\beta$ son constantes no negativas que dependen del dato inicial. Compruébalo representando los puntos con escala logarítmica en el eje vertical (se consigue añadiendo la opción $\\texttt{scale='semilogy'}$ al comando con el que generes el dibujo, como $\\texttt{points}$ o $\\texttt{plot}$). Los puntos se dispondrán asintóticamente sobre rectas de pendiente $\\log\\lambda_1$. Comprueba esta última afirmación. "
   ]
  },
  {
   "cell_type": "code",
   "execution_count": null,
   "metadata": {},
   "outputs": [],
   "source": []
  },
  {
   "cell_type": "markdown",
   "metadata": {},
   "source": [
    "Nuestro siguiente objetivo es comprobar que, según hemos visto en el documento previo, el ritmo de crecimiento asintótico (de ambas clases) no depende del dato inicial. Puesto que el problema es lineal, basta con que comprobemos este hecho para datos iniciales en la intersección de la circunferencia unidad con el primer cuadrante (en el caso de poblaciones solo tienen sentido los datos no negativos):\n",
    "\n",
    "$$\n",
    "(X_0,Y_0)=(\\cos\\theta,\\operatorname{sen}\\theta),\\quad \\theta\\in(0,\\pi/2).\n",
    "$$\n",
    "\n",
    "e) Calcula el cociente $ CX_{50}(\\theta)=\\frac{X_{50}(\\theta)}{X_{49}(\\theta)}$ para $\\theta=j\\frac\\pi{200}$ con $j=1,\\dots,99$, siendo $X_n(\\theta)$ e $Y_n(\\theta)$ las poblaciones en tiempo $n$ en las clases $X$ e $Y$ cuando los datos iniciales son $(X_0,Y_0)=(\\cos\\theta,\\operatorname{sen}\\theta)$. Representa la función $CX_{50}(\\theta)$ así obtenida. Haz lo mismo para el cociente $CY_{50}(\\theta)=\\frac{Y_{50}(\\theta)}{Y_{49}(\\theta)}$.\n",
    "    \n",
    "**Nota.** En este apartado se van a utilizar ángulos con coseno o seno próximos a cero. Puesto que se pide dividir por una coordenada que puede ser próxima a cero, conviene trabajar con doble precisión cada vez que se tome un valor inicial de la forma $(\\cos\\theta,\\operatorname{sen}\\theta)$. Con $\\texttt{vector}(\\texttt{RDF},(a,b))$, SageMath toma $a$ y $b$ con doble precisión."
   ]
  },
  {
   "cell_type": "code",
   "execution_count": null,
   "metadata": {},
   "outputs": [],
   "source": []
  },
  {
   "cell_type": "markdown",
   "metadata": {},
   "source": [
    "f) Consideramos los cocientes $ TX_n=\\frac{X_{n}}{X_n+Y_n }$, $TY_n=\\frac{Y_{n}}{X_n+Y_n}$, que nos indican la **proporción** de individuos en cada clase de edad en tiempo $n$. De acuerdo con lo que hemos aprendido en el documento previo, los vectores $(TX_n,TY_n)$ deberían aproximarse asintóticamente al autovector normalizado correspondiente al autovalor dominante $(a,b)$.\n",
    "\n",
    "Partiendo de una población inicial $X_0=10$, $Y_0=15$, representa graficamente los pares de puntos $(n,TX_n)$ (en azul) y $(n,TY_n)$ (en azul) para $ n=0,\\dots, 49$, junto con rectas horizontales a alturas $a$ y $b$. De acuerdo con la teoría, deberías observar que los puntos azules se acercan a la recta a altura $a$ y los rojos a la recta a altura $b$."
   ]
  },
  {
   "cell_type": "code",
   "execution_count": null,
   "metadata": {},
   "outputs": [],
   "source": []
  },
  {
   "cell_type": "markdown",
   "metadata": {},
   "source": [
    "g) Ilustremos ahora la convergencia de la distribución de la población en clases de la que se habla en el apartado anterior de una forma dinámica.  Programa una animación (consultar la función $\\texttt{animate}$) en la que se vea cómo, partiendo una vez más de una población inicial $X_0=10$, $Y_0=15$, va cambiando con $n$ el vector cuyas componentes son la proporción de individuos en cada clase de edad en el tiempo $n$, es decir el vector\n",
    "\n",
    "$$ \n",
    "\\left(\\frac{X(n)}{X(n)+Y(n)}, \\frac{Y(n)}{X(n)+Y(n)}\\right).\n",
    "$$\n"
   ]
  },
  {
   "cell_type": "code",
   "execution_count": null,
   "metadata": {},
   "outputs": [],
   "source": []
  },
  {
   "cell_type": "markdown",
   "metadata": {},
   "source": [
    "Nuestro siguiente objetivo es comprobar que la proporción límite de individuos en cada clase de edad no depende del dato inicial.  \n",
    "\n",
    "h) Calcula las proporciones $ TX_{50}(\\theta)=\\frac{X_{50}(\\theta)}{X_{50}(\\theta)+Y_{50}(\\theta)}$ y $TY_{50}(\\theta)=\\frac{Y_{50}(\\theta)}{X_{50}(\\theta)+Y_{50}(\\theta)}$ para $\\theta=j\\frac\\pi{200}$ con $j=1,\\dots,99$, donde $X_n(\\theta)$ e $Y_n(\\theta)$ tienen el mismo significado que en el apartado d).  Representa las funciones $TX_{50}(\\theta)$ y $TY_{50}(\\theta)$ así obtenidas en una misma gráfica, usando para cada una un color."
   ]
  },
  {
   "cell_type": "code",
   "execution_count": null,
   "metadata": {},
   "outputs": [],
   "source": []
  },
  {
   "cell_type": "markdown",
   "metadata": {},
   "source": [
    "____________"
   ]
  },
  {
   "cell_type": "markdown",
   "metadata": {},
   "source": [
    "\n",
    "**Ejercicio 2** \n",
    "\n",
    "En una granja de cría de cerdos, los animales son clasificados según sus edades de la siguiente forma:\n",
    "\n",
    "- Cochinillos: De $0$ a $1$ año.\n",
    "\n",
    "- Lechones: De 1 a 2 años.\n",
    "\n",
    "- Jóvenes: De 2 a 3 años.\n",
    "\n",
    "- Adultos: De 3 a 4 años.\n",
    "\n",
    "El procedimiento de gestión de las hembras de la granja es el siguiente:\n",
    "\n",
    "- Se sacrifica al $60\\%$ de las que van naciendo para su consumo como cochinillos.\n",
    "\n",
    "- Se sacrifica para su consumo a todas las hembras cuando llegan a los $4$ años. No se sacrifica a ninguna de las demás, y se supone que ningún animal muere por otras causas.\n",
    "\n",
    "- Se dedica a todas las hembras jóvenes y adultas a la cría. Se sabe que, en media, cada hembra joven tendrá $0.5$ camadas de $5$ cochinillos, cada hembra adulta tendrá $0.8$ camadas de $5$ cochinillos, y que el $50\\%$ de todos los nuevos nacidos serán hembras.\n",
    "\n",
    "a) Formula el modelo apropiado para describir la evolución de la población de las hembras."
   ]
  },
  {
   "cell_type": "code",
   "execution_count": null,
   "metadata": {},
   "outputs": [],
   "source": []
  },
  {
   "cell_type": "markdown",
   "metadata": {},
   "source": [
    "b) Comprueba que el autovalor dominante es mayor que 1, y que por tanto la población crece sin límite, por lo que la granja no es sostenible con la tasa de sacrificio dada.    "
   ]
  },
  {
   "cell_type": "code",
   "execution_count": null,
   "metadata": {},
   "outputs": [],
   "source": []
  },
  {
   "cell_type": "markdown",
   "metadata": {},
   "source": [
    "c) Se aumenta la tasa de sacrificio al 80%. Comprobar que el autovalor dominante pasa a ser menor que 1, y que por tanto la población tiende a 0 asintóticamente, de forma que la granja tampoco es sostenible. "
   ]
  },
  {
   "cell_type": "code",
   "execution_count": null,
   "metadata": {},
   "outputs": [],
   "source": []
  },
  {
   "cell_type": "markdown",
   "metadata": {},
   "source": [
    "d) Determina una tasa de sacrificio que haga que la granja sea sostenible, esto es, que haga que el  autovalor dominante sea igual a 1. \n",
    "\n",
    "**Indicación.** Pon la tasa de sacrificio  $\\texttt{t}$  como un parámetro en el lugar adecuado de la matriz (debes decirle a SageMath que $\\texttt{t}$ es una variable, para que lo entienda). La matriz, digamos $M_t$, dependerá de un parámetro, y los cálculos en SageMath, al no indicarle ningún anillo, se harán por defecto en el anillo simbólico $\\texttt{SR}$. Calcula el polinomio característico \n",
    "$$P(x,t)=\\texttt{det}(M_t-x*\\texttt{identity}\\_\\texttt{matrix}(4))\n",
    "\\quad\\text{ o también}\\quad\n",
    "P(x,t)=\\texttt{charpoly}(M_t)\n",
    "$$\n",
    "y calcula el $\\texttt{t}$ que asegura que $1$ es un autovalor: es decir $P(1,t)==0$. Asegúrate de que $1$ no solo es autovalor, sino que además es el autovalor dominante. \n",
    "\n",
    "(El procedimiento $\\texttt{.substitute()}$ puede ser útil para, una vez calculado el valor adecuado de $t$, sustituirlo en la matriz $M_t$.)"
   ]
  },
  {
   "cell_type": "code",
   "execution_count": null,
   "metadata": {},
   "outputs": [],
   "source": []
  },
  {
   "cell_type": "markdown",
   "metadata": {},
   "source": [
    "e) Comprueba que con la tasa de sacrificio obtenida en d) la explotación es sostenible, calculando qué datos se obtienen hasta $n=500$.\n",
    "\n",
    "Comprueba que la población total  se estabiliza a una cantidad no nula y la proporción de individuos por clase se estabiliza según las componentes del autovector normalizado asociado al autovalor dominante. "
   ]
  },
  {
   "cell_type": "code",
   "execution_count": null,
   "metadata": {},
   "outputs": [],
   "source": []
  }
 ],
 "metadata": {
  "kernelspec": {
   "display_name": "SageMath 9.0",
   "language": "sage",
   "name": "sagemath"
  },
  "language_info": {
   "codemirror_mode": {
    "name": "ipython",
    "version": 3
   },
   "file_extension": ".py",
   "mimetype": "text/x-python",
   "name": "python",
   "nbconvert_exporter": "python",
   "pygments_lexer": "ipython3",
   "version": "3.7.6"
  }
 },
 "nbformat": 4,
 "nbformat_minor": 4
}
