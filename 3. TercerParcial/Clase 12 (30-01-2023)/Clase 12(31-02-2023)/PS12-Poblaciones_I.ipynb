{
 "cells": [
  {
   "cell_type": "markdown",
   "metadata": {},
   "source": [
    "Ejercicio 1.- Evolución de una población de aves.\n",
    "-------\n",
    "\n",
    "Estamos haciendo el seguimiento de las hembras de cierta especie de aves, que clasificamos en tres clases de edad:</span>\n",
    "\n",
    "- Jóvenes: de 0 a 1 año.\n",
    "\n",
    "- Adultas fértiles: de 1 a 2 años de edad.\n",
    "\n",
    "- Adultas no fértiles: de 2 a 3 años de edad.\n",
    "\n",
    "Cada año hacemos un censo del que resulta que:\n",
    "\n",
    "- Un 12% de las hembras jóvenes y un 54% de las adultas fértiles sobreviven cada año. Ninguna de las adultas no fértiles sobrevive.\n",
    "- Cada hembra joven produce (en promedio) 0.83 hembras al año y cada adulta fértil produce dos.\n",
    "\n",
    "**(a)** Escribe una matriz **$\\texttt{matriz}\\_\\texttt{Aves}$** que modele la evolución de esta población de un año a otro y encuentra sus autovalores."
   ]
  },
  {
   "cell_type": "code",
   "execution_count": null,
   "metadata": {},
   "outputs": [],
   "source": []
  },
  {
   "cell_type": "code",
   "execution_count": null,
   "metadata": {},
   "outputs": [],
   "source": []
  },
  {
   "cell_type": "markdown",
   "metadata": {},
   "source": [
    "**(b)** En el apartado anterior deberíamos haber visto que el autovalor dominante de la matriz es aproximadamente 1.057, lo que supone que, en esas condiciones, la población crecerá a largo plazo una 5.7% anual. Para comprobarlo, simula la evolución de la población a lo largo de 50 años a partir de un momento inicial en el que hay 100 hembras de cada clase de edad y dibuja un gráfico que muestre la evolución anual del tanto por ciento de crecimiento del número  total de hembras."
   ]
  },
  {
   "cell_type": "code",
   "execution_count": null,
   "metadata": {},
   "outputs": [],
   "source": []
  },
  {
   "cell_type": "code",
   "execution_count": null,
   "metadata": {},
   "outputs": [],
   "source": []
  },
  {
   "cell_type": "markdown",
   "metadata": {},
   "source": [
    "**(c)** Para que la especie no crezca incontroladamente, pero tampoco se extinga, permitimos la caza de hembras jóvenes.\n",
    "\n",
    "¿Qué tasa de supervivencia $p$ de hembras jóvenes debemos conseguir para que la población total de hembras de la especie se mantenga estable a largo plazo?"
   ]
  },
  {
   "cell_type": "code",
   "execution_count": null,
   "metadata": {},
   "outputs": [],
   "source": []
  },
  {
   "cell_type": "code",
   "execution_count": null,
   "metadata": {},
   "outputs": [],
   "source": []
  },
  {
   "cell_type": "markdown",
   "metadata": {},
   "source": [
    "**Ejercicio 2.- Evolución de una población de roedores**\n",
    "-------\n",
    "\n",
    "Estamos haciendo el seguimiento de las hembras de cierta especie de roedores, que clasificamos en tres clases de edad:\n",
    "\n",
    "-Jóvenes: de 0 a 1 año.\n",
    "\n",
    "-Adultas fecundables: de 1 a 2 años de edad.\n",
    "\n",
    "-Adultas no fecundables: de 2 a 3 años de edad.\n",
    "\n",
    "Cada año hacemos un censo del que resulta que:\n",
    "\n",
    "- Las jóvenes tienen una tasa de supervivencia del 15%, y, en media, tienen cada año 0.5 crías hembra.\n",
    "\n",
    "- Las adultas fecundables tienen una tasa de supervivencia del 54%, y, en media, tienen cada año 2 crías hembra.\n",
    "\n",
    "- Las adultas no fecundables no tienen crías y no sobrevive ninguna.\n",
    "\n",
    "**(a)** Escribe una matriz $\\texttt{matriz}\\_\\texttt{Roedores}$ que modele la evolución de esta población de un año a otro y _encuentra sus autovalores_."
   ]
  },
  {
   "cell_type": "code",
   "execution_count": null,
   "metadata": {},
   "outputs": [],
   "source": []
  },
  {
   "cell_type": "code",
   "execution_count": null,
   "metadata": {},
   "outputs": [],
   "source": []
  },
  {
   "cell_type": "markdown",
   "metadata": {},
   "source": [
    "**(b)** En el apartado anterior vemos que los autovalores de la matriz son reales y de valor absoluto $<1$, lo que supone que, en esas condiciones, la población se extinguirá. Para ver lo que pasará sin necesidad de esperar a que suceda, **simula la evolución de la población a lo largo de 50 años** a partir de un momento inicial en el que hay 100 hembras de cada clase de edad y dibuja un gráfico que muestre el número <b><span style=\"color: #ff0000;\">total</span></b> (sumadas las tres clases de edad) de hembras en cada uno de los 51 censos (incluido el inicial)."
   ]
  },
  {
   "cell_type": "code",
   "execution_count": null,
   "metadata": {},
   "outputs": [],
   "source": []
  },
  {
   "cell_type": "code",
   "execution_count": null,
   "metadata": {},
   "outputs": [],
   "source": []
  },
  {
   "cell_type": "markdown",
   "metadata": {},
   "source": [
    "**(c)** Queremos hacer algo para que la especie no se extinga, pero tampoco crezca incontroladamente. Resulta que en el ecosistema hay un predador que ataca a las hembras jóvenes, por lo que, controlando el número de ejemplares de este predador, podemos controlar también la población de hembras jóvenes y, con ellas, la población total. **¿Qué tasa de supervivencia $p$ de hembras jóvenes debemos conseguir para que la población total de hembras de la especie se mantenga estable a largo plazo?**"
   ]
  },
  {
   "cell_type": "code",
   "execution_count": null,
   "metadata": {},
   "outputs": [],
   "source": []
  },
  {
   "cell_type": "code",
   "execution_count": null,
   "metadata": {},
   "outputs": [],
   "source": []
  }
 ],
 "metadata": {
  "kernelspec": {
   "display_name": "SageMath 9.0",
   "language": "sage",
   "name": "sagemath"
  },
  "language_info": {
   "codemirror_mode": {
    "name": "ipython",
    "version": 3
   },
   "file_extension": ".py",
   "mimetype": "text/x-python",
   "name": "python",
   "nbconvert_exporter": "python",
   "pygments_lexer": "ipython3",
   "version": "3.7.6"
  }
 },
 "nbformat": 4,
 "nbformat_minor": 4
}
