{
 "cells": [
  {
   "cell_type": "markdown",
   "metadata": {},
   "source": [
    "# Laboratorio 2022-2023\n",
    "\n",
    "##  Sesión 18: Cadenas de Markov finitas en tiempo discreto"
   ]
  },
  {
   "cell_type": "markdown",
   "metadata": {},
   "source": [
    "Queremos simular la evolución de sistemas descritos por cadenas de Markov que involucran un número finito de estados, en tiempo discreto. Para ello tendremos que ser capaces de, desde un estado $j$,  *sortear* a qué estado llegaremos en el paso siguiente, de acuerdo con las probabilidades dadas por la columna $j$ de la matriz $P$. El siguiente ejercicio nos va a ayudar a ello.\n",
    "\n",
    "\n",
    "**Ejercicio 1.-** De un cine, con tres salidas, $1/3$ de los espectadores sale por la salida $0$, $1/5$ por la $1$ y el resto, $7/15$, por la $2$. Se elige, al azar, un espectador, ¿por qué puerta saldrá? Esta situación se puede simular decidiendo conforme a la siguiente regla:\n",
    "- se divide el intervalo $[0,1)$ en tres subintervalos de longitudes $1/3$, $1/5$ y $7/15$ respectivamente, es decir:\n",
    "$$[0,1)= I_0\\cup I_1\\cup I_2=[0,\\tfrac13)\\cup [\\tfrac 13,\\tfrac13+\\tfrac15) \\cup [\\tfrac13+\\tfrac15,1)$$\n",
    "- se decide la puerta de salida por el subintervalo en que se sitúe el número $t={\\tt random}()$: si $t\\in I_0$, la salida $0$; si $t\\in I_1$, la $1$; por la $2$ en otro caso.\n",
    "\n",
    "Es claro que de esta manera, se decidirá cada puerta de salida conforme a las probabilidades que nos han referido. La misma estrategia es válida para cualquier **vector** de probabilidades.\n",
    "\n",
    "Codifica un programa *paso(v)* que, dado un vector $v$ de probabilidad (es decir, con suma de sus coordenadas igual a 1), genere de manera aleatoria un entero $k$ entre $0$ y *len(v)-1*, teniendo cada uno de estos números una probabilidad *$v[k]$*.\n",
    "\n",
    "*Sugerencia.-* Construye un vector $F$ con elementos $F[k]=\\sum_{j=0}^k v[j]$. Genera un número aleatorio $a$ entre 0 y 1. La salida será el primer $k$ tal que $a<F[k]$."
   ]
  },
  {
   "cell_type": "code",
   "execution_count": 23,
   "metadata": {},
   "outputs": [],
   "source": [
    "# Primera versión, siguiendo la sugerencia\n",
    "\n",
    "def paso(v):\n",
    "    F=[v[0]]\n",
    "    for k in xsrange(1,len(v)):\n",
    "        F.append(F[k-1]+v[k])\n",
    "    a=random()\n",
    "    indice=0\n",
    "    while a> F[indice]:\n",
    "        indice+=1\n",
    "    return indice "
   ]
  },
  {
   "cell_type": "code",
   "execution_count": 24,
   "metadata": {},
   "outputs": [
    {
     "name": "stdout",
     "output_type": "stream",
     "text": [
      "Tarda 14.849177122116089 segundos\n",
      "0.333816000000000 0.200027000000000 0.466157000000000\n",
      "0.333333333333333 0.200000000000000 0.466666666666667\n"
     ]
    }
   ],
   "source": [
    "#Pruebo si funciona bien, con las probabilidades de las tres salidas del cine\n",
    "v=[1/3, 1/5, 7/15]\n",
    "\n",
    "t0=walltime()\n",
    "ceros=unos=doses=0 #Cadena de asignaciones para inicializar a 0 los tres contadores\n",
    "rep=10^6\n",
    "for _ in xsrange(rep):\n",
    "    actual=paso(v)\n",
    "    if actual==0: ceros+=1\n",
    "    elif actual==1: unos+=1\n",
    "    else: doses+=1\n",
    "print('Tarda',walltime(t0),'segundos')\n",
    "print ((ceros/rep).n(),(unos/rep).n(), (doses/rep).n())\n",
    "print((1/3).n(), (1/5).n(),(7/15).n()) "
   ]
  },
  {
   "cell_type": "code",
   "execution_count": 25,
   "metadata": {},
   "outputs": [],
   "source": [
    "# Segunda versión, que esperamos sea más eficiente. Primero genero el número aleatorio a, y luego voy calculando valores de F[k] \n",
    "# hasta llegue a un k tal que a<F[k]. Ahí paro.\n",
    "\n",
    "def paso(v): \n",
    "    a=random()\n",
    "    Fk=v[0]\n",
    "    k=0\n",
    "    while a>Fk:\n",
    "        Fk+=v[k+1]\n",
    "        k+=1\n",
    "    return k"
   ]
  },
  {
   "cell_type": "code",
   "execution_count": 26,
   "metadata": {},
   "outputs": [
    {
     "name": "stdout",
     "output_type": "stream",
     "text": [
      "Tarda 4.1134350299835205 segundos\n",
      "0.333317000000000 0.199964000000000 0.466719000000000\n",
      "0.333333333333333 0.200000000000000 0.466666666666667\n"
     ]
    }
   ],
   "source": [
    "# Probamos si funciona bien, con las probabilidades de las tres salidas del cine\n",
    "v=[1/3, 1/5, 7/15]\n",
    "\n",
    "t0=walltime()\n",
    "ceros=unos=doses=0 #Cadena de asignaciones para inicializar a 0 los tres contadores\n",
    "rep=10^6\n",
    "for _ in xsrange(rep):\n",
    "    actual=paso(v)\n",
    "    if actual==0:\n",
    "        ceros+=1\n",
    "    elif actual==1:\n",
    "        unos+=1\n",
    "    else:\n",
    "        doses+=1\n",
    "print('Tarda',walltime(t0),'segundos')\n",
    "print ((ceros/rep).n(),(unos/rep).n(), (doses/rep).n())\n",
    "print((1/3).n(), (1/5).n(),(7/15).n()) "
   ]
  },
  {
   "cell_type": "code",
   "execution_count": 27,
   "metadata": {},
   "outputs": [],
   "source": [
    "def pasoF(F):\n",
    "    tirada=random()\n",
    "    indice=0\n",
    "    while tirada> F[indice]:\n",
    "        indice+=1\n",
    "    return indice "
   ]
  },
  {
   "cell_type": "code",
   "execution_count": 28,
   "metadata": {},
   "outputs": [
    {
     "name": "stdout",
     "output_type": "stream",
     "text": [
      "Tarda 2.914644479751587 segundos\n",
      "0.333199000000000 0.200077000000000 0.466724000000000\n",
      "0.333333333333333 0.200000000000000 0.466666666666667\n"
     ]
    }
   ],
   "source": [
    "# Probamos si funciona bien, con las probabilidades de las tres salidas del cine\n",
    "\n",
    "F=[1/3,1/3+1/5,1]  # Vector de distribución\n",
    "ceros=unos=doses=0 #Cadena de asignaciones para inicializar a 0 los tres contadores\n",
    "\n",
    "t0=walltime()\n",
    "rep=10^6\n",
    "for _ in xsrange(rep):\n",
    "    actual=pasoF(F)\n",
    "    if actual==0:\n",
    "        ceros+=1\n",
    "    elif actual==1:\n",
    "        unos+=1\n",
    "    else:\n",
    "        doses+=1\n",
    "print('Tarda',walltime(t0),'segundos')\n",
    "print ((ceros/rep).n(),(unos/rep).n(), (doses/rep).n())\n",
    "print((1/3).n(), (1/5).n(),(7/15).n()) "
   ]
  },
  {
   "cell_type": "markdown",
   "metadata": {},
   "source": [
    "____________\n",
    "\n",
    "**Ejercicio 2.-** Supongamos que una cadena de Markov con estados $0,1,2$ tiene matriz de transición $P$ descrita por la siguiente tabla:\n",
    "\n",
    "$$\\begin{array}{|c|c|c|c|} \\hline & 0 & 1 & 2\\\\ \\hline 0 & 0.1 & 0.9 & 0.1 \\\\ 1 & 0.2 & 0.1 & 0.8\\\\ 2 & 0.7 & 0 & 0.1 \\\\ \\hline \\end{array}$$\n",
    "\n",
    "\n",
    "Sea $X_n$ *el estado de la cadena en el tiempo $n$.* \n",
    "\n",
    "\n",
    "**a)** Simula la evolución del sistema durante $1000$ pasos suponiendo que incialmente está en el estado $1$. Contabiliza, por medio de un diccionario, el número de veces que el sistema ha estado en cada estado (*sugerencia.-* el método *.column(j)* extrae la j-ésima columna de una matriz).  Compara las proporciones del tiempo total que el sistema pasó en cada estado, que  has obtenido, con el autovector de la matriz $P$ (regular) correspondiente al autovalor 1, normalizado de forma que sea un vector de probabilidad. "
   ]
  },
  {
   "cell_type": "code",
   "execution_count": 30,
   "metadata": {},
   "outputs": [
    {
     "data": {
      "text/html": [
       "<html><script type=\"math/tex; mode=display\">\\newcommand{\\Bold}[1]{\\mathbf{#1}}\\left(\\begin{array}{rrr}\n",
       "\\frac{1}{10} & \\frac{9}{10} & \\frac{1}{10} \\\\\n",
       "\\frac{1}{5} & \\frac{1}{10} & \\frac{4}{5} \\\\\n",
       "\\frac{7}{10} & 0 & \\frac{1}{10}\n",
       "\\end{array}\\right)</script></html>"
      ],
      "text/latex": [
       "$$\\newcommand{\\Bold}[1]{\\mathbf{#1}}\\left(\\begin{array}{rrr}\n",
       "\\frac{1}{10} & \\frac{9}{10} & \\frac{1}{10} \\\\\n",
       "\\frac{1}{5} & \\frac{1}{10} & \\frac{4}{5} \\\\\n",
       "\\frac{7}{10} & 0 & \\frac{1}{10}\n",
       "\\end{array}\\right)$$"
      ],
      "text/plain": [
       "[1/10 9/10 1/10]\n",
       "[ 1/5 1/10  4/5]\n",
       "[7/10    0 1/10]"
      ]
     },
     "metadata": {},
     "output_type": "display_data"
    }
   ],
   "source": [
    "P=matrix(QQ, 3,[0.1,0.9,0.1,0.2,0.1,0.8,0.7,0,0.1])\n",
    "show(P)"
   ]
  },
  {
   "cell_type": "code",
   "execution_count": 31,
   "metadata": {},
   "outputs": [
    {
     "data": {
      "text/plain": [
       "[0.3725, 0.3388, 0.2887]"
      ]
     },
     "execution_count": 31,
     "metadata": {},
     "output_type": "execute_result"
    }
   ],
   "source": [
    "estado=1\n",
    "frec=dict([(1,1)])\n",
    "rep=10^5\n",
    "for _ in xsrange(rep):\n",
    "    estado=paso(P.column(estado))\n",
    "    if estado in frec: frec[estado]+=1\n",
    "    else: frec[estado]=1\n",
    "prop=[(frec[estado]/rep).n(digits=4) for estado in [0..2] ]\n",
    "prop"
   ]
  },
  {
   "cell_type": "code",
   "execution_count": 32,
   "metadata": {},
   "outputs": [
    {
     "data": {
      "text/html": [
       "<html><script type=\"math/tex; mode=display\">\\newcommand{\\Bold}[1]{\\mathbf{#1}}\\left(\\begin{array}{rrr}\n",
       "\\frac{13}{50} & \\frac{9}{50} & \\frac{37}{50} \\\\\n",
       "\\frac{3}{5} & \\frac{19}{100} & \\frac{9}{50} \\\\\n",
       "\\frac{7}{50} & \\frac{63}{100} & \\frac{2}{25}\n",
       "\\end{array}\\right)</script></html>"
      ],
      "text/latex": [
       "$$\\newcommand{\\Bold}[1]{\\mathbf{#1}}\\left(\\begin{array}{rrr}\n",
       "\\frac{13}{50} & \\frac{9}{50} & \\frac{37}{50} \\\\\n",
       "\\frac{3}{5} & \\frac{19}{100} & \\frac{9}{50} \\\\\n",
       "\\frac{7}{50} & \\frac{63}{100} & \\frac{2}{25}\n",
       "\\end{array}\\right)$$"
      ],
      "text/plain": [
       "[ 13/50   9/50  37/50]\n",
       "[   3/5 19/100   9/50]\n",
       "[  7/50 63/100   2/25]"
      ]
     },
     "metadata": {},
     "output_type": "display_data"
    }
   ],
   "source": [
    "show(P^2)"
   ]
  },
  {
   "cell_type": "code",
   "execution_count": 33,
   "metadata": {},
   "outputs": [
    {
     "data": {
      "text/html": [
       "<html><script type=\"math/tex; mode=display\">\\newcommand{\\Bold}[1]{\\mathbf{#1}}\\left(0.3716,\\,0.3395,\\,0.2890\\right)</script></html>"
      ],
      "text/latex": [
       "$$\\newcommand{\\Bold}[1]{\\mathbf{#1}}\\left(0.3716,\\,0.3395,\\,0.2890\\right)$$"
      ],
      "text/plain": [
       "(0.3716, 0.3395, 0.2890)"
      ]
     },
     "metadata": {},
     "output_type": "display_data"
    }
   ],
   "source": [
    "autovdom=(P-identity_matrix(3)).right_kernel().basis()[0] # Generador del núcleo, por la derecha, de P-I\n",
    "autovdom=autovdom/sum(autovdom) # Normalizado\n",
    "show(autovdom.n(digits=4))"
   ]
  },
  {
   "cell_type": "markdown",
   "metadata": {},
   "source": [
    "**b)** Simula la evolución del sistema durante $1000$ pasos si se parte de un estado inicial elegido aleatoriamente según la distribución de probabilidades  siguiente: $P(X_0=0)=0.3$, $P(X_0=1)=0.4$ y $P(X_0=2)=0.3$. Contabiliza las veces que el sistema está en cada estado. ¿Ves alguna diferencia significativa con el caso anterior, en el que se partía de un estado determinado? *Sugerencia.-* Para el \"sorteo\" del estado inicial puedes usar también la funcion $paso$ del Ejercicio 1."
   ]
  },
  {
   "cell_type": "code",
   "execution_count": 34,
   "metadata": {},
   "outputs": [
    {
     "data": {
      "text/plain": [
       "[0.3713, 0.3390, 0.2897]"
      ]
     },
     "execution_count": 34,
     "metadata": {},
     "output_type": "execute_result"
    }
   ],
   "source": [
    "estado=paso([0.3,0.4,0.3])\n",
    "frec=dict([(estado,1)])\n",
    "rep=10^5\n",
    "for _ in xsrange(rep):\n",
    "    estado=paso(P.column(estado))\n",
    "    if estado in frec: frec[estado]+=1\n",
    "    else: frec[estado]=1\n",
    "prop=[(frec[estado]/rep).n(digits=4) for estado in [0..2] ]\n",
    "prop"
   ]
  },
  {
   "cell_type": "markdown",
   "metadata": {},
   "source": [
    "**c)** Estima experimentalmente la probabilidad de, partiendo del estado $0$, acabar en $5$ pasos en el estado $2$. Compara con el elemento $(2,0)$ de la matriz $P^5$."
   ]
  },
  {
   "cell_type": "code",
   "execution_count": 35,
   "metadata": {},
   "outputs": [
    {
     "data": {
      "text/plain": [
       "(0.2371, 0.2380)"
      ]
     },
     "execution_count": 35,
     "metadata": {},
     "output_type": "execute_result"
    }
   ],
   "source": [
    "rep=10^5\n",
    "exitos=0\n",
    "for _ in xsrange(rep):\n",
    "    estado=0\n",
    "    for _ in xsrange(5): estado=paso(P.column(estado))\n",
    "    if estado==2: exitos+=1\n",
    "(exitos/rep).n(digits=4), (P^5)[2,0].n(digits=4)"
   ]
  },
  {
   "cell_type": "markdown",
   "metadata": {},
   "source": [
    "**d)** Estima experimentalmente la probabilidad de que el sistema empiece en el estado 0 y tras cinco pasos se encuentre en el estado 2, suponiendo que el estado inicial se elige aleatoriamente como en el apartado **b)**. Compara el valor obtenido con el producto de $P(X_0=0)$ con el elemento $(2,0)$ de la matriz $P^5$."
   ]
  },
  {
   "cell_type": "code",
   "execution_count": 36,
   "metadata": {},
   "outputs": [
    {
     "data": {
      "text/plain": [
       "(0.07133, 0.07140)"
      ]
     },
     "execution_count": 36,
     "metadata": {},
     "output_type": "execute_result"
    }
   ],
   "source": [
    "rep=10^5\n",
    "exitos=0\n",
    "for _ in xsrange(rep):\n",
    "    estado=paso([0.3,0.4,0.3])\n",
    "    if estado==0:\n",
    "        for _ in xsrange(5): estado=paso(P.column(estado))\n",
    "        if estado==2: exitos+=1\n",
    "(exitos/rep).n(digits=4), 0.3*(P^5)[2,0].n(digits=4)"
   ]
  },
  {
   "cell_type": "markdown",
   "metadata": {},
   "source": [
    "_______________\n",
    "\n",
    "**Ejercicio 3.-**  Introducimos un ratón en el siguiente laberinto:\n",
    "<center>\n",
    "    <img src=\"laberinto.png\" alt=\"Laberinto\" width=\"26%\" />\n",
    "</center>\n",
    "\n",
    "En la habitación $8$ hay un agujero en la pared: si el ratón llega a ella escapa y vive una vida feliz en el exterior. En la habitación $7$ hay un gato y... bueno, no demos detalles, pero el caso es que las habitaciones $7$ y $8$ se consideran estados absorbentes. Se supone, además, que el ratón no aprende por dónde ha pasado, de manera que se mueve por el recinto aleatoriamente (elige, con igual probabilidad, la puerta de salida de la habitación entre las posibles).\n",
    "\n",
    "**a)** Estima experimentalmente la probabilidad de que el ratón pueda escapar suponiendo que empieza en la casilla $2$.\n"
   ]
  },
  {
   "cell_type": "code",
   "execution_count": 14,
   "metadata": {},
   "outputs": [
    {
     "data": {
      "text/html": [
       "<html><script type=\"math/tex; mode=display\">\\newcommand{\\Bold}[1]{\\mathbf{#1}}\\left(\\begin{array}{rrrrrrrrr}\n",
       "0 & \\frac{1}{3} & \\frac{1}{3} & 0 & 0 & 0 & 0 & 0 & 0 \\\\\n",
       "\\frac{1}{2} & 0 & 0 & \\frac{1}{4} & 0 & 0 & 0 & 0 & 0 \\\\\n",
       "\\frac{1}{2} & 0 & 0 & \\frac{1}{4} & 0 & 0 & 0 & 0 & 0 \\\\\n",
       "0 & \\frac{1}{3} & \\frac{1}{3} & 0 & \\frac{1}{3} & \\frac{1}{3} & 0 & 0 & 0 \\\\\n",
       "0 & 0 & 0 & \\frac{1}{4} & 0 & 0 & \\frac{1}{2} & 0 & 0 \\\\\n",
       "0 & 0 & 0 & \\frac{1}{4} & 0 & 0 & \\frac{1}{2} & 0 & 0 \\\\\n",
       "0 & 0 & 0 & 0 & \\frac{1}{3} & \\frac{1}{3} & 0 & 0 & 0 \\\\\n",
       "0 & \\frac{1}{3} & 0 & 0 & \\frac{1}{3} & 0 & 0 & 1 & 0 \\\\\n",
       "0 & 0 & \\frac{1}{3} & 0 & 0 & \\frac{1}{3} & 0 & 0 & 1\n",
       "\\end{array}\\right)</script></html>"
      ],
      "text/latex": [
       "$$\\newcommand{\\Bold}[1]{\\mathbf{#1}}\\left(\\begin{array}{rrrrrrrrr}\n",
       "0 & \\frac{1}{3} & \\frac{1}{3} & 0 & 0 & 0 & 0 & 0 & 0 \\\\\n",
       "\\frac{1}{2} & 0 & 0 & \\frac{1}{4} & 0 & 0 & 0 & 0 & 0 \\\\\n",
       "\\frac{1}{2} & 0 & 0 & \\frac{1}{4} & 0 & 0 & 0 & 0 & 0 \\\\\n",
       "0 & \\frac{1}{3} & \\frac{1}{3} & 0 & \\frac{1}{3} & \\frac{1}{3} & 0 & 0 & 0 \\\\\n",
       "0 & 0 & 0 & \\frac{1}{4} & 0 & 0 & \\frac{1}{2} & 0 & 0 \\\\\n",
       "0 & 0 & 0 & \\frac{1}{4} & 0 & 0 & \\frac{1}{2} & 0 & 0 \\\\\n",
       "0 & 0 & 0 & 0 & \\frac{1}{3} & \\frac{1}{3} & 0 & 0 & 0 \\\\\n",
       "0 & \\frac{1}{3} & 0 & 0 & \\frac{1}{3} & 0 & 0 & 1 & 0 \\\\\n",
       "0 & 0 & \\frac{1}{3} & 0 & 0 & \\frac{1}{3} & 0 & 0 & 1\n",
       "\\end{array}\\right)$$"
      ],
      "text/plain": [
       "[  0 1/3 1/3   0   0   0   0   0   0]\n",
       "[1/2   0   0 1/4   0   0   0   0   0]\n",
       "[1/2   0   0 1/4   0   0   0   0   0]\n",
       "[  0 1/3 1/3   0 1/3 1/3   0   0   0]\n",
       "[  0   0   0 1/4   0   0 1/2   0   0]\n",
       "[  0   0   0 1/4   0   0 1/2   0   0]\n",
       "[  0   0   0   0 1/3 1/3   0   0   0]\n",
       "[  0 1/3   0   0 1/3   0   0   1   0]\n",
       "[  0   0 1/3   0   0 1/3   0   0   1]"
      ]
     },
     "metadata": {},
     "output_type": "display_data"
    }
   ],
   "source": [
    "P=matrix(QQ,9) #Esto es una forma de generar una matriz de ceros\n",
    "#Dos puertas de salida\n",
    "P[1,0]=P[2,0]=P[4,6]=P[5,6]=1/2\n",
    "#Tres puertas de salida\n",
    "P[0,1]=P[3,1]=P[7,1]=P[0,2]=P[3,2]=P[8,2]=P[3,4]=P[6,4]=P[7,4]=P[3,5]=P[6,5]=P[8,5]=1/3\n",
    "#Cuatro puertas de salida\n",
    "P[1,3]=P[2,3]=P[4,3]=P[5,3]=1/4\n",
    "#Absorbentes\n",
    "P[7,7]=P[8,8]=1\n",
    "show(P)"
   ]
  },
  {
   "cell_type": "code",
   "execution_count": 15,
   "metadata": {},
   "outputs": [
    {
     "name": "stdout",
     "output_type": "stream",
     "text": [
      "[2, 0, 2, 8]\n",
      "[2, 0, 2, 8]\n",
      "[2, 3, 5, 8]\n",
      "[2, 0, 2, 0, 2, 8]\n",
      "[2, 8]\n",
      "[2, 3, 5, 8]\n",
      "[2, 3, 1, 7]\n",
      "[2, 8]\n",
      "[2, 3, 2, 0, 2, 8]\n",
      "[2, 3, 5, 3, 4, 6, 5, 6, 5, 6, 4, 7]\n"
     ]
    }
   ],
   "source": [
    "# Esto no se pregunta, pero podemos simular recorridos del ratón saliendo desde 2\n",
    "\n",
    "for _ in xsrange(10):\n",
    "    estados=[]\n",
    "    estado=2\n",
    "    estados.append(estado)\n",
    "    while estado!=7 and estado!=8:\n",
    "        estado=paso(P.column(estado))\n",
    "        estados.append(estado)\n",
    "    print(estados)"
   ]
  },
  {
   "cell_type": "code",
   "execution_count": 16,
   "metadata": {},
   "outputs": [
    {
     "data": {
      "text/plain": [
       "0.665720000000000"
      ]
     },
     "execution_count": 16,
     "metadata": {},
     "output_type": "execute_result"
    }
   ],
   "source": [
    "# Probabilidad de escapar empezando en 2 \n",
    "\n",
    "rep=10^5\n",
    "exitos=0\n",
    "for _ in xsrange(rep):\n",
    "    estado=2\n",
    "    while estado!=7 and estado!=8: estado=paso(P.column(estado))\n",
    "    if estado==8: exitos+=1\n",
    "(exitos/rep).n()"
   ]
  },
  {
   "cell_type": "markdown",
   "metadata": {},
   "source": [
    "**b)** Estima experimentalmente la probabilidad de que el ratón sea cazado por el gato suponiendo que ha sido introducido al azar en el laberinto.\n"
   ]
  },
  {
   "cell_type": "code",
   "execution_count": 17,
   "metadata": {},
   "outputs": [
    {
     "data": {
      "text/plain": [
       "0.499910000000000"
      ]
     },
     "execution_count": 17,
     "metadata": {},
     "output_type": "execute_result"
    }
   ],
   "source": [
    "#Encontrarse con el gato si empieza al azar (con misma probabilidad de empezar en cualquier sitio)\n",
    "\n",
    "rep=10^5\n",
    "exitos=0\n",
    "for _ in xsrange(rep):\n",
    "    estado=randint(0,8)\n",
    "    while estado!=7 and estado!=8: estado=paso(P.column(estado))\n",
    "    if estado==7: exitos+=1\n",
    "(exitos/rep).n()"
   ]
  },
  {
   "cell_type": "markdown",
   "metadata": {},
   "source": [
    "**c)** Estima experimentalmente el tiempo medio que un ratón que empieza en $6$ y no es cazado por el gato emplea hasta que consigue escapar.\n"
   ]
  },
  {
   "cell_type": "code",
   "execution_count": 18,
   "metadata": {},
   "outputs": [
    {
     "data": {
      "text/plain": [
       "5.97766978593518"
      ]
     },
     "execution_count": 18,
     "metadata": {},
     "output_type": "execute_result"
    }
   ],
   "source": [
    "# Tiempo medio de 6 a agujero de salida, suponiendo que llega\n",
    "\n",
    "rep=10^5\n",
    "tiempototal=0\n",
    "exitos=0\n",
    "for _ in xsrange(rep):\n",
    "    tiempo=0\n",
    "    estado=6\n",
    "    while estado!=7 and estado!=8:\n",
    "        tiempo+=1\n",
    "        estado=paso(P.column(estado))\n",
    "    if estado==8:\n",
    "        exitos+=1\n",
    "        tiempototal+=tiempo\n",
    "(tiempototal/exitos).n()"
   ]
  },
  {
   "cell_type": "markdown",
   "metadata": {},
   "source": [
    "_______________\n",
    "\n",
    "**Ejercicio 4.-** Ladan Afar, tenista famoso por su poderoso servicio pero un poco frágil mentalmente, te ha contratado para un estudio matemático. Analizando las estadísticas de sus partidos determinas, en los juegos en los que Ladan está al servicio, la frecuencia con la que Ladan gana el siguiente  punto en función de cuál sea el marcador en ese momento. La figura siguiente resume dichas frecuencias:\n",
    "<center>\n",
    "    <img src=\"tenis.png\" alt=\"Tenis\" width=\"60%\" />\n",
    "</center>\n",
    "\n",
    "Nota: no se ha considerado que _30-30_ e _iguales_ sean dos resultados distintos, puesto que son en cierto sentido equivalentes. Lo mismo ocurre con los marcadores de _40-30_ y _ventaja al servicio_ (V+) ó con _30-40_ y _ventaja al resto_ (V-).\n",
    "\n",
    "**a)** Estima qué probabilidad tiene Ladan Afar de ganar un juego en el que está al servicio, y cuántas veces, en promedio, pasa uno de esos juegos por el marcador \"Iguales\"."
   ]
  },
  {
   "cell_type": "code",
   "execution_count": 37,
   "metadata": {},
   "outputs": [
    {
     "data": {
      "text/html": [
       "<html><script type=\"math/tex; mode=display\">\\newcommand{\\Bold}[1]{\\mathbf{#1}}\\left(\\begin{array}{rrrrrrrrrrrrrrrrr}\n",
       "0.0 & 0.0 & 0.0 & 0.0 & 0.0 & 0.0 & 0.0 & 0.0 & 0.0 & 0.0 & 0.0 & 0.0 & 0.0 & 0.0 & 0.0 & 0.0 & 0.0 \\\\\n",
       "0.6 & 0.0 & 0.0 & 0.0 & 0.0 & 0.0 & 0.0 & 0.0 & 0.0 & 0.0 & 0.0 & 0.0 & 0.0 & 0.0 & 0.0 & 0.0 & 0.0 \\\\\n",
       "0.4 & 0.0 & 0.0 & 0.0 & 0.0 & 0.0 & 0.0 & 0.0 & 0.0 & 0.0 & 0.0 & 0.0 & 0.0 & 0.0 & 0.0 & 0.0 & 0.0 \\\\\n",
       "0.0 & 0.6 & 0.0 & 0.0 & 0.0 & 0.0 & 0.0 & 0.0 & 0.0 & 0.0 & 0.0 & 0.0 & 0.0 & 0.0 & 0.0 & 0.0 & 0.0 \\\\\n",
       "0.0 & 0.4 & 0.6 & 0.0 & 0.0 & 0.0 & 0.0 & 0.0 & 0.0 & 0.0 & 0.0 & 0.0 & 0.0 & 0.0 & 0.0 & 0.0 & 0.0 \\\\\n",
       "0.0 & 0.0 & 0.4 & 0.0 & 0.0 & 0.0 & 0.0 & 0.0 & 0.0 & 0.0 & 0.0 & 0.0 & 0.0 & 0.0 & 0.0 & 0.0 & 0.0 \\\\\n",
       "0.0 & 0.0 & 0.0 & 0.6 & 0.0 & 0.0 & 0.0 & 0.0 & 0.0 & 0.0 & 0.0 & 0.0 & 0.0 & 0.0 & 0.0 & 0.0 & 0.0 \\\\\n",
       "0.0 & 0.0 & 0.0 & 0.4 & 0.6 & 0.0 & 0.0 & 0.0 & 0.0 & 0.0 & 0.0 & 0.0 & 0.0 & 0.0 & 0.0 & 0.0 & 0.0 \\\\\n",
       "0.0 & 0.0 & 0.0 & 0.0 & 0.4 & 0.4 & 0.0 & 0.0 & 0.0 & 0.0 & 0.0 & 0.0 & 0.0 & 0.0 & 0.0 & 0.0 & 0.0 \\\\\n",
       "0.0 & 0.0 & 0.0 & 0.0 & 0.0 & 0.6 & 0.0 & 0.0 & 0.0 & 0.0 & 0.0 & 0.0 & 0.0 & 0.0 & 0.0 & 0.0 & 0.0 \\\\\n",
       "0.0 & 0.0 & 0.0 & 0.0 & 0.0 & 0.0 & 0.4 & 0.6 & 0.0 & 0.0 & 0.0 & 0.0 & 0.0 & 0.0 & 0.0 & 0.0 & 0.0 \\\\\n",
       "0.0 & 0.0 & 0.0 & 0.0 & 0.0 & 0.0 & 0.0 & 0.4 & 0.4 & 0.0 & 0.0 & 0.0 & 0.0 & 0.4 & 0.3 & 0.0 & 0.0 \\\\\n",
       "0.0 & 0.0 & 0.0 & 0.0 & 0.0 & 0.0 & 0.0 & 0.0 & 0.6 & 0.2 & 0.0 & 0.0 & 0.0 & 0.0 & 0.0 & 0.0 & 0.0 \\\\\n",
       "0.0 & 0.0 & 0.0 & 0.0 & 0.0 & 0.0 & 0.0 & 0.0 & 0.0 & 0.0 & 0.4 & 0.5 & 0.0 & 0.0 & 0.0 & 0.0 & 0.0 \\\\\n",
       "0.0 & 0.0 & 0.0 & 0.0 & 0.0 & 0.0 & 0.0 & 0.0 & 0.0 & 0.0 & 0.0 & 0.5 & 0.3 & 0.0 & 0.0 & 0.0 & 0.0 \\\\\n",
       "0.0 & 0.0 & 0.0 & 0.0 & 0.0 & 0.0 & 0.6 & 0.0 & 0.0 & 0.0 & 0.6 & 0.0 & 0.0 & 0.6 & 0.0 & 1.0 & 0.0 \\\\\n",
       "0.0 & 0.0 & 0.0 & 0.0 & 0.0 & 0.0 & 0.0 & 0.0 & 0.0 & 0.8 & 0.0 & 0.0 & 0.7 & 0.0 & 0.7 & 0.0 & 1.0\n",
       "\\end{array}\\right)</script></html>"
      ],
      "text/latex": [
       "$$\\newcommand{\\Bold}[1]{\\mathbf{#1}}\\left(\\begin{array}{rrrrrrrrrrrrrrrrr}\n",
       "0.0 & 0.0 & 0.0 & 0.0 & 0.0 & 0.0 & 0.0 & 0.0 & 0.0 & 0.0 & 0.0 & 0.0 & 0.0 & 0.0 & 0.0 & 0.0 & 0.0 \\\\\n",
       "0.6 & 0.0 & 0.0 & 0.0 & 0.0 & 0.0 & 0.0 & 0.0 & 0.0 & 0.0 & 0.0 & 0.0 & 0.0 & 0.0 & 0.0 & 0.0 & 0.0 \\\\\n",
       "0.4 & 0.0 & 0.0 & 0.0 & 0.0 & 0.0 & 0.0 & 0.0 & 0.0 & 0.0 & 0.0 & 0.0 & 0.0 & 0.0 & 0.0 & 0.0 & 0.0 \\\\\n",
       "0.0 & 0.6 & 0.0 & 0.0 & 0.0 & 0.0 & 0.0 & 0.0 & 0.0 & 0.0 & 0.0 & 0.0 & 0.0 & 0.0 & 0.0 & 0.0 & 0.0 \\\\\n",
       "0.0 & 0.4 & 0.6 & 0.0 & 0.0 & 0.0 & 0.0 & 0.0 & 0.0 & 0.0 & 0.0 & 0.0 & 0.0 & 0.0 & 0.0 & 0.0 & 0.0 \\\\\n",
       "0.0 & 0.0 & 0.4 & 0.0 & 0.0 & 0.0 & 0.0 & 0.0 & 0.0 & 0.0 & 0.0 & 0.0 & 0.0 & 0.0 & 0.0 & 0.0 & 0.0 \\\\\n",
       "0.0 & 0.0 & 0.0 & 0.6 & 0.0 & 0.0 & 0.0 & 0.0 & 0.0 & 0.0 & 0.0 & 0.0 & 0.0 & 0.0 & 0.0 & 0.0 & 0.0 \\\\\n",
       "0.0 & 0.0 & 0.0 & 0.4 & 0.6 & 0.0 & 0.0 & 0.0 & 0.0 & 0.0 & 0.0 & 0.0 & 0.0 & 0.0 & 0.0 & 0.0 & 0.0 \\\\\n",
       "0.0 & 0.0 & 0.0 & 0.0 & 0.4 & 0.4 & 0.0 & 0.0 & 0.0 & 0.0 & 0.0 & 0.0 & 0.0 & 0.0 & 0.0 & 0.0 & 0.0 \\\\\n",
       "0.0 & 0.0 & 0.0 & 0.0 & 0.0 & 0.6 & 0.0 & 0.0 & 0.0 & 0.0 & 0.0 & 0.0 & 0.0 & 0.0 & 0.0 & 0.0 & 0.0 \\\\\n",
       "0.0 & 0.0 & 0.0 & 0.0 & 0.0 & 0.0 & 0.4 & 0.6 & 0.0 & 0.0 & 0.0 & 0.0 & 0.0 & 0.0 & 0.0 & 0.0 & 0.0 \\\\\n",
       "0.0 & 0.0 & 0.0 & 0.0 & 0.0 & 0.0 & 0.0 & 0.4 & 0.4 & 0.0 & 0.0 & 0.0 & 0.0 & 0.4 & 0.3 & 0.0 & 0.0 \\\\\n",
       "0.0 & 0.0 & 0.0 & 0.0 & 0.0 & 0.0 & 0.0 & 0.0 & 0.6 & 0.2 & 0.0 & 0.0 & 0.0 & 0.0 & 0.0 & 0.0 & 0.0 \\\\\n",
       "0.0 & 0.0 & 0.0 & 0.0 & 0.0 & 0.0 & 0.0 & 0.0 & 0.0 & 0.0 & 0.4 & 0.5 & 0.0 & 0.0 & 0.0 & 0.0 & 0.0 \\\\\n",
       "0.0 & 0.0 & 0.0 & 0.0 & 0.0 & 0.0 & 0.0 & 0.0 & 0.0 & 0.0 & 0.0 & 0.5 & 0.3 & 0.0 & 0.0 & 0.0 & 0.0 \\\\\n",
       "0.0 & 0.0 & 0.0 & 0.0 & 0.0 & 0.0 & 0.6 & 0.0 & 0.0 & 0.0 & 0.6 & 0.0 & 0.0 & 0.6 & 0.0 & 1.0 & 0.0 \\\\\n",
       "0.0 & 0.0 & 0.0 & 0.0 & 0.0 & 0.0 & 0.0 & 0.0 & 0.0 & 0.8 & 0.0 & 0.0 & 0.7 & 0.0 & 0.7 & 0.0 & 1.0\n",
       "\\end{array}\\right)$$"
      ],
      "text/plain": [
       "[0.0 0.0 0.0 0.0 0.0 0.0 0.0 0.0 0.0 0.0 0.0 0.0 0.0 0.0 0.0 0.0 0.0]\n",
       "[0.6 0.0 0.0 0.0 0.0 0.0 0.0 0.0 0.0 0.0 0.0 0.0 0.0 0.0 0.0 0.0 0.0]\n",
       "[0.4 0.0 0.0 0.0 0.0 0.0 0.0 0.0 0.0 0.0 0.0 0.0 0.0 0.0 0.0 0.0 0.0]\n",
       "[0.0 0.6 0.0 0.0 0.0 0.0 0.0 0.0 0.0 0.0 0.0 0.0 0.0 0.0 0.0 0.0 0.0]\n",
       "[0.0 0.4 0.6 0.0 0.0 0.0 0.0 0.0 0.0 0.0 0.0 0.0 0.0 0.0 0.0 0.0 0.0]\n",
       "[0.0 0.0 0.4 0.0 0.0 0.0 0.0 0.0 0.0 0.0 0.0 0.0 0.0 0.0 0.0 0.0 0.0]\n",
       "[0.0 0.0 0.0 0.6 0.0 0.0 0.0 0.0 0.0 0.0 0.0 0.0 0.0 0.0 0.0 0.0 0.0]\n",
       "[0.0 0.0 0.0 0.4 0.6 0.0 0.0 0.0 0.0 0.0 0.0 0.0 0.0 0.0 0.0 0.0 0.0]\n",
       "[0.0 0.0 0.0 0.0 0.4 0.4 0.0 0.0 0.0 0.0 0.0 0.0 0.0 0.0 0.0 0.0 0.0]\n",
       "[0.0 0.0 0.0 0.0 0.0 0.6 0.0 0.0 0.0 0.0 0.0 0.0 0.0 0.0 0.0 0.0 0.0]\n",
       "[0.0 0.0 0.0 0.0 0.0 0.0 0.4 0.6 0.0 0.0 0.0 0.0 0.0 0.0 0.0 0.0 0.0]\n",
       "[0.0 0.0 0.0 0.0 0.0 0.0 0.0 0.4 0.4 0.0 0.0 0.0 0.0 0.4 0.3 0.0 0.0]\n",
       "[0.0 0.0 0.0 0.0 0.0 0.0 0.0 0.0 0.6 0.2 0.0 0.0 0.0 0.0 0.0 0.0 0.0]\n",
       "[0.0 0.0 0.0 0.0 0.0 0.0 0.0 0.0 0.0 0.0 0.4 0.5 0.0 0.0 0.0 0.0 0.0]\n",
       "[0.0 0.0 0.0 0.0 0.0 0.0 0.0 0.0 0.0 0.0 0.0 0.5 0.3 0.0 0.0 0.0 0.0]\n",
       "[0.0 0.0 0.0 0.0 0.0 0.0 0.6 0.0 0.0 0.0 0.6 0.0 0.0 0.6 0.0 1.0 0.0]\n",
       "[0.0 0.0 0.0 0.0 0.0 0.0 0.0 0.0 0.0 0.8 0.0 0.0 0.7 0.0 0.7 0.0 1.0]"
      ]
     },
     "metadata": {},
     "output_type": "display_data"
    }
   ],
   "source": [
    "#Mi forma de numerar los estados: \n",
    "#['0-0','15-0','0-15','30-0','15-15','0-30','40-0','30-15','15-30','0-40','40-15','Igu','15-40','V+','V-','Gana','Pierde']\n",
    "\n",
    "P=matrix(RDF,17) #Matriz de ceros\n",
    "P[1,0], P[2,0]=0.6,0.4\n",
    "P[3,1], P[4,1]=0.6,0.4\n",
    "P[4,2], P[5,2]=0.6,0.4\n",
    "P[6,3], P[7,3]=0.6,0.4\n",
    "P[7,4], P[8,4]=0.6,0.4\n",
    "P[8,5], P[9,5]=0.4,0.6\n",
    "P[10,6], P[15,6]=0.4,0.6\n",
    "P[10,7], P[11,7]=0.6,0.4\n",
    "P[11,8], P[12,8]=0.4,0.6\n",
    "P[12,9], P[16,9]=0.2,0.8\n",
    "P[13,10], P[15,10]=0.4,0.6\n",
    "P[13,11], P[14,11]=0.5,0.5\n",
    "P[14,12], P[16,12]=0.3,0.7\n",
    "P[11,13], P[15,13]=0.4,0.6\n",
    "P[11,14], P[16,14]=0.3,0.7\n",
    "P[15,15]=1\n",
    "P[16,16]=1\n",
    "show(P)"
   ]
  },
  {
   "cell_type": "code",
   "execution_count": 20,
   "metadata": {},
   "outputs": [
    {
     "name": "stdout",
     "output_type": "stream",
     "text": [
      "La probabilidad de ganar es 0.581\n",
      "En promedio, se pasa por \"iguales\" 0.527 veces\n"
     ]
    }
   ],
   "source": [
    "rep=10^5\n",
    "exitos=0\n",
    "iguales=0\n",
    "for _ in xsrange(rep):\n",
    "    estado=0\n",
    "    while estado!=15 and estado!=16:\n",
    "        estado=paso(P.column(estado))\n",
    "        if estado==11: iguales+=1\n",
    "    if estado==15: exitos+=1\n",
    "print('La probabilidad de ganar es', (exitos/rep).n(digits=3))\n",
    "print('En promedio, se pasa por \"iguales\"', (iguales/rep).n(digits=3), 'veces')"
   ]
  },
  {
   "cell_type": "markdown",
   "metadata": {},
   "source": [
    "**b)** ¿Cuál sería la probabilidad que tiene Ladan Afar de ganar un juego en el que está al servicio si fuera más duro mentalmente y su probabilidad de ganar cualquier punto fuese siempre de $0.6$, independientemente del resultado que figurase en el marcador en ese momento?"
   ]
  },
  {
   "cell_type": "code",
   "execution_count": 38,
   "metadata": {},
   "outputs": [
    {
     "data": {
      "text/html": [
       "<html><script type=\"math/tex; mode=display\">\\newcommand{\\Bold}[1]{\\mathbf{#1}}\\left(\\begin{array}{rrrrrrrrrrrrrrrrr}\n",
       "0.0 & 0.0 & 0.0 & 0.0 & 0.0 & 0.0 & 0.0 & 0.0 & 0.0 & 0.0 & 0.0 & 0.0 & 0.0 & 0.0 & 0.0 & 0.0 & 0.0 \\\\\n",
       "0.6 & 0.0 & 0.0 & 0.0 & 0.0 & 0.0 & 0.0 & 0.0 & 0.0 & 0.0 & 0.0 & 0.0 & 0.0 & 0.0 & 0.0 & 0.0 & 0.0 \\\\\n",
       "0.4 & 0.0 & 0.0 & 0.0 & 0.0 & 0.0 & 0.0 & 0.0 & 0.0 & 0.0 & 0.0 & 0.0 & 0.0 & 0.0 & 0.0 & 0.0 & 0.0 \\\\\n",
       "0.0 & 0.6 & 0.0 & 0.0 & 0.0 & 0.0 & 0.0 & 0.0 & 0.0 & 0.0 & 0.0 & 0.0 & 0.0 & 0.0 & 0.0 & 0.0 & 0.0 \\\\\n",
       "0.0 & 0.4 & 0.6 & 0.0 & 0.0 & 0.0 & 0.0 & 0.0 & 0.0 & 0.0 & 0.0 & 0.0 & 0.0 & 0.0 & 0.0 & 0.0 & 0.0 \\\\\n",
       "0.0 & 0.0 & 0.4 & 0.0 & 0.0 & 0.0 & 0.0 & 0.0 & 0.0 & 0.0 & 0.0 & 0.0 & 0.0 & 0.0 & 0.0 & 0.0 & 0.0 \\\\\n",
       "0.0 & 0.0 & 0.0 & 0.6 & 0.0 & 0.0 & 0.0 & 0.0 & 0.0 & 0.0 & 0.0 & 0.0 & 0.0 & 0.0 & 0.0 & 0.0 & 0.0 \\\\\n",
       "0.0 & 0.0 & 0.0 & 0.4 & 0.6 & 0.0 & 0.0 & 0.0 & 0.0 & 0.0 & 0.0 & 0.0 & 0.0 & 0.0 & 0.0 & 0.0 & 0.0 \\\\\n",
       "0.0 & 0.0 & 0.0 & 0.0 & 0.4 & 0.6 & 0.0 & 0.0 & 0.0 & 0.0 & 0.0 & 0.0 & 0.0 & 0.0 & 0.0 & 0.0 & 0.0 \\\\\n",
       "0.0 & 0.0 & 0.0 & 0.0 & 0.0 & 0.4 & 0.0 & 0.0 & 0.0 & 0.0 & 0.0 & 0.0 & 0.0 & 0.0 & 0.0 & 0.0 & 0.0 \\\\\n",
       "0.0 & 0.0 & 0.0 & 0.0 & 0.0 & 0.0 & 0.4 & 0.6 & 0.0 & 0.0 & 0.0 & 0.0 & 0.0 & 0.0 & 0.0 & 0.0 & 0.0 \\\\\n",
       "0.0 & 0.0 & 0.0 & 0.0 & 0.0 & 0.0 & 0.0 & 0.4 & 0.6 & 0.0 & 0.0 & 0.0 & 0.0 & 0.4 & 0.6 & 0.0 & 0.0 \\\\\n",
       "0.0 & 0.0 & 0.0 & 0.0 & 0.0 & 0.0 & 0.0 & 0.0 & 0.4 & 0.6 & 0.0 & 0.0 & 0.0 & 0.0 & 0.0 & 0.0 & 0.0 \\\\\n",
       "0.0 & 0.0 & 0.0 & 0.0 & 0.0 & 0.0 & 0.0 & 0.0 & 0.0 & 0.0 & 0.4 & 0.6 & 0.0 & 0.0 & 0.0 & 0.0 & 0.0 \\\\\n",
       "0.0 & 0.0 & 0.0 & 0.0 & 0.0 & 0.0 & 0.0 & 0.0 & 0.0 & 0.0 & 0.0 & 0.4 & 0.6 & 0.0 & 0.0 & 0.0 & 0.0 \\\\\n",
       "0.0 & 0.0 & 0.0 & 0.0 & 0.0 & 0.0 & 0.6 & 0.0 & 0.0 & 0.0 & 0.6 & 0.0 & 0.0 & 0.6 & 0.0 & 1.0 & 0.0 \\\\\n",
       "0.0 & 0.0 & 0.0 & 0.0 & 0.0 & 0.0 & 0.0 & 0.0 & 0.0 & 0.4 & 0.0 & 0.0 & 0.4 & 0.0 & 0.4 & 0.0 & 1.0\n",
       "\\end{array}\\right)</script></html>"
      ],
      "text/latex": [
       "$$\\newcommand{\\Bold}[1]{\\mathbf{#1}}\\left(\\begin{array}{rrrrrrrrrrrrrrrrr}\n",
       "0.0 & 0.0 & 0.0 & 0.0 & 0.0 & 0.0 & 0.0 & 0.0 & 0.0 & 0.0 & 0.0 & 0.0 & 0.0 & 0.0 & 0.0 & 0.0 & 0.0 \\\\\n",
       "0.6 & 0.0 & 0.0 & 0.0 & 0.0 & 0.0 & 0.0 & 0.0 & 0.0 & 0.0 & 0.0 & 0.0 & 0.0 & 0.0 & 0.0 & 0.0 & 0.0 \\\\\n",
       "0.4 & 0.0 & 0.0 & 0.0 & 0.0 & 0.0 & 0.0 & 0.0 & 0.0 & 0.0 & 0.0 & 0.0 & 0.0 & 0.0 & 0.0 & 0.0 & 0.0 \\\\\n",
       "0.0 & 0.6 & 0.0 & 0.0 & 0.0 & 0.0 & 0.0 & 0.0 & 0.0 & 0.0 & 0.0 & 0.0 & 0.0 & 0.0 & 0.0 & 0.0 & 0.0 \\\\\n",
       "0.0 & 0.4 & 0.6 & 0.0 & 0.0 & 0.0 & 0.0 & 0.0 & 0.0 & 0.0 & 0.0 & 0.0 & 0.0 & 0.0 & 0.0 & 0.0 & 0.0 \\\\\n",
       "0.0 & 0.0 & 0.4 & 0.0 & 0.0 & 0.0 & 0.0 & 0.0 & 0.0 & 0.0 & 0.0 & 0.0 & 0.0 & 0.0 & 0.0 & 0.0 & 0.0 \\\\\n",
       "0.0 & 0.0 & 0.0 & 0.6 & 0.0 & 0.0 & 0.0 & 0.0 & 0.0 & 0.0 & 0.0 & 0.0 & 0.0 & 0.0 & 0.0 & 0.0 & 0.0 \\\\\n",
       "0.0 & 0.0 & 0.0 & 0.4 & 0.6 & 0.0 & 0.0 & 0.0 & 0.0 & 0.0 & 0.0 & 0.0 & 0.0 & 0.0 & 0.0 & 0.0 & 0.0 \\\\\n",
       "0.0 & 0.0 & 0.0 & 0.0 & 0.4 & 0.6 & 0.0 & 0.0 & 0.0 & 0.0 & 0.0 & 0.0 & 0.0 & 0.0 & 0.0 & 0.0 & 0.0 \\\\\n",
       "0.0 & 0.0 & 0.0 & 0.0 & 0.0 & 0.4 & 0.0 & 0.0 & 0.0 & 0.0 & 0.0 & 0.0 & 0.0 & 0.0 & 0.0 & 0.0 & 0.0 \\\\\n",
       "0.0 & 0.0 & 0.0 & 0.0 & 0.0 & 0.0 & 0.4 & 0.6 & 0.0 & 0.0 & 0.0 & 0.0 & 0.0 & 0.0 & 0.0 & 0.0 & 0.0 \\\\\n",
       "0.0 & 0.0 & 0.0 & 0.0 & 0.0 & 0.0 & 0.0 & 0.4 & 0.6 & 0.0 & 0.0 & 0.0 & 0.0 & 0.4 & 0.6 & 0.0 & 0.0 \\\\\n",
       "0.0 & 0.0 & 0.0 & 0.0 & 0.0 & 0.0 & 0.0 & 0.0 & 0.4 & 0.6 & 0.0 & 0.0 & 0.0 & 0.0 & 0.0 & 0.0 & 0.0 \\\\\n",
       "0.0 & 0.0 & 0.0 & 0.0 & 0.0 & 0.0 & 0.0 & 0.0 & 0.0 & 0.0 & 0.4 & 0.6 & 0.0 & 0.0 & 0.0 & 0.0 & 0.0 \\\\\n",
       "0.0 & 0.0 & 0.0 & 0.0 & 0.0 & 0.0 & 0.0 & 0.0 & 0.0 & 0.0 & 0.0 & 0.4 & 0.6 & 0.0 & 0.0 & 0.0 & 0.0 \\\\\n",
       "0.0 & 0.0 & 0.0 & 0.0 & 0.0 & 0.0 & 0.6 & 0.0 & 0.0 & 0.0 & 0.6 & 0.0 & 0.0 & 0.6 & 0.0 & 1.0 & 0.0 \\\\\n",
       "0.0 & 0.0 & 0.0 & 0.0 & 0.0 & 0.0 & 0.0 & 0.0 & 0.0 & 0.4 & 0.0 & 0.0 & 0.4 & 0.0 & 0.4 & 0.0 & 1.0\n",
       "\\end{array}\\right)$$"
      ],
      "text/plain": [
       "[0.0 0.0 0.0 0.0 0.0 0.0 0.0 0.0 0.0 0.0 0.0 0.0 0.0 0.0 0.0 0.0 0.0]\n",
       "[0.6 0.0 0.0 0.0 0.0 0.0 0.0 0.0 0.0 0.0 0.0 0.0 0.0 0.0 0.0 0.0 0.0]\n",
       "[0.4 0.0 0.0 0.0 0.0 0.0 0.0 0.0 0.0 0.0 0.0 0.0 0.0 0.0 0.0 0.0 0.0]\n",
       "[0.0 0.6 0.0 0.0 0.0 0.0 0.0 0.0 0.0 0.0 0.0 0.0 0.0 0.0 0.0 0.0 0.0]\n",
       "[0.0 0.4 0.6 0.0 0.0 0.0 0.0 0.0 0.0 0.0 0.0 0.0 0.0 0.0 0.0 0.0 0.0]\n",
       "[0.0 0.0 0.4 0.0 0.0 0.0 0.0 0.0 0.0 0.0 0.0 0.0 0.0 0.0 0.0 0.0 0.0]\n",
       "[0.0 0.0 0.0 0.6 0.0 0.0 0.0 0.0 0.0 0.0 0.0 0.0 0.0 0.0 0.0 0.0 0.0]\n",
       "[0.0 0.0 0.0 0.4 0.6 0.0 0.0 0.0 0.0 0.0 0.0 0.0 0.0 0.0 0.0 0.0 0.0]\n",
       "[0.0 0.0 0.0 0.0 0.4 0.6 0.0 0.0 0.0 0.0 0.0 0.0 0.0 0.0 0.0 0.0 0.0]\n",
       "[0.0 0.0 0.0 0.0 0.0 0.4 0.0 0.0 0.0 0.0 0.0 0.0 0.0 0.0 0.0 0.0 0.0]\n",
       "[0.0 0.0 0.0 0.0 0.0 0.0 0.4 0.6 0.0 0.0 0.0 0.0 0.0 0.0 0.0 0.0 0.0]\n",
       "[0.0 0.0 0.0 0.0 0.0 0.0 0.0 0.4 0.6 0.0 0.0 0.0 0.0 0.4 0.6 0.0 0.0]\n",
       "[0.0 0.0 0.0 0.0 0.0 0.0 0.0 0.0 0.4 0.6 0.0 0.0 0.0 0.0 0.0 0.0 0.0]\n",
       "[0.0 0.0 0.0 0.0 0.0 0.0 0.0 0.0 0.0 0.0 0.4 0.6 0.0 0.0 0.0 0.0 0.0]\n",
       "[0.0 0.0 0.0 0.0 0.0 0.0 0.0 0.0 0.0 0.0 0.0 0.4 0.6 0.0 0.0 0.0 0.0]\n",
       "[0.0 0.0 0.0 0.0 0.0 0.0 0.6 0.0 0.0 0.0 0.6 0.0 0.0 0.6 0.0 1.0 0.0]\n",
       "[0.0 0.0 0.0 0.0 0.0 0.0 0.0 0.0 0.0 0.4 0.0 0.0 0.4 0.0 0.4 0.0 1.0]"
      ]
     },
     "metadata": {},
     "output_type": "display_data"
    }
   ],
   "source": [
    "P=matrix(RDF,17) #Matriz de ceros\n",
    "P[1,0], P[2,0]=0.6,0.4\n",
    "P[3,1], P[4,1]=0.6,0.4\n",
    "P[4,2], P[5,2]=0.6,0.4\n",
    "P[6,3], P[7,3]=0.6,0.4\n",
    "P[7,4], P[8,4]=0.6,0.4\n",
    "P[8,5], P[9,5]=0.6,0.4\n",
    "P[10,6], P[15,6]=0.4,0.6\n",
    "P[10,7], P[11,7]=0.6,0.4\n",
    "P[11,8], P[12,8]=0.6,0.4\n",
    "P[12,9], P[16,9]=0.6,0.4\n",
    "P[13,10], P[15,10]=0.4,0.6\n",
    "P[13,11], P[14,11]=0.6,0.4\n",
    "P[14,12], P[16,12]=0.6,0.4\n",
    "P[11,13], P[15,13]=0.4,0.6\n",
    "P[11,14], P[16,14]=0.6,0.4\n",
    "P[15,15]=1\n",
    "P[16,16]=1\n",
    "show(P)"
   ]
  },
  {
   "cell_type": "code",
   "execution_count": 39,
   "metadata": {},
   "outputs": [
    {
     "name": "stdout",
     "output_type": "stream",
     "text": [
      "La probabilidad de ganar es ahora 0.738\n"
     ]
    }
   ],
   "source": [
    "rep=10^5\n",
    "exitos=0\n",
    "iguales=0\n",
    "for _ in xsrange(rep):\n",
    "    estado=0\n",
    "    while estado!=15 and estado!=16:\n",
    "        estado=paso(P.column(estado))\n",
    "        if estado==11: iguales+=1\n",
    "    if estado==15: exitos+=1\n",
    "print('La probabilidad de ganar es ahora', (exitos/rep).n(digits=3))"
   ]
  }
 ],
 "metadata": {
  "kernelspec": {
   "display_name": "SageMath 9.5",
   "language": "sage",
   "name": "sagemath"
  },
  "language_info": {
   "codemirror_mode": {
    "name": "ipython",
    "version": 3
   },
   "file_extension": ".py",
   "mimetype": "text/x-python",
   "name": "python",
   "nbconvert_exporter": "python",
   "pygments_lexer": "ipython3",
   "version": "3.10.6"
  }
 },
 "nbformat": 4,
 "nbformat_minor": 4
}
