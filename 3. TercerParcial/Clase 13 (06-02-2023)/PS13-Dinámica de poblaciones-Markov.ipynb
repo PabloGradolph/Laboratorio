{
 "cells": [
  {
   "cell_type": "markdown",
   "metadata": {},
   "source": [
    "Ejercicio 1.- Gestión de impresoras.\n",
    "-------\n",
    "\n",
    "Una gran empresa tiene sus oficinas centrales en un edificio de 20 plantas y en cada una de ellas tiene instaladas varias impresoras. El número total de impresoras es grande y cada día un equipo de mantenimiento pasa por todas ellas para decidir si se sustituye o no el cartucho de tóner. Los cartuchos pueden estar en tres estados: bueno, bajo o vacío. Cada día:\n",
    "- El 8% de las impresoras con tóner en buen estado pasará a tenerlo bajo.\n",
    "\n",
    "- El 40% de las impresoras que tenían el tóner bajo se quedarán sin tóner.\n",
    "\n",
    "- Si mantenimiento encuentra una impresora con el cartucho de tóner vacío, lo sustituye por un cartucho nuevo. No se sustituyen cartuchos que no estén vacíos.\n",
    "\n",
    "**a)** La empresa lleva ya algún tiempo gestionando sus impresoras de esta manera. ¿Qué porcentaje de las impresoras estarán funcionando (es decir, el cartucho de tóner **no estará vacío**, aunque puede estar bajo) habitualmente?\n"
   ]
  },
  {
   "cell_type": "code",
   "execution_count": null,
   "metadata": {},
   "outputs": [],
   "source": []
  },
  {
   "cell_type": "code",
   "execution_count": null,
   "metadata": {},
   "outputs": [],
   "source": []
  },
  {
   "cell_type": "markdown",
   "metadata": {},
   "source": [
    "**b)** Se considera que ese porcentaje es un poco escaso, y convendr&iacute;a subirlo un 3% adicional. Para ello, se decide sustituir cada día por cartuchos nuevos un cierto porcentaje de  los cartuchos que estén bajos. Como no se sabe exactamente cuáles de esos cartuchos aguantarán un poco más, mantenimiento elige al azar los cartuchos bajos a sustituir (por tanto, el 40% de los sustituidos estarán entre los que se iban a quedar vacíos durante el día). ¿Qué proporción de cartuchos bajos hay que cambiar por cartuchos nuevos para lograr el objetivo marcado?"
   ]
  },
  {
   "cell_type": "code",
   "execution_count": null,
   "metadata": {},
   "outputs": [],
   "source": []
  },
  {
   "cell_type": "code",
   "execution_count": null,
   "metadata": {},
   "outputs": [],
   "source": []
  },
  {
   "cell_type": "markdown",
   "metadata": {},
   "source": [
    "Ejercicio 2.- Un modelo no lineal de depredador-presa.\n",
    "-------\n",
    "\n",
    "Supongamos que tenemos una población $X$ de un determinado depredador que se alimenta de una presa cuya población denotamos por $Y$. Se mide cada primavera el número de ejemplares. Si denotamos por $X_N$ el número de depredadores, y por $Y_N$ el de presas, en el año $N$ de observación, el modelo evoluciona según las relaciones\n",
    "$$ X_{N+1}= a X_N+ bX_N Y_N \\qquad \\text{y} \\qquad Y_{N+1}= c Y_N+ dX_N Y_N$$\n",
    "para ciertos parámetros $a$, $b$, $c$ y $d$.\n",
    "\n",
    "En ausencia de la presa $Y$, la población del depredador $X$ va decreciendo hasta su extinción, y así el  coeficiente $a$ en la ecuación será $<1$. Los encuentros entre una presa y un depredador (estimados por el producto $XY$) suponen un beneficio para la población de depredadores (coeficiente $b\\ge0$). En cuanto a la población de presas, si no hubiera depredadores tendería a crecer (coeficiente $c\\ge1$) mientras que los encuentros con un depredador resultan ser perjudiciales (coeficiente $d\\le0$).\n",
    "\n",
    "Para los datos iniciales $X_0=10, Y_0=42$ y los coeficientes $a=0.7$, $b=0.01$ ,$c=1.2$, $d=-0.02$, se pide:\n",
    "\n",
    "**a)** Escribe el código que permita producir los valores de $X_N$ e $Y_N$ hasta un $N$ determinado. \n",
    "\n",
    "**b)** Dibuja en los mismos ejes y con colores distintos las gráficas $\\{(N,X_N), \\, N=0,\\dots, 60\\}, \\ \\{(N,Y_N), \\, N=0,\\dots, 60\\}.$\n",
    "\n",
    "**c)** Dibuja la gráfica $\\{(X_N,Y_N), \\, N=0,\\dots, 60\\}$.\n",
    "\n",
    "_Sugerencia_: Haz los tres apartados simultáneamente.\n"
   ]
  },
  {
   "cell_type": "code",
   "execution_count": null,
   "metadata": {},
   "outputs": [],
   "source": []
  },
  {
   "cell_type": "code",
   "execution_count": null,
   "metadata": {},
   "outputs": [],
   "source": []
  },
  {
   "cell_type": "markdown",
   "metadata": {},
   "source": [
    "Ejercicio 3.- Evolución de epidemias.\n",
    "-------\n",
    "\n",
    "Para tener una primera aproximación a la evolución de una epidemia, normalmente se usa un modelo **NO LINEAL** de propagación: el modelo **SIR.**\n",
    "\n",
    "El modelo SIR toma su nombre de las iniciales de los tres tipos de población\n",
    "que considera: **Susceptibles, Infectados y Recuperados**. El porcentaje de individuos de cada población en\n",
    "función del tiempo  medido en semanas viene dado por:\n",
    "\n",
    "$S_N$: Representa a los individuos Susceptibles, aquellos que pueden ser infectados.\n",
    "\n",
    "$I_N$: Representa a la población portadora de la enfermedad y que por tanto, puede contagiarla.\n",
    "\n",
    "$R_N$: es el porcentaje de individuos que ya han pasado la enfermedad y se han inmunizado (o han fallecido; en cualquier caso, ya no pueden volver a enfermar). \n",
    "\n",
    "\n",
    " \n",
    "Un individuo solo puede dejar de ser Susceptible si se Infecta,  y dejar de ser Infectado si pasa a la clase R. Es decir, el paso de una clase a otra es único. **Los porcentajes de infección $\\beta$ y de recuperación $\\gamma$ son los mismos para todos los individuos de una clase y se suponen positivos**.\n",
    "\n",
    "**Término no lineal:** Buscamos un modelo **lo más sencillo posible**, en el que la población sana en el instante $N, \\, S_N$ dependerá de una cierta función del estado anterior, $F(S_{N-1},I_{N-1})$. Por supuesto, si en un instante $N-1$ todo el mundo se ha contagiado y $S_{N-1}=0$, entonces debe ser $S_N=S_{N-1}$. Y si en un instante $ N-1$ ya no hay infectados, de modo que $I_{N-1}=0$, entonces también debe ser $S_N=S_{N-1}$ (porque no queda nadie que pueda contagiar la enfermedad). \n",
    "\n",
    "La función $F $ más simple que cumple estas dos condiciones es $F(S_{N-1},I_{N-1})=S_{N-1}-\\beta S_{N-1}I_{N-1}$, donde el parámetro $\\beta$ tiene que ver con la facilidad con la que se contagia la enfermedad.\n",
    "\n",
    "Por tanto, en nuestro modelo consideraremos: \n",
    "$$S_N=S_{N-1} - \\beta \\, S_{N-1}I_{N-1}$$.\n",
    "Por otro lado, cada semana hay un porcentaje $ \\gamma \\, I_{N-1} $ de individuos enfermos que pasan a la clase $R$, y un porcentaje $ \\beta \\, S_{N-1}I_{N-1}$ de nuevos infectados, de donde deducimos la ecuación para $I_N$,\n",
    "$$\n",
    "I_N=I_{N-1} +\\beta\\, S_{N-1}I_{N-1}-\\gamma \\, I_{N-1}\n",
    "$$\n",
    "y de forma similar podemos deducir la ecuación\n",
    "$$\n",
    "R_N=R_{N-1}+\\gamma I_{N-1}\n",
    "$$\n",
    "para el porcentaje de individuos que no pueden volver a enfermar."
   ]
  },
  {
   "cell_type": "code",
   "execution_count": null,
   "metadata": {},
   "outputs": [],
   "source": []
  },
  {
   "cell_type": "markdown",
   "metadata": {},
   "source": [
    "**a)** Partiendo de un dato inicial en el que el 99% de la población está sano,  hay un 1% de individuos enfermos, y nadie es inmune (es decir, $(S_0,I_0,R_0)=(0.99,0.01,0)$), tomando una probabilidad de contagio $\\beta=0.7$, y una tasa de recuperación $\\gamma=0.1$,  dibujar una gráfica de la evolución de las tres clases de población, cada una en un color distinto, a lo largo de un periodo de 40 semanas. \n",
    "\n",
    "**Atención:** este es un **modelo no lineal, por tanto no hay una formulación a partir de matrices.**"
   ]
  },
  {
   "cell_type": "code",
   "execution_count": null,
   "metadata": {},
   "outputs": [],
   "source": []
  },
  {
   "cell_type": "code",
   "execution_count": null,
   "metadata": {},
   "outputs": [],
   "source": []
  },
  {
   "cell_type": "markdown",
   "metadata": {},
   "source": [
    "b) De la gráfica anterior se deduce que sin tomar medidas, en el pico más alto de la epidemia el porcentaje de enfermos es demasiado alto y durante varias semanas se colapsarían los servicios públicos. Por ello, antes de que se produzca un brote de la enfermedad, se realiza una campaña de vacunación que inmuniza a un porcentaje $P$ de la población sana, con lo que **los datos iniciales en el momento de aparecer la epidemia (cuando hay un 1% de infectados) cambian**. Representar  las gráficas de enfermos para distintos valores de inmunidad $P$ desde $0.05, 0.1, 0.15...$ hasta $0.45$, con una **gradación de colores del rojo cuando $P=0.05 $ al azul cuando $ P=0.55$**, para identificar gráficamente qué porcentaje $P$ es el que garantiza que en el pico máximo de la enfermedad, los individuos afectados estén por debajo del 20% del total. (Incluir en el dibujo una línea horizontal de color verde, que indique dónde está el 20%)"
   ]
  },
  {
   "cell_type": "code",
   "execution_count": null,
   "metadata": {},
   "outputs": [],
   "source": []
  },
  {
   "cell_type": "code",
   "execution_count": null,
   "metadata": {},
   "outputs": [],
   "source": []
  }
 ],
 "metadata": {
  "kernelspec": {
   "display_name": "SageMath 9.0",
   "language": "sage",
   "name": "sagemath"
  },
  "language_info": {
   "codemirror_mode": {
    "name": "ipython",
    "version": 3
   },
   "file_extension": ".py",
   "mimetype": "text/x-python",
   "name": "python",
   "nbconvert_exporter": "python",
   "pygments_lexer": "ipython3",
   "version": "3.7.6"
  }
 },
 "nbformat": 4,
 "nbformat_minor": 4
}
