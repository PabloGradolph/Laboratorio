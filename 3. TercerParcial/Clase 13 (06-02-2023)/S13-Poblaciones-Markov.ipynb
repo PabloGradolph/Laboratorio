{
 "cells": [
  {
   "cell_type": "markdown",
   "metadata": {},
   "source": [
    "# Laboratorio 2022-22\n",
    "\n",
    "## Sesión 13: Dinámica de poblaciones: matrices de Markov ##"
   ]
  },
  {
   "cell_type": "markdown",
   "metadata": {},
   "source": [
    "**Ejercicio 1.** En la lectura previa a esta sesión hemos visto un criterio para saber si una matriz estocástica dada es o no regular.\n",
    "\n",
    "**Teorema.** _Una matriz estocástica $M$ de orden $n$ es regular si y solo si todos los elementos de $M^{n^2}$ son positivos_\n",
    "\n",
    "En particular, para ver si una matriz de Markov es o no regular basta con ir calculando potencias de $M$ hasta o bien llegar a una con todas sus entradas positivas, o bien alcanzar la potencia $n^2$ sin que esto ocurra, en cuyo caso $M$ será no regular. De hecho, mientras no busquemos la menor potencia que nos asegura que la matriz es regular, podemos _acelerar_ el cálculo considerando solo las potencias de la forma $2^k$, para lo que basta con tomar el cuadrado de la potencia previa de esta forma: $M^{2^k}=\\big(M^{2^{k-1}}\\big)^2$.\n",
    "\n",
    "**a)** Codifica una función que dada una matriz estocástica decida si es o no regular utilizando el resultado previo y el cálculo acelerado. La función, digamos $\\texttt{EsRegular}()$, recibirá una matriz estocástica y devolverá $\\texttt{True}$ si es regular y $\\texttt{False}$ en caso contrario. \n",
    "\n",
    "_Sugerencia_: dada una matriz $M$, $M\\texttt{.nonzero}\\_\\texttt{positions}()$ devuelve una lista de pares $(i,j)$ que indican las posiciones en la matriz no nulas."
   ]
  },
  {
   "cell_type": "code",
   "execution_count": null,
   "metadata": {},
   "outputs": [],
   "source": []
  },
  {
   "cell_type": "code",
   "execution_count": null,
   "metadata": {},
   "outputs": [],
   "source": []
  },
  {
   "cell_type": "markdown",
   "metadata": {},
   "source": [
    "**b)** Comprueba con la función del apartado anterior si es regular la siguiente matriz y en caso afirmativo calcular la menor potencia de la matriz con todas sus entradas positivas.\n",
    "$$\\left(\\begin{array}{rrrrrrrrr}\n",
    "\\frac{9}{10} & \\frac{9}{10} & \\frac{9}{10} & \\frac{9}{10} & \\frac{9}{10} & \\frac{9}{10} & \\frac{9}{10} & \\frac{9}{10} & \\frac{9}{10} \\\\\n",
    "\\frac{1}{10} & 0 & 0 & 0 & 0 & 0 & 0 & 0 & 0 \\\\\n",
    "0 & \\frac{1}{10} & 0 & 0 & 0 & 0 & 0 & 0 & 0 \\\\\n",
    "0 & 0 & \\frac{1}{10} & 0 & 0 & 0 & 0 & 0 & 0 \\\\\n",
    "0 & 0 & 0 & \\frac{1}{10} & 0 & 0 & 0 & 0 & 0 \\\\\n",
    "0 & 0 & 0 & 0 & \\frac{1}{10} & 0 & 0 & 0 & 0 \\\\\n",
    "0 & 0 & 0 & 0 & 0 & \\frac{1}{10} & 0 & 0 & 0 \\\\\n",
    "0 & 0 & 0 & 0 & 0 & 0 & \\frac{1}{10} & 0 & 0 \\\\\n",
    "0 & 0 & 0 & 0 & 0 & 0 & 0 & \\frac{1}{10} & \\frac{1}{10}\n",
    "\\end{array}\\right)$$"
   ]
  },
  {
   "cell_type": "code",
   "execution_count": null,
   "metadata": {},
   "outputs": [],
   "source": []
  },
  {
   "cell_type": "code",
   "execution_count": null,
   "metadata": {},
   "outputs": [],
   "source": []
  },
  {
   "cell_type": "markdown",
   "metadata": {},
   "source": [
    "**Ejercicio 2.** Estamos diseñando el sistema de ascensores de un rascacielos.\n",
    "\n",
    "La empresa que los fabrica nos dice que cada día tendrán que parar, por avería o mantenimiento, el $10\\%$ de los ascensores que estuviesen funcionando el día anterior, y que el $70\\%$ de los ascensores que estén parados en un día dado volverán a estar operativos al día siguiente.\n",
    "\n",
    "**a)**  Tras el periodo inicial de ajuste, ¿llegaremos a un régimen estable de funcionamiento de los ascensores? (*Sugerencia:* Estudiar la evolución del modelo matricial para este problema.)\n"
   ]
  },
  {
   "cell_type": "code",
   "execution_count": null,
   "metadata": {},
   "outputs": [],
   "source": []
  },
  {
   "cell_type": "code",
   "execution_count": null,
   "metadata": {},
   "outputs": [],
   "source": []
  },
  {
   "cell_type": "code",
   "execution_count": null,
   "metadata": {},
   "outputs": [],
   "source": []
  },
  {
   "cell_type": "markdown",
   "metadata": {},
   "source": [
    "**b)** ¿Cuántos ascensores tendremos que instalar en el rascacielos si queremos que haya habitualmente 15 en condiciones de funcionar?"
   ]
  },
  {
   "cell_type": "code",
   "execution_count": null,
   "metadata": {},
   "outputs": [],
   "source": []
  },
  {
   "cell_type": "code",
   "execution_count": null,
   "metadata": {},
   "outputs": [],
   "source": []
  },
  {
   "cell_type": "markdown",
   "metadata": {},
   "source": [
    "**Ejercicio 3.** _Otra matriz de Markov_\n",
    "\n",
    "En una parcela dedicada a la explotación forestal, los árboles se clasifican según su tamaño en tres tipos: Pequeños, Medianos y Grandes. Cada periodo de 5 años, la evolución del bosque es la siguiente:\n",
    "\n",
    "- El 20% de los árboles Pequeños no han crecido lo suficiente, y siguen siendo Pequeños. El 70% han pasado a la categoría de Medianos, y un 10% ha tenido un crecimiento excepcional que les hace pasar a la categoría de Grandes.\n",
    "\n",
    "- El 10% de los árboles Medianos siguen siendo Medianos, y el 90% restante pasan a ser Grandes.\n",
    "\n",
    "- Se tala el 80% de los árboles Grandes.\n",
    "\n",
    "- Se plantan tantos árboles Pequeños como árboles Grandes han sido talados.\n",
    "\n",
    "- Se considera que ningún árbol muere por ninguna otra causa que no sea la tala.\n",
    "\n",
    "**Comentario:** Observa que como se plantan tantos árboles como son talados, el número total de árboles es constante en cada periodo de 5 años. Estamos de nuevo ante una matriz de Markov.\n",
    "\n",
    "**a)** Denotando por $P_N, M_N, G_N $ el número de árboles en cada categoría en el _lustro_ $N$ (lustro = 5 años), formula matricialmente el sistema y estudia su evolución a largo plazo, para determinar qué porcentaje de árboles se espera que estén en cada una de las categorías.</p>\n"
   ]
  },
  {
   "cell_type": "code",
   "execution_count": null,
   "metadata": {},
   "outputs": [],
   "source": []
  },
  {
   "cell_type": "code",
   "execution_count": null,
   "metadata": {},
   "outputs": [],
   "source": []
  },
  {
   "cell_type": "markdown",
   "metadata": {},
   "source": [
    "**b)** Por consideraciones de tipo paisajístico, se desea que a largo plazo el porcentaje de árboles grandes sea del 50%. Calcula el porcentaje de tala exacto para cumplir este objetivo.\n",
    "\n",
    "_Sugerencia:_ Utilizar una matriz con una variable en las posiciones adecuadas. Para conseguir resultados exactos, conviene escribir los datos numéricos de la matriz en notación racional e indicar que se trabaja en el anillo simbólico $\\texttt{SR}$."
   ]
  },
  {
   "cell_type": "code",
   "execution_count": null,
   "metadata": {},
   "outputs": [],
   "source": []
  },
  {
   "cell_type": "code",
   "execution_count": null,
   "metadata": {},
   "outputs": [],
   "source": []
  }
 ],
 "metadata": {
  "kernelspec": {
   "display_name": "SageMath 9.0",
   "language": "sage",
   "name": "sagemath"
  },
  "language_info": {
   "codemirror_mode": {
    "name": "ipython",
    "version": 3
   },
   "file_extension": ".py",
   "mimetype": "text/x-python",
   "name": "python",
   "nbconvert_exporter": "python",
   "pygments_lexer": "ipython3",
   "version": "3.7.6"
  }
 },
 "nbformat": 4,
 "nbformat_minor": 4
}
