{
 "cells": [
  {
   "cell_type": "code",
   "execution_count": 6,
   "metadata": {},
   "outputs": [
    {
     "data": {
      "text/html": [
       "<html><script type=\"math/tex; mode=display\">\\newcommand{\\Bold}[1]{\\mathbf{#1}}\\left(\\begin{array}{r}\n",
       "696.000000000000 \\\\\n",
       "804.000000000000\n",
       "\\end{array}\\right)</script></html>"
      ],
      "text/plain": [
       "[696.000000000000]\n",
       "[804.000000000000]"
      ]
     },
     "metadata": {},
     "output_type": "display_data"
    }
   ],
   "source": [
    "###\n",
    "# Ejercicio 1 del cuestionario:\n",
    "# La matriz de transición de un modelo en el que se contabilizan cada día los individuos de una población en dos estados excluyentes, es M.\n",
    "# Si en un determinado momento hay 500 individuos en el primer estado, y 1000 en el segundo, \n",
    "# ¿cuántos habrá en el primer estado pasados tres días?\n",
    "###\n",
    "\n",
    "M = matrix([[0.8,0.2],[0.2,0.8]])\n",
    "X0 = matrix([[500],[1000]])\n",
    "X3 = (M^3)*X0\n",
    "show(X3)\n"
   ]
  },
  {
   "cell_type": "code",
   "execution_count": 14,
   "metadata": {},
   "outputs": [
    {
     "data": {
      "text/html": [
       "<html><script type=\"math/tex; mode=display\">\\newcommand{\\Bold}[1]{\\mathbf{#1}}\\left(\\begin{array}{r}\n",
       "\\frac{1}{2} \\\\\n",
       "0 \\\\\n",
       "0 \\\\\n",
       "0 \\\\\n",
       "0 \\\\\n",
       "\\frac{1}{2}\n",
       "\\end{array}\\right)</script></html>"
      ],
      "text/plain": [
       "[1/2]\n",
       "[  0]\n",
       "[  0]\n",
       "[  0]\n",
       "[  0]\n",
       "[1/2]"
      ]
     },
     "metadata": {},
     "output_type": "display_data"
    },
    {
     "name": "stdout",
     "output_type": "stream",
     "text": [
      "2\n"
     ]
    }
   ],
   "source": [
    "###\n",
    "# Ejercicio 2 del cuestionario:\n",
    "# La matriz de de transición de un modelo con seis estados excluyentes, E subíndice 1 coma E subíndice 2 coma \n",
    "# E subíndice 3 coma E subíndice 4 coma E subíndice 5 y E subíndice 6, es M.\n",
    "# (cada paso de tiempo es de 1 mes). Se sabe que paréntesis izquierdo estilo en línea 1 medio \n",
    "# fin estilo coma 0 coma 0 coma 0 coma 0 coma estilo en línea 1 medio fin estilo paréntesis \n",
    "# derecho elevado a t es el vector propio normalizado asociado al autovalor dominante, que es 1. \n",
    "# Si en el mes inicial toda la población, de 3200 individuos, se reparte a partes iguales entre los cuatro estados intermedios, \n",
    "# E subíndice 2 coma E subíndice 3 coma E subíndice 4 y E subíndice 5, ¿cuántos meses han de pasar para que haya estrictamente \n",
    "# más individuos en los estados E subíndice 1 y E subíndice 6 conjuntamente que entre todos los de los otros cuatro estados? \n",
    "# (Responder con el número (entero) de meses.)\n",
    "###\n",
    "\n",
    "# Población total\n",
    "n = 3200\n",
    "X0 = matrix([[0, 800, 800, 800, 800, 0]])\n",
    "\n",
    "# Vector p\n",
    "p = matrix([[1/2], [0], [0], [0], [0], [1/2]])\n",
    "\n",
    "# Matriz M\n",
    "M = matrix([[1/3,1/2,0,0,0,2/3],[0,0,1/2,0,0,0],[0,1/2,0,1/2,0,0],[0,0,1/2,0,1/2,0],[0,0,0,1/2,0,0],[2/3,0,0,0,1/2,1/3]])\n",
    "contador = 1\n",
    "\n",
    "while True:\n",
    "    p = M*p\n",
    "    show(p)\n",
    "    x = n*p\n",
    "    suma1 = x[0][0] + x[5][0]\n",
    "    suma2 = x[1][0] + x[2][0] + x[3][0] + x[4][0]\n",
    "    contador = contador + 1\n",
    "    if suma1 > suma2:\n",
    "        break\n",
    "\n",
    "print(contador)"
   ]
  },
  {
   "cell_type": "code",
   "execution_count": 18,
   "metadata": {},
   "outputs": [
    {
     "name": "stdout",
     "output_type": "stream",
     "text": [
      "2\n"
     ]
    }
   ],
   "source": [
    "###\n",
    "# Ejercicio 3 del cuestionario:\n",
    "# En un bosque maderero, los árboles están clasificados en tres tamaños: pequeños (P), medianos (M) y grandes (G). \n",
    "# Cada año un 50 porcentaje de los árboles pequeños pasan a ser medianos y un 25 porcentaje de los árboles medianos pasan a ser grandes. \n",
    "# Al final de cada año se cortan el 20 porcentaje de los árboles grandes para su venta, a la vez que se repuebla con la misma cantidad de \n",
    "# árboles de tamaño pequeño. Comprueba que la  matriz de transición de esta cadena, M\n",
    "# es regular. ¿A partir de qué potencia todas las entradas son positivas? \n",
    "###\n",
    "\n",
    "M = matrix([[0.5,0,0.2],[0.5,0.75,0],[0,0.25,0.8]])\n",
    "regular = True\n",
    "contador = 1\n",
    "\n",
    "while True:\n",
    "    M = M*M\n",
    "    contador = contador + 1\n",
    "    for i in range(0,2):\n",
    "        for j in range(0,2):\n",
    "            if M[i][j] < 0:\n",
    "                regular = False\n",
    "    if regular == True:\n",
    "        break\n",
    "\n",
    "print(contador)"
   ]
  },
  {
   "cell_type": "code",
   "execution_count": 30,
   "metadata": {},
   "outputs": [
    {
     "name": "stdout",
     "output_type": "stream",
     "text": [
      "(1, 2, 5/2)\n"
     ]
    },
    {
     "data": {
      "text/html": [
       "<html><script type=\"math/tex; mode=display\">\\newcommand{\\Bold}[1]{\\mathbf{#1}}\\left[\\frac{2}{15} \\, \\sqrt{5}, \\frac{4}{15} \\, \\sqrt{5}, \\frac{1}{3} \\, \\sqrt{5}\\right]</script></html>"
      ],
      "text/plain": [
       "[2/15*sqrt(5), 4/15*sqrt(5), 1/3*sqrt(5)]"
      ]
     },
     "metadata": {},
     "output_type": "display_data"
    }
   ],
   "source": [
    "M = matrix(QQ, [[0.5,0,0.2],[0.5,0.75,0],[0,0.25,0.8]])\n",
    "autovectores = M.eigenvectors_right()\n",
    "autovector = autovectores[0]\n",
    "autovector = autovector[1]\n",
    "autovector = autovector[0]\n",
    "print(autovector)\n",
    "p0 = []\n",
    "for i in autovector:\n",
    "    p0.append(i/autovector.norm())\n",
    "\n",
    "show(p0)"
   ]
  },
  {
   "cell_type": "code",
   "execution_count": null,
   "metadata": {},
   "outputs": [],
   "source": []
  },
  {
   "cell_type": "code",
   "execution_count": null,
   "metadata": {},
   "outputs": [],
   "source": []
  }
 ],
 "metadata": {
  "kernelspec": {
   "display_name": "SageMath 9.0",
   "language": "sage",
   "name": "sagemath"
  },
  "language_info": {
   "codemirror_mode": {
    "name": "ipython",
    "version": 3
   },
   "file_extension": ".py",
   "mimetype": "text/x-python",
   "name": "python",
   "nbconvert_exporter": "python",
   "pygments_lexer": "ipython3",
   "version": "3.7.6"
  }
 },
 "nbformat": 4,
 "nbformat_minor": 4
}
