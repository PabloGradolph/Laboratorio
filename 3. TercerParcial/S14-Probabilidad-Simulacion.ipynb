{
 "cells": [
  {
   "cell_type": "markdown",
   "metadata": {},
   "source": [
    "# Laboratorio 2022-2023\n",
    "\n",
    "##  Sesión 14: Experimentos aleatorios\n",
    "\n",
    "La teoría de la probabilidad se encarga de estudiar *experimentos aleatorios*, es decir, experimentos cuyo resultado no consideramos predecible con certeza. Por ejemplo, cuando lanzamos una moneda al aire es imposible predecir si el resultado va a ser *cara* o *cruz*. Es cierto que, en principio, podríamos argumentar que las leyes de la mecánica deben permitir calcular de manera exacta la trayectoria de la moneda una vez se sabe cómo ha sido lanzada, de forma que sería posible predecir de antemano el resultado. Sin embargo, en la práctica tal cálculo es imposible, ya que pequeñísimas variaciones en las condiciones del lanzamiento afectan drásticamente al resultado. \n",
    "\n",
    "En el caso de una moneda *normal*, es de suponer que los dos posibles resultados pueden ocurrir con la misma probabilidad (hablamos de una moneda *equilibrada*, y en caso contrario decimos que la moneda está *trucada* o *cargada*).\n",
    "\n",
    "Si se tiran tres monedas, pueden darse ocho resultados: CCC, CCX, CXC, XCC, CXX, XCX, XXC, XXX. Si las monedas están equilibradas, cada uno de esos resultados se dará, en promedio, una de cada 8 veces que tiremos las monedas. Por tanto, la probabilidad de sacar exactamente dos caras al tirar las tres monedas es 3/8. Esto es un ejemplo de la famosa regla de Laplace: la probabilidad de que se dé un cierto suceso $A$ es  $$p(A)=\\frac{\\text{casos favorables a }A}{\\text{casos totales}},$$ fórmula que es de aplicación siempre\n",
    "que todos los resultados del experimento realizado pueden darse con la misma probabilidad.\n",
    "\n",
    "## Frecuencia y probabilidad. ##\n",
    "\n",
    "Si realizamos el experimento aleatorio un número grande de veces, $M$, y denotamos por $M_A$ al número de   ocasiones en que se ha producido un cierto suceso $A$, la *frecuencia relativa*\n",
    "$$\n",
    "f(A)=\\frac{M_A}{M}\n",
    "$$\n",
    "dará un valor, lógicamente, cercano a la probabilidad teórica $p(A)$: es de esperar que si $M$ es pequeño haya dado la casualidad de que se hayan dado resultados poco probables, pero para $M$ grande este efecto se verá mitigado. De hecho, el límite de la frecuencia relativa $f(A)$ debe tender a $p(A)$ cuando el número de repeticiones $M$ del experimento  tiende a infinito."
   ]
  },
  {
   "cell_type": "markdown",
   "metadata": {},
   "source": [
    "En esta sesión calcularemos probabilidades teóricas de sucesos sencillos contando casos favorables y casos posibles, y también *simularemos experimentos aleatorios* a partir de los generadores de *números aleatorios* (todos los posibles resultados son igualmente probables):\n",
    "\n",
    "- ${\\tt randint}({\\tt a,b})$, que produce un **entero** en el intervalo cerrado $[a, b]$ (es decir, los extremos están incluidos); \n",
    "\n",
    "- ${\\tt random}()$, que produce un **decimal** perteneciente al intervalo $[0, 1)$ (incluye el $0$, pero no el $1$). Por supuesto, el resultado es siempre un número racional: los reales no racionales no existen para la máquina.\n",
    "\n",
    "Estas simulaciones nos permitirán dar aproximaciones experimentales de probabilidades (simularemos con SAGE que hemos repetido un número grande de veces el experimento). Ser capaces de hacer esta simulación es especialmente útil cuando el cálculo teórico de $p(A)$ es difícil, o incluso imposible. Empezaremos por dar algunas herramientas útiles para estos cálculos."
   ]
  },
  {
   "cell_type": "markdown",
   "metadata": {},
   "source": [
    "### Generadores\n",
    "#### Combinaciones\n",
    "\n",
    "Dado un conjunto de tamaño $m$, las combinaciones de $j$ elementos del conjunto son todos los posibles subconjuntos con $j$ elementos extraídos del conjunto (para $j=0$ se tiene un único subconjunto de tamaño $0$, el vacío).\n",
    "\n",
    "En SAGE, podemos recorrer las combinaciones con el generador ${\\tt Combinations}()$ aplicado a un contenedor (lista, tupla, cadena, conjunto, ...) con todos los elementos disponibles para escoger. Si se indica un segundo argumento, $j$, (un entero no negativo), genera las combinaciones de $j$ elementos."
   ]
  },
  {
   "cell_type": "code",
   "execution_count": 3,
   "metadata": {},
   "outputs": [
    {
     "name": "stdout",
     "output_type": "stream",
     "text": [
      "Combinations of ['1', '2', '3']\n",
      "[[], ['1'], ['2'], ['3'], ['1', '2'], ['1', '3'], ['2', '3'], ['1', '2', '3']]\n",
      "[['1', '2'], ['1', '3'], ['2', '3']]\n"
     ]
    }
   ],
   "source": [
    "# Ejecuta y analiza\n",
    "T='123'\n",
    "print(Combinations(T))\n",
    "print([combi for combi in Combinations(T)])\n",
    "print([combi2 for combi2 in Combinations(T,2)]) # Combinaciones de longitud 2"
   ]
  },
  {
   "cell_type": "code",
   "execution_count": 4,
   "metadata": {},
   "outputs": [
    {
     "name": "stdout",
     "output_type": "stream",
     "text": [
      "Combinations of ['1', '2', '3', '1']\n",
      "[[], ['1'], ['2'], ['3'], ['1', '1'], ['1', '2'], ['1', '3'], ['2', '3'], ['1', '1', '2'], ['1', '1', '3'], ['1', '2', '3'], ['1', '1', '2', '3']]\n",
      "[['1', '1'], ['1', '2'], ['1', '3'], ['2', '3']]\n"
     ]
    }
   ],
   "source": [
    "#Observa que los elementos que genera Combinations() son subconjuntos, no listas ordenadas \n",
    "#(en el ejemplo anterior una combinación es ['1','2'], y no hay que contar ['2', '1'] como diferente).\n",
    "# Ejecuta y analiza\n",
    "T='1231'\n",
    "print(Combinations(T))\n",
    "print([combi for combi in Combinations(T)])\n",
    "print([combi2 for combi2 in Combinations(T,2)])"
   ]
  },
  {
   "cell_type": "markdown",
   "metadata": {},
   "source": [
    "En Matemáticas el número combinatorio $\\binom mj$ es la cantidad de combinaciones de $j$ elementos de un conjunto de tamaño $m$: en SAGE se calcula este número combinatorio como ${ \\tt binomial(m,j)}$. Como generador, ${\\tt Combinations}()$ no se puede medir con ${\\tt len}()$, pero sí con el método ${\\tt .cardinality}()$, o construyendo una lista con todas las combinaciones y utilizando ${\\tt len}()$."
   ]
  },
  {
   "cell_type": "code",
   "execution_count": 8,
   "metadata": {},
   "outputs": [
    {
     "name": "stdout",
     "output_type": "stream",
     "text": [
      "Combinaciones: [[], [1], [2], [3], [4], [5], [6], [1, 2], [1, 3], [1, 4], [1, 5], [1, 6], [2, 3], [2, 4], [2, 5], [2, 6], [3, 4], [3, 5], [3, 6], [4, 5], [4, 6], [5, 6], [1, 2, 3], [1, 2, 4], [1, 2, 5], [1, 2, 6], [1, 3, 4], [1, 3, 5], [1, 3, 6], [1, 4, 5], [1, 4, 6], [1, 5, 6], [2, 3, 4], [2, 3, 5], [2, 3, 6], [2, 4, 5], [2, 4, 6], [2, 5, 6], [3, 4, 5], [3, 4, 6], [3, 5, 6], [4, 5, 6], [1, 2, 3, 4], [1, 2, 3, 5], [1, 2, 3, 6], [1, 2, 4, 5], [1, 2, 4, 6], [1, 2, 5, 6], [1, 3, 4, 5], [1, 3, 4, 6], [1, 3, 5, 6], [1, 4, 5, 6], [2, 3, 4, 5], [2, 3, 4, 6], [2, 3, 5, 6], [2, 4, 5, 6], [3, 4, 5, 6], [1, 2, 3, 4, 5], [1, 2, 3, 4, 6], [1, 2, 3, 5, 6], [1, 2, 4, 5, 6], [1, 3, 4, 5, 6], [2, 3, 4, 5, 6], [1, 2, 3, 4, 5, 6]]\n",
      "\n",
      "15 15\n"
     ]
    }
   ],
   "source": [
    "# Ejecuta y analiza\n",
    "m, j=6,2\n",
    "LL=[1..m]\n",
    "Combinaciones=[comb for comb in Combinations(LL)]\n",
    "print(f\"Combinaciones: {Combinaciones}\")\n",
    "print()\n",
    "t=sum([len(comb)==j for comb in Combinaciones]) # Número de subconjuntos con 2 elementos.\n",
    "print(t, binomial(m,j)) # Binomial es el número combinatorio entre m y j"
   ]
  },
  {
   "cell_type": "markdown",
   "metadata": {},
   "source": [
    "### Permutaciones\n",
    "En el caso anterior (combinaciones) agrupaciones con los mismos elementos pero en distinto orden no se consideran como distintas. Las variaciones sí se distinguen por el orden. El generador de Sage para este caso es ${\\tt Permutations}()$. Como con el generador anterior, si se indica como segundo parámetro un entero no negativo $j$, nos restringimos a las variaciones con $j$ elementos.\n",
    "En matemáticas, el cardinal de las permutaciones se calcula con el factorial."
   ]
  },
  {
   "cell_type": "code",
   "execution_count": 5,
   "metadata": {},
   "outputs": [
    {
     "name": "stdout",
     "output_type": "stream",
     "text": [
      "[1, 2, 3]\n",
      "[1, 3, 2]\n",
      "[2, 1, 3]\n",
      "[2, 3, 1]\n",
      "[3, 1, 2]\n",
      "[3, 2, 1]\n"
     ]
    },
    {
     "data": {
      "text/plain": [
       "(6, 6)"
      ]
     },
     "execution_count": 5,
     "metadata": {},
     "output_type": "execute_result"
    }
   ],
   "source": [
    "# Ejecuta y analiza\n",
    "m=3\n",
    "LL=[1..m]\n",
    "t=0\n",
    "for pp in Permutations(LL):\n",
    "    t+=1\n",
    "    print(pp)\n",
    "t, factorial(3)"
   ]
  },
  {
   "cell_type": "code",
   "execution_count": 6,
   "metadata": {},
   "outputs": [
    {
     "name": "stdout",
     "output_type": "stream",
     "text": [
      "[1, 2]\n",
      "[1, 3]\n",
      "[1, 4]\n",
      "[2, 1]\n",
      "[2, 3]\n",
      "[2, 4]\n",
      "[3, 1]\n",
      "[3, 2]\n",
      "[3, 4]\n",
      "[4, 1]\n",
      "[4, 2]\n",
      "[4, 3]\n"
     ]
    },
    {
     "data": {
      "text/plain": [
       "(12, 12)"
      ]
     },
     "execution_count": 6,
     "metadata": {},
     "output_type": "execute_result"
    }
   ],
   "source": [
    "# Ejecuta y analiza\n",
    "m,j=4,2\n",
    "LL=[1..m]\n",
    "t=0\n",
    "for pp in Permutations(LL, j):\n",
    "    t+=1\n",
    "    print(pp)\n",
    "t, factorial(m)/factorial(m-j)"
   ]
  },
  {
   "cell_type": "markdown",
   "metadata": {},
   "source": [
    "#### Repeticiones\n",
    "Podemos investigar qu&eacute; ocurre al aplicar estos generadores a contenedores (pueden ser listas, como antes, cadenas de caracteres, conjuntos,..) con elementos repetidos."
   ]
  },
  {
   "cell_type": "code",
   "execution_count": 9,
   "metadata": {},
   "outputs": [
    {
     "name": "stdout",
     "output_type": "stream",
     "text": [
      "abcaab\n",
      "['a', 'a', 'a', 'b'] aaab\n",
      "['a', 'a', 'a', 'c'] aaac\n",
      "['a', 'a', 'b', 'b'] aabb\n",
      "['a', 'a', 'b', 'c'] aabc\n",
      "['a', 'b', 'b', 'c'] abbc\n"
     ]
    },
    {
     "data": {
      "text/plain": [
       "5"
      ]
     },
     "execution_count": 9,
     "metadata": {},
     "output_type": "execute_result"
    }
   ],
   "source": [
    "# Ejecuta y analiza\n",
    "LL='abcaab'\n",
    "print(LL)\n",
    "m,j,t=len(LL),4,0\n",
    "for comb in Combinations(LL,j):\n",
    "    t+=1\n",
    "    print(comb,''.join(comb))\n",
    "t"
   ]
  },
  {
   "cell_type": "markdown",
   "metadata": {},
   "source": [
    "**Ejercicio 1.-** **a)** Calcula mediante la regla de Laplace la probabilidad de que al tirar $10$ veces una moneda equilibrada se obtengan $8$ caras.\n",
    "*Observación:* Si ${\\tt ntiradas}$ es el número de tiradas, ¿qué se genera con ${\\tt Permutations}({\\tt'CX'*ntiradas, ntiradas})$?"
   ]
  },
  {
   "cell_type": "code",
   "execution_count": 18,
   "metadata": {},
   "outputs": [
    {
     "name": "stdout",
     "output_type": "stream",
     "text": [
      "670442572800\n",
      "La probabilidad es 45/1024, 0.0439453125000000\n"
     ]
    }
   ],
   "source": [
    "ntiradas = 10\n",
    "# permutaciones = [perm for perm in Permutations('CX'*ntiradas,ntiradas)]\n",
    "# print(permutaciones)\n",
    "fav = 0\n",
    "tot = 0\n",
    "for perm in Permutations('CX'*ntiradas,ntiradas):\n",
    "    tot += 1\n",
    "    if perm.count('C') == 8:\n",
    "        fav+=1\n",
    "\n",
    "print(f\"La probabilidad es {fav/tot}, {(fav/tot).n()}\")"
   ]
  },
  {
   "cell_type": "markdown",
   "metadata": {},
   "source": [
    "**b)** Se puede simular el experimento aleatorio de tirar una moneda con ayuda de ${\\tt randint}({\\tt a,b})$, que genera un entero en el intervalo cerrado $[a,b]$. Puedes hacer que cada resultado de ejecutar ${\\tt randint}({\\tt 0,1})$ corresponda a una tirada de moneda (y que 0 signifique cruz y 1 cara, por ejemplo).\n",
    "\n",
    "Simula 10000 veces el experimento de tirar 10 veces la moneda y apuntar el número de caras, y calcula la frecuencia con la que se han obtenido exactamente 8 caras."
   ]
  },
  {
   "cell_type": "code",
   "execution_count": 19,
   "metadata": {},
   "outputs": [
    {
     "name": "stdout",
     "output_type": "stream",
     "text": [
      "223/5000 0.0446000000000000\n"
     ]
    }
   ],
   "source": [
    "# Esto es montecarlo.\n",
    "ntiradas = 10\n",
    "M = 10000\n",
    "exito = 8\n",
    "exitos = 0\n",
    "for _ in xsrange(M):\n",
    "    resultado = sum([randint(0,1) for _ in [1..ntiradas]]) # Lo mismo a for _ in xsrange(ntiradas) xsrange más eficiente pk es generador.\n",
    "    if resultado == exito:\n",
    "        exitos += 1\n",
    "\n",
    "print(exitos/M, (exitos/M).n())"
   ]
  },
  {
   "cell_type": "markdown",
   "metadata": {},
   "source": [
    "**Ejercicio 2.-** **a)** Una bolsa contiene 999 bolas numeradas del 2 al 1000. Se elige al azar una de ellas. Tras devolverla a la bolsa, se hace una segunda extracción. ¿Cuál es la probabilidad (obtenida por la regla de Laplace) de que los números de las dos extracciones sean primos entre sí?"
   ]
  },
  {
   "cell_type": "code",
   "execution_count": 43,
   "metadata": {},
   "outputs": [
    {
     "name": "stdout",
     "output_type": "stream",
     "text": [
      "67376/110889 0.607598589580572\n"
     ]
    }
   ],
   "source": [
    "Bolas = [2..1000]\n",
    "fav, tot = 0, 0\n",
    "for j in Bolas:\n",
    "    for k in Bolas: # Se reemplaza la bola\n",
    "        tot += 1\n",
    "        if gcd(j,k) == 1: # Condición de éxito\n",
    "            fav += 1 # Contabilizamos los favorables\n",
    "\n",
    "print(fav/tot, (fav/tot).n())\n"
   ]
  },
  {
   "cell_type": "markdown",
   "metadata": {},
   "source": [
    "**b)** Simula la realización de 10000 repeticiones del experimento descrito en el apartado anterior y calcula con qué frecuencia los números de las dos extracciones han sido primos entre sí en la simulación."
   ]
  },
  {
   "cell_type": "code",
   "execution_count": 50,
   "metadata": {},
   "outputs": [
    {
     "name": "stdout",
     "output_type": "stream",
     "text": [
      "60669/100000 0.606690000000000\n"
     ]
    }
   ],
   "source": [
    "M = 10^5\n",
    "exitos = 0\n",
    "for _ in xsrange(M):\n",
    "    a, b = randint(2,1000), randint(2,1000)\n",
    "    if gcd(a,b) == 1:\n",
    "        exitos += 1 \n",
    "\n",
    "print(exitos/M, (exitos/M).n())"
   ]
  },
  {
   "cell_type": "code",
   "execution_count": 52,
   "metadata": {},
   "outputs": [
    {
     "name": "stdout",
     "output_type": "stream",
     "text": [
      "0.605989999999877 0.605989999999877\n"
     ]
    }
   ],
   "source": [
    "# de otra forma\n",
    "M = 10^5\n",
    "exitos = 0\n",
    "for _ in xsrange(M):\n",
    "    a, b = randint(2,1000), randint(2,1000)\n",
    "    if gcd(a,b) == 1:\n",
    "        exitos += 1./M\n",
    "\n",
    "print(exitos, exitos.n()) # Ahora exitos = exitos.n()"
   ]
  },
  {
   "cell_type": "markdown",
   "metadata": {},
   "source": [
    "**Ejercicio 3.-** Repite el ejercicio anterior (ambos apartados) pero suponiendo que la bola extraída en primer lugar no se devuelve a la bolsa antes de la segunda extracción."
   ]
  },
  {
   "cell_type": "code",
   "execution_count": 54,
   "metadata": {},
   "outputs": [
    {
     "name": "stdout",
     "output_type": "stream",
     "text": [
      "33688/55389 0.608207405802596\n"
     ]
    }
   ],
   "source": [
    "a, b = 2, 1000\n",
    "fav, tot = 0, 0\n",
    "for j in [a..b-1]:\n",
    "    for k in [j+1..b]: # Se reemplaza la bola\n",
    "        tot += 1\n",
    "        if gcd(j,k) == 1: # Condición de éxito\n",
    "            fav += 1 # Contabilizamos los favorables\n",
    "\n",
    "print(fav/tot, (fav/tot).n())"
   ]
  },
  {
   "cell_type": "code",
   "execution_count": 61,
   "metadata": {},
   "outputs": [
    {
     "name": "stdout",
     "output_type": "stream",
     "text": [
      "0.608499999999865 0.608499999999865\n"
     ]
    }
   ],
   "source": [
    "# Segundo apartado\n",
    "M = 10^5\n",
    "exitos = 0\n",
    "for _ in xsrange(M):\n",
    "    a, b = randint(2,1000), randint(2,1000)\n",
    "    while b == a:\n",
    "        b = randint(2,1000)\n",
    "    if gcd(a,b) == 1:\n",
    "        exitos += 1./M\n",
    "\n",
    "print(exitos, exitos.n()) # Ahora exitos = exitos.n()"
   ]
  },
  {
   "cell_type": "markdown",
   "metadata": {},
   "source": [
    "____________\n",
    "\n",
    "En el segundo apartado de cada ejercicio hemos ilustrado cómo en lugar de calcular \"todos los casos favorables/todos los casos posibles\", podemos hacer un *muestreo aleatorio* y calcular la frecuencia relativa (esto se llama **método de Montecarlo**)."
   ]
  },
  {
   "cell_type": "markdown",
   "metadata": {},
   "source": [
    "Como dijimos arriba podemos simular el lanzamiento de una moneda equilibrada ejecutando ${\\tt randint}(0,1)$ y decidiendo que $1$ significa 'cara' (con lo que $0$ será 'cruz'). Alternativamente, podemos sortear con ${\\tt random}()$ y decidir que ha salido 'cara' si ${\\tt random}()<0.5$ (y 'cruz' en caso contrario). Una tercera opción es usar la función $\\texttt{choice()}$ que aplicada a una lista, una tupla o una cadena de caracteres, escoge aleatoriamente uno de sus elementos. Así, $\\texttt{choice('CX')}$ devuelve $\\texttt{'C'}$=cara o $\\texttt{'X'}$=cruz con igual probabilidad."
   ]
  },
  {
   "cell_type": "code",
   "execution_count": 21,
   "metadata": {},
   "outputs": [
    {
     "data": {
      "text/plain": [
       "514"
      ]
     },
     "execution_count": 21,
     "metadata": {},
     "output_type": "execute_result"
    }
   ],
   "source": [
    "# Ejecuta y analiza\n",
    "[choice('CX') for _ in xsrange(1000)].count('X')"
   ]
  },
  {
   "cell_type": "markdown",
   "metadata": {},
   "source": [
    "Veamos ahora cómo simular una moneda trucada.  Si $p$ es la probabilidad de sacar 'cara' al tirar una moneda, el test '${\\tt random}()<p$' devolverá 'True' con una probabilidad $p$."
   ]
  },
  {
   "cell_type": "markdown",
   "metadata": {},
   "source": [
    "**Ejercicio 4.-** a) Simula el siguiente experimento: lanza monedas cargadas, que dan cara con probabilidad $p$, hasta obtener la primera cara, y anota el número de cruces que has obtenido.\n",
    "\n",
    "*Sugerencia:* Codifica una función que simule lanzamientos de una moneda que da cara con probabilidad $p$ hasta la obtención de la primera cara y que devuelva el número de cruces obtenidas antes de que eso suceda."
   ]
  },
  {
   "cell_type": "code",
   "execution_count": 23,
   "metadata": {},
   "outputs": [],
   "source": [
    "def Cara(p):\n",
    "    return random()<p"
   ]
  },
  {
   "cell_type": "code",
   "execution_count": 25,
   "metadata": {},
   "outputs": [
    {
     "data": {
      "text/plain": [
       "4"
      ]
     },
     "execution_count": 25,
     "metadata": {},
     "output_type": "execute_result"
    }
   ],
   "source": [
    "p=1/3\n",
    "[Cara(p) for _ in xsrange(10)]\n",
    "sum([Cara(p) for _ in xsrange(10)])"
   ]
  },
  {
   "cell_type": "code",
   "execution_count": 27,
   "metadata": {},
   "outputs": [
    {
     "data": {
      "text/plain": [
       "[3, 1, 1]"
      ]
     },
     "execution_count": 27,
     "metadata": {},
     "output_type": "execute_result"
    }
   ],
   "source": [
    "# Ejercicio\n",
    "M = 10^4\n",
    "p = 1/3\n",
    "Resultados = []\n",
    "for _ in xsrange(M):\n",
    "    cruces = 0\n",
    "    while not Cara(p):\n",
    "        cruces += 1\n",
    "    Resultados.append(cruces)\n",
    "\n",
    "Resultados[-3:]"
   ]
  },
  {
   "cell_type": "code",
   "execution_count": 3,
   "metadata": {},
   "outputs": [],
   "source": [
    "# Modo diccionario\n",
    "p = 1/5\n",
    "M = 10^4\n",
    "Resultados = []\n",
    "for _ in xsrange(M):\n",
    "    cruces = 0\n",
    "    tirada = (random()<p)\n",
    "    while not tirada:\n",
    "        cruces += 1\n",
    "        tirada = (random()<p)\n",
    "    Resultados.append(cruces)"
   ]
  },
  {
   "cell_type": "code",
   "execution_count": 28,
   "metadata": {},
   "outputs": [],
   "source": [
    "def Geometrica(p):\n",
    "    # La función espera la probabilidad de cara y devuelve el número de cruces que salieron antes de la primera cara\n",
    "    cruces = 0\n",
    "    while random()>p:\n",
    "        cruces += 1\n",
    "    return cruces\n"
   ]
  },
  {
   "cell_type": "code",
   "execution_count": 30,
   "metadata": {},
   "outputs": [
    {
     "name": "stdout",
     "output_type": "stream",
     "text": [
      "[1, 1, 16, 6, 2, 3, 0, 6, 0, 15]\n"
     ]
    }
   ],
   "source": [
    "p=1/5#Un ejemplo de 10 usos con una moneda con probabilidad 1/5 de cara\n",
    "DiezResultados=[Geometrica(p) for _ in xsrange(10)]\n",
    "print(DiezResultados)"
   ]
  },
  {
   "cell_type": "markdown",
   "metadata": {},
   "source": [
    "En el siguiente apartado usaremos una estructura de datos de Sagemath que no hemos manejado hasta ahora: el _diccionario_.\n",
    "\n",
    "Un diccionario es una colección de pares clave-valor. Si una lista es una colección de objetos indexada por números enteros consecutivos, un diccionario permite como clave cualquier tipo de datos (que no se puedan modificar), y los valores pueden ser totalmente arbitrarios.\n",
    "\n",
    "Ejecutando y analizando la celda siguiente podrás tener una primera idea de cómo crear y usar un diccionario. En próximas sesiones iremos viendo otras posibilidades relacionadas con esta estructura."
   ]
  },
  {
   "cell_type": "code",
   "execution_count": 31,
   "metadata": {},
   "outputs": [
    {
     "data": {
      "text/html": [
       "<html><script type=\"math/tex; mode=display\">\\newcommand{\\Bold}[1]{\\mathbf{#1}}\\left\\{\\verb|e| : 3, \\verb|p| : 3, \\verb|k| : 4, \\verb|j| : 2, \\verb|i| : 2, \\verb|b| : 1, \\verb|w| : 4, \\verb|l| : 2, \\verb|h| : 2, \\verb|g| : 2, \\verb|q| : 2, \\verb|x| : 1, \\verb|m| : 1, \\verb|a| : 2, \\verb|f| : 6, \\verb|s| : 2, \\verb|u| : 2, \\verb|v| : 1, \\verb|c| : 3, \\verb|d| : 2, \\verb|y| : 2, \\verb|o| : 1\\right\\}</script></html>"
      ],
      "text/latex": [
       "$$\\newcommand{\\Bold}[1]{\\mathbf{#1}}\\left\\{\\verb|e| : 3, \\verb|p| : 3, \\verb|k| : 4, \\verb|j| : 2, \\verb|i| : 2, \\verb|b| : 1, \\verb|w| : 4, \\verb|l| : 2, \\verb|h| : 2, \\verb|g| : 2, \\verb|q| : 2, \\verb|x| : 1, \\verb|m| : 1, \\verb|a| : 2, \\verb|f| : 6, \\verb|s| : 2, \\verb|u| : 2, \\verb|v| : 1, \\verb|c| : 3, \\verb|d| : 2, \\verb|y| : 2, \\verb|o| : 1\\right\\}$$"
      ],
      "text/plain": [
       "{'e': 3,\n",
       " 'p': 3,\n",
       " 'k': 4,\n",
       " 'j': 2,\n",
       " 'i': 2,\n",
       " 'b': 1,\n",
       " 'w': 4,\n",
       " 'l': 2,\n",
       " 'h': 2,\n",
       " 'g': 2,\n",
       " 'q': 2,\n",
       " 'x': 1,\n",
       " 'm': 1,\n",
       " 'a': 2,\n",
       " 'f': 6,\n",
       " 's': 2,\n",
       " 'u': 2,\n",
       " 'v': 1,\n",
       " 'c': 3,\n",
       " 'd': 2,\n",
       " 'y': 2,\n",
       " 'o': 1}"
      ]
     },
     "metadata": {},
     "output_type": "display_data"
    },
    {
     "name": "stdout",
     "output_type": "stream",
     "text": [
      "2\n"
     ]
    },
    {
     "data": {
      "text/html": [
       "<html><script type=\"math/tex; mode=display\">\\newcommand{\\Bold}[1]{\\mathbf{#1}}\\verb|dict_keys(['e',|\\verb| |\\verb|'p',|\\verb| |\\verb|'k',|\\verb| |\\verb|'j',|\\verb| |\\verb|'i',|\\verb| |\\verb|'b',|\\verb| |\\verb|'w',|\\verb| |\\verb|'l',|\\verb| |\\verb|'h',|\\verb| |\\verb|'g',|\\verb| |\\verb|'q',|\\verb| |\\verb|'x',|\\verb| |\\verb|'m',|\\verb| |\\verb|'a',|\\verb| |\\verb|'f',|\\verb| |\\verb|'s',|\\verb| |\\verb|'u',|\\verb| |\\verb|'v',|\\verb| |\\verb|'c',|\\verb| |\\verb|'d',|\\verb| |\\verb|'y',|\\verb| |\\verb|'o'])|</script></html>"
      ],
      "text/latex": [
       "$$\\newcommand{\\Bold}[1]{\\mathbf{#1}}\\verb|dict_keys(['e',|\\verb| |\\verb|'p',|\\verb| |\\verb|'k',|\\verb| |\\verb|'j',|\\verb| |\\verb|'i',|\\verb| |\\verb|'b',|\\verb| |\\verb|'w',|\\verb| |\\verb|'l',|\\verb| |\\verb|'h',|\\verb| |\\verb|'g',|\\verb| |\\verb|'q',|\\verb| |\\verb|'x',|\\verb| |\\verb|'m',|\\verb| |\\verb|'a',|\\verb| |\\verb|'f',|\\verb| |\\verb|'s',|\\verb| |\\verb|'u',|\\verb| |\\verb|'v',|\\verb| |\\verb|'c',|\\verb| |\\verb|'d',|\\verb| |\\verb|'y',|\\verb| |\\verb|'o'])|$$"
      ],
      "text/plain": [
       "dict_keys(['e', 'p', 'k', 'j', 'i', 'b', 'w', 'l', 'h', 'g', 'q', 'x', 'm', 'a', 'f', 's', 'u', 'v', 'c', 'd', 'y', 'o'])"
      ]
     },
     "metadata": {},
     "output_type": "display_data"
    },
    {
     "name": "stdout",
     "output_type": "stream",
     "text": [
      "22\n"
     ]
    },
    {
     "data": {
      "text/html": [
       "<html><script type=\"math/tex; mode=display\">\\newcommand{\\Bold}[1]{\\mathbf{#1}}\\verb|dict_values([3,|\\verb| |\\verb|3,|\\verb| |\\verb|4,|\\verb| |\\verb|2,|\\verb| |\\verb|2,|\\verb| |\\verb|1,|\\verb| |\\verb|4,|\\verb| |\\verb|2,|\\verb| |\\verb|2,|\\verb| |\\verb|2,|\\verb| |\\verb|2,|\\verb| |\\verb|1,|\\verb| |\\verb|1,|\\verb| |\\verb|2,|\\verb| |\\verb|6,|\\verb| |\\verb|2,|\\verb| |\\verb|2,|\\verb| |\\verb|1,|\\verb| |\\verb|3,|\\verb| |\\verb|2,|\\verb| |\\verb|2,|\\verb| |\\verb|1])|</script></html>"
      ],
      "text/latex": [
       "$$\\newcommand{\\Bold}[1]{\\mathbf{#1}}\\verb|dict_values([3,|\\verb| |\\verb|3,|\\verb| |\\verb|4,|\\verb| |\\verb|2,|\\verb| |\\verb|2,|\\verb| |\\verb|1,|\\verb| |\\verb|4,|\\verb| |\\verb|2,|\\verb| |\\verb|2,|\\verb| |\\verb|2,|\\verb| |\\verb|2,|\\verb| |\\verb|1,|\\verb| |\\verb|1,|\\verb| |\\verb|2,|\\verb| |\\verb|6,|\\verb| |\\verb|2,|\\verb| |\\verb|2,|\\verb| |\\verb|1,|\\verb| |\\verb|3,|\\verb| |\\verb|2,|\\verb| |\\verb|2,|\\verb| |\\verb|1])|$$"
      ],
      "text/plain": [
       "dict_values([3, 3, 4, 2, 2, 1, 4, 2, 2, 2, 2, 1, 1, 2, 6, 2, 2, 1, 3, 2, 2, 1])"
      ]
     },
     "metadata": {},
     "output_type": "display_data"
    },
    {
     "data": {
      "text/html": [
       "<html><script type=\"math/tex; mode=display\">\\newcommand{\\Bold}[1]{\\mathbf{#1}}\\verb|dict_items([('e',|\\verb| |\\verb|3),|\\verb| |\\verb|('p',|\\verb| |\\verb|3),|\\verb| |\\verb|('k',|\\verb| |\\verb|4),|\\verb| |\\verb|('j',|\\verb| |\\verb|2),|\\verb| |\\verb|('i',|\\verb| |\\verb|2),|\\verb| |\\verb|('b',|\\verb| |\\verb|1),|\\verb| |\\verb|('w',|\\verb| |\\verb|4),|\\verb| |\\verb|('l',|\\verb| |\\verb|2),|\\verb| |\\verb|('h',|\\verb| |\\verb|2),|\\verb| |\\verb|('g',|\\verb| |\\verb|2),|\\verb| |\\verb|('q',|\\verb| |\\verb|2),|\\verb| |\\verb|('x',|\\verb| |\\verb|1),|\\verb| |\\verb|('m',|\\verb| |\\verb|1),|\\verb| |\\verb|('a',|\\verb| |\\verb|2),|\\verb| |\\verb|('f',|\\verb| |\\verb|6),|\\verb| |\\verb|('s',|\\verb| |\\verb|2),|\\verb| |\\verb|('u',|\\verb| |\\verb|2),|\\verb| |\\verb|('v',|\\verb| |\\verb|1),|\\verb| |\\verb|('c',|\\verb| |\\verb|3),|\\verb| |\\verb|('d',|\\verb| |\\verb|2),|\\verb| |\\verb|('y',|\\verb| |\\verb|2),|\\verb| |\\verb|('o',|\\verb| |\\verb|1)])|</script></html>"
      ],
      "text/latex": [
       "$$\\newcommand{\\Bold}[1]{\\mathbf{#1}}\\verb|dict_items([('e',|\\verb| |\\verb|3),|\\verb| |\\verb|('p',|\\verb| |\\verb|3),|\\verb| |\\verb|('k',|\\verb| |\\verb|4),|\\verb| |\\verb|('j',|\\verb| |\\verb|2),|\\verb| |\\verb|('i',|\\verb| |\\verb|2),|\\verb| |\\verb|('b',|\\verb| |\\verb|1),|\\verb| |\\verb|('w',|\\verb| |\\verb|4),|\\verb| |\\verb|('l',|\\verb| |\\verb|2),|\\verb| |\\verb|('h',|\\verb| |\\verb|2),|\\verb| |\\verb|('g',|\\verb| |\\verb|2),|\\verb| |\\verb|('q',|\\verb| |\\verb|2),|\\verb| |\\verb|('x',|\\verb| |\\verb|1),|\\verb| |\\verb|('m',|\\verb| |\\verb|1),|\\verb| |\\verb|('a',|\\verb| |\\verb|2),|\\verb| |\\verb|('f',|\\verb| |\\verb|6),|\\verb| |\\verb|('s',|\\verb| |\\verb|2),|\\verb| |\\verb|('u',|\\verb| |\\verb|2),|\\verb| |\\verb|('v',|\\verb| |\\verb|1),|\\verb| |\\verb|('c',|\\verb| |\\verb|3),|\\verb| |\\verb|('d',|\\verb| |\\verb|2),|\\verb| |\\verb|('y',|\\verb| |\\verb|2),|\\verb| |\\verb|('o',|\\verb| |\\verb|1)])|$$"
      ],
      "text/plain": [
       "dict_items([('e', 3), ('p', 3), ('k', 4), ('j', 2), ('i', 2), ('b', 1), ('w', 4), ('l', 2), ('h', 2), ('g', 2), ('q', 2), ('x', 1), ('m', 1), ('a', 2), ('f', 6), ('s', 2), ('u', 2), ('v', 1), ('c', 3), ('d', 2), ('y', 2), ('o', 1)])"
      ]
     },
     "metadata": {},
     "output_type": "display_data"
    }
   ],
   "source": [
    "# Simulamos la elección al azar de letras de un alfabeto un número grande de veces. Vamos a hacer un diccionario\n",
    "# con las frecuencias de aparición de cada letra. Las claves del diccionario serán las letras del alfabeto que salgan alguna\n",
    "# vez y los valores el número de apariciones.\n",
    "\n",
    "Frec=dict()                # Esta instrucción crea un diccionario vacío\n",
    "alfabeto='abcdefghijklmnopqrstuvwxyz' # Vamos a simular la elección al azar de una letra de un alfabeto con 26 letras\n",
    "for _ in xsrange(50):      # Hacemos 50 elecciones\n",
    "    letra=choice(alfabeto) # Elegimos al azar una letra del alfabeto\n",
    "    if letra in Frec:      # Se comprueba si la letra extraída al azar está entre las claves del diccionario\n",
    "        Frec[letra]+=1     # Aumentamos en una unidad el número de apariciones (sumamos uno al valor previo)\n",
    "    else:                  # La letra extraída no estaba todavía entres las claves del diccionario\n",
    "        Frec[letra]=1      # Esta es una forma de crear una nueva entrada en un diccionario, asignar un valor a una clave\n",
    "show(Frec)                 # Mostramos el contenido del diccionario\n",
    "print(Frec['a'])           # Mostramos cuántas veces ha salido la 'a' (el valor correspondiente a la clave 'a')\n",
    "show(Frec.keys())          # Veamos las letras que han aparecido (las claves del diccionario). El método .values() daría \n",
    "                           # los valores, y el método .items() una lista de pares (clave,valor)\n",
    "print(len(Frec.keys()))    # Veamos si han salido las 26\n",
    "show(Frec.values()) \n",
    "show(Frec.items()) "
   ]
  },
  {
   "cell_type": "markdown",
   "metadata": {},
   "source": [
    "b) Repite $M=10000$ veces el experimento del apartado anterior con una moneda con probabilidad $p=0.3$ de obtener cara. Construye un diccionario $F$ (de frecuencias) que anote los números de cruces hasta la primera cara de cada experimento (como claves del diccionario) y el total de ocasiones en que se dieron ese número de cruces en el total de repeticiones del experimento (como valores de cada clave).\n",
    "\n",
    "Muestra un gráfico que ilustre el resultado del experimento, representando los pares (resultado,frecuencia con que se da). \n",
    "\n",
    "_Sugerencia:_ Puede resultar útil el método .items()."
   ]
  },
  {
   "cell_type": "code",
   "execution_count": 34,
   "metadata": {},
   "outputs": [
    {
     "data": {
      "image/png": "[encoded data removed]",
      "text/plain": [
       "Graphics object consisting of 1 graphics primitive"
      ]
     },
     "metadata": {},
     "output_type": "display_data"
    }
   ],
   "source": [
    "M = 10^4\n",
    "p = 0.3\n",
    "F = {}\n",
    "for _ in xsrange(M):\n",
    "    cruces = Geometrica(p)\n",
    "    if cruces in F:\n",
    "        F[cruces] += 1\n",
    "    else:\n",
    "        F[cruces] = 1\n",
    "\n",
    "#lista_F = list(F.items())\n",
    "#lista_F.sort()\n",
    "#show(lista_F)\n",
    "show(points(F.items()))"
   ]
  },
  {
   "cell_type": "markdown",
   "metadata": {},
   "source": [
    "c) A la vista del experimento anterior, ¿cuál parece la probabilidad de que haya que tirar **exactamente** $6$ veces esa moneda para obtener la primera cara. Compárala con la probabilidad teórica que es $p\\cdot(1-p)^5$ para $p=0.3$ (¿por qué?)."
   ]
  },
  {
   "cell_type": "code",
   "execution_count": 35,
   "metadata": {},
   "outputs": [
    {
     "data": {
      "text/plain": [
       "(0.0499000000000000, 0.0504210000000000)"
      ]
     },
     "execution_count": 35,
     "metadata": {},
     "output_type": "execute_result"
    }
   ],
   "source": [
    "N(F[5]/M),p*(1-p)^5"
   ]
  },
  {
   "cell_type": "markdown",
   "metadata": {},
   "source": [
    "d) ¿Cuál es el número medio de cruces observadas en las $M=10000$ repeticiones del experimento? Compáralo con el valor teórico, que es $\\frac{1-p}p$ para $p=0.3$."
   ]
  },
  {
   "cell_type": "code",
   "execution_count": 16,
   "metadata": {},
   "outputs": [
    {
     "name": "stdout",
     "output_type": "stream",
     "text": [
      "23323/10000 2.33230000000000\n",
      "2.33333333333333\n"
     ]
    }
   ],
   "source": [
    "media = sum([j*F[j] for j in F])/M\n",
    "print(media, media.n())\n",
    "\n",
    "media_teorica = (1-p)/p\n",
    "print(media_teorica)"
   ]
  },
  {
   "cell_type": "markdown",
   "metadata": {},
   "source": [
    "**Ejercicio 5.-** En cada apartado, escribe una función para simular un lanzamiento del tipo de dado descrito. Simula experimentos aleatorios adecuados para aproximar las probabilidades pedidas.\n",
    "\n",
    "**a)** Se tira un dado perfecto. ¿Cuál será la probabilidad de conseguir salir antes del cuarto turno en una partida de parchís? Recuerda que en el parchís  se sale cuando el dado marca un 5.\n",
    "\n",
    "_Observación:_ Podemos simular un lanzamiento de un dado (con seis caras) equilibrado por medio de la instrucción $\\texttt{randint(1,6)}$. "
   ]
  },
  {
   "cell_type": "code",
   "execution_count": 37,
   "metadata": {},
   "outputs": [],
   "source": [
    "# a)\n",
    "# Definimos el experimento \"tirar el dado (hasta) 3 veces y ver \n",
    "# si sale un 5\". Al utilizarla con SalirParchis() toma el tope\n",
    "# con valor 3 (valor por defecto); se puede cambiar, en el uso,\n",
    "# este valor: SalirParchis(4) tomaría \"tope\" con valor 4.\n",
    "\n",
    "def SalirParchis(tope=3):\n",
    "    for _ in xsrange(tope):\n",
    "        if randint(1,6)==5: return True\n",
    "    return False"
   ]
  },
  {
   "cell_type": "code",
   "execution_count": 38,
   "metadata": {},
   "outputs": [
    {
     "data": {
      "text/plain": [
       "0.423590000000000"
      ]
     },
     "execution_count": 38,
     "metadata": {},
     "output_type": "execute_result"
    }
   ],
   "source": [
    "# Simulamos para obtener un valor aproximado de la probabilidad \n",
    "# pedida\n",
    "\n",
    "M=10^5\n",
    "exitos=0\n",
    "for _ in xsrange(M):\n",
    "    exitos+=SalirParchis()\n",
    "(exitos/M).n()"
   ]
  },
  {
   "cell_type": "code",
   "execution_count": 39,
   "metadata": {},
   "outputs": [
    {
     "data": {
      "text/plain": [
       "0.421296296296296"
      ]
     },
     "execution_count": 39,
     "metadata": {},
     "output_type": "execute_result"
    }
   ],
   "source": [
    "# La probabilidad exacta es esta (¿sabes por qué?)\n",
    "(1-(5/6)**3).n()"
   ]
  },
  {
   "cell_type": "markdown",
   "metadata": {},
   "source": [
    "**b)** Se juega al parchís con un dado trucado en el $6$: este sale el doble de veces que los demás. Si se saca $6$ en un turno, el jugador repite turno; pero si saca tres seises seguidos, la ficha vuelve a la casilla de inicio. Sin tener en cuenta otras reglas que permitan volver a tirar, aproxima la probabilidad de regresar al inicio en un turno del parchís si se juega con este dado trucado.\n",
    "\n",
    "_Observación:_ La función $\\texttt{choice()}$ es muy útil para simular dados trucados. Por ejemplo, podemos simular un lanzamiento del dado de este apartado por medio de $\\texttt{choice([1..5]+[6]*2)}$."
   ]
  },
  {
   "cell_type": "code",
   "execution_count": 41,
   "metadata": {},
   "outputs": [],
   "source": [
    "# b) Definimos el experimento \"Tirar el dado y, si sale un 6, \n",
    "# repetir, para ver si sucede que salgan tres (el tope por\n",
    "# defecto) 6's seguidos\"\n",
    "\n",
    "def parchisVolver(tope=3):\n",
    "    truco=[1..5]+[6]*2 #Aquí creamos (virtualmente) el dado trucado\n",
    "    for _ in xsrange(tope):\n",
    "        if choice(truco)!=6: \n",
    "            return False\n",
    "    return True"
   ]
  },
  {
   "cell_type": "code",
   "execution_count": 42,
   "metadata": {},
   "outputs": [
    {
     "data": {
      "text/plain": [
       "0.0231200000000000"
      ]
     },
     "execution_count": 42,
     "metadata": {},
     "output_type": "execute_result"
    }
   ],
   "source": [
    "# Simulamos para calcular aproximadamente la probabilidad pedida\n",
    "\n",
    "M=10^5\n",
    "exitos=0\n",
    "for _ in xsrange(M):\n",
    "    exitos+=parchisVolver()\n",
    "(exitos/M).n()"
   ]
  },
  {
   "cell_type": "code",
   "execution_count": 43,
   "metadata": {},
   "outputs": [
    {
     "data": {
      "text/plain": [
       "0.0233236151603499"
      ]
     },
     "execution_count": 43,
     "metadata": {},
     "output_type": "execute_result"
    }
   ],
   "source": [
    "# El valor teórico exacto de esta probabilidad es este (¿sabes \n",
    "# por qué?)\n",
    "\n",
    "(2./7)^3"
   ]
  },
  {
   "cell_type": "markdown",
   "metadata": {},
   "source": [
    "**c)** Se tiran dos dados perfectos. ¿Cuál es la probabilidad de conseguir al menos un $7$ (como suma de los dos) en tres tiradas consecutivas de estos dos dados?"
   ]
  },
  {
   "cell_type": "code",
   "execution_count": 44,
   "metadata": {},
   "outputs": [],
   "source": [
    "# c) Definimos el experimento \"tirar 3 (valor por defecto de tiradas)\n",
    "#veces dos dados y ver si al menos una vez suman 7\"\n",
    "\n",
    "def dados7(tiradas=3):\n",
    "    for _ in xsrange(tiradas):\n",
    "        dado1,dado2=randint(1,6),randint(1,6)\n",
    "        if (dado1+dado2)==7: return True\n",
    "    return False"
   ]
  },
  {
   "cell_type": "code",
   "execution_count": 45,
   "metadata": {},
   "outputs": [
    {
     "data": {
      "text/plain": [
       "0.418520000000000"
      ]
     },
     "execution_count": 45,
     "metadata": {},
     "output_type": "execute_result"
    }
   ],
   "source": [
    "# Simulamos para aproximar experimentalmente la probabilidad \n",
    "# pedida\n",
    "\n",
    "M=10^5\n",
    "favorables=0\n",
    "for _ in xsrange(M):\n",
    "    favorables+=dados7()\n",
    "(favorables/M).n()"
   ]
  },
  {
   "cell_type": "code",
   "execution_count": 58,
   "metadata": {},
   "outputs": [
    {
     "name": "stdout",
     "output_type": "stream",
     "text": [
      "[[1, 2], [1, 3], [1, 4], [1, 5], [1, 6], [2, 3], [2, 4], [2, 5], [2, 6], [3, 4], [3, 5], [3, 6], [4, 5], [4, 6], [5, 6]]\n"
     ]
    },
    {
     "data": {
      "text/plain": [
       "0.421296296296296"
      ]
     },
     "execution_count": 58,
     "metadata": {},
     "output_type": "execute_result"
    }
   ],
   "source": [
    "#La probabilidad exacta, calculada teóricamente, es\n",
    "1.-(5/6)**3\n",
    "\n",
    "#¿Por qué? Pista: ¿cuántos de los 6^2=36 posibles resultados \n",
    "# de lanzar dos dados dan suma 7?"
   ]
  },
  {
   "cell_type": "markdown",
   "metadata": {},
   "source": [
    "**d)** Se tienen dos dados trucados. En el primero, se consigue $6$ el doble de veces que los demás resultados. En el segundo, el $5$ se obtiene la mitad de veces que los demás. Calcula, por fuerza bruta (es decir, recorriendo todas las posibilidades) y también simulando, la probabilidad de conseguir un $11$ al lanzar estos dos dados.\n",
    "\n",
    "*Observación:*  ¿Cuántas caras tendrá un dado \"físico\" que se comporte como el segundo? ¿Cuál es el número total de posibles (pares de) resultados al lanzar los dos dados? ¿Cuáles de esos resultados dan suma 11?"
   ]
  },
  {
   "cell_type": "code",
   "execution_count": 59,
   "metadata": {},
   "outputs": [
    {
     "data": {
      "text/plain": [
       "(4/77, 0.0519480519480520)"
      ]
     },
     "execution_count": 59,
     "metadata": {},
     "output_type": "execute_result"
    }
   ],
   "source": [
    "# d)\n",
    "# Por \"fuerza bruta\" (Laplace)\n",
    "\n",
    "t0=walltime() # Vamos a registrar el tiempo tardado para \n",
    "              # comparar eficiencias\n",
    "dado1=[1..5]+2*[6]\n",
    "dado2=2*[1..4]+[5]+2*[6]\n",
    "total,favorable=0,0\n",
    "for j in dado1:\n",
    "    for k in dado2:\n",
    "        total+=1\n",
    "        if (j+k)==11: favorable+=1\n",
    "prob_teorica=favorable/total \n",
    "t_cal_teorico=walltime(t0) # Para comparar con la simulación\n",
    "prob_teorica, prob_teorica.n()"
   ]
  },
  {
   "cell_type": "code",
   "execution_count": null,
   "metadata": {},
   "outputs": [],
   "source": [
    "# La probabilidad pedida puede calcularse también teóricamente \n",
    "# de este modo (¿por qué?):\n",
    "\n",
    "(2/7)*(1/11)+(1/7)*(2/11)"
   ]
  },
  {
   "cell_type": "code",
   "execution_count": 60,
   "metadata": {},
   "outputs": [],
   "source": [
    "# d) Función para simular. \n",
    "# Dos posibles maneras equivalentes: usar índices o usar choice\n",
    "\n",
    "#1. Usando índices\n",
    "def dados_raros1():\n",
    "    return (dado1[randint(0,6)]+dado2[randint(0,10)])==11 \n",
    "\n",
    "#2. Usando choice\n",
    "def dados_raros2():\n",
    "    return (choice(dado1)+choice(dado2))==11 "
   ]
  },
  {
   "cell_type": "code",
   "execution_count": 61,
   "metadata": {},
   "outputs": [
    {
     "name": "stdout",
     "output_type": "stream",
     "text": [
      "probabilidad experimental= 0.0520000000000000\n",
      "probabilidad teórica= 0.0519480519480520\n",
      "error absoluto= 0.0000519480519480461\n",
      "error relativo= 0.0999999999999888 %\n"
     ]
    }
   ],
   "source": [
    "#Simulamos con una de ellas\n",
    "\n",
    "t1=walltime() # Para comparar eficiencias\n",
    "M=1e5\n",
    "favorables=0\n",
    "for _ in xsrange(M):\n",
    "    favorables+=dados_raros2()\n",
    "prob_experimental=(favorables/M)\n",
    "t_cal_experimental=walltime(t1) # Para comparar con el tiempo \n",
    "                                # usado para el cálculo teórico                              # teórico\n",
    "print('probabilidad experimental=',prob_experimental) \n",
    "print('probabilidad teórica=',prob_teorica.n())\n",
    "print('error absoluto=',abs(prob_experimental-prob_teorica))\n",
    "print('error relativo=', abs((prob_experimental-prob_teorica)/prob_teorica)*100,'%')"
   ]
  },
  {
   "cell_type": "code",
   "execution_count": 62,
   "metadata": {},
   "outputs": [
    {
     "name": "stdout",
     "output_type": "stream",
     "text": [
      "Por fuerza bruta: 0.0005972385406494141\n",
      "Simulando: 0.23128700256347656\n"
     ]
    }
   ],
   "source": [
    "# Comparación de tiempos\n",
    "print('Por fuerza bruta:',t_cal_teorico)\n",
    "print('Simulando:',t_cal_experimental)"
   ]
  },
  {
   "cell_type": "code",
   "execution_count": 63,
   "metadata": {},
   "outputs": [
    {
     "data": {
      "text/plain": [
       "387.2606786427146"
      ]
     },
     "execution_count": 63,
     "metadata": {},
     "output_type": "execute_result"
    }
   ],
   "source": [
    "t_cal_experimental/t_cal_teorico"
   ]
  }
 ],
 "metadata": {
  "kernelspec": {
   "display_name": "SageMath 9.5",
   "language": "sage",
   "name": "sagemath"
  },
  "language_info": {
   "codemirror_mode": {
    "name": "ipython",
    "version": 3
   },
   "file_extension": ".py",
   "mimetype": "text/x-python",
   "name": "python",
   "nbconvert_exporter": "python",
   "pygments_lexer": "ipython3",
   "version": "3.10.6"
  }
 },
 "nbformat": 4,
 "nbformat_minor": 4
}
