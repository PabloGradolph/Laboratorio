{
 "cells": [
  {
   "cell_type": "code",
   "execution_count": 34,
   "metadata": {
    "collapsed": true,
    "jupyter": {
     "outputs_hidden": true
    }
   },
   "outputs": [
    {
     "data": {
      "text/plain": [
       "3"
      ]
     },
     "execution_count": 34,
     "metadata": {},
     "output_type": "execute_result"
    }
   ],
   "source": [
    "1+2"
   ]
  },
  {
   "cell_type": "code",
   "execution_count": 4,
   "metadata": {
    "collapsed": true,
    "jupyter": {
     "outputs_hidden": true
    }
   },
   "outputs": [
    {
     "data": {
      "text/plain": [
       "177139485967399483541669936746779691100466264435049096302854407202940434219907359212373987708052878537007735131933883316949006683465676444623113291787664077106625453852524285746295434422432156708921946292693558575195645659342598363995702365049557339493792244369250570382181404145683436275614565040424627320587552618626272580146400288584339441328638057754906127048103331177375983981571568848320258289707886592660266846218876031554827944549189944756872547652997667976198810639167627433127113664882147509564774773664262620117384921402888782371163361736723518427757978887655018004800785444110685492995964514218516822342882192317555729516812797657968348927143354152192891455596677287267914421221786243864754889999819774087522062799746710167361468258163335496260895693368296165509659188305960766986159871146856120043257726410905360014678164959969390116588597013455587151028820831422892020314814085271586321092952496804676153370001709228745794110070746142308756169704260859858962595463324241884131710211128461549351967158785617948997301469530059526845162140167754384250213753704987378272110973799567415267815659660786759597048153137672735488494633801793854004168998134052931351743407363428138600386960119843931553680036772395448453641274214824349466453929805653114710065686285773670474802765798840228289120923164571708605734585908732636774046750633490336728437121321637438913150234315087227505447516655204161721310245071871676178088146133605793559273165080113222454608304459236165125270497586416662240904586445111910708813429960819789395493687652335828481124383032870547396482146941258720791089002008801476094607861060492649176988685185922523704076332804298833463887350308690297010047917372041211215409443195578220544"
      ]
     },
     "execution_count": 4,
     "metadata": {},
     "output_type": "execute_result"
    }
   ],
   "source": [
    "2^5678\n",
    "\n",
    "#El símbolo ^ puede sustituirse por **. Es para las potencias.\n",
    "\n",
    "#Por cierto, que las lineas que empiezan por # en una celda de código\n",
    "#son para escribir comentarios o aclaraciones."
   ]
  },
  {
   "cell_type": "code",
   "execution_count": 5,
   "metadata": {
    "collapsed": true,
    "jupyter": {
     "outputs_hidden": true
    }
   },
   "outputs": [
    {
     "data": {
      "text/plain": [
       "[[A == 120, B == 40, C == 20]]"
      ]
     },
     "execution_count": 5,
     "metadata": {},
     "output_type": "execute_result"
    }
   ],
   "source": [
    "var('A B C') #Esto le dice a SageMath que entienda esas tres letras como nombres de variables\n",
    "\n",
    "solve([A+B+C==540/3,3*A+B+6*C==1560/3,2*C==B],A,B,C)\n",
    "#solve() es uno de los muchísimos comandos que tiene SageMath, y que poco a poco irás conociendo"
   ]
  },
  {
   "cell_type": "code",
   "execution_count": 6,
   "metadata": {
    "collapsed": true,
    "jupyter": {
     "outputs_hidden": true
    }
   },
   "outputs": [
    {
     "name": "stderr",
     "output_type": "stream",
     "text": [
      "/opt/conda/envs/sage/lib/python3.7/site-packages/sphinx/util/nodes.py:94: FutureWarning: \n",
      "   The iterable returned by Node.traverse()\n",
      "   will become an iterator instead of a list in Docutils > 0.16.\n",
      "  for classifier in reversed(node.parent.traverse(nodes.classifier)):\n"
     ]
    },
    {
     "data": {
      "text/plain": [
       "\u001b[0;31mSignature:\u001b[0m      \u001b[0msolve\u001b[0m\u001b[0;34m(\u001b[0m\u001b[0mf\u001b[0m\u001b[0;34m,\u001b[0m \u001b[0;34m*\u001b[0m\u001b[0margs\u001b[0m\u001b[0;34m,\u001b[0m \u001b[0;34m**\u001b[0m\u001b[0mkwds\u001b[0m\u001b[0;34m)\u001b[0m\u001b[0;34m\u001b[0m\u001b[0;34m\u001b[0m\u001b[0m\n",
       "\u001b[0;31mDocstring:\u001b[0m     \n",
       "   Algebraically solve an equation or system of equations (over the\n",
       "   complex numbers) for given variables. Inequalities and systems of\n",
       "   inequalities are also supported.\n",
       "\n",
       "   INPUT:\n",
       "\n",
       "   * \"f\" - equation or system of equations (given by a list or\n",
       "     tuple)\n",
       "\n",
       "   * \"*args\" - variables to solve for.\n",
       "\n",
       "   * \"solution_dict\" - bool (default: False); if True or non-zero,\n",
       "     return a list of dictionaries containing the solutions. If there\n",
       "     are no solutions, return an empty list (rather than a list\n",
       "     containing an empty dictionary). Likewise, if there's only a\n",
       "     single solution, return a list containing one dictionary with\n",
       "     that solution.\n",
       "\n",
       "   There are a few optional keywords if you are trying to solve a\n",
       "   single equation.  They may only be used in that context.\n",
       "\n",
       "   * \"multiplicities\" - bool (default: False); if True, return\n",
       "     corresponding multiplicities.  This keyword is incompatible with\n",
       "     \"to_poly_solve=True\" and does not make any sense when solving\n",
       "     inequalities.\n",
       "\n",
       "   * \"explicit_solutions\" - bool (default: False); require that all\n",
       "     roots be explicit rather than implicit. Not used when solving\n",
       "     inequalities.\n",
       "\n",
       "   * \"to_poly_solve\" - bool (default: False) or string; use Maxima's\n",
       "     \"to_poly_solver\" package to search for more possible solutions,\n",
       "     but possibly encounter approximate solutions. This keyword is\n",
       "     incompatible with \"multiplicities=True\" and is not used when\n",
       "     solving inequalities. Setting \"to_poly_solve\" to 'force' (string)\n",
       "     omits Maxima's solve command (useful when some solutions of\n",
       "     trigonometric equations are lost).\n",
       "\n",
       "   * \"algorithm\" - string (default: 'maxima'); to use SymPy's\n",
       "     solvers set this to 'sympy'. Note that SymPy is always used for\n",
       "     diophantine equations.\n",
       "\n",
       "   * \"domain\" - string (default: 'complex'); setting this to 'real'\n",
       "     changes the way SymPy solves single equations; inequalities are\n",
       "     always solved in the real domain.\n",
       "\n",
       "   EXAMPLES:\n",
       "\n",
       "      sage: x, y = var('x, y')\n",
       "      sage: solve([x+y==6, x-y==4], x, y)\n",
       "      [[x == 5, y == 1]]\n",
       "      sage: solve([x^2+y^2 == 1, y^2 == x^3 + x + 1], x, y)\n",
       "      [[x == -1/2*I*sqrt(3) - 1/2, y == -sqrt(-1/2*I*sqrt(3) + 3/2)],\n",
       "       [x == -1/2*I*sqrt(3) - 1/2, y == sqrt(-1/2*I*sqrt(3) + 3/2)],\n",
       "       [x == 1/2*I*sqrt(3) - 1/2, y == -sqrt(1/2*I*sqrt(3) + 3/2)],\n",
       "       [x == 1/2*I*sqrt(3) - 1/2, y == sqrt(1/2*I*sqrt(3) + 3/2)],\n",
       "       [x == 0, y == -1],\n",
       "       [x == 0, y == 1]]\n",
       "      sage: solve([sqrt(x) + sqrt(y) == 5, x + y == 10], x, y)\n",
       "      [[x == -5/2*I*sqrt(5) + 5, y == 5/2*I*sqrt(5) + 5], [x == 5/2*I*sqrt(5) + 5, y == -5/2*I*sqrt(5) + 5]]\n",
       "      sage: solutions=solve([x^2+y^2 == 1, y^2 == x^3 + x + 1], x, y, solution_dict=True)\n",
       "      sage: for solution in solutions: print(\"{} , {}\".format(solution[x].n(digits=3), solution[y].n(digits=3)))\n",
       "      -0.500 - 0.866*I , -1.27 + 0.341*I\n",
       "      -0.500 - 0.866*I , 1.27 - 0.341*I\n",
       "      -0.500 + 0.866*I , -1.27 - 0.341*I\n",
       "      -0.500 + 0.866*I , 1.27 + 0.341*I\n",
       "      0.000 , -1.00\n",
       "      0.000 , 1.00\n",
       "\n",
       "   Whenever possible, answers will be symbolic, but with systems of\n",
       "   equations, at times approximations will be given by Maxima, due to\n",
       "   the underlying algorithm:\n",
       "\n",
       "      sage: sols = solve([x^3==y,y^2==x], [x,y]); sols[-1], sols[0]\n",
       "      ([x == 0, y == 0],\n",
       "       [x == (0.3090169943749475 + 0.9510565162951535*I),\n",
       "        y == (-0.8090169943749475 - 0.5877852522924731*I)])\n",
       "      sage: sols[0][0].rhs().pyobject().parent()\n",
       "      Complex Double Field\n",
       "\n",
       "      sage: solve([y^6==y],y)\n",
       "      [y == 1/4*sqrt(5) + 1/4*I*sqrt(2*sqrt(5) + 10) - 1/4,\n",
       "       y == -1/4*sqrt(5) + 1/4*I*sqrt(-2*sqrt(5) + 10) - 1/4,\n",
       "       y == -1/4*sqrt(5) - 1/4*I*sqrt(-2*sqrt(5) + 10) - 1/4,\n",
       "       y == 1/4*sqrt(5) - 1/4*I*sqrt(2*sqrt(5) + 10) - 1/4,\n",
       "       y == 1,\n",
       "       y == 0]\n",
       "      sage: solve( [y^6 == y], y)==solve( y^6 == y, y)\n",
       "      True\n",
       "\n",
       "   Here we demonstrate very basic use of the optional keywords:\n",
       "\n",
       "      sage: ((x^2-1)^2).solve(x)\n",
       "      [x == -1, x == 1]\n",
       "      sage: ((x^2-1)^2).solve(x,multiplicities=True)\n",
       "      ([x == -1, x == 1], [2, 2])\n",
       "      sage: solve(sin(x)==x,x)\n",
       "      [x == sin(x)]\n",
       "      sage: solve(sin(x)==x,x,explicit_solutions=True)\n",
       "      []\n",
       "      sage: solve(abs(1-abs(1-x)) == 10, x)\n",
       "      [abs(abs(x - 1) - 1) == 10]\n",
       "      sage: solve(abs(1-abs(1-x)) == 10, x, to_poly_solve=True)\n",
       "      [x == -10, x == 12]\n",
       "\n",
       "      sage: from sage.symbolic.expression import Expression\n",
       "      sage: Expression.solve(x^2==1,x)\n",
       "      [x == -1, x == 1]\n",
       "\n",
       "   We must solve with respect to actual variables:\n",
       "\n",
       "      sage: z = 5\n",
       "      sage: solve([8*z + y == 3, -z +7*y == 0],y,z)\n",
       "      Traceback (most recent call last):\n",
       "      ...\n",
       "      TypeError: 5 is not a valid variable.\n",
       "\n",
       "   If we ask for dictionaries containing the solutions, we get them:\n",
       "\n",
       "      sage: solve([x^2-1],x,solution_dict=True)\n",
       "      [{x: -1}, {x: 1}]\n",
       "      sage: solve([x^2-4*x+4],x,solution_dict=True)\n",
       "      [{x: 2}]\n",
       "      sage: res = solve([x^2 == y, y == 4],x,y,solution_dict=True)\n",
       "      sage: for soln in res: print(\"x: %s, y: %s\" % (soln[x], soln[y]))\n",
       "      x: 2, y: 4\n",
       "      x: -2, y: 4\n",
       "\n",
       "   If there is a parameter in the answer, that will show up as a new\n",
       "   variable.  In the following example, \"r1\" is an arbitrary constant\n",
       "   (because of the \"r\"):\n",
       "\n",
       "      sage: forget()\n",
       "      sage: x, y = var('x,y')\n",
       "      sage: solve([x+y == 3, 2*x+2*y == 6],x,y)\n",
       "      [[x == -r1 + 3, y == r1]]\n",
       "\n",
       "      sage: var('b, c')\n",
       "      (b, c)\n",
       "      sage: solve((b-1)*(c-1), [b,c])\n",
       "      [[b == 1, c == r...], [b == r..., c == 1]]\n",
       "\n",
       "   Especially with trigonometric functions, the dummy variable may be\n",
       "   implicitly an integer (hence the \"z\"):\n",
       "\n",
       "      sage: solve( sin(x)==cos(x), x, to_poly_solve=True)\n",
       "      [x == 1/4*pi + pi*z...]\n",
       "      sage: solve([cos(x)*sin(x) == 1/2, x+y == 0],x,y)\n",
       "      [[x == 1/4*pi + pi*z..., y == -1/4*pi - pi*z...]]\n",
       "\n",
       "   Expressions which are not equations are assumed to be set equal to\n",
       "   zero, as with x in the following example:\n",
       "\n",
       "      sage: solve([x, y == 2],x,y)\n",
       "      [[x == 0, y == 2]]\n",
       "\n",
       "   If \"True\" appears in the list of equations it is ignored, and if\n",
       "   \"False\" appears in the list then no solutions are returned. E.g.,\n",
       "   note that the first \"3==3\" evaluates to \"True\", not to a symbolic\n",
       "   equation.\n",
       "\n",
       "      sage: solve([3==3, 1.00000000000000*x^3 == 0], x)\n",
       "      [x == 0]\n",
       "      sage: solve([1.00000000000000*x^3 == 0], x)\n",
       "      [x == 0]\n",
       "\n",
       "   Here, the first equation evaluates to \"False\", so there are no\n",
       "   solutions:\n",
       "\n",
       "      sage: solve([1==3, 1.00000000000000*x^3 == 0], x)\n",
       "      []\n",
       "\n",
       "   Completely symbolic solutions are supported:\n",
       "\n",
       "      sage: var('s,j,b,m,g')\n",
       "      (s, j, b, m, g)\n",
       "      sage: sys = [ m*(1-s) - b*s*j, b*s*j-g*j ]\n",
       "      sage: solve(sys,s,j)\n",
       "      [[s == 1, j == 0], [s == g/b, j == (b - g)*m/(b*g)]]\n",
       "      sage: solve(sys,(s,j))\n",
       "      [[s == 1, j == 0], [s == g/b, j == (b - g)*m/(b*g)]]\n",
       "      sage: solve(sys,[s,j])\n",
       "      [[s == 1, j == 0], [s == g/b, j == (b - g)*m/(b*g)]]\n",
       "\n",
       "      sage: z = var('z')\n",
       "      sage: solve((x-z)^2==2, x)\n",
       "      [x == z - sqrt(2), x == z + sqrt(2)]\n",
       "\n",
       "   Inequalities can be also solved:\n",
       "\n",
       "      sage: solve(x^2>8,x)\n",
       "      [[x < -2*sqrt(2)], [x > 2*sqrt(2)]]\n",
       "      sage: x,y=var('x,y'); (ln(x)-ln(y)>0).solve(x)\n",
       "      [[log(x) - log(y) > 0]]\n",
       "      sage: x,y=var('x,y'); (ln(x)>ln(y)).solve(x)  # random\n",
       "      [[0 < y, y < x, 0 < x]]\n",
       "      [[y < x, 0 < y]]\n",
       "\n",
       "   A simple example to show the use of the keyword \"multiplicities\":\n",
       "\n",
       "      sage: ((x^2-1)^2).solve(x)\n",
       "      [x == -1, x == 1]\n",
       "      sage: ((x^2-1)^2).solve(x,multiplicities=True)\n",
       "      ([x == -1, x == 1], [2, 2])\n",
       "      sage: ((x^2-1)^2).solve(x,multiplicities=True,to_poly_solve=True)\n",
       "      Traceback (most recent call last):\n",
       "      ...\n",
       "      NotImplementedError: to_poly_solve does not return multiplicities\n",
       "\n",
       "   Here is how the \"explicit_solutions\" keyword functions:\n",
       "\n",
       "      sage: solve(sin(x)==x,x)\n",
       "      [x == sin(x)]\n",
       "      sage: solve(sin(x)==x,x,explicit_solutions=True)\n",
       "      []\n",
       "      sage: solve(x*sin(x)==x^2,x)\n",
       "      [x == 0, x == sin(x)]\n",
       "      sage: solve(x*sin(x)==x^2,x,explicit_solutions=True)\n",
       "      [x == 0]\n",
       "\n",
       "   The following examples show the use of the keyword \"to_poly_solve\":\n",
       "\n",
       "      sage: solve(abs(1-abs(1-x)) == 10, x)\n",
       "      [abs(abs(x - 1) - 1) == 10]\n",
       "      sage: solve(abs(1-abs(1-x)) == 10, x, to_poly_solve=True)\n",
       "      [x == -10, x == 12]\n",
       "\n",
       "      sage: var('Q')\n",
       "      Q\n",
       "      sage: solve(Q*sqrt(Q^2 + 2) - 1, Q)\n",
       "      [Q == 1/sqrt(Q^2 + 2)]\n",
       "\n",
       "   The following example is a regression in Maxima 5.39.0. It used to\n",
       "   be possible to get one more solution here, namely \"1/sqrt(sqrt(2) +\n",
       "   1)\", see https://sourceforge.net/p/maxima/bugs/3276/:\n",
       "\n",
       "      sage: solve(Q*sqrt(Q^2 + 2) - 1, Q, to_poly_solve=True)\n",
       "      [Q == -sqrt(-sqrt(2) - 1), Q == sqrt(sqrt(2) + 1)*(sqrt(2) - 1)]\n",
       "\n",
       "   An effort is made to only return solutions that satisfy the current\n",
       "   assumptions:\n",
       "\n",
       "      sage: solve(x^2==4, x)\n",
       "      [x == -2, x == 2]\n",
       "      sage: assume(x<0)\n",
       "      sage: solve(x^2==4, x)\n",
       "      [x == -2]\n",
       "      sage: solve((x^2-4)^2 == 0, x, multiplicities=True)\n",
       "      ([x == -2], [2])\n",
       "      sage: solve(x^2==2, x)\n",
       "      [x == -sqrt(2)]\n",
       "      sage: z = var('z')\n",
       "      sage: solve(x^2==2-z, x)\n",
       "      [x == -sqrt(-z + 2)]\n",
       "      sage: assume(x, 'rational')\n",
       "      sage: solve(x^2 == 2, x)\n",
       "      []\n",
       "\n",
       "   In some cases it may be worthwhile to directly use \"to_poly_solve\"\n",
       "   if one suspects some answers are being missed:\n",
       "\n",
       "      sage: forget()\n",
       "      sage: solve(cos(x)==0, x)\n",
       "      [x == 1/2*pi]\n",
       "      sage: solve(cos(x)==0, x, to_poly_solve=True)\n",
       "      [x == 1/2*pi]\n",
       "      sage: solve(cos(x)==0, x, to_poly_solve='force')\n",
       "      [x == 1/2*pi + pi*z...]\n",
       "\n",
       "   The same may also apply if a returned unsolved expression has a\n",
       "   denominator, but the original one did not:\n",
       "\n",
       "      sage: solve(cos(x) * sin(x) == 1/2, x, to_poly_solve=True)\n",
       "      [sin(x) == 1/2/cos(x)]\n",
       "      sage: solve(cos(x) * sin(x) == 1/2, x, to_poly_solve=True, explicit_solutions=True)\n",
       "      [x == 1/4*pi + pi*z...]\n",
       "      sage: solve(cos(x) * sin(x) == 1/2, x, to_poly_solve='force')\n",
       "      [x == 1/4*pi + pi*z...]\n",
       "\n",
       "   We use \"use_grobner\" in Maxima if no solution is obtained from\n",
       "   Maxima's \"to_poly_solve\":\n",
       "\n",
       "      sage: x,y=var('x y'); c1(x,y)=(x-5)^2+y^2-16; c2(x,y)=(y-3)^2+x^2-9\n",
       "      sage: solve([c1(x,y),c2(x,y)],[x,y])\n",
       "      [[x == -9/68*sqrt(55) + 135/68, y == -15/68*sqrt(55) + 123/68],\n",
       "       [x == 9/68*sqrt(55) + 135/68, y == 15/68*sqrt(55) + 123/68]]\n",
       "\n",
       "   We use SymPy for Diophantine equations, see\n",
       "   \"Expression.solve_diophantine\":\n",
       "\n",
       "      sage: assume(x, 'integer')\n",
       "      sage: assume(z, 'integer')\n",
       "      sage: solve((x-z)^2==2, x)\n",
       "      []\n",
       "\n",
       "      sage: forget()\n",
       "\n",
       "   The following shows some more of SymPy's capabilities that cannot\n",
       "   be handled by Maxima:\n",
       "\n",
       "      sage: _ = var('t')\n",
       "      sage: r = solve([x^2 - y^2/exp(x), y-1], x, y, algorithm='sympy')\n",
       "      sage: (r[0][x], r[0][y])\n",
       "      (2*lambert_w(1/2), 1)\n",
       "      sage: solve(-2*x**3 + 4*x**2 - 2*x + 6 > 0, x, algorithm='sympy')\n",
       "      [x < 1/3*(1/2)^(1/3)*(9*sqrt(77) + 79)^(1/3) + 2/3*(1/2)^(2/3)/(9*sqrt(77) + 79)^(1/3) + 2/3]\n",
       "      sage: solve(sqrt(2*x^2 - 7) - (3 - x),x,algorithm='sympy')\n",
       "      [x == -8, x == 2]\n",
       "      sage: solve(sqrt(2*x + 9) - sqrt(x + 1) - sqrt(x + 4),x,algorithm='sympy')\n",
       "      [x == 0]\n",
       "      sage: r = solve([x + y + z + t, -z - t], x, y, z, t, algorithm='sympy')\n",
       "      sage: (r[0][x], r[0][z])\n",
       "      (-y, -t)\n",
       "      sage: r = solve([x^2+y+z, y+x^2+z, x+y+z^2], x, y,z, algorithm='sympy')\n",
       "      sage: (r[0][x], r[0][y])\n",
       "      (z, -(z + 1)*z)\n",
       "      sage: (r[1][x], r[1][y])\n",
       "      (-z + 1, -z^2 + z - 1)\n",
       "      sage: solve(abs(x + 3) - 2*abs(x - 3),x,algorithm='sympy',domain='real')\n",
       "      [x == 1, x == 9]\n",
       "\n",
       "   We cannot translate all results from SymPy but we can at least\n",
       "   print them:\n",
       "\n",
       "      sage: solve(sinh(x) - 2*cosh(x),x,algorithm='sympy')\n",
       "      ConditionSet(x, Eq((-exp(2*x) - 3)*exp(-x)/2, 0), Reals)\n",
       "      sage: solve(2*sin(x) - 2*sin(2*x), x,algorithm='sympy')\n",
       "      [ImageSet(Lambda(_n, 2*_n*pi), Integers),\n",
       "       ImageSet(Lambda(_n, 2*_n*pi + pi), Integers),\n",
       "       ImageSet(Lambda(_n, 2*_n*pi + 5*pi/3), Integers),\n",
       "       ImageSet(Lambda(_n, 2*_n*pi + pi/3), Integers)]\n",
       "\n",
       "      sage: solve(x^5 + 3*x^3 + 7, x, algorithm='sympy')[0] # known bug\n",
       "      complex_root_of(x^5 + 3*x^3 + 7, 0)\n",
       "\u001b[0;31mInit docstring:\u001b[0m Initialize self.  See help(type(self)) for accurate signature.\n",
       "\u001b[0;31mFile:\u001b[0m           /opt/conda/envs/sage/lib/python3.7/site-packages/sage/symbolic/relation.py\n",
       "\u001b[0;31mType:\u001b[0m           function\n"
      ]
     },
     "metadata": {},
     "output_type": "display_data"
    }
   ],
   "source": [
    "#La sintaxis tiene que ser exactamente así (lista de ecuaciones entre corchetes [], == en vez de =, etcétera)\n",
    "#SageMath incluye textos de ayuda sobre sus comandos\n",
    "solve?"
   ]
  },
  {
   "cell_type": "code",
   "execution_count": 1,
   "metadata": {},
   "outputs": [
    {
     "data": {
      "text/html": [
       "<html><script type=\"math/tex; mode=display\">\\newcommand{\\Bold}[1]{\\mathbf{#1}}\\left(\\begin{array}{rrr}\n",
       "1 & 1 & 1 \\\\\n",
       "3 & 1 & 6 \\\\\n",
       "0 & -1 & 2\n",
       "\\end{array}\\right)</script></html>"
      ],
      "text/plain": [
       "[ 1  1  1]\n",
       "[ 3  1  6]\n",
       "[ 0 -1  2]"
      ]
     },
     "metadata": {},
     "output_type": "display_data"
    },
    {
     "data": {
      "text/html": [
       "<html><script type=\"math/tex; mode=display\">\\newcommand{\\Bold}[1]{\\mathbf{#1}}\\left(\\begin{array}{r}\n",
       "180 \\\\\n",
       "520 \\\\\n",
       "0\n",
       "\\end{array}\\right)</script></html>"
      ],
      "text/plain": [
       "[180]\n",
       "[520]\n",
       "[  0]"
      ]
     },
     "metadata": {},
     "output_type": "display_data"
    }
   ],
   "source": [
    "M=Matrix([[1,1,1],[3,1,6],[0,-1,2]]) #Matrix es un comando para introducir una matriz. \n",
    "#Le asignamos el nombre que queremos (en este caso, M)\n",
    "V=Matrix(3,1,[540/3,1560/3,0])\n",
    "#En esta forma de usar Matrix los dos primeros números indican las dimensiones\n",
    "#Consulta el texto de ayuda de Matrix!!!\n",
    "\n",
    "show(M)\n",
    "show(V)\n",
    "#El comando show muestra por pantalla las cosas de modo visualmente \"agradable\""
   ]
  },
  {
   "cell_type": "code",
   "execution_count": 8,
   "metadata": {
    "collapsed": true,
    "jupyter": {
     "outputs_hidden": true
    }
   },
   "outputs": [
    {
     "data": {
      "text/plain": [
       "[120]\n",
       "[ 40]\n",
       "[ 20]"
      ]
     },
     "execution_count": 8,
     "metadata": {},
     "output_type": "execute_result"
    }
   ],
   "source": [
    "(M^(-1))*V #El cálculo que da la respuesta buscada"
   ]
  },
  {
   "cell_type": "code",
   "execution_count": 9,
   "metadata": {
    "collapsed": true,
    "jupyter": {
     "outputs_hidden": true
    }
   },
   "outputs": [
    {
     "data": {
      "text/html": [
       "<html><script type=\"math/tex; mode=display\">\\newcommand{\\Bold}[1]{\\mathbf{#1}}\\left(\\begin{array}{r}\n",
       "120 \\\\\n",
       "40 \\\\\n",
       "20\n",
       "\\end{array}\\right)</script></html>"
      ],
      "text/plain": [
       "[120]\n",
       "[ 40]\n",
       "[ 20]"
      ]
     },
     "metadata": {},
     "output_type": "display_data"
    }
   ],
   "source": [
    "#O por ejemplo\n",
    "solucion=(M^(-1))*V #decido darle un nombre (he elegido \"solucion\") para enseñar la respuesta con show\n",
    "show(solucion)"
   ]
  },
  {
   "cell_type": "code",
   "execution_count": 10,
   "metadata": {
    "collapsed": true,
    "jupyter": {
     "outputs_hidden": true
    }
   },
   "outputs": [
    {
     "data": {
      "text/plain": [
       "[120]\n",
       "[ 40]\n",
       "[ 20]"
      ]
     },
     "execution_count": 10,
     "metadata": {},
     "output_type": "execute_result"
    }
   ],
   "source": [
    "#En SageMath y en otros lenguajes en vez de (M^(-1))*V se puede hacer esto\n",
    "M\\V"
   ]
  },
  {
   "cell_type": "code",
   "execution_count": 11,
   "metadata": {
    "collapsed": true,
    "jupyter": {
     "outputs_hidden": true
    }
   },
   "outputs": [
    {
     "data": {
      "text/plain": [
       "[x == 2, x == (-1/3)]"
      ]
     },
     "execution_count": 11,
     "metadata": {},
     "output_type": "execute_result"
    }
   ],
   "source": [
    "f(x)=2+x-x^2\n",
    "g(x)=2*x^2 -4*x\n",
    "solve(f-g==0, x)\n",
    "#Observa que, a diferencia del ejercicio anterior, no he necesitado decir que x es el nombre de una variable.\n",
    "#SageMath entiende por defecto que x es una variable. \n",
    "#Si quieres usar otras, tienes que \"declarárselas\" a SageMath como hicimos antes con A,B,C."
   ]
  },
  {
   "cell_type": "code",
   "execution_count": 12,
   "metadata": {},
   "outputs": [
    {
     "data": {
      "image/png": "[encoded data removed]",
      "text/plain": [
       "Graphics object consisting of 2 graphics primitives"
      ]
     },
     "execution_count": 12,
     "metadata": {},
     "output_type": "execute_result"
    }
   ],
   "source": [
    "plot(f,x,-1,2.5,color='red')+plot(g,x,-1,2.5,color='blue')\n",
    "#plot es otro comando interesante con multitud de opciones (aquí hemos usado una: el color)\n",
    "#en el texto de ayuda de plot puedes ver muchas más"
   ]
  },
  {
   "cell_type": "code",
   "execution_count": 13,
   "metadata": {
    "collapsed": true,
    "jupyter": {
     "outputs_hidden": true
    }
   },
   "outputs": [
    {
     "data": {
      "text/plain": [
       "343/54"
      ]
     },
     "execution_count": 13,
     "metadata": {},
     "output_type": "execute_result"
    }
   ],
   "source": [
    "#la integral que calcula el área buscada\n",
    "integrate(f-g,x,-1/3,2)"
   ]
  },
  {
   "cell_type": "code",
   "execution_count": 14,
   "metadata": {},
   "outputs": [],
   "source": [
    "reset()\n",
    "#Esta instrucción borra todo lo que haya en la memoria hasta el momento.\n",
    "#Suele ser bueno hacerlo cuando se ha terminado algo y se quiere pasar a otra cosa que no necesita lo anterior."
   ]
  },
  {
   "cell_type": "code",
   "execution_count": 15,
   "metadata": {},
   "outputs": [
    {
     "data": {
      "text/html": [
       "<html><script type=\"math/tex; mode=display\">\\newcommand{\\Bold}[1]{\\mathbf{#1}}\\left(\\begin{array}{rrr}\n",
       "a & -2 & a - 1 \\\\\n",
       "-2 & 3 & -6 \\\\\n",
       "-a & 1 & -6\n",
       "\\end{array}\\right)</script></html>"
      ],
      "text/plain": [
       "[    a    -2 a - 1]\n",
       "[   -2     3    -6]\n",
       "[   -a     1    -6]"
      ]
     },
     "metadata": {},
     "output_type": "display_data"
    },
    {
     "data": {
      "text/html": [
       "<html><script type=\"math/tex; mode=display\">\\newcommand{\\Bold}[1]{\\mathbf{#1}}\\left(\\begin{array}{rrrr}\n",
       "a & -2 & a - 1 & 4 \\\\\n",
       "-2 & 3 & -6 & 2 \\\\\n",
       "-a & 1 & -6 & 6\n",
       "\\end{array}\\right)</script></html>"
      ],
      "text/plain": [
       "[    a    -2 a - 1     4]\n",
       "[   -2     3    -6     2]\n",
       "[   -a     1    -6     6]"
      ]
     },
     "metadata": {},
     "output_type": "display_data"
    }
   ],
   "source": [
    "var('a') #Recuerda que tenemos que declarar que a es una variable\n",
    "A=matrix(3,[a,-2,a-1,-2,3,-6,-a,1,-6])\n",
    "Aamp=matrix([[a,-2,a-1,4],[-2,3,-6,2],[-a,1,-6,6]])\n",
    "show(A)\n",
    "show(Aamp)"
   ]
  },
  {
   "cell_type": "code",
   "execution_count": 16,
   "metadata": {},
   "outputs": [
    {
     "data": {
      "text/plain": [
       "[a == 1, a == (26/3)]"
      ]
     },
     "execution_count": 16,
     "metadata": {},
     "output_type": "execute_result"
    }
   ],
   "source": [
    "solve(det(A)==0, a)"
   ]
  },
  {
   "cell_type": "code",
   "execution_count": 17,
   "metadata": {},
   "outputs": [
    {
     "data": {
      "text/plain": [
       "(2, 2)"
      ]
     },
     "execution_count": 17,
     "metadata": {},
     "output_type": "execute_result"
    }
   ],
   "source": [
    "rank(A.subs(a=1)), rank(Aamp.subs(a=1))"
   ]
  },
  {
   "cell_type": "code",
   "execution_count": 18,
   "metadata": {},
   "outputs": [
    {
     "data": {
      "text/plain": [
       "(2, 3)"
      ]
     },
     "execution_count": 18,
     "metadata": {},
     "output_type": "execute_result"
    }
   ],
   "source": [
    "rank(A.subs(a=26/3)), rank(Aamp.subs(a=26/3))"
   ]
  },
  {
   "cell_type": "code",
   "execution_count": 19,
   "metadata": {},
   "outputs": [
    {
     "data": {
      "text/plain": [
       "[[x == -12*r1 - 16, y == -6*r1 - 10, z == r1]]"
      ]
     },
     "execution_count": 19,
     "metadata": {},
     "output_type": "execute_result"
    }
   ],
   "source": [
    "var('x y z')\n",
    "solve([x-2*y==4, -2*x+3*y-6*z==2, -x+y-6*z==6],x,y,z)"
   ]
  },
  {
   "cell_type": "code",
   "execution_count": 20,
   "metadata": {},
   "outputs": [
    {
     "data": {
      "text/plain": [
       "[-16]\n",
       "[-10]\n",
       "[  0]"
      ]
     },
     "execution_count": 20,
     "metadata": {},
     "output_type": "execute_result"
    }
   ],
   "source": [
    "#OJO: si hacemos esto...\n",
    "A1=A.subs(a=1)\n",
    "#..., que es similar a lo último que hicimos en el otro ejercicio, SageMath da solo una solución\n",
    "V=Matrix(3,1,[4,2,6])\n",
    "A1\\V"
   ]
  },
  {
   "cell_type": "code",
   "execution_count": 22,
   "metadata": {},
   "outputs": [
    {
     "data": {
      "image/png": "[encoded data removed]",
      "text/plain": [
       "Graphics object consisting of 2 graphics primitives"
      ]
     },
     "execution_count": 22,
     "metadata": {},
     "output_type": "execute_result"
    }
   ],
   "source": [
    "#a)\n",
    "f1(x)=sin(x)\n",
    "f2(x)=x*exp(x)\n",
    "\n",
    "plot(f1,x,-1,0,color='red')+plot(f2,x,0,1,color='blue')\n",
    "#Pintamos ambas funciones para echar un vistazo"
   ]
  },
  {
   "cell_type": "code",
   "execution_count": 23,
   "metadata": {},
   "outputs": [
    {
     "data": {
      "image/png": "[encoded data removed]",
      "text/plain": [
       "Graphics object consisting of 1 graphics primitive"
      ]
     },
     "execution_count": 23,
     "metadata": {},
     "output_type": "execute_result"
    }
   ],
   "source": [
    "#Aunque para definir una función dada a trozos SageMath tiene este comando \n",
    "f = piecewise([((-pi,0), f1), ([0,2], f2)])\n",
    "fig=plot(f, x, -pi, 2)\n",
    "fig"
   ]
  },
  {
   "cell_type": "code",
   "execution_count": 24,
   "metadata": {},
   "outputs": [
    {
     "data": {
      "text/plain": [
       "(x |--> 0, x |--> 0, 0)"
      ]
     },
     "execution_count": 24,
     "metadata": {},
     "output_type": "execute_result"
    }
   ],
   "source": [
    "limit(f1, x = 0, dir='-'), limit(f2, x = 0, dir='+'), f2(0)\n",
    "#limit es el comando para límites. dir indica si se quiere por la derecha o por la izquierda "
   ]
  },
  {
   "cell_type": "code",
   "execution_count": 25,
   "metadata": {},
   "outputs": [
    {
     "data": {
      "text/plain": [
       "(1, 1)"
      ]
     },
     "execution_count": 25,
     "metadata": {},
     "output_type": "execute_result"
    }
   ],
   "source": [
    "var('h')\n",
    "limit(f1(h)/h, h = 0, dir='-'), limit(f2(h)/h, h = 0, dir='+')"
   ]
  },
  {
   "cell_type": "code",
   "execution_count": 26,
   "metadata": {},
   "outputs": [
    {
     "name": "stdout",
     "output_type": "stream",
     "text": [
      "x |--> cos(x) x |--> x*e^x + e^x\n"
     ]
    }
   ],
   "source": [
    "f1p=diff(f1,x) #diff es un comando para derivar\n",
    "f2p=diff(f2,x) #En realidad esta no hace falta, a la vista del plot que hemos visto \n",
    "#(f es creciente en el tramo en el que está definida por f2)\n",
    "print(f1p, f2p)"
   ]
  },
  {
   "cell_type": "code",
   "execution_count": 27,
   "metadata": {},
   "outputs": [
    {
     "data": {
      "text/plain": [
       "[x == 1/2*pi]"
      ]
     },
     "execution_count": 27,
     "metadata": {},
     "output_type": "execute_result"
    }
   ],
   "source": [
    "#Intento ver dónde se anula la derivada de f1:\n",
    "solve(f1p(x)==0,x)"
   ]
  },
  {
   "cell_type": "code",
   "execution_count": 28,
   "metadata": {},
   "outputs": [
    {
     "data": {
      "text/plain": [
       "-1.5707963267948966"
      ]
     },
     "execution_count": 28,
     "metadata": {},
     "output_type": "execute_result"
    }
   ],
   "source": [
    "#Pero eso es absurdo, porque el punto que busco está entre -pi y 0.\n",
    "#El problema es que, como dijimos arriba, solve te da solemente una solución si es que hay infinitas\n",
    "\n",
    "#Sin embargo, otro comando interesante que se puede usar para encontrar soluciones es este:\n",
    "find_root(f1p(x)==0,  -pi, 0)\n",
    "#Una diferencia importante es que \"solve\" es algo así como \"despejar\", y no siempre se puede"
   ]
  },
  {
   "cell_type": "code",
   "execution_count": 29,
   "metadata": {},
   "outputs": [
    {
     "data": {
      "text/plain": [
       "-1.57079632679490"
      ]
     },
     "execution_count": 29,
     "metadata": {},
     "output_type": "execute_result"
    }
   ],
   "source": [
    "#En realidad, ese valor no es más que -pi/2\n",
    "N(-pi/2)\n",
    "#El comando N() sirve para investigar el valor numérico de expresiones que SageMath da algebraicamente"
   ]
  },
  {
   "cell_type": "code",
   "execution_count": 30,
   "metadata": {},
   "outputs": [
    {
     "data": {
      "text/plain": [
       "(0, 2.71828182845905)"
      ]
     },
     "execution_count": 30,
     "metadata": {},
     "output_type": "execute_result"
    }
   ],
   "source": [
    "f(0), N(f(1))"
   ]
  },
  {
   "cell_type": "code",
   "execution_count": 31,
   "metadata": {},
   "outputs": [
    {
     "data": {
      "text/plain": [
       "[x == 2*e^(-x)]"
      ]
     },
     "execution_count": 31,
     "metadata": {},
     "output_type": "execute_result"
    }
   ],
   "source": [
    "#No lo, preguntan, pero... ¿y si quisiera saber qué punto es?\n",
    "#Intento con solve\n",
    "solve([f2==2],x)"
   ]
  },
  {
   "cell_type": "code",
   "execution_count": 32,
   "metadata": {},
   "outputs": [
    {
     "data": {
      "text/plain": [
       "0.8526055020137256"
      ]
     },
     "execution_count": 32,
     "metadata": {},
     "output_type": "execute_result"
    }
   ],
   "source": [
    "#Esta respuesta, un poco absurda, es literalmente \"un x tal que x coincida con 2*e^(-x)\", \n",
    "#pero no me dice qué x es\n",
    "\n",
    "#Como dijimos antes, \"solve\" quiere decir \"despeja\", y aquí no se puede. Sin embargo...\n",
    "\n",
    "find_root(f2==2, 0, 2)"
   ]
  },
  {
   "cell_type": "code",
   "execution_count": 36,
   "metadata": {},
   "outputs": [
    {
     "data": {
      "text/plain": [
       "0"
      ]
     },
     "execution_count": 36,
     "metadata": {},
     "output_type": "execute_result"
    }
   ],
   "source": [
    "integrate(f1(x), x, -pi/2, 0)+integrate(f2(x),x, 0, 1)"
   ]
  },
  {
   "cell_type": "code",
   "execution_count": null,
   "metadata": {},
   "outputs": [],
   "source": []
  }
 ],
 "metadata": {
  "kernelspec": {
   "display_name": "SageMath 9.0",
   "language": "sage",
   "name": "sagemath"
  },
  "language_info": {
   "codemirror_mode": {
    "name": "ipython",
    "version": 3
   },
   "file_extension": ".py",
   "mimetype": "text/x-python",
   "name": "python",
   "nbconvert_exporter": "python",
   "pygments_lexer": "ipython3",
   "version": "3.7.6"
  }
 },
 "nbformat": 4,
 "nbformat_minor": 4
}
