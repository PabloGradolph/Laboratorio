{
 "cells": [
  {
   "cell_type": "markdown",
   "metadata": {},
   "source": [
    "# LABORATORIO 2021-22\n",
    "\n",
    "## Sesión 1: algunos ejemplos del uso de SageMath como calculadora avanzada\n"
   ]
  },
  {
   "cell_type": "markdown",
   "metadata": {},
   "source": [
    "Esto que estás viendo es el tipo de archivo (extensión *.ipynb*) que vamos a manejar todo el tiempo en esta asignatura. Como puedes observar pulsando aquí y allá con el cursor, en estos archivos la información se distribuye en fragmentos o *celdas*. Hay celdas de texto, como esta misma, que sirven para escribir indicaciones o comentarios, y celdas de código, como la siguiente, que contienen comandos y programas de SageMath, una variante del lenguaje de programación python con la que vamos a trabajar.\n",
    "Para ejecutar una celda, basta pinchar sobre ella y pulsar el icono del triángulo de la zona superior de las ventanos o, si lo prefieres (es más cómodo), pulsar simultáneamente SHIFT+ENTER. Verás que jupyter va numerando las celdas de código que se van ejecutando, así como el resultado o *output* del código ejecutado. Prueba con las dos celdas siguientes."
   ]
  },
  {
   "cell_type": "code",
   "execution_count": null,
   "metadata": {},
   "outputs": [],
   "source": [
    "1+2"
   ]
  },
  {
   "cell_type": "code",
   "execution_count": null,
   "metadata": {},
   "outputs": [],
   "source": [
    "2^5678\n",
    "\n",
    "#El símbolo ^ puede sustituirse por **. Es para las potencias.\n",
    "\n",
    "#Por cierto, que las lineas que empiezan por # en una celda de código\n",
    "#son para escribir comentarios o aclaraciones."
   ]
  },
  {
   "cell_type": "markdown",
   "metadata": {},
   "source": [
    "Durante el curso vas a aprender paulatinamente a utilizar esta herramienta de forma cada vez más sofisticada no sólo para resolver cálculos, sino también para explorar y experimentar posibles soluciones de problemas matemáticos complicados. En esta sesión sólo tienes que leer, ir ejecutando las distintas celdas, y observar los resultados."
   ]
  },
  {
   "cell_type": "markdown",
   "metadata": {},
   "source": [
    "------\n",
    "\n",
    "### Algunos ejemplos de resolución de problemas con SageMath\n",
    "\n",
    "\n",
    "En esta sesión inicial ilustraremos algunos aspectos básicos (por ahora, casi sólo capacidades gráficas y de cálculo) de esta herramienta. Como excusa, resolveremos algunos ejercicios de la prueba ordinaria de la última EVAU en Madrid."
   ]
  },
  {
   "cell_type": "markdown",
   "metadata": {},
   "source": [
    "**1) Tres hermanos quieren repartirse de forma equitativa un total de 540 acciones valoradas en 1560 euros, que corresponden a tres empresas A, B y C. Sabiendo que el valor actual en bolsa de la acción A es el triple que el de B y la mitad que el de C, que el número de acciones de C es la mitad que el de B y que el actual valor en bolsa de la acción B es 1 euro, encuentre el número de cada tipo de acción que le corresponde a cada hermano.**"
   ]
  },
  {
   "cell_type": "markdown",
   "metadata": {},
   "source": [
    "Una posible forma de resolverlo, una vez que hemos interpretado el enunciado y nos hemos damos cuenta de que lo que se pregunta es por la solución de un sistema de tres ecuaciones (proceso que requiere de **bolígrafo y papel**), es la siguiente:"
   ]
  },
  {
   "cell_type": "code",
   "execution_count": null,
   "metadata": {},
   "outputs": [],
   "source": [
    "var('A B C') #Esto le dice a SageMath que entienda esas tres letras como nombres de variables\n",
    "\n",
    "solve([A+B+C==540/3,3*A+B+6*C==1560/3,2*C==B],A,B,C)\n",
    "#solve() es uno de los muchísimos comandos que tiene SageMath, y que poco a poco irás conociendo"
   ]
  },
  {
   "cell_type": "code",
   "execution_count": null,
   "metadata": {},
   "outputs": [],
   "source": [
    "#La sintaxis tiene que ser exactamente así (lista de ecuaciones entre corchetes [], == en vez de =, etcétera)\n",
    "#SageMath incluye textos de ayuda sobre sus comandos\n",
    "solve?"
   ]
  },
  {
   "cell_type": "markdown",
   "metadata": {},
   "source": [
    "Una segunda forma de resolver el sistema en cuestión, \n",
    "$$\n",
    "\\left.\n",
    "\\begin{array}{rcl}\n",
    "A+B+C&=&\\frac{540}3\\\\\n",
    "3A+B+6C&=&\\frac{1560}3\\\\\n",
    "2C&=&B\\\\\n",
    "\\end{array}\n",
    "\\right\\}\n",
    "$$\n",
    "es escribirlo en forma matricial \n",
    "\n",
    "$$\n",
    "\\left(\n",
    "\\begin{array}{rrr}\n",
    "1 & 1 & 1 \\\\\n",
    "3 & 1 & 6 \\\\\n",
    "-1 & 2 & 0 \\\\\n",
    "\\end{array}\n",
    "\\right)\n",
    "\\left(\n",
    "\\begin{array}{r}\n",
    "A \\\\\n",
    "B \\\\\n",
    "C \\\\\n",
    "\\end{array}\n",
    "\\right)\n",
    "=\n",
    "\\left(\n",
    "\\begin{array}{r}\n",
    "\\frac{540}3\\\\\n",
    "\\frac{1560}3\\\\\n",
    "0 \\\\\n",
    "\\end{array}\n",
    "\\right)\n",
    "$$\n",
    "y operar con las matrices."
   ]
  },
  {
   "cell_type": "code",
   "execution_count": null,
   "metadata": {},
   "outputs": [],
   "source": [
    "M=Matrix([[1,1,1],[3,1,6],[0,-1,2]]) #Matrix es un comando para introducir una matriz. \n",
    "#Le asignamos el nombre que queremos (en este caso, M)\n",
    "V=Matrix(3,1,[540/3,1560/3,0])\n",
    "#En esta forma de usar Matrix los dos primeros números indican las dimensiones\n",
    "#Consulta el texto de ayuda de Matrix!!!\n",
    "\n",
    "show(M)\n",
    "show(V)\n",
    "#El comando show muestra por pantalla las cosas de modo visualmente \"agradable\""
   ]
  },
  {
   "cell_type": "code",
   "execution_count": null,
   "metadata": {},
   "outputs": [],
   "source": [
    "(M^(-1))*V #El cálculo que da la respuesta buscada"
   ]
  },
  {
   "cell_type": "code",
   "execution_count": null,
   "metadata": {},
   "outputs": [],
   "source": [
    "#O por ejemplo\n",
    "solucion=(M^(-1))*V #decido darle un nombre (he elegido \"solucion\") para enseñar la respuesta con show\n",
    "show(solucion)"
   ]
  },
  {
   "cell_type": "code",
   "execution_count": null,
   "metadata": {},
   "outputs": [],
   "source": [
    "#En SageMath y en otros lenguajes en vez de (M^(-1))*V se puede hacer esto\n",
    "M\\V"
   ]
  },
  {
   "cell_type": "markdown",
   "metadata": {},
   "source": [
    "---------\n",
    "\n",
    "**2) Calcule el área de la región delimitada por las gráficas de las funciones**\n",
    "\n",
    "$$\n",
    "f(x)=2+x-x^2, \\quad g(x)=2x^2-4x.\n",
    "$$"
   ]
  },
  {
   "cell_type": "markdown",
   "metadata": {},
   "source": [
    "Primero tenemos que encontrar los puntos de corte de las dos gráficas:"
   ]
  },
  {
   "cell_type": "code",
   "execution_count": null,
   "metadata": {},
   "outputs": [],
   "source": [
    "f(x)=2+x-x^2\n",
    "g(x)=2*x^2 -4*x\n",
    "solve(f-g==0, x)\n",
    "#Observa que, a diferencia del ejercicio anterior, no he necesitado decir que x es el nombre de una variable.\n",
    "#SageMath entiende por defecto que x es una variable. \n",
    "#Si quieres usar otras, tienes que \"declarárselas\" a SageMath como hicimos antes con A,B,C."
   ]
  },
  {
   "cell_type": "markdown",
   "metadata": {},
   "source": [
    "Para ver qué función está por encima podemos dibujar las gráficas:"
   ]
  },
  {
   "cell_type": "code",
   "execution_count": null,
   "metadata": {},
   "outputs": [],
   "source": [
    "plot(f,x,-1,2.5,color='red')+plot(g,x,-1,2.5,color='blue')\n",
    "#plot es otro comando interesante con multitud de opciones (aquí hemos usado una: el color)\n",
    "#en el texto de ayuda de plot puedes ver muchas más"
   ]
  },
  {
   "cell_type": "code",
   "execution_count": null,
   "metadata": {},
   "outputs": [],
   "source": [
    "#la integral que calcula el área buscada\n",
    "integrate(f-g,x,-1/3,2)"
   ]
  },
  {
   "cell_type": "markdown",
   "metadata": {},
   "source": [
    "---------\n",
    "\n",
    "**3) Se considera el siguiente sistema de ecuaciones dependientes del parámetro real $a$:**\n",
    "\n",
    "$$\n",
    "\\left. \n",
    "\\begin{array}{r}\n",
    "ax-2y+(a-1)z=4\\\\\n",
    "-2x+3y-6z=2\\\\\n",
    "-ax+y-6z=6\n",
    "\\end{array}\n",
    "\\right\\}\n",
    "$$\n",
    "\n",
    "**a) Discuta el sistema según los diferentes valores de $a$.**\n",
    "\n",
    "**b) Resuelva el sistema para $a=1$.**"
   ]
  },
  {
   "cell_type": "code",
   "execution_count": null,
   "metadata": {},
   "outputs": [],
   "source": [
    "reset()\n",
    "#Esta instrucción borra todo lo que haya en la memoria hasta el momento.\n",
    "#Suele ser bueno hacerlo cuando se ha terminado algo y se quiere pasar a otra cosa que no necesita lo anterior."
   ]
  },
  {
   "cell_type": "markdown",
   "metadata": {},
   "source": [
    "a) Vamos a argumentar según sean los rangos de la matriz $A$ de coeficientes del sistema y de la matriz *ampliada*:"
   ]
  },
  {
   "cell_type": "code",
   "execution_count": null,
   "metadata": {},
   "outputs": [],
   "source": [
    "var('a') #Recuerda que tenemos que declarar que a es una variable\n",
    "A=matrix(3,[a,-2,a-1,-2,3,-6,-a,1,-6])\n",
    "Aamp=matrix([[a,-2,a-1,4],[-2,3,-6,2],[-a,1,-6,6]])\n",
    "show(A)\n",
    "show(Aamp)"
   ]
  },
  {
   "cell_type": "code",
   "execution_count": null,
   "metadata": {},
   "outputs": [],
   "source": [
    "solve(det(A)==0, a)"
   ]
  },
  {
   "cell_type": "markdown",
   "metadata": {},
   "source": [
    "Si $a$ no toma ninguno de los valores $1$ ó $\\frac{26}{3}$ el rango de $A$ es máximo y coincide con el número de variables, así que el sistema es compatible determinado. Para cada uno de esos dos valores, calculamos el rango de la matriz que resulta de sustituir $a$ por el correspondiente valor:"
   ]
  },
  {
   "cell_type": "code",
   "execution_count": null,
   "metadata": {},
   "outputs": [],
   "source": [
    "rank(A.subs(a=1)), rank(Aamp.subs(a=1))"
   ]
  },
  {
   "cell_type": "markdown",
   "metadata": {},
   "source": [
    "Así que cuando $a=1$ el sistema es compatible indeterminado, y el conjunto de soluciones depende de un parámetro."
   ]
  },
  {
   "cell_type": "code",
   "execution_count": null,
   "metadata": {},
   "outputs": [],
   "source": [
    "rank(A.subs(a=26/3)), rank(Aamp.subs(a=26/3))"
   ]
  },
  {
   "cell_type": "markdown",
   "metadata": {},
   "source": [
    "Así que cuando $a=\\frac{26}{3}$ el sistema es incompatible."
   ]
  },
  {
   "cell_type": "markdown",
   "metadata": {},
   "source": [
    "b) Para resolver el sistema que resulta en el caso $a=1$:"
   ]
  },
  {
   "cell_type": "code",
   "execution_count": null,
   "metadata": {},
   "outputs": [],
   "source": [
    "var('x y z')\n",
    "solve([x-2*y==4, -2*x+3*y-6*z==2, -x+y-6*z==6],x,y,z)"
   ]
  },
  {
   "cell_type": "markdown",
   "metadata": {},
   "source": [
    "(observa que $\\texttt{solve}$ da TODAS las soluciones, dependiendo de un parámetro)"
   ]
  },
  {
   "cell_type": "code",
   "execution_count": null,
   "metadata": {},
   "outputs": [],
   "source": [
    "#OJO: si hacemos esto...\n",
    "A1=A.subs(a=1)\n",
    "#..., que es similar a lo último que hicimos en el otro ejercicio, SageMath da solo una solución\n",
    "V=Matrix(3,1,[4,2,6])\n",
    "A1\\V"
   ]
  },
  {
   "cell_type": "markdown",
   "metadata": {},
   "source": [
    "-------\n",
    "\n",
    "**4) Se considera la función**\n",
    "\n",
    "$$\n",
    "f(x)= \n",
    "\\left\\{ \n",
    "\\begin{array}{lr}\n",
    "\\mathrm{sen} \\ x & \\mbox{ si } x<0\\\\\n",
    "xe^x & \\mbox{ si } x\\ge0\n",
    "\\end{array}\n",
    "\\right.\n",
    "$$\n",
    "\n",
    "**a) Estudie la continuidad y la derivabilidad de $f$ en $x=0$.**\n",
    "\n",
    "**b) Estudie los intervalos de crecimiento y decrecimiento de $f$ restringida a $(-\\pi, 2)$. Demuestre que existe un punto $x_0\\in [0,1]$ de manera que $f(x_0)=2$.**\n",
    "\n",
    "**c) Calcule $\\int_{-\\pi/2}^1 f(x)dx$.**"
   ]
  },
  {
   "cell_type": "code",
   "execution_count": null,
   "metadata": {},
   "outputs": [],
   "source": [
    "#a)\n",
    "f1(x)=sin(x)\n",
    "f2(x)=x*exp(x)\n",
    "\n",
    "plot(f1,x,-1,0,color='red')+plot(f2,x,0,1,color='blue')\n",
    "#Pintamos ambas funciones para echar un vistazo"
   ]
  },
  {
   "cell_type": "code",
   "execution_count": null,
   "metadata": {},
   "outputs": [],
   "source": [
    "#Aunque para definir una función dada a trozos SageMath tiene este comando \n",
    "f = piecewise([((-pi,0), f1), ([0,2], f2)])\n",
    "fig=plot(f, x, -pi, 2)\n",
    "fig"
   ]
  },
  {
   "cell_type": "markdown",
   "metadata": {},
   "source": [
    "A ojo ya se ve que f es continua en $x=0$, y parece que derivable. Para comprobarlo hay que calcular los correspondientes límites laterales "
   ]
  },
  {
   "cell_type": "code",
   "execution_count": null,
   "metadata": {},
   "outputs": [],
   "source": [
    "limit(f1, x = 0, dir='-'), limit(f2, x = 0, dir='+'), f2(0)\n",
    "#limit es el comando para límites. dir indica si se quiere por la derecha o por la izquierda "
   ]
  },
  {
   "cell_type": "markdown",
   "metadata": {},
   "source": [
    "Ambos límites laterales coinciden con el valor de la función en $x=0$, así que $f$ es continua. Para ver si es derivable en $x=0$, calculo el famoso límite (por ambos lados) del cociente incremental, es decir\n",
    "$$\n",
    "\\lim_{h\\to 0^{\\pm}} \\frac{f(h)-f(0)}{h}\n",
    "$$"
   ]
  },
  {
   "cell_type": "code",
   "execution_count": null,
   "metadata": {},
   "outputs": [],
   "source": [
    "var('h')\n",
    "limit(f1(h)/h, h = 0, dir='-'), limit(f2(h)/h, h = 0, dir='+')"
   ]
  },
  {
   "cell_type": "markdown",
   "metadata": {},
   "source": [
    "Así que $f$ es derivable en $x=0$ y la derivada en $0$ vale $f'(0)=1$."
   ]
  },
  {
   "cell_type": "markdown",
   "metadata": {},
   "source": [
    "b) Para calcular intervalos de crecimiento y decrecimiento necesito la derivada"
   ]
  },
  {
   "cell_type": "code",
   "execution_count": null,
   "metadata": {},
   "outputs": [],
   "source": [
    "f1p=diff(f1,x) #diff es un comando para derivar\n",
    "f2p=diff(f2,x) #En realidad esta no hace falta, a la vista del plot que hemos visto \n",
    "#(f es creciente en el tramo en el que está definida por f2)\n",
    "print(f1p, f2p)"
   ]
  },
  {
   "cell_type": "code",
   "execution_count": null,
   "metadata": {},
   "outputs": [],
   "source": [
    "#Intento ver dónde se anula la derivada de f1:\n",
    "solve(f1p(x)==0,x)"
   ]
  },
  {
   "cell_type": "code",
   "execution_count": null,
   "metadata": {},
   "outputs": [],
   "source": [
    "#Pero eso es absurdo, porque el punto que busco está entre -pi y 0.\n",
    "#El problema es que, como dijimos arriba, solve te da solemente una solución si es que hay infinitas\n",
    "\n",
    "#Sin embargo, otro comando interesante que se puede usar para encontrar soluciones es este:\n",
    "find_root(f1p(x)==0,  -pi, 0)\n",
    "#Una diferencia importante es que \"solve\" es algo así como \"despejar\", y no siempre se puede"
   ]
  },
  {
   "cell_type": "code",
   "execution_count": null,
   "metadata": {},
   "outputs": [],
   "source": [
    "#En realidad, ese valor no es más que -pi/2\n",
    "N(-pi/2)\n",
    "#El comando N() sirve para investigar el valor numérico de expresiones que SageMath da algebraicamente"
   ]
  },
  {
   "cell_type": "markdown",
   "metadata": {},
   "source": [
    "Así que $f$ es decreciente desde $x=-\\pi$ hasta $x=-\\frac{\\pi}{2}$, y creciente desde $x=-\\frac{\\pi}{2}$ hasta $x=2$."
   ]
  },
  {
   "cell_type": "markdown",
   "metadata": {},
   "source": [
    "Ahora, para demostrar que $f(x)$ vale $2$ para algún valor $x\\in (0,1)$ basta evaluar $f$ en $x=0$ y en $x=1$ e invocar el Teorema de los valores intermedios: "
   ]
  },
  {
   "cell_type": "code",
   "execution_count": null,
   "metadata": {},
   "outputs": [],
   "source": [
    "f(0), N(f(1))"
   ]
  },
  {
   "cell_type": "code",
   "execution_count": null,
   "metadata": {},
   "outputs": [],
   "source": [
    "#No lo, preguntan, pero... ¿y si quisiera saber qué punto es?\n",
    "#Intento con solve\n",
    "solve([f2==2],x)"
   ]
  },
  {
   "cell_type": "code",
   "execution_count": null,
   "metadata": {},
   "outputs": [],
   "source": [
    "#Esta respuesta, un poco absurda, es literalmente \"un x tal que x coincida con 2*e^(-x)\", \n",
    "#pero no me dice qué x es\n",
    "\n",
    "#Como dijimos antes, \"solve\" quiere decir \"despeja\", y aquí no se puede. Sin embargo...\n",
    "\n",
    "find_root(f2==2, 0, 2)"
   ]
  },
  {
   "cell_type": "markdown",
   "metadata": {},
   "source": [
    "c) Por último, la integral:"
   ]
  },
  {
   "cell_type": "code",
   "execution_count": null,
   "metadata": {},
   "outputs": [],
   "source": [
    "integrate(f1(x), x, -pi/2, 0)+integrate(f2(x),x, 0, 1)"
   ]
  },
  {
   "cell_type": "code",
   "execution_count": null,
   "metadata": {},
   "outputs": [],
   "source": []
  }
 ],
 "metadata": {
  "kernelspec": {
   "display_name": "SageMath 9.0",
   "language": "sage",
   "name": "sagemath"
  },
  "language_info": {
   "codemirror_mode": {
    "name": "ipython",
    "version": 3
   },
   "file_extension": ".py",
   "mimetype": "text/x-python",
   "name": "python",
   "nbconvert_exporter": "python",
   "pygments_lexer": "ipython3",
   "version": "3.7.6"
  }
 },
 "nbformat": 4,
 "nbformat_minor": 5
}
