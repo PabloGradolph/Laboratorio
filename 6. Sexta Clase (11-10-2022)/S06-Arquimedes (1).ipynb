{
 "cells": [
  {
   "cell_type": "markdown",
   "metadata": {},
   "source": [
    "## Arquímedes aproxima $\\pi$\n",
    "\n",
    "De la lectura previa a esta sesión vemos una manera de aproximar el número trascendente $\\pi$ utilizando perímetros de polígonos regulares inscritos y circunscritos a una circunferencia unidad. Concretamente, se tiene\n",
    "$$ 2n\\,\\mathrm{sen}(\\pi/n) < 2\\pi < 2n\\tan(\\pi/n)$$\n",
    "donde $2\\mathrm{sen}(\\pi/n)$ es el lado del polígono regular de $n$ lados inscrito en la circunferencia unidad, y $2\\tan(\\pi/n)$ el del polígono regular de $n$ lados circunscrito. En particular, los semiperímetros, $n\\,\\mathrm{sen}(\\pi/n)$ del inscrito, y $n\\tan(\\pi/n)$ del circunscrito, encierran el valor $\\pi$: $n\\,\\mathrm{sen}(\\pi/n)<\\pi<n\\tan(\\pi/n)$. Por otra parte es claro que al duplicar el número de lados de un polígono regular como se describe en las figuras de la lectura, la parte izquierda de la desigualdad crece, la derecha decrece, y $\\pi$ sigue estando encerrado por estos valores:\n",
    "$$\\begin{array}{ccc} n\\,\\mathrm{sen}(\\pi/n)&<\\,\\pi\\,<&n\\tan(\\pi/n)\\\\\n",
    "2n\\,\\mathrm{sen}(\\pi/(2n))&<\\,\\pi\\,<&2n\\tan(\\pi/(2n))\\\\ \n",
    "\\vdots & \\vdots& \\vdots\\\\\n",
    "2^kn\\,\\mathrm{sen}(\\pi/(2^kn))&<\\,\\pi\\,<&2^kn\\tan(\\pi/(2^kn))\\\\ \n",
    "\\vdots & \\vdots& \\vdots\\end{array}$$\n",
    "donde los números de la columna izquierda crecen y los de la derecha decrecen.\n",
    "De otra manera:\n",
    "$$\\small\n",
    "n\\,\\mathrm{sen}(\\pi/n)<2n\\,\\mathrm{sen}(\\pi/(2n))<\\dots<2^kn\\,\\mathrm{sen}(\\pi/(2^kn))<\\dots<\\pi<\\dots<2^kn\\tan(\\pi/(2^kn))<\\dots<2n\\tan(\\pi/(2n))<n\\tan(\\pi/n).$$\n",
    "En la lectura se muestra un algoritmo claro para, a partir de una primera acotación sencilla, y duplicando el número de lados en cada paso, averiguar la siguiente acotación sin utilizar explícitamente las funciones trigonométricas."
   ]
  },
  {
   "cell_type": "markdown",
   "metadata": {},
   "source": [
    "----------\n",
    "**Ejercicio 1.-** Implementa en SageMath el algoritmo de Arquímedes **partiendo de los hexágonos** para aproximar $\\pi$, calculando hasta que la diferencia entre los semiperímetros de los polígonos circunscrito e incrito del mismo número de lados sea menor que $10^{-n_0}$ para un cierto $n_0$ fijado _a priori_, partiendo de hexágonos."
   ]
  },
  {
   "cell_type": "code",
   "execution_count": 1,
   "metadata": {},
   "outputs": [
    {
     "data": {
      "text/plain": [
       "(3.14159264503369, 3.14159267070200)"
      ]
     },
     "execution_count": 1,
     "metadata": {},
     "output_type": "execute_result"
    }
   ],
   "source": [
    "def SISC_sig(si,sc): #esta función calcula los siguientes valores de SI y SC.\n",
    "    sc = 1/(1/si + 1/sc)\n",
    "    si = sqrt(si*sc/2)\n",
    "    return si,sc\n",
    "\n",
    "def arquimedes_pi_6(error):\n",
    "    si = 1/2\n",
    "    sc = 1/sqrt(3).n()\n",
    "    k = 0 #número de subdivisiones.\n",
    "    upper_aprox = 2*6*sc\n",
    "    lower_aprox = 2*6*si\n",
    "    while upper_aprox - lower_aprox > 10^(-error):\n",
    "        si,sc = SISC_sig(si,sc)\n",
    "        k = k + 1\n",
    "        lower_aprox = 2*(6*2^k)*si\n",
    "        upper_aprox = 2*(6*2^k)*sc\n",
    "    return lower_aprox/2, upper_aprox/2\n",
    "    \n",
    "arquimedes_pi_6(7)  "
   ]
  },
  {
   "cell_type": "code",
   "execution_count": null,
   "metadata": {},
   "outputs": [],
   "source": []
  },
  {
   "cell_type": "markdown",
   "metadata": {},
   "source": [
    "--------\n",
    "**Ejercicio 2 (optativo).-** El algoritmo que estamos trabajando involucra el cálculo de raíces cuadradas. Ya hemos visto un algoritmo para su cálculo, el método de Herón. Utilízalo para mejorar la función del ejercicio anterior, pidiendo que la tolerancia en el algoritmo de la raíz cuadrada sea, por ejemplo, la milésima parte de la que se pide para acabar el de Arquímedes."
   ]
  },
  {
   "cell_type": "code",
   "execution_count": 2,
   "metadata": {},
   "outputs": [
    {
     "ename": "SyntaxError",
     "evalue": "invalid syntax (<ipython-input-2-5872101368fe>, line 20)",
     "output_type": "error",
     "traceback": [
      "\u001b[0;36m  File \u001b[0;32m\"<ipython-input-2-5872101368fe>\"\u001b[0;36m, line \u001b[0;32m20\u001b[0m\n\u001b[0;31m    k = k + Integer(1)\u001b[0m\n\u001b[0m    ^\u001b[0m\n\u001b[0;31mSyntaxError\u001b[0m\u001b[0;31m:\u001b[0m invalid syntax\n"
     ]
    }
   ],
   "source": [
    "def heron(a,tol):\n",
    "    t = a.n()\n",
    "    while abs(t^2-a)>=t*tol:\n",
    "        t = (t + a/t)/2\n",
    "    return t\n",
    "\n",
    "def SISC_sig_heron(si,sc,tol):\n",
    "    sc = 1/(1/si + 1/sc)\n",
    "    si = heron(si*sc/2,tol)\n",
    "    return si,sc\n",
    "\n",
    "def arquimedes_pi_6_heron(error):\n",
    "    si = 1/2\n",
    "    sc = 1/heron(3,10^(-error-3))\n",
    "    k = 0 #número de subdivisiones.\n",
    "    upper_aprox = 2*6*sc\n",
    "    lower_aprox = 2*6*si\n",
    "    while upper_aprox - lower_aprox > 10^(-error):\n",
    "        si,sc = SISC_sig_heron(si,sc,10^(-error-3)\n",
    "        k = k + 1\n",
    "        lower_aprox = 2*(6*2^k)*si\n",
    "        upper_aprox = 2*(6*2^k)*sc\n",
    "    return lower_aprox/2, upper_aprox/2,k\n",
    "    \n",
    "arquimedes_pi_6_heron(6) "
   ]
  },
  {
   "cell_type": "code",
   "execution_count": null,
   "metadata": {},
   "outputs": [],
   "source": []
  }
 ],
 "metadata": {
  "kernelspec": {
   "display_name": "SageMath 9.0",
   "language": "sage",
   "name": "sagemath"
  },
  "language_info": {
   "codemirror_mode": {
    "name": "ipython",
    "version": 3
   },
   "file_extension": ".py",
   "mimetype": "text/x-python",
   "name": "python",
   "nbconvert_exporter": "python",
   "pygments_lexer": "ipython3",
   "version": "3.7.6"
  }
 },
 "nbformat": 4,
 "nbformat_minor": 4
}
