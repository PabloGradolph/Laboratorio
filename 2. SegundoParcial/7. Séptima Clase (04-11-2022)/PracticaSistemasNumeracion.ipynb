{
 "cells": [
  {
   "cell_type": "markdown",
   "metadata": {},
   "source": [
    "____________\n",
    "\n",
    "**Ejercicio 1.-** Quizás hayas visto en tu asignatura de Conjuntos y Números el siguiente criterio para averiguar cuándo empieza, de existir, el periodo de la representación de un número fraccionario en una cierta base: *la primera vez que el denominador de una de las fracciones que aparecen en el algoritmo del cálculo de los dígitos se hace coprimo con la base*.\n",
    "\n",
    "Modifica el algoritmo *DigitosF* programado en la Sesión 7 usando este criterio para detectar el comienzo  del periodo."
   ]
  },
  {
   "cell_type": "code",
   "execution_count": null,
   "metadata": {},
   "outputs": [],
   "source": []
  },
  {
   "cell_type": "markdown",
   "metadata": {},
   "source": [
    "____________\n",
    "\n",
    "**Ejercicio 2.-** Encontrar todos los naturales de entre $7$ y $10$ cifras decimales que sean capicúas en bases $3$ y $5$.\n",
    "\n",
    "*Sugerencia:* Recuerda el método para listas *.reverse()*. Implementa un programa que devuelva la lista de capicúas de una cierta longitud en una base dada. "
   ]
  },
  {
   "cell_type": "code",
   "execution_count": null,
   "metadata": {},
   "outputs": [],
   "source": []
  }
 ],
 "metadata": {
  "kernelspec": {
   "display_name": "SageMath 9.0",
   "language": "sage",
   "name": "sagemath"
  },
  "language_info": {
   "codemirror_mode": {
    "name": "ipython",
    "version": 3
   },
   "file_extension": ".py",
   "mimetype": "text/x-python",
   "name": "python",
   "nbconvert_exporter": "python",
   "pygments_lexer": "ipython3",
   "version": "3.7.6"
  }
 },
 "nbformat": 4,
 "nbformat_minor": 5
}
