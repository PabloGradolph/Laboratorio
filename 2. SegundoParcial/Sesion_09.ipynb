{
 "cells": [
  {
   "cell_type": "markdown",
   "metadata": {},
   "source": [
    "# Laboratorio 2022-23\n",
    "\n",
    "## Sesión 9: Fracciones continuas"
   ]
  },
  {
   "cell_type": "markdown",
   "metadata": {},
   "source": [
    "____________\n",
    "\n",
    "**Ejercicio 1.-** Escribe una función que tome como argumento una lista $[a_0,\\ldots, a_k]$ de números enteros y devuelva el número racional descrito por la fracción continua \n",
    "$[a_0; a_1, \\ldots, a_k]$."
   ]
  },
  {
   "cell_type": "code",
   "execution_count": 13,
   "metadata": {},
   "outputs": [
    {
     "data": {
      "text/html": [
       "<html><script type=\"math/tex; mode=display\">\\newcommand{\\Bold}[1]{\\mathbf{#1}}-\\frac{410}{37}</script></html>"
      ],
      "text/plain": [
       "-410/37"
      ]
     },
     "metadata": {},
     "output_type": "display_data"
    }
   ],
   "source": [
    "# Función que devuelve el número racional descrito por la fracción continua pasada como argumento en forma de lista.\n",
    "def calculo_racional(lista):\n",
    "    resultado = lista.pop(-1)\n",
    "    lista.reverse()\n",
    "    for i in lista:\n",
    "        resultado = i + 1/resultado\n",
    "    return resultado\n",
    "\n",
    "# Cambiar el valor de la lista para representar otro número racional.\n",
    "lista = [-12, 1, 11, 3]\n",
    "show(calculo_racional(lista))"
   ]
  },
  {
   "cell_type": "markdown",
   "metadata": {},
   "source": [
    "____________\n",
    "\n",
    "**Ejercicio 2.-** Escribe un código que, dados un número real $r$ y un número $k$ de pasos, halle los coeficientes $[a_0;a_1, \\ldots , a_k]$ de la fracción continua de $r$."
   ]
  },
  {
   "cell_type": "code",
   "execution_count": 15,
   "metadata": {},
   "outputs": [
    {
     "name": "stdin",
     "output_type": "stream",
     "text": [
      "Introduzca un número real:  3.14159265358979\n",
      "Introduzca el número de coeficientes de la fracción continua que desea calcular:  8\n"
     ]
    },
    {
     "name": "stdout",
     "output_type": "stream",
     "text": [
      "\n"
     ]
    },
    {
     "data": {
      "text/html": [
       "<html><script type=\"math/tex; mode=display\">\\newcommand{\\Bold}[1]{\\mathbf{#1}}\\verb|Los|\\phantom{\\verb!x!}\\verb|coeficientes|\\phantom{\\verb!x!}\\verb|de|\\phantom{\\verb!x!}\\verb|la|\\phantom{\\verb!x!}\\verb|fracción|\\phantom{\\verb!x!}\\verb|continua|\\phantom{\\verb!x!}\\verb|de|\\phantom{\\verb!x!}\\verb|3.14159265358979|\\phantom{\\verb!x!}\\verb|son:|</script></html>"
      ],
      "text/plain": [
       "'Los coeficientes de la fracción continua de 3.14159265358979 son:'"
      ]
     },
     "metadata": {},
     "output_type": "display_data"
    },
    {
     "data": {
      "text/html": [
       "<html><script type=\"math/tex; mode=display\">\\newcommand{\\Bold}[1]{\\mathbf{#1}}\\left[3, 7, 15, 1, 292, 1, 1, 1\\right]</script></html>"
      ],
      "text/plain": [
       "[3, 7, 15, 1, 292, 1, 1, 1]"
      ]
     },
     "metadata": {},
     "output_type": "display_data"
    }
   ],
   "source": [
    "# Función que devuelve la lista de coeficientes de la fracción continua de un número real r para un cierto número de coeficientes k.\n",
    "# Ambos pasados como argumento.\n",
    "def coef_fc_cont_re(r, k):\n",
    "    \n",
    "    # Creamos la lista de coeficientes.\n",
    "    coeficientes = []\n",
    "    \n",
    "    # Calculamos los coeficientes que van a ir a parar a la lista hasta un cierto k.\n",
    "    for i in range(0,k):\n",
    "        entero = r.floor()\n",
    "        coeficientes.append(entero)\n",
    "        sol = 1/(r-entero)\n",
    "        r = sol\n",
    "    \n",
    "    # Retornamos la lista.\n",
    "    return coeficientes\n",
    "\n",
    "# Aquí introducimos tanto el entero como el número de coeficientes.\n",
    "# Si deseamos trabajar con reales tales como pi mejor introducirlo en el código directamente.\n",
    "# Por ejemplo con r = n(pi).\n",
    "r = RealNumber(input(\"Introduzca un número real: \"))\n",
    "k = Integer(input(\"Introduzca el número de coeficientes de la fracción continua que desea calcular: \"))\n",
    "print()\n",
    "\n",
    "# Imprimimos los resultados por pantalla.\n",
    "show(f\"Los coeficientes de la fracción continua de {r} son:\")\n",
    "show(coef_fc_cont_re(r,k))"
   ]
  },
  {
   "cell_type": "markdown",
   "metadata": {},
   "source": [
    "____________\n",
    "\n",
    "**Ejercicio 3.-** Para el caso de un racional $r = n/m$, $m>0$, realiza una variante del código\n",
    "anterior que tome el entero $n$ y el natural $m$ como datos y devuelva la lista completa de coeficientes $[a_0;a_1, \\ldots , a_k]$ hasta el fin del desarrollo."
   ]
  },
  {
   "cell_type": "code",
   "execution_count": 16,
   "metadata": {},
   "outputs": [
    {
     "name": "stdin",
     "output_type": "stream",
     "text": [
      "Introduzca el numerador del número racional:  -410\n",
      "Introduzca el denominador del número racional:  37\n"
     ]
    },
    {
     "name": "stdout",
     "output_type": "stream",
     "text": [
      "\n"
     ]
    },
    {
     "data": {
      "text/html": [
       "<html><script type=\"math/tex; mode=display\">\\newcommand{\\Bold}[1]{\\mathbf{#1}}\\verb|Los|\\phantom{\\verb!x!}\\verb|coeficientes|\\phantom{\\verb!x!}\\verb|de|\\phantom{\\verb!x!}\\verb|la|\\phantom{\\verb!x!}\\verb|fracción|\\phantom{\\verb!x!}\\verb|continua|\\phantom{\\verb!x!}\\verb|de|\\phantom{\\verb!x!}\\verb|-410/37|\\phantom{\\verb!x!}\\verb|son:|</script></html>"
      ],
      "text/plain": [
       "'Los coeficientes de la fracción continua de -410/37 son: '"
      ]
     },
     "metadata": {},
     "output_type": "display_data"
    },
    {
     "data": {
      "text/html": [
       "<html><script type=\"math/tex; mode=display\">\\newcommand{\\Bold}[1]{\\mathbf{#1}}\\left[-12, 1, 11, 3\\right]</script></html>"
      ],
      "text/plain": [
       "[-12, 1, 11, 3]"
      ]
     },
     "metadata": {},
     "output_type": "display_data"
    }
   ],
   "source": [
    "# Función que devuelve la lista completa de coeficientes hasta el fin del desarrollo de la fracción continua de un número racional.\n",
    "def coef_fc_cont_ra(n, m):\n",
    "    \n",
    "    # Creamos la lista de coeficientes.\n",
    "    coeficientes = []\n",
    "    \n",
    "    # Hacemos un bucle donde realizamos el proceso\n",
    "    while True:\n",
    "        \n",
    "        # Calculamos el cociente y lo añadimos a la lista de coeficientes.\n",
    "        cociente = n/m\n",
    "        cociente = cociente.floor()\n",
    "        coeficientes.append(cociente)\n",
    "        \n",
    "        # Calculamos el resto y cuando este sea igual a cero paramos.\n",
    "        resto = n - cociente*m\n",
    "        if resto == 0:\n",
    "            break\n",
    "        \n",
    "        # Si no es cero vamos cambiando los valores de n y m.\n",
    "        n = m\n",
    "        m = resto\n",
    "    \n",
    "    return coeficientes\n",
    "\n",
    "# Aquí introducimos el numerador entero n y el denominador natural > 0 m. \n",
    "n = Integer(input(\"Introduzca el numerador del número racional: \"))\n",
    "while True:\n",
    "    m = Integer(input(\"Introduzca el denominador del número racional: \"))\n",
    "    if m>0:\n",
    "        break\n",
    "    else:\n",
    "        print(\"El denominador debe ser mayor que cero.\")\n",
    "\n",
    "# Representamos los datos por pantalla\n",
    "print()\n",
    "show(f\"Los coeficientes de la fracción continua de {n}/{m} son: \")\n",
    "show(coef_fc_cont_ra(n,m))\n"
   ]
  },
  {
   "cell_type": "markdown",
   "metadata": {},
   "source": [
    "____________\n",
    "\n",
    "**Ejercicio 4.-**  Escribe otra función que tome los $[a_0;a_1, \\ldots , a_k]$ y produzca las fracciones\n",
    "(convergentes) $c_n = p_n/q_n$, $n = 0, \\ldots ,  k$."
   ]
  },
  {
   "cell_type": "code",
   "execution_count": 17,
   "metadata": {},
   "outputs": [
    {
     "data": {
      "text/html": [
       "<html><script type=\"math/tex; mode=display\">\\newcommand{\\Bold}[1]{\\mathbf{#1}}\\left[1, 2, \\frac{3}{2}, \\frac{5}{3}, \\frac{8}{5}, \\frac{13}{8}, \\frac{21}{13}, \\frac{34}{21}, \\frac{55}{34}\\right]</script></html>"
      ],
      "text/plain": [
       "[1, 2, 3/2, 5/3, 8/5, 13/8, 21/13, 34/21, 55/34]"
      ]
     },
     "metadata": {},
     "output_type": "display_data"
    },
    {
     "name": "stdout",
     "output_type": "stream",
     "text": [
      "\n"
     ]
    },
    {
     "data": {
      "text/html": [
       "<html><script type=\"math/tex; mode=display\">\\newcommand{\\Bold}[1]{\\mathbf{#1}}\\left[3, \\frac{22}{7}, \\frac{333}{106}, \\frac{355}{113}, \\frac{103993}{33102}, \\frac{104348}{33215}, \\frac{208341}{66317}, \\frac{312689}{99532}, \\frac{833719}{265381}, \\frac{1146408}{364913}, \\frac{4272943}{1360120}\\right]</script></html>"
      ],
      "text/plain": [
       "[3,\n",
       " 22/7,\n",
       " 333/106,\n",
       " 355/113,\n",
       " 103993/33102,\n",
       " 104348/33215,\n",
       " 208341/66317,\n",
       " 312689/99532,\n",
       " 833719/265381,\n",
       " 1146408/364913,\n",
       " 4272943/1360120]"
      ]
     },
     "metadata": {},
     "output_type": "display_data"
    }
   ],
   "source": [
    "# Función que toma los coeficientes y produce las fracciones convergentes.\n",
    "def fracciones_convergentes(lista):\n",
    "    \n",
    "    # Creamos la lista de fracciones y las de pn y qn\n",
    "    fracciones = []\n",
    "    pn_list = []\n",
    "    qn_list = []\n",
    "    \n",
    "    # Primeros valores:\n",
    "    p0 = lista[0]\n",
    "    q0 = 1\n",
    "    p1 = lista[0]*lista[1] + 1\n",
    "    q1 = lista[1]\n",
    "    pn_list.append(p0)\n",
    "    pn_list.append(p1)\n",
    "    qn_list.append(q0)\n",
    "    qn_list.append(q1)\n",
    "    \n",
    "    # Hacemos un bucle que recorra la lista de coeficientes (para sus posiciones).\n",
    "    # De esta forma conseguiremos los siguientes valores.\n",
    "    for i in range(2, len(lista)):\n",
    "        pn = lista[i]*pn_list[i-1] + pn_list[i-2]\n",
    "        qn = lista[i]*qn_list[i-1] + qn_list[i-2]\n",
    "        pn_list.append(pn)\n",
    "        qn_list.append(qn)\n",
    "    \n",
    "    # Guardamos los valores de las listas pn y qn en la lista fracciones.\n",
    "    for i in range(0, len(lista)):\n",
    "        fracciones.append(pn_list[i]/qn_list[i])\n",
    "    \n",
    "    # Retornamos la lista fracciones.\n",
    "    return fracciones\n",
    "\n",
    "# Imprimimos los resultados por pantalla.\n",
    "# Converge a la razón áurea.\n",
    "lista_coeficientes = [1, 1, 1, 1, 1, 1, 1, 1, 1]\n",
    "show(fracciones_convergentes(lista_coeficientes))\n",
    "\n",
    "print()\n",
    "# Esta converge a pi.\n",
    "lista_coeficientes = [3, 7, 15, 1, 292, 1, 1, 1, 2, 1, 3]\n",
    "show(fracciones_convergentes(lista_coeficientes))\n"
   ]
  },
  {
   "cell_type": "markdown",
   "metadata": {},
   "source": [
    "____________\n",
    "\n",
    "**Ejercicio 5.-** Escribe una función que tome un número real $r$ y una tolerancia $\\texttt{tol}$, y devuelva una fracción que aproxime $r$ con un error  con valor absoluto menor que $\\texttt{tol}$."
   ]
  },
  {
   "cell_type": "code",
   "execution_count": 1,
   "metadata": {},
   "outputs": [
    {
     "data": {
      "text/html": [
       "<html><script type=\"math/tex; mode=display\">\\newcommand{\\Bold}[1]{\\mathbf{#1}}\\verb|La|\\phantom{\\verb!x!}\\verb|aproximación|\\phantom{\\verb!x!}\\verb|de|\\phantom{\\verb!x!}\\verb|la|\\phantom{\\verb!x!}\\verb|razón|\\phantom{\\verb!x!}\\verb|áurea|\\phantom{\\verb!x!}\\verb|en|\\phantom{\\verb!x!}\\verb|forma|\\phantom{\\verb!x!}\\verb|de|\\phantom{\\verb!x!}\\verb|fracción|\\phantom{\\verb!x!}\\verb|con|\\phantom{\\verb!x!}\\verb|una|\\phantom{\\verb!x!}\\verb|tolerancia|\\phantom{\\verb!x!}\\verb|1/1000|\\phantom{\\verb!x!}\\verb|es:|</script></html>"
      ],
      "text/plain": [
       "'La aproximación de la razón áurea en forma de fracción con una tolerancia 1/1000 es: '"
      ]
     },
     "metadata": {},
     "output_type": "display_data"
    },
    {
     "data": {
      "text/html": [
       "<html><script type=\"math/tex; mode=display\">\\newcommand{\\Bold}[1]{\\mathbf{#1}}\\frac{55}{34}</script></html>"
      ],
      "text/plain": [
       "55/34"
      ]
     },
     "metadata": {},
     "output_type": "display_data"
    }
   ],
   "source": [
    "# Función que devuelve una aproximación de un número real r pasado como argumento con un error menor a una tolerancia también pasada como argumento.\n",
    "def aprox_r(r, tol):\n",
    "    \n",
    "    # Creamos la lista de coeficientes, fracciones, de pn y de qn con los primeros valores.\n",
    "    fracciones = []\n",
    "    coeficientes = [floor(r)]\n",
    "    pn_list = [floor(r)]\n",
    "    qn_list = [1]\n",
    "    \n",
    "    # Calculamos el valor de la primera fracción\n",
    "    fraccion = pn_list[-1] / qn_list[-1]\n",
    "    fracciones.append(fraccion)\n",
    "    \n",
    "    # Proceso iterativo hasta que r - fracción sea menor que la tolerancia.\n",
    "    # Copiamos el valor de r que iremos modificando en el bucle.\n",
    "    r_bucle = r\n",
    "    while (r - fraccion) > tol or (r - fraccion) < -tol:\n",
    "        \n",
    "        # Calculamos el siguiente coeficiente y lo añadimos a la lista.\n",
    "        r_bucle = 1/(r_bucle - floor(r_bucle))\n",
    "        coeficiente = floor(r_bucle)\n",
    "        coeficientes.append(coeficiente)\n",
    "        \n",
    "        # Calculamos pn y qn\n",
    "        if len(coeficientes) > 2:\n",
    "            pn = coeficientes[-1]*pn_list[-1] + pn_list[-2]\n",
    "            qn = coeficientes[-1]*qn_list[-1] + qn_list[-2]\n",
    "            pn_list.append(pn)\n",
    "            qn_list.append(qn)\n",
    "        else:\n",
    "            p1 = coeficientes[0]*coeficientes[1] + 1\n",
    "            q1 = coeficientes[1]\n",
    "            pn_list.append(p1)\n",
    "            qn_list.append(q1)\n",
    "        \n",
    "        # Calculamos el valor de la nueva fracción.\n",
    "        fraccion = pn_list[-1] / qn_list[-1]\n",
    "        fracciones.append(fraccion)\n",
    "    \n",
    "    # Retornamos el último valor de la lista de fracciones cuando acabe el bucle.\n",
    "    return fracciones[-1]\n",
    "\n",
    "# Hacemos la prueba con la razón áurea y tolerancia 1/1000 (como en el cuestionario).\n",
    "# Hay veces que se produce error en el real por la función n(), en ese caso si se restaura el kernel me funciona.\n",
    "real = n((1+sqrt(5))/2)\n",
    "tol = 1/1000\n",
    "\n",
    "# Imprimimos los resultados por pantalla.\n",
    "show(f\"La aproximación de la razón áurea en forma de fracción con una tolerancia {tol} es: \")\n",
    "show(aprox_r(real,tol))"
   ]
  }
 ],
 "metadata": {
  "kernelspec": {
   "display_name": "SageMath 9.0",
   "language": "sage",
   "name": "sagemath"
  },
  "language_info": {
   "codemirror_mode": {
    "name": "ipython",
    "version": 3
   },
   "file_extension": ".py",
   "mimetype": "text/x-python",
   "name": "python",
   "nbconvert_exporter": "python",
   "pygments_lexer": "ipython3",
   "version": "3.7.6"
  }
 },
 "nbformat": 4,
 "nbformat_minor": 5
}
