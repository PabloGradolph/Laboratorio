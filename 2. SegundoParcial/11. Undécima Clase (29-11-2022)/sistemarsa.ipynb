{
 "cells": [
  {
   "cell_type": "markdown",
   "metadata": {},
   "source": [
    "# Sesión 11: Implementación del sistema RSA\n",
    "\n",
    "A continuación se muestra:\n",
    "\n",
    "> Un programa ```RSA_claves``` que calcula las claves pública y privada. El input del programa debe ser el número de cifras de los primos que se van a usar.\n",
    "\n",
    "> Otro programa ```codificado``` que codifique el mensaje usando la clave pública $(N,e)$.\n",
    "\n",
    "> Otro programa ```descodificado```que descodifique el mensaje codificado $c$ usando la clave privada $(N,f)$.\n",
    "\n",
    "Para ello pueden ser útiles las siguientes funciones de sagemath:\n",
    "\n",
    "```secrets.randbelow(n)``` Devuelve un número aleatorio menor que $n$.\n",
    "\n",
    "```is_prime(n)``` Devuelve True o False dependiendo de si $n$ es primo o no.\n",
    "\n",
    "```gcd(a,b)``` Devuelve el máximo común divisor de $a$ y $b$.\n",
    "\n",
    "```lcm(a,b)``` Devuelve el mínimo común múltiplo de $a$ y $b$.\n",
    "\n",
    "```ord(m)``` Convierte un caracter en un número siguiendo el sistema ASCII\n",
    "\n",
    "```chr(n)``` Convierte un número en un caracter siguiendo el sistema ASCII\n",
    "\n",
    "```IntegerModRing(m)``` El anillo de los enteros módulo $m$.\n",
    "\n",
    "```m.digits()``` Fabrica una lista con los dígitos de un número natural $m$.\n",
    "\n",
    "\n",
    "En la práctica, el receptor del mensaje fabricaría las claves con el programa ```RSA_claves``` y enviaría la clave pública al emisor. Este usaría el programa ```codificado``` para codificar el mensaje y enviaría este mensaje codificado $c$ al receptor, que lo descodificaría usando el programa ```descodificado```\n",
    "\n",
    "Para usar los módulos ```secrets``` e ```integer_mod``` hay que ejecutar la siguiente celda, donde se da algunos ejemplos de cálculo de una potencia en los enteros modulares.\n",
    "\n",
    "\n",
    "\n",
    "\n",
    "\n"
   ]
  },
  {
   "cell_type": "code",
   "execution_count": 1,
   "metadata": {},
   "outputs": [
    {
     "name": "stdout",
     "output_type": "stream",
     "text": [
      "10\n",
      "1\n",
      "10\n"
     ]
    },
    {
     "data": {
      "text/plain": [
       "True"
      ]
     },
     "execution_count": 1,
     "metadata": {},
     "output_type": "execute_result"
    }
   ],
   "source": [
    "# EJEMPLO DE USO DE LAS LIBRERÍAS\n",
    "from sage.rings.finite_rings.integer_mod import IntegerMod\n",
    "import secrets\n",
    "\n",
    "# La función random no produce números suficientemente aleatorios. \n",
    "# Por esta razón utilizaremos secrets.randbelow(n).\n",
    "\n",
    "# Voy a calcular 4^5 mod 13 y 4^12 mod 13\n",
    "R = IntegerModRing(13)\n",
    "print(R(4)^5)\n",
    "print(R(4)^12)\n",
    "m = R(4)\n",
    "print(m^5)\n",
    "R(4) == R(17)"
   ]
  },
  {
   "cell_type": "code",
   "execution_count": 25,
   "metadata": {},
   "outputs": [
    {
     "name": "stdout",
     "output_type": "stream",
     "text": [
      "La clave pública es: [2711381459996342213385954210945290095881149844971867313628959752495034850950642479058425223806325433262907726014644639617904301952294092940561888954063913304179572093154252094604945483336222647256488363553585388590874264605153243699013544681343415607072895061175858886494125804970870678702820750159002293623159764250265442927828046266146229531275326949395523870247553660111363353192826043121596816943768663892838815865293614011849158578469175027237366340864471746539898006624017233913947547588210297080089000366124366881217323372316235261092165437330946542780685400546419409482050380836626982662508365625275295480602416612309498201377151795307647895668087800233600779264797850654176417198207684474903, 23660644071877556987074085019351082650948041518565174133046887186152635305279498667102065770933420597539503193892702751482633527842299488822552993192509303882765806734538663095314353371003551148111921998861044207487810386054077295657753021257167711650100437230240565963822756211814503079140427599889388581112068463035746651683186415108429058635437341]\n",
      "La clave privada es: [2711381459996342213385954210945290095881149844971867313628959752495034850950642479058425223806325433262907726014644639617904301952294092940561888954063913304179572093154252094604945483336222647256488363553585388590874264605153243699013544681343415607072895061175858886494125804970870678702820750159002293623159764250265442927828046266146229531275326949395523870247553660111363353192826043121596816943768663892838815865293614011849158578469175027237366340864471746539898006624017233913947547588210297080089000366124366881217323372316235261092165437330946542780685400546419409482050380836626982662508365625275295480602416612309498201377151795307647895668087800233600779264797850654176417198207684474903, -71290631677156554177121631037426492038691320280896013677718160237112426957787241900100224491220789681195355429834823078284530639727476194373064208923831468835627087369485098847711740276260906929999946950971812287050739464006642255749283358438236183659331971866975826635345153107612574618886300769885960004527973403638884678909500057567950259581905412143110433486617907707226034740526102962280470694361469508732206647401604074507085789679686087350580714594593041903360580115338399145467713708379936586976722799610096320060558076065437364730945393981507680390328045838819114200369554740339685439906836432094852510654582601039283178471227513843047286147947157694406496191231059435409599953857728066339]\n"
     ]
    }
   ],
   "source": [
    "# Programa RSA_Claves\n",
    "def RSA_claves(n):\n",
    "    # Calculamos el número p\n",
    "    p = secrets.randbelow(int(10^n))\n",
    "    while (is_prime(p) == False):\n",
    "        p = secrets.randbelow(int(10^n))\n",
    "    \n",
    "    # Calculamos el núemero q\n",
    "    q = secrets.randbelow(int(10^n))\n",
    "    while (is_prime(q) == False):\n",
    "        q = secrets.randbelow(int(10^n))\n",
    "    \n",
    "    # Ahora calculamos N con p y q\n",
    "    N = p * q\n",
    "    \n",
    "    # Mínimo común múltiplo de p-1 y q-1\n",
    "    mcm = lcm(p-1, q-1)\n",
    "    \n",
    "    # e * f - 1 = r * mcm\n",
    "    # Primero elijo e coprimo con p-1 y q-1\n",
    "    e = secrets.randbelow(int(10^n))\n",
    "    while (gcd(e,p-1)!=1 and gcd(e,q-1)!=1):\n",
    "        e = secrets.randbelow(int(10^n))\n",
    "    e = Integer(e)\n",
    "    \n",
    "    # Guardamos el valor de E que usaremos luego en la clave pública.\n",
    "    E = e\n",
    "    \n",
    "    # Ahora encuentro f usando el algoritmo de Euclides extendido\n",
    "    # e * f - r * mcm = 1\n",
    "    \n",
    "    # Primeros valores necesarios para el algoritmo.\n",
    "    cociente = (e - e.mod(mcm))//mcm\n",
    "    resto = e.mod(mcm)\n",
    "    e = mcm\n",
    "    mcm = resto \n",
    "    x0 = 0\n",
    "    x1 = 1\n",
    "    y0 = 1\n",
    "    y1 = -cociente\n",
    "    \n",
    "    # Bucle en el que hacemos el algoritmo de Euclides\n",
    "    while resto!=0:\n",
    "        \n",
    "        # Calculamos el resto euclídeo.\n",
    "        cociente = (e - e.mod(mcm))//mcm\n",
    "        resto = e.mod(mcm)\n",
    "        \n",
    "        # Vamos cambiando los valores de a y de b.\n",
    "        e = mcm\n",
    "        mcm = resto\n",
    "        \n",
    "        # Vamos cambiando los valores de x0, x1, y0, y1.\n",
    "        x0, x1 = x1, x0 - cociente*x1\n",
    "        y0, y1 = y1, y0 - cociente*y1\n",
    "    \n",
    "    # Valor de f\n",
    "    f = x0\n",
    "    \n",
    "    # Ya tenemos los valores de las claves pública y privada\n",
    "    clave_publica = [N, E]\n",
    "    clave_privada = [N, f]\n",
    "    \n",
    "    return clave_publica, clave_privada\n",
    "\n",
    "# Guardamos las claves pública y privada en dos variables globales\n",
    "clave_publica, clave_privada = RSA_claves(350)\n",
    "print(f\"La clave pública es: {clave_publica}\")\n",
    "print(f\"La clave privada es: {clave_privada}\")"
   ]
  },
  {
   "cell_type": "code",
   "execution_count": 26,
   "metadata": {},
   "outputs": [
    {
     "name": "stdout",
     "output_type": "stream",
     "text": [
      "Introduzca el mensaje a codificar. Ha de tener a lo sumo 164 caracteres\n"
     ]
    },
    {
     "name": "stdin",
     "output_type": "stream",
     "text": [
      " Me llamo Pablo\n"
     ]
    },
    {
     "name": "stdout",
     "output_type": "stream",
     "text": [
      "El mensaje codificado es 2524101855852789950260161035887050436066244705217973983616219231442207071324294887305722252704418548707583518619660119019672093099394304185977876217091564043895687534151024981383404937585795245663362154767122780890484091928694782925503974000990507096099564358967325828180517869729604873042515918614120417468556414661673751193325675372120379014160249162316961971282371048546280021369764933409530309793075515923273574218548626144514178451701054357716544928929357029122271640918836142557939741341752921150020567725113445322148887623679314397500330152630806967139608110763966922774211189666545577922645776302633957911236159869413500642414629952906531640791087884525954237748888506448701297525630275602271\n"
     ]
    }
   ],
   "source": [
    "# Programa codificado\n",
    "def codificado(clave_publica):\n",
    "    # Guardamos las variables N y e de la clave pública\n",
    "    N = clave_publica[0]\n",
    "    e = clave_publica[1]\n",
    "    \n",
    "    # Trabajamos en módulo N\n",
    "    R = IntegerModRing(N)\n",
    "    r = int((log(N,128)/2-1).n())\n",
    "    \n",
    "    # Pedimos el mensaje\n",
    "    print('Introduzca el mensaje a codificar. Ha de tener a lo sumo', r,'caracteres')\n",
    "    m = input()\n",
    "    \n",
    "    # Calculamos el mensaje codificado\n",
    "    m = R(ZZ([ord(a) for a in list(m)],128)) #ZZ(L,128) halla el entero cuyos dígitos en base 128 forman la lista L.\n",
    "    c = m^e\n",
    "    print('El mensaje codificado es',c)\n",
    "    \n",
    "    return c\n",
    "    \n",
    "# Llamamos a la función\n",
    "c = codificado(clave_publica)"
   ]
  },
  {
   "cell_type": "code",
   "execution_count": 27,
   "metadata": {},
   "outputs": [
    {
     "name": "stdout",
     "output_type": "stream",
     "text": [
      "El mensaje descodificado es Me llamo Pablo\n"
     ]
    }
   ],
   "source": [
    "# Programa descodificado\n",
    "def descodificado(c, clave_privada):\n",
    "    # Guardamos las variables N y f de la clave privada\n",
    "    N = clave_privada[0]\n",
    "    f = clave_privada[1]\n",
    "    \n",
    "    # Trabajamos en módulo N\n",
    "    R = IntegerModRing(N)\n",
    "    m = R(c)^f\n",
    "    \n",
    "    # Pasamos el mensaje de sistema ASCII a caracteres\n",
    "    mm = ''.join([chr(a) for a in Integer(m).digits(128)]) #'+'.join(['a','b','c']) = 'a+b+c'\n",
    "    print('El mensaje descodificado es',mm)\n",
    "    \n",
    "    return mm\n",
    "    \n",
    "# Llamamos a la función que descodifica el mensaje\n",
    "mensaje = descodificado(c, clave_privada)  "
   ]
  },
  {
   "cell_type": "markdown",
   "metadata": {},
   "source": [
    "Determina una cota para el número de pasos que se necesitan para calcular el máximo común divisor de dos números de 350 cifras usando el algoritmo de Euclides (este ejercicio se hace)"
   ]
  },
  {
   "cell_type": "code",
   "execution_count": null,
   "metadata": {},
   "outputs": [],
   "source": []
  }
 ],
 "metadata": {
  "kernelspec": {
   "display_name": "SageMath 9.0",
   "language": "sage",
   "name": "sagemath"
  },
  "language_info": {
   "codemirror_mode": {
    "name": "ipython",
    "version": 3
   },
   "file_extension": ".py",
   "mimetype": "text/x-python",
   "name": "python",
   "nbconvert_exporter": "python",
   "pygments_lexer": "ipython3",
   "version": "3.7.6"
  }
 },
 "nbformat": 4,
 "nbformat_minor": 4
}
