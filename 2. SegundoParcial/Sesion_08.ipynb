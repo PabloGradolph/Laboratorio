{
 "cells": [
  {
   "cell_type": "markdown",
   "metadata": {},
   "source": [
    "# Laboratorio 2021-22\n",
    "\n",
    "## Sesión 8A: El algoritmo de Euclides y algunas aplicaciones"
   ]
  },
  {
   "cell_type": "markdown",
   "metadata": {},
   "source": [
    "____________\n",
    "\n",
    "**Ejercicio 1** \n",
    "\n",
    "**a)** Implementa una función de Sagemath, $\\texttt{mcdEuclides}(a,b)$ que, dados $a,b\\in \\mathbb{N}$ devuelva $\\texttt{mcd}(a,b)$. Ten en cuenta que:\n",
    "\n",
    "- $m.\\texttt{mod}(n)$ calcula el resto de la división euclídea de $m$ entre $n$. **Importante**: si $n$ es positivo, este resto puede calcularse también con la instrucción $\\texttt{m}$%$\\texttt{n}$, pero si $n$ es negativo no, así que mejor que elijas la primera opción.\n",
    "\n",
    "- $(m-m.\\texttt{mod}(n))//n$ calcula el cociente de la división euclídea de $m$ entre $n$. **Importante**: si $n$ es positivo, este resto puede calcularse también con la instrucción $m//n$, pero si $n$ es negativo no, así que mejor que elijas la primera opción.\n",
    "\n",
    "\n",
    "**Sugerencia**.- Puedes usar dos variables, en las que vayas guardando el dividendo y el divisor de la división euclídea que toca hacer en cada paso, según el algoritmo, y usar una *asignación simultanea* para asignar a dichas variables los nuevos valores que deben tomar en el siguiente paso del algoritmo.\n",
    "\n",
    "*Observación:* Antes de comenzar este ejercicio deberías haber leído hasta la pregunta 6 del cuestionario."
   ]
  },
  {
   "cell_type": "code",
   "execution_count": 8,
   "metadata": {},
   "outputs": [
    {
     "name": "stdout",
     "output_type": "stream",
     "text": [
      "Introduzca un número entero:  62\n",
      "Introduzca otro número entero:  28\n"
     ]
    },
    {
     "name": "stdout",
     "output_type": "stream",
     "text": [
      "El máximo común divisor de 62 y 28 es 2.\n"
     ]
    }
   ],
   "source": [
    "# Función que dados dos números enteros a y b devuelve el máximo común divisor de éstos.\n",
    "def mcdEuclides(a, b):\n",
    "    \n",
    "    # Bucle en el que hacemos el algoritmo de Euclides\n",
    "    while True:\n",
    "        \n",
    "        # Calculamos el resto euclídeo.\n",
    "        resto = a.mod(b)\n",
    "        \n",
    "        # Vamos cambiando los valores de a y de b.\n",
    "        a = b\n",
    "        b = resto\n",
    "\n",
    "        # Cuando el resto sea cero paramos y a = mcd(a,b)\n",
    "        if resto == 0:\n",
    "            return a\n",
    "        \n",
    "# Pedimos los valores de a y b que tienen que ser enteros.\n",
    "a = Integer(input(\"Introduzca un número entero: \"))\n",
    "b = Integer(input(\"Introduzca otro número entero: \"))\n",
    "mcd = mcdEuclides(a, b)\n",
    "print(f\"El máximo común divisor de {a} y {b} es {mcd}.\")"
   ]
  },
  {
   "cell_type": "markdown",
   "metadata": {},
   "source": [
    "**b)** Utiliza la función que has creado para calcular $\\texttt{mcd}(A,B)$ , donde\n",
    "\n",
    "A=218642785123568873139682409674715388093959456164487337187488956673379356\\\n",
    "767683911984156651029778394931987024687851492334515679335911782357476206\\\n",
    "14982663417080369812889040177106484729433464665235053699\n",
    ",\n",
    "\n",
    "B=119976132398233094388696470435379953144947794792791371742797288237618367\\\n",
    "311805161691611633008753359414644839631837622023142114602546090710321767\\\n",
    "36353643010598584383754146657877123219026579974263168827\n",
    "\n"
   ]
  },
  {
   "cell_type": "code",
   "execution_count": 9,
   "metadata": {},
   "outputs": [],
   "source": [
    "#Ejecuta para cargar A y B\n",
    "A=21864278512356887313968240967471538809395945616448733718748895667337935676768391198415665102977839493198702468785149233451567933591178235747620614982663417080369812889040177106484729433464665235053699\n",
    "B=11997613239823309438869647043537995314494779479279137174279728823761836731180516169161163300875335941464483963183762202314211460254609071032176736353643010598584383754146657877123219026579974263168827"
   ]
  },
  {
   "cell_type": "code",
   "execution_count": 11,
   "metadata": {},
   "outputs": [
    {
     "name": "stdout",
     "output_type": "stream",
     "text": [
      "El máximo común divisor es 3310486657195957473932259321797206270953130901534004371235431444680652581523821032990040589463672367.\n"
     ]
    }
   ],
   "source": [
    "mcd = mcdEuclides(A, B)\n",
    "print(f\"El máximo común divisor es {mcd}.\")"
   ]
  },
  {
   "cell_type": "markdown",
   "metadata": {},
   "source": [
    "**c)** Los $𝐴$  y  $𝐵$ del apartado anterior son cada uno de ellos producto de 2 primos de 100 cifras. Este el típo de números que se utilizan como claves en el criptosistema RSA (del que probablemente hablemos en otra sesión más adelante en el curso), cuya seguridad se basa en que es muy difícil factorizar números que son producto de dos primos grandes. Sin embargo, haber encontrado  $\\texttt{mcd}(A,B)$  hace muy sencillo factorizar  $𝐴$  y  $𝐵$ . Hazlo."
   ]
  },
  {
   "cell_type": "code",
   "execution_count": 17,
   "metadata": {},
   "outputs": [
    {
     "data": {
      "text/plain": [
       "3624123726263710872963969599867074977006572625605395702725211849509753385206445918340425787075891381"
      ]
     },
     "execution_count": 17,
     "metadata": {},
     "output_type": "execute_result"
    }
   ],
   "source": [
    "factor(B//mcdEuclides(A, B))"
   ]
  },
  {
   "cell_type": "markdown",
   "metadata": {},
   "source": [
    "____________\n",
    "\n",
    "**Ejercicio 2** \n",
    "\n",
    "**a)** Implementa una función de Sagemath, $\\texttt{Bezout}(a,b)$ que, dados $a,b\\in \\mathbb{N}$ devuelva $d=\\texttt{mcd}(a,b)$ y los dos enteros $x,y$ tales que $ax+by=d$ que se calculan con el algoritmo de Euclides extendido, según el método 1 del documento que has leído previamente.\n",
    "\n",
    "**Sugerencia**.- Puedes usar dos variables en las que vayas guardando dos valores consecutivos de la lista de $x_i's$ descrita en el método 1 (los valores iniciales de dichas variables están descritos en el método), y usar una *asignación simultanea* para asignar a dichas variables los nuevos valores que deben tomar en el siguiente paso del algoritmo. Lo mismo aplica a los $y's$.\n",
    "\n",
    "*Observación:* Antes de comenzar este ejercicio deberías haber leído hasta la pregunta 9 del cuestionario."
   ]
  },
  {
   "cell_type": "code",
   "execution_count": 49,
   "metadata": {},
   "outputs": [
    {
     "name": "stdout",
     "output_type": "stream",
     "text": [
      "Introduzca un número entero:  10\n",
      "Introduzca otro número entero:  14\n"
     ]
    },
    {
     "name": "stdout",
     "output_type": "stream",
     "text": [
      "El máximo común divisor de 10 y 14 es 2.\n",
      "La identidad de Bezout queda: 10*3 + 14*-2 = 2\n",
      "True\n"
     ]
    }
   ],
   "source": [
    "# Función que devuelve el mcd(a, b) y los x, y tales que ax + by = mcd(a, b)\n",
    "def Bezout(a, b):\n",
    "    \n",
    "    # Primeros valores necesarios para el algoritmo.\n",
    "    cociente = (a - a.mod(b))//b\n",
    "    resto = a.mod(b)\n",
    "    \n",
    "    a = b\n",
    "    b = resto\n",
    "        \n",
    "    x0 = 0\n",
    "    x1 = 1\n",
    "    y0 = 1\n",
    "    y1 = -cociente\n",
    "    \n",
    "    # Bucle en el que hacemos el algoritmo de Euclides\n",
    "    while resto!=0:\n",
    "        \n",
    "        # Calculamos el resto euclídeo.\n",
    "        cociente = (a - a.mod(b))//b\n",
    "        resto = a.mod(b)\n",
    "        \n",
    "        # Vamos cambiando los valores de a y de b.\n",
    "        a = b\n",
    "        b = resto\n",
    "        \n",
    "        # Vamos cambiando los valores de x0, x1, y0, y1.\n",
    "        x0, x1 = x1, x0 - cociente*x1\n",
    "        y0, y1 = y1, y0 - cociente*y1\n",
    "\n",
    "    return a, x0, y0\n",
    "        \n",
    "# Pedimos los valores de a y b que tienen que ser enteros.\n",
    "a = Integer(input(\"Introduzca un número entero: \"))\n",
    "b = Integer(input(\"Introduzca otro número entero: \"))\n",
    "mcd, x0, y0 = Bezout(a, b)\n",
    "print(f\"El máximo común divisor de {a} y {b} es {mcd}.\")\n",
    "print(f\"La identidad de Bezout queda: {a}*{x0} + {b}*{y0} = {mcd}\")\n",
    "print(a*x0+b*y0==mcd) "
   ]
  },
  {
   "cell_type": "markdown",
   "metadata": {},
   "source": [
    "**b)** Encuentra $D=\\texttt{mcd}(A,B)$ y enteros $X,Y$ tales que $D=AX+BY$ , donde\n",
    "A=218642785123568873139682409674715388093959456164487337187488956673379356\\\n",
    "767683911984156651029778394931987024687851492334515679335911782357476206\\\n",
    "14982663417080369812889040177106484729433464665235053699, \n",
    "\n",
    "B=119976132398233094388696470435379953144947794792791371742797288237618367\\\n",
    "311805161691611633008753359414644839631837622023142114602546090710321767\\\n",
    "36353643010598584383754146657877123219026579974263168827\n",
    "\n",
    "Comprueba tu resultado."
   ]
  },
  {
   "cell_type": "code",
   "execution_count": 22,
   "metadata": {},
   "outputs": [],
   "source": [
    "#Ejecuta para cargar los valores\n",
    "A=21864278512356887313968240967471538809395945616448733718748895667337935676768391198415665102977839493198702468785149233451567933591178235747620614982663417080369812889040177106484729433464665235053699\n",
    "B=11997613239823309438869647043537995314494779479279137174279728823761836731180516169161163300875335941464483963183762202314211460254609071032176736353643010598584383754146657877123219026579974263168827\n"
   ]
  },
  {
   "cell_type": "code",
   "execution_count": 24,
   "metadata": {},
   "outputs": [
    {
     "name": "stdout",
     "output_type": "stream",
     "text": [
      "True\n"
     ]
    }
   ],
   "source": [
    "mcd, x0, y0 = Bezout(A, B)\n",
    "print(A*x0+B*y0==mcd) "
   ]
  },
  {
   "cell_type": "markdown",
   "metadata": {},
   "source": [
    "____________\n",
    "\n",
    "**Ejercicio 3** \n",
    "\n",
    "**a)** Implementa una función de Sagemath, $\\texttt{DiofLin}(a,b,c)$ que, dados $a,b,c\\in\\mathbb Z$, nos proporcione la solución particular de la ecuación diofántica lineal $ax+by=c$ que se consigue con el método 2 del documento que has leído en la actividad previa en caso de que la ecuación tenga solución. Si la ecuación no tiene solución, el programa debe avisarnos.\n",
    "\n",
    "*Observación:* Antes de comenzar este ejercicio deberías haber leído hasta la pregunta 11 del cuestionario."
   ]
  },
  {
   "cell_type": "code",
   "execution_count": 56,
   "metadata": {},
   "outputs": [
    {
     "name": "stdout",
     "output_type": "stream",
     "text": [
      "Introduzca un número entero:  10\n",
      "Introduzca otro número entero:  14\n",
      "Introduzca otro número entero:  22\n"
     ]
    },
    {
     "name": "stdout",
     "output_type": "stream",
     "text": [
      "\n",
      "Resolviendo 10x + 14y = 22\n",
      "\n",
      "x = 33\n",
      "y = -22\n"
     ]
    }
   ],
   "source": [
    "# Función que proporciona la solución particular de la ecuación diofántica lineal ax + by = c\n",
    "def DiofLin(a, b, c):\n",
    "    \n",
    "    # Algoritmo de Euclides para encontrar mdc(a, b) = d.\n",
    "    d = mcdEuclides(a, b)\n",
    "    \n",
    "    # En caso de que no tenga solución.\n",
    "    if c%d!=0:\n",
    "        print('La ecuación no tiene solución')\n",
    "        return None, None\n",
    "    \n",
    "    # Variables prima del método dos para encontrar la solución particular.\n",
    "    a_prima = a//d\n",
    "    b_prima = b//d\n",
    "    c_prima = c//d\n",
    "    \n",
    "    # La nueva ecuación a resolver queda a'x' + b'y' = 1\n",
    "    # Usamos bezout para resolverla y sacar x' e y'\n",
    "    mcd, x, y = Bezout(a_prima, b_prima)\n",
    "\n",
    "    # Ahora la solución particular es x0 = x'c'; y0 = y'c'\n",
    "    x0 = x*c_prima\n",
    "    y0 = y*c_prima\n",
    "    \n",
    "    return x0, y0\n",
    "\n",
    "\n",
    "# Pedimos los valores de a, b y c que tienen que ser enteros.\n",
    "a = Integer(input(\"Introduzca un número entero: \"))\n",
    "b = Integer(input(\"Introduzca otro número entero: \"))\n",
    "c = Integer(input(\"Introduzca otro número entero: \")) \n",
    "print()\n",
    "print(f\"Resolviendo {a}x + {b}y = {c}\")\n",
    "print()\n",
    "x, y = DiofLin(a, b, c)\n",
    "print(f\"x = {x}\")\n",
    "print(f\"y = {y}\")"
   ]
  },
  {
   "cell_type": "markdown",
   "metadata": {},
   "source": [
    "**b)** Utiliza la función del apartado anterior para encontrar una solución, o para comprobar que no existen soluciones, de las ecuaciones\n",
    "$$10x+36y=28, \\qquad 10x+28y=28 \\qquad Ax+By=C, $$\n",
    "donde $A, B$ son los enteros de los dos ejercicios anteriores y $$C=6620973314391914947864518643594412541906261803068008742470862889361305163047642065980081178927344734.$$\n",
    "\n",
    "Comprueba que tus resultados son correctos."
   ]
  },
  {
   "cell_type": "code",
   "execution_count": 45,
   "metadata": {},
   "outputs": [],
   "source": [
    "#Ejecuta para cargar los valores\n",
    "A=21864278512356887313968240967471538809395945616448733718748895667337935676768391198415665102977839493198702468785149233451567933591178235747620614982663417080369812889040177106484729433464665235053699\n",
    "B=11997613239823309438869647043537995314494779479279137174279728823761836731180516169161163300875335941464483963183762202314211460254609071032176736353643010598584383754146657877123219026579974263168827\n",
    "C=6620973314391914947864518643594412541906261803068008742470862889361305163047642065980081178927344734\n"
   ]
  },
  {
   "cell_type": "code",
   "execution_count": 58,
   "metadata": {},
   "outputs": [
    {
     "name": "stdout",
     "output_type": "stream",
     "text": [
      "(-98, 28)\n",
      "(42, -14)\n",
      "(-1194003939011573893674422698406046984435701194728063571845067161366453127037005564530833349382556434, 2175935675334763979846848763680013769719907647252449217709088457511724586507728362586053906854898300)\n"
     ]
    }
   ],
   "source": [
    "# Comprobaciones\n",
    "print(DiofLin(10,36,28))\n",
    "\n",
    "print(DiofLin(10,28,28))\n",
    "\n",
    "print(DiofLin(A,B,C))"
   ]
  },
  {
   "cell_type": "markdown",
   "metadata": {},
   "source": [
    "____________\n",
    "\n",
    "**Ejercicio 4** \n",
    "\n",
    "El método 3 del texto que has leído en el cuestionario de la actividad previa muestra cómo pueden describirse todas las soluciones de una ecuación diofántica lineal. \n",
    "\n",
    "**a)** Implementa una función de Sagemath, $\\texttt{DiofLinGrande}(a,b,c, N)$ que, dados $a,b,c$ y un natural $N\\ge0$ , encuentre la solución de $ax+by=c$ con $x\\ge N$  para la que $x$ es lo menor posible (es decir, que si $(x,y)$ es la solución que buscamos y $(x',y')$ es otra solución con $x'\\ge N$, entonces $x'>x\\ge N$).\n",
    "\n",
    "Comprueba tu resultado para la ecuación  $10x+36y=28$  y  $N=100,110,120,-80,-90,$ y $−100$  (para entender las soluciones conviene preguntarse cuánto vale el paso $b/d$  en la expresión $x=x_0+\\frac{b}{d}n$ que hemos visto para las soluciones).\n",
    "\n",
    "*Observaciones:* \n",
    "\n",
    "- Antes de comenzar este ejercicio deberías haber leído completamente el cuestionario.\n",
    "\n",
    "- Puedes suponer que $b\\not=0$, ya que en otro caso todas las soluciones (si existe alguna) tienen la misma $x=\\frac ca$, que es entera porque, si existe soluci&oacute;n, &nbsp;$\\text{mcd}(a,0)=a \\mid c$.</p>\n",
    "\n",
    "*Sugerencias:*\n",
    "\n",
    "- En este ejercicio vas a tener que trabajar con inecuaciones. Conviene distinguir los casos $\\frac bd >0$ y $\\frac bd <0$.\n",
    "\n",
    "- Pueden resultar útiles las funciones $\\texttt{floor}$  y $\\texttt{ceil}$."
   ]
  },
  {
   "cell_type": "code",
   "execution_count": 59,
   "metadata": {},
   "outputs": [
    {
     "data": {
      "text/plain": [
       "[(100, -27), (118, -32), (136, -37), (-80, 23), (-80, 23), (-98, 28)]"
      ]
     },
     "execution_count": 59,
     "metadata": {},
     "output_type": "execute_result"
    }
   ],
   "source": [
    "#OJO AL SIGNO DE b/d\n",
    "def DiofLinGrande(a,b,c,N):\n",
    "    d,X,Y=Bezout(a,b)\n",
    "    if c%d!=0:\n",
    "        print('La ecuación %dx+%dy=%d no tiene solución.'%(a,b,c))\n",
    "        return None,None\n",
    "    if b/d>0:\n",
    "        m=ceil((N*d-X*c)/b)\n",
    "    else:\n",
    "        m=floor((N*d-X*c)/b)\n",
    "    xx=(X*c//d)+(m*b//d)\n",
    "    yy=(Y*c//d)-(m*a//d)\n",
    "    return xx,yy\n",
    "\n",
    "[DiofLinGrande(10,36,28,M) for M in [100,110,120,-80,-90,-100]]"
   ]
  },
  {
   "cell_type": "markdown",
   "metadata": {},
   "source": [
    "**b)** Escribe un programa que, dados $a,b,c$ y $N\\ge 0$, nos dibuje con el comando $\\texttt{points}$ todas los soluciones $(x,y)$ de la ecuación $ax+by=c$ que tengan $-N\\le x \\le N$."
   ]
  },
  {
   "cell_type": "code",
   "execution_count": 60,
   "metadata": {},
   "outputs": [
    {
     "name": "stdout",
     "output_type": "stream",
     "text": [
      "(-188, 53) (190, -52)\n"
     ]
    },
    {
     "data": {
      "image/png": "[encoded data removed]",
      "text/plain": [
       "Graphics object consisting of 1 graphics primitive"
      ]
     },
     "execution_count": 60,
     "metadata": {},
     "output_type": "execute_result"
    }
   ],
   "source": [
    "#OJO AL SIGNO DE b/d\n",
    "def DiofLinIntervalo(a,b,c,N):\n",
    "    d,u,v=Bezout(a,b)\n",
    "    if c%d!=0:\n",
    "        return 'La ecuación no tiene solución'\n",
    "    if b/d>0:\n",
    "        ninicial=ceil((-N*d-u*c)/b)\n",
    "        nfinal=floor((N*d-u*c)/b)\n",
    "    else:\n",
    "        ninicial=ceil(-(-N*d-u*c)/b)\n",
    "        nfinal=floor(-(N*d-u*c)/b)\n",
    "    L=[]\n",
    "    for j in [ninicial..nfinal]:\n",
    "        L.append(((u*c//d)+(j*b//d),(v*c//d)-(j*a//d)))\n",
    "    print(L[0], L[-1]) #PARA COMPROBAR QUE LLEGA A LOS LÍMITES INDICADOS\n",
    "    return points(L,color='red')\n",
    "\n",
    "#EL EJEMPLO QUE QUEREMOS\n",
    "DiofLinIntervalo(10,36,28,200)"
   ]
  }
 ],
 "metadata": {
  "kernelspec": {
   "display_name": "Python 3.10.7 64-bit",
   "language": "python",
   "name": "python3"
  },
  "language_info": {
   "codemirror_mode": {
    "name": "ipython",
    "version": 3
   },
   "file_extension": ".py",
   "mimetype": "text/x-python",
   "name": "python",
   "nbconvert_exporter": "python",
   "pygments_lexer": "ipython3",
   "version": "3.10.7"
  },
  "vscode": {
   "interpreter": {
    "hash": "bb63a77499ed5899fffa71b49f0fc3f4df2c625891c3993c985b13a523c87e61"
   }
  }
 },
 "nbformat": 4,
 "nbformat_minor": 4
}
