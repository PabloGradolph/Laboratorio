{
 "cells": [
  {
   "cell_type": "markdown",
   "metadata": {},
   "source": [
    "## Números de Carmichael y pseudoprimos"
   ]
  },
  {
   "cell_type": "markdown",
   "metadata": {},
   "source": [
    "El pequeño teorema de Fermat afirma que si $p$ es un número primo y $m$ es un entero coprimo con $p$, entonces el resto que resulta de dividir $m^{p-1}$ entre $p$ es siempre igual a $1$. \n",
    "\n",
    "> Escribe un programa que compruebe el pequeño teorema de Fermat para todos los primos menores que 2000.\n"
   ]
  },
  {
   "cell_type": "code",
   "execution_count": 1,
   "metadata": {},
   "outputs": [
    {
     "name": "stdout",
     "output_type": "stream",
     "text": [
      "541\n",
      "1223\n",
      "1987\n"
     ]
    },
    {
     "data": {
      "text/plain": [
       "True"
      ]
     },
     "execution_count": 1,
     "metadata": {},
     "output_type": "execute_result"
    }
   ],
   "source": [
    "#14:30 - 14:37\n",
    "def test_fermat(n):\n",
    "    contador = 0\n",
    "    L = [100*i for i in range(100)]\n",
    "    for p in prime_range(n):\n",
    "        contador = contador + 1\n",
    "        if contador in L:\n",
    "            print(p)\n",
    "        for m in range(1,p):\n",
    "            if m^(p-1)%p != 1:\n",
    "                return (m,p)\n",
    "    return True\n",
    "\n",
    "test_fermat(2000)\n"
   ]
  },
  {
   "cell_type": "markdown",
   "metadata": {},
   "source": [
    "Sin embargo, esta condición no es suficiente para ser primo. Aquellos números compuestos $p$ que satisfacen que \n",
    "$$\\forall m\\in \\mathbb{Z} \\text{ tal que $mcd(m,p)=1$,}~ \\exists r\\in \\mathbb{Z} \\mid m^{p-1} = r\\cdot p + 1$$\n",
    "se llaman números de Carmichael.\n",
    "\n",
    "> Escribe un programa que decida si un número es de Carmichael.\n",
    "\n",
    "> Usa ese programa para encontrar los primeros 5 números de Carmichael."
   ]
  },
  {
   "cell_type": "code",
   "execution_count": 2,
   "metadata": {},
   "outputs": [
    {
     "name": "stdout",
     "output_type": "stream",
     "text": [
      "561\n",
      "1105\n",
      "1729\n",
      "2465\n",
      "2821\n"
     ]
    },
    {
     "data": {
      "text/plain": [
       "[561, 1105, 1729, 2465, 2821]"
      ]
     },
     "execution_count": 2,
     "metadata": {},
     "output_type": "execute_result"
    }
   ],
   "source": [
    "def carmichael(p):\n",
    "    for m in srange(1,p):\n",
    "        if gcd(m,p) == 1 and m^(p-1) % p != 1:\n",
    "            return False\n",
    "    return True\n",
    "\n",
    "def C(k):\n",
    "    contador = 0\n",
    "    L = []\n",
    "    p = 2\n",
    "    while contador < k:\n",
    "        if not p.is_prime() and carmichael(p):\n",
    "            contador += 1\n",
    "            L.append(p)\n",
    "            print(p)\n",
    "        p = p + 1\n",
    "    return L\n",
    "C(5)"
   ]
  },
  {
   "cell_type": "markdown",
   "metadata": {},
   "source": [
    "El *postulado de Bertrand* dice que dado un número natural $n>1$, siempre existe un primo entre $n$ y $2n$. Este postulado fue demostrado por Chebichev y exhibe la abundancia de números primos. Dado que el primer número de Carmichael tiene más de una cifra, el postulado de Bertrand no puede ser cierto para los números de Carmichael. No obstante, uno puede preguntarse si es asintóticamente cierto, es decir, si existe un natural $M$ tal que el postulado de Bertrand para números de Carmichael es cierto si $n>M$. Este postulado fue demostrado hace tan solo un año <a href = \"https://www.quantamagazine.org/teenager-solves-stubborn-riddle-about-prime-number-look-alikes-20221013/\"> por el joven Daniel Larsen </a > \n",
    "\n",
    "> Escribe un programa que calcule la proporción entre la cantidad de números de Carmichael menores que 100.000 y la cantidad de primos menores que 100.000\n"
   ]
  },
  {
   "cell_type": "code",
   "execution_count": 40,
   "metadata": {},
   "outputs": [
    {
     "name": "stdout",
     "output_type": "stream",
     "text": [
      "[102, 83, 84, 95, 46, 443, 255, 182, 557, 1341]\n",
      "0.00980392156862745\n",
      "0.010810810810810811\n",
      "0.011152416356877323\n",
      "0.01098901098901099\n",
      "0.012195121951219513\n",
      "0.007033997655334115\n",
      "0.00631768953068592\n",
      "0.006201550387596899\n",
      "0.004872766648619383\n"
     ]
    }
   ],
   "source": [
    "L = [1,561,1105,1729,2465,2821,6601,8911,10585,15841,29341]\n",
    "Q = [len(prime_range(L[i],L[i+1])) for i in range(len(L)-1)]\n",
    "print(Q)\n",
    "for i in range(1,len(L)-1):\n",
    "    print(i/sum(Q[0:i]))"
   ]
  },
  {
   "cell_type": "code",
   "execution_count": null,
   "metadata": {},
   "outputs": [],
   "source": [
    "NO"
   ]
  },
  {
   "cell_type": "markdown",
   "metadata": {},
   "source": [
    "De hecho, dado $p\\in \\mathbb{Z}$ y $m\\in \\mathbb{Z}\\smallsetminus \\{0\\}$, la probabilidad de que $p$ sea compuesto y que el resto que resulta de dividir $m^{p-1}$ entre $p$ sea igual a $1$ es suficientemente baja como para usar esta condición como criterio de primalidad probabilístico.\n",
    "\n",
    "> Escribe un programa $\\verb=testfermat(q)=$ que calcule la probabilidad de que dados $m,p$ con $0<m<p<q$ tales que el resto de dividir $m^{p-1}$ entre $m$ sea $1$, se tenga que $p$ es compuesto.\n",
    "\n",
    "> Reescribe el programa de RSA usando este test de primalidad probabilístico."
   ]
  },
  {
   "cell_type": "code",
   "execution_count": 26,
   "metadata": {},
   "outputs": [
    {
     "name": "stdout",
     "output_type": "stream",
     "text": [
      "0.0147835269271383\n",
      "0.0142276422764228\n",
      "0.0145631067961165\n",
      "0.0202020202020202\n",
      "0.0224719101123595\n",
      "0.0116896918172157\n",
      "0.00902708124373119\n",
      "0.0102249488752556\n",
      "0.0205549845837616\n",
      "0.0170212765957447\n"
     ]
    }
   ],
   "source": [
    "def test(q,l):\n",
    "    malos = 0\n",
    "    todos = 0\n",
    "    for i in range(l):\n",
    "        p = floor(random()*q) + 1\n",
    "        m = floor(random()*q) + 1\n",
    "        if m^(p-1)%p == 1:\n",
    "            if not p.is_prime():\n",
    "                malos += 1\n",
    "            todos +=1\n",
    "    return malos/todos\n",
    "\n",
    "q = 100000\n",
    "l = 10000\n",
    "for i in range(10):\n",
    "    print(test(q,l).n())"
   ]
  },
  {
   "cell_type": "code",
   "execution_count": null,
   "metadata": {},
   "outputs": [],
   "source": [
    "w = [(q,test(q,l)) for q in range(2,2*10^4,1000)]\n",
    "point(w)"
   ]
  },
  {
   "cell_type": "code",
   "execution_count": null,
   "metadata": {},
   "outputs": [],
   "source": []
  },
  {
   "cell_type": "code",
   "execution_count": 33,
   "metadata": {},
   "outputs": [
    {
     "data": {
      "text/plain": [
       "0.693147180559945"
      ]
     },
     "execution_count": 33,
     "metadata": {},
     "output_type": "execute_result"
    }
   ],
   "source": [
    "log(2).n()"
   ]
  },
  {
   "cell_type": "code",
   "execution_count": null,
   "metadata": {},
   "outputs": [],
   "source": []
  }
 ],
 "metadata": {
  "kernelspec": {
   "display_name": "SageMath 9.0",
   "language": "sage",
   "name": "sagemath"
  },
  "language_info": {
   "codemirror_mode": {
    "name": "ipython",
    "version": 3
   },
   "file_extension": ".py",
   "mimetype": "text/x-python",
   "name": "python",
   "nbconvert_exporter": "python",
   "pygments_lexer": "ipython3",
   "version": "3.7.6"
  }
 },
 "nbformat": 4,
 "nbformat_minor": 4
}
