{
 "cells": [
  {
   "cell_type": "markdown",
   "metadata": {},
   "source": [
    "# Ejercicios para practicar\n",
    "## Sesión 9\n",
    "\n",
    "En la sesión 9 hemos desarrollado programas para manejar fracciones continuas. Aquí, tras profundizar un poco más en las propiedades de las fracciones convergentes, estudiaremos otra forma de expresar un número racional en términos de fracciones: las fracciones egipcias. Esto nos llevará a considerar las llamadas fracciones unitarias, que son fracciones de la forma $1/q$."
   ]
  },
  {
   "cell_type": "markdown",
   "metadata": {},
   "source": [
    "____________\n",
    "\n",
    "**Ejercicio 1.-** Comprueba que las convergentes $c_k$ de $r$ tienen la siguiente propiedad: el error\n",
    "de la aproximación de $r$ que es $c_k$ es menor que el error de cualquier aproximación con\n",
    "un denominador menor que el denominador de $c_k$. Efectúa la comprobación con\n",
    "al menos un número algebraico y otro trascendente, para al menos las cuatro\n",
    "primeras aproximaciones $c_k$.\n",
    "\n",
    "(Si no sabes qué quiere decir que un número sea algebraico o trascendente, intenta averiguarlo por tus propios medios)."
   ]
  },
  {
   "cell_type": "markdown",
   "metadata": {},
   "source": [
    "_Sugerencia:_ \n",
    "\n",
    "> Para comprobar que la convergente $c_k$ del irracional $r$ da la mejor aproximación de entre los racionales con denominador menor que el de $c_k$, usaremos que el límite de las convergentes (el irracional $r$ que estamos aproximando) verifica\n",
    "$$\\mbox{$c_0<c_2<c_4<\\cdots<c_{2n}<\\cdots<r<\\cdots<c_{2n-1}<\\cdots<c_5<c_3<c_1$}$$\n",
    "y que cada convergente está más cerca de $r$ que cualquiera de las anteriores.\n",
    "\n",
    "> Así pues, para que la fracción $p/q$ sea mejor aproximación que $c_k$, debería estar entre esta convergente y la anterior. Así el numerador $p$ tiene que verificar $qc_k\\le p\\le qc_{k-1}$ si $k$ es par, y $qc_{k-1}\\le p\\le qc_k$ si $k$ es impar. \n",
    "Esto nos permite restringir mucho la lista de posibles numeradores, al estar $q$ limitado por el denominador de $c_k$."
   ]
  },
  {
   "cell_type": "code",
   "execution_count": 1,
   "metadata": {},
   "outputs": [],
   "source": []
  },
  {
   "cell_type": "markdown",
   "metadata": {},
   "source": [
    "____________\n",
    "\n",
    "**Ejercicio 2.-** Los egipcios del año 3000 A.C. tenían una notación para las fracciones unitarias (las de la forma $1/n$). Sin embargo, esta notación no les permitía escribir $2/5$, $3/4$ o $4/7$ como lo haríamos hoy. En lugar de eso, escribían *cualquier* fracción como **suma de fracciones unitarias *diferentes*.** Así, por ejemplo, \n",
    "\n",
    "$$\\frac34=\\frac12+\\frac14,\\qquad \\frac67=\\frac12+\\frac13+\\frac1{42}.$$ \n",
    "\n",
    "Una **fracción egipcia** es una *suma de fracciones unitarias distintas*. Se puede demostrar que cualquier número racional positivo se puede escribir como fracción egipcia.\n",
    "    \n",
    "Un algoritmo que produce la representación de un número racional $r=a/b$ entre 0 y 1 como fracción egipcia es el algoritmo voraz (en cada paso tomamos la fracción unitaria más grande posible), propuesto por Fibonacci y redescubierto posteriormente (y analizado rigurosamente) por James Joseph Sylvester: \n",
    "\n",
    "1. Si el resto de la  división (entera) de $b$ entre $a$ es 0, entonces $r$ es una fracción unitaria, de denominador el cociente (entero) de esa división, y hemos terminado.\n",
    "\n",
    "2. Si el resto de la división anterior no es 0, el denominador de la mejor aproximación de $r$ por una fracción unitaria  se obtiene sumando 1 al cociente de la división (entera) de $b$ entre $a$.\n",
    "\n",
    "3. Tomamos como nuevo valor de $r$ al resultado de restar al antiguo la fracción unitaria obtenida en el paso 2, y volvemos al paso 1. \n",
    "\n",
    "<p><em>Ejemplo.</em>&nbsp; Queremos expresar $19/20$ como fracci&oacute;n egipcia.</p>\n",
    "<ul>\n",
    "<li>$20=1\\cdot 19+1$, as&iacute; que la primera fracci&oacute;n unitaria es $1/(1+1)=1/2$.</li>\n",
    "<li>$19/20 - 1/2 = 9/20$.</li>\n",
    "<li>$20= 2\\cdot 9+2$, as&iacute; que la segunda fracci&oacute;n unitaria es $1/(2+1)=1/3$.</li>\n",
    "<li>$9/20 - 1/3 = 7/60$</li>\n",
    "<li>$60= 8\\cdot 7+4$, as&iacute; que la tercera fracci&oacute;n unitaria es $1/(8+1)=1/9$.</li>\n",
    "<li>$7/60 - 1/9 = 1/180$.</li>\n",
    "<li> $180=180\\cdot 1+0$, así que $1/180$ es una fracción unitaria, de denominador $180$, y hemos terminado.</li>\n",
    "</ul>\n",
    "\n",
    "Así que el resultado es \n",
    "\n",
    "$$\\frac{19}{20}=\\frac12+\\frac13+\\frac19+\\frac1{180}.$$ \n",
    "\n",
    "Nótese que la representación de un número racional dado como fracción egipcia no es única, y el algoritmo anterior no siempre devuelve la representación más corta ni la más sencilla: \n",
    "\n",
    "$$\\frac{19}{20}=\\frac12+\\frac14+\\frac15.$$\n",
    "    \n",
    "Programar una función, *egipcia(r)*, que, dado un número racional $r=a/b$ entre $0$ y $1$, devuelva su expresión como fracción egipcia construida por medio del algoritmo voraz de Fibonacci-Sylvester. Para ser más precisos, el programa devolverá una lista con los denominadores que van apareciendo al aplicar el algoritmo de Fibonacci-Sylvester. Así, por ejemplo, al ejecutar *egipcia(19/20)*, el programa debería devolver [2, 3, 9, 180].\n",
    "\n",
    "_Indicación:_ Quizá te resulten útiles los métodos _.numerator()_ y _.denominator()_."
   ]
  },
  {
   "cell_type": "code",
   "execution_count": null,
   "metadata": {},
   "outputs": [],
   "source": []
  },
  {
   "cell_type": "markdown",
   "metadata": {},
   "source": [
    "____________\n",
    "\n",
    "**Ejercicio 3.-** La representación en base $10$ de las fracciones unitarias que tienen denominadores $n=2,...,10$ son\n",
    "\n",
    "$$\\begin{array}{*5{l}}\\frac 12=0.5 & \\frac 13=0.(3) & \\frac14=0.25 & \\frac15=0.2\\\\ \\frac16=0.1(6)&\\frac17=0.(142857)& \\frac18=0.125&\\frac19=0.(1)&\\frac1{10}=0.1\\end{array}$$\n",
    "\n",
    "donde $0.1(6)$ significa $0.16666...$, y tiene un periodo de longitud $1$. Se ve que $1/7$ tiene un periodo de longitud $6$.\n",
    "\n",
    "Las mismas fracciones unitarias, en base $7$ tienen representación:\n",
    "\n",
    "$$\\begin{array}{*5{l}}\\frac 12=0.(3) & \\frac 13=0.(2) & \\frac14=0.(15) & \\frac15=0.(1254)\\\\ \\frac16=0.(1)&\\frac17=0.1& \\frac18=0.(06)&\\frac19=0.(053)&\\frac1{10}=0.(0462)\\end{array}$$\n",
    "\n",
    "**a)** Encontrar los  enteros  $n$  (podría haber solo uno) mayores que 1 y menores que 1000 para los que sea máxima la longitud del periodo del desarrollo de $1/n$ en base 2.\n",
    "\n",
    "**b)** Encontrar los primos (podría haber solo uno) $p<1000$ para los que sea máxima la suma de las longitudes de los periodos de los desarrollos de $1/p$ en bases $2$ y $7$."
   ]
  },
  {
   "cell_type": "code",
   "execution_count": null,
   "metadata": {},
   "outputs": [],
   "source": []
  }
 ],
 "metadata": {
  "kernelspec": {
   "display_name": "SageMath 9.0",
   "language": "sage",
   "name": "sagemath"
  },
  "language_info": {
   "codemirror_mode": {
    "name": "ipython",
    "version": 3
   },
   "file_extension": ".py",
   "mimetype": "text/x-python",
   "name": "python",
   "nbconvert_exporter": "python",
   "pygments_lexer": "ipython3",
   "version": "3.7.6"
  }
 },
 "nbformat": 4,
 "nbformat_minor": 5
}
