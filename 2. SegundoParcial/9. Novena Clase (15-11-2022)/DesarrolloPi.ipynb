{
 "cells": [
  {
   "cell_type": "code",
   "execution_count": 15,
   "metadata": {},
   "outputs": [
    {
     "data": {
      "text/html": [
       "<html><script type=\"math/tex; mode=display\">\\newcommand{\\Bold}[1]{\\mathbf{#1}}\\left[3, 7, 15, 1\\right]</script></html>"
      ],
      "text/plain": [
       "[3, 7, 15, 1]"
      ]
     },
     "metadata": {},
     "output_type": "display_data"
    }
   ],
   "source": [
    "# Determina, por medio del algoritmo canónico descrito en el texto, \n",
    "# los coeficientes a subíndice 0, a subíndice 1, a subíndice 2, \n",
    "# a subíndice 3 del desarrollo de pi como fracción continua. \n",
    "# En lugar de hacer las cuentas con papel y lápiz, usa Sagemath. \n",
    "# En particular, como valor de pi toma el proporcionado por el programa.\n",
    "# Para la solución se usará el formato a subíndice 0; a subíndice 1, \n",
    "# a subíndice 2, a subíndice 3. Un ejemplo de resultado posible con \n",
    "# este formato es 3;2,2,5.\n",
    "\n",
    "def desarrollo(k):\n",
    "    entero = k.floor()\n",
    "    resultado = 1/(k-entero)\n",
    "    return resultado\n",
    "\n",
    "E = n(pi)\n",
    "lista_coeficientes = [E.floor()]\n",
    "\n",
    "for i in range(0,3):\n",
    "    E = desarrollo(E)\n",
    "    lista_coeficientes.append(E.floor())\n",
    "\n",
    "show(lista_coeficientes)"
   ]
  },
  {
   "cell_type": "code",
   "execution_count": null,
   "metadata": {},
   "outputs": [],
   "source": []
  }
 ],
 "metadata": {
  "kernelspec": {
   "display_name": "SageMath 9.0",
   "language": "sage",
   "name": "sagemath"
  },
  "language_info": {
   "codemirror_mode": {
    "name": "ipython",
    "version": 3
   },
   "file_extension": ".py",
   "mimetype": "text/x-python",
   "name": "python",
   "nbconvert_exporter": "python",
   "pygments_lexer": "ipython3",
   "version": "3.7.6"
  }
 },
 "nbformat": 4,
 "nbformat_minor": 4
}
