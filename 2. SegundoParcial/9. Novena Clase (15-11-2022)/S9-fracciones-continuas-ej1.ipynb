{
 "cells": [
  {
   "cell_type": "markdown",
   "metadata": {},
   "source": [
    "# Laboratorio 2022-23\n",
    "\n",
    "## Sesión 9: Fracciones continuas"
   ]
  },
  {
   "cell_type": "markdown",
   "metadata": {},
   "source": [
    "____________\n",
    "\n",
    "**Ejercicio 1.-** Escribe una función que tome como argumento una lista $[a_0,\\ldots, a_k]$ de números enteros y devuelva el número racional descrito por la fracción continua \n",
    "$[a_0; a_1, \\ldots, a_k]$."
   ]
  },
  {
   "cell_type": "code",
   "execution_count": 3,
   "metadata": {},
   "outputs": [
    {
     "name": "stdout",
     "output_type": "stream",
     "text": [
      "55/43\n",
      "[1, 3, 1, 1, 2, 2]\n"
     ]
    }
   ],
   "source": [
    "def fc_to_rat(L):\n",
    "    M = copy(L)\n",
    "    sol = M.pop(-1)\n",
    "    M.reverse()\n",
    "    for a in M:\n",
    "        sol = a + 1/sol\n",
    "    return sol\n",
    "\n",
    "L = [1,3,1,1,2,2]\n",
    "print(fc_to_rat(L))\n",
    "print(L)"
   ]
  },
  {
   "cell_type": "markdown",
   "metadata": {},
   "source": [
    "____________\n",
    "\n",
    "**Ejercicio 2.-** Escribe un código que, dados un número real $r$ y un número $k$ de pasos, halle los coeficientes $[a_0;a_1, \\ldots , a_k]$ de la fracción continua de $r$."
   ]
  },
  {
   "cell_type": "code",
   "execution_count": null,
   "metadata": {},
   "outputs": [],
   "source": []
  },
  {
   "cell_type": "markdown",
   "metadata": {},
   "source": [
    "____________\n",
    "\n",
    "**Ejercicio 3.-** Para el caso de un racional $r = n/m$, $m>0$, realiza una variante del código\n",
    "anterior que tome el entero $n$ y el natural $m$ como datos y devuelva la lista completa de coeficientes $[a_0;a_1, \\ldots , a_k]$ hasta el fin del desarrollo."
   ]
  },
  {
   "cell_type": "code",
   "execution_count": null,
   "metadata": {},
   "outputs": [],
   "source": []
  },
  {
   "cell_type": "markdown",
   "metadata": {},
   "source": [
    "____________\n",
    "\n",
    "**Ejercicio 4.-**  Escribe otra función que tome los $[a_0;a_1, \\ldots , a_k]$ y produzca las fracciones\n",
    "(convergentes) $c_n = p_n/q_n$, $n = 0, \\ldots ,  k$."
   ]
  },
  {
   "cell_type": "code",
   "execution_count": null,
   "metadata": {},
   "outputs": [],
   "source": []
  },
  {
   "cell_type": "markdown",
   "metadata": {},
   "source": [
    "____________\n",
    "\n",
    "**Ejercicio 5.-** Escribe una función que tome un número real $r$ y una tolerancia $\\texttt{tol}$, y devuelva una fracción que aproxime $r$ con un error  con valor absoluto menor que $\\texttt{tol}$."
   ]
  },
  {
   "cell_type": "code",
   "execution_count": null,
   "metadata": {},
   "outputs": [],
   "source": []
  }
 ],
 "metadata": {
  "kernelspec": {
   "display_name": "SageMath 9.0",
   "language": "sage",
   "name": "sagemath"
  },
  "language_info": {
   "codemirror_mode": {
    "name": "ipython",
    "version": 3
   },
   "file_extension": ".py",
   "mimetype": "text/x-python",
   "name": "python",
   "nbconvert_exporter": "python",
   "pygments_lexer": "ipython3",
   "version": "3.7.6"
  }
 },
 "nbformat": 4,
 "nbformat_minor": 5
}
