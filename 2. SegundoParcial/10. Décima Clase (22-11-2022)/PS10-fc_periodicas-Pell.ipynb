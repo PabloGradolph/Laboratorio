{
 "cells": [
  {
   "cell_type": "markdown",
   "metadata": {},
   "source": [
    "# Laboratorio 2021-22\n",
    "\n",
    "## Sesión 13: Ejercicios para practicar"
   ]
  },
  {
   "cell_type": "markdown",
   "metadata": {},
   "source": [
    "----------------------\n",
    "**Ejercicio 1.-** Sea $d$ un entero no negativo que no es un cuadrado perfecto y $n$ la longitud del periodo de la fracción continua de $\\sqrt d$. Se puede demostrar  que si $p_k$ y $q_k$ son respectivamente el numerador y el denominador de la $k$-ésima convergente de $\\sqrt d$, con $k\\in \\{n-1, 2n-1,3n-1 \\ldots\\}$,  entonces\n",
    "$$\n",
    "p_k^2-dq_k^2=\\pm 1.\n",
    "$$\n",
    "1. Construye una función que tome como argumento de entrada un entero no negativo $d$ que no sea un cuadrado perfecto y devuelva $n$ y $p_{n-1}^2-dq_{n-1}^2$.\n",
    "2.  Construye una tabla que muestre para cada entero $d$ entre $1$ y $100$ que no sea un cuadrado perfecto el valor de $p_{n-1}^2-dq_{n-1}^2$ y la longitud $n$ del periodo de la fracción continua de $\\sqrt{d}$."
   ]
  },
  {
   "cell_type": "code",
   "execution_count": null,
   "metadata": {},
   "outputs": [],
   "source": []
  },
  {
   "cell_type": "markdown",
   "metadata": {},
   "source": [
    "**Observación.-** Si has hecho bien el ejercicio, habrás comprobado que $p_{n-1}^2-dq_{n-1}^2=(-1)^n$ en todos los casos considerados. Se puede demostrar que esto es cierto siempre."
   ]
  },
  {
   "cell_type": "markdown",
   "metadata": {},
   "source": [
    "____________\n",
    "\n",
    "**Ejercicio 2.-**  Si $p^2-dq^2=- 1$ y definimos el número $a+b\\sqrt{d}=(p+q\\sqrt{d})^2$, entonces $a=p^2 +dq^2$ y $b=2pq$. Se deduce en particular que $a$ y $b$ están sujetos a la relación $a^2-db^2 =1$, puesto que\n",
    "$$\n",
    "\\begin{array}{rl}\n",
    "a^2-db^2&=(p^2 +dq^2)^2-4dp^2 q^2\\\\\n",
    "&=p^4-2dp^2q^2+d^2q^4\\\\\n",
    "&=(p^2 -dq^2)^2=(-1)^2=1.\n",
    "\\end{array}\n",
    "$$\n",
    "Combinando esta observación con la del ejercicio anterior se deduce el siguiente algoritmo para encontrar una solución particular a la ecuación de Pell $x^2-dy^2=1$.\n",
    "\n",
    "----------\n",
    "**Resolviendo $\\mathbf{x^2-dy^2=1}$**\n",
    "1. Calcular $a_0=\\lfloor\\sqrt d\\rfloor$.\n",
    "2. Calcular términos de la fracción continua de $\\sqrt{d}$ hasta encontrar el primero, $a_n$, tal que $a_n=2a_0$. \n",
    "3. Calcular el numerador $p_{n-1}$ y el denominador $q_{n-1}$ de la convergente $n-1$ de $\\sqrt{d}$.\n",
    "4. Si el periodo $n$ es par, tomar $x=p_{n-1}$ e $y=q_{n-1}$ y parar.\n",
    "5. Si el periodo $n$ es impar, tomar $x=p_{n-1}^2 +dq_{n-1}^2$ y $y=2p_{n-1}q_{n-1}$ y parar.\n",
    "----------\n",
    "\n",
    "**Observación.-**  Los pasos 2 y 3 se pueden combinar, gracias a la recurrencia de Wallis-Euler.\n",
    "\n",
    "a. Elabora una función que encuentre una solución particular de la ecuación de Pell mediante este algoritmo.\n",
    "\n",
    "b. Encontrar la fracción continua de $\\sqrt 7$ y una solución no trivial de $x^2-7y^2=1$.\n",
    "\n",
    "c. Encontrar una solución no trivial de $x^2-109y^2=1$."
   ]
  },
  {
   "cell_type": "code",
   "execution_count": null,
   "metadata": {},
   "outputs": [],
   "source": []
  },
  {
   "cell_type": "markdown",
   "metadata": {},
   "source": [
    "____________\n",
    "\n",
    "**Ejercicio 3.-** Construye una tabla que muestre para cada entero $d$ entre 1 y 100 que no sea un cuadrado perfecto la solución particular de la correspondiente ecuación de Pell proporcionada por el algoritmo del ejercicio  2 y la solución fundamental proporcionada por la función del ejercicio 3 de la sesión."
   ]
  },
  {
   "cell_type": "code",
   "execution_count": null,
   "metadata": {},
   "outputs": [],
   "source": []
  },
  {
   "cell_type": "markdown",
   "metadata": {},
   "source": [
    "**Observación importante.-** Si has hecho bien el ejercicio, habrás comprobado que las dos soluciones, la particular y la fundamental, coinciden en todos los casos considerados. Se puede demostrar que esto es cierto siempre. Por consiguiente, para construir la solución fundamental se puede (y se debe, pues es menos costoso) usar el algoritmo para construir la solución particular del ejercicio 2."
   ]
  },
  {
   "cell_type": "markdown",
   "metadata": {},
   "source": [
    "---------------\n",
    "**Ejercicio 4.- (Problema 94 del proyecto Euler)**\n",
    "\n",
    "Es fácil probar que no hay ningún triángulo equilátero con lados y área enteros. Sin embargo, el triángulo casi equilátero $5$-$5$-$6$ tiene área $12$.\n",
    "\n",
    "Diremos que un triángulo es casi equilátero si tiene dos lados iguales y el tercero difiere de los anteriores en no más de una unidad.\n",
    "\n",
    "_Encontrar las longitudes de los lados de todos los triángulos casi equiláteros con lados y área enteros cuyo perímetro sea menor que mil millones._\n",
    "\n",
    "Sugerencia: Si $a$, $b$ y $h$ son como en la figura, y $b=a+1$, entonces $x=(3a -1)/2$ e $y=h$  satisfacen la ecuación de Pell $x^2-3y^2=1$. Análogamente, si $b=a-1$, entonces $x=(3a +1)/2$ e $y=h$ satisfacen la misma ecuación.\n",
    "\n",
    "<img src=\"triangle.png\" width=\"150\" height=\"100\" />"
   ]
  },
  {
   "cell_type": "code",
   "execution_count": null,
   "metadata": {},
   "outputs": [],
   "source": []
  }
 ],
 "metadata": {
  "kernelspec": {
   "display_name": "SageMath 9.0",
   "language": "sage",
   "name": "sagemath"
  },
  "language_info": {
   "codemirror_mode": {
    "name": "ipython",
    "version": 3
   },
   "file_extension": ".py",
   "mimetype": "text/x-python",
   "name": "python",
   "nbconvert_exporter": "python",
   "pygments_lexer": "ipython3",
   "version": "3.7.6"
  }
 },
 "nbformat": 4,
 "nbformat_minor": 5
}
