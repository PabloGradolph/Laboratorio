{
 "cells": [
  {
   "cell_type": "markdown",
   "metadata": {},
   "source": [
    "# Laboratorio 2021-22\n",
    "\n",
    "## Sesión 13: Fracciones continuas periódicas y ecuaciones de Pell"
   ]
  },
  {
   "cell_type": "markdown",
   "metadata": {},
   "source": [
    "**Ejercicio 1.-** Elabora una función de Sagemath, _icuadtofc(irr)_, que, dado un irracional cuadrático _irr_ devuelva una lista con su expresión en fracción continua hasta completar la primera aparición del periodo, con una marca '|' inmediatamente delante del primer número del periodo. Así, por ejemplo, _icuadtofc(sqrt(11))_ devolverá _[3,'|',3,6]_, e _icuadtofc((1+sqrt(5))/2)_ devolverá _['|',1]_."
   ]
  },
  {
   "cell_type": "code",
   "execution_count": 80,
   "metadata": {},
   "outputs": [
    {
     "data": {
      "text/plain": [
       "[3, '|', 3, 6]"
      ]
     },
     "execution_count": 80,
     "metadata": {},
     "output_type": "execute_result"
    }
   ],
   "source": [
    "def icuadtofc(irr):\n",
    "    XI = [] #lista de las xi's anteriores\n",
    "    A = [] #lista de las a's.\n",
    "    xi = irr\n",
    "    a = floor(irr)\n",
    "    while xi not in XI:\n",
    "        XI.append(xi)\n",
    "        A.append(a)\n",
    "        xi = 1/(xi-a)\n",
    "        a = floor(xi)\n",
    "    A.insert(XI.index(xi),'|')\n",
    "    return A\n",
    "icuadtofc(sqrt(11))\n",
    "    \n",
    "    "
   ]
  },
  {
   "cell_type": "markdown",
   "metadata": {},
   "source": [
    "____________\n",
    "\n",
    "**Ejercicio 2.-** Elaborar un programa _fctoicuad(fc)_ que dada una fracción continua periódica, en el formato de la salida del ejercicio anterior, devuelva el correspondiente número irracional cuadratico. Encontrar, con ayuda de SageMath, el irracional cuadrático con fracción continua $[7; \\overline{2, 1, 3, 1, 2, 8}]$.\n"
   ]
  },
  {
   "cell_type": "code",
   "execution_count": 81,
   "metadata": {},
   "outputs": [],
   "source": [
    "#Usamos la función de la sesión anterior que transofrma una fracción continua en rational:\n",
    "def fc_to_rat(M):\n",
    "    L = copy(M)\n",
    "    L.reverse()\n",
    "    sol = L.pop(0)\n",
    "    for a in L:\n",
    "        sol = a + 1/sol\n",
    "    return sol\n",
    "\n"
   ]
  },
  {
   "cell_type": "code",
   "execution_count": 82,
   "metadata": {},
   "outputs": [
    {
     "data": {
      "text/plain": [
       "2/(sqrt(11) + 3) + 3"
      ]
     },
     "execution_count": 82,
     "metadata": {},
     "output_type": "execute_result"
    }
   ],
   "source": [
    "\n",
    "\n",
    "def fctoicuad(fc):\n",
    "    periodo = fc[fc.index('|')+1:]\n",
    "    anteperiodo = fc[0:fc.index('|')]\n",
    "    periodo.append(x)\n",
    "    Sol_periodo_general = solve(x == fc_to_rat(periodo),x)\n",
    "    Sol_periodo = max(j.rhs() for j in Sol_periodo_general)\n",
    "    anteperiodo.append(Sol_periodo)\n",
    "    return fc_to_rat(anteperiodo)\n",
    "\n",
    "L = icuadtofc(sqrt(11))\n",
    "fctoicuad(L)\n",
    "\n",
    "\n"
   ]
  },
  {
   "cell_type": "code",
   "execution_count": 83,
   "metadata": {},
   "outputs": [
    {
     "data": {
      "text/plain": [
       "True"
      ]
     },
     "execution_count": 83,
     "metadata": {},
     "output_type": "execute_result"
    }
   ],
   "source": [
    "# este resultado debería ser sqrt(11). ¿Quizá es otra manera de escribirlo? \n",
    "# Preguntamos a Sage si ambas expresiones son iguales:\n",
    "# (la función bool evalúa si una afirmación dada es verdadera o falsa)\n",
    "bool(fctoicuad(L) == sqrt(11))"
   ]
  },
  {
   "cell_type": "markdown",
   "metadata": {},
   "source": [
    "____________\n",
    "\n",
    "**Ejercicio 3.-** Elabora una función que dado un entero no negativo $d$ que no sea un cuadrado perfecto devuelva la solución fundamental de la correspondiente ecuación de Pell obtenida según el procedimiento descrito en el documento dentro del algoritmo de Brahmagupta. Úsala para encontrar la solución fundamental de $x^2-13y^2=1$."
   ]
  },
  {
   "cell_type": "code",
   "execution_count": 84,
   "metadata": {},
   "outputs": [
    {
     "name": "stdout",
     "output_type": "stream",
     "text": [
      "La solución fundamental es x =  649 y =  180 Lo comprobamos:x^2-13*y^2 =  1\n"
     ]
    }
   ],
   "source": [
    "def Pell_fundamental(d):\n",
    "    if d.is_square() or d<0:\n",
    "        print('El número proporcionado no es un cuadrado perfecto')\n",
    "        return 0, 0\n",
    "    a0 = floor(sqrt(d))\n",
    "    xi = 1/(sqrt(d)-a0)\n",
    "    a1 = floor(xi)\n",
    "    p0 = a0\n",
    "    p1 = a0*a1 + 1\n",
    "    q0 = 1\n",
    "    q1 = a1\n",
    "    i = 10\n",
    "    while p1^2-d*q1^2!= 1:\n",
    "        xi = 1/(xi-a1)\n",
    "        a0,a1 = a1, floor(xi)\n",
    "        p0, p1 = p1, a1*p1 + p0\n",
    "        q0, q1 = q1, a1*q1 + q0\n",
    "    return p1,q1\n",
    "\n",
    "\n",
    "a,b = Pell_fundamental(13)\n",
    "print('La solución fundamental es x = ',a,'y = ',b,'Lo comprobamos:x^2-13*y^2 = ', a^2-13*b^2)"
   ]
  },
  {
   "cell_type": "markdown",
   "metadata": {},
   "source": [
    "____________\n",
    "\n",
    "**Ejercicio 4.-** Elabora una función _Brahmagupta(d,M,N)_ que dado un número natural $d$ que no sea un cuadrado perfecto y números naturales $M$ y $N$ devuelva la solución $(x,y)$, $x,y>0$ de la correspondiente ecuación de Pell $x^2-d y^2=1$ con el menor valor de $x+y$ tal que $x\\ge M$ e $y\\ge N$. "
   ]
  },
  {
   "cell_type": "code",
   "execution_count": 89,
   "metadata": {},
   "outputs": [
    {
     "name": "stdout",
     "output_type": "stream",
     "text": [
      "649 180 1\n",
      "842401 233640 1\n"
     ]
    }
   ],
   "source": [
    "def Brahmagupta(d,M,N):\n",
    "    a,b = Pell_fundamental(d)\n",
    "    x,y = a,b\n",
    "    while x< M or y <N:\n",
    "        x,y = a*x+d*b*y, b*x+a*y\n",
    "    return x,y\n",
    "\n",
    "a,b = Brahmagupta(13,150,156)\n",
    "print(a,b,a^2-13*b^2)\n",
    "a,b = Brahmagupta(13,1500,1560)\n",
    "print(a,b,a^2-13*b^2)"
   ]
  },
  {
   "cell_type": "code",
   "execution_count": null,
   "metadata": {},
   "outputs": [],
   "source": []
  }
 ],
 "metadata": {
  "kernelspec": {
   "display_name": "SageMath 9.0",
   "language": "sage",
   "name": "sagemath"
  },
  "language_info": {
   "codemirror_mode": {
    "name": "ipython",
    "version": 3
   },
   "file_extension": ".py",
   "mimetype": "text/x-python",
   "name": "python",
   "nbconvert_exporter": "python",
   "pygments_lexer": "ipython3",
   "version": "3.7.6"
  }
 },
 "nbformat": 4,
 "nbformat_minor": 5
}
