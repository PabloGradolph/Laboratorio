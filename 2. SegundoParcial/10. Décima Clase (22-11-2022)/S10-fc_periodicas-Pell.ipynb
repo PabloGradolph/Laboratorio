{
 "cells": [
  {
   "cell_type": "markdown",
   "metadata": {},
   "source": [
    "# Laboratorio 2021-22\n",
    "\n",
    "## Sesión 13: Fracciones continuas periódicas y ecuaciones de Pell"
   ]
  },
  {
   "cell_type": "markdown",
   "metadata": {},
   "source": [
    "**Ejercicio 1.-** Elabora una función de Sagemath, _icuadtofc(irr)_, que, dado un irracional cuadrático _irr_ devuelva una lista con su expresión en fracción continua hasta completar la primera aparición del periodo, con una marca '|' inmediatamente delante del primer número del periodo. Así, por ejemplo, _icuadtofc(sqrt(11))_ devolverá _[3,'|',3,6]_, e _icuadtofc((1+sqrt(5))/2)_ devolverá _['|',1]_."
   ]
  },
  {
   "cell_type": "code",
   "execution_count": null,
   "metadata": {},
   "outputs": [],
   "source": []
  },
  {
   "cell_type": "markdown",
   "metadata": {},
   "source": [
    "____________\n",
    "\n",
    "**Ejercicio 2.-** Elaborar un programa _fctoicuad(fc)_ que dada una fracción continua periódica, en el formato de la salida del ejercicio anterior, devuelva el correspondiente número irracional cuadratico. Encontrar, con ayuda de SageMath, el irracional cuadrático con fracción continua $[7; \\overline{2, 1, 3, 1, 2, 8}]$.\n"
   ]
  },
  {
   "cell_type": "code",
   "execution_count": null,
   "metadata": {},
   "outputs": [],
   "source": []
  },
  {
   "cell_type": "markdown",
   "metadata": {},
   "source": [
    "____________\n",
    "\n",
    "**Ejercicio 3.-** Elabora una función que dado un entero no negativo $d$ que no sea un cuadrado perfecto devuelva la solución fundamental de la correspondiente ecuación de Pell obtenida según el procedimiento descrito en el documento dentro del algoritmo de Brahmagupta. Úsala para encontrar la solución fundamental de $x^2-13y^2=1$."
   ]
  },
  {
   "cell_type": "code",
   "execution_count": null,
   "metadata": {},
   "outputs": [],
   "source": []
  },
  {
   "cell_type": "markdown",
   "metadata": {},
   "source": [
    "____________\n",
    "\n",
    "**Ejercicio 4.-** Elabora una función _Brahmagupta(d,M,N)_ que dado un número natural $d$ que no sea un cuadrado perfecto y números naturales $M$ y $N$ devuelva la solución $(x,y)$, $x,y>0$ de la correspondiente ecuación de Pell $x^2-d y^2=1$ con el menor valor de $x+y$ tal que $x\\ge M$ e $y\\ge N$. "
   ]
  },
  {
   "cell_type": "code",
   "execution_count": null,
   "metadata": {},
   "outputs": [],
   "source": []
  }
 ],
 "metadata": {
  "kernelspec": {
   "display_name": "SageMath 9.0",
   "language": "sage",
   "name": "sagemath"
  },
  "language_info": {
   "codemirror_mode": {
    "name": "ipython",
    "version": 3
   },
   "file_extension": ".py",
   "mimetype": "text/x-python",
   "name": "python",
   "nbconvert_exporter": "python",
   "pygments_lexer": "ipython3",
   "version": "3.7.6"
  }
 },
 "nbformat": 4,
 "nbformat_minor": 5
}
