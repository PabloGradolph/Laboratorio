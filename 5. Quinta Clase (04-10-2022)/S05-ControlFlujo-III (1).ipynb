{
 "cells": [
  {
   "cell_type": "markdown",
   "metadata": {},
   "source": [
    "# LABORATORIO 2021-22\n",
    "\n",
    "## Sesión 5: Control de flujo III"
   ]
  },
  {
   "cell_type": "markdown",
   "metadata": {},
   "source": [
    "________________\n",
    "________________\n",
    "\n",
    "**Ejercicio 1 (Números amigos)** \n",
    "\n",
    "Definimos $d(n)$ como la suma de los divisores propios de $n$ (números menores  que $n$ que dividen a $n$). Si $d(a)=b$ y $d(b)=a$, con $a\\neq b$, entonces $a$ y $b$ son un par de números amigos. Un número es amigo si\n",
    "forma parte de un par de números amigos.\n",
    "\n",
    "Por ejemplo, los divisores propios de 220 son 1, 2, 4, 5, 10, 11, 20, 22, 44, 55 y 110; por consiguiente $d(220)=284$. Los divisores propios de 284 son 1, 2, 4, 71 y 142; por lo tanto, $d(284)=220$. En\n",
    "consecuencia, tanto 220 como 284 son números amigos (y forman un par de números amigos).\n",
    "\n",
    "> **a)** Definir una función, de nombre $\\texttt{es}\\_\\texttt{amigo}$, que dado un entero no negativo $a$ devuelva $\\texttt{True}$ si $a$\n",
    "es un número amigo y $\\texttt{False}$ si no lo es.\n",
    "\n",
    "> **b)** Calcular la suma de todos los números amigos menores que 10000. *Solución:* 31626."
   ]
  },
  {
   "cell_type": "markdown",
   "metadata": {},
   "source": [
    "_____________________\n"
   ]
  },
  {
   "cell_type": "code",
   "execution_count": 1,
   "metadata": {},
   "outputs": [
    {
     "name": "stdin",
     "output_type": "stream",
     "text": [
      "Introduzca un número:  220\n"
     ]
    },
    {
     "name": "stdout",
     "output_type": "stream",
     "text": [
      "El número 220 es un número amigo.\n",
      "Su número amigo es 284.\n"
     ]
    }
   ],
   "source": [
    "def es_amigo(a):\n",
    "    amigo = (sum(divisors(a)) - a)\n",
    "    if (a == (sum(divisors(amigo)) - amigo)) and (a != amigo):\n",
    "        return True\n",
    "    else:\n",
    "        return False\n",
    "\n",
    "while True:\n",
    "    a = int(input(\"Introduzca un número: \"))\n",
    "    if a <= 0:\n",
    "        print(\"Por favor introduzca un número positivo.\")\n",
    "    else:\n",
    "        amigo = es_amigo(a)\n",
    "        if amigo == True:\n",
    "            print(f\"El número {a} es un número amigo.\")\n",
    "            print(f\"Su número amigo es {sum(divisors(a)) - a}.\")\n",
    "        else:\n",
    "            print(f\"El número {a} no es un número amigo.\")\n",
    "        break"
   ]
  },
  {
   "cell_type": "code",
   "execution_count": 2,
   "metadata": {},
   "outputs": [
    {
     "name": "stdout",
     "output_type": "stream",
     "text": [
      "La suma de todos los números amigos hasta el 10000 es igual a: 31626.\n",
      "[220, 284, 1184, 1210, 2620, 2924, 5020, 5564, 6232, 6368]\n"
     ]
    }
   ],
   "source": [
    "lista_amigos = []\n",
    "suma = 0\n",
    "for i in range(2, 10001):\n",
    "    valor = es_amigo(i)\n",
    "    if valor == True:\n",
    "        lista_amigos.append(i)\n",
    "        num = sum(divisors(i)) - i\n",
    "        suma += num\n",
    "    else:\n",
    "        continue\n",
    "\n",
    "print(f\"La suma de todos los números amigos hasta el 10000 es igual a: {suma}.\")\n",
    "print(lista_amigos)"
   ]
  },
  {
   "cell_type": "markdown",
   "metadata": {},
   "source": [
    "_____________________\n",
    "_____________________\n",
    "\n",
    "**Ejercicio 2 (Persistencia aditiva)**  \n",
    "\n",
    "Si sumamos todas las cifras de un número, y luego todas las cifras de la suma, y continuamos hasta\n",
    "lograr un número de una sola cifra, obtenemos la raíz digital del número inicial. La persistencia aditiva\n",
    "de un número es la cantidad de pasos que hay que dar hasta obtener un único dígito. Si un número tiene\n",
    "una sola cifra, coincide con su raíz digital, y su persistencia aditiva es 0.\n",
    "\n",
    "*Ejemplos:*\n",
    "\n",
    "- 627615 tiene persistencia aditiva 2 y raíz digital 9;\n",
    "- 39390 tiene persistencia aditiva 2 y raíz digital 6;\n",
    "- 393900588225 tiene persistencia aditiva 2 y raíz digital 9;\n",
    "- 199 tiene persistencia aditiva 3 y raíz digital 1.\n",
    "\n",
    "> **a)** Elaborar un programa, de nombre $\\texttt{raizdig}\\_\\texttt{persadit}$, que dado un entero no negativo $\\texttt{k}$ devuelva su raíz digital y su persistencia aditiva, en este orden. Asi, tras ejecutar\n",
    "$$\n",
    "\\texttt{rd,pad=raizdig}\\_\\texttt{persadit(k)}\n",
    "$$\n",
    "las variables $\\verb=rd=$ y $\\verb=pad=$ contendrán, respectivamente, la raíz digital y la persistencia aditiva de $\\verb=k=$.\n",
    "\n",
    "> **b)** Calcular la suma de los cien mil primeros números que tienen persistencia aditiva mayor o igual\n",
    "que 3. *Solución:*  31575750690.\n",
    "\n",
    "*Observación:* Puede ser útil la instrucción $\\texttt{a.digits(b)}$, que  devuelve los dígitos en base $\\texttt{b}$ del número $\\texttt{a}$. La variable $\\texttt{b}$ toma por defecto el valor $10$."
   ]
  },
  {
   "cell_type": "markdown",
   "metadata": {},
   "source": [
    "_____________________\n"
   ]
  },
  {
   "cell_type": "code",
   "execution_count": 3,
   "metadata": {},
   "outputs": [
    {
     "name": "stdin",
     "output_type": "stream",
     "text": [
      "Introduzca un número:  17\n"
     ]
    },
    {
     "name": "stdout",
     "output_type": "stream",
     "text": [
      "La raíz digital es: 8.\n",
      "La persistencia aditiva es: 1.\n"
     ]
    }
   ],
   "source": [
    "def raizdig_persadit(k):\n",
    "    pad = 0\n",
    "    rd = k\n",
    "    while rd > 9:\n",
    "        rd = sum(rd.digits(10))\n",
    "        pad += 1\n",
    "    return rd, pad      \n",
    "\n",
    "k = Integer(input(\"Introduzca un número: \"))\n",
    "rd, pad = raizdig_persadit(k)\n",
    "print(f\"La raíz digital es: {rd}.\")\n",
    "print(f\"La persistencia aditiva es: {pad}.\")"
   ]
  },
  {
   "cell_type": "code",
   "execution_count": 4,
   "metadata": {},
   "outputs": [
    {
     "name": "stdout",
     "output_type": "stream",
     "text": [
      "31575750690\n"
     ]
    }
   ],
   "source": [
    "# Sage tarda demasiado en hacer esto, como para ver si el resultado es correcto o no.\n",
    "sumatorio = 0\n",
    "a = 1\n",
    "contador = 0\n",
    "while contador < 100000:\n",
    "    if raizdig_persadit(a)[1] >= 3:\n",
    "        sumatorio += a\n",
    "        contador += 1\n",
    "    a += 1\n",
    "\n",
    "print(sumatorio)\n"
   ]
  },
  {
   "cell_type": "markdown",
   "metadata": {},
   "source": [
    "____________________\n",
    "____________________\n",
    "\n",
    "**Ejercicio 3 (Conjetura de Goldbach)**\n",
    "\n",
    "Según una vieja conjetura, aún no demostrada, formulada por Christian Goldbach en 1742,\n",
    "\n",
    "$$\n",
    "\\text{''Todo número par mayor que 2 puede escribirse como suma de dos números primos''.}\n",
    "$$\n",
    "\n",
    "Así, por ejemplo, $4=2+2$, $6=3+3$, $28=5+23=11+17$, ...\n",
    "\n",
    "En este ejercicio se pide elaborar unos programas destinados a comprobar la validez de la conjetura hasta un valor dado.  Para este fin pueden ser útiles las funciones $\\texttt{prime}\\_\\texttt{range}$, $\\texttt{is}\\_\\texttt{prime}$ y $\\texttt{next}\\_\\texttt{prime}$.\n",
    "\n",
    "> **a)** Crea una función de Sage, de nombre $\\texttt{descomposicion}\\_\\texttt{Goldbach}$, que, dado un número entero $a$ mayor que 2, devuelva una lista con todas las parejas distintas de primos cuya suma es $a$. Por ejemplo, $\\texttt{descomposicion}\\_\\texttt{Goldbach(28)}$ debería devolver la lista $\\texttt{[[5, 23], [11, 17]]}$.\n",
    "\n",
    "\n",
    "> **b)** Crea una función de Sage, de nombre $\\texttt{is}\\_\\texttt{Goldbach}$, que, dado un número entero mayor que 2, decida si es verdad o no que el número se puede escribir como suma de dos primos. Así, por ejemplo,  $\\texttt{is}\\_\\texttt{Goldbach(28)}$ y $\\texttt{is}\\_\\texttt{Goldbach(33)}$ deberían devolver $\\texttt{True}$ y en cambio $\\texttt{is}\\_\\texttt{Goldbach(27)}$ debería devolver  $\\texttt{False}$.\n",
    "\n",
    "\n",
    "> **c)**  Finalmente, construye una función de Sage, de nombre $\\texttt{Goldbach}$, que, dado un número entero $a$ mayor que 2, decida si es verdad o no que todos los números pares mayores que 2 y menores o iguales que $a$ se pueden escribir como la suma de dos primos. Obviamente,\n",
    "esperamos que $\\texttt{Goldbach(a)}$ devuelva $\\texttt{True}$ para cualquier valor de $a$."
   ]
  },
  {
   "cell_type": "markdown",
   "metadata": {},
   "source": [
    "____________________\n"
   ]
  },
  {
   "cell_type": "code",
   "execution_count": 5,
   "metadata": {},
   "outputs": [
    {
     "name": "stdin",
     "output_type": "stream",
     "text": [
      "Introduzca un número:  28\n"
     ]
    },
    {
     "name": "stdout",
     "output_type": "stream",
     "text": [
      "[[5, 23], [11, 17]]\n"
     ]
    }
   ],
   "source": [
    "def descomposicion_Goldbach(a):\n",
    "    primos = prime_range(a)\n",
    "    parejas = []\n",
    "    for i in primos:\n",
    "        for j in primos:\n",
    "            if (a==(i+j)):\n",
    "                pareja = [i, j]\n",
    "                parejas.append(pareja)\n",
    "                primos.remove(j)\n",
    "    print(parejas)  \n",
    "    \n",
    "a = Integer(input(\"Introduzca un número: \"))\n",
    "while a<3:\n",
    "    a = Integer(input(\"Introduzca un número mayor que 2: \"))\n",
    "descomposicion_Goldbach(a)"
   ]
  },
  {
   "cell_type": "code",
   "execution_count": 15,
   "metadata": {},
   "outputs": [
    {
     "name": "stdin",
     "output_type": "stream",
     "text": [
      "Introduzca un número:  27\n"
     ]
    },
    {
     "name": "stdout",
     "output_type": "stream",
     "text": [
      "El valor 27 no se puede escribir como suma de dos primos.\n"
     ]
    }
   ],
   "source": [
    "def is_Goldbach(a):\n",
    "    primos = prime_range(a)\n",
    "    parejas = []\n",
    "    for i in primos:\n",
    "        for j in primos:\n",
    "            if (a==(i+j)):\n",
    "                pareja = [i, j]\n",
    "                parejas.append(pareja)\n",
    "                primos.remove(j)\n",
    "    if len(parejas) < 1:\n",
    "        return False\n",
    "    else:\n",
    "        return True\n",
    "    \n",
    "a = Integer(input(\"Introduzca un número: \"))\n",
    "while a<3:\n",
    "    a = Integer(input(\"Introduzca un número mayor que 2: \"))\n",
    "valor = is_Goldbach(a)\n",
    "if valor == True:\n",
    "    print(f\"El valor {a} se puede escribir como suma de dos primos.\")\n",
    "else:\n",
    "    print(f\"El valor {a} no se puede escribir como suma de dos primos.\")\n"
   ]
  },
  {
   "cell_type": "code",
   "execution_count": 16,
   "metadata": {},
   "outputs": [
    {
     "name": "stdin",
     "output_type": "stream",
     "text": [
      "Introduzca un número:  27\n"
     ]
    },
    {
     "name": "stdout",
     "output_type": "stream",
     "text": [
      "Todos los números pares desde 2 hasta 27 se pueden escribir como suma de dos primos.\n"
     ]
    }
   ],
   "source": [
    "def Goldbach(a):\n",
    "    for i in range(2, a, 2):\n",
    "        if i == 2:\n",
    "            continue\n",
    "        if (is_Goldbach(i)==True):\n",
    "            continue\n",
    "        else:\n",
    "            # Nunca vamos a retornar False ya que para cualquier número par is_Goldbach(i) retorna un True.\n",
    "            return False\n",
    "    return True\n",
    "    \n",
    "a = Integer(input(\"Introduzca un número: \"))\n",
    "while a<3:\n",
    "    a = Integer(input(\"Introduzca un número mayor que 2: \"))\n",
    "valor = Goldbach(a)\n",
    "if valor == True:\n",
    "    print(f\"Todos los números pares desde 2 hasta {a} se pueden escribir como suma de dos primos.\")\n",
    "else: \n",
    "    # En ningún caso se ejecuta esta parte.\n",
    "    print(f\"No todos los pares desde 2 hasta {a} se pueden escribir como suma de dos primos.\")"
   ]
  }
 ],
 "metadata": {
  "kernelspec": {
   "display_name": "SageMath 9.0",
   "language": "sage",
   "name": "sagemath"
  },
  "language_info": {
   "codemirror_mode": {
    "name": "ipython",
    "version": 3
   },
   "file_extension": ".py",
   "mimetype": "text/x-python",
   "name": "python",
   "nbconvert_exporter": "python",
   "pygments_lexer": "ipython3",
   "version": "3.7.6"
  }
 },
 "nbformat": 4,
 "nbformat_minor": 4
}
